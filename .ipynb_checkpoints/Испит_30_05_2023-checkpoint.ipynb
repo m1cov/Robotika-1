{
 "cells": [
  {
   "cell_type": "markdown",
   "id": "d119c802-afd2-4469-b463-48e1bb11a98c",
   "metadata": {},
   "source": [
    "## Решение на Втор колоквиум Р1 30.05.2023\n",
    "Одете во папката `exams` за да го отворите испитот."
   ]
  },
  {
   "cell_type": "markdown",
   "id": "a46d981d-77d4-4df6-be66-f9680b014cbe",
   "metadata": {},
   "source": [
    "### Задача 1\n",
    "\n",
    "Насоки за решавање:\n",
    "1. Напревете DH модел на роботот од сликата.\n",
    "2. Најдете го јакобијанот, ама издвојте ги само првите две редици бидејќи ја разгледуваме рамнината XY.\n",
    "3. Најдете ја детерминаната на отсечениот J, и видете за кои вредност ќе биде 0. Скицирајте пример за тие вредности."
   ]
  },
  {
   "cell_type": "code",
   "execution_count": 1,
   "id": "2d39a7a3-96e0-4505-ba30-88817f6538e2",
   "metadata": {},
   "outputs": [],
   "source": [
    "import sympy as sp\n",
    "from sympy.physics import mechanics\n",
    "import script as rt"
   ]
  },
  {
   "cell_type": "code",
   "execution_count": 2,
   "id": "09b1f4b5-4a7c-4b0c-a025-2d44d3e8440b",
   "metadata": {},
   "outputs": [],
   "source": [
    "t = sp.symbols('t')\n",
    "mechanics.init_vprinting()  # за да скрати печатењето на (t) кај променливите кои зависат од времето"
   ]
  },
  {
   "cell_type": "code",
   "execution_count": 3,
   "id": "7f02959f-6845-46f4-9793-7f67fef2aad3",
   "metadata": {},
   "outputs": [
    {
     "data": {
      "application/vnd.jupyter.widget-view+json": {
       "model_id": "d3186793ddab4b9c8751f1a9abe44936",
       "version_major": 2,
       "version_minor": 0
      },
      "text/plain": [
       "VBox(children=(HBox(children=(ToggleButton(value=True, description='Исклучи цртање'), Button(description='Пром…"
      ]
     },
     "execution_count": 3,
     "metadata": {},
     "output_type": "execute_result"
    }
   ],
   "source": [
    "theta1, theta2 = mechanics.dynamicsymbols('theta1, theta2')\n",
    "l1, l2 = sp.symbols('l1, l2')\n",
    "robot = rt.SerialLinkRobot()\n",
    "robot.add_revolute_joint(theta1, l1, 0, sp.pi/2)\n",
    "robot.add_revolute_joint(theta2, 0, l2, sp.pi/2)\n",
    "robot.add_subs([(l1, 1), (l2, 1)])\n",
    "robot.interact()"
   ]
  },
  {
   "cell_type": "code",
   "execution_count": 4,
   "id": "01941067-9598-4653-adcb-4ac9ce545fc0",
   "metadata": {},
   "outputs": [
    {
     "data": {
      "text/latex": [
       "$\\displaystyle \\left[\\begin{matrix}- l_{2} \\sin{\\left(\\theta_{1} \\right)} \\cos{\\left(\\theta_{2} \\right)} & - l_{2} \\sin{\\left(\\theta_{2} \\right)} \\cos{\\left(\\theta_{1} \\right)}\\\\l_{2} \\cos{\\left(\\theta_{1} \\right)} \\cos{\\left(\\theta_{2} \\right)} & - l_{2} \\sin{\\left(\\theta_{1} \\right)} \\sin{\\left(\\theta_{2} \\right)}\\\\0 & l_{2} \\cos{\\left(\\theta_{2} \\right)}\\end{matrix}\\right]$"
      ],
      "text/plain": [
       "⎡-l₂⋅sin(θ₁)⋅cos(θ₂)  -l₂⋅sin(θ₂)⋅cos(θ₁)⎤\n",
       "⎢                                        ⎥\n",
       "⎢l₂⋅cos(θ₁)⋅cos(θ₂)   -l₂⋅sin(θ₁)⋅sin(θ₂)⎥\n",
       "⎢                                        ⎥\n",
       "⎣         0               l₂⋅cos(θ₂)     ⎦"
      ]
     },
     "execution_count": 4,
     "metadata": {},
     "output_type": "execute_result"
    }
   ],
   "source": [
    "Jv = robot.linear_jacobian()\n",
    "Jv"
   ]
  },
  {
   "cell_type": "code",
   "execution_count": 5,
   "id": "e415cfc0-bfb7-4bde-9f5f-6793356ee605",
   "metadata": {},
   "outputs": [
    {
     "data": {
      "text/latex": [
       "$\\displaystyle \\frac{l_{2}^{2} \\sin{\\left(2 \\theta_{2} \\right)}}{2}$"
      ],
      "text/plain": [
       "  2          \n",
       "l₂ ⋅sin(2⋅θ₂)\n",
       "─────────────\n",
       "      2      "
      ]
     },
     "execution_count": 5,
     "metadata": {},
     "output_type": "execute_result"
    }
   ],
   "source": [
    "Jv[:2, :].det().simplify()"
   ]
  },
  {
   "cell_type": "markdown",
   "id": "6ef81fe1-857c-4120-bbfd-56b0bbd0c7a1",
   "metadata": {},
   "source": [
    "### Задача 2\n",
    "\n",
    "Насоки за решавање на 2.1:\n",
    "1. Најдете ги локациите на тежиштата.\n",
    "2. Пресметајте ги кинечките енергии.\n",
    "3. Пресметајте ги потенцијалните енергии.\n",
    "4. Употребете ја равенката за лагранжијан."
   ]
  },
  {
   "cell_type": "code",
   "execution_count": 6,
   "id": "0e7b46ee-f3bc-4ff3-b298-950669a4042a",
   "metadata": {},
   "outputs": [],
   "source": [
    "m1, m2, g = sp.symbols('m1, m2, g')"
   ]
  },
  {
   "cell_type": "code",
   "execution_count": 7,
   "id": "e5998b3f-540a-401f-9207-1e14223d6708",
   "metadata": {},
   "outputs": [
    {
     "data": {
      "text/latex": [
       "$\\displaystyle \\left[\\begin{matrix}\\cos{\\left(\\theta_{1} \\right)} \\cos{\\left(\\theta_{2} \\right)} & \\sin{\\left(\\theta_{1} \\right)} & \\sin{\\left(\\theta_{2} \\right)} \\cos{\\left(\\theta_{1} \\right)} & l_{2} \\cos{\\left(\\theta_{1} \\right)} \\cos{\\left(\\theta_{2} \\right)}\\\\\\sin{\\left(\\theta_{1} \\right)} \\cos{\\left(\\theta_{2} \\right)} & - \\cos{\\left(\\theta_{1} \\right)} & \\sin{\\left(\\theta_{1} \\right)} \\sin{\\left(\\theta_{2} \\right)} & l_{2} \\sin{\\left(\\theta_{1} \\right)} \\cos{\\left(\\theta_{2} \\right)}\\\\\\sin{\\left(\\theta_{2} \\right)} & 0 & - \\cos{\\left(\\theta_{2} \\right)} & l_{1} + l_{2} \\sin{\\left(\\theta_{2} \\right)}\\\\0 & 0 & 0 & 1\\end{matrix}\\right]$"
      ],
      "text/plain": [
       "⎡cos(θ₁)⋅cos(θ₂)  sin(θ₁)   sin(θ₂)⋅cos(θ₁)  l₂⋅cos(θ₁)⋅cos(θ₂)⎤\n",
       "⎢                                                              ⎥\n",
       "⎢sin(θ₁)⋅cos(θ₂)  -cos(θ₁)  sin(θ₁)⋅sin(θ₂)  l₂⋅sin(θ₁)⋅cos(θ₂)⎥\n",
       "⎢                                                              ⎥\n",
       "⎢    sin(θ₂)         0         -cos(θ₂)       l₁ + l₂⋅sin(θ₂)  ⎥\n",
       "⎢                                                              ⎥\n",
       "⎣       0            0             0                 1         ⎦"
      ]
     },
     "execution_count": 7,
     "metadata": {},
     "output_type": "execute_result"
    }
   ],
   "source": [
    "robot.get_dh_matrix()"
   ]
  },
  {
   "cell_type": "markdown",
   "id": "fb79e4cb-3b25-4704-8876-cfd82aef7ab4",
   "metadata": {},
   "source": [
    "Првото тежиште е на позиција [0, 0, l1/2] и не зависи од времето. Ова значи дека точката не ја менува својата позиција, одосно нема брзина, па има 0 кинетичка енергија. За секој случај еве код каде што и sympy вели дека кинетичката енергија е 0."
   ]
  },
  {
   "cell_type": "code",
   "execution_count": 8,
   "id": "88092194-2b11-41a4-a09a-32d76fb304ef",
   "metadata": {},
   "outputs": [
    {
     "data": {
      "text/latex": [
       "$\\displaystyle \\left[\\begin{matrix}0\\\\0\\\\\\frac{l_{1}}{2}\\end{matrix}\\right]$"
      ],
      "text/plain": [
       "⎡0 ⎤\n",
       "⎢  ⎥\n",
       "⎢0 ⎥\n",
       "⎢  ⎥\n",
       "⎢l₁⎥\n",
       "⎢──⎥\n",
       "⎣2 ⎦"
      ]
     },
     "execution_count": 8,
     "metadata": {},
     "output_type": "execute_result"
    }
   ],
   "source": [
    "p1_1 = robot.get_dh_joint_to_joint(0, 0)[:3, 3] \n",
    "p1_2 = robot.get_dh_joint_to_joint(0, 1)[:3, 3]\n",
    "p1 = p1_1 + (p1_2 - p1_1) / 2\n",
    "p1"
   ]
  },
  {
   "cell_type": "code",
   "execution_count": 11,
   "id": "35a6a13a-5361-4451-8b7d-adb6b4ae270d",
   "metadata": {},
   "outputs": [
    {
     "data": {
      "text/latex": [
       "$\\displaystyle 0$"
      ],
      "text/plain": [
       "0"
      ]
     },
     "execution_count": 11,
     "metadata": {},
     "output_type": "execute_result"
    }
   ],
   "source": [
    "v1 = p1.diff(t)\n",
    "v1_squared = v1.dot(v1).simplify()\n",
    "K1 = m1 * v1_squared / 2\n",
    "K1"
   ]
  },
  {
   "cell_type": "markdown",
   "id": "4815c3a0-0eea-4a12-8b20-1d17ebeb585c",
   "metadata": {},
   "source": [
    "Второто тежиште е на средина на кракот l2, па ќе го најдеме како средина помеѓу центарот на вториот зглоб според DH и извршната точка."
   ]
  },
  {
   "cell_type": "code",
   "execution_count": 12,
   "id": "c75b158b-d76e-4845-8d84-52bce8248e1d",
   "metadata": {},
   "outputs": [
    {
     "data": {
      "text/latex": [
       "$\\displaystyle \\left[\\begin{matrix}\\frac{l_{2} \\cos{\\left(\\theta_{1} \\right)} \\cos{\\left(\\theta_{2} \\right)}}{2}\\\\\\frac{l_{2} \\sin{\\left(\\theta_{1} \\right)} \\cos{\\left(\\theta_{2} \\right)}}{2}\\\\l_{1} + \\frac{l_{2} \\sin{\\left(\\theta_{2} \\right)}}{2}\\end{matrix}\\right]$"
      ],
      "text/plain": [
       "⎡l₂⋅cos(θ₁)⋅cos(θ₂)⎤\n",
       "⎢──────────────────⎥\n",
       "⎢        2         ⎥\n",
       "⎢                  ⎥\n",
       "⎢l₂⋅sin(θ₁)⋅cos(θ₂)⎥\n",
       "⎢──────────────────⎥\n",
       "⎢        2         ⎥\n",
       "⎢                  ⎥\n",
       "⎢      l₂⋅sin(θ₂)  ⎥\n",
       "⎢ l₁ + ──────────  ⎥\n",
       "⎣          2       ⎦"
      ]
     },
     "execution_count": 12,
     "metadata": {},
     "output_type": "execute_result"
    }
   ],
   "source": [
    "p2_1 = robot.get_dh_joint_to_joint(0, 1)[:3, 3] \n",
    "p2_2 = robot.get_dh_joint_to_joint(0, 2)[:3, 3]\n",
    "p2 = p2_1 + (p2_2 - p2_1) / 2\n",
    "p2"
   ]
  },
  {
   "cell_type": "code",
   "execution_count": 13,
   "id": "61e8dd4c-4fb7-4c9d-82b4-8c1aa9795d55",
   "metadata": {},
   "outputs": [
    {
     "data": {
      "text/latex": [
       "$\\displaystyle \\frac{l_{2}^{2} m_{2} \\left(\\cos^{2}{\\left(\\theta_{2} \\right)} \\dot{\\theta}_{1}^{2} + \\dot{\\theta}_{2}^{2}\\right)}{8}$"
      ],
      "text/plain": [
       "  2    ⎛   2       2     2⎞\n",
       "l₂ ⋅m₂⋅⎝cos (θ₂)⋅θ₁̇  + θ₂̇ ⎠\n",
       "───────────────────────────\n",
       "             8             "
      ]
     },
     "execution_count": 13,
     "metadata": {},
     "output_type": "execute_result"
    }
   ],
   "source": [
    "v2 = p2.diff(t)\n",
    "v2_squared = v2.dot(v2).simplify()\n",
    "K2 = m2 * v2_squared / 2\n",
    "K2"
   ]
  },
  {
   "cell_type": "markdown",
   "id": "2cfa6916-73f9-480e-8214-c150d09ed2c5",
   "metadata": {},
   "source": [
    "За потенцијалната, ќе ги искористиме вредностите на тежиштата p1 и p2 по оската z (види го цртежот каде е z)."
   ]
  },
  {
   "cell_type": "code",
   "execution_count": 14,
   "id": "d35d660a-6563-47ba-8af0-a8b31da2b3c9",
   "metadata": {},
   "outputs": [
    {
     "data": {
      "text/latex": [
       "$\\displaystyle \\left( 0, \\  \\frac{g l_{2} m_{2} \\sin{\\left(\\theta_{1} \\right)} \\cos{\\left(\\theta_{2} \\right)}}{2}\\right)$"
      ],
      "text/plain": [
       "⎛   g⋅l₂⋅m₂⋅sin(θ₁)⋅cos(θ₂)⎞\n",
       "⎜0, ───────────────────────⎟\n",
       "⎝              2           ⎠"
      ]
     },
     "execution_count": 14,
     "metadata": {},
     "output_type": "execute_result"
    }
   ],
   "source": [
    "P1 = m1 * g * p1[1]\n",
    "P2 = m2 * g * p2[1]\n",
    "P1, P2"
   ]
  },
  {
   "cell_type": "code",
   "execution_count": 15,
   "id": "cf772cb6-597d-4b0e-9bd3-8edde0e2efd2",
   "metadata": {},
   "outputs": [
    {
     "data": {
      "text/latex": [
       "$\\displaystyle \\left( \\left[\\begin{matrix}\\frac{l_{2}^{2} m_{2} \\cos^{2}{\\left(\\theta_{2} \\right)} \\ddot{\\theta}_{1}}{4} & 0\\\\0 & \\frac{l_{2}^{2} m_{2} \\ddot{\\theta}_{2}}{4}\\end{matrix}\\right], \\  \\left[\\begin{matrix}0 & - \\frac{l_{2}^{2} m_{2} \\sin{\\left(2 \\theta_{2} \\right)} \\dot{\\theta}_{1} \\dot{\\theta}_{2}}{4} & 0\\\\\\frac{l_{2}^{2} m_{2} \\sin{\\left(2 \\theta_{2} \\right)} \\dot{\\theta}_{1}^{2}}{8} & 0 & 0\\end{matrix}\\right], \\  \\left[\\begin{matrix}0\\\\0\\end{matrix}\\right]\\right)$"
      ],
      "text/plain": [
       "⎛⎡  2       2                  ⎤  ⎡                         2       \n",
       "⎜⎢l₂ ⋅m₂⋅cos (θ₂)⋅θ₁̈           ⎥  ⎢                      -l₂ ⋅m₂⋅si\n",
       "⎜⎢──────────────────      0    ⎥  ⎢         0            ───────────\n",
       "⎜⎢        4                    ⎥  ⎢                                 \n",
       "⎜⎢                             ⎥, ⎢                                 \n",
       "⎜⎢                      2      ⎥  ⎢  2                2             \n",
       "⎜⎢                    l₂ ⋅m₂⋅θ₂̈⎥  ⎢l₂ ⋅m₂⋅sin(2⋅θ₂)⋅θ₁̇            \n",
       "⎜⎢        0           ─────────⎥  ⎢────────────────────             \n",
       "⎝⎣                        4    ⎦  ⎣         8                       \n",
       "\n",
       "                ⎤     ⎞\n",
       "n(2⋅θ₂)⋅θ₁̇⋅θ₂̇    ⎥     ⎟\n",
       "─────────────  0⎥     ⎟\n",
       "4               ⎥  ⎡0⎤⎟\n",
       "                ⎥, ⎢ ⎥⎟\n",
       "                ⎥  ⎣0⎦⎟\n",
       "                  ⎥     ⎟\n",
       "0              0⎥     ⎟\n",
       "                ⎦     ⎠"
      ]
     },
     "execution_count": 15,
     "metadata": {},
     "output_type": "execute_result"
    }
   ],
   "source": [
    "K = K1 + K2\n",
    "P = P1 + P1\n",
    "rt.dynamic_model_with_3_matrices(K - P, [theta1, theta2])"
   ]
  },
  {
   "cell_type": "markdown",
   "id": "0ebf2fbc-6b16-4eb6-bbb5-0f3eaff8e7bc",
   "metadata": {},
   "source": [
    "Насоки за решавање на 2.2:\n",
    "1. Дефинирајте го векторот на сила.\n",
    "2. Пресметајте ги моментите на сила на моторите."
   ]
  },
  {
   "cell_type": "markdown",
   "id": "f3a337db-0b0b-467d-976f-e1b0706f3f06",
   "metadata": {},
   "source": [
    "Столчето е 5 kg или пак околу 50N спротивно по z оската, па раката треба да создаде 50N сила по z оската. За раката да е максимално испружена theta2 = 0 или theta2 = pi, а theta1 не е важно, работи за сите агли."
   ]
  },
  {
   "cell_type": "code",
   "execution_count": 16,
   "id": "8130c34a-352e-4013-9e6d-b7df618e523a",
   "metadata": {},
   "outputs": [
    {
     "data": {
      "text/latex": [
       "$\\displaystyle \\left[\\begin{matrix}0\\\\50 l_{2}\\end{matrix}\\right]$"
      ],
      "text/plain": [
       "⎡  0  ⎤\n",
       "⎢     ⎥\n",
       "⎣50⋅l₂⎦"
      ]
     },
     "execution_count": 16,
     "metadata": {},
     "output_type": "execute_result"
    }
   ],
   "source": [
    "F = sp.Matrix([0, 0, 50])\n",
    "Jv = robot.linear_jacobian().subs(theta1, 0).subs(theta2, 0)\n",
    "T = Jv.T * F\n",
    "T"
   ]
  },
  {
   "cell_type": "markdown",
   "id": "0e2e13d8-2177-4a70-8e0b-d94f03bf42a2",
   "metadata": {},
   "source": [
    "Одговорот зависи од l2 бидејќи потешко е да се држи товарот колку товарот е подалеку од оската на ротација на зглобот кој го држи товарот."
   ]
  },
  {
   "cell_type": "markdown",
   "id": "00fcb738-27ef-4714-a225-b2c854a6796a",
   "metadata": {},
   "source": [
    "### Задача 3\n",
    "\n",
    "Насоки за решавање:\n",
    "1. Користиме симболичка променлива за времетраењето tf за да добиеме равенка која зависи од tf.\n",
    "2. Ќе го најдеме забрзувањето и ќе го ограничиме на некоја максимална вредност. Ова е полином од трети степен, па максималните забрзувања се јавуваат на почетокот и на крајот од движењето."
   ]
  },
  {
   "cell_type": "code",
   "execution_count": 17,
   "id": "1f2e04ad-2385-402d-af5f-a8a8f75b61ef",
   "metadata": {},
   "outputs": [
    {
     "data": {
      "text/latex": [
       "$\\displaystyle \\left( - \\frac{720 t^{3}}{t_{f}^{3}} + \\frac{1080 t^{2}}{t_{f}^{2}}, \\  \\left\\{\\left( 0, \\  0, \\  \\frac{1080}{t_{f}^{2}}, \\  - \\frac{720}{t_{f}^{3}}\\right)\\right\\}\\right)$"
      ],
      "text/plain": [
       "⎛       3         2                       ⎞\n",
       "⎜  720⋅t    1080⋅t   ⎧⎛      1080  -720 ⎞⎫⎟\n",
       "⎜- ────── + ───────, ⎪⎜0, 0, ────, ─────⎟⎪⎟\n",
       "⎜      3         2   ⎨⎜         2      3⎟⎬⎟\n",
       "⎜   t_f       t_f    ⎪⎝      t_f    t_f ⎠⎪⎟\n",
       "⎝                    ⎩                   ⎭⎠"
      ]
     },
     "execution_count": 17,
     "metadata": {},
     "output_type": "execute_result"
    }
   ],
   "source": [
    "ti, tf = 0, sp.symbols('t_f', positive=True)\n",
    "theta, solution = rt.trajectory_polynomial_3(ti, tf, xi=0, xf=360, vi=0, vf=0)\n",
    "theta, solution"
   ]
  },
  {
   "cell_type": "code",
   "execution_count": 18,
   "id": "825c75ef-b021-4489-9ec3-9ffa7c6e8788",
   "metadata": {},
   "outputs": [
    {
     "data": {
      "text/latex": [
       "$\\displaystyle \\frac{2160 \\left(- \\frac{2 t}{t_{f}} + 1\\right)}{t_{f}^{2}}$"
      ],
      "text/plain": [
       "     ⎛  2⋅t    ⎞\n",
       "2160⋅⎜- ─── + 1⎟\n",
       "     ⎝  t_f    ⎠\n",
       "────────────────\n",
       "         2      \n",
       "      t_f       "
      ]
     },
     "execution_count": 18,
     "metadata": {},
     "output_type": "execute_result"
    }
   ],
   "source": [
    "atheta = theta.diff(t, 2)\n",
    "atheta"
   ]
  },
  {
   "cell_type": "code",
   "execution_count": 19,
   "id": "170c38f5-7b72-47b4-8573-bc2f9dad1c4a",
   "metadata": {},
   "outputs": [
    {
     "data": {
      "text/latex": [
       "$\\displaystyle \\left[ - 12 \\sqrt{15} \\sqrt{- \\frac{1}{a_{max}}}, \\  12 \\sqrt{15} \\sqrt{- \\frac{1}{a_{max}}}\\right]$"
      ],
      "text/plain": [
       "⎡            ______             ______⎤\n",
       "⎢           ╱ -1               ╱ -1   ⎥\n",
       "⎢-12⋅√15⋅  ╱  ──── , 12⋅√15⋅  ╱  ──── ⎥\n",
       "⎣        ╲╱   aₘₐₓ          ╲╱   aₘₐₓ ⎦"
      ]
     },
     "execution_count": 19,
     "metadata": {},
     "output_type": "execute_result"
    }
   ],
   "source": [
    "a_max = sp.symbols('a_max')\n",
    "sp.solve(atheta.subs(t, tf) - a_max, tf)"
   ]
  },
  {
   "cell_type": "code",
   "execution_count": null,
   "id": "7277666c-aee7-4ec1-b3e8-66ccc0e579fb",
   "metadata": {},
   "outputs": [],
   "source": []
  },
  {
   "cell_type": "code",
   "execution_count": null,
   "id": "b59ce0fc-4a1f-4b61-9baf-0facea1e1f9a",
   "metadata": {},
   "outputs": [],
   "source": []
  },
  {
   "cell_type": "code",
   "execution_count": null,
   "id": "120cdba0-48f1-464f-9474-de66f47dfad3",
   "metadata": {},
   "outputs": [],
   "source": []
  }
 ],
 "metadata": {
  "kernelspec": {
   "display_name": "Python 3 (ipykernel)",
   "language": "python",
   "name": "python3"
  },
  "language_info": {
   "codemirror_mode": {
    "name": "ipython",
    "version": 3
   },
   "file_extension": ".py",
   "mimetype": "text/x-python",
   "name": "python",
   "nbconvert_exporter": "python",
   "pygments_lexer": "ipython3",
   "version": "3.12.0"
  }
 },
 "nbformat": 4,
 "nbformat_minor": 5
}
