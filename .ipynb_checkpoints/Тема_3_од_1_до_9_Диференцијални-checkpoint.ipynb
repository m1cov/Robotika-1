{
 "cells": [
  {
   "cell_type": "code",
   "execution_count": 1,
   "metadata": {},
   "outputs": [],
   "source": [
    "import sympy as sp\n",
    "import script as rt\n",
    "\n",
    "from IPython.lib.display import IFrame"
   ]
  },
  {
   "cell_type": "markdown",
   "metadata": {},
   "source": [
    "## Задача 3.1"
   ]
  },
  {
   "cell_type": "code",
   "execution_count": 2,
   "metadata": {},
   "outputs": [
    {
     "data": {
      "text/html": [
       "\n",
       "        <iframe\n",
       "            width=\"400\"\n",
       "            height=\"300\"\n",
       "            src=\"https://drive.google.com/file/d/1mJbboZwGDKx1o0qCfTEFhPdAlg-NKX8z/preview\"\n",
       "            frameborder=\"0\"\n",
       "            allowfullscreen\n",
       "        ></iframe>\n",
       "        "
      ],
      "text/plain": [
       "<IPython.lib.display.IFrame at 0x7f96247de290>"
      ]
     },
     "execution_count": 2,
     "metadata": {},
     "output_type": "execute_result"
    }
   ],
   "source": [
    "IFrame(src='https://drive.google.com/file/d/1mJbboZwGDKx1o0qCfTEFhPdAlg-NKX8z/preview', width='400', height='300')"
   ]
  },
  {
   "cell_type": "markdown",
   "metadata": {},
   "source": [
    "За да ја определиме новата положба $T_{new}$, на моменталната вредност $T$ ќе ги додадеме сите диференцијални движења кои се направени за моменталната состојба на $T$. Ги означуваме со $dT$. Диференцијалните движења можат да бидат или диференцијални транслации или диференцијални ротации.\n",
    "\n",
    "Прво ја дефинираме матрицата $T$."
   ]
  },
  {
   "cell_type": "code",
   "execution_count": 3,
   "metadata": {},
   "outputs": [
    {
     "data": {
      "text/latex": [
       "$\\displaystyle \\left[\\begin{matrix}0 & 0 & 1 & 2\\\\1 & 0 & 0 & 7\\\\0 & 1 & 0 & 5\\\\0 & 0 & 0 & 1\\end{matrix}\\right]$"
      ],
      "text/plain": [
       "Matrix([\n",
       "[0, 0, 1, 2],\n",
       "[1, 0, 0, 7],\n",
       "[0, 1, 0, 5],\n",
       "[0, 0, 0, 1]])"
      ]
     },
     "execution_count": 3,
     "metadata": {},
     "output_type": "execute_result"
    }
   ],
   "source": [
    "T = sp.Matrix([\n",
    "    [0, 0, 1, 2],\n",
    "    [1, 0, 0, 7],\n",
    "    [0, 1, 0, 5],\n",
    "    [0, 0, 0, 1],\n",
    "])\n",
    "T"
   ]
  },
  {
   "cell_type": "markdown",
   "metadata": {},
   "source": [
    "Па ја пресметуваме матрицата $dT$ која ги изразува диференцијалните движења така што $dT = \\Delta T$. Тука $\\Delta$ е диференцијален оператор. Всушност, $\\Delta$ претставува матрица која значително ни олеснува да ги вметнеме сите можни диференцијални движења во неа. Оваа матрицата е дел од скриптата `script` и се повикува со функцијата `hdelta3()`.\n",
    "\n",
    "Прво ќе покажеме како изгледа операторот со сите можни диференцијални движења."
   ]
  },
  {
   "cell_type": "code",
   "execution_count": 4,
   "metadata": {},
   "outputs": [
    {
     "data": {
      "text/latex": [
       "$\\displaystyle \\left[\\begin{matrix}0 & - \\delta_{z} & \\delta_{y} & dx\\\\\\delta_{z} & 0 & - \\delta_{x} & dy\\\\- \\delta_{y} & \\delta_{x} & 0 & dz\\\\0 & 0 & 0 & 0\\end{matrix}\\right]$"
      ],
      "text/plain": [
       "Matrix([\n",
       "[       0, -delta_z,  delta_y, dx],\n",
       "[ delta_z,        0, -delta_x, dy],\n",
       "[-delta_y,  delta_x,        0, dz],\n",
       "[       0,        0,        0,  0]])"
      ]
     },
     "execution_count": 4,
     "metadata": {},
     "output_type": "execute_result"
    }
   ],
   "source": [
    "dRx, dRy, dRz, dx, dy, dz = sp.symbols('delta_x, delta_y, delta_z, dx, dy, dz')\n",
    "rt.hdelta3(dRx, dRy, dRz, dx, dy, dz)"
   ]
  },
  {
   "cell_type": "markdown",
   "metadata": {},
   "source": [
    "Специфично за оваа задача го добиваме операторот $\\Delta$ со пополнување на зададените вредности од збирката."
   ]
  },
  {
   "cell_type": "code",
   "execution_count": 5,
   "metadata": {},
   "outputs": [
    {
     "data": {
      "text/latex": [
       "$\\displaystyle \\left[\\begin{matrix}0 & -0.15 & 0 & 0.1\\\\0.15 & 0 & 0 & 0.1\\\\0 & 0 & 0 & 0.3\\\\0 & 0 & 0 & 0\\end{matrix}\\right]$"
      ],
      "text/plain": [
       "Matrix([\n",
       "[   0, -0.15, 0, 0.1],\n",
       "[0.15,     0, 0, 0.1],\n",
       "[   0,     0, 0, 0.3],\n",
       "[   0,     0, 0,   0]])"
      ]
     },
     "execution_count": 5,
     "metadata": {},
     "output_type": "execute_result"
    }
   ],
   "source": [
    "delta = rt.hdelta3(dRz=0.15, dx=0.1, dy=0.1, dz=0.3)\n",
    "delta"
   ]
  },
  {
   "cell_type": "markdown",
   "metadata": {},
   "source": [
    "Го пресметуваме $dT$, го додаваме на $T$ и ја добиваме новата положба на $T$."
   ]
  },
  {
   "cell_type": "code",
   "execution_count": 6,
   "metadata": {},
   "outputs": [
    {
     "data": {
      "text/latex": [
       "$\\displaystyle \\left[\\begin{matrix}-0.15 & 0 & 0 & -0.95\\\\0 & 0 & 0.15 & 0.4\\\\0 & 0 & 0 & 0.3\\\\0 & 0 & 0 & 0\\end{matrix}\\right]$"
      ],
      "text/plain": [
       "Matrix([\n",
       "[-0.15, 0,    0, -0.95],\n",
       "[    0, 0, 0.15,   0.4],\n",
       "[    0, 0,    0,   0.3],\n",
       "[    0, 0,    0,     0]])"
      ]
     },
     "execution_count": 6,
     "metadata": {},
     "output_type": "execute_result"
    }
   ],
   "source": [
    "dT = delta * T\n",
    "dT"
   ]
  },
  {
   "cell_type": "code",
   "execution_count": 7,
   "metadata": {},
   "outputs": [
    {
     "data": {
      "text/latex": [
       "$\\displaystyle \\left[\\begin{matrix}-0.15 & 0 & 1 & 1.05\\\\1 & 0 & 0.15 & 7.4\\\\0 & 1 & 0 & 5.3\\\\0 & 0 & 0 & 1\\end{matrix}\\right]$"
      ],
      "text/plain": [
       "Matrix([\n",
       "[-0.15, 0,    1, 1.05],\n",
       "[    1, 0, 0.15,  7.4],\n",
       "[    0, 1,    0,  5.3],\n",
       "[    0, 0,    0,    1]])"
      ]
     },
     "execution_count": 7,
     "metadata": {},
     "output_type": "execute_result"
    }
   ],
   "source": [
    "Tnew = T + dT\n",
    "Tnew"
   ]
  },
  {
   "cell_type": "markdown",
   "metadata": {},
   "source": [
    "Ако повеќе пати го повториме ова, може да се каже дека го симулираме движењето на телото претставено со $T$. Забележете дека новодобиената матрица не ги исполнува условите на ортогоналност и единечни базни вектори. Причината се упростаувањата кои ги направивме. Тие се навистина забележителни бидејќи зададените вредности се навистина големи. Генерално, во симулација, овие вредности се многу мали, а дополнително има механизми за корекција на овие грешки, сѐ со цел да се запазат условите на матрицата која опишува трансформација на цврсто тело во 3Д простор. Всушност, во симулација, делаку поедноставно е ако се користат кватерниони бидејќи ги немаме проблематичните услови како, на пример, ортогоналност на матрицата. Како и да е, диференцијалните ротации и транслации се исклучително важни за повисоки математички апарати користени во современата роботика."
   ]
  },
  {
   "cell_type": "markdown",
   "metadata": {},
   "source": [
    "## Задача 3.2"
   ]
  },
  {
   "cell_type": "markdown",
   "metadata": {},
   "source": [
    "Се решава исто како задача 3.1."
   ]
  },
  {
   "cell_type": "code",
   "execution_count": 8,
   "metadata": {},
   "outputs": [
    {
     "data": {
      "text/latex": [
       "$\\displaystyle \\left[\\begin{matrix}0 & 0 & 1 & 4\\\\1 & 0 & 0 & 2\\\\0 & 1 & 0 & 1\\\\0 & 0 & 0 & 1\\end{matrix}\\right]$"
      ],
      "text/plain": [
       "Matrix([\n",
       "[0, 0, 1, 4],\n",
       "[1, 0, 0, 2],\n",
       "[0, 1, 0, 1],\n",
       "[0, 0, 0, 1]])"
      ]
     },
     "execution_count": 8,
     "metadata": {},
     "output_type": "execute_result"
    }
   ],
   "source": [
    "T = sp.Matrix([\n",
    "    [0, 0, 1, 4],\n",
    "    [1, 0, 0, 2],\n",
    "    [0, 1, 0, 1],\n",
    "    [0, 0, 0, 1],\n",
    "])\n",
    "T"
   ]
  },
  {
   "cell_type": "code",
   "execution_count": 9,
   "metadata": {},
   "outputs": [
    {
     "data": {
      "text/latex": [
       "$\\displaystyle \\left[\\begin{matrix}0 & -0.15 & 0 & 0.05\\\\0.15 & 0 & 0 & 0.02\\\\0 & 0 & 0 & 0.01\\\\0 & 0 & 0 & 0\\end{matrix}\\right]$"
      ],
      "text/plain": [
       "Matrix([\n",
       "[   0, -0.15, 0, 0.05],\n",
       "[0.15,     0, 0, 0.02],\n",
       "[   0,     0, 0, 0.01],\n",
       "[   0,     0, 0,    0]])"
      ]
     },
     "execution_count": 9,
     "metadata": {},
     "output_type": "execute_result"
    }
   ],
   "source": [
    "delta = rt.hdelta3(dRz=0.15, dx=0.05, dy=0.02, dz=0.01)\n",
    "delta"
   ]
  },
  {
   "cell_type": "code",
   "execution_count": 10,
   "metadata": {},
   "outputs": [
    {
     "data": {
      "text/latex": [
       "$\\displaystyle \\left[\\begin{matrix}-0.15 & 0 & 1 & 3.75\\\\1 & 0 & 0.15 & 2.62\\\\0 & 1 & 0 & 1.01\\\\0 & 0 & 0 & 1\\end{matrix}\\right]$"
      ],
      "text/plain": [
       "Matrix([\n",
       "[-0.15, 0,    1, 3.75],\n",
       "[    1, 0, 0.15, 2.62],\n",
       "[    0, 1,    0, 1.01],\n",
       "[    0, 0,    0,    1]])"
      ]
     },
     "execution_count": 10,
     "metadata": {},
     "output_type": "execute_result"
    }
   ],
   "source": [
    "Tnew = T + delta * T\n",
    "Tnew"
   ]
  },
  {
   "cell_type": "markdown",
   "metadata": {},
   "source": [
    "## Задача 3.3"
   ]
  },
  {
   "cell_type": "code",
   "execution_count": 11,
   "metadata": {},
   "outputs": [
    {
     "data": {
      "text/html": [
       "\n",
       "        <iframe\n",
       "            width=\"400\"\n",
       "            height=\"300\"\n",
       "            src=\"https://drive.google.com/file/d/1XnT6e0tEo6hExyU73A0wqs6w1vTXZMGy/preview\"\n",
       "            frameborder=\"0\"\n",
       "            allowfullscreen\n",
       "        ></iframe>\n",
       "        "
      ],
      "text/plain": [
       "<IPython.lib.display.IFrame at 0x7f960fcc34d0>"
      ]
     },
     "execution_count": 11,
     "metadata": {},
     "output_type": "execute_result"
    }
   ],
   "source": [
    "IFrame(src='https://drive.google.com/file/d/1XnT6e0tEo6hExyU73A0wqs6w1vTXZMGy/preview', width='400', height='300')"
   ]
  },
  {
   "cell_type": "markdown",
   "metadata": {},
   "source": [
    "Дадени е матрицата $T$ која веќе била поместена за $dT$. Се бараат диференцијалните ротации и транслации кои биле применети вре $T$. Ќе ги пресметаме од $dT$ бидејќи $\\Delta = dT \\,\\, T^{-1}$."
   ]
  },
  {
   "cell_type": "code",
   "execution_count": 12,
   "metadata": {},
   "outputs": [
    {
     "data": {
      "text/latex": [
       "$\\displaystyle \\left[\\begin{matrix}1 & 0 & 0 & 5\\\\0 & 0 & 1 & 3\\\\0 & -1 & 0 & 8\\\\0 & 0 & 0 & 1\\end{matrix}\\right]$"
      ],
      "text/plain": [
       "Matrix([\n",
       "[1,  0, 0, 5],\n",
       "[0,  0, 1, 3],\n",
       "[0, -1, 0, 8],\n",
       "[0,  0, 0, 1]])"
      ]
     },
     "execution_count": 12,
     "metadata": {},
     "output_type": "execute_result"
    }
   ],
   "source": [
    "T = sp.Matrix([\n",
    "    [1, 0, 0, 5],\n",
    "    [0, 0, 1, 3],\n",
    "    [0, -1, 0, 8],\n",
    "    [0, 0, 0, 1],\n",
    "])\n",
    "T"
   ]
  },
  {
   "cell_type": "code",
   "execution_count": 13,
   "metadata": {},
   "outputs": [
    {
     "data": {
      "text/latex": [
       "$\\displaystyle \\left[\\begin{matrix}0 & -0.1 & -0.1 & 0.6\\\\0.1 & 0 & 0 & 0.5\\\\-0.1 & 0 & 0 & -0.5\\\\0 & 0 & 0 & 0\\end{matrix}\\right]$"
      ],
      "text/plain": [
       "Matrix([\n",
       "[   0, -0.1, -0.1,  0.6],\n",
       "[ 0.1,    0,    0,  0.5],\n",
       "[-0.1,    0,    0, -0.5],\n",
       "[   0,    0,    0,    0]])"
      ]
     },
     "execution_count": 13,
     "metadata": {},
     "output_type": "execute_result"
    }
   ],
   "source": [
    "dT = sp.Matrix([\n",
    "    [0, -0.1, -0.1, 0.6],\n",
    "    [0.1, 0, 0, 0.5],\n",
    "    [-0.1, 0, 0, -0.5],\n",
    "    [0, 0, 0, 0],\n",
    "])\n",
    "dT"
   ]
  },
  {
   "cell_type": "code",
   "execution_count": 14,
   "metadata": {},
   "outputs": [
    {
     "data": {
      "text/latex": [
       "$\\displaystyle \\left[\\begin{matrix}0 & -0.1 & 0.1 & 0.1\\\\0.1 & 0 & 0 & 0\\\\-0.1 & 0 & 0 & 0\\\\0 & 0 & 0 & 0\\end{matrix}\\right]$"
      ],
      "text/plain": [
       "Matrix([\n",
       "[   0, -0.1, 0.1, 0.1],\n",
       "[ 0.1,    0,   0,   0],\n",
       "[-0.1,    0,   0,   0],\n",
       "[   0,    0,   0,   0]])"
      ]
     },
     "execution_count": 14,
     "metadata": {},
     "output_type": "execute_result"
    }
   ],
   "source": [
    "delta = dT * T.inv()\n",
    "delta"
   ]
  },
  {
   "cell_type": "markdown",
   "metadata": {},
   "source": [
    "Откако ја пресметавме $\\Delta$, ќе ги извадиме диференцијалните ротации и транслации со помош на функцијата `extract_hdelta3()`. Според документацијата на функцијата, елементите се подредени на следниот начин: $[\\delta_x, \\delta_y, \\delta_z, d_x, d_y, d_z]$."
   ]
  },
  {
   "cell_type": "code",
   "execution_count": 15,
   "metadata": {},
   "outputs": [
    {
     "data": {
      "text/latex": [
       "$\\displaystyle \\left[\\begin{matrix}0\\\\0.1\\\\0.1\\\\0.1\\\\0\\\\0\\end{matrix}\\right]$"
      ],
      "text/plain": [
       "Matrix([\n",
       "[  0],\n",
       "[0.1],\n",
       "[0.1],\n",
       "[0.1],\n",
       "[  0],\n",
       "[  0]])"
      ]
     },
     "execution_count": 15,
     "metadata": {},
     "output_type": "execute_result"
    }
   ],
   "source": [
    "rt.extract_hdelta3(delta)"
   ]
  },
  {
   "cell_type": "markdown",
   "metadata": {},
   "source": [
    "Последниот дел од задача бара да го изразиме операторот $\\Delta$ преку друг координатен систем. Попрецизно: преку $T$. Операторот $\\Delta$ содржи диференецијални ротации и транслации кои се изразени во однос на референтниот координатен систем, па нема проблем $\\Delta$ да го сметаме како најобична матрица и да го искористиме правилото за промена на референтниот систем. Резултатот кој ќе го добиеме ги содржи истите диференцијални ротации и транслации, но овој изразени преку друг координатен систем. Обликот на решение за промена на координатен систем лесно се памти: $T^{-1} \\Delta T$, а во продолжение се дадени причините зошто важи ова решение.\n",
    "\n",
    "1. За да ја изразиме матрицата $\\Delta$ преку $T$, почнуваме од референтниот координатен систем, односно ја претставуваме нашата состојба $state$ со единечната матрица $state = I$.\n",
    "1. Правиме трансформација до $T$, односно множиме со $T$ од лево бидејќи $T$ е изразена во однос на референтниот систем. Сега имаме резултат $state = T I$ или само $state = T$.\n",
    "1. Во овој момент множиме со $\\Delta$ од левата страна на $state$ бидејќи $\\Delta$ моментално е изразена во однос на референтниот координатен систем. Сега $state = \\Delta T$.\n",
    "1. На крајот, множиме со $T^{-1}$ од левата страна на $state$. Крајниот резултат на $state = T^{-1} \\Delta T$, или со други зборови тоа се диференцијалните ротации и транслации содржани во $\\Delta$, а изразени од гледна точка на координатниот систем $T$.\n",
    "\n",
    "Ја применуваме објаснетата равенка и ја добиваме диференцијалните ротации и транслации содржани во $\\Delta$, а изразени од гледна точка на координатниот систем $T$."
   ]
  },
  {
   "cell_type": "code",
   "execution_count": 16,
   "metadata": {},
   "outputs": [
    {
     "data": {
      "text/latex": [
       "$\\displaystyle \\left[\\begin{matrix}0 & -0.1 & -0.1 & 0.6\\\\0.1 & 0 & 0 & 0.5\\\\0.1 & 0 & 0 & 0.5\\\\0 & 0 & 0 & 0\\end{matrix}\\right]$"
      ],
      "text/plain": [
       "Matrix([\n",
       "[  0, -0.1, -0.1, 0.6],\n",
       "[0.1,    0,    0, 0.5],\n",
       "[0.1,    0,    0, 0.5],\n",
       "[  0,    0,    0,   0]])"
      ]
     },
     "execution_count": 16,
     "metadata": {},
     "output_type": "execute_result"
    }
   ],
   "source": [
    "T.inv() * delta * T"
   ]
  },
  {
   "cell_type": "markdown",
   "metadata": {},
   "source": [
    "## Задача 3.4"
   ]
  },
  {
   "cell_type": "code",
   "execution_count": 17,
   "metadata": {},
   "outputs": [
    {
     "data": {
      "text/html": [
       "\n",
       "        <iframe\n",
       "            width=\"400\"\n",
       "            height=\"300\"\n",
       "            src=\"https://drive.google.com/file/d/16T_1hsr3Q9DrEpFmpO_KDn9gL1-bDo2C/preview\"\n",
       "            frameborder=\"0\"\n",
       "            allowfullscreen\n",
       "        ></iframe>\n",
       "        "
      ],
      "text/plain": [
       "<IPython.lib.display.IFrame at 0x7f960fcc3750>"
      ]
     },
     "execution_count": 17,
     "metadata": {},
     "output_type": "execute_result"
    }
   ],
   "source": [
    "IFrame(src='https://drive.google.com/file/d/16T_1hsr3Q9DrEpFmpO_KDn9gL1-bDo2C/preview', width='400', height='300')"
   ]
  },
  {
   "cell_type": "markdown",
   "metadata": {},
   "source": [
    "Се решава исто како задача 3.3."
   ]
  },
  {
   "cell_type": "code",
   "execution_count": 18,
   "metadata": {},
   "outputs": [
    {
     "data": {
      "text/latex": [
       "$\\displaystyle \\left[\\begin{matrix}0 & 0 & 1 & 10\\\\1 & 0 & 0 & 5\\\\0 & 1 & 0 & 0\\\\0 & 0 & 0 & 1\\end{matrix}\\right]$"
      ],
      "text/plain": [
       "Matrix([\n",
       "[0, 0, 1, 10],\n",
       "[1, 0, 0,  5],\n",
       "[0, 1, 0,  0],\n",
       "[0, 0, 0,  1]])"
      ]
     },
     "execution_count": 18,
     "metadata": {},
     "output_type": "execute_result"
    }
   ],
   "source": [
    "A = sp.Matrix([\n",
    "    [0, 0, 1, 10],\n",
    "    [1, 0, 0, 5],\n",
    "    [0, 1, 0, 0],\n",
    "    [0, 0, 0, 1],\n",
    "])\n",
    "A"
   ]
  },
  {
   "cell_type": "code",
   "execution_count": 19,
   "metadata": {},
   "outputs": [
    {
     "data": {
      "text/latex": [
       "$\\displaystyle \\left[\\begin{matrix}0 & 0 & 0.1 & 1\\\\0 & 0 & 0 & 0\\\\-0.1 & 0 & 0 & 0.5\\\\0 & 0 & 0 & 0\\end{matrix}\\right]$"
      ],
      "text/plain": [
       "Matrix([\n",
       "[   0, 0, 0.1,   1],\n",
       "[   0, 0,   0,   0],\n",
       "[-0.1, 0,   0, 0.5],\n",
       "[   0, 0,   0,   0]])"
      ]
     },
     "execution_count": 19,
     "metadata": {},
     "output_type": "execute_result"
    }
   ],
   "source": [
    "delta = rt.hdelta3(0, 0.1, 0, 1, 0, 0.5)\n",
    "delta"
   ]
  },
  {
   "cell_type": "code",
   "execution_count": 20,
   "metadata": {},
   "outputs": [
    {
     "data": {
      "text/latex": [
       "$\\displaystyle \\left[\\begin{matrix}0 & 0 & 0 & 0\\\\0 & 0 & -0.1 & -0.5\\\\0 & 0.1 & 0 & 1\\\\0 & 0 & 0 & 0\\end{matrix}\\right]$"
      ],
      "text/plain": [
       "Matrix([\n",
       "[0,   0,    0,    0],\n",
       "[0,   0, -0.1, -0.5],\n",
       "[0, 0.1,    0,    1],\n",
       "[0,   0,    0,    0]])"
      ]
     },
     "execution_count": 20,
     "metadata": {},
     "output_type": "execute_result"
    }
   ],
   "source": [
    "A.inv() * delta * A"
   ]
  },
  {
   "cell_type": "markdown",
   "metadata": {},
   "source": [
    "## Задача 3.5"
   ]
  },
  {
   "cell_type": "code",
   "execution_count": 21,
   "metadata": {},
   "outputs": [
    {
     "data": {
      "text/html": [
       "\n",
       "        <iframe\n",
       "            width=\"400\"\n",
       "            height=\"300\"\n",
       "            src=\"https://drive.google.com/file/d/1xn0U11gwDTRM6XxKYozKGVzGFXz7TQMZ/preview\"\n",
       "            frameborder=\"0\"\n",
       "            allowfullscreen\n",
       "        ></iframe>\n",
       "        "
      ],
      "text/plain": [
       "<IPython.lib.display.IFrame at 0x7f962c64d350>"
      ]
     },
     "execution_count": 21,
     "metadata": {},
     "output_type": "execute_result"
    }
   ],
   "source": [
    "IFrame(src='https://drive.google.com/file/d/1xn0U11gwDTRM6XxKYozKGVzGFXz7TQMZ/preview', width='400', height='300')"
   ]
  },
  {
   "cell_type": "markdown",
   "metadata": {},
   "source": [
    "Ова е прва задача во која се сретнуваме со јакобијан. За една роботска роботска рака, јакобијанот ја претставува врската помеѓу поместувањата на зглобовите и поместувањата на извршниот елемент. Лесно е да се сфати дека оваа врска ќе се користи секогаш кога ќе имаме движења на роботската рака, а роботската рака всушност е да направена да се движи.\n",
    "\n",
    "Извршниот елемент на роботската рака се наоѓа на позиција $T$, а се бара новата позиција откако ќе се придвижат зглобовите. Затоа, прво со помош на јакобијанот ќе ги пресметаме диференцијалните транслации и ротации, а потоа ќе го искористеме знаењето од претходните задачи."
   ]
  },
  {
   "cell_type": "code",
   "execution_count": 22,
   "metadata": {},
   "outputs": [
    {
     "data": {
      "text/latex": [
       "$\\displaystyle \\left[\\begin{matrix}0 & 0 & 1 & 10\\\\1 & 0 & 0 & 5\\\\0 & 0 & -1 & 0\\\\0 & 0 & 0 & 1\\end{matrix}\\right]$"
      ],
      "text/plain": [
       "Matrix([\n",
       "[0, 0,  1, 10],\n",
       "[1, 0,  0,  5],\n",
       "[0, 0, -1,  0],\n",
       "[0, 0,  0,  1]])"
      ]
     },
     "execution_count": 22,
     "metadata": {},
     "output_type": "execute_result"
    }
   ],
   "source": [
    "T = sp.Matrix([\n",
    "    [0, 0, 1, 10],\n",
    "    [1, 0, 0, 5],\n",
    "    [0, 0, -1, 0],\n",
    "    [0, 0, 0, 1],\n",
    "])\n",
    "T"
   ]
  },
  {
   "cell_type": "markdown",
   "metadata": {},
   "source": [
    "Го дефинираме зададениот јакобијан."
   ]
  },
  {
   "cell_type": "code",
   "execution_count": 23,
   "metadata": {},
   "outputs": [
    {
     "data": {
      "text/latex": [
       "$\\displaystyle \\left[\\begin{matrix}8 & 0 & 0 & 0 & 0 & 0\\\\-3 & 0 & 1 & 0 & 0 & 0\\\\0 & 10 & 0 & 0 & 0 & 0\\\\0 & 1 & 0 & 0 & 1 & 0\\\\8 & 0 & 0 & 1 & 0 & 0\\\\-1 & 0 & 0 & 0 & 0 & 1\\end{matrix}\\right]$"
      ],
      "text/plain": [
       "Matrix([\n",
       "[ 8,  0, 0, 0, 0, 0],\n",
       "[-3,  0, 1, 0, 0, 0],\n",
       "[ 0, 10, 0, 0, 0, 0],\n",
       "[ 0,  1, 0, 0, 1, 0],\n",
       "[ 8,  0, 0, 1, 0, 0],\n",
       "[-1,  0, 0, 0, 0, 1]])"
      ]
     },
     "execution_count": 23,
     "metadata": {},
     "output_type": "execute_result"
    }
   ],
   "source": [
    "J = sp.Matrix([\n",
    "    [8, 0, 0, 0, 0, 0],\n",
    "    [-3, 0, 1, 0, 0, 0],\n",
    "    [0, 10, 0, 0, 0, 0],\n",
    "    [0, 1, 0, 0, 1, 0],\n",
    "    [8, 0, 0, 1, 0, 0],\n",
    "    [-1, 0, 0, 0, 0, 1],\n",
    "])\n",
    "J"
   ]
  },
  {
   "cell_type": "markdown",
   "metadata": {},
   "source": [
    "И ги внесуваме диференцијните придвижувања на зглобовите, од првиот до последниот зглоб."
   ]
  },
  {
   "cell_type": "code",
   "execution_count": 24,
   "metadata": {},
   "outputs": [
    {
     "data": {
      "text/latex": [
       "$\\displaystyle \\left[\\begin{matrix}0\\\\0.1\\\\-0.1\\\\0.2\\\\0.2\\\\0\\end{matrix}\\right]$"
      ],
      "text/plain": [
       "Matrix([\n",
       "[   0],\n",
       "[ 0.1],\n",
       "[-0.1],\n",
       "[ 0.2],\n",
       "[ 0.2],\n",
       "[   0]])"
      ]
     },
     "execution_count": 24,
     "metadata": {},
     "output_type": "execute_result"
    }
   ],
   "source": [
    "delta_joints = sp.Matrix([0, 0.1, -0.1, 0.2, 0.2, 0])\n",
    "delta_joints"
   ]
  },
  {
   "cell_type": "markdown",
   "metadata": {},
   "source": [
    "Диференцијалните движења на извршниот елемент на роботската рака ги добиваме множејќи го јакобијанот со диференцијалните движења на зглобовите."
   ]
  },
  {
   "cell_type": "code",
   "execution_count": 25,
   "metadata": {},
   "outputs": [
    {
     "data": {
      "text/latex": [
       "$\\displaystyle \\left[\\begin{matrix}0\\\\-0.1\\\\1.0\\\\0.3\\\\0.2\\\\0\\end{matrix}\\right]$"
      ],
      "text/plain": [
       "Matrix([\n",
       "[   0],\n",
       "[-0.1],\n",
       "[ 1.0],\n",
       "[ 0.3],\n",
       "[ 0.2],\n",
       "[   0]])"
      ]
     },
     "execution_count": 25,
     "metadata": {},
     "output_type": "execute_result"
    }
   ],
   "source": [
    "delta_end_effector = J * delta_joints\n",
    "delta_end_effector"
   ]
  },
  {
   "cell_type": "markdown",
   "metadata": {},
   "source": [
    "Според конструкцијата на роботската и конструкцијата на јакобијанот, дознаваме кои вредности од горедобиените 6 вредности одговараат на кои диференцијални движења на извршниот елемент. Во задачата тоа не е наведено, па затоа ќе погледнеме во решението. Од тие вредности го изразуваме операторот $\\Delta$."
   ]
  },
  {
   "cell_type": "code",
   "execution_count": 26,
   "metadata": {},
   "outputs": [
    {
     "data": {
      "text/latex": [
       "$\\displaystyle \\left[\\begin{matrix}0 & 0 & 0.2 & 0\\\\0 & 0 & -0.3 & -0.1\\\\-0.2 & 0.3 & 0 & 1\\\\0 & 0 & 0 & 0\\end{matrix}\\right]$"
      ],
      "text/plain": [
       "Matrix([\n",
       "[   0,   0,  0.2,    0],\n",
       "[   0,   0, -0.3, -0.1],\n",
       "[-0.2, 0.3,    0,    1],\n",
       "[   0,   0,    0,    0]])"
      ]
     },
     "execution_count": 26,
     "metadata": {},
     "output_type": "execute_result"
    }
   ],
   "source": [
    "delta = rt.hdelta3(dRx=0.3, dRy=0.2, dRz=0, dx=0, dy=-0.1, dz=1)\n",
    "delta"
   ]
  },
  {
   "cell_type": "markdown",
   "metadata": {},
   "source": [
    "Остатокот од задача е според претходните задачи."
   ]
  },
  {
   "cell_type": "code",
   "execution_count": 27,
   "metadata": {},
   "outputs": [
    {
     "data": {
      "text/latex": [
       "$\\displaystyle \\left[\\begin{matrix}0 & 0 & 0.8 & 10\\\\1 & 0 & 0.3 & 4.9\\\\0.3 & 0 & -1.2 & 0.5\\\\0 & 0 & 0 & 1\\end{matrix}\\right]$"
      ],
      "text/plain": [
       "Matrix([\n",
       "[  0, 0,  0.8,  10],\n",
       "[  1, 0,  0.3, 4.9],\n",
       "[0.3, 0, -1.2, 0.5],\n",
       "[  0, 0,    0,   1]])"
      ]
     },
     "execution_count": 27,
     "metadata": {},
     "output_type": "execute_result"
    }
   ],
   "source": [
    "T_new = T + delta * T\n",
    "T_new"
   ]
  },
  {
   "cell_type": "markdown",
   "metadata": {},
   "source": [
    "## Задача 3.6"
   ]
  },
  {
   "cell_type": "markdown",
   "metadata": {},
   "source": [
    "Се решава исто како задачите 3.2 и 3.3."
   ]
  },
  {
   "cell_type": "code",
   "execution_count": 28,
   "metadata": {},
   "outputs": [
    {
     "data": {
      "text/latex": [
       "$\\displaystyle \\left[\\begin{matrix}0 & 0 & 1 & 1\\\\1 & 0 & 0 & 5\\\\0 & 1 & 0 & 0\\\\0 & 0 & 0 & 1\\end{matrix}\\right]$"
      ],
      "text/plain": [
       "Matrix([\n",
       "[0, 0, 1, 1],\n",
       "[1, 0, 0, 5],\n",
       "[0, 1, 0, 0],\n",
       "[0, 0, 0, 1]])"
      ]
     },
     "execution_count": 28,
     "metadata": {},
     "output_type": "execute_result"
    }
   ],
   "source": [
    "T = sp.Matrix([\n",
    "    [0, 0, 1, 1],\n",
    "    [1, 0, 0, 5],\n",
    "    [0, 1, 0, 0],\n",
    "    [0, 0, 0, 1],\n",
    "])\n",
    "T"
   ]
  },
  {
   "cell_type": "code",
   "execution_count": 29,
   "metadata": {},
   "outputs": [
    {
     "data": {
      "text/latex": [
       "$\\displaystyle \\left[\\begin{matrix}0 & 0 & 0.2 & 0.5\\\\0 & 0 & 0 & 0\\\\-0.2 & 0 & 0 & 1\\\\0 & 0 & 0 & 0\\end{matrix}\\right]$"
      ],
      "text/plain": [
       "Matrix([\n",
       "[   0, 0, 0.2, 0.5],\n",
       "[   0, 0,   0,   0],\n",
       "[-0.2, 0,   0,   1],\n",
       "[   0, 0,   0,   0]])"
      ]
     },
     "execution_count": 29,
     "metadata": {},
     "output_type": "execute_result"
    }
   ],
   "source": [
    "delta = rt.hdelta3(dRy=0.2, dx=0.5, dz=1)\n",
    "delta"
   ]
  },
  {
   "cell_type": "code",
   "execution_count": 30,
   "metadata": {},
   "outputs": [
    {
     "data": {
      "text/latex": [
       "$\\displaystyle \\left[\\begin{matrix}0 & 0.2 & 1 & 1.5\\\\1 & 0 & 0 & 5\\\\0 & 1 & -0.2 & 0.8\\\\0 & 0 & 0 & 1\\end{matrix}\\right]$"
      ],
      "text/plain": [
       "Matrix([\n",
       "[0, 0.2,    1, 1.5],\n",
       "[1,   0,    0,   5],\n",
       "[0,   1, -0.2, 0.8],\n",
       "[0,   0,    0,   1]])"
      ]
     },
     "execution_count": 30,
     "metadata": {},
     "output_type": "execute_result"
    }
   ],
   "source": [
    "T_new = T + delta * T\n",
    "T_new"
   ]
  },
  {
   "cell_type": "code",
   "execution_count": 31,
   "metadata": {},
   "outputs": [
    {
     "data": {
      "text/latex": [
       "$\\displaystyle \\left[\\begin{matrix}0 & 0 & 0 & 0\\\\0 & 0 & -0.2 & 0.8\\\\0 & 0.2 & 0 & 0.5\\\\0 & 0 & 0 & 0\\end{matrix}\\right]$"
      ],
      "text/plain": [
       "Matrix([\n",
       "[0,   0,    0,   0],\n",
       "[0,   0, -0.2, 0.8],\n",
       "[0, 0.2,    0, 0.5],\n",
       "[0,   0,    0,   0]])"
      ]
     },
     "execution_count": 31,
     "metadata": {},
     "output_type": "execute_result"
    }
   ],
   "source": [
    "delta_wrt_T = T.inv() * delta * T  # wrt stands for \"with respect to\"\n",
    "delta_wrt_T"
   ]
  },
  {
   "cell_type": "markdown",
   "metadata": {},
   "source": [
    "## Задача 3.7"
   ]
  },
  {
   "cell_type": "markdown",
   "metadata": {},
   "source": [
    "Се решава исто како задачите 3.2 и 3.5."
   ]
  },
  {
   "cell_type": "code",
   "execution_count": 32,
   "metadata": {},
   "outputs": [
    {
     "data": {
      "text/latex": [
       "$\\displaystyle \\left[\\begin{matrix}1 & 0 & 0 & 5\\\\0 & 0 & -1 & 3\\\\0 & 1 & 0 & 6\\\\0 & 0 & 0 & 1\\end{matrix}\\right]$"
      ],
      "text/plain": [
       "Matrix([\n",
       "[1, 0,  0, 5],\n",
       "[0, 0, -1, 3],\n",
       "[0, 1,  0, 6],\n",
       "[0, 0,  0, 1]])"
      ]
     },
     "execution_count": 32,
     "metadata": {},
     "output_type": "execute_result"
    }
   ],
   "source": [
    "T1 = sp.Matrix([\n",
    "    [1, 0, 0, 5],\n",
    "    [0, 0, -1, 3],\n",
    "    [0, 1, 0, 6],\n",
    "    [0, 0, 0, 1],\n",
    "])\n",
    "T1"
   ]
  },
  {
   "cell_type": "code",
   "execution_count": 33,
   "metadata": {},
   "outputs": [
    {
     "data": {
      "text/latex": [
       "$\\displaystyle \\left[\\begin{matrix}1 & 0 & 0.1 & 4.8\\\\0.1 & 0 & -1 & 3.5\\\\0 & 1 & 0 & 6.2\\\\0 & 0 & 0 & 1\\end{matrix}\\right]$"
      ],
      "text/plain": [
       "Matrix([\n",
       "[  1, 0, 0.1, 4.8],\n",
       "[0.1, 0,  -1, 3.5],\n",
       "[  0, 1,   0, 6.2],\n",
       "[  0, 0,   0,   1]])"
      ]
     },
     "execution_count": 33,
     "metadata": {},
     "output_type": "execute_result"
    }
   ],
   "source": [
    "T2 = sp.Matrix([\n",
    "    [1, 0, 0.1, 4.8],\n",
    "    [0.1, 0, -1, 3.5],\n",
    "    [0, 1, 0, 6.2],\n",
    "    [0, 0, 0, 1],\n",
    "])\n",
    "T2"
   ]
  },
  {
   "cell_type": "markdown",
   "metadata": {},
   "source": [
    "### под а)"
   ]
  },
  {
   "cell_type": "code",
   "execution_count": 34,
   "metadata": {},
   "outputs": [
    {
     "data": {
      "text/latex": [
       "$\\displaystyle \\left[\\begin{matrix}1 & -0.1 & 0 & 0.0999999999999996\\\\0.1 & 1 & 0 & 0\\\\0 & 0 & 1 & 0.2\\\\0 & 0 & 0 & 1\\end{matrix}\\right]$"
      ],
      "text/plain": [
       "Matrix([\n",
       "[  1, -0.1, 0, 0.0999999999999996],\n",
       "[0.1,    1, 0,                  0],\n",
       "[  0,    0, 1,                0.2],\n",
       "[  0,    0, 0,                  1]])"
      ]
     },
     "execution_count": 34,
     "metadata": {},
     "output_type": "execute_result"
    }
   ],
   "source": [
    "Q = T2 * T1.inv()\n",
    "Q"
   ]
  },
  {
   "cell_type": "markdown",
   "metadata": {},
   "source": [
    "### под б)"
   ]
  },
  {
   "cell_type": "code",
   "execution_count": 35,
   "metadata": {},
   "outputs": [
    {
     "data": {
      "text/latex": [
       "$\\displaystyle \\left[\\begin{matrix}0 & 0 & 0.1 & -0.2\\\\0.1 & 0 & 0 & 0.5\\\\0 & 0 & 0 & 0.2\\\\0 & 0 & 0 & 0\\end{matrix}\\right]$"
      ],
      "text/plain": [
       "Matrix([\n",
       "[  0, 0, 0.1, -0.2],\n",
       "[0.1, 0,   0,  0.5],\n",
       "[  0, 0,   0,  0.2],\n",
       "[  0, 0,   0,    0]])"
      ]
     },
     "execution_count": 35,
     "metadata": {},
     "output_type": "execute_result"
    }
   ],
   "source": [
    "dT = T2 - T1\n",
    "dT"
   ]
  },
  {
   "cell_type": "code",
   "execution_count": 36,
   "metadata": {},
   "outputs": [
    {
     "data": {
      "text/latex": [
       "$\\displaystyle \\left[\\begin{matrix}0 & -0.1 & 0 & 0.0999999999999999\\\\0.1 & 0 & 0 & 0\\\\0 & 0 & 0 & 0.2\\\\0 & 0 & 0 & 0\\end{matrix}\\right]$"
      ],
      "text/plain": [
       "Matrix([\n",
       "[  0, -0.1, 0, 0.0999999999999999],\n",
       "[0.1,    0, 0,                  0],\n",
       "[  0,    0, 0,                0.2],\n",
       "[  0,    0, 0,                  0]])"
      ]
     },
     "execution_count": 36,
     "metadata": {},
     "output_type": "execute_result"
    }
   ],
   "source": [
    "delta = dT * T1.inv()\n",
    "delta"
   ]
  },
  {
   "cell_type": "markdown",
   "metadata": {},
   "source": [
    "### под в)"
   ]
  },
  {
   "cell_type": "code",
   "execution_count": 37,
   "metadata": {},
   "outputs": [
    {
     "data": {
      "text/latex": [
       "$\\displaystyle \\left[\\begin{matrix}0\\\\0\\\\0.1\\\\0.0999999999999999\\\\0\\\\0.2\\end{matrix}\\right]$"
      ],
      "text/plain": [
       "Matrix([\n",
       "[                 0],\n",
       "[                 0],\n",
       "[               0.1],\n",
       "[0.0999999999999999],\n",
       "[                 0],\n",
       "[               0.2]])"
      ]
     },
     "execution_count": 37,
     "metadata": {},
     "output_type": "execute_result"
    }
   ],
   "source": [
    "rt.extract_hdelta3(delta)"
   ]
  },
  {
   "cell_type": "markdown",
   "metadata": {},
   "source": [
    "## Задача 3.8"
   ]
  },
  {
   "cell_type": "code",
   "execution_count": 38,
   "metadata": {},
   "outputs": [
    {
     "data": {
      "text/html": [
       "\n",
       "        <iframe\n",
       "            width=\"400\"\n",
       "            height=\"300\"\n",
       "            src=\"https://drive.google.com/file/d/1ppwyMJSy_KS4tC7rn-rBj48FE_9m7GIi/preview\"\n",
       "            frameborder=\"0\"\n",
       "            allowfullscreen\n",
       "        ></iframe>\n",
       "        "
      ],
      "text/plain": [
       "<IPython.lib.display.IFrame at 0x7f960fcef410>"
      ]
     },
     "execution_count": 38,
     "metadata": {},
     "output_type": "execute_result"
    }
   ],
   "source": [
    "IFrame(src='https://drive.google.com/file/d/1ppwyMJSy_KS4tC7rn-rBj48FE_9m7GIi/preview', width='400', height='300')"
   ]
  },
  {
   "cell_type": "markdown",
   "metadata": {},
   "source": [
    "Во оваа задача се бара линеарниот јакобијан. Прво ќе ја пресметаме матрицата на директна кинематика, а потоа ќе го пресметаме линеарниот јакобијан.\n",
    "\n",
    "Ја дефинираме директната кинематика на цилиндричниот робот."
   ]
  },
  {
   "cell_type": "code",
   "execution_count": 39,
   "metadata": {},
   "outputs": [
    {
     "data": {
      "text/latex": [
       "$\\displaystyle \\left[\\begin{matrix}\\cos{\\left(\\alpha \\right)} & - \\sin{\\left(\\alpha \\right)} & 0 & r \\cos{\\left(\\alpha \\right)}\\\\\\sin{\\left(\\alpha \\right)} & \\cos{\\left(\\alpha \\right)} & 0 & r \\sin{\\left(\\alpha \\right)}\\\\0 & 0 & 1 & l\\\\0 & 0 & 0 & 1\\end{matrix}\\right]$"
      ],
      "text/plain": [
       "Matrix([\n",
       "[cos(alpha), -sin(alpha), 0, r*cos(alpha)],\n",
       "[sin(alpha),  cos(alpha), 0, r*sin(alpha)],\n",
       "[         0,           0, 1,            l],\n",
       "[         0,           0, 0,            1]])"
      ]
     },
     "execution_count": 39,
     "metadata": {},
     "output_type": "execute_result"
    }
   ],
   "source": [
    "alpha, r, l = sp.symbols('alpha, r, l')\n",
    "T = rt.hrotation3('z', alpha) * rt.htranslation3(x=r, z=l)\n",
    "T"
   ]
  },
  {
   "cell_type": "markdown",
   "metadata": {},
   "source": [
    "Потоа го пресметуваме линеарниот јакобијан користејќи ги вредностите за позицијата на извршниот елемент. За да не измислуваме топла вода, ќе ја искористиме функцијата за јакобијан од библиотеката `sympy`. Внимавајте, ова не значи дека не треба да знаете што претставува јакобијанот."
   ]
  },
  {
   "cell_type": "code",
   "execution_count": 40,
   "metadata": {},
   "outputs": [
    {
     "data": {
      "text/latex": [
       "$\\displaystyle \\left[\\begin{matrix}\\cos{\\left(\\alpha \\right)} & - r \\sin{\\left(\\alpha \\right)} & 0\\\\\\sin{\\left(\\alpha \\right)} & r \\cos{\\left(\\alpha \\right)} & 0\\\\0 & 0 & 1\\end{matrix}\\right]$"
      ],
      "text/plain": [
       "Matrix([\n",
       "[cos(alpha), -r*sin(alpha), 0],\n",
       "[sin(alpha),  r*cos(alpha), 0],\n",
       "[         0,             0, 1]])"
      ]
     },
     "execution_count": 40,
     "metadata": {},
     "output_type": "execute_result"
    }
   ],
   "source": [
    "position = T[:3, 3]\n",
    "linear_jacobian = position.jacobian([r, alpha, l])\n",
    "linear_jacobian"
   ]
  },
  {
   "cell_type": "markdown",
   "metadata": {},
   "source": [
    "## Задача 3.9"
   ]
  },
  {
   "cell_type": "code",
   "execution_count": 41,
   "metadata": {},
   "outputs": [
    {
     "data": {
      "text/html": [
       "\n",
       "        <iframe\n",
       "            width=\"400\"\n",
       "            height=\"300\"\n",
       "            src=\"https://drive.google.com/file/d/1vNiTIL5dYtgL0s0TCVZ7CSz7lcDXvUID/preview\"\n",
       "            frameborder=\"0\"\n",
       "            allowfullscreen\n",
       "        ></iframe>\n",
       "        "
      ],
      "text/plain": [
       "<IPython.lib.display.IFrame at 0x7f9624104a10>"
      ]
     },
     "execution_count": 41,
     "metadata": {},
     "output_type": "execute_result"
    }
   ],
   "source": [
    "IFrame(src='https://drive.google.com/file/d/1vNiTIL5dYtgL0s0TCVZ7CSz7lcDXvUID/preview', width='400', height='300')"
   ]
  },
  {
   "cell_type": "markdown",
   "metadata": {},
   "source": [
    "Во оваа задача се бараат сингуларитети на еден сферичен робот. Сингуларитетите се положби на роботот кога тој не може да се движи во некоја насока, односно губи степен на слобода на движење. Сингуларитетите ги определуваме на математички начин од јакобијанот, барајќи за кои вредности на зглобовите, јакобијанот е сингуларен, односно детерминантата на јакобијанот е нула. \n",
    "\n",
    "Прво ќе ја пресметаме матрицата на директна кинематика, а потоа ќе го пресметаме линеарниот јакобијан. На крајoт ќе ги најдеме сингуларитетите.\n",
    "\n",
    "Ја дефинираме директната кинематика на сферичниот робот."
   ]
  },
  {
   "cell_type": "code",
   "execution_count": 42,
   "metadata": {},
   "outputs": [
    {
     "data": {
      "text/latex": [
       "$\\displaystyle \\left[\\begin{matrix}\\cos{\\left(\\beta \\right)} \\cos{\\left(\\gamma \\right)} & - \\sin{\\left(\\gamma \\right)} & \\sin{\\left(\\beta \\right)} \\cos{\\left(\\gamma \\right)} & r \\sin{\\left(\\beta \\right)} \\cos{\\left(\\gamma \\right)}\\\\\\sin{\\left(\\gamma \\right)} \\cos{\\left(\\beta \\right)} & \\cos{\\left(\\gamma \\right)} & \\sin{\\left(\\beta \\right)} \\sin{\\left(\\gamma \\right)} & r \\sin{\\left(\\beta \\right)} \\sin{\\left(\\gamma \\right)}\\\\- \\sin{\\left(\\beta \\right)} & 0 & \\cos{\\left(\\beta \\right)} & r \\cos{\\left(\\beta \\right)}\\\\0 & 0 & 0 & 1\\end{matrix}\\right]$"
      ],
      "text/plain": [
       "Matrix([\n",
       "[cos(beta)*cos(gamma), -sin(gamma), sin(beta)*cos(gamma), r*sin(beta)*cos(gamma)],\n",
       "[sin(gamma)*cos(beta),  cos(gamma), sin(beta)*sin(gamma), r*sin(beta)*sin(gamma)],\n",
       "[          -sin(beta),           0,            cos(beta),            r*cos(beta)],\n",
       "[                   0,           0,                    0,                      1]])"
      ]
     },
     "execution_count": 42,
     "metadata": {},
     "output_type": "execute_result"
    }
   ],
   "source": [
    "r, beta, gamma = sp.symbols('r, beta, gamma')\n",
    "T = rt.hrotation3('z', gamma) * rt.hrotation3('y', beta) * rt.htranslation3(z=r)\n",
    "T"
   ]
  },
  {
   "cell_type": "markdown",
   "metadata": {},
   "source": [
    "Потоа го пресметуваме линеарниот јакобијан."
   ]
  },
  {
   "cell_type": "code",
   "execution_count": 43,
   "metadata": {},
   "outputs": [
    {
     "data": {
      "text/latex": [
       "$\\displaystyle \\left[\\begin{matrix}\\sin{\\left(\\beta \\right)} \\cos{\\left(\\gamma \\right)} & r \\cos{\\left(\\beta \\right)} \\cos{\\left(\\gamma \\right)} & - r \\sin{\\left(\\beta \\right)} \\sin{\\left(\\gamma \\right)}\\\\\\sin{\\left(\\beta \\right)} \\sin{\\left(\\gamma \\right)} & r \\sin{\\left(\\gamma \\right)} \\cos{\\left(\\beta \\right)} & r \\sin{\\left(\\beta \\right)} \\cos{\\left(\\gamma \\right)}\\\\\\cos{\\left(\\beta \\right)} & - r \\sin{\\left(\\beta \\right)} & 0\\end{matrix}\\right]$"
      ],
      "text/plain": [
       "Matrix([\n",
       "[sin(beta)*cos(gamma), r*cos(beta)*cos(gamma), -r*sin(beta)*sin(gamma)],\n",
       "[sin(beta)*sin(gamma), r*sin(gamma)*cos(beta),  r*sin(beta)*cos(gamma)],\n",
       "[           cos(beta),           -r*sin(beta),                       0]])"
      ]
     },
     "execution_count": 43,
     "metadata": {},
     "output_type": "execute_result"
    }
   ],
   "source": [
    "position = T[:3, 3]\n",
    "linear_jacobian = position.jacobian([r, beta, gamma])\n",
    "linear_jacobian"
   ]
  },
  {
   "cell_type": "markdown",
   "metadata": {},
   "source": [
    "Бараме за кои вредности јакобијанот има детерминанта еднаква на нула."
   ]
  },
  {
   "cell_type": "code",
   "execution_count": 44,
   "metadata": {},
   "outputs": [
    {
     "data": {
      "text/latex": [
       "$\\displaystyle r^{2} \\sin{\\left(\\beta \\right)}$"
      ],
      "text/plain": [
       "r**2*sin(beta)"
      ]
     },
     "execution_count": 44,
     "metadata": {},
     "output_type": "execute_result"
    }
   ],
   "source": [
    "det_J = sp.det(linear_jacobian).simplify()\n",
    "det_J"
   ]
  },
  {
   "cell_type": "markdown",
   "metadata": {},
   "source": [
    "Поставуваме равенка $\\det J = 0$."
   ]
  },
  {
   "cell_type": "code",
   "execution_count": 45,
   "metadata": {},
   "outputs": [
    {
     "data": {
      "text/latex": [
       "$\\displaystyle r^{2} \\sin{\\left(\\beta \\right)} = 0$"
      ],
      "text/plain": [
       "Eq(r**2*sin(beta), 0)"
      ]
     },
     "execution_count": 45,
     "metadata": {},
     "output_type": "execute_result"
    }
   ],
   "source": [
    "equation = sp.Eq(det_J, 0)\n",
    "equation"
   ]
  },
  {
   "cell_type": "markdown",
   "metadata": {},
   "source": [
    "И ја решаваме равенката."
   ]
  },
  {
   "cell_type": "code",
   "execution_count": 46,
   "metadata": {},
   "outputs": [
    {
     "data": {
      "text/latex": [
       "$\\displaystyle \\left\\{2 n \\pi\\; |\\; n \\in \\mathbb{Z}\\right\\} \\cup \\left\\{2 n \\pi + \\pi\\; |\\; n \\in \\mathbb{Z}\\right\\}$"
      ],
      "text/plain": [
       "Union(ImageSet(Lambda(_n, 2*_n*pi + pi), Integers), ImageSet(Lambda(_n, 2*_n*pi), Integers))"
      ]
     },
     "execution_count": 46,
     "metadata": {},
     "output_type": "execute_result"
    }
   ],
   "source": [
    "solution = sp.solveset(det_J, beta)\n",
    "solution"
   ]
  },
  {
   "cell_type": "markdown",
   "metadata": {},
   "source": [
    "Ова решение е генерално за која и да е вредност на $\\beta$. Ако сакаме во пресметките да ја ограничиме $\\beta$ на некој интервал, бидејќи се работи за роботска рака, ќе дефинираме интервал."
   ]
  },
  {
   "cell_type": "code",
   "execution_count": 47,
   "metadata": {},
   "outputs": [
    {
     "data": {
      "text/latex": [
       "$\\displaystyle \\left(- \\pi, \\pi\\right]$"
      ],
      "text/plain": [
       "Interval.Lopen(-pi, pi)"
      ]
     },
     "execution_count": 47,
     "metadata": {},
     "output_type": "execute_result"
    }
   ],
   "source": [
    "interval = sp.Interval(-sp.pi, sp.pi, left_open=True)\n",
    "interval"
   ]
  },
  {
   "cell_type": "markdown",
   "metadata": {},
   "source": [
    "И повторно ќе ја решиме равенката."
   ]
  },
  {
   "cell_type": "code",
   "execution_count": 48,
   "metadata": {},
   "outputs": [
    {
     "data": {
      "text/latex": [
       "$\\displaystyle \\left\\{0, \\pi\\right\\}$"
      ],
      "text/plain": [
       "FiniteSet(0, pi)"
      ]
     },
     "execution_count": 48,
     "metadata": {},
     "output_type": "execute_result"
    }
   ],
   "source": [
    "solution = sp.solveset(det_J, beta, interval)\n",
    "solution"
   ]
  },
  {
   "cell_type": "markdown",
   "metadata": {},
   "source": [
    "Добиваме дека ќе имаме сингуларитети кога $\\beta = 0$ или $\\beta = \\pi$.\n",
    "\n",
    "Сингуларитите најдобро се разбираат преку анимација или интеракција."
   ]
  },
  {
   "cell_type": "code",
   "execution_count": 49,
   "metadata": {},
   "outputs": [
    {
     "data": {
      "application/vnd.jupyter.widget-view+json": {
       "model_id": "b6a25dd52fc44faab01cc99b8d9c3669",
       "version_major": 2,
       "version_minor": 0
      },
      "text/plain": [
       "VBox(children=(HBox(children=(ToggleButton(value=True, description='Исклучи цртање'), Button(description='Пром…"
      ]
     },
     "metadata": {},
     "output_type": "display_data"
    }
   ],
   "source": [
    "gamma, beta, r = sp.symbols('gamma, beta, r')\n",
    "robot = rt.SerialLinkRobot()\n",
    "robot.add_revolute_joint(gamma, 0, 0, -sp.pi/2)\n",
    "robot.add_revolute_joint(beta, 0, 0, sp.pi/2)\n",
    "robot.add_prismatic_joint(0, r, 0, 0)\n",
    "robot.interact()"
   ]
  },
  {
   "cell_type": "code",
   "execution_count": 50,
   "metadata": {},
   "outputs": [
    {
     "data": {
      "text/latex": [
       "$\\displaystyle \\left[\\begin{matrix}\\cos{\\left(\\beta \\right)} \\cos{\\left(\\gamma \\right)} & - \\sin{\\left(\\gamma \\right)} & \\sin{\\left(\\beta \\right)} \\cos{\\left(\\gamma \\right)} & r \\sin{\\left(\\beta \\right)} \\cos{\\left(\\gamma \\right)}\\\\\\sin{\\left(\\gamma \\right)} \\cos{\\left(\\beta \\right)} & \\cos{\\left(\\gamma \\right)} & \\sin{\\left(\\beta \\right)} \\sin{\\left(\\gamma \\right)} & r \\sin{\\left(\\beta \\right)} \\sin{\\left(\\gamma \\right)}\\\\- \\sin{\\left(\\beta \\right)} & 0 & \\cos{\\left(\\beta \\right)} & r \\cos{\\left(\\beta \\right)}\\\\0 & 0 & 0 & 1\\end{matrix}\\right]$"
      ],
      "text/plain": [
       "Matrix([\n",
       "[cos(beta)*cos(gamma), -sin(gamma), sin(beta)*cos(gamma), r*sin(beta)*cos(gamma)],\n",
       "[sin(gamma)*cos(beta),  cos(gamma), sin(beta)*sin(gamma), r*sin(beta)*sin(gamma)],\n",
       "[          -sin(beta),           0,            cos(beta),            r*cos(beta)],\n",
       "[                   0,           0,                    0,                      1]])"
      ]
     },
     "execution_count": 50,
     "metadata": {},
     "output_type": "execute_result"
    }
   ],
   "source": [
    "robot.get_dh_matrix()"
   ]
  },
  {
   "cell_type": "code",
   "execution_count": null,
   "metadata": {},
   "outputs": [],
   "source": []
  },
  {
   "cell_type": "code",
   "execution_count": null,
   "metadata": {},
   "outputs": [],
   "source": []
  },
  {
   "cell_type": "code",
   "execution_count": null,
   "metadata": {},
   "outputs": [],
   "source": []
  }
 ],
 "metadata": {
  "kernelspec": {
   "display_name": "Python 3",
   "language": "python",
   "name": "python3"
  },
  "language_info": {
   "codemirror_mode": {
    "name": "ipython",
    "version": 3
   },
   "file_extension": ".py",
   "mimetype": "text/x-python",
   "name": "python",
   "nbconvert_exporter": "python",
   "pygments_lexer": "ipython3",
   "version": "3.7.9"
  }
 },
 "nbformat": 4,
 "nbformat_minor": 4
}
