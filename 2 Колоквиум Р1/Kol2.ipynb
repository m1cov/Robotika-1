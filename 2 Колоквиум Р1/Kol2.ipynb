{
 "cells": [
  {
   "cell_type": "code",
   "execution_count": 1,
   "id": "1c6cabe1-5114-463d-9c13-547df35f4573",
   "metadata": {},
   "outputs": [],
   "source": [
    "import sympy as sp\n",
    "import script as rt\n",
    "from IPython import display\n",
    "from sympy.physics import mechanics\n",
    "from IPython import display\n",
    "from IPython.lib.display import IFrame\n",
    "import numpy as np\n",
    "import plotly.graph_objects as go\n",
    "from plotly.subplots import make_subplots\n",
    "from sympy.physics import mechanics"
   ]
  },
  {
   "cell_type": "code",
   "execution_count": 28,
   "id": "7b811272-4d53-4620-970f-a7816e148d7a",
   "metadata": {},
   "outputs": [],
   "source": [
    "mechanics.init_vprinting()  # за да скрати печатењето на (t) кај променливите кои зависат од времето"
   ]
  },
  {
   "cell_type": "code",
   "execution_count": null,
   "id": "84780b88-3f75-4688-8c39-a1d26452f232",
   "metadata": {},
   "outputs": [],
   "source": [
    "# Zadaca 1"
   ]
  },
  {
   "cell_type": "code",
   "execution_count": 168,
   "id": "b1f7e5ea-100c-4030-a857-331bdeeba198",
   "metadata": {},
   "outputs": [
    {
     "data": {
      "application/vnd.jupyter.widget-view+json": {
       "model_id": "cbf6346571ff458bba6b053072a3c09c",
       "version_major": 2,
       "version_minor": 0
      },
      "text/plain": [
       "VBox(children=(HBox(children=(ToggleButton(value=True, description='Исклучи цртање'), Button(description='Пром…"
      ]
     },
     "execution_count": 168,
     "metadata": {},
     "output_type": "execute_result"
    }
   ],
   "source": [
    "theta1,a,d2,theta3,b = sp.symbols('theta1, a, d2,theta3,b')\n",
    "robot = rt.SerialLinkRobot()\n",
    "robot.add_revolute_joint(theta1,a,0,-3*sp.pi/4)\n",
    "robot.add_prismatic_joint(-sp.pi/2,d2,0,-3*sp.pi/4)\n",
    "robot.add_revolute_joint(theta3,b,0,sp.pi/2+sp.pi/4)\n",
    "robot.add_subs([(a,1),(b,1)])\n",
    "robot.interact()"
   ]
  },
  {
   "cell_type": "code",
   "execution_count": 169,
   "id": "7dc737b0-b99b-4df8-b5b1-a8bf8f91f746",
   "metadata": {},
   "outputs": [
    {
     "data": {
      "text/latex": [
       "$\\displaystyle \\left[\\begin{matrix}\\frac{\\sin{\\left(\\theta_{1} \\right)} \\sin{\\left(\\theta_{3} \\right)}}{2} - \\frac{\\sqrt{2} \\sin{\\left(\\theta_{1} + \\theta_{3} \\right)}}{2} & - \\frac{\\sqrt{2} \\sin{\\left(\\theta_{1} \\right)} \\cos{\\left(\\theta_{3} \\right)}}{4} + \\frac{\\sqrt{2} \\sin{\\left(\\theta_{1} \\right)}}{4} + \\frac{\\cos{\\left(\\theta_{1} \\right)}}{2} + \\frac{\\cos{\\left(\\theta_{1} + \\theta_{3} \\right)}}{2} & - \\frac{\\sqrt{2} \\sin{\\left(\\theta_{1} \\right)} \\cos{\\left(\\theta_{3} \\right)}}{4} - \\frac{\\sqrt{2} \\sin{\\left(\\theta_{1} \\right)}}{4} - \\frac{\\cos{\\left(\\theta_{1} \\right)}}{2} + \\frac{\\cos{\\left(\\theta_{1} + \\theta_{3} \\right)}}{2} & \\frac{b \\left(\\sin{\\left(\\theta_{1} \\right)} + \\sqrt{2} \\cos{\\left(\\theta_{1} \\right)}\\right)}{2} - \\frac{\\sqrt{2} d_{2} \\sin{\\left(\\theta_{1} \\right)}}{2}\\\\- \\frac{\\sin{\\left(\\theta_{3} \\right)} \\cos{\\left(\\theta_{1} \\right)}}{2} + \\frac{\\sqrt{2} \\cos{\\left(\\theta_{1} + \\theta_{3} \\right)}}{2} & \\frac{\\sin{\\left(\\theta_{1} \\right)}}{2} + \\frac{\\sin{\\left(\\theta_{1} + \\theta_{3} \\right)}}{2} + \\frac{\\sqrt{2} \\cos{\\left(\\theta_{1} \\right)} \\cos{\\left(\\theta_{3} \\right)}}{4} - \\frac{\\sqrt{2} \\cos{\\left(\\theta_{1} \\right)}}{4} & - \\frac{\\sin{\\left(\\theta_{1} \\right)}}{2} + \\frac{\\sin{\\left(\\theta_{1} + \\theta_{3} \\right)}}{2} + \\frac{\\sqrt{2} \\cos{\\left(\\theta_{1} \\right)} \\cos{\\left(\\theta_{3} \\right)}}{4} + \\frac{\\sqrt{2} \\cos{\\left(\\theta_{1} \\right)}}{4} & \\frac{b \\left(\\sqrt{2} \\sin{\\left(\\theta_{1} \\right)} - \\cos{\\left(\\theta_{1} \\right)}\\right)}{2} + \\frac{\\sqrt{2} d_{2} \\cos{\\left(\\theta_{1} \\right)}}{2}\\\\\\frac{\\sin{\\left(\\theta_{3} \\right)}}{2} + \\frac{\\sqrt{2} \\cos{\\left(\\theta_{3} \\right)}}{2} & \\frac{\\sin{\\left(\\theta_{3} \\right)}}{2} - \\frac{\\sqrt{2} \\cos{\\left(\\theta_{3} \\right)}}{4} + \\frac{\\sqrt{2}}{4} & \\frac{\\sin{\\left(\\theta_{3} \\right)}}{2} - \\frac{\\sqrt{2} \\cos{\\left(\\theta_{3} \\right)}}{4} - \\frac{\\sqrt{2}}{4} & a + \\frac{b}{2} - \\frac{\\sqrt{2} d_{2}}{2}\\\\0 & 0 & 0 & 1\\end{matrix}\\right]$"
      ],
      "text/plain": [
       "⎡ sin(θ₁)⋅sin(θ₃)   √2⋅sin(θ₁ + θ₃)     √2⋅sin(θ₁)⋅cos(θ₃)   √2⋅sin(θ₁)   cos(θ₁)   cos(θ₁ + θ₃)    √2⋅sin(θ₁)⋅cos(θ₃)   √2⋅sin(θ₁)   cos(θ₁)   cos(θ₁ + θ₃)  b⋅(sin(θ₁) + √2⋅cos(θ₁))   √2⋅d₂⋅sin(θ₁)⎤\n",
       "⎢ ─────────────── - ───────────────   - ────────────────── + ────────── + ─────── + ────────────  - ────────────────── - ────────── - ─────── + ────────────  ──────────────────────── - ─────────────⎥\n",
       "⎢        2                 2                    4                4           2           2                  4                4           2           2                   2                     2      ⎥\n",
       "⎢                                                                                                                                                                                                     ⎥\n",
       "⎢  sin(θ₃)⋅cos(θ₁)   √2⋅cos(θ₁ + θ₃)   sin(θ₁)   sin(θ₁ + θ₃)   √2⋅cos(θ₁)⋅cos(θ₃)   √2⋅cos(θ₁)     sin(θ₁)   sin(θ₁ + θ₃)   √2⋅cos(θ₁)⋅cos(θ₃)   √2⋅cos(θ₁)  b⋅(√2⋅sin(θ₁) - cos(θ₁))   √2⋅d₂⋅cos(θ₁)⎥\n",
       "⎢- ─────────────── + ───────────────   ─────── + ──────────── + ────────────────── - ──────────   - ─────── + ──────────── + ────────────────── + ──────────  ──────────────────────── + ─────────────⎥\n",
       "⎢         2                 2             2           2                 4                4             2           2                 4                4                  2                     2      ⎥\n",
       "⎢                                                                                                                                                                                                     ⎥\n",
       "⎢       sin(θ₃)   √2⋅cos(θ₃)                          sin(θ₃)   √2⋅cos(θ₃)   √2                                   sin(θ₃)   √2⋅cos(θ₃)   √2                                    b   √2⋅d₂              ⎥\n",
       "⎢       ─────── + ──────────                          ─────── - ────────── + ──                                   ─────── - ────────── - ──                                a + ─ - ─────              ⎥\n",
       "⎢          2          2                                  2          4        4                                       2          4        4                                     2     2                ⎥\n",
       "⎢                                                                                                                                                                                                     ⎥\n",
       "⎣                 0                                               0                                                           0                                                  1                    ⎦"
      ]
     },
     "execution_count": 169,
     "metadata": {},
     "output_type": "execute_result"
    }
   ],
   "source": [
    "T=robot.get_dh_joint_to_joint(0,3)\n",
    "T"
   ]
  },
  {
   "cell_type": "code",
   "execution_count": 170,
   "id": "808d1f8b-fcf4-46c5-9e53-b3f8c032c8de",
   "metadata": {
    "scrolled": true
   },
   "outputs": [
    {
     "data": {
      "text/latex": [
       "$\\displaystyle \\left[\\begin{matrix}- \\frac{\\sqrt{2} \\sin{\\left(0.4 + \\frac{\\pi}{3} \\right)}}{2} + 0.0973545855771626 \\sqrt{3} & 0.00986737574963936 \\sqrt{6} + \\frac{\\cos{\\left(0.4 + \\frac{\\pi}{3} \\right)}}{2} + \\frac{1}{4} & - 0.240132624250361 \\sqrt{6} - \\frac{1}{4} + \\frac{\\cos{\\left(0.4 + \\frac{\\pi}{3} \\right)}}{2} & \\frac{b \\left(\\frac{\\sqrt{2}}{2} + \\frac{\\sqrt{3}}{2}\\right)}{2} - \\frac{\\sqrt{6} d_{2}}{4}\\\\-0.0973545855771626 + \\frac{\\sqrt{2} \\cos{\\left(0.4 + \\frac{\\pi}{3} \\right)}}{2} & - 0.00986737574963936 \\sqrt{2} + \\frac{\\sqrt{3}}{4} + \\frac{\\sin{\\left(0.4 + \\frac{\\pi}{3} \\right)}}{2} & - \\frac{\\sqrt{3}}{4} + 0.240132624250361 \\sqrt{2} + \\frac{\\sin{\\left(0.4 + \\frac{\\pi}{3} \\right)}}{2} & \\frac{b \\left(- \\frac{1}{2} + \\frac{\\sqrt{6}}{2}\\right)}{2} + \\frac{\\sqrt{2} d_{2}}{4}\\\\0.194709171154325 + 0.460530497001443 \\sqrt{2} & 0.0197347514992787 \\sqrt{2} + 0.194709171154325 & 0.194709171154325 - 0.480265248500721 \\sqrt{2} & a + \\frac{b}{2} - \\frac{\\sqrt{2} d_{2}}{2}\\\\0 & 0 & 0 & 1\\end{matrix}\\right]$"
      ],
      "text/plain": [
       "⎡        ⎛      π⎞                                                       ⎛      π⎞                                       ⎛      π⎞     ⎛√2   √3⎞         ⎤\n",
       "⎢  √2⋅sin⎜0.4 + ─⎟                                                    cos⎜0.4 + ─⎟                                    cos⎜0.4 + ─⎟   b⋅⎜── + ──⎟         ⎥\n",
       "⎢        ⎝      3⎠                                                       ⎝      3⎠   1                            1      ⎝      3⎠     ⎝2    2 ⎠   √6⋅d₂ ⎥\n",
       "⎢- ─────────────── + 0.0973545855771626⋅√3   0.00986737574963936⋅√6 + ──────────── + ─    -0.240132624250361⋅√6 - ─ + ────────────   ─────────── - ───── ⎥\n",
       "⎢         2                                                                2         4                            4        2              2          4   ⎥\n",
       "⎢                                                                                                                                                        ⎥\n",
       "⎢                              ⎛      π⎞                                      ⎛      π⎞                                   ⎛      π⎞    ⎛  1   √6⎞        ⎥\n",
       "⎢                        √2⋅cos⎜0.4 + ─⎟                                   sin⎜0.4 + ─⎟                                sin⎜0.4 + ─⎟  b⋅⎜- ─ + ──⎟        ⎥\n",
       "⎢                              ⎝      3⎠                              √3      ⎝      3⎠    √3                             ⎝      3⎠    ⎝  2   2 ⎠   √2⋅d₂⎥\n",
       "⎢  -0.0973545855771626 + ───────────────    -0.00986737574963936⋅√2 + ── + ────────────  - ── + 0.240132624250361⋅√2 + ────────────  ──────────── + ─────⎥\n",
       "⎢                               2                                     4         2          4                                2             2           4  ⎥\n",
       "⎢                                                                                                                                                        ⎥\n",
       "⎢                                                                                                                                           b   √2⋅d₂    ⎥\n",
       "⎢0.194709171154325 + 0.460530497001443⋅√2    0.0197347514992787⋅√2 + 0.194709171154325    0.194709171154325 - 0.480265248500721⋅√2      a + ─ - ─────    ⎥\n",
       "⎢                                                                                                                                           2     2      ⎥\n",
       "⎢                                                                                                                                                        ⎥\n",
       "⎣                    0                                           0                                           0                                1          ⎦"
      ]
     },
     "execution_count": 170,
     "metadata": {},
     "output_type": "execute_result"
    }
   ],
   "source": [
    "T= T.subs(theta1,sp.pi/3).subs(theta2,0.3).subs(theta3,0.4)\n",
    "T"
   ]
  },
  {
   "cell_type": "code",
   "execution_count": 171,
   "id": "39002416-9ed6-4315-a212-6c2a7d9328d3",
   "metadata": {},
   "outputs": [
    {
     "data": {
      "text/latex": [
       "$\\displaystyle \\left[\\begin{matrix}- \\frac{b \\left(\\sqrt{2} \\sin{\\left(\\theta_{1} \\right)} - \\cos{\\left(\\theta_{1} \\right)}\\right)}{2} - \\frac{\\sqrt{2} d_{2} \\cos{\\left(\\theta_{1} \\right)}}{2} & - \\frac{\\sqrt{2} \\sin{\\left(\\theta_{1} \\right)}}{2} & 0\\\\\\frac{b \\left(\\sin{\\left(\\theta_{1} \\right)} + \\sqrt{2} \\cos{\\left(\\theta_{1} \\right)}\\right)}{2} - \\frac{\\sqrt{2} d_{2} \\sin{\\left(\\theta_{1} \\right)}}{2} & \\frac{\\sqrt{2} \\cos{\\left(\\theta_{1} \\right)}}{2} & 0\\\\0 & - \\frac{\\sqrt{2}}{2} & 0\\end{matrix}\\right]$"
      ],
      "text/plain": [
       "⎡  b⋅(√2⋅sin(θ₁) - cos(θ₁))   √2⋅d₂⋅cos(θ₁)  -√2⋅sin(θ₁)    ⎤\n",
       "⎢- ──────────────────────── - ─────────────  ────────────  0⎥\n",
       "⎢             2                     2             2         ⎥\n",
       "⎢                                                           ⎥\n",
       "⎢ b⋅(sin(θ₁) + √2⋅cos(θ₁))   √2⋅d₂⋅sin(θ₁)    √2⋅cos(θ₁)    ⎥\n",
       "⎢ ──────────────────────── - ─────────────    ──────────   0⎥\n",
       "⎢            2                     2              2         ⎥\n",
       "⎢                                                           ⎥\n",
       "⎢                                                -√2        ⎥\n",
       "⎢                    0                           ────      0⎥\n",
       "⎣                                                 2         ⎦"
      ]
     },
     "execution_count": 171,
     "metadata": {},
     "output_type": "execute_result"
    }
   ],
   "source": [
    "Jv=robot.linear_jacobian()\n",
    "Jv"
   ]
  },
  {
   "cell_type": "code",
   "execution_count": 172,
   "id": "7a688014-23cb-428b-b2b7-b88995d90216",
   "metadata": {},
   "outputs": [
    {
     "data": {
      "text/latex": [
       "$\\displaystyle 0$"
      ],
      "text/plain": [
       "0"
      ]
     },
     "execution_count": 172,
     "metadata": {},
     "output_type": "execute_result"
    }
   ],
   "source": [
    "det =sp.det(Jv).simplify()\n",
    "det"
   ]
  },
  {
   "cell_type": "code",
   "execution_count": 173,
   "id": "186c01bc-8c93-4e41-8f96-1349961b975a",
   "metadata": {},
   "outputs": [
    {
     "data": {
      "text/latex": [
       "$\\displaystyle \\left(- \\pi, \\pi\\right]$"
      ],
      "text/plain": [
       "(-π, π]"
      ]
     },
     "execution_count": 173,
     "metadata": {},
     "output_type": "execute_result"
    }
   ],
   "source": [
    "# barame singulariteti koga theta 1 e vo prashanje\n",
    "interval = sp.Interval(-sp.pi, sp.pi, left_open=True)\n",
    "solution = sp.solveset(det, theta1, interval)\n",
    "solution #singulariteti"
   ]
  },
  {
   "cell_type": "code",
   "execution_count": 174,
   "id": "e6e1cd35-02a3-4e08-9c87-9ab95ca67e1e",
   "metadata": {},
   "outputs": [
    {
     "data": {
      "text/latex": [
       "$\\displaystyle \\left[\\begin{matrix}- \\frac{b \\left(\\sqrt{2} \\sin{\\left(\\theta_{1} \\right)} - \\cos{\\left(\\theta_{1} \\right)}\\right)}{2} - \\frac{\\sqrt{2} d_{2} \\cos{\\left(\\theta_{1} \\right)}}{2} & - \\frac{\\sqrt{2} \\sin{\\left(\\theta_{1} \\right)}}{2} & 0\\\\\\frac{b \\left(\\sin{\\left(\\theta_{1} \\right)} + \\sqrt{2} \\cos{\\left(\\theta_{1} \\right)}\\right)}{2} - \\frac{\\sqrt{2} d_{2} \\sin{\\left(\\theta_{1} \\right)}}{2} & \\frac{\\sqrt{2} \\cos{\\left(\\theta_{1} \\right)}}{2} & 0\\\\0 & - \\frac{\\sqrt{2}}{2} & 0\\\\0 & 0 & \\frac{\\sin{\\left(\\theta_{1} \\right)}}{2} + \\frac{\\sqrt{2} \\cos{\\left(\\theta_{1} \\right)}}{2}\\\\0 & 0 & \\frac{\\sqrt{2} \\sin{\\left(\\theta_{1} \\right)}}{2} - \\frac{\\cos{\\left(\\theta_{1} \\right)}}{2}\\\\1 & 0 & \\frac{1}{2}\\end{matrix}\\right]$"
      ],
      "text/plain": [
       "⎡  b⋅(√2⋅sin(θ₁) - cos(θ₁))   √2⋅d₂⋅cos(θ₁)  -√2⋅sin(θ₁)                       ⎤\n",
       "⎢- ──────────────────────── - ─────────────  ────────────           0          ⎥\n",
       "⎢             2                     2             2                            ⎥\n",
       "⎢                                                                              ⎥\n",
       "⎢ b⋅(sin(θ₁) + √2⋅cos(θ₁))   √2⋅d₂⋅sin(θ₁)    √2⋅cos(θ₁)                       ⎥\n",
       "⎢ ──────────────────────── - ─────────────    ──────────            0          ⎥\n",
       "⎢            2                     2              2                            ⎥\n",
       "⎢                                                                              ⎥\n",
       "⎢                                                -√2                           ⎥\n",
       "⎢                    0                           ────               0          ⎥\n",
       "⎢                                                 2                            ⎥\n",
       "⎢                                                                              ⎥\n",
       "⎢                                                          sin(θ₁)   √2⋅cos(θ₁)⎥\n",
       "⎢                    0                            0        ─────── + ──────────⎥\n",
       "⎢                                                             2          2     ⎥\n",
       "⎢                                                                              ⎥\n",
       "⎢                                                          √2⋅sin(θ₁)   cos(θ₁)⎥\n",
       "⎢                    0                            0        ────────── - ───────⎥\n",
       "⎢                                                              2           2   ⎥\n",
       "⎢                                                                              ⎥\n",
       "⎣                    1                            0                1/2         ⎦"
      ]
     },
     "execution_count": 174,
     "metadata": {},
     "output_type": "execute_result"
    }
   ],
   "source": [
    "# Za kocnicite\n",
    "J=robot.jacobian()\n",
    "F = [0,0,1,0,0,1]\n",
    "T=J.T*F\n",
    "T"
   ]
  },
  {
   "cell_type": "code",
   "execution_count": null,
   "id": "4fb2067e-c8b7-4351-a1c4-cb0dab057428",
   "metadata": {},
   "outputs": [],
   "source": []
  },
  {
   "cell_type": "markdown",
   "id": "152df7cd-1bf2-48f4-8b9f-ea107b18290f",
   "metadata": {},
   "source": [
    "# Zadaca 2"
   ]
  },
  {
   "cell_type": "code",
   "execution_count": 161,
   "id": "82225048-8142-4070-af2d-cc74c3e78b83",
   "metadata": {},
   "outputs": [
    {
     "ename": "NameError",
     "evalue": "name 'v_theta1' is not defined",
     "output_type": "error",
     "traceback": [
      "\u001b[0;31m---------------------------------------------------------------------------\u001b[0m",
      "\u001b[0;31mNameError\u001b[0m                                 Traceback (most recent call last)",
      "Cell \u001b[0;32mIn[161], line 4\u001b[0m\n\u001b[1;32m      2\u001b[0m eq1_xi \u001b[38;5;241m=\u001b[39m theta1\u001b[38;5;241m.\u001b[39msubs(t, ti) \u001b[38;5;241m-\u001b[39m \u001b[38;5;241m0\u001b[39m\n\u001b[1;32m      3\u001b[0m eq1_xf \u001b[38;5;241m=\u001b[39m theta1\u001b[38;5;241m.\u001b[39msubs(t, tf) \u001b[38;5;241m-\u001b[39m \u001b[38;5;241m360\u001b[39m\n\u001b[0;32m----> 4\u001b[0m eq1_vi \u001b[38;5;241m=\u001b[39m \u001b[43mv_theta1\u001b[49m\u001b[38;5;241m.\u001b[39msubs(t, ti) \u001b[38;5;241m-\u001b[39m \u001b[38;5;241m0\u001b[39m\n\u001b[1;32m      5\u001b[0m eq1_vf \u001b[38;5;241m=\u001b[39m v_theta1\u001b[38;5;241m.\u001b[39msubs(t, tf) \u001b[38;5;241m-\u001b[39m \u001b[38;5;241m60\u001b[39m\n",
      "\u001b[0;31mNameError\u001b[0m: name 'v_theta1' is not defined"
     ]
    }
   ],
   "source": [
    "ti, tf = 0, 6\n",
    "eq1_xi = theta1.subs(t, ti) - 0\n",
    "eq1_xf = theta1.subs(t, tf) - 360\n",
    "eq1_vi = v_theta1.subs(t, ti) - 0\n",
    "eq1_vf = v_theta1.subs(t, tf) - 60"
   ]
  },
  {
   "cell_type": "code",
   "execution_count": null,
   "id": "e24bfbe5-82b0-4bf4-8f45-c5e1876c1d23",
   "metadata": {},
   "outputs": [],
   "source": []
  },
  {
   "cell_type": "code",
   "execution_count": null,
   "id": "ccc34e9b-7b9d-4d08-a749-4ab9d1a6bd2f",
   "metadata": {},
   "outputs": [],
   "source": [
    "ti, tf = 0, 6\n",
    "theta, solution = rt.trajectory_polynomial_3(ti, tf, xi=1, xf=3,vi=2,vf=2)\n",
    "theta, solution"
   ]
  },
  {
   "cell_type": "markdown",
   "id": "1e0ea0ac-f11e-490e-8294-6b86e0580355",
   "metadata": {},
   "source": [
    "# Zadaca3\n",
    "\n",
    "Prvite dva zglobovi mozhe da se smetaat kako eden zglob koj rotira i se izdolzuva. No pri modeliranjeto na kinetickata i potencijalnata energija,\n",
    "rabotime spored polozhbata i raspredelbata na masi. "
   ]
  },
  {
   "cell_type": "code",
   "execution_count": 43,
   "id": "8ef9b78a-a4d1-4013-ab2c-705fad08b706",
   "metadata": {},
   "outputs": [
    {
     "data": {
      "application/vnd.jupyter.widget-view+json": {
       "model_id": "0b292f9cf79c480cb50bfd5d4702e250",
       "version_major": 2,
       "version_minor": 0
      },
      "text/plain": [
       "VBox(children=(HBox(children=(ToggleButton(value=True, description='Исклучи цртање'), Button(description='Пром…"
      ]
     },
     "execution_count": 43,
     "metadata": {},
     "output_type": "execute_result"
    }
   ],
   "source": [
    "# Crtanje na robotskata raka\n",
    "theta1, d2, d3, a1,a2,a3= sp.symbols('theta1, d2, d3, a1,a2,a3')\n",
    "robot = rt.SerialLinkRobot()\n",
    "robot.add_revolute_joint(theta1,a1,0,0)\n",
    "robot.add_prismatic_joint(0,d2,0,-sp.pi/2)\n",
    "robot.add_prismatic_joint(0,d3,0,0)\n",
    "robot.add_subs([(a1,1)])\n",
    "robot.interact()"
   ]
  },
  {
   "cell_type": "code",
   "execution_count": 44,
   "id": "161a02b7-c35a-4db4-a1b7-5a76cf6497b8",
   "metadata": {},
   "outputs": [
    {
     "data": {
      "text/latex": [
       "$\\displaystyle \\left[\\begin{matrix}\\cos{\\left(\\theta_{1} \\right)} & 0 & - \\sin{\\left(\\theta_{1} \\right)} & - d_{3} \\sin{\\left(\\theta_{1} \\right)}\\\\\\sin{\\left(\\theta_{1} \\right)} & 0 & \\cos{\\left(\\theta_{1} \\right)} & d_{3} \\cos{\\left(\\theta_{1} \\right)}\\\\0 & -1 & 0 & a_{1} + d_{2}\\\\0 & 0 & 0 & 1\\end{matrix}\\right]$"
      ],
      "text/plain": [
       "⎡cos(θ₁)  0   -sin(θ₁)  -d₃⋅sin(θ₁)⎤\n",
       "⎢                                  ⎥\n",
       "⎢sin(θ₁)  0   cos(θ₁)   d₃⋅cos(θ₁) ⎥\n",
       "⎢                                  ⎥\n",
       "⎢   0     -1     0        a₁ + d₂  ⎥\n",
       "⎢                                  ⎥\n",
       "⎣   0     0      0           1     ⎦"
      ]
     },
     "execution_count": 44,
     "metadata": {},
     "output_type": "execute_result"
    }
   ],
   "source": [
    "robot.get_dh_matrix()"
   ]
  },
  {
   "cell_type": "code",
   "execution_count": 45,
   "id": "7047d5ed-3523-4f2b-9fdd-0b904aa55f31",
   "metadata": {},
   "outputs": [],
   "source": [
    "# definiranje na prpbmenlivite\n",
    "t = sp.symbols('t')\n",
    "m1, m2, m3, g, a1, a2, a3 = sp.symbols('m1, m2, m3, g, a1, a2, a3')\n",
    "# dinamicki pormenlivi\n",
    "theta1, d2, d3 = mechanics.dynamicsymbols('theta1, d2, d3')"
   ]
  },
  {
   "cell_type": "code",
   "execution_count": 57,
   "id": "e3edca20-f39a-4d3c-be78-ed995b2f7ba2",
   "metadata": {},
   "outputs": [],
   "source": [
    "# brzini \n",
    "vd2, vd3, vtheta = d2.diff(t), d3.diff(t), theta1.diff(t)"
   ]
  },
  {
   "cell_type": "code",
   "execution_count": 61,
   "id": "5577e5d2-5d10-49bb-9ff1-ecd20483e539",
   "metadata": {},
   "outputs": [],
   "source": [
    "# nemame promena vo proekcija pri dvizenjeto na prviot zglob pa kinetickata energija e 0\n",
    "K1=0\n",
    "K2= m2*vd2**2/2\n",
    "K3= m3*(vd2**2+vd3**2)/2 + m3 * d3**2*vtheta**2/2"
   ]
  },
  {
   "cell_type": "code",
   "execution_count": 62,
   "id": "670a8a72-3fda-434e-be20-e6c7fd52ce7f",
   "metadata": {},
   "outputs": [
    {
     "data": {
      "text/latex": [
       "$\\displaystyle \\frac{m_{2} \\dot{d}_{2}^{2}}{2} + \\frac{m_{3} \\left(\\dot{d}_{2}^{2} + \\dot{d}_{3}^{2}\\right)}{2} + \\frac{m_{3} d_{3}^{2} \\dot{\\theta}_{1}^{2}}{2}$"
      ],
      "text/plain": [
       "     2      ⎛  2     2⎞        2   2\n",
       "m₂⋅d₂̇    m₃⋅⎝d₂̇  + d₃̇ ⎠   m₃⋅d₃ ⋅θ₁̇ \n",
       "────── + ────────────── + ──────────\n",
       "  2            2              2     "
      ]
     },
     "execution_count": 62,
     "metadata": {},
     "output_type": "execute_result"
    }
   ],
   "source": [
    "K = K1 + K2 + K3\n",
    "K"
   ]
  },
  {
   "cell_type": "code",
   "execution_count": 63,
   "id": "2c70fcfd-b69a-45a4-b255-bf58cfcfa031",
   "metadata": {},
   "outputs": [
    {
     "data": {
      "text/latex": [
       "$\\displaystyle g \\left(m_{2} + m_{3}\\right) d_{2}$"
      ],
      "text/plain": [
       "g⋅(m₂ + m₃)⋅d₂"
      ]
     },
     "execution_count": 63,
     "metadata": {},
     "output_type": "execute_result"
    }
   ],
   "source": [
    "P=(m2+m3)*g*d2\n",
    "P"
   ]
  },
  {
   "cell_type": "code",
   "execution_count": 64,
   "id": "c341fdb3-d74c-4280-ae41-699a33c1c06c",
   "metadata": {},
   "outputs": [
    {
     "data": {
      "text/latex": [
       "$\\displaystyle - g \\left(m_{2} + m_{3}\\right) d_{2} + \\frac{m_{2} \\dot{d}_{2}^{2}}{2} + \\frac{m_{3} \\left(\\dot{d}_{2}^{2} + \\dot{d}_{3}^{2}\\right)}{2} + \\frac{m_{3} d_{3}^{2} \\dot{\\theta}_{1}^{2}}{2}$"
      ],
      "text/plain": [
       "                       2      ⎛  2     2⎞        2   2\n",
       "                  m₂⋅d₂̇    m₃⋅⎝d₂̇  + d₃̇ ⎠   m₃⋅d₃ ⋅θ₁̇ \n",
       "-g⋅(m₂ + m₃)⋅d₂ + ────── + ────────────── + ──────────\n",
       "                    2            2              2     "
      ]
     },
     "execution_count": 64,
     "metadata": {},
     "output_type": "execute_result"
    }
   ],
   "source": [
    "L=K-P\n",
    "L"
   ]
  },
  {
   "cell_type": "code",
   "execution_count": 65,
   "id": "4febd34a-a373-46ec-abae-ee2f6db1d95b",
   "metadata": {},
   "outputs": [
    {
     "data": {
      "text/latex": [
       "$\\displaystyle \\left[\\begin{matrix}m_{3} \\left(d_{3} \\ddot{\\theta}_{1} + 2 \\dot{d}_{3} \\dot{\\theta}_{1}\\right) d_{3}\\\\g \\left(m_{2} + m_{3}\\right) + m_{2} \\ddot{d}_{2} + m_{3} \\ddot{d}_{2}\\\\m_{3} \\left(- d_{3} \\dot{\\theta}_{1}^{2} + \\ddot{d}_{3}\\right)\\end{matrix}\\right]$"
      ],
      "text/plain": [
       "⎡  m₃⋅(d₃⋅θ₁̈ + 2⋅d₃̇⋅θ₁̇)⋅d₃  ⎤\n",
       "⎢                           ⎥\n",
       "⎢g⋅(m₂ + m₃) + m₂⋅d₂̈ + m₃⋅d₂̈⎥\n",
       "⎢                           ⎥\n",
       "⎢       ⎛       2     ⎞     ⎥\n",
       "⎣    m₃⋅⎝- d₃⋅θ₁̇  + d₃̈⎠     ⎦"
      ]
     },
     "execution_count": 65,
     "metadata": {},
     "output_type": "execute_result"
    }
   ],
   "source": [
    "# presmetuvanje na lagranzijan\n",
    "rt.lagrangian(L,[theta1,d2,d3])"
   ]
  },
  {
   "cell_type": "code",
   "execution_count": 66,
   "id": "d0913747-4cf9-46a7-bc99-b29fcd23b653",
   "metadata": {},
   "outputs": [
    {
     "data": {
      "text/latex": [
       "$\\displaystyle \\left( \\left[\\begin{matrix}m_{3} d_{3}^{2} \\ddot{\\theta}_{1} & 0 & 0\\\\0 & \\left(m_{2} + m_{3}\\right) \\ddot{d}_{2} & 0\\\\0 & 0 & m_{3} \\ddot{d}_{3}\\end{matrix}\\right], \\  \\left[\\begin{matrix}0 & 0 & 0\\\\0 & 0 & 0\\\\- m_{3} d_{3} \\dot{\\theta}_{1}^{2} & 0 & 0\\end{matrix}\\right], \\  \\left[\\begin{matrix}0 & 2 m_{3} d_{3} \\dot{d}_{3} \\dot{\\theta}_{1} & 0\\\\0 & 0 & 0\\\\0 & 0 & 0\\end{matrix}\\right], \\  \\left[\\begin{matrix}0\\\\g \\left(m_{2} + m_{3}\\right)\\\\0\\end{matrix}\\right]\\right)$"
      ],
      "text/plain": [
       "⎛⎡     2                        ⎤  ⎡    0       0  0⎤                                      ⎞\n",
       "⎜⎢m₃⋅d₃ ⋅θ₁̈       0          0  ⎥  ⎢                ⎥  ⎡0  2⋅m₃⋅d₃⋅d₃̇⋅θ₁̇  0⎤  ⎡     0     ⎤⎟\n",
       "⎜⎢                              ⎥  ⎢    0       0  0⎥  ⎢                   ⎥  ⎢           ⎥⎟\n",
       "⎜⎢    0      (m₂ + m₃)⋅d₂̈    0  ⎥, ⎢                ⎥, ⎢0        0        0⎥, ⎢g⋅(m₂ + m₃)⎥⎟\n",
       "⎜⎢                              ⎥  ⎢         2      ⎥  ⎢                   ⎥  ⎢           ⎥⎟\n",
       "⎝⎣    0           0        m₃⋅d₃̈⎦  ⎣-m₃⋅d₃⋅θ₁̇   0  0⎦  ⎣0        0        0⎦  ⎣     0     ⎦⎠"
      ]
     },
     "execution_count": 66,
     "metadata": {},
     "output_type": "execute_result"
    }
   ],
   "source": [
    "# Dobivanje na dinamicki model\n",
    "rt.dynamic_model_with_4_matrices(L, [theta1, d2, d3])"
   ]
  },
  {
   "cell_type": "code",
   "execution_count": null,
   "id": "e35a046a-295d-4a3b-94e9-b6ff016f1b92",
   "metadata": {},
   "outputs": [],
   "source": []
  }
 ],
 "metadata": {
  "kernelspec": {
   "display_name": "Python 3 (ipykernel)",
   "language": "python",
   "name": "python3"
  },
  "language_info": {
   "codemirror_mode": {
    "name": "ipython",
    "version": 3
   },
   "file_extension": ".py",
   "mimetype": "text/x-python",
   "name": "python",
   "nbconvert_exporter": "python",
   "pygments_lexer": "ipython3",
   "version": "3.12.5"
  }
 },
 "nbformat": 4,
 "nbformat_minor": 5
}
