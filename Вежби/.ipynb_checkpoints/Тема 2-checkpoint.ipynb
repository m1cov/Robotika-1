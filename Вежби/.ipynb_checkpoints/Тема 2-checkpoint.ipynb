{
 "cells": [
  {
   "cell_type": "markdown",
   "id": "4f740a2c-cc62-4c92-813e-ecb40263590c",
   "metadata": {},
   "source": [
    "## 2.4 Точка P со координати (3, 5, 7) е придвижена за <2, 3, 4>. Да се најдат новите координати на точката"
   ]
  },
  {
   "cell_type": "code",
   "execution_count": 2,
   "id": "043c7ef1-8ff4-4a29-be5a-a8cc3f594ed7",
   "metadata": {},
   "outputs": [],
   "source": [
    "import script as rt\n",
    "import sympy as sp"
   ]
  },
  {
   "cell_type": "code",
   "execution_count": 17,
   "id": "2d2573b8-e221-44e0-878a-08a6e2394001",
   "metadata": {},
   "outputs": [
    {
     "data": {
      "text/latex": [
       "$\\displaystyle \\left[\\begin{matrix}3\\\\5\\\\7\\\\1\\end{matrix}\\right]$"
      ],
      "text/plain": [
       "Matrix([\n",
       "[3],\n",
       "[5],\n",
       "[7],\n",
       "[1]])"
      ]
     },
     "execution_count": 17,
     "metadata": {},
     "output_type": "execute_result"
    }
   ],
   "source": [
    "P = rt.hpoint3(3, 5, 7)\n",
    "P"
   ]
  },
  {
   "cell_type": "code",
   "execution_count": 19,
   "id": "47c43d4e-5985-422b-9955-e4e3debf3486",
   "metadata": {},
   "outputs": [
    {
     "data": {
      "text/latex": [
       "$\\displaystyle \\left[\\begin{matrix}1 & 0 & 0 & 2\\\\0 & 1 & 0 & 3\\\\0 & 0 & 1 & 4\\\\0 & 0 & 0 & 1\\end{matrix}\\right]$"
      ],
      "text/plain": [
       "Matrix([\n",
       "[1, 0, 0, 2],\n",
       "[0, 1, 0, 3],\n",
       "[0, 0, 1, 4],\n",
       "[0, 0, 0, 1]])"
      ]
     },
     "execution_count": 19,
     "metadata": {},
     "output_type": "execute_result"
    }
   ],
   "source": [
    "T = rt.htranslation3(2, 3, 4)\n",
    "T"
   ]
  },
  {
   "cell_type": "code",
   "execution_count": 21,
   "id": "10a02d5b-a05b-409a-9e01-0b962ec40ad5",
   "metadata": {},
   "outputs": [
    {
     "data": {
      "text/latex": [
       "$\\displaystyle \\left[\\begin{matrix}5\\\\8\\\\11\\\\1\\end{matrix}\\right]$"
      ],
      "text/plain": [
       "Matrix([\n",
       "[ 5],\n",
       "[ 8],\n",
       "[11],\n",
       "[ 1]])"
      ]
     },
     "execution_count": 21,
     "metadata": {},
     "output_type": "execute_result"
    }
   ],
   "source": [
    "new_P = T * P\n",
    "new_P"
   ]
  },
  {
   "cell_type": "markdown",
   "id": "3404d64b-9963-470d-b399-51e4e27cf1b1",
   "metadata": {},
   "source": [
    "Новите координати на точката Р се (3, 5, 7)"
   ]
  },
  {
   "cell_type": "markdown",
   "id": "1fecf19d-9e30-4e1d-acfd-1feb84e9dd6f",
   "metadata": {},
   "source": [
    "## 2.5 Дадена е позиционата матрица В, да се одреди новата позиција на авионот кој се придвижил за <5, 2 6>"
   ]
  },
  {
   "cell_type": "code",
   "execution_count": 42,
   "id": "73486cba-1af0-4c5b-a66e-f30adafaa5fd",
   "metadata": {},
   "outputs": [
    {
     "data": {
      "text/latex": [
       "$\\displaystyle \\left[\\begin{matrix}1 & 0 & 0 & 2\\\\0 & 1 & 0 & 4\\\\0 & 0 & -1 & 6\\\\0 & 0 & 0 & 1\\end{matrix}\\right]$"
      ],
      "text/plain": [
       "Matrix([\n",
       "[1, 0,  0, 2],\n",
       "[0, 1,  0, 4],\n",
       "[0, 0, -1, 6],\n",
       "[0, 0,  0, 1]])"
      ]
     },
     "execution_count": 42,
     "metadata": {},
     "output_type": "execute_result"
    }
   ],
   "source": [
    "B = sp.Matrix([[1, 0, 0, 2],\n",
    "     [0, 1, 0, 4],\n",
    "     [0, 0, -1, 6],\n",
    "     [0, 0, 0, 1]])\n",
    "B"
   ]
  },
  {
   "cell_type": "code",
   "execution_count": 50,
   "id": "db8447f9-07b6-4bfe-bc3c-5353b6cdc59b",
   "metadata": {},
   "outputs": [],
   "source": [
    "T = rt.htranslation3(5, 2, 6)"
   ]
  },
  {
   "cell_type": "code",
   "execution_count": 51,
   "id": "d20956e5-8338-4dee-ab86-48acfc9ceb01",
   "metadata": {},
   "outputs": [
    {
     "data": {
      "text/latex": [
       "$\\displaystyle \\left[\\begin{matrix}1 & 0 & 0 & 7\\\\0 & 1 & 0 & 6\\\\0 & 0 & -1 & 12\\\\0 & 0 & 0 & 1\\end{matrix}\\right]$"
      ],
      "text/plain": [
       "Matrix([\n",
       "[1, 0,  0,  7],\n",
       "[0, 1,  0,  6],\n",
       "[0, 0, -1, 12],\n",
       "[0, 0,  0,  1]])"
      ]
     },
     "execution_count": 51,
     "metadata": {},
     "output_type": "execute_result"
    }
   ],
   "source": [
    "new_pos = T*B\n",
    "new_pos"
   ]
  },
  {
   "cell_type": "markdown",
   "id": "262e4c0b-a056-4c83-95c7-4cc0987bff7a",
   "metadata": {},
   "source": [
    "Матрицата new_pos укажува дека авионот не сменил насока туку продолжил да се движи во истата насока. Може ова да се види така што R матрицата нема сменети вредности"
   ]
  },
  {
   "cell_type": "markdown",
   "id": "011a2c88-2a5c-4745-bbb7-e5717a291695",
   "metadata": {},
   "source": [
    "## 2.6 Нека координатниот систем се придвижил за <5, 2, 6>. Да се определи почетната состојба на системот "
   ]
  },
  {
   "cell_type": "code",
   "execution_count": 53,
   "id": "ab0dcb6f-da84-42b9-a1ae-db62a1866db1",
   "metadata": {},
   "outputs": [
    {
     "data": {
      "text/latex": [
       "$\\displaystyle \\left[\\begin{matrix}0 & 1 & 0 & 2\\\\1 & 0 & 0 & 4\\\\0 & 0 & -1 & 6\\\\0 & 0 & 0 & 1\\end{matrix}\\right]$"
      ],
      "text/plain": [
       "Matrix([\n",
       "[0, 1,  0, 2],\n",
       "[1, 0,  0, 4],\n",
       "[0, 0, -1, 6],\n",
       "[0, 0,  0, 1]])"
      ]
     },
     "execution_count": 53,
     "metadata": {},
     "output_type": "execute_result"
    }
   ],
   "source": [
    "F = sp.Matrix([[0, 1, 0, 2],\n",
    "               [1, 0, 0, 4],\n",
    "               [0, 0, -1, 6],\n",
    "               [0, 0, 0, 1]])\n",
    "F"
   ]
  },
  {
   "cell_type": "code",
   "execution_count": 57,
   "id": "ee0bd0be-ed3e-4cea-8b55-3d05bec0b42f",
   "metadata": {},
   "outputs": [
    {
     "data": {
      "text/latex": [
       "$\\displaystyle \\left[\\begin{matrix}1 & 0 & 0 & 5\\\\0 & 1 & 0 & 2\\\\0 & 0 & 1 & 6\\\\0 & 0 & 0 & 1\\end{matrix}\\right]$"
      ],
      "text/plain": [
       "Matrix([\n",
       "[1, 0, 0, 5],\n",
       "[0, 1, 0, 2],\n",
       "[0, 0, 1, 6],\n",
       "[0, 0, 0, 1]])"
      ]
     },
     "execution_count": 57,
     "metadata": {},
     "output_type": "execute_result"
    }
   ],
   "source": [
    "T = rt.htranslation3(5, 2, 6)\n",
    "T"
   ]
  },
  {
   "cell_type": "code",
   "execution_count": 61,
   "id": "dd9f7af2-3c41-4a76-bd04-f5838efdfe33",
   "metadata": {},
   "outputs": [
    {
     "data": {
      "text/latex": [
       "$\\displaystyle \\left[\\begin{matrix}1 & 0 & 0 & 5\\\\0 & 1 & 0 & 2\\\\0 & 0 & 1 & 6\\\\0 & 0 & 0 & 1\\end{matrix}\\right]^{-1}$"
      ],
      "text/plain": [
       "Matrix([\n",
       "[1, 0, 0, 5],\n",
       "[0, 1, 0, 2],\n",
       "[0, 0, 1, 6],\n",
       "[0, 0, 0, 1]])**(-1)"
      ]
     },
     "execution_count": 61,
     "metadata": {},
     "output_type": "execute_result"
    }
   ],
   "source": [
    "T_inv = sp.Inverse(T)\n",
    "T_inv"
   ]
  },
  {
   "cell_type": "code",
   "execution_count": 63,
   "id": "6e1feaaa-9837-4a95-9a41-edb7f75989b1",
   "metadata": {},
   "outputs": [
    {
     "data": {
      "text/latex": [
       "$\\displaystyle \\left[\\begin{matrix}0 & 1 & 0 & -3\\\\1 & 0 & 0 & 2\\\\0 & 0 & -1 & 0\\\\0 & 0 & 0 & 1\\end{matrix}\\right]$"
      ],
      "text/plain": [
       "Matrix([\n",
       "[0, 1,  0, -3],\n",
       "[1, 0,  0,  2],\n",
       "[0, 0, -1,  0],\n",
       "[0, 0,  0,  1]])"
      ]
     },
     "execution_count": 63,
     "metadata": {},
     "output_type": "execute_result"
    }
   ],
   "source": [
    "old_pos = T_inv*F\n",
    "old_pos"
   ]
  },
  {
   "cell_type": "markdown",
   "id": "92a46974-d53d-43b1-bb2f-c749a53309b6",
   "metadata": {},
   "source": [
    "Старите координати на системот биле (-3, 2, 0)"
   ]
  },
  {
   "cell_type": "markdown",
   "id": "902158a9-a065-4c76-8d30-d5190b398aaf",
   "metadata": {},
   "source": [
    "## 2.10 "
   ]
  },
  {
   "cell_type": "code",
   "execution_count": 68,
   "id": "c8bd8a4f-d16e-4e8f-b5ea-8c2e3ac7a4dc",
   "metadata": {},
   "outputs": [
    {
     "data": {
      "application/vnd.jupyter.widget-view+json": {
       "model_id": "9f3e78d11a2c4930acdf7ea122b1d9bc",
       "version_major": 2,
       "version_minor": 0
      },
      "text/plain": [
       "VBox(children=(HBox(children=(ToggleButtons(options=('Ротирај', 'Придвижи се'), value='Ротирај'), BoundedFloat…"
      ]
     },
     "execution_count": 68,
     "metadata": {},
     "output_type": "execute_result"
    }
   ],
   "source": [
    "playground = rt.AnimationPlayground()\n",
    "playground.play()"
   ]
  },
  {
   "cell_type": "markdown",
   "id": "a8a94fe7-2e40-47f0-baee-76943b95b3f5",
   "metadata": {},
   "source": [
    "## 2.12/13 Да се изведе матрицата на ротација околу у-оската "
   ]
  },
  {
   "cell_type": "code",
   "execution_count": 70,
   "id": "e298b373-bb8e-40b2-91b5-b719216a2157",
   "metadata": {},
   "outputs": [
    {
     "data": {
      "text/latex": [
       "$\\displaystyle \\left[\\begin{matrix}0 & 0 & 1 & 0\\\\0 & 1 & 0 & 0\\\\-1 & 0 & 0 & 0\\\\0 & 0 & 0 & 1\\end{matrix}\\right]$"
      ],
      "text/plain": [
       "Matrix([\n",
       "[ 0, 0, 1, 0],\n",
       "[ 0, 1, 0, 0],\n",
       "[-1, 0, 0, 0],\n",
       "[ 0, 0, 0, 1]])"
      ]
     },
     "execution_count": 70,
     "metadata": {},
     "output_type": "execute_result"
    }
   ],
   "source": [
    "rt.hrotation3('y', sp.pi/2)"
   ]
  },
  {
   "cell_type": "markdown",
   "id": "812a23ab-4429-479b-a2e3-ee935688433c",
   "metadata": {},
   "source": [
    "## 2.14 Да се покаже дека матриците на ротација околу координатните оски ги исполнуваат следните услови n*o=0, n*a=0, a*o=0"
   ]
  },
  {
   "cell_type": "code",
   "execution_count": 74,
   "id": "390d07e9-39dd-43d8-b660-2d749fb5efc7",
   "metadata": {},
   "outputs": [
    {
     "data": {
      "text/latex": [
       "$\\displaystyle \\left[\\begin{matrix}1 & 0 & 0 & 0\\\\0 & \\cos{\\left(\\theta \\right)} & - \\sin{\\left(\\theta \\right)} & 0\\\\0 & \\sin{\\left(\\theta \\right)} & \\cos{\\left(\\theta \\right)} & 0\\\\0 & 0 & 0 & 1\\end{matrix}\\right]$"
      ],
      "text/plain": [
       "Matrix([\n",
       "[1,          0,           0, 0],\n",
       "[0, cos(theta), -sin(theta), 0],\n",
       "[0, sin(theta),  cos(theta), 0],\n",
       "[0,          0,           0, 1]])"
      ]
     },
     "execution_count": 74,
     "metadata": {},
     "output_type": "execute_result"
    }
   ],
   "source": [
    "theta = sp.symbols('theta')\n",
    "F = rt.hrotation3('x', theta)\n",
    "F"
   ]
  },
  {
   "cell_type": "code",
   "execution_count": 82,
   "id": "53877135-c444-464d-9891-ee5806462544",
   "metadata": {},
   "outputs": [],
   "source": [
    "n, o, a = F[:3, 0],F[:3, 1], F[:3, 2]"
   ]
  },
  {
   "cell_type": "code",
   "execution_count": 83,
   "id": "292fc88d-639d-40e2-95ca-03e36c093fa7",
   "metadata": {},
   "outputs": [
    {
     "data": {
      "text/latex": [
       "$\\displaystyle 0$"
      ],
      "text/plain": [
       "0"
      ]
     },
     "execution_count": 83,
     "metadata": {},
     "output_type": "execute_result"
    }
   ],
   "source": [
    "n.dot(o), "
   ]
  },
  {
   "cell_type": "markdown",
   "id": "3752a0f7-2d30-4ae2-bcb6-f359a72667fd",
   "metadata": {},
   "source": [
    "## 2.20 Дадена е ротационата матрица. Да се определи остката k и аголот $\\theta$ околу оваа оска, со кои може да се оствари зададената трансофрмација"
   ]
  },
  {
   "cell_type": "code",
   "execution_count": 101,
   "id": "02da7ad8-8f58-4000-b15e-fee03f2fcbbd",
   "metadata": {},
   "outputs": [
    {
     "data": {
      "text/latex": [
       "$\\displaystyle \\left[\\begin{matrix}\\frac{1}{9} & - \\frac{8}{9} & \\frac{4}{9}\\\\\\frac{4}{9} & \\frac{4}{9} & \\frac{7}{9}\\\\\\frac{8}{9} & - \\frac{1}{9} & \\frac{4}{9}\\end{matrix}\\right]$"
      ],
      "text/plain": [
       "Matrix([\n",
       "[1/9, -8/9, 4/9],\n",
       "[4/9,  4/9, 7/9],\n",
       "[8/9, -1/9, 4/9]])"
      ]
     },
     "execution_count": 101,
     "metadata": {},
     "output_type": "execute_result"
    }
   ],
   "source": [
    "R = sp.Matrix([[1, -8, 4],\n",
    "                     [4, 4, 7],\n",
    "                    [8, -1, 4]])/9\n",
    "R"
   ]
  },
  {
   "cell_type": "code",
   "execution_count": 102,
   "id": "09dc2998-41b8-4cf1-9319-f65b4536f9f9",
   "metadata": {},
   "outputs": [
    {
     "data": {
      "text/latex": [
       "$\\displaystyle \\frac{\\pi}{2}$"
      ],
      "text/plain": [
       "pi/2"
      ]
     },
     "execution_count": 102,
     "metadata": {},
     "output_type": "execute_result"
    }
   ],
   "source": [
    "theta = sp.acos((sp.trace(R)-1)/2)\n",
    "theta"
   ]
  },
  {
   "cell_type": "code",
   "execution_count": 103,
   "id": "fbbfa263-8f87-46ac-b46c-d01bfb30c56b",
   "metadata": {},
   "outputs": [
    {
     "data": {
      "text/latex": [
       "$\\displaystyle \\left[\\begin{matrix}- \\frac{4}{9}\\\\- \\frac{2}{9}\\\\\\frac{2}{3}\\end{matrix}\\right]$"
      ],
      "text/plain": [
       "Matrix([\n",
       "[-4/9],\n",
       "[-2/9],\n",
       "[ 2/3]])"
      ]
     },
     "execution_count": 103,
     "metadata": {},
     "output_type": "execute_result"
    }
   ],
   "source": [
    "I = sp.Matrix([[R[2, 1] - R[1, 2]], \n",
    "               [R[0,2]-R[2,0]],\n",
    "              [R[1,0]-R[0,1]]]) /(2*sp.sin(theta))\n",
    "I"
   ]
  },
  {
   "cell_type": "markdown",
   "id": "a77174b6-29a3-4128-b50d-bdef81cc0adc",
   "metadata": {},
   "source": [
    " ## 2.33 Точниот редослед на елементарни трансформации за да се одротира еден сферен координатен систем "
   ]
  },
  {
   "cell_type": "code",
   "execution_count": 104,
   "id": "6ca3f597-3681-48f9-b5b4-fa4bc0f55492",
   "metadata": {},
   "outputs": [
    {
     "data": {
      "application/vnd.jupyter.widget-view+json": {
       "model_id": "df6956e4030347ae8c117e61ac8ee210",
       "version_major": 2,
       "version_minor": 0
      },
      "text/plain": [
       "VBox(children=(HBox(children=(ToggleButtons(options=('Ротирај', 'Придвижи се'), value='Ротирај'), BoundedFloat…"
      ]
     },
     "execution_count": 104,
     "metadata": {},
     "output_type": "execute_result"
    }
   ],
   "source": [
    " playground = rt.AnimationPlayground()\n",
    "playground.play()"
   ]
  },
  {
   "cell_type": "code",
   "execution_count": 5,
   "id": "eb96cd5a-7250-4eaf-8d5d-8478a09c750b",
   "metadata": {},
   "outputs": [
    {
     "data": {
      "text/latex": [
       "$\\displaystyle r$"
      ],
      "text/plain": [
       "r"
      ]
     },
     "execution_count": 5,
     "metadata": {},
     "output_type": "execute_result"
    }
   ],
   "source": [
    "gamma, beta, r = sp.symbols('gamma, theta, r')"
   ]
  },
  {
   "cell_type": "code",
   "execution_count": null,
   "id": "c810e9ce-b927-465c-9b03-dea7d76af266",
   "metadata": {},
   "outputs": [],
   "source": []
  }
 ],
 "metadata": {
  "kernelspec": {
   "display_name": "Python 3 (ipykernel)",
   "language": "python",
   "name": "python3"
  },
  "language_info": {
   "codemirror_mode": {
    "name": "ipython",
    "version": 3
   },
   "file_extension": ".py",
   "mimetype": "text/x-python",
   "name": "python",
   "nbconvert_exporter": "python",
   "pygments_lexer": "ipython3",
   "version": "3.13.2"
  }
 },
 "nbformat": 4,
 "nbformat_minor": 5
}
