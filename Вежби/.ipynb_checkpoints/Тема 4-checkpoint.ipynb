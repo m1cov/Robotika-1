{
 "cells": [
  {
   "cell_type": "code",
   "execution_count": 6,
   "id": "5141cdbf-9d7c-4820-80ec-8da2953af86e",
   "metadata": {},
   "outputs": [],
   "source": [
    "import sympy as sp\n",
    "from sympy.physics import mechanics\n",
    "import script as rt"
   ]
  },
  {
   "cell_type": "code",
   "execution_count": 7,
   "id": "9bce9f00-e038-4802-8aaa-044c324f6e28",
   "metadata": {},
   "outputs": [],
   "source": [
    "mechanics.init_vprinting()"
   ]
  },
  {
   "cell_type": "markdown",
   "id": "a2af1196-b9bd-42b0-bcfc-c46b421a4edb",
   "metadata": {
    "jp-MarkdownHeadingCollapsed": true
   },
   "source": [
    "# 4.1"
   ]
  },
  {
   "cell_type": "code",
   "execution_count": 9,
   "id": "0d362994-5d00-483b-87ef-10dc0e08927a",
   "metadata": {},
   "outputs": [
    {
     "data": {
      "image/png": "[encoded data removed]",
      "text/latex": [
       "$\\displaystyle y$"
      ],
      "text/plain": [
       "y"
      ]
     },
     "execution_count": 9,
     "metadata": {},
     "output_type": "execute_result"
    }
   ],
   "source": [
    "m, g = sp.symbols('m,g')\n",
    "y = mechanics.dynamicsymbols('y')\n",
    "y"
   ]
  },
  {
   "cell_type": "code",
   "execution_count": 10,
   "id": "6027c80a-0bc1-4d25-8020-3c35698e6981",
   "metadata": {},
   "outputs": [
    {
     "data": {
      "image/png": "[encoded data removed]",
      "text/latex": [
       "$\\displaystyle \\dot{y}$"
      ],
      "text/plain": [
       "ẏ"
      ]
     },
     "execution_count": 10,
     "metadata": {},
     "output_type": "execute_result"
    }
   ],
   "source": [
    "vy = y.diff('t')\n",
    "vy"
   ]
  },
  {
   "cell_type": "code",
   "execution_count": 11,
   "id": "84c37915-6eca-4857-81ca-b9fb6e9fb206",
   "metadata": {},
   "outputs": [
    {
     "data": {
      "image/png": "[encoded data removed]",
      "text/latex": [
       "$\\displaystyle \\frac{m \\dot{y}^{2}}{2}$"
      ],
      "text/plain": [
       "   2\n",
       "m⋅ẏ \n",
       "────\n",
       " 2  "
      ]
     },
     "execution_count": 11,
     "metadata": {},
     "output_type": "execute_result"
    }
   ],
   "source": [
    "K = m * vy**2/2\n",
    "K"
   ]
  },
  {
   "cell_type": "code",
   "execution_count": 13,
   "id": "b217c4fe-5b1f-4a08-b28c-9a098cdab092",
   "metadata": {},
   "outputs": [
    {
     "data": {
      "image/png": "[encoded data removed]",
      "text/latex": [
       "$\\displaystyle g m y$"
      ],
      "text/plain": [
       "g⋅m⋅y"
      ]
     },
     "execution_count": 13,
     "metadata": {},
     "output_type": "execute_result"
    }
   ],
   "source": [
    "P = m * g * y\n",
    "P"
   ]
  },
  {
   "cell_type": "code",
   "execution_count": 15,
   "id": "343a8a51-e142-428b-aa5d-f8508d274c8e",
   "metadata": {},
   "outputs": [
    {
     "data": {
      "image/png": "[encoded data removed]",
      "text/latex": [
       "$\\displaystyle - g m y + \\frac{m \\dot{y}^{2}}{2}$"
      ],
      "text/plain": [
       "            2\n",
       "         m⋅ẏ \n",
       "-g⋅m⋅y + ────\n",
       "          2  "
      ]
     },
     "execution_count": 15,
     "metadata": {},
     "output_type": "execute_result"
    }
   ],
   "source": [
    "L = K-P\n",
    "L"
   ]
  },
  {
   "cell_type": "code",
   "execution_count": 16,
   "id": "8760b9dd-7460-4b86-9867-db3a41a1f132",
   "metadata": {},
   "outputs": [
    {
     "data": {
      "text/latex": [
       "$\\displaystyle \\left[\\begin{matrix}m \\left(g + \\ddot{y}\\right)\\end{matrix}\\right]$"
      ],
      "text/plain": [
       "[m⋅(g + ÿ)]"
      ]
     },
     "execution_count": 16,
     "metadata": {},
     "output_type": "execute_result"
    }
   ],
   "source": [
    "rt.lagrangian(L, [y])"
   ]
  },
  {
   "cell_type": "code",
   "execution_count": null,
   "id": "aa1e98d0-568d-4012-b84c-4d2cc7c63c84",
   "metadata": {},
   "outputs": [],
   "source": []
  },
  {
   "cell_type": "markdown",
   "id": "76c3e050-c250-4db5-827a-c0b98d150aea",
   "metadata": {
    "jp-MarkdownHeadingCollapsed": true
   },
   "source": [
    "# 4.2"
   ]
  },
  {
   "cell_type": "code",
   "execution_count": 17,
   "id": "92a4a1eb-2751-443d-b421-a3dfd58796fe",
   "metadata": {},
   "outputs": [
    {
     "data": {
      "image/png": "[encoded data removed]",
      "text/latex": [
       "$\\displaystyle \\theta$"
      ],
      "text/plain": [
       "θ"
      ]
     },
     "execution_count": 17,
     "metadata": {},
     "output_type": "execute_result"
    }
   ],
   "source": [
    "m, g, l = sp.symbols('m, g, l')\n",
    "theta = mechanics.dynamicsymbols('theta')\n",
    "theta"
   ]
  },
  {
   "cell_type": "code",
   "execution_count": 18,
   "id": "29b95955-0a2c-43a8-9a0e-867009368097",
   "metadata": {},
   "outputs": [
    {
     "data": {
      "image/png": "[encoded data removed]",
      "text/latex": [
       "$\\displaystyle l \\cos{\\left(\\theta \\right)}$"
      ],
      "text/plain": [
       "l⋅cos(θ)"
      ]
     },
     "execution_count": 18,
     "metadata": {},
     "output_type": "execute_result"
    }
   ],
   "source": [
    "x = l * sp.cos(theta)\n",
    "x"
   ]
  },
  {
   "cell_type": "code",
   "execution_count": 20,
   "id": "20a56bbf-d24e-43e9-b6d9-54d796890b42",
   "metadata": {},
   "outputs": [
    {
     "data": {
      "image/png": "[encoded data removed]",
      "text/latex": [
       "$\\displaystyle l \\sin{\\left(\\theta \\right)}$"
      ],
      "text/plain": [
       "l⋅sin(θ)"
      ]
     },
     "execution_count": 20,
     "metadata": {},
     "output_type": "execute_result"
    }
   ],
   "source": [
    "y = l* sp.sin(theta)\n",
    "y"
   ]
  },
  {
   "cell_type": "code",
   "execution_count": 22,
   "id": "4496ae15-f863-4e1f-8ada-f4dbddc1fe03",
   "metadata": {},
   "outputs": [
    {
     "data": {
      "image/png": "[encoded data removed]",
      "text/latex": [
       "$\\displaystyle l \\cos{\\left(\\theta \\right)} \\dot{\\theta}$"
      ],
      "text/plain": [
       "l⋅cos(θ)⋅θ̇"
      ]
     },
     "execution_count": 22,
     "metadata": {},
     "output_type": "execute_result"
    }
   ],
   "source": [
    "vy = y.diff('t')\n",
    "vy"
   ]
  },
  {
   "cell_type": "code",
   "execution_count": 24,
   "id": "138f7111-58f8-4e95-bc38-92ce1a28cfb7",
   "metadata": {},
   "outputs": [
    {
     "data": {
      "image/png": "[encoded data removed]",
      "text/latex": [
       "$\\displaystyle - l \\sin{\\left(\\theta \\right)} \\dot{\\theta}$"
      ],
      "text/plain": [
       "-l⋅sin(θ)⋅θ̇"
      ]
     },
     "execution_count": 24,
     "metadata": {},
     "output_type": "execute_result"
    }
   ],
   "source": [
    "vx = x.diff('t')\n",
    "vx"
   ]
  },
  {
   "cell_type": "code",
   "execution_count": 25,
   "id": "d28ca369-a91d-47d4-b214-6ac811acdfe4",
   "metadata": {},
   "outputs": [
    {
     "data": {
      "image/png": "[encoded data removed]",
      "text/latex": [
       "$\\displaystyle \\frac{l^{2} m \\dot{\\theta}^{2}}{2}$"
      ],
      "text/plain": [
       " 2    2\n",
       "l ⋅m⋅θ̇ \n",
       "───────\n",
       "   2   "
      ]
     },
     "execution_count": 25,
     "metadata": {},
     "output_type": "execute_result"
    }
   ],
   "source": [
    "K = m * (vx**2 + vy**2) /2\n",
    "K = K.simplify()\n",
    "K"
   ]
  },
  {
   "cell_type": "code",
   "execution_count": 26,
   "id": "a06d2e76-5a41-43fc-b757-cf9a54329917",
   "metadata": {},
   "outputs": [
    {
     "data": {
      "image/png": "[encoded data removed]",
      "text/latex": [
       "$\\displaystyle g l m \\sin{\\left(\\theta \\right)}$"
      ],
      "text/plain": [
       "g⋅l⋅m⋅sin(θ)"
      ]
     },
     "execution_count": 26,
     "metadata": {},
     "output_type": "execute_result"
    }
   ],
   "source": [
    "P = m * g * l * sp.sin(theta)\n",
    "P"
   ]
  },
  {
   "cell_type": "code",
   "execution_count": 27,
   "id": "c7725237-5e6e-4e35-8593-f60272cf86bc",
   "metadata": {},
   "outputs": [
    {
     "data": {
      "image/png": "[encoded data removed]",
      "text/latex": [
       "$\\displaystyle - g l m \\sin{\\left(\\theta \\right)} + \\frac{l^{2} m \\dot{\\theta}^{2}}{2}$"
      ],
      "text/plain": [
       "                 2    2\n",
       "                l ⋅m⋅θ̇ \n",
       "-g⋅l⋅m⋅sin(θ) + ───────\n",
       "                   2   "
      ]
     },
     "execution_count": 27,
     "metadata": {},
     "output_type": "execute_result"
    }
   ],
   "source": [
    "L = K - P\n",
    "L"
   ]
  },
  {
   "cell_type": "code",
   "execution_count": 28,
   "id": "8d681db9-84ab-4a19-8e6e-9299121863cc",
   "metadata": {},
   "outputs": [
    {
     "data": {
      "text/latex": [
       "$\\displaystyle \\left[\\begin{matrix}l m \\left(g \\cos{\\left(\\theta \\right)} + l \\ddot{\\theta}\\right)\\end{matrix}\\right]$"
      ],
      "text/plain": [
       "[l⋅m⋅(g⋅cos(θ) + l⋅θ̈)]"
      ]
     },
     "execution_count": 28,
     "metadata": {},
     "output_type": "execute_result"
    }
   ],
   "source": [
    "rt.lagrangian(L, [theta])"
   ]
  },
  {
   "cell_type": "code",
   "execution_count": null,
   "id": "5bcbd304-1361-448f-a76b-8897b0b2fa36",
   "metadata": {},
   "outputs": [],
   "source": []
  },
  {
   "cell_type": "markdown",
   "id": "100f29f9-dc16-4f0d-b256-30c92adb17f4",
   "metadata": {
    "jp-MarkdownHeadingCollapsed": true
   },
   "source": [
    "# 4.3"
   ]
  },
  {
   "cell_type": "code",
   "execution_count": 31,
   "id": "5fa97236-b0e8-4a07-855a-c3e2b125c6cf",
   "metadata": {},
   "outputs": [],
   "source": [
    "m1, m2, g = sp.symbols('m1, m2, g')\n",
    "d1, d2 = mechanics.dynamicsymbols('d1, d2')"
   ]
  },
  {
   "cell_type": "code",
   "execution_count": 35,
   "id": "dbeb44bd-26cb-40c1-8341-7cee830a89c8",
   "metadata": {},
   "outputs": [
    {
     "data": {
      "image/png": "[encoded data removed]",
      "text/latex": [
       "$\\displaystyle \\dot{d}_{1}$"
      ],
      "text/plain": [
       "d₁̇"
      ]
     },
     "execution_count": 35,
     "metadata": {},
     "output_type": "execute_result"
    }
   ],
   "source": [
    "vd1 = d1.diff('t')\n",
    "vd1"
   ]
  },
  {
   "cell_type": "code",
   "execution_count": 37,
   "id": "b4e79800-bbcd-4f35-b805-3ca4e412d531",
   "metadata": {},
   "outputs": [
    {
     "data": {
      "image/png": "[encoded data removed]",
      "text/latex": [
       "$\\displaystyle \\dot{d}_{2}$"
      ],
      "text/plain": [
       "d₂̇"
      ]
     },
     "execution_count": 37,
     "metadata": {},
     "output_type": "execute_result"
    }
   ],
   "source": [
    "vd2 = d2.diff('t')\n",
    "vd2"
   ]
  },
  {
   "cell_type": "code",
   "execution_count": 39,
   "id": "62440991-7e6c-4c1a-989c-972cab13b053",
   "metadata": {},
   "outputs": [
    {
     "data": {
      "image/png": "[encoded data removed]",
      "text/latex": [
       "$\\displaystyle \\frac{m_{1} \\dot{d}_{1}^{2}}{2}$"
      ],
      "text/plain": [
       "     2\n",
       "m₁⋅d₁̇ \n",
       "──────\n",
       "  2   "
      ]
     },
     "execution_count": 39,
     "metadata": {},
     "output_type": "execute_result"
    }
   ],
   "source": [
    "K1 = m1 * vd1**2 / 2\n",
    "K1"
   ]
  },
  {
   "cell_type": "code",
   "execution_count": 41,
   "id": "7391d975-c480-46e8-88a4-d3623c56ce13",
   "metadata": {},
   "outputs": [
    {
     "data": {
      "image/png": "[encoded data removed]",
      "text/latex": [
       "$\\displaystyle \\frac{m_{2} \\left(\\dot{d}_{1}^{2} + \\dot{d}_{2}^{2}\\right)}{2}$"
      ],
      "text/plain": [
       "   ⎛  2     2⎞\n",
       "m₂⋅⎝d₁̇  + d₂̇ ⎠\n",
       "──────────────\n",
       "      2       "
      ]
     },
     "execution_count": 41,
     "metadata": {},
     "output_type": "execute_result"
    }
   ],
   "source": [
    "K2 = m2 * (vd1**2 + vd2 ** 2) /2\n",
    "K2"
   ]
  },
  {
   "cell_type": "code",
   "execution_count": 42,
   "id": "f507d161-ddae-4571-83a7-f9b83162f5d0",
   "metadata": {},
   "outputs": [
    {
     "data": {
      "image/png": "[encoded data removed]",
      "text/latex": [
       "$\\displaystyle \\frac{m_{1} \\dot{d}_{1}^{2}}{2} + \\frac{m_{2} \\left(\\dot{d}_{1}^{2} + \\dot{d}_{2}^{2}\\right)}{2}$"
      ],
      "text/plain": [
       "     2      ⎛  2     2⎞\n",
       "m₁⋅d₁̇    m₂⋅⎝d₁̇  + d₂̇ ⎠\n",
       "────── + ──────────────\n",
       "  2            2       "
      ]
     },
     "execution_count": 42,
     "metadata": {},
     "output_type": "execute_result"
    }
   ],
   "source": [
    "K = K1 + K2\n",
    "K"
   ]
  },
  {
   "cell_type": "code",
   "execution_count": 44,
   "id": "dd4f4ada-3732-4fda-9f89-10f1af6f4d0c",
   "metadata": {},
   "outputs": [
    {
     "data": {
      "image/png": "[encoded data removed]",
      "text/latex": [
       "$\\displaystyle g m_{1} d_{1} + g m_{2} d_{1}$"
      ],
      "text/plain": [
       "g⋅m₁⋅d₁ + g⋅m₂⋅d₁"
      ]
     },
     "execution_count": 44,
     "metadata": {},
     "output_type": "execute_result"
    }
   ],
   "source": [
    "P = m1 * g * d1 + m2 * g * d1\n",
    "P"
   ]
  },
  {
   "cell_type": "code",
   "execution_count": 46,
   "id": "ba3ec17f-6f41-46e2-a117-3e1f17bdafb6",
   "metadata": {},
   "outputs": [
    {
     "data": {
      "image/png": "[encoded data removed]",
      "text/latex": [
       "$\\displaystyle - g m_{1} d_{1} - g m_{2} d_{1} + \\frac{m_{1} \\dot{d}_{1}^{2}}{2} + \\frac{m_{2} \\left(\\dot{d}_{1}^{2} + \\dot{d}_{2}^{2}\\right)}{2}$"
      ],
      "text/plain": [
       "                          2      ⎛  2     2⎞\n",
       "                     m₁⋅d₁̇    m₂⋅⎝d₁̇  + d₂̇ ⎠\n",
       "-g⋅m₁⋅d₁ - g⋅m₂⋅d₁ + ────── + ──────────────\n",
       "                       2            2       "
      ]
     },
     "execution_count": 46,
     "metadata": {},
     "output_type": "execute_result"
    }
   ],
   "source": [
    "L = K - P\n",
    "L"
   ]
  },
  {
   "cell_type": "code",
   "execution_count": 47,
   "id": "ca103ec5-20d1-425a-964d-1e96cef5a5ea",
   "metadata": {},
   "outputs": [
    {
     "data": {
      "text/latex": [
       "$\\displaystyle \\left[\\begin{matrix}g m_{1} + g m_{2} + m_{1} \\ddot{d}_{1} + m_{2} \\ddot{d}_{1}\\\\m_{2} \\ddot{d}_{2}\\end{matrix}\\right]$"
      ],
      "text/plain": [
       "⎡g⋅m₁ + g⋅m₂ + m₁⋅d₁̈ + m₂⋅d₁̈⎤\n",
       "⎢                           ⎥\n",
       "⎣           m₂⋅d₂̈           ⎦"
      ]
     },
     "execution_count": 47,
     "metadata": {},
     "output_type": "execute_result"
    }
   ],
   "source": [
    "rt.lagrangian(L, [d1, d2])"
   ]
  },
  {
   "cell_type": "code",
   "execution_count": null,
   "id": "75acd1e5-183a-46ba-b3c0-02e9438e3639",
   "metadata": {},
   "outputs": [],
   "source": []
  },
  {
   "cell_type": "markdown",
   "id": "c5339dbd-6247-4194-907c-945c757910e4",
   "metadata": {
    "jp-MarkdownHeadingCollapsed": true
   },
   "source": [
    "# 4.4"
   ]
  },
  {
   "cell_type": "code",
   "execution_count": 49,
   "id": "dfe92536-f2bb-4b1f-a84e-648e7c9c739b",
   "metadata": {},
   "outputs": [],
   "source": [
    "m1, m2, g, l1, l2 = sp.symbols('m1, m2, g, l1, l2')\n",
    "theta1, theta2 = mechanics.dynamicsymbols('theta1, theta2')\n",
    "vtheta1, vtheta2 = theta1.diff('t'), theta2.diff('t')"
   ]
  },
  {
   "cell_type": "code",
   "execution_count": 50,
   "id": "d94dab6d-b456-4c83-be58-5893da7f0c33",
   "metadata": {},
   "outputs": [
    {
     "data": {
      "image/png": "[encoded data removed]",
      "text/latex": [
       "$\\displaystyle \\frac{l_{1} m_{1} \\dot{\\theta}_{1}^{2}}{2}$"
      ],
      "text/plain": [
       "        2\n",
       "l₁⋅m₁⋅θ₁̇ \n",
       "─────────\n",
       "    2    "
      ]
     },
     "execution_count": 50,
     "metadata": {},
     "output_type": "execute_result"
    }
   ],
   "source": [
    "K1 = m1 * l1 * vtheta1**2 / 2\n",
    "K1"
   ]
  },
  {
   "cell_type": "code",
   "execution_count": 51,
   "id": "dc70bbe9-8c85-4e88-994f-ceb034d04c43",
   "metadata": {},
   "outputs": [
    {
     "data": {
      "image/png": "[encoded data removed]",
      "text/latex": [
       "$\\displaystyle \\frac{m_{2} \\left(l_{1} \\cos{\\left(\\theta_{1} \\right)} \\dot{\\theta}_{1} + l_{2} \\left(\\dot{\\theta}_{1} + \\dot{\\theta}_{2}\\right) \\cos{\\left(\\theta_{1} + \\theta_{2} \\right)} + \\left(- l_{1} \\sin{\\left(\\theta_{1} \\right)} \\dot{\\theta}_{1} - l_{2} \\left(\\dot{\\theta}_{1} + \\dot{\\theta}_{2}\\right) \\sin{\\left(\\theta_{1} + \\theta_{2} \\right)}\\right)^{2}\\right)}{2}$"
      ],
      "text/plain": [
       "   ⎛                                                                           ↪\n",
       "m₂⋅⎝l₁⋅cos(θ₁)⋅θ₁̇ + l₂⋅(θ₁̇ + θ₂̇)⋅cos(θ₁ + θ₂) + (-l₁⋅sin(θ₁)⋅θ₁̇ - l₂⋅(θ₁̇ + θ₂̇) ↪\n",
       "────────────────────────────────────────────────────────────────────────────── ↪\n",
       "                                              2                                ↪\n",
       "\n",
       "↪               2⎞\n",
       "↪ ⋅sin(θ₁ + θ₂)) ⎠\n",
       "↪ ────────────────\n",
       "↪                 "
      ]
     },
     "execution_count": 51,
     "metadata": {},
     "output_type": "execute_result"
    }
   ],
   "source": [
    "x2 = l1 * sp.cos(theta1) + l2 * sp.cos(theta1 + theta2)\n",
    "y2 = l1 * sp.sin(theta1) + l2 * sp.sin(theta1 + theta2)\n",
    "v2_sqr = x2.diff('t')**2 + y2.diff('t')\n",
    "K2 = m2 * v2_sqr / 2\n",
    "K2"
   ]
  },
  {
   "cell_type": "code",
   "execution_count": 52,
   "id": "08987e51-e8ca-47a4-8564-aa0dc22aa361",
   "metadata": {},
   "outputs": [
    {
     "data": {
      "image/png": "[encoded data removed]",
      "text/latex": [
       "$\\displaystyle \\frac{l_{1} m_{1} \\dot{\\theta}_{1}^{2}}{2} + \\frac{m_{2} \\left(l_{1} \\cos{\\left(\\theta_{1} \\right)} \\dot{\\theta}_{1} + l_{2} \\left(\\dot{\\theta}_{1} + \\dot{\\theta}_{2}\\right) \\cos{\\left(\\theta_{1} + \\theta_{2} \\right)} + \\left(- l_{1} \\sin{\\left(\\theta_{1} \\right)} \\dot{\\theta}_{1} - l_{2} \\left(\\dot{\\theta}_{1} + \\dot{\\theta}_{2}\\right) \\sin{\\left(\\theta_{1} + \\theta_{2} \\right)}\\right)^{2}\\right)}{2}$"
      ],
      "text/plain": [
       "        2      ⎛                                                               ↪\n",
       "l₁⋅m₁⋅θ₁̇    m₂⋅⎝l₁⋅cos(θ₁)⋅θ₁̇ + l₂⋅(θ₁̇ + θ₂̇)⋅cos(θ₁ + θ₂) + (-l₁⋅sin(θ₁)⋅θ₁̇ -  ↪\n",
       "───────── + ────────────────────────────────────────────────────────────────── ↪\n",
       "    2                                                     2                    ↪\n",
       "\n",
       "↪                           2⎞\n",
       "↪ l₂⋅(θ₁̇ + θ₂̇)⋅sin(θ₁ + θ₂)) ⎠\n",
       "↪ ────────────────────────────\n",
       "↪                             "
      ]
     },
     "execution_count": 52,
     "metadata": {},
     "output_type": "execute_result"
    }
   ],
   "source": [
    "K = K1 + K2\n",
    "K"
   ]
  },
  {
   "cell_type": "code",
   "execution_count": 54,
   "id": "9d6515c4-47cf-44cf-a582-626673f38cf9",
   "metadata": {},
   "outputs": [
    {
     "data": {
      "image/png": "[encoded data removed]",
      "text/latex": [
       "$\\displaystyle g l_{1} m_{1} \\sin{\\left(\\theta_{1} \\right)} + g l_{1} m_{2} \\sin{\\left(\\theta_{1} \\right)} + g l_{2} m_{2} \\sin{\\left(\\theta_{1} + \\theta_{2} \\right)}$"
      ],
      "text/plain": [
       "g⋅l₁⋅m₁⋅sin(θ₁) + g⋅l₁⋅m₂⋅sin(θ₁) + g⋅l₂⋅m₂⋅sin(θ₁ + θ₂)"
      ]
     },
     "execution_count": 54,
     "metadata": {},
     "output_type": "execute_result"
    }
   ],
   "source": [
    "P1 = m1 * g * l1 * sp.sin(theta1)\n",
    "P2 = m2 * g * l1 * sp.sin(theta1) + m2 * g * l2 * sp.sin(theta1 + theta2)\n",
    "P = P1 + P2\n",
    "P"
   ]
  },
  {
   "cell_type": "code",
   "execution_count": 55,
   "id": "b82b3133-6da2-4ea3-838f-86dc8fe8e1d5",
   "metadata": {},
   "outputs": [
    {
     "data": {
      "image/png": "[encoded data removed]",
      "text/latex": [
       "$\\displaystyle - g l_{1} m_{1} \\sin{\\left(\\theta_{1} \\right)} - g l_{1} m_{2} \\sin{\\left(\\theta_{1} \\right)} - g l_{2} m_{2} \\sin{\\left(\\theta_{1} + \\theta_{2} \\right)} + \\frac{l_{1} m_{1} \\dot{\\theta}_{1}^{2}}{2} + \\frac{m_{2} \\left(l_{1} \\cos{\\left(\\theta_{1} \\right)} \\dot{\\theta}_{1} + l_{2} \\left(\\dot{\\theta}_{1} + \\dot{\\theta}_{2}\\right) \\cos{\\left(\\theta_{1} + \\theta_{2} \\right)} + \\left(- l_{1} \\sin{\\left(\\theta_{1} \\right)} \\dot{\\theta}_{1} - l_{2} \\left(\\dot{\\theta}_{1} + \\dot{\\theta}_{2}\\right) \\sin{\\left(\\theta_{1} + \\theta_{2} \\right)}\\right)^{2}\\right)}{2}$"
      ],
      "text/plain": [
       "                                                                    2      ⎛   ↪\n",
       "                                                            l₁⋅m₁⋅θ₁̇    m₂⋅⎝l₁ ↪\n",
       "-g⋅l₁⋅m₁⋅sin(θ₁) - g⋅l₁⋅m₂⋅sin(θ₁) - g⋅l₂⋅m₂⋅sin(θ₁ + θ₂) + ───────── + ────── ↪\n",
       "                                                                2              ↪\n",
       "\n",
       "↪                                                                              ↪\n",
       "↪ ⋅cos(θ₁)⋅θ₁̇ + l₂⋅(θ₁̇ + θ₂̇)⋅cos(θ₁ + θ₂) + (-l₁⋅sin(θ₁)⋅θ₁̇ - l₂⋅(θ₁̇ + θ₂̇)⋅sin ↪\n",
       "↪ ──────────────────────────────────────────────────────────────────────────── ↪\n",
       "↪                                         2                                    ↪\n",
       "\n",
       "↪           2⎞\n",
       "↪ (θ₁ + θ₂)) ⎠\n",
       "↪ ────────────\n",
       "↪             "
      ]
     },
     "execution_count": 55,
     "metadata": {},
     "output_type": "execute_result"
    }
   ],
   "source": [
    "L = K - P\n",
    "L"
   ]
  },
  {
   "cell_type": "code",
   "execution_count": 56,
   "id": "af087c04-6f8f-4a52-9e66-56e9d85fc0b1",
   "metadata": {},
   "outputs": [
    {
     "data": {
      "text/latex": [
       "$\\displaystyle \\left[\\begin{matrix}g l_{1} m_{1} \\cos{\\left(\\theta_{1} \\right)} + g l_{1} m_{2} \\cos{\\left(\\theta_{1} \\right)} + g l_{2} m_{2} \\cos{\\left(\\theta_{1} + \\theta_{2} \\right)} + l_{1}^{2} m_{2} \\sin^{2}{\\left(\\theta_{1} \\right)} \\ddot{\\theta}_{1} + l_{1}^{2} m_{2} \\sin{\\left(\\theta_{1} \\right)} \\cos{\\left(\\theta_{1} \\right)} \\dot{\\theta}_{1}^{2} + l_{1} l_{2} m_{2} \\left(\\dot{\\theta}_{1} + \\dot{\\theta}_{2}\\right)^{2} \\sin{\\left(\\theta_{1} \\right)} \\cos{\\left(\\theta_{1} + \\theta_{2} \\right)} + 2 l_{1} l_{2} m_{2} \\sin{\\left(\\theta_{1} + \\theta_{2} \\right)} \\sin{\\left(\\theta_{1} \\right)} \\ddot{\\theta}_{1} + l_{1} l_{2} m_{2} \\sin{\\left(\\theta_{1} + \\theta_{2} \\right)} \\sin{\\left(\\theta_{1} \\right)} \\ddot{\\theta}_{2} + l_{1} l_{2} m_{2} \\sin{\\left(\\theta_{1} + \\theta_{2} \\right)} \\cos{\\left(\\theta_{1} \\right)} \\dot{\\theta}_{1}^{2} + l_{1} m_{1} \\ddot{\\theta}_{1} + l_{2}^{2} m_{2} \\left(\\dot{\\theta}_{1} + \\dot{\\theta}_{2}\\right)^{2} \\sin{\\left(\\theta_{1} + \\theta_{2} \\right)} \\cos{\\left(\\theta_{1} + \\theta_{2} \\right)} + l_{2}^{2} m_{2} \\sin^{2}{\\left(\\theta_{1} + \\theta_{2} \\right)} \\ddot{\\theta}_{1} + l_{2}^{2} m_{2} \\sin^{2}{\\left(\\theta_{1} + \\theta_{2} \\right)} \\ddot{\\theta}_{2}\\\\l_{2} m_{2} \\left(g \\cos{\\left(\\theta_{1} + \\theta_{2} \\right)} + l_{1} \\sin{\\left(\\theta_{1} + \\theta_{2} \\right)} \\sin{\\left(\\theta_{1} \\right)} \\ddot{\\theta}_{1} + l_{1} \\sin{\\left(\\theta_{1} + \\theta_{2} \\right)} \\cos{\\left(\\theta_{1} \\right)} \\dot{\\theta}_{1}^{2} + l_{2} \\sin^{2}{\\left(\\theta_{1} + \\theta_{2} \\right)} \\ddot{\\theta}_{1} + l_{2} \\sin^{2}{\\left(\\theta_{1} + \\theta_{2} \\right)} \\ddot{\\theta}_{2} + \\frac{l_{2} \\sin{\\left(2 \\theta_{1} + 2 \\theta_{2} \\right)} \\dot{\\theta}_{1}^{2}}{2} + l_{2} \\sin{\\left(2 \\theta_{1} + 2 \\theta_{2} \\right)} \\dot{\\theta}_{1} \\dot{\\theta}_{2} + \\frac{l_{2} \\sin{\\left(2 \\theta_{1} + 2 \\theta_{2} \\right)} \\dot{\\theta}_{2}^{2}}{2}\\right)\\end{matrix}\\right]$"
      ],
      "text/plain": [
       "⎡                                                             2       2        ↪\n",
       "⎢g⋅l₁⋅m₁⋅cos(θ₁) + g⋅l₁⋅m₂⋅cos(θ₁) + g⋅l₂⋅m₂⋅cos(θ₁ + θ₂) + l₁ ⋅m₂⋅sin (θ₁)⋅θ₁̈ ↪\n",
       "⎢                                                                              ↪\n",
       "⎢                                                                              ↪\n",
       "⎢                                                                              ↪\n",
       "⎢                                                                              ↪\n",
       "⎣                                                                              ↪\n",
       "\n",
       "↪      2                      2                     2                          ↪\n",
       "↪  + l₁ ⋅m₂⋅sin(θ₁)⋅cos(θ₁)⋅θ₁̇  + l₁⋅l₂⋅m₂⋅(θ₁̇ + θ₂̇) ⋅sin(θ₁)⋅cos(θ₁ + θ₂) + 2 ↪\n",
       "↪                                                                              ↪\n",
       "↪          ⎛                                                                   ↪\n",
       "↪          ⎜                                                                   ↪\n",
       "↪    l₂⋅m₂⋅⎜g⋅cos(θ₁ + θ₂) + l₁⋅sin(θ₁ + θ₂)⋅sin(θ₁)⋅θ₁̈ + l₁⋅sin(θ₁ + θ₂)⋅cos( ↪\n",
       "↪          ⎝                                                                   ↪\n",
       "\n",
       "↪                                                                              ↪\n",
       "↪ ⋅l₁⋅l₂⋅m₂⋅sin(θ₁ + θ₂)⋅sin(θ₁)⋅θ₁̈ + l₁⋅l₂⋅m₂⋅sin(θ₁ + θ₂)⋅sin(θ₁)⋅θ₂̈ + l₁⋅l₂ ↪\n",
       "↪                                                                              ↪\n",
       "↪                                                                              ↪\n",
       "↪       2         2                     2               l₂⋅sin(2⋅θ₁ + 2⋅θ₂)⋅θ₁̇ ↪\n",
       "↪ θ₁)⋅θ₁̇  + l₂⋅sin (θ₁ + θ₂)⋅θ₁̈ + l₂⋅sin (θ₁ + θ₂)⋅θ₂̈ + ────────────────────── ↪\n",
       "↪                                                                  2           ↪\n",
       "\n",
       "↪                            2                2             2                  ↪\n",
       "↪ ⋅m₂⋅sin(θ₁ + θ₂)⋅cos(θ₁)⋅θ₁̇  + l₁⋅m₁⋅θ₁̈ + l₂ ⋅m₂⋅(θ₁̇ + θ₂̇) ⋅sin(θ₁ + θ₂)⋅cos ↪\n",
       "↪                                                                              ↪\n",
       "↪ 2                                                     2⎞                     ↪\n",
       "↪                                 l₂⋅sin(2⋅θ₁ + 2⋅θ₂)⋅θ₂̇ ⎟                     ↪\n",
       "↪ ─ + l₂⋅sin(2⋅θ₁ + 2⋅θ₂)⋅θ₁̇⋅θ₂̇ + ───────────────────────⎟                     ↪\n",
       "↪                                            2           ⎠                     ↪\n",
       "\n",
       "↪               2       2                 2       2            ⎤\n",
       "↪ (θ₁ + θ₂) + l₂ ⋅m₂⋅sin (θ₁ + θ₂)⋅θ₁̈ + l₂ ⋅m₂⋅sin (θ₁ + θ₂)⋅θ₂̈⎥\n",
       "↪                                                              ⎥\n",
       "↪                                                              ⎥\n",
       "↪                                                              ⎥\n",
       "↪                                                              ⎥\n",
       "↪                                                              ⎦"
      ]
     },
     "execution_count": 56,
     "metadata": {},
     "output_type": "execute_result"
    }
   ],
   "source": [
    "rt.lagrangian(L, [theta1, theta2])"
   ]
  },
  {
   "cell_type": "code",
   "execution_count": 57,
   "id": "2d6fc0e7-1117-41dc-9f6f-49f2d423c6f4",
   "metadata": {},
   "outputs": [
    {
     "data": {
      "text/latex": [
       "$\\displaystyle \\left( \\left[\\begin{matrix}\\left(l_{1}^{2} m_{2} \\sin^{2}{\\left(\\theta_{1} \\right)} + 2 l_{1} l_{2} m_{2} \\sin{\\left(\\theta_{1} + \\theta_{2} \\right)} \\sin{\\left(\\theta_{1} \\right)} + l_{1} m_{1} + l_{2}^{2} m_{2} \\sin^{2}{\\left(\\theta_{1} + \\theta_{2} \\right)}\\right) \\ddot{\\theta}_{1} & l_{2} m_{2} \\left(l_{1} \\sin{\\left(\\theta_{1} \\right)} + l_{2} \\sin{\\left(\\theta_{1} + \\theta_{2} \\right)}\\right) \\sin{\\left(\\theta_{1} + \\theta_{2} \\right)} \\ddot{\\theta}_{2}\\\\l_{2} m_{2} \\left(l_{1} \\sin{\\left(\\theta_{1} \\right)} + l_{2} \\sin{\\left(\\theta_{1} + \\theta_{2} \\right)}\\right) \\sin{\\left(\\theta_{1} + \\theta_{2} \\right)} \\ddot{\\theta}_{1} & l_{2}^{2} m_{2} \\sin^{2}{\\left(\\theta_{1} + \\theta_{2} \\right)} \\ddot{\\theta}_{2}\\end{matrix}\\right], \\  \\left[\\begin{matrix}m_{2} \\left(\\frac{l_{1}^{2} \\sin{\\left(2 \\theta_{1} \\right)}}{2} + l_{1} l_{2} \\sin{\\left(2 \\theta_{1} + \\theta_{2} \\right)} + \\frac{l_{2}^{2} \\sin{\\left(2 \\theta_{1} + 2 \\theta_{2} \\right)}}{2}\\right) \\dot{\\theta}_{1}^{2} & l_{2} m_{2} \\left(l_{1} \\sin{\\left(\\theta_{1} \\right)} + l_{2} \\sin{\\left(\\theta_{1} + \\theta_{2} \\right)}\\right) \\cos{\\left(\\theta_{1} + \\theta_{2} \\right)} \\dot{\\theta}_{2}^{2}\\\\\\frac{l_{2} m_{2} \\left(2 l_{1} \\sin{\\left(\\theta_{1} + \\theta_{2} \\right)} \\cos{\\left(\\theta_{1} \\right)} + l_{2} \\sin{\\left(2 \\theta_{1} + 2 \\theta_{2} \\right)}\\right) \\dot{\\theta}_{1}^{2}}{2} & \\frac{l_{2}^{2} m_{2} \\sin{\\left(2 \\theta_{1} + 2 \\theta_{2} \\right)} \\dot{\\theta}_{2}^{2}}{2}\\end{matrix}\\right], \\  \\left[\\begin{matrix}2 l_{2} m_{2} \\left(l_{1} \\sin{\\left(\\theta_{1} \\right)} + l_{2} \\sin{\\left(\\theta_{1} + \\theta_{2} \\right)}\\right) \\cos{\\left(\\theta_{1} + \\theta_{2} \\right)} \\dot{\\theta}_{1} \\dot{\\theta}_{2}\\\\l_{2}^{2} m_{2} \\sin{\\left(2 \\theta_{1} + 2 \\theta_{2} \\right)} \\dot{\\theta}_{1} \\dot{\\theta}_{2}\\end{matrix}\\right], \\  \\left[\\begin{matrix}g \\left(l_{1} m_{1} \\cos{\\left(\\theta_{1} \\right)} + l_{1} m_{2} \\cos{\\left(\\theta_{1} \\right)} + l_{2} m_{2} \\cos{\\left(\\theta_{1} + \\theta_{2} \\right)}\\right)\\\\g l_{2} m_{2} \\cos{\\left(\\theta_{1} + \\theta_{2} \\right)}\\end{matrix}\\right]\\right)$"
      ],
      "text/plain": [
       "⎛                                                                              ↪\n",
       "⎜                                                                              ↪\n",
       "⎜⎡⎛  2       2                                                   2       2     ↪\n",
       "⎜⎢⎝l₁ ⋅m₂⋅sin (θ₁) + 2⋅l₁⋅l₂⋅m₂⋅sin(θ₁ + θ₂)⋅sin(θ₁) + l₁⋅m₁ + l₂ ⋅m₂⋅sin (θ₁  ↪\n",
       "⎜⎢                                                                             ↪\n",
       "⎜⎢                                                                             ↪\n",
       "⎜⎣                l₂⋅m₂⋅(l₁⋅sin(θ₁) + l₂⋅sin(θ₁ + θ₂))⋅sin(θ₁ + θ₂)⋅θ₁̈         ↪\n",
       "⎜                                                                              ↪\n",
       "⎝                                                                              ↪\n",
       "\n",
       "↪                                                                   ⎡   ⎛  2   ↪\n",
       "↪                                                                   ⎢   ⎜l₁ ⋅s ↪\n",
       "↪      ⎞                                                         ⎤  ⎢m₂⋅⎜───── ↪\n",
       "↪ + θ₂)⎠⋅θ₁̈  l₂⋅m₂⋅(l₁⋅sin(θ₁) + l₂⋅sin(θ₁ + θ₂))⋅sin(θ₁ + θ₂)⋅θ₂̈⎥  ⎢   ⎝      ↪\n",
       "↪                                                                ⎥, ⎢          ↪\n",
       "↪                            2       2                           ⎥  ⎢          ↪\n",
       "↪                          l₂ ⋅m₂⋅sin (θ₁ + θ₂)⋅θ₂̈               ⎦  ⎢    l₂⋅m₂ ↪\n",
       "↪                                                                   ⎢    ───── ↪\n",
       "↪                                                                   ⎣          ↪\n",
       "\n",
       "↪                                     2                 ⎞                      ↪\n",
       "↪ in(2⋅θ₁)                          l₂ ⋅sin(2⋅θ₁ + 2⋅θ₂)⎟   2                  ↪\n",
       "↪ ──────── + l₁⋅l₂⋅sin(2⋅θ₁ + θ₂) + ────────────────────⎟⋅θ₁̇   l₂⋅m₂⋅(l₁⋅sin(θ ↪\n",
       "↪  2                                         2          ⎠                      ↪\n",
       "↪                                                                              ↪\n",
       "↪                                                      2                       ↪\n",
       "↪ ⋅(2⋅l₁⋅sin(θ₁ + θ₂)⋅cos(θ₁) + l₂⋅sin(2⋅θ₁ + 2⋅θ₂))⋅θ₁̇                     l₂ ↪\n",
       "↪ ──────────────────────────────────────────────────────                    ── ↪\n",
       "↪                         2                                                    ↪\n",
       "\n",
       "↪                                       ⎤                                      ↪\n",
       "↪                                      2⎥                                      ↪\n",
       "↪ ₁) + l₂⋅sin(θ₁ + θ₂))⋅cos(θ₁ + θ₂)⋅θ₂̇ ⎥  ⎡2⋅l₂⋅m₂⋅(l₁⋅sin(θ₁) + l₂⋅sin(θ₁ +  ↪\n",
       "↪                                       ⎥  ⎢                                   ↪\n",
       "↪                                       ⎥, ⎢                2                  ↪\n",
       "↪ 2                       2             ⎥  ⎣              l₂ ⋅m₂⋅sin(2⋅θ₁ + 2⋅ ↪\n",
       "↪  ⋅m₂⋅sin(2⋅θ₁ + 2⋅θ₂)⋅θ₂̇              ⎥                                      ↪\n",
       "↪ ─────────────────────────             ⎥                                      ↪\n",
       "↪            2                          ⎦                                      ↪\n",
       "\n",
       "↪                                                                              ↪\n",
       "↪                                                                              ↪\n",
       "↪ θ₂))⋅cos(θ₁ + θ₂)⋅θ₁̇⋅θ₂̇⎤                                                     ↪\n",
       "↪                        ⎥  ⎡g⋅(l₁⋅m₁⋅cos(θ₁) + l₁⋅m₂⋅cos(θ₁) + l₂⋅m₂⋅cos(θ₁ + ↪\n",
       "↪                        ⎥, ⎢                                                  ↪\n",
       "↪ θ₂)⋅θ₁̇⋅θ₂̇              ⎦  ⎣                 g⋅l₂⋅m₂⋅cos(θ₁ + θ₂)             ↪\n",
       "↪                                                                              ↪\n",
       "↪                                                                              ↪\n",
       "↪                                                                              ↪\n",
       "\n",
       "↪       ⎞\n",
       "↪       ⎟\n",
       "↪       ⎟\n",
       "↪  θ₂))⎤⎟\n",
       "↪      ⎥⎟\n",
       "↪      ⎦⎟\n",
       "↪       ⎟\n",
       "↪       ⎟\n",
       "↪       ⎠"
      ]
     },
     "execution_count": 57,
     "metadata": {},
     "output_type": "execute_result"
    }
   ],
   "source": [
    "rt.dynamic_model_with_4_matrices(L, [theta1, theta2])"
   ]
  },
  {
   "cell_type": "code",
   "execution_count": null,
   "id": "c77577f1-c2b1-4726-817d-1a4d18ae05a3",
   "metadata": {},
   "outputs": [],
   "source": []
  },
  {
   "cell_type": "markdown",
   "id": "7825b22b-f348-47f2-9c5a-f21f85aae5a7",
   "metadata": {},
   "source": [
    "# 4.5"
   ]
  },
  {
   "cell_type": "code",
   "execution_count": 66,
   "id": "866124e5-3964-4019-9dea-4efc954e4e80",
   "metadata": {},
   "outputs": [
    {
     "data": {
      "text/latex": [
       "$\\displaystyle \\left[\\begin{matrix}58.86 \\cos{\\left(4 \\sin{\\left(0.5 t \\right)} + 4 \\sin{\\left(t \\right)} \\right)} + 156.96 \\cos{\\left(4 \\sin{\\left(t \\right)} \\right)}\\\\58.86 \\cos{\\left(4 \\sin{\\left(0.5 t \\right)} + 4 \\sin{\\left(t \\right)} \\right)}\\end{matrix}\\right]$"
      ],
      "text/plain": [
       "⎡58.86⋅cos(4⋅sin(0.5⋅t) + 4⋅sin(t)) + 156.96⋅cos(4⋅sin(t))⎤\n",
       "⎢                                                         ⎥\n",
       "⎣           58.86⋅cos(4⋅sin(0.5⋅t) + 4⋅sin(t))            ⎦"
      ]
     },
     "execution_count": 66,
     "metadata": {},
     "output_type": "execute_result"
    }
   ],
   "source": [
    "g, m1, m2, l1, l2 = 9.81, 5, 3, 2, 1\n",
    "t = sp.symbols('t')\n",
    "\n",
    "theta1, theta2 = 4 *sp.sin(t), 4 * sp.sin(.5 * t)\n",
    "\n",
    "gravity_vector = sp.Matrix([\n",
    "    g * (m1 + m2) * l1 * sp.cos(theta1) + m2 * g * l1 * sp.cos(theta1 + theta2),\n",
    "    m2 * g * l1 * sp.cos(theta1 + theta2)])\n",
    "gravity_vector"
   ]
  },
  {
   "cell_type": "code",
   "execution_count": 67,
   "id": "9a3b7fb2-9924-45ce-ba33-b7b06787c231",
   "metadata": {},
   "outputs": [],
   "source": [
    "import numpy as np\n",
    "import plotly.graph_objects as go\n",
    "from plotly.subplots import make_subplots\n"
   ]
  },
  {
   "cell_type": "code",
   "execution_count": 79,
   "id": "78d6bb8a-056b-455e-b859-3ee3b36eeb73",
   "metadata": {},
   "outputs": [
    {
     "data": {
      "application/vnd.plotly.v1+json": {
       "config": {
        "plotlyServerURL": "https://plot.ly"
       },
       "data": [
        {
         "name": "theta1",
         "type": "scatter",
         "x": {
          "_inputArray": {
           "0": 0,
           "1": 0.20202020202020202,
           "10": 2.0202020202020203,
           "11": 2.2222222222222223,
           "12": 2.4242424242424243,
           "13": 2.6262626262626263,
           "14": 2.8282828282828283,
           "15": 3.0303030303030303,
           "16": 3.2323232323232323,
           "17": 3.4343434343434343,
           "18": 3.6363636363636362,
           "19": 3.8383838383838382,
           "2": 0.40404040404040403,
           "20": 4.040404040404041,
           "21": 4.242424242424242,
           "22": 4.444444444444445,
           "23": 4.646464646464646,
           "24": 4.848484848484849,
           "25": 5.05050505050505,
           "26": 5.252525252525253,
           "27": 5.454545454545454,
           "28": 5.656565656565657,
           "29": 5.858585858585858,
           "3": 0.6060606060606061,
           "30": 6.0606060606060606,
           "31": 6.262626262626262,
           "32": 6.4646464646464645,
           "33": 6.666666666666667,
           "34": 6.8686868686868685,
           "35": 7.070707070707071,
           "36": 7.2727272727272725,
           "37": 7.474747474747475,
           "38": 7.6767676767676765,
           "39": 7.878787878787879,
           "4": 0.8080808080808081,
           "40": 8.080808080808081,
           "41": 8.282828282828282,
           "42": 8.484848484848484,
           "43": 8.686868686868687,
           "44": 8.88888888888889,
           "45": 9.09090909090909,
           "46": 9.292929292929292,
           "47": 9.494949494949495,
           "48": 9.696969696969697,
           "49": 9.8989898989899,
           "5": 1.0101010101010102,
           "50": 10.1010101010101,
           "51": 10.303030303030303,
           "52": 10.505050505050505,
           "53": 10.707070707070708,
           "54": 10.909090909090908,
           "55": 11.11111111111111,
           "56": 11.313131313131313,
           "57": 11.515151515151516,
           "58": 11.717171717171716,
           "59": 11.919191919191919,
           "6": 1.2121212121212122,
           "60": 12.121212121212121,
           "61": 12.323232323232324,
           "62": 12.525252525252524,
           "63": 12.727272727272727,
           "64": 12.929292929292929,
           "65": 13.131313131313131,
           "66": 13.333333333333334,
           "67": 13.535353535353535,
           "68": 13.737373737373737,
           "69": 13.93939393939394,
           "7": 1.4141414141414141,
           "70": 14.141414141414142,
           "71": 14.343434343434343,
           "72": 14.545454545454545,
           "73": 14.747474747474747,
           "74": 14.94949494949495,
           "75": 15.15151515151515,
           "76": 15.353535353535353,
           "77": 15.555555555555555,
           "78": 15.757575757575758,
           "79": 15.959595959595958,
           "8": 1.6161616161616161,
           "80": 16.161616161616163,
           "81": 16.363636363636363,
           "82": 16.565656565656564,
           "83": 16.767676767676768,
           "84": 16.96969696969697,
           "85": 17.171717171717173,
           "86": 17.373737373737374,
           "87": 17.575757575757574,
           "88": 17.77777777777778,
           "89": 17.97979797979798,
           "9": 1.8181818181818181,
           "90": 18.18181818181818,
           "91": 18.383838383838384,
           "92": 18.585858585858585,
           "93": 18.78787878787879,
           "94": 18.98989898989899,
           "95": 19.19191919191919,
           "96": 19.393939393939394,
           "97": 19.595959595959595,
           "98": 19.7979797979798,
           "99": 20,
           "bdata": "AAAAAAAAAAAxb2dIzNvJPzFvZ0jM29k/ZZNNNtlk4z8xb2dIzNvpP3+lQK1fKfA/ZZNNNtlk8z9LgVq/UqD2PzFvZ0jM2/k/F1100UUX/T9/pUCtXykAQHIcx3EcxwFAZZNNNtlkA0BYCtT6lQIFQEuBWr9SoAZAPvjggw8+CEAxb2dIzNsJQCTm7QyJeQtAF1100UUXDUAK1PqVArUOQH+lQK1fKRBA+OCDDz74EEByHMdxHMcRQOtXCtT6lRJAZZNNNtlkE0DezpCYtzMUQFgK1PqVAhVA0UUXXXTRFUBLgVq/UqAWQMS8nSExbxdAPvjggw8+GEC3MyTm7QwZQDFvZ0jM2xlAq6qqqqqqGkAk5u0MiXkbQJ4hMW9nSBxAF1100UUXHUCRmLczJOYdQArU+pUCtR5AhA8++OCDH0B/pUCtXykgQDtDYt7OkCBA+OCDDz74IEC1fqVArV8hQHIcx3EcxyFALrrooosuIkDrVwrU+pUiQKj1KwVq/SJAZZNNNtlkI0AiMW9nSMwjQN7OkJi3MyRAm2yyySabJEBYCtT6lQIlQBWo9SsFaiVA0UUXXXTRJUCO4ziO4zgmQEuBWr9SoCZACB988MEHJ0DEvJ0hMW8nQIFav1Kg1idAPvjggw8+KED7lQK1fqUoQLczJObtDClAdNFFF110KUAxb2dIzNspQO4MiXk7QypAq6qqqqqqKkBnSMzbGRIrQCTm7QyJeStA4YMPPvjgK0CeITFvZ0gsQFq/UqDWryxAF1100UUXLUDU+pUCtX4tQJGYtzMk5i1ATTbZZJNNLkAK1PqVArUuQMdxHMdxHC9AhA8++OCDL0BArV8pUOsvQH+lQK1fKTBAXXTRRRddMEA7Q2LezpAwQBoS83aGxDBA+OCDDz74MEDXrxSo9SsxQLV+pUCtXzFAk0022WSTMUByHMdxHMcxQFDrVwrU+jFALrrooosuMkANiXk7Q2IyQOtXCtT6lTJAyiabbLLJMkCo9SsFav0yQIbEvJ0hMTNAZZNNNtlkM0BDYt7OkJgzQCIxb2dIzDNAAAAAAAAANEA=",
           "dtype": "f8",
           "shape": "100"
          },
          "bdata": "AAAAAAAAAAAxb2dIzNvJPzFvZ0jM29k/ZZNNNtlk4z8xb2dIzNvpP3+lQK1fKfA/ZZNNNtlk8z9LgVq/UqD2PzFvZ0jM2/k/F1100UUX/T9/pUCtXykAQHIcx3EcxwFAZZNNNtlkA0BYCtT6lQIFQEuBWr9SoAZAPvjggw8+CEAxb2dIzNsJQCTm7QyJeQtAF1100UUXDUAK1PqVArUOQH+lQK1fKRBA+OCDDz74EEByHMdxHMcRQOtXCtT6lRJAZZNNNtlkE0DezpCYtzMUQFgK1PqVAhVA0UUXXXTRFUBLgVq/UqAWQMS8nSExbxdAPvjggw8+GEC3MyTm7QwZQDFvZ0jM2xlAq6qqqqqqGkAk5u0MiXkbQJ4hMW9nSBxAF1100UUXHUCRmLczJOYdQArU+pUCtR5AhA8++OCDH0B/pUCtXykgQDtDYt7OkCBA+OCDDz74IEC1fqVArV8hQHIcx3EcxyFALrrooosuIkDrVwrU+pUiQKj1KwVq/SJAZZNNNtlkI0AiMW9nSMwjQN7OkJi3MyRAm2yyySabJEBYCtT6lQIlQBWo9SsFaiVA0UUXXXTRJUCO4ziO4zgmQEuBWr9SoCZACB988MEHJ0DEvJ0hMW8nQIFav1Kg1idAPvjggw8+KED7lQK1fqUoQLczJObtDClAdNFFF110KUAxb2dIzNspQO4MiXk7QypAq6qqqqqqKkBnSMzbGRIrQCTm7QyJeStA4YMPPvjgK0CeITFvZ0gsQFq/UqDWryxAF1100UUXLUDU+pUCtX4tQJGYtzMk5i1ATTbZZJNNLkAK1PqVArUuQMdxHMdxHC9AhA8++OCDL0BArV8pUOsvQH+lQK1fKTBAXXTRRRddMEA7Q2LezpAwQBoS83aGxDBA+OCDDz74MEDXrxSo9SsxQLV+pUCtXzFAk0022WSTMUByHMdxHMcxQFDrVwrU+jFALrrooosuMkANiXk7Q2IyQOtXCtT6lTJAyiabbLLJMkCo9SsFav0yQIbEvJ0hMTNAZZNNNtlkM0BDYt7OkJgzQCIxb2dIzDNAAAAAAAAANEA=",
          "dtype": "f8"
         },
         "xaxis": "x",
         "y": {
          "_inputArray": {
           "0": 0,
           "1": 0.8025954260907416,
           "10": 3.602821784811822,
           "11": 3.1808802280921964,
           "12": 2.629560986731102,
           "13": 1.971288170355694,
           "14": 1.2328360699603074,
           "15": 0.4442401524965189,
           "16": -0.36242458813363093,
           "17": -1.1543482348817298,
           "18": -1.8993204432889579,
           "19": -2.567040550477551,
           "2": 1.5725464485933192,
           "20": -3.1303500106168087,
           "21": -3.566337029340561,
           "22": -3.857268467715113,
           "23": -3.9913111119168505,
           "24": -3.9630129720227085,
           "25": -3.7735250337839985,
           "26": -3.430554443952207,
           "27": -2.9480510332756533,
           "28": -2.34563992738894,
           "29": -1.6478233233234512,
           "3": 2.2785364276358626,
           "30": -0.8829838982202534,
           "31": -0.08223038514904026,
           "32": 0.7218677294396437,
           "33": 1.4966049222848798,
           "34": 2.2104698829856235,
           "35": 2.8344271907968728,
           "36": 3.3430982882090357,
           "37": 3.7157937169250053,
           "38": 3.9373546315352943,
           "39": 3.998769363544447,
           "4": 2.891850245917842,
           "40": 3.897539957902143,
           "41": 3.63778377369785,
           "42": 3.23006601655825,
           "43": 2.690970014249059,
           "44": 2.042422713897132,
           "45": 1.3108028352539993,
           "46": 0.5258679545718337,
           "47": -0.2804558416025871,
           "48": -1.0753725036415362,
           "49": -1.826549950535095,
           "5": 3.3875422544119336,
           "50": -2.5034351303400646,
           "51": -3.078496721204764,
           "52": -3.5283449279098495,
           "53": -3.8346828278269176,
           "54": -3.9850505716792886,
           "55": -3.9733321698196424,
           "56": -3.8000042512285064,
           "57": -3.4721166773225414,
           "58": -3.0030057990778163,
           "59": -2.411752020318214,
           "6": 3.745450900417139,
           "60": -1.7224037299946537,
           "61": -0.962999168882742,
           "62": -0.16442601485074648,
           "63": 0.6408349285888352,
           "64": 1.4200308417999972,
           "65": 2.141469062404874,
           "66": 2.7758061383082246,
           "67": 3.29724133000473,
           "68": 3.6845660181957283,
           "69": 3.922026333584261,
           "7": 3.9510187694403354,
           "70": 3.999963922634134,
           "71": 3.915208787076079,
           "72": 3.6712082189845106,
           "73": 3.2778865871778766,
           "74": 2.7512416779271383,
           "75": 2.112694008227983,
           "76": 1.3882155773745808,
           "77": 0.6072734935996518,
           "78": -0.19836855776669507,
           "79": -0.9959422560769015,
           "8": 3.9958846868934272,
           "80": -1.753007449228751,
           "81": -2.438771609748972,
           "82": -3.0253422761375677,
           "83": -3.4888615382394446,
           "84": -3.810476423098283,
           "85": -3.977105712257081,
           "86": -3.981972001324926,
           "87": -3.8248773610598366,
           "88": -3.512211387853265,
           "89": -3.056691316174594,
           "9": 3.8782237967292947,
           "90": -2.4768447635244786,
           "91": -1.7962561464951032,
           "92": -1.0426074188698977,
           "93": -0.24655214834749145,
           "94": 0.5595312728153637,
           "95": 1.3428565718955263,
           "96": 2.0715631297407873,
           "97": 2.7160118651922502,
           "98": 3.249990761674625,
           "99": 3.6517810029105107,
           "bdata": "AAAAAAAAAABRU1+a3K7pP1VjAncmKfk/joZ7TnE6AkBrLLlhgiIHQJEj5MCvGQtA3oUw9q72DUD5BoW6r5sPQBNbBmSS9w9AkSusMpoGD0A9qlg6lNIMQCkxQVVxcglA1MdGRVcJBUDKtep2ZYr/P2PwnFCyufM/+7miP25u3D+3NlPm9jHXv5wy0No1ePK/BM5I1Z1j/r+SdF6OTIkEwEAPRfL0CgnAhEBctduHDMDZ0wWSr9sOwBDBLoU07g/AvLAjJUC0D8Cj6pXkLTAOwKdgP4fGcQvAD922x5uVB8BWnsLd3sMCwAMqNP17Xfq/wgS4cmdB7L9h3vPuDA21v7tkP1qKGec/W/DDABjy9z/HuoHVCq8BQP/suinorAZAAl+5UKq+CkBeAGcO8rkNQPSV+cizfw9Ab1zFynr9D0DnV/BtKS4PQCWdD2EuGg1AN08I2izXCUAcu21JG4cFQLBdRrjhVgBAVbjOZAz59D9m0FwI6dPgP+jv6Q798tG/VIdizLk08b888OBwjDn9v56+Y/8IBwTAbleT48KgCMDRCtPnDDoMwDFlwDBurQ7AMSayMWLhD8AhKWxgYskPwM1//aBoZg7A1fjHG+XGC8CK5oXnJwYIwBehqqRESwPAA16tNveO+79cpg2i49Duv+yhMmLpC8W/qY2NQLiB5D83eo1Ccrj2P9JlI4i6IQFAHI9A2dk0BkBuHvsPwGAKQCnUoL/9eQ1Ai1ymV09gD0DZJccV7f8PQFgHDPxYUg9AUMIqaqJeDUCEaF+aHDkKQLu2MP+KAgZA0Fq+HczmAEAA8omJITb2PxafV9LIbuM/ddEUEiRkyb+BwFFLwt7vv1NPAYpRDPy/50eSsJqCA8CHvLmm5jMIwNkV+Dww6QvA6BYbENt7DsAXCLfMHNEPwM45+iIU2w/Ax7NHTVmZDsCUv7tIAhkMwCJ/p5MadAjAF9rE/JPQA8Ce98YVd738v5rP6R2FrvC/Lpz0UgWPz7+HmbogrufhP8ooOCxXfPU/TrCusI+SAECwY8RtZLoFQKKODSj7/wlA4Dxd9dg2DUA=",
           "dtype": "f8",
           "shape": "100"
          },
          "bdata": "AAAAAAAAAABRU1+a3K7pP1VjAncmKfk/joZ7TnE6AkBrLLlhgiIHQJEj5MCvGQtA3oUw9q72DUD5BoW6r5sPQBNbBmSS9w9AkSusMpoGD0A9qlg6lNIMQCkxQVVxcglA1MdGRVcJBUDKtep2ZYr/P2PwnFCyufM/+7miP25u3D+3NlPm9jHXv5wy0No1ePK/BM5I1Z1j/r+SdF6OTIkEwEAPRfL0CgnAhEBctduHDMDZ0wWSr9sOwBDBLoU07g/AvLAjJUC0D8Cj6pXkLTAOwKdgP4fGcQvAD922x5uVB8BWnsLd3sMCwAMqNP17Xfq/wgS4cmdB7L9h3vPuDA21v7tkP1qKGec/W/DDABjy9z/HuoHVCq8BQP/suinorAZAAl+5UKq+CkBeAGcO8rkNQPSV+cizfw9Ab1zFynr9D0DnV/BtKS4PQCWdD2EuGg1AN08I2izXCUAcu21JG4cFQLBdRrjhVgBAVbjOZAz59D9m0FwI6dPgP+jv6Q798tG/VIdizLk08b888OBwjDn9v56+Y/8IBwTAbleT48KgCMDRCtPnDDoMwDFlwDBurQ7AMSayMWLhD8AhKWxgYskPwM1//aBoZg7A1fjHG+XGC8CK5oXnJwYIwBehqqRESwPAA16tNveO+79cpg2i49Duv+yhMmLpC8W/qY2NQLiB5D83eo1Ccrj2P9JlI4i6IQFAHI9A2dk0BkBuHvsPwGAKQCnUoL/9eQ1Ai1ymV09gD0DZJccV7f8PQFgHDPxYUg9AUMIqaqJeDUCEaF+aHDkKQLu2MP+KAgZA0Fq+HczmAEAA8omJITb2PxafV9LIbuM/ddEUEiRkyb+BwFFLwt7vv1NPAYpRDPy/50eSsJqCA8CHvLmm5jMIwNkV+Dww6QvA6BYbENt7DsAXCLfMHNEPwM45+iIU2w/Ax7NHTVmZDsCUv7tIAhkMwCJ/p5MadAjAF9rE/JPQA8Ce98YVd738v5rP6R2FrvC/Lpz0UgWPz7+HmbogrufhP8ooOCxXfPU/TrCusI+SAECwY8RtZLoFQKKODSj7/wlA4Dxd9dg2DUA=",
          "dtype": "f8"
         },
         "yaxis": "y"
        },
        {
         "name": "theta2",
         "type": "scatter",
         "x": {
          "_inputArray": {
           "0": 0,
           "1": 0.20202020202020202,
           "10": 2.0202020202020203,
           "11": 2.2222222222222223,
           "12": 2.4242424242424243,
           "13": 2.6262626262626263,
           "14": 2.8282828282828283,
           "15": 3.0303030303030303,
           "16": 3.2323232323232323,
           "17": 3.4343434343434343,
           "18": 3.6363636363636362,
           "19": 3.8383838383838382,
           "2": 0.40404040404040403,
           "20": 4.040404040404041,
           "21": 4.242424242424242,
           "22": 4.444444444444445,
           "23": 4.646464646464646,
           "24": 4.848484848484849,
           "25": 5.05050505050505,
           "26": 5.252525252525253,
           "27": 5.454545454545454,
           "28": 5.656565656565657,
           "29": 5.858585858585858,
           "3": 0.6060606060606061,
           "30": 6.0606060606060606,
           "31": 6.262626262626262,
           "32": 6.4646464646464645,
           "33": 6.666666666666667,
           "34": 6.8686868686868685,
           "35": 7.070707070707071,
           "36": 7.2727272727272725,
           "37": 7.474747474747475,
           "38": 7.6767676767676765,
           "39": 7.878787878787879,
           "4": 0.8080808080808081,
           "40": 8.080808080808081,
           "41": 8.282828282828282,
           "42": 8.484848484848484,
           "43": 8.686868686868687,
           "44": 8.88888888888889,
           "45": 9.09090909090909,
           "46": 9.292929292929292,
           "47": 9.494949494949495,
           "48": 9.696969696969697,
           "49": 9.8989898989899,
           "5": 1.0101010101010102,
           "50": 10.1010101010101,
           "51": 10.303030303030303,
           "52": 10.505050505050505,
           "53": 10.707070707070708,
           "54": 10.909090909090908,
           "55": 11.11111111111111,
           "56": 11.313131313131313,
           "57": 11.515151515151516,
           "58": 11.717171717171716,
           "59": 11.919191919191919,
           "6": 1.2121212121212122,
           "60": 12.121212121212121,
           "61": 12.323232323232324,
           "62": 12.525252525252524,
           "63": 12.727272727272727,
           "64": 12.929292929292929,
           "65": 13.131313131313131,
           "66": 13.333333333333334,
           "67": 13.535353535353535,
           "68": 13.737373737373737,
           "69": 13.93939393939394,
           "7": 1.4141414141414141,
           "70": 14.141414141414142,
           "71": 14.343434343434343,
           "72": 14.545454545454545,
           "73": 14.747474747474747,
           "74": 14.94949494949495,
           "75": 15.15151515151515,
           "76": 15.353535353535353,
           "77": 15.555555555555555,
           "78": 15.757575757575758,
           "79": 15.959595959595958,
           "8": 1.6161616161616161,
           "80": 16.161616161616163,
           "81": 16.363636363636363,
           "82": 16.565656565656564,
           "83": 16.767676767676768,
           "84": 16.96969696969697,
           "85": 17.171717171717173,
           "86": 17.373737373737374,
           "87": 17.575757575757574,
           "88": 17.77777777777778,
           "89": 17.97979797979798,
           "9": 1.8181818181818181,
           "90": 18.18181818181818,
           "91": 18.383838383838384,
           "92": 18.585858585858585,
           "93": 18.78787878787879,
           "94": 18.98989898989899,
           "95": 19.19191919191919,
           "96": 19.393939393939394,
           "97": 19.595959595959595,
           "98": 19.7979797979798,
           "99": 20,
           "bdata": "AAAAAAAAAAAxb2dIzNvJPzFvZ0jM29k/ZZNNNtlk4z8xb2dIzNvpP3+lQK1fKfA/ZZNNNtlk8z9LgVq/UqD2PzFvZ0jM2/k/F1100UUX/T9/pUCtXykAQHIcx3EcxwFAZZNNNtlkA0BYCtT6lQIFQEuBWr9SoAZAPvjggw8+CEAxb2dIzNsJQCTm7QyJeQtAF1100UUXDUAK1PqVArUOQH+lQK1fKRBA+OCDDz74EEByHMdxHMcRQOtXCtT6lRJAZZNNNtlkE0DezpCYtzMUQFgK1PqVAhVA0UUXXXTRFUBLgVq/UqAWQMS8nSExbxdAPvjggw8+GEC3MyTm7QwZQDFvZ0jM2xlAq6qqqqqqGkAk5u0MiXkbQJ4hMW9nSBxAF1100UUXHUCRmLczJOYdQArU+pUCtR5AhA8++OCDH0B/pUCtXykgQDtDYt7OkCBA+OCDDz74IEC1fqVArV8hQHIcx3EcxyFALrrooosuIkDrVwrU+pUiQKj1KwVq/SJAZZNNNtlkI0AiMW9nSMwjQN7OkJi3MyRAm2yyySabJEBYCtT6lQIlQBWo9SsFaiVA0UUXXXTRJUCO4ziO4zgmQEuBWr9SoCZACB988MEHJ0DEvJ0hMW8nQIFav1Kg1idAPvjggw8+KED7lQK1fqUoQLczJObtDClAdNFFF110KUAxb2dIzNspQO4MiXk7QypAq6qqqqqqKkBnSMzbGRIrQCTm7QyJeStA4YMPPvjgK0CeITFvZ0gsQFq/UqDWryxAF1100UUXLUDU+pUCtX4tQJGYtzMk5i1ATTbZZJNNLkAK1PqVArUuQMdxHMdxHC9AhA8++OCDL0BArV8pUOsvQH+lQK1fKTBAXXTRRRddMEA7Q2LezpAwQBoS83aGxDBA+OCDDz74MEDXrxSo9SsxQLV+pUCtXzFAk0022WSTMUByHMdxHMcxQFDrVwrU+jFALrrooosuMkANiXk7Q2IyQOtXCtT6lTJAyiabbLLJMkCo9SsFav0yQIbEvJ0hMTNAZZNNNtlkM0BDYt7OkJgzQCIxb2dIzDNAAAAAAAAANEA=",
           "dtype": "f8",
           "shape": "100"
          },
          "bdata": "AAAAAAAAAAAxb2dIzNvJPzFvZ0jM29k/ZZNNNtlk4z8xb2dIzNvpP3+lQK1fKfA/ZZNNNtlk8z9LgVq/UqD2PzFvZ0jM2/k/F1100UUX/T9/pUCtXykAQHIcx3EcxwFAZZNNNtlkA0BYCtT6lQIFQEuBWr9SoAZAPvjggw8+CEAxb2dIzNsJQCTm7QyJeQtAF1100UUXDUAK1PqVArUOQH+lQK1fKRBA+OCDDz74EEByHMdxHMcRQOtXCtT6lRJAZZNNNtlkE0DezpCYtzMUQFgK1PqVAhVA0UUXXXTRFUBLgVq/UqAWQMS8nSExbxdAPvjggw8+GEC3MyTm7QwZQDFvZ0jM2xlAq6qqqqqqGkAk5u0MiXkbQJ4hMW9nSBxAF1100UUXHUCRmLczJOYdQArU+pUCtR5AhA8++OCDH0B/pUCtXykgQDtDYt7OkCBA+OCDDz74IEC1fqVArV8hQHIcx3EcxyFALrrooosuIkDrVwrU+pUiQKj1KwVq/SJAZZNNNtlkI0AiMW9nSMwjQN7OkJi3MyRAm2yyySabJEBYCtT6lQIlQBWo9SsFaiVA0UUXXXTRJUCO4ziO4zgmQEuBWr9SoCZACB988MEHJ0DEvJ0hMW8nQIFav1Kg1idAPvjggw8+KED7lQK1fqUoQLczJObtDClAdNFFF110KUAxb2dIzNspQO4MiXk7QypAq6qqqqqqKkBnSMzbGRIrQCTm7QyJeStA4YMPPvjgK0CeITFvZ0gsQFq/UqDWryxAF1100UUXLUDU+pUCtX4tQJGYtzMk5i1ATTbZZJNNLkAK1PqVArUuQMdxHMdxHC9AhA8++OCDL0BArV8pUOsvQH+lQK1fKTBAXXTRRRddMEA7Q2LezpAwQBoS83aGxDBA+OCDDz74MEDXrxSo9SsxQLV+pUCtXzFAk0022WSTMUByHMdxHMcxQFDrVwrU+jFALrrooosuMkANiXk7Q2IyQOtXCtT6lTJAyiabbLLJMkCo9SsFav0yQIbEvJ0hMTNAZZNNNtlkM0BDYt7OkJgzQCIxb2dIzDNAAAAAAAAANEA=",
          "dtype": "f8"
         },
         "xaxis": "x2",
         "y": {
          "_inputArray": {
           "0": 0,
           "1": 0.4033536810324184,
           "10": 3.3875422544119336,
           "11": 3.5847688041198253,
           "12": 3.745450900417139,
           "13": 3.8679504908371984,
           "14": 3.9510187694403354,
           "15": 3.993808907601558,
           "16": 3.9958846868934272,
           "17": 3.9572249460573605,
           "18": 3.8782237967292947,
           "19": 3.7596866057205247,
           "2": 0.8025954260907416,
           "20": 3.602821784811822,
           "21": 3.4092284717587007,
           "22": 3.1808802280921964,
           "23": 2.9201049199057856,
           "24": 2.629560986731102,
           "25": 2.312210340426293,
           "26": 1.971288170355694,
           "27": 1.6102699626779862,
           "28": 1.2328360699603074,
           "29": 0.8428341923087715,
           "3": 1.1936552177905644,
           "30": 0.4442401524965189,
           "31": 0.04111736496213879,
           "32": -0.36242458813363093,
           "33": -0.7622718515019415,
           "34": -1.1543482348817298,
           "35": -1.5346567672244493,
           "36": -1.8993204432889579,
           "37": -2.244621747260807,
           "38": -2.567040550477551,
           "39": -2.8632899969167607,
           "4": 1.5725464485933192,
           "40": -3.1303500106168087,
           "41": -3.3654980834434802,
           "42": -3.566337029340561,
           "43": -3.7308194221273343,
           "44": -3.857268467715113,
           "45": -3.9443950979637186,
           "46": -3.9913111119168505,
           "47": -3.997538230449743,
           "48": -3.9630129720227085,
           "49": -3.8880872998353335,
           "5": 1.9354065617517386,
           "50": -3.7735250337839985,
           "51": -3.620494063800547,
           "52": -3.430554443952207,
           "53": -3.205642488675879,
           "54": -2.9480510332756533,
           "55": -2.6604060599152897,
           "56": -2.34563992738894,
           "57": -2.0069614775756452,
           "58": -1.6478233233234512,
           "59": -1.2718866512424747,
           "6": 2.2785364276358626,
           "60": -0.8829838982202534,
           "61": -0.4850796821486671,
           "62": -0.08223038514904026,
           "63": 0.32145719868112693,
           "64": 0.7218677294396437,
           "65": 1.114919274710229,
           "66": 1.4966049222848798,
           "67": 1.8630336281026068,
           "68": 2.2104698829856235,
           "69": 2.535371793795623,
           "7": 2.598438054022826,
           "70": 2.8344271907968728,
           "71": 3.104587393134322,
           "72": 3.3430982882090357,
           "73": 3.547528408116315,
           "74": 3.7157937169250053,
           "75": 3.846178856107294,
           "76": 3.9373546315352943,
           "77": 3.988391563775499,
           "78": 3.998769363544447,
           "79": 3.9683822357292913,
           "8": 2.891850245917842,
           "80": 3.897539957902143,
           "81": 3.7869647223334173,
           "82": 3.63778377369785,
           "83": 3.451517917527134,
           "84": 3.23006601655825,
           "85": 2.9756856330273775,
           "86": 2.690970014249059,
           "87": 2.37882165609799,
           "88": 2.042422713897132,
           "89": 1.6852025623544276,
           "9": 3.1557818513770295,
           "90": 1.3108028352539993,
           "91": 0.9230403013002071,
           "92": 0.5258679545718337,
           "93": 0.12333471624456392,
           "94": -0.2804558416025871,
           "95": -0.681387329312386,
           "96": -1.0753725036415362,
           "97": -1.4583949346235547,
           "98": -1.826549950535095,
           "99": -2.176084443557479,
           "bdata": "AAAAAAAAAABWWTD1i9DZP1FTX5rcruk/gsOxNjYZ8z9VYwJ3Jin5PxcA895s9/4/joZ7TnE6AkDqrfXjmckEQGssuWGCIgdAIswnjgo/CUCRI+TArxkLQFBTS0SbrQxA3oUw9q72DUAXi+UGkPEOQPkGhbqvmw9AOPqkFVLzD0ATWwZkkvcPQJTacY1lqA9AkSusMpoGD0AwOzaS1hMOQD2qWDqU0gxAjV22kxlGC0ApMUFVcXIJQIgS3/dfXAdA1MdGRVcJBUDm1IwiaH8CQMq16nZliv8/8e22b6rD+T9j8JxQsrnzPwFWfWl/+Oo/+7miP25u3D8ew57TVQ2lP7c2U+b2Mde/NJcb8Idk6L+cMtDaNXjyv4gGHUH0jfi/BM5I1Z1j/r8dASM//PQBwJJ0Xo5MiQTAfMX9lQToBsBAD0Xy9AoJwJgfWUKK7ArAhEBctduHDMBUjGrat9gNwNnTBZKv2w7AGw5iBB+OD8AQwS6FNO4PwLNU4lL1+g/AvLAjJUC0D8AfSaaDzRoPwKPqleQtMA7AehV7l8X2DMCnYD+HxnELwGM/nOMnpQnAD922x5uVB8DCVOv4gkgFwFaewt3ewwLAZCe00UEOAMADKjT9e136v93iNNGlWfS/wgS4cmdB7L8fFrKmiwvfv2He8+4MDbW/u4zZNsGS1D+7ZD9aihnnP7P36Je11vE/W/DDABjy9z9jyIBZ/M79P8e6gdUKrwFAqWzMAXFIBED/7Lop6KwGQLyvSOox1ghAAl+5UKq+CkCT7POSVmEMQF4AZw7yuQ1AUWGMa/nEDkD0lfnIs38PQOx2ENY56A9Ab1zFynr9D0Ca4IMvP78PQOdX8G0pLg9A1DgMKbRLDkAlnQ9hLhoNQFCyCm21nAtAN08I2izXCUC2POhENM4HQBy7bUkbhwVAz6j/pdMHA0CwXUa44VYAQKUpR/aW9vo/VbjOZAz59D8WLl/Qi4ntP2bQXAjp0+A//1m7LN2Svz/o7+kO/fLRv37G6czszeW/VIdizLk08b98w03tlVX3vzzw4HCMOf2/Uk/z9Z5oAcA=",
           "dtype": "f8",
           "shape": "100"
          },
          "bdata": "AAAAAAAAAABWWTD1i9DZP1FTX5rcruk/gsOxNjYZ8z9VYwJ3Jin5PxcA895s9/4/joZ7TnE6AkDqrfXjmckEQGssuWGCIgdAIswnjgo/CUCRI+TArxkLQFBTS0SbrQxA3oUw9q72DUAXi+UGkPEOQPkGhbqvmw9AOPqkFVLzD0ATWwZkkvcPQJTacY1lqA9AkSusMpoGD0AwOzaS1hMOQD2qWDqU0gxAjV22kxlGC0ApMUFVcXIJQIgS3/dfXAdA1MdGRVcJBUDm1IwiaH8CQMq16nZliv8/8e22b6rD+T9j8JxQsrnzPwFWfWl/+Oo/+7miP25u3D8ew57TVQ2lP7c2U+b2Mde/NJcb8Idk6L+cMtDaNXjyv4gGHUH0jfi/BM5I1Z1j/r8dASM//PQBwJJ0Xo5MiQTAfMX9lQToBsBAD0Xy9AoJwJgfWUKK7ArAhEBctduHDMBUjGrat9gNwNnTBZKv2w7AGw5iBB+OD8AQwS6FNO4PwLNU4lL1+g/AvLAjJUC0D8AfSaaDzRoPwKPqleQtMA7AehV7l8X2DMCnYD+HxnELwGM/nOMnpQnAD922x5uVB8DCVOv4gkgFwFaewt3ewwLAZCe00UEOAMADKjT9e136v93iNNGlWfS/wgS4cmdB7L8fFrKmiwvfv2He8+4MDbW/u4zZNsGS1D+7ZD9aihnnP7P36Je11vE/W/DDABjy9z9jyIBZ/M79P8e6gdUKrwFAqWzMAXFIBED/7Lop6KwGQLyvSOox1ghAAl+5UKq+CkCT7POSVmEMQF4AZw7yuQ1AUWGMa/nEDkD0lfnIs38PQOx2ENY56A9Ab1zFynr9D0Ca4IMvP78PQOdX8G0pLg9A1DgMKbRLDkAlnQ9hLhoNQFCyCm21nAtAN08I2izXCUC2POhENM4HQBy7bUkbhwVAz6j/pdMHA0CwXUa44VYAQKUpR/aW9vo/VbjOZAz59D8WLl/Qi4ntP2bQXAjp0+A//1m7LN2Svz/o7+kO/fLRv37G6czszeW/VIdizLk08b98w03tlVX3vzzw4HCMOf2/Uk/z9Z5oAcA=",
          "dtype": "f8"
         },
         "yaxis": "y2"
        },
        {
         "name": "g1",
         "type": "scatter",
         "x": {
          "_inputArray": {
           "0": 0,
           "1": 0.20202020202020202,
           "10": 2.0202020202020203,
           "11": 2.2222222222222223,
           "12": 2.4242424242424243,
           "13": 2.6262626262626263,
           "14": 2.8282828282828283,
           "15": 3.0303030303030303,
           "16": 3.2323232323232323,
           "17": 3.4343434343434343,
           "18": 3.6363636363636362,
           "19": 3.8383838383838382,
           "2": 0.40404040404040403,
           "20": 4.040404040404041,
           "21": 4.242424242424242,
           "22": 4.444444444444445,
           "23": 4.646464646464646,
           "24": 4.848484848484849,
           "25": 5.05050505050505,
           "26": 5.252525252525253,
           "27": 5.454545454545454,
           "28": 5.656565656565657,
           "29": 5.858585858585858,
           "3": 0.6060606060606061,
           "30": 6.0606060606060606,
           "31": 6.262626262626262,
           "32": 6.4646464646464645,
           "33": 6.666666666666667,
           "34": 6.8686868686868685,
           "35": 7.070707070707071,
           "36": 7.2727272727272725,
           "37": 7.474747474747475,
           "38": 7.6767676767676765,
           "39": 7.878787878787879,
           "4": 0.8080808080808081,
           "40": 8.080808080808081,
           "41": 8.282828282828282,
           "42": 8.484848484848484,
           "43": 8.686868686868687,
           "44": 8.88888888888889,
           "45": 9.09090909090909,
           "46": 9.292929292929292,
           "47": 9.494949494949495,
           "48": 9.696969696969697,
           "49": 9.8989898989899,
           "5": 1.0101010101010102,
           "50": 10.1010101010101,
           "51": 10.303030303030303,
           "52": 10.505050505050505,
           "53": 10.707070707070708,
           "54": 10.909090909090908,
           "55": 11.11111111111111,
           "56": 11.313131313131313,
           "57": 11.515151515151516,
           "58": 11.717171717171716,
           "59": 11.919191919191919,
           "6": 1.2121212121212122,
           "60": 12.121212121212121,
           "61": 12.323232323232324,
           "62": 12.525252525252524,
           "63": 12.727272727272727,
           "64": 12.929292929292929,
           "65": 13.131313131313131,
           "66": 13.333333333333334,
           "67": 13.535353535353535,
           "68": 13.737373737373737,
           "69": 13.93939393939394,
           "7": 1.4141414141414141,
           "70": 14.141414141414142,
           "71": 14.343434343434343,
           "72": 14.545454545454545,
           "73": 14.747474747474747,
           "74": 14.94949494949495,
           "75": 15.15151515151515,
           "76": 15.353535353535353,
           "77": 15.555555555555555,
           "78": 15.757575757575758,
           "79": 15.959595959595958,
           "8": 1.6161616161616161,
           "80": 16.161616161616163,
           "81": 16.363636363636363,
           "82": 16.565656565656564,
           "83": 16.767676767676768,
           "84": 16.96969696969697,
           "85": 17.171717171717173,
           "86": 17.373737373737374,
           "87": 17.575757575757574,
           "88": 17.77777777777778,
           "89": 17.97979797979798,
           "9": 1.8181818181818181,
           "90": 18.18181818181818,
           "91": 18.383838383838384,
           "92": 18.585858585858585,
           "93": 18.78787878787879,
           "94": 18.98989898989899,
           "95": 19.19191919191919,
           "96": 19.393939393939394,
           "97": 19.595959595959595,
           "98": 19.7979797979798,
           "99": 20,
           "bdata": "AAAAAAAAAAAxb2dIzNvJPzFvZ0jM29k/ZZNNNtlk4z8xb2dIzNvpP3+lQK1fKfA/ZZNNNtlk8z9LgVq/UqD2PzFvZ0jM2/k/F1100UUX/T9/pUCtXykAQHIcx3EcxwFAZZNNNtlkA0BYCtT6lQIFQEuBWr9SoAZAPvjggw8+CEAxb2dIzNsJQCTm7QyJeQtAF1100UUXDUAK1PqVArUOQH+lQK1fKRBA+OCDDz74EEByHMdxHMcRQOtXCtT6lRJAZZNNNtlkE0DezpCYtzMUQFgK1PqVAhVA0UUXXXTRFUBLgVq/UqAWQMS8nSExbxdAPvjggw8+GEC3MyTm7QwZQDFvZ0jM2xlAq6qqqqqqGkAk5u0MiXkbQJ4hMW9nSBxAF1100UUXHUCRmLczJOYdQArU+pUCtR5AhA8++OCDH0B/pUCtXykgQDtDYt7OkCBA+OCDDz74IEC1fqVArV8hQHIcx3EcxyFALrrooosuIkDrVwrU+pUiQKj1KwVq/SJAZZNNNtlkI0AiMW9nSMwjQN7OkJi3MyRAm2yyySabJEBYCtT6lQIlQBWo9SsFaiVA0UUXXXTRJUCO4ziO4zgmQEuBWr9SoCZACB988MEHJ0DEvJ0hMW8nQIFav1Kg1idAPvjggw8+KED7lQK1fqUoQLczJObtDClAdNFFF110KUAxb2dIzNspQO4MiXk7QypAq6qqqqqqKkBnSMzbGRIrQCTm7QyJeStA4YMPPvjgK0CeITFvZ0gsQFq/UqDWryxAF1100UUXLUDU+pUCtX4tQJGYtzMk5i1ATTbZZJNNLkAK1PqVArUuQMdxHMdxHC9AhA8++OCDL0BArV8pUOsvQH+lQK1fKTBAXXTRRRddMEA7Q2LezpAwQBoS83aGxDBA+OCDDz74MEDXrxSo9SsxQLV+pUCtXzFAk0022WSTMUByHMdxHMcxQFDrVwrU+jFALrrooosuMkANiXk7Q2IyQOtXCtT6lTJAyiabbLLJMkCo9SsFav0yQIbEvJ0hMTNAZZNNNtlkM0BDYt7OkJgzQCIxb2dIzDNAAAAAAAAANEA=",
           "dtype": "f8",
           "shape": "100"
          },
          "bdata": "AAAAAAAAAAAxb2dIzNvJPzFvZ0jM29k/ZZNNNtlk4z8xb2dIzNvpP3+lQK1fKfA/ZZNNNtlk8z9LgVq/UqD2PzFvZ0jM2/k/F1100UUX/T9/pUCtXykAQHIcx3EcxwFAZZNNNtlkA0BYCtT6lQIFQEuBWr9SoAZAPvjggw8+CEAxb2dIzNsJQCTm7QyJeQtAF1100UUXDUAK1PqVArUOQH+lQK1fKRBA+OCDDz74EEByHMdxHMcRQOtXCtT6lRJAZZNNNtlkE0DezpCYtzMUQFgK1PqVAhVA0UUXXXTRFUBLgVq/UqAWQMS8nSExbxdAPvjggw8+GEC3MyTm7QwZQDFvZ0jM2xlAq6qqqqqqGkAk5u0MiXkbQJ4hMW9nSBxAF1100UUXHUCRmLczJOYdQArU+pUCtR5AhA8++OCDH0B/pUCtXykgQDtDYt7OkCBA+OCDDz74IEC1fqVArV8hQHIcx3EcxyFALrrooosuIkDrVwrU+pUiQKj1KwVq/SJAZZNNNtlkI0AiMW9nSMwjQN7OkJi3MyRAm2yyySabJEBYCtT6lQIlQBWo9SsFaiVA0UUXXXTRJUCO4ziO4zgmQEuBWr9SoCZACB988MEHJ0DEvJ0hMW8nQIFav1Kg1idAPvjggw8+KED7lQK1fqUoQLczJObtDClAdNFFF110KUAxb2dIzNspQO4MiXk7QypAq6qqqqqqKkBnSMzbGRIrQCTm7QyJeStA4YMPPvjgK0CeITFvZ0gsQFq/UqDWryxAF1100UUXLUDU+pUCtX4tQJGYtzMk5i1ATTbZZJNNLkAK1PqVArUuQMdxHMdxHC9AhA8++OCDL0BArV8pUOsvQH+lQK1fKTBAXXTRRRddMEA7Q2LezpAwQBoS83aGxDBA+OCDDz74MEDXrxSo9SsxQLV+pUCtXzFAk0022WSTMUByHMdxHMcxQFDrVwrU+jFALrrooosuMkANiXk7Q2IyQOtXCtT6lTJAyiabbLLJMkCo9SsFav0yQIbEvJ0hMTNAZZNNNtlkM0BDYt7OkJgzQCIxb2dIzDNAAAAAAAAANEA=",
          "dtype": "f8"
         },
         "xaxis": "x3",
         "y": {
          "_inputArray": {
           "0": 215.82,
           "1": 130.06411693973686,
           "10": -95.81339971679138,
           "11": -104.69748270910985,
           "12": -78.21800324800162,
           "13": -8.039878450882583,
           "14": 78.77597778504911,
           "15": 125.77921117643308,
           "16": 94.88157977340892,
           "17": 7.976925439550307,
           "18": -74.00250038039695,
           "19": -110.02661003090316,
           "2": -42.676082166544845,
           "20": -104.53842107141045,
           "21": -84.87810893887838,
           "22": -72.54855754286015,
           "23": -75.42633669405559,
           "24": -93.07904048247794,
           "25": -120.2178463788851,
           "26": -143.90141784633343,
           "27": -140.43793289490452,
           "28": -83.78504340047134,
           "29": 28.718782989359035,
           "3": -157.71518394298914,
           "30": 152.93095746992017,
           "31": 215.23989210253745,
           "32": 172.90834199631678,
           "33": 55.32487529715496,
           "34": -64.7207582458402,
           "35": -133.85539869654758,
           "36": -146.3279046579904,
           "37": -125.93358461268767,
           "38": -98.10979222389923,
           "39": -77.9208757076515,
           "4": -166.5381590874789,
           "40": -71.83635974789378,
           "41": -81.33945776854134,
           "42": -100.78274546791123,
           "43": -111.48787261379233,
           "44": -85.53511370540852,
           "45": -11.076719785044467,
           "46": 79.95262327289824,
           "47": 126.05556010523631,
           "48": 93.46958871972983,
           "49": 9.893465047656356,
           "5": -118.49055061303447,
           "50": -67.21058287268374,
           "51": -102.80305342459107,
           "52": -99.44063097297006,
           "53": -77.96580967244701,
           "54": -57.499707159249034,
           "55": -50.44654862784799,
           "56": -65.84575050274603,
           "57": -107.62974021441752,
           "58": -159.07622436630004,
           "59": -167.40196459040098,
           "6": -72.3079408806719,
           "60": -74.30445669968881,
           "61": 96.83869333646544,
           "62": 211.92155391146835,
           "63": 159.46542047569463,
           "64": -8.24274027166572,
           "65": -143.26212142888068,
           "66": -171.64557535825293,
           "67": -129.57256847901337,
           "68": -79.90394655368141,
           "69": -53.568052770988636,
           "7": -51.50320070470229,
           "70": -52.45772839019777,
           "71": -68.68688545445886,
           "72": -91.63976361483711,
           "73": -105.08727539625042,
           "74": -87.28473317544486,
           "75": -25.16248609020728,
           "76": 62.371202290818616,
           "77": 122.04185454953524,
           "78": 107.33999762237502,
           "79": 27.32114979764539,
           "8": -54.65633534964699,
           "80": -60.38952759394988,
           "81": -106.76941458679555,
           "82": -107.73858954731767,
           "83": -88.77141966867795,
           "84": -73.9164218790403,
           "85": -73.55651222880034,
           "86": -88.46596035651449,
           "87": -114.39976407016661,
           "88": -140.36774726964933,
           "89": -144.74090711352068,
           "9": -73.23163444826895,
           "90": -100.36021552608528,
           "91": 2.720493826617684,
           "92": 130.27803796915362,
           "93": 210.62722130845535,
           "94": 189.60696596299272,
           "95": 81.91428642596806,
           "96": -43.365597019480994,
           "97": -124.82514873234882,
           "98": -147.3967594564828,
           "99": -131.3824046045811,
           "bdata": "CtejcD36akBD6fc+DUJgQAZcRdyJVkXAaLhvyeK2Y8CMGGiZONFkwAMBZi5ln13AleWqTbUTUsCfAnXhaMBJwKX49ssCVEvATPxKGdNOUsB1jK+9DvRXwL9JhI6jLFrAriXlw/ONU8AwtsTyahQgwFdNup6psVNATN2NmN5xX0DP5pHNa7hXQPj+dSRf6B9AFAJb9yiAUsBgHo/6s4FbwNpLp311IlrAtbPV7zI4VcC+oxiRGyNSwG2DsxlJ21LAYdPP/w5FV8BEN/Ax8Q1ewA1BPWrY/GHApK7YiwOOYcDDvawmPvJUwNo3eCkCuDxAxehRZ8odY0Dy3jMyredqQHL4OyMRnWVAiEeEg5WpS0AvjTHnIC5QwNBWFm1fu2DAy8joMX5KYsC24qzZv3tfwCbA9tUGh1jA0gKqoO96U8BBOQnrhvVRwIaQE625VVTAV3FygBgyWcCJNg5OOd9bwL4Xjk0/YlXAvHHP0EcnJsBpoJrH9/xTQPK8+EuOg19A2XPYvQ1eV0A0my9AdMkjQJDRlTB6zVDAzuMwOmWzWcC1oEBMM9xYwIFUX9PPfVPAnUZ5Z/a/TMAkV2SBKDlJwKp3t8YgdlDAjnnmqU3oWsBYDRVucOJjwIM92OTc7GTAig30N3yTUsCA39AmrTVYQD3ooF59fWpA6T97ueTuY0Duc/BzSHwgwPKTekxj6GHAmFmnjah0ZcCngiF7UjJgwDBZpULa+VPAMeYE9LXISsDSLAnYljpKwO6/aO71K1HAWrkW4/HoVsAGKYvrlUVawM0nfxE50lXAxH47sJgpOcAUooGOgy9PQFVctL6tgl5AYjRjhcLVWkAEAYbfNlI7QMBzSgrcMU7Ai9atFj6xWsBmuRcNRe9awKEdmvBeMVbASfTzp6Z6UsBhoXflnWNSwJUdY0vSHVbA0N4JvJWZXMDKCuyVxIthwD6+1YK1F2LADgNsxQ0XWcDAV3JEksMFQPQR4q/lSGBAceVrMhJUakDYGuJDbLNnQGmtNquDelRAzRcV4suuRcCK8aA8zzRfwB4/40CybGLAgNCUqDxsYMA=",
           "dtype": "f8",
           "shape": "100"
          },
          "bdata": "CtejcD36akBD6fc+DUJgQAZcRdyJVkXAaLhvyeK2Y8CMGGiZONFkwAMBZi5ln13AleWqTbUTUsCfAnXhaMBJwKX49ssCVEvATPxKGdNOUsB1jK+9DvRXwL9JhI6jLFrAriXlw/ONU8AwtsTyahQgwFdNup6psVNATN2NmN5xX0DP5pHNa7hXQPj+dSRf6B9AFAJb9yiAUsBgHo/6s4FbwNpLp311IlrAtbPV7zI4VcC+oxiRGyNSwG2DsxlJ21LAYdPP/w5FV8BEN/Ax8Q1ewA1BPWrY/GHApK7YiwOOYcDDvawmPvJUwNo3eCkCuDxAxehRZ8odY0Dy3jMyredqQHL4OyMRnWVAiEeEg5WpS0AvjTHnIC5QwNBWFm1fu2DAy8joMX5KYsC24qzZv3tfwCbA9tUGh1jA0gKqoO96U8BBOQnrhvVRwIaQE625VVTAV3FygBgyWcCJNg5OOd9bwL4Xjk0/YlXAvHHP0EcnJsBpoJrH9/xTQPK8+EuOg19A2XPYvQ1eV0A0my9AdMkjQJDRlTB6zVDAzuMwOmWzWcC1oEBMM9xYwIFUX9PPfVPAnUZ5Z/a/TMAkV2SBKDlJwKp3t8YgdlDAjnnmqU3oWsBYDRVucOJjwIM92OTc7GTAig30N3yTUsCA39AmrTVYQD3ooF59fWpA6T97ueTuY0Duc/BzSHwgwPKTekxj6GHAmFmnjah0ZcCngiF7UjJgwDBZpULa+VPAMeYE9LXISsDSLAnYljpKwO6/aO71K1HAWrkW4/HoVsAGKYvrlUVawM0nfxE50lXAxH47sJgpOcAUooGOgy9PQFVctL6tgl5AYjRjhcLVWkAEAYbfNlI7QMBzSgrcMU7Ai9atFj6xWsBmuRcNRe9awKEdmvBeMVbASfTzp6Z6UsBhoXflnWNSwJUdY0vSHVbA0N4JvJWZXMDKCuyVxIthwD6+1YK1F2LADgNsxQ0XWcDAV3JEksMFQPQR4q/lSGBAceVrMhJUakDYGuJDbLNnQGmtNquDelRAzRcV4suuRcCK8aA8zzRfwB4/40CybGLAgNCUqDxsYMA=",
          "dtype": "f8"
         },
         "yaxis": "y3"
        },
        {
         "name": "g2",
         "type": "scatter",
         "x": {
          "_inputArray": {
           "0": 0,
           "1": 0.20202020202020202,
           "10": 2.0202020202020203,
           "11": 2.2222222222222223,
           "12": 2.4242424242424243,
           "13": 2.6262626262626263,
           "14": 2.8282828282828283,
           "15": 3.0303030303030303,
           "16": 3.2323232323232323,
           "17": 3.4343434343434343,
           "18": 3.6363636363636362,
           "19": 3.8383838383838382,
           "2": 0.40404040404040403,
           "20": 4.040404040404041,
           "21": 4.242424242424242,
           "22": 4.444444444444445,
           "23": 4.646464646464646,
           "24": 4.848484848484849,
           "25": 5.05050505050505,
           "26": 5.252525252525253,
           "27": 5.454545454545454,
           "28": 5.656565656565657,
           "29": 5.858585858585858,
           "3": 0.6060606060606061,
           "30": 6.0606060606060606,
           "31": 6.262626262626262,
           "32": 6.4646464646464645,
           "33": 6.666666666666667,
           "34": 6.8686868686868685,
           "35": 7.070707070707071,
           "36": 7.2727272727272725,
           "37": 7.474747474747475,
           "38": 7.6767676767676765,
           "39": 7.878787878787879,
           "4": 0.8080808080808081,
           "40": 8.080808080808081,
           "41": 8.282828282828282,
           "42": 8.484848484848484,
           "43": 8.686868686868687,
           "44": 8.88888888888889,
           "45": 9.09090909090909,
           "46": 9.292929292929292,
           "47": 9.494949494949495,
           "48": 9.696969696969697,
           "49": 9.8989898989899,
           "5": 1.0101010101010102,
           "50": 10.1010101010101,
           "51": 10.303030303030303,
           "52": 10.505050505050505,
           "53": 10.707070707070708,
           "54": 10.909090909090908,
           "55": 11.11111111111111,
           "56": 11.313131313131313,
           "57": 11.515151515151516,
           "58": 11.717171717171716,
           "59": 11.919191919191919,
           "6": 1.2121212121212122,
           "60": 12.121212121212121,
           "61": 12.323232323232324,
           "62": 12.525252525252524,
           "63": 12.727272727272727,
           "64": 12.929292929292929,
           "65": 13.131313131313131,
           "66": 13.333333333333334,
           "67": 13.535353535353535,
           "68": 13.737373737373737,
           "69": 13.93939393939394,
           "7": 1.4141414141414141,
           "70": 14.141414141414142,
           "71": 14.343434343434343,
           "72": 14.545454545454545,
           "73": 14.747474747474747,
           "74": 14.94949494949495,
           "75": 15.15151515151515,
           "76": 15.353535353535353,
           "77": 15.555555555555555,
           "78": 15.757575757575758,
           "79": 15.959595959595958,
           "8": 1.6161616161616161,
           "80": 16.161616161616163,
           "81": 16.363636363636363,
           "82": 16.565656565656564,
           "83": 16.767676767676768,
           "84": 16.96969696969697,
           "85": 17.171717171717173,
           "86": 17.373737373737374,
           "87": 17.575757575757574,
           "88": 17.77777777777778,
           "89": 17.97979797979798,
           "9": 1.8181818181818181,
           "90": 18.18181818181818,
           "91": 18.383838383838384,
           "92": 18.585858585858585,
           "93": 18.78787878787879,
           "94": 18.98989898989899,
           "95": 19.19191919191919,
           "96": 19.393939393939394,
           "97": 19.595959595959595,
           "98": 19.7979797979798,
           "99": 20,
           "bdata": "AAAAAAAAAAAxb2dIzNvJPzFvZ0jM29k/ZZNNNtlk4z8xb2dIzNvpP3+lQK1fKfA/ZZNNNtlk8z9LgVq/UqD2PzFvZ0jM2/k/F1100UUX/T9/pUCtXykAQHIcx3EcxwFAZZNNNtlkA0BYCtT6lQIFQEuBWr9SoAZAPvjggw8+CEAxb2dIzNsJQCTm7QyJeQtAF1100UUXDUAK1PqVArUOQH+lQK1fKRBA+OCDDz74EEByHMdxHMcRQOtXCtT6lRJAZZNNNtlkE0DezpCYtzMUQFgK1PqVAhVA0UUXXXTRFUBLgVq/UqAWQMS8nSExbxdAPvjggw8+GEC3MyTm7QwZQDFvZ0jM2xlAq6qqqqqqGkAk5u0MiXkbQJ4hMW9nSBxAF1100UUXHUCRmLczJOYdQArU+pUCtR5AhA8++OCDH0B/pUCtXykgQDtDYt7OkCBA+OCDDz74IEC1fqVArV8hQHIcx3EcxyFALrrooosuIkDrVwrU+pUiQKj1KwVq/SJAZZNNNtlkI0AiMW9nSMwjQN7OkJi3MyRAm2yyySabJEBYCtT6lQIlQBWo9SsFaiVA0UUXXXTRJUCO4ziO4zgmQEuBWr9SoCZACB988MEHJ0DEvJ0hMW8nQIFav1Kg1idAPvjggw8+KED7lQK1fqUoQLczJObtDClAdNFFF110KUAxb2dIzNspQO4MiXk7QypAq6qqqqqqKkBnSMzbGRIrQCTm7QyJeStA4YMPPvjgK0CeITFvZ0gsQFq/UqDWryxAF1100UUXLUDU+pUCtX4tQJGYtzMk5i1ATTbZZJNNLkAK1PqVArUuQMdxHMdxHC9AhA8++OCDL0BArV8pUOsvQH+lQK1fKTBAXXTRRRddMEA7Q2LezpAwQBoS83aGxDBA+OCDDz74MEDXrxSo9SsxQLV+pUCtXzFAk0022WSTMUByHMdxHMcxQFDrVwrU+jFALrrooosuMkANiXk7Q2IyQOtXCtT6lTJAyiabbLLJMkCo9SsFav0yQIbEvJ0hMTNAZZNNNtlkM0BDYt7OkJgzQCIxb2dIzDNAAAAAAAAANEA=",
           "dtype": "f8",
           "shape": "100"
          },
          "bdata": "AAAAAAAAAAAxb2dIzNvJPzFvZ0jM29k/ZZNNNtlk4z8xb2dIzNvpP3+lQK1fKfA/ZZNNNtlk8z9LgVq/UqD2PzFvZ0jM2/k/F1100UUX/T9/pUCtXykAQHIcx3EcxwFAZZNNNtlkA0BYCtT6lQIFQEuBWr9SoAZAPvjggw8+CEAxb2dIzNsJQCTm7QyJeQtAF1100UUXDUAK1PqVArUOQH+lQK1fKRBA+OCDDz74EEByHMdxHMcRQOtXCtT6lRJAZZNNNtlkE0DezpCYtzMUQFgK1PqVAhVA0UUXXXTRFUBLgVq/UqAWQMS8nSExbxdAPvjggw8+GEC3MyTm7QwZQDFvZ0jM2xlAq6qqqqqqGkAk5u0MiXkbQJ4hMW9nSBxAF1100UUXHUCRmLczJOYdQArU+pUCtR5AhA8++OCDH0B/pUCtXykgQDtDYt7OkCBA+OCDDz74IEC1fqVArV8hQHIcx3EcxyFALrrooosuIkDrVwrU+pUiQKj1KwVq/SJAZZNNNtlkI0AiMW9nSMwjQN7OkJi3MyRAm2yyySabJEBYCtT6lQIlQBWo9SsFaiVA0UUXXXTRJUCO4ziO4zgmQEuBWr9SoCZACB988MEHJ0DEvJ0hMW8nQIFav1Kg1idAPvjggw8+KED7lQK1fqUoQLczJObtDClAdNFFF110KUAxb2dIzNspQO4MiXk7QypAq6qqqqqqKkBnSMzbGRIrQCTm7QyJeStA4YMPPvjgK0CeITFvZ0gsQFq/UqDWryxAF1100UUXLUDU+pUCtX4tQJGYtzMk5i1ATTbZZJNNLkAK1PqVArUuQMdxHMdxHC9AhA8++OCDL0BArV8pUOsvQH+lQK1fKTBAXXTRRRddMEA7Q2LezpAwQBoS83aGxDBA+OCDDz74MEDXrxSo9SsxQLV+pUCtXzFAk0022WSTMUByHMdxHMcxQFDrVwrU+jFALrrooosuMkANiXk7Q2IyQOtXCtT6lTJAyiabbLLJMkCo9SsFav0yQIbEvJ0hMTNAZZNNNtlkM0BDYt7OkJgzQCIxb2dIzDNAAAAAAAAANEA=",
          "dtype": "f8"
         },
         "xaxis": "x4",
         "y": {
          "_inputArray": {
           "0": 58.86,
           "1": 21.001634979582946,
           "10": 44.74524563775667,
           "11": 52.141397930919666,
           "12": 58.61201701055433,
           "13": 53.15432285443541,
           "14": 26.733783013997463,
           "15": -15.94585680521988,
           "16": -51.88229135869709,
           "17": -55.51569869043766,
           "18": -23.35991709007653,
           "19": 21.731233160146186,
           "2": -42.40138318929495,
           "20": 52.411659394864024,
           "21": 58.135069370343516,
           "22": 45.90130540541338,
           "23": 28.19781344584912,
           "24": 13.839295594508558,
           "25": 6.431223270458426,
           "26": 6.5510578128011945,
           "27": 13.591500118106525,
           "28": 26.02485251319534,
           "29": 40.79698844128128,
           "3": -55.67261767657294,
           "30": 53.285136162870366,
           "31": 58.81026205349308,
           "32": 55.09842488791894,
           "33": 43.69047263557032,
           "34": 28.973934956641713,
           "35": 15.758001072884388,
           "36": 7.45622064262096,
           "37": 5.854194610075553,
           "38": 11.721494623990791,
           "39": 24.821133795494614,
           "4": -14.447667460813308,
           "40": 42.371195587507955,
           "41": 56.69152190014213,
           "42": 55.563350113694284,
           "43": 29.803768226514375,
           "44": -14.222578947930733,
           "45": -51.42709597635584,
           "46": -55.80028912521986,
           "47": -24.771912878218096,
           "48": 18.850089027771556,
           "49": 49.60035684572209,
           "5": 33.745982403415255,
           "50": 58.85885952037263,
           "51": 53.84461374724635,
           "52": 45.92613509184416,
           "53": 42.77964533120809,
           "54": 46.8604737981485,
           "55": 55.280309810264725,
           "56": 58.30413328207473,
           "57": 40.83439285215763,
           "58": -3.6211251169680287,
           "59": -50.42271067216119,
           "6": 56.89383180587372,
           "60": -50.59921286438231,
           "61": 7.205034668683756,
           "62": 57.07855642442693,
           "63": 33.646776887099676,
           "64": -31.817344024872057,
           "65": -58.472595735721185,
           "66": -25.069621055256153,
           "67": 25.48997036261067,
           "68": 54.481466408271906,
           "69": 57.96905314379159,
           "7": 56.785697018047635,
           "70": 50.142459821808316,
           "71": 43.60051913769058,
           "72": 43.816928479457424,
           "73": 50.417132627505396,
           "74": 57.86803966582404,
           "75": 55.79163087485499,
           "76": 33.87228454450516,
           "77": -6.854779869188539,
           "78": -46.54192118271116,
           "79": -58.01993628911299,
           "8": 48.42754589017783,
           "80": -31.9476641145894,
           "81": 12.994483992737784,
           "82": 48.162013817493126,
           "83": 58.81896328028604,
           "84": 49.2209490719429,
           "85": 31.73182660165224,
           "86": 16.25465939673856,
           "87": 7.3232066796721895,
           "88": 5.93520605151033,
           "89": 11.65373016741562,
           "9": 43.03427922487844,
           "90": 23.178656897302016,
           "91": 37.80961882992328,
           "92": 51.17492404680799,
           "93": 58.41374301630199,
           "94": 56.58273822624033,
           "95": 46.44587046557617,
           "96": 31.990636933295455,
           "97": 18.133879288809712,
           "98": 8.641991382550879,
           "99": 5.589138750778844,
           "bdata": "rkfhehRuTUCg1mcmawA1QM6XO4ZgM0XA0MsFVhjWS8BhWl+rNOUswK4H9Vl830BAFi2jFGlyTEAnikq4kWRMQC/t39K5NkhAf+T6QmOERUBm04Q1ZF9GQNKC0FMZEkpAmXbKklZOTUCoae7ZwJNKQLt6HzTZuzpAojzaV0fkL8Deklns7vBJwIgCKWoCwkvAcibDhiNcN8AflKwYMrs1QB0ES0GxNEpAiigA9EkRTUCw+rv5XfNGQIyh6OajMjxAqS70JritK0CJks+XkrkZQOW+0H9INBpAAbJ9GtkuK0C8Zfu7XAY6QOtLnbcDZkRAszd/V3+kSkCmeL6qtmdNQLZczS+ZjEtAW0dGaGHYRUAUNSPNU/k8QCO+dLcYhC9AvUQPgSvTHUChxur9sWoXQH+PTL5ncSdAK0oN0zXSOEASYkZWgy9FQAPKJMqDWExA5kFF2xvIS0BzcSbBw809QPtHLN71cSzAy1m5FKu2ScD2FMLfb+ZLwNZOFxWcxTjAn/c8b5/ZMkAuJz1+2MxIQOrt1xvvbU1AaRajTRzsSkAGkz2Yi/ZGQEgCEGvLY0VAbQ5jASRuR0Dg6h0x4aNLQGwR4tbtJk1APwSOYs1qRECb0AByEPgMwB5NIGIbNknAqO7TAbNMScD1K7Kb9NEcQPXmDCMOikxAbvPElcnSQEAQaEB1PdE/wGaTXgR+PE3ALXB7r9IROcAObJuybn05QEHT9rCgPUtA31X07gn8TECS1JkfPBJJQGiApM/dzEVAZzjHHJHoRUB4nRiaZDVJQCosfOwb70xAxgAXKVTlS0BcuhsFp+9AQJbG/WlLaxvAhWBerF1FR8A437ZFjQJNwBjBix2a8j/AmGiCAS39KUAJ0WfevBRIQAq67MnTaE1AxAknD0icSEBvcPj8WLs/QHictFsxQTBAyCkcsfZKHUBbCLmnpr0XQNrqcri1TidA8x1bdbwtN0CGX/6WoedCQIIpQuljlklAlPv5h/U0TUBn6osql0pMQHPzjUgSOUdAtrbOYZr9P0CpDL/pRSIyQF29MBizSCFAEJtNMEdbFkA=",
           "dtype": "f8",
           "shape": "100"
          },
          "bdata": "rkfhehRuTUCg1mcmawA1QM6XO4ZgM0XA0MsFVhjWS8BhWl+rNOUswK4H9Vl830BAFi2jFGlyTEAnikq4kWRMQC/t39K5NkhAf+T6QmOERUBm04Q1ZF9GQNKC0FMZEkpAmXbKklZOTUCoae7ZwJNKQLt6HzTZuzpAojzaV0fkL8Deklns7vBJwIgCKWoCwkvAcibDhiNcN8AflKwYMrs1QB0ES0GxNEpAiigA9EkRTUCw+rv5XfNGQIyh6OajMjxAqS70JritK0CJks+XkrkZQOW+0H9INBpAAbJ9GtkuK0C8Zfu7XAY6QOtLnbcDZkRAszd/V3+kSkCmeL6qtmdNQLZczS+ZjEtAW0dGaGHYRUAUNSPNU/k8QCO+dLcYhC9AvUQPgSvTHUChxur9sWoXQH+PTL5ncSdAK0oN0zXSOEASYkZWgy9FQAPKJMqDWExA5kFF2xvIS0BzcSbBw809QPtHLN71cSzAy1m5FKu2ScD2FMLfb+ZLwNZOFxWcxTjAn/c8b5/ZMkAuJz1+2MxIQOrt1xvvbU1AaRajTRzsSkAGkz2Yi/ZGQEgCEGvLY0VAbQ5jASRuR0Dg6h0x4aNLQGwR4tbtJk1APwSOYs1qRECb0AByEPgMwB5NIGIbNknAqO7TAbNMScD1K7Kb9NEcQPXmDCMOikxAbvPElcnSQEAQaEB1PdE/wGaTXgR+PE3ALXB7r9IROcAObJuybn05QEHT9rCgPUtA31X07gn8TECS1JkfPBJJQGiApM/dzEVAZzjHHJHoRUB4nRiaZDVJQCosfOwb70xAxgAXKVTlS0BcuhsFp+9AQJbG/WlLaxvAhWBerF1FR8A437ZFjQJNwBjBix2a8j/AmGiCAS39KUAJ0WfevBRIQAq67MnTaE1AxAknD0icSEBvcPj8WLs/QHictFsxQTBAyCkcsfZKHUBbCLmnpr0XQNrqcri1TidA8x1bdbwtN0CGX/6WoedCQIIpQuljlklAlPv5h/U0TUBn6osql0pMQHPzjUgSOUdAtrbOYZr9P0CpDL/pRSIyQF29MBizSCFAEJtNMEdbFkA=",
          "dtype": "f8"
         },
         "yaxis": "y4"
        }
       ],
       "layout": {
        "autosize": true,
        "template": {
         "data": {
          "bar": [
           {
            "error_x": {
             "color": "#2a3f5f"
            },
            "error_y": {
             "color": "#2a3f5f"
            },
            "marker": {
             "line": {
              "color": "#E5ECF6",
              "width": 0.5
             },
             "pattern": {
              "fillmode": "overlay",
              "size": 10,
              "solidity": 0.2
             }
            },
            "type": "bar"
           }
          ],
          "barpolar": [
           {
            "marker": {
             "line": {
              "color": "#E5ECF6",
              "width": 0.5
             },
             "pattern": {
              "fillmode": "overlay",
              "size": 10,
              "solidity": 0.2
             }
            },
            "type": "barpolar"
           }
          ],
          "carpet": [
           {
            "aaxis": {
             "endlinecolor": "#2a3f5f",
             "gridcolor": "white",
             "linecolor": "white",
             "minorgridcolor": "white",
             "startlinecolor": "#2a3f5f"
            },
            "baxis": {
             "endlinecolor": "#2a3f5f",
             "gridcolor": "white",
             "linecolor": "white",
             "minorgridcolor": "white",
             "startlinecolor": "#2a3f5f"
            },
            "type": "carpet"
           }
          ],
          "choropleth": [
           {
            "colorbar": {
             "outlinewidth": 0,
             "ticks": ""
            },
            "type": "choropleth"
           }
          ],
          "contour": [
           {
            "colorbar": {
             "outlinewidth": 0,
             "ticks": ""
            },
            "colorscale": [
             [
              0,
              "#0d0887"
             ],
             [
              0.1111111111111111,
              "#46039f"
             ],
             [
              0.2222222222222222,
              "#7201a8"
             ],
             [
              0.3333333333333333,
              "#9c179e"
             ],
             [
              0.4444444444444444,
              "#bd3786"
             ],
             [
              0.5555555555555556,
              "#d8576b"
             ],
             [
              0.6666666666666666,
              "#ed7953"
             ],
             [
              0.7777777777777778,
              "#fb9f3a"
             ],
             [
              0.8888888888888888,
              "#fdca26"
             ],
             [
              1,
              "#f0f921"
             ]
            ],
            "type": "contour"
           }
          ],
          "contourcarpet": [
           {
            "colorbar": {
             "outlinewidth": 0,
             "ticks": ""
            },
            "type": "contourcarpet"
           }
          ],
          "heatmap": [
           {
            "colorbar": {
             "outlinewidth": 0,
             "ticks": ""
            },
            "colorscale": [
             [
              0,
              "#0d0887"
             ],
             [
              0.1111111111111111,
              "#46039f"
             ],
             [
              0.2222222222222222,
              "#7201a8"
             ],
             [
              0.3333333333333333,
              "#9c179e"
             ],
             [
              0.4444444444444444,
              "#bd3786"
             ],
             [
              0.5555555555555556,
              "#d8576b"
             ],
             [
              0.6666666666666666,
              "#ed7953"
             ],
             [
              0.7777777777777778,
              "#fb9f3a"
             ],
             [
              0.8888888888888888,
              "#fdca26"
             ],
             [
              1,
              "#f0f921"
             ]
            ],
            "type": "heatmap"
           }
          ],
          "histogram": [
           {
            "marker": {
             "pattern": {
              "fillmode": "overlay",
              "size": 10,
              "solidity": 0.2
             }
            },
            "type": "histogram"
           }
          ],
          "histogram2d": [
           {
            "colorbar": {
             "outlinewidth": 0,
             "ticks": ""
            },
            "colorscale": [
             [
              0,
              "#0d0887"
             ],
             [
              0.1111111111111111,
              "#46039f"
             ],
             [
              0.2222222222222222,
              "#7201a8"
             ],
             [
              0.3333333333333333,
              "#9c179e"
             ],
             [
              0.4444444444444444,
              "#bd3786"
             ],
             [
              0.5555555555555556,
              "#d8576b"
             ],
             [
              0.6666666666666666,
              "#ed7953"
             ],
             [
              0.7777777777777778,
              "#fb9f3a"
             ],
             [
              0.8888888888888888,
              "#fdca26"
             ],
             [
              1,
              "#f0f921"
             ]
            ],
            "type": "histogram2d"
           }
          ],
          "histogram2dcontour": [
           {
            "colorbar": {
             "outlinewidth": 0,
             "ticks": ""
            },
            "colorscale": [
             [
              0,
              "#0d0887"
             ],
             [
              0.1111111111111111,
              "#46039f"
             ],
             [
              0.2222222222222222,
              "#7201a8"
             ],
             [
              0.3333333333333333,
              "#9c179e"
             ],
             [
              0.4444444444444444,
              "#bd3786"
             ],
             [
              0.5555555555555556,
              "#d8576b"
             ],
             [
              0.6666666666666666,
              "#ed7953"
             ],
             [
              0.7777777777777778,
              "#fb9f3a"
             ],
             [
              0.8888888888888888,
              "#fdca26"
             ],
             [
              1,
              "#f0f921"
             ]
            ],
            "type": "histogram2dcontour"
           }
          ],
          "mesh3d": [
           {
            "colorbar": {
             "outlinewidth": 0,
             "ticks": ""
            },
            "type": "mesh3d"
           }
          ],
          "parcoords": [
           {
            "line": {
             "colorbar": {
              "outlinewidth": 0,
              "ticks": ""
             }
            },
            "type": "parcoords"
           }
          ],
          "pie": [
           {
            "automargin": true,
            "type": "pie"
           }
          ],
          "scatter": [
           {
            "fillpattern": {
             "fillmode": "overlay",
             "size": 10,
             "solidity": 0.2
            },
            "type": "scatter"
           }
          ],
          "scatter3d": [
           {
            "line": {
             "colorbar": {
              "outlinewidth": 0,
              "ticks": ""
             }
            },
            "marker": {
             "colorbar": {
              "outlinewidth": 0,
              "ticks": ""
             }
            },
            "type": "scatter3d"
           }
          ],
          "scattercarpet": [
           {
            "marker": {
             "colorbar": {
              "outlinewidth": 0,
              "ticks": ""
             }
            },
            "type": "scattercarpet"
           }
          ],
          "scattergeo": [
           {
            "marker": {
             "colorbar": {
              "outlinewidth": 0,
              "ticks": ""
             }
            },
            "type": "scattergeo"
           }
          ],
          "scattergl": [
           {
            "marker": {
             "colorbar": {
              "outlinewidth": 0,
              "ticks": ""
             }
            },
            "type": "scattergl"
           }
          ],
          "scattermap": [
           {
            "marker": {
             "colorbar": {
              "outlinewidth": 0,
              "ticks": ""
             }
            },
            "type": "scattermap"
           }
          ],
          "scattermapbox": [
           {
            "marker": {
             "colorbar": {
              "outlinewidth": 0,
              "ticks": ""
             }
            },
            "type": "scattermapbox"
           }
          ],
          "scatterpolar": [
           {
            "marker": {
             "colorbar": {
              "outlinewidth": 0,
              "ticks": ""
             }
            },
            "type": "scatterpolar"
           }
          ],
          "scatterpolargl": [
           {
            "marker": {
             "colorbar": {
              "outlinewidth": 0,
              "ticks": ""
             }
            },
            "type": "scatterpolargl"
           }
          ],
          "scatterternary": [
           {
            "marker": {
             "colorbar": {
              "outlinewidth": 0,
              "ticks": ""
             }
            },
            "type": "scatterternary"
           }
          ],
          "surface": [
           {
            "colorbar": {
             "outlinewidth": 0,
             "ticks": ""
            },
            "colorscale": [
             [
              0,
              "#0d0887"
             ],
             [
              0.1111111111111111,
              "#46039f"
             ],
             [
              0.2222222222222222,
              "#7201a8"
             ],
             [
              0.3333333333333333,
              "#9c179e"
             ],
             [
              0.4444444444444444,
              "#bd3786"
             ],
             [
              0.5555555555555556,
              "#d8576b"
             ],
             [
              0.6666666666666666,
              "#ed7953"
             ],
             [
              0.7777777777777778,
              "#fb9f3a"
             ],
             [
              0.8888888888888888,
              "#fdca26"
             ],
             [
              1,
              "#f0f921"
             ]
            ],
            "type": "surface"
           }
          ],
          "table": [
           {
            "cells": {
             "fill": {
              "color": "#EBF0F8"
             },
             "line": {
              "color": "white"
             }
            },
            "header": {
             "fill": {
              "color": "#C8D4E3"
             },
             "line": {
              "color": "white"
             }
            },
            "type": "table"
           }
          ]
         },
         "layout": {
          "annotationdefaults": {
           "arrowcolor": "#2a3f5f",
           "arrowhead": 0,
           "arrowwidth": 1
          },
          "autotypenumbers": "strict",
          "coloraxis": {
           "colorbar": {
            "outlinewidth": 0,
            "ticks": ""
           }
          },
          "colorscale": {
           "diverging": [
            [
             0,
             "#8e0152"
            ],
            [
             0.1,
             "#c51b7d"
            ],
            [
             0.2,
             "#de77ae"
            ],
            [
             0.3,
             "#f1b6da"
            ],
            [
             0.4,
             "#fde0ef"
            ],
            [
             0.5,
             "#f7f7f7"
            ],
            [
             0.6,
             "#e6f5d0"
            ],
            [
             0.7,
             "#b8e186"
            ],
            [
             0.8,
             "#7fbc41"
            ],
            [
             0.9,
             "#4d9221"
            ],
            [
             1,
             "#276419"
            ]
           ],
           "sequential": [
            [
             0,
             "#0d0887"
            ],
            [
             0.1111111111111111,
             "#46039f"
            ],
            [
             0.2222222222222222,
             "#7201a8"
            ],
            [
             0.3333333333333333,
             "#9c179e"
            ],
            [
             0.4444444444444444,
             "#bd3786"
            ],
            [
             0.5555555555555556,
             "#d8576b"
            ],
            [
             0.6666666666666666,
             "#ed7953"
            ],
            [
             0.7777777777777778,
             "#fb9f3a"
            ],
            [
             0.8888888888888888,
             "#fdca26"
            ],
            [
             1,
             "#f0f921"
            ]
           ],
           "sequentialminus": [
            [
             0,
             "#0d0887"
            ],
            [
             0.1111111111111111,
             "#46039f"
            ],
            [
             0.2222222222222222,
             "#7201a8"
            ],
            [
             0.3333333333333333,
             "#9c179e"
            ],
            [
             0.4444444444444444,
             "#bd3786"
            ],
            [
             0.5555555555555556,
             "#d8576b"
            ],
            [
             0.6666666666666666,
             "#ed7953"
            ],
            [
             0.7777777777777778,
             "#fb9f3a"
            ],
            [
             0.8888888888888888,
             "#fdca26"
            ],
            [
             1,
             "#f0f921"
            ]
           ]
          },
          "colorway": [
           "#636efa",
           "#EF553B",
           "#00cc96",
           "#ab63fa",
           "#FFA15A",
           "#19d3f3",
           "#FF6692",
           "#B6E880",
           "#FF97FF",
           "#FECB52"
          ],
          "font": {
           "color": "#2a3f5f"
          },
          "geo": {
           "bgcolor": "white",
           "lakecolor": "white",
           "landcolor": "#E5ECF6",
           "showlakes": true,
           "showland": true,
           "subunitcolor": "white"
          },
          "hoverlabel": {
           "align": "left"
          },
          "hovermode": "closest",
          "mapbox": {
           "style": "light"
          },
          "paper_bgcolor": "white",
          "plot_bgcolor": "#E5ECF6",
          "polar": {
           "angularaxis": {
            "gridcolor": "white",
            "linecolor": "white",
            "ticks": ""
           },
           "bgcolor": "#E5ECF6",
           "radialaxis": {
            "gridcolor": "white",
            "linecolor": "white",
            "ticks": ""
           }
          },
          "scene": {
           "xaxis": {
            "backgroundcolor": "#E5ECF6",
            "gridcolor": "white",
            "gridwidth": 2,
            "linecolor": "white",
            "showbackground": true,
            "ticks": "",
            "zerolinecolor": "white"
           },
           "yaxis": {
            "backgroundcolor": "#E5ECF6",
            "gridcolor": "white",
            "gridwidth": 2,
            "linecolor": "white",
            "showbackground": true,
            "ticks": "",
            "zerolinecolor": "white"
           },
           "zaxis": {
            "backgroundcolor": "#E5ECF6",
            "gridcolor": "white",
            "gridwidth": 2,
            "linecolor": "white",
            "showbackground": true,
            "ticks": "",
            "zerolinecolor": "white"
           }
          },
          "shapedefaults": {
           "line": {
            "color": "#2a3f5f"
           }
          },
          "ternary": {
           "aaxis": {
            "gridcolor": "white",
            "linecolor": "white",
            "ticks": ""
           },
           "baxis": {
            "gridcolor": "white",
            "linecolor": "white",
            "ticks": ""
           },
           "bgcolor": "#E5ECF6",
           "caxis": {
            "gridcolor": "white",
            "linecolor": "white",
            "ticks": ""
           }
          },
          "title": {
           "x": 0.05
          },
          "xaxis": {
           "automargin": true,
           "gridcolor": "white",
           "linecolor": "white",
           "ticks": "",
           "title": {
            "standoff": 15
           },
           "zerolinecolor": "white",
           "zerolinewidth": 2
          },
          "yaxis": {
           "automargin": true,
           "gridcolor": "white",
           "linecolor": "white",
           "ticks": "",
           "title": {
            "standoff": 15
           },
           "zerolinecolor": "white",
           "zerolinewidth": 2
          }
         }
        },
        "xaxis": {
         "anchor": "y",
         "autorange": true,
         "domain": [
          0,
          0.45
         ],
         "range": [
          0,
          20
         ],
         "type": "linear"
        },
        "xaxis2": {
         "anchor": "y2",
         "autorange": true,
         "domain": [
          0.55,
          1
         ],
         "range": [
          0,
          20
         ],
         "type": "linear"
        },
        "xaxis3": {
         "anchor": "y3",
         "autorange": true,
         "domain": [
          0,
          0.45
         ],
         "range": [
          0,
          20
         ],
         "type": "linear"
        },
        "xaxis4": {
         "anchor": "y4",
         "autorange": true,
         "domain": [
          0.55,
          1
         ],
         "range": [
          0,
          20
         ],
         "type": "linear"
        },
        "yaxis": {
         "anchor": "x",
         "autorange": true,
         "domain": [
          0.575,
          1
         ],
         "range": [
          -4.435270836058572,
          4.443923646775856
         ],
         "type": "linear"
        },
        "yaxis2": {
         "anchor": "x2",
         "autorange": true,
         "domain": [
          0.575,
          1
         ],
         "range": [
          -4.441777541227198,
          4.443008674321902
         ],
         "type": "linear"
        },
        "yaxis3": {
         "anchor": "x3",
         "autorange": true,
         "domain": [
          0,
          0.425
         ],
         "range": [
          -193.17144065593365,
          237.34586529768072
         ],
         "type": "linear"
        },
        "yaxis4": {
         "anchor": "x4",
         "autorange": true,
         "domain": [
          0,
          0.425
         ],
         "range": [
          -64.99107327659459,
          65.3784775408734
         ],
         "type": "linear"
        }
       }
      },
      "image/png": "[encoded data removed]"
     },
     "metadata": {},
     "output_type": "display_data"
    }
   ],
   "source": [
    "time = np.linspace(0, 20, 100)\n",
    "equation_1 = sp.lambdify(t, 4 * sp.sin(t))\n",
    "equation_2 = sp.lambdify(t, 4 * sp.sin(.5 * t))\n",
    "equation_3 = sp.lambdify(t, gravity_vector[0])\n",
    "equation_4 = sp.lambdify(t, gravity_vector[1])\n",
    "\n",
    "fig = make_subplots(rows = 2, cols=2)\n",
    "fig.add_trace(go.Scatter(x=time,y=equation_1(time), name ='theta1'), row=1, col =1)\n",
    "fig.add_trace(go.Scatter(x=time,y=equation_2(time), name ='theta2'), row=1, col =2)\n",
    "fig.add_trace(go.Scatter(x=time,y=equation_3(time), name ='g1'), row=2, col =1)\n",
    "fig.add_trace(go.Scatter(x=time,y=equation_4(time), name ='g2'), row=2, col =2)\n",
    "fig"
   ]
  },
  {
   "cell_type": "code",
   "execution_count": null,
   "id": "a2d776e7-33fb-4013-b179-5a24285d7005",
   "metadata": {},
   "outputs": [],
   "source": []
  },
  {
   "cell_type": "markdown",
   "id": "53e527d6-f0cc-4ad2-9c30-9afb09ef8ca6",
   "metadata": {},
   "source": [
    "# 4.6"
   ]
  },
  {
   "cell_type": "code",
   "execution_count": null,
   "id": "2269fd98-4aeb-452c-80c1-637c808edeb5",
   "metadata": {},
   "outputs": [],
   "source": []
  }
 ],
 "metadata": {
  "kernelspec": {
   "display_name": "Python 3 (ipykernel)",
   "language": "python",
   "name": "python3"
  },
  "language_info": {
   "codemirror_mode": {
    "name": "ipython",
    "version": 3
   },
   "file_extension": ".py",
   "mimetype": "text/x-python",
   "name": "python",
   "nbconvert_exporter": "python",
   "pygments_lexer": "ipython3",
   "version": "3.12.5"
  }
 },
 "nbformat": 4,
 "nbformat_minor": 5
}
