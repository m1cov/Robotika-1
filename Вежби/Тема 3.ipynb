{
 "cells": [
  {
   "cell_type": "code",
   "execution_count": 5,
   "id": "9ca9c6e7-9137-498f-be91-2e8aaf989ac5",
   "metadata": {},
   "outputs": [],
   "source": [
    "import script as rt\n",
    "import sympy as sp"
   ]
  },
  {
   "cell_type": "markdown",
   "id": "8fe97e19-f9cd-47c0-88ef-bb5c572e162a",
   "metadata": {},
   "source": [
    "## 3.1"
   ]
  },
  {
   "cell_type": "code",
   "execution_count": 7,
   "id": "e5c06c49-86fe-4413-9541-3e1bf05dbc63",
   "metadata": {},
   "outputs": [
    {
     "data": {
      "text/latex": [
       "$\\displaystyle \\left[\\begin{matrix}0 & 0 & 1 & 2\\\\1 & 0 & 0 & 7\\\\0 & 1 & 0 & 5\\\\0 & 0 & 0 & 1\\end{matrix}\\right]$"
      ],
      "text/plain": [
       "Matrix([\n",
       "[0, 0, 1, 2],\n",
       "[1, 0, 0, 7],\n",
       "[0, 1, 0, 5],\n",
       "[0, 0, 0, 1]])"
      ]
     },
     "execution_count": 7,
     "metadata": {},
     "output_type": "execute_result"
    }
   ],
   "source": [
    "T = sp.Matrix([[0, 0, 1, 2], \n",
    "               [1, 0, 0, 7], \n",
    "               [0, 1, 0, 5], \n",
    "               [0, 0, 0, 1]])\n",
    "T"
   ]
  },
  {
   "cell_type": "code",
   "execution_count": 14,
   "id": "57c792f8-e9c3-4a5c-93a1-05cfb9a451f6",
   "metadata": {},
   "outputs": [
    {
     "data": {
      "text/latex": [
       "$\\displaystyle \\left[\\begin{matrix}0 & - \\delta_{z} & \\delta_{y} & dx\\\\\\delta_{z} & 0 & - \\delta_{x} & dy\\\\- \\delta_{y} & \\delta_{x} & 0 & dz\\\\0 & 0 & 0 & 0\\end{matrix}\\right]$"
      ],
      "text/plain": [
       "Matrix([\n",
       "[       0, -delta_z,  delta_y, dx],\n",
       "[ delta_z,        0, -delta_x, dy],\n",
       "[-delta_y,  delta_x,        0, dz],\n",
       "[       0,        0,        0,  0]])"
      ]
     },
     "execution_count": 14,
     "metadata": {},
     "output_type": "execute_result"
    }
   ],
   "source": [
    "dRx, dRy, dRz, dx, dy, dz = sp.symbols('delta_x, delta_y, delta_z, dx, dy, dz')\n",
    "rt.hdelta3(dRx, dRy, dRz, dx, dy, dz)"
   ]
  },
  {
   "cell_type": "code",
   "execution_count": 15,
   "id": "b62c09eb-1104-4520-bd83-a6bb1060c1ef",
   "metadata": {},
   "outputs": [
    {
     "data": {
      "text/latex": [
       "$\\displaystyle \\left[\\begin{matrix}0 & -0.15 & 0 & 0.1\\\\0.15 & 0 & 0 & 0.1\\\\0 & 0 & 0 & 0.3\\\\0 & 0 & 0 & 0\\end{matrix}\\right]$"
      ],
      "text/plain": [
       "Matrix([\n",
       "[   0, -0.15, 0, 0.1],\n",
       "[0.15,     0, 0, 0.1],\n",
       "[   0,     0, 0, 0.3],\n",
       "[   0,     0, 0,   0]])"
      ]
     },
     "execution_count": 15,
     "metadata": {},
     "output_type": "execute_result"
    }
   ],
   "source": [
    "delta = rt.hdelta3(dRz=0.15, dx=0.1, dy=0.1, dz=0.3)\n",
    "delta"
   ]
  },
  {
   "cell_type": "code",
   "execution_count": 17,
   "id": "5e05be4d-98a1-450d-9b41-0aa08e75c69b",
   "metadata": {},
   "outputs": [
    {
     "data": {
      "text/latex": [
       "$\\displaystyle \\left[\\begin{matrix}-0.15 & 0 & 1 & 1.05\\\\1 & 0 & 0.15 & 7.4\\\\0 & 1 & 0 & 5.3\\\\0 & 0 & 0 & 1\\end{matrix}\\right]$"
      ],
      "text/plain": [
       "Matrix([\n",
       "[-0.15, 0,    1, 1.05],\n",
       "[    1, 0, 0.15,  7.4],\n",
       "[    0, 1,    0,  5.3],\n",
       "[    0, 0,    0,    1]])"
      ]
     },
     "execution_count": 17,
     "metadata": {},
     "output_type": "execute_result"
    }
   ],
   "source": [
    "Tnew = T + delta * T\n",
    "Tnew"
   ]
  },
  {
   "cell_type": "code",
   "execution_count": null,
   "id": "984f8f94-056e-47e2-862b-0c12f7d93c60",
   "metadata": {},
   "outputs": [],
   "source": []
  }
 ],
 "metadata": {
  "kernelspec": {
   "display_name": "Python 3 (ipykernel)",
   "language": "python",
   "name": "python3"
  },
  "language_info": {
   "codemirror_mode": {
    "name": "ipython",
    "version": 3
   },
   "file_extension": ".py",
   "mimetype": "text/x-python",
   "name": "python",
   "nbconvert_exporter": "python",
   "pygments_lexer": "ipython3",
   "version": "3.13.2"
  }
 },
 "nbformat": 4,
 "nbformat_minor": 5
}
