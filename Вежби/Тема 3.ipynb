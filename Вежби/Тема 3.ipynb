{
 "cells": [
  {
   "cell_type": "code",
   "execution_count": 1,
   "id": "9ca9c6e7-9137-498f-be91-2e8aaf989ac5",
   "metadata": {},
   "outputs": [],
   "source": [
    "import script as rt\n",
    "import sympy as sp"
   ]
  },
  {
   "cell_type": "markdown",
   "id": "8fe97e19-f9cd-47c0-88ef-bb5c572e162a",
   "metadata": {
    "jp-MarkdownHeadingCollapsed": true
   },
   "source": [
    "## 3.1"
   ]
  },
  {
   "cell_type": "code",
   "execution_count": 7,
   "id": "e5c06c49-86fe-4413-9541-3e1bf05dbc63",
   "metadata": {},
   "outputs": [
    {
     "data": {
      "text/latex": [
       "$\\displaystyle \\left[\\begin{matrix}0 & 0 & 1 & 2\\\\1 & 0 & 0 & 7\\\\0 & 1 & 0 & 5\\\\0 & 0 & 0 & 1\\end{matrix}\\right]$"
      ],
      "text/plain": [
       "Matrix([\n",
       "[0, 0, 1, 2],\n",
       "[1, 0, 0, 7],\n",
       "[0, 1, 0, 5],\n",
       "[0, 0, 0, 1]])"
      ]
     },
     "execution_count": 7,
     "metadata": {},
     "output_type": "execute_result"
    }
   ],
   "source": [
    "T = sp.Matrix([[0, 0, 1, 2], \n",
    "               [1, 0, 0, 7], \n",
    "               [0, 1, 0, 5], \n",
    "               [0, 0, 0, 1]])\n",
    "T"
   ]
  },
  {
   "cell_type": "code",
   "execution_count": 14,
   "id": "57c792f8-e9c3-4a5c-93a1-05cfb9a451f6",
   "metadata": {},
   "outputs": [
    {
     "data": {
      "text/latex": [
       "$\\displaystyle \\left[\\begin{matrix}0 & - \\delta_{z} & \\delta_{y} & dx\\\\\\delta_{z} & 0 & - \\delta_{x} & dy\\\\- \\delta_{y} & \\delta_{x} & 0 & dz\\\\0 & 0 & 0 & 0\\end{matrix}\\right]$"
      ],
      "text/plain": [
       "Matrix([\n",
       "[       0, -delta_z,  delta_y, dx],\n",
       "[ delta_z,        0, -delta_x, dy],\n",
       "[-delta_y,  delta_x,        0, dz],\n",
       "[       0,        0,        0,  0]])"
      ]
     },
     "execution_count": 14,
     "metadata": {},
     "output_type": "execute_result"
    }
   ],
   "source": [
    "dRx, dRy, dRz, dx, dy, dz = sp.symbols('delta_x, delta_y, delta_z, dx, dy, dz')\n",
    "rt.hdelta3(dRx, dRy, dRz, dx, dy, dz)"
   ]
  },
  {
   "cell_type": "code",
   "execution_count": 15,
   "id": "b62c09eb-1104-4520-bd83-a6bb1060c1ef",
   "metadata": {},
   "outputs": [
    {
     "data": {
      "text/latex": [
       "$\\displaystyle \\left[\\begin{matrix}0 & -0.15 & 0 & 0.1\\\\0.15 & 0 & 0 & 0.1\\\\0 & 0 & 0 & 0.3\\\\0 & 0 & 0 & 0\\end{matrix}\\right]$"
      ],
      "text/plain": [
       "Matrix([\n",
       "[   0, -0.15, 0, 0.1],\n",
       "[0.15,     0, 0, 0.1],\n",
       "[   0,     0, 0, 0.3],\n",
       "[   0,     0, 0,   0]])"
      ]
     },
     "execution_count": 15,
     "metadata": {},
     "output_type": "execute_result"
    }
   ],
   "source": [
    "delta = rt.hdelta3(dRz=0.15, dx=0.1, dy=0.1, dz=0.3)\n",
    "delta"
   ]
  },
  {
   "cell_type": "code",
   "execution_count": 17,
   "id": "5e05be4d-98a1-450d-9b41-0aa08e75c69b",
   "metadata": {},
   "outputs": [
    {
     "data": {
      "text/latex": [
       "$\\displaystyle \\left[\\begin{matrix}-0.15 & 0 & 1 & 1.05\\\\1 & 0 & 0.15 & 7.4\\\\0 & 1 & 0 & 5.3\\\\0 & 0 & 0 & 1\\end{matrix}\\right]$"
      ],
      "text/plain": [
       "Matrix([\n",
       "[-0.15, 0,    1, 1.05],\n",
       "[    1, 0, 0.15,  7.4],\n",
       "[    0, 1,    0,  5.3],\n",
       "[    0, 0,    0,    1]])"
      ]
     },
     "execution_count": 17,
     "metadata": {},
     "output_type": "execute_result"
    }
   ],
   "source": [
    "Tnew = T + delta * T\n",
    "Tnew"
   ]
  },
  {
   "cell_type": "markdown",
   "id": "2eb129ad-6a3b-4113-a5c3-2ed540d43eb6",
   "metadata": {
    "jp-MarkdownHeadingCollapsed": true
   },
   "source": [
    "## 3.4"
   ]
  },
  {
   "cell_type": "code",
   "execution_count": 3,
   "id": "25a75e9b-9429-4b20-9311-4f2ff2b0e820",
   "metadata": {},
   "outputs": [
    {
     "data": {
      "text/latex": [
       "$\\displaystyle \\left[\\begin{matrix}0 & 0 & 1 & 10\\\\1 & 0 & 0 & 5\\\\0 & 1 & 0 & 0\\\\0 & 0 & 0 & 1\\end{matrix}\\right]$"
      ],
      "text/plain": [
       "Matrix([\n",
       "[0, 0, 1, 10],\n",
       "[1, 0, 0,  5],\n",
       "[0, 1, 0,  0],\n",
       "[0, 0, 0,  1]])"
      ]
     },
     "execution_count": 3,
     "metadata": {},
     "output_type": "execute_result"
    }
   ],
   "source": [
    "A = sp.Matrix([\n",
    "    [0, 0, 1, 10],\n",
    "    [1, 0, 0, 5],\n",
    "    [0, 1, 0, 0],\n",
    "    [0, 0, 0, 1],\n",
    "])\n",
    "A"
   ]
  },
  {
   "cell_type": "code",
   "execution_count": 8,
   "id": "971b554a-33be-404f-a4e2-9cb8fee9d5b0",
   "metadata": {},
   "outputs": [
    {
     "data": {
      "text/latex": [
       "$\\displaystyle \\left[\\begin{matrix}0 & 0 & 0.1 & 1\\\\0 & 0 & 0 & 0\\\\-0.1 & 0 & 0 & 0.5\\\\0 & 0 & 0 & 0\\end{matrix}\\right]$"
      ],
      "text/plain": [
       "Matrix([\n",
       "[   0, 0, 0.1,   1],\n",
       "[   0, 0,   0,   0],\n",
       "[-0.1, 0,   0, 0.5],\n",
       "[   0, 0,   0,   0]])"
      ]
     },
     "execution_count": 8,
     "metadata": {},
     "output_type": "execute_result"
    }
   ],
   "source": [
    "delta = rt.hdelta3(0, 0.1, 0, 1, 0, 0.5) # Diferencijalen operator vo odnos na referenten koordinaten sistem\n",
    "delta"
   ]
  },
  {
   "cell_type": "code",
   "execution_count": 9,
   "id": "6bbbbc0d-1f19-4a07-a183-60418420fa0f",
   "metadata": {},
   "outputs": [
    {
     "data": {
      "text/latex": [
       "$\\displaystyle \\left[\\begin{matrix}0 & 0 & 0 & 0\\\\0 & 0 & -0.1 & -0.5\\\\0 & 0.1 & 0 & 1\\\\0 & 0 & 0 & 0\\end{matrix}\\right]$"
      ],
      "text/plain": [
       "Matrix([\n",
       "[0,   0,    0,    0],\n",
       "[0,   0, -0.1, -0.5],\n",
       "[0, 0.1,    0,    1],\n",
       "[0,   0,    0,    0]])"
      ]
     },
     "execution_count": 9,
     "metadata": {},
     "output_type": "execute_result"
    }
   ],
   "source": [
    "A.inv() * delta * A # diferencijalen operator vo odnos na A"
   ]
  },
  {
   "cell_type": "markdown",
   "id": "d186f558-7bf8-47bb-866a-9f70423b202c",
   "metadata": {
    "jp-MarkdownHeadingCollapsed": true
   },
   "source": [
    "# 3.5"
   ]
  },
  {
   "cell_type": "code",
   "execution_count": 3,
   "id": "cd516033-f8c7-4631-b476-f765bc3537ce",
   "metadata": {},
   "outputs": [
    {
     "data": {
      "text/latex": [
       "$\\displaystyle \\left[\\begin{matrix}0 & 1 & 0 & 15\\\\1 & 0 & 0 & 5\\\\0 & 0 & -1 & 0\\\\0 & 0 & 0 & 1\\end{matrix}\\right]$"
      ],
      "text/plain": [
       "Matrix([\n",
       "[0, 1,  0, 15],\n",
       "[1, 0,  0,  5],\n",
       "[0, 0, -1,  0],\n",
       "[0, 0,  0,  1]])"
      ]
     },
     "execution_count": 3,
     "metadata": {},
     "output_type": "execute_result"
    }
   ],
   "source": [
    "T = sp.Matrix([\n",
    "    [0, 1, 0, 15],\n",
    "    [1, 0, 0, 5],\n",
    "    [0, 0, -1, 0],\n",
    "    [0, 0, 0, 1]])\n",
    "T"
   ]
  },
  {
   "cell_type": "code",
   "execution_count": 21,
   "id": "a8f78413-606a-4851-a89e-c76b8ad2c445",
   "metadata": {},
   "outputs": [
    {
     "data": {
      "text/latex": [
       "$\\displaystyle \\left[\\begin{matrix}8 & 0 & 0 & 0 & 0 & 0\\\\-3 & 0 & 1 & 0 & 0 & 0\\\\0 & 10 & 0 & 0 & 0 & 0\\\\0 & 1 & 0 & 0 & 1 & 0\\\\0 & 0 & 0 & 1 & 0 & 0\\\\-1 & 0 & 0 & 0 & 0 & 1\\end{matrix}\\right]$"
      ],
      "text/plain": [
       "Matrix([\n",
       "[ 8,  0, 0, 0, 0, 0],\n",
       "[-3,  0, 1, 0, 0, 0],\n",
       "[ 0, 10, 0, 0, 0, 0],\n",
       "[ 0,  1, 0, 0, 1, 0],\n",
       "[ 0,  0, 0, 1, 0, 0],\n",
       "[-1,  0, 0, 0, 0, 1]])"
      ]
     },
     "execution_count": 21,
     "metadata": {},
     "output_type": "execute_result"
    }
   ],
   "source": [
    "J = sp.Matrix([\n",
    "    [8, 0, 0, 0, 0, 0],\n",
    "    [-3, 0, 1, 0, 0, 0],\n",
    "    [0, 10, 0, 0, 0, 0],\n",
    "    [0, 1, 0, 0, 1, 0],\n",
    "    [0, 0, 0, 1, 0, 0],\n",
    "    [-1, 0, 0, 0, 0, 1]\n",
    "])\n",
    "J"
   ]
  },
  {
   "cell_type": "code",
   "execution_count": 22,
   "id": "aa72dc63-da73-4b0e-a006-9f3be8f11561",
   "metadata": {},
   "outputs": [
    {
     "data": {
      "text/latex": [
       "$\\displaystyle \\left[\\begin{matrix}0\\\\0.1\\\\-0.1\\\\0.2\\\\0.2\\\\0\\end{matrix}\\right]$"
      ],
      "text/plain": [
       "Matrix([\n",
       "[   0],\n",
       "[ 0.1],\n",
       "[-0.1],\n",
       "[ 0.2],\n",
       "[ 0.2],\n",
       "[   0]])"
      ]
     },
     "execution_count": 22,
     "metadata": {},
     "output_type": "execute_result"
    }
   ],
   "source": [
    "delta_joints = sp.Matrix([0, .1, -.1, .2, .2, 0]) # На зглобовите \n",
    "delta_joints"
   ]
  },
  {
   "cell_type": "code",
   "execution_count": 25,
   "id": "7a110493-5d07-4690-977b-511ffb756303",
   "metadata": {},
   "outputs": [
    {
     "data": {
      "text/latex": [
       "$\\displaystyle \\left[\\begin{matrix}0\\\\-0.1\\\\1.0\\\\0.3\\\\0.2\\\\0\\end{matrix}\\right]$"
      ],
      "text/plain": [
       "Matrix([\n",
       "[   0],\n",
       "[-0.1],\n",
       "[ 1.0],\n",
       "[ 0.3],\n",
       "[ 0.2],\n",
       "[   0]])"
      ]
     },
     "execution_count": 25,
     "metadata": {},
     "output_type": "execute_result"
    }
   ],
   "source": [
    "delta_end_effector = J * delta_joints\n",
    "delta_end_effector"
   ]
  },
  {
   "cell_type": "code",
   "execution_count": 27,
   "id": "e522e251-16b3-4248-865b-9441dc096870",
   "metadata": {},
   "outputs": [
    {
     "data": {
      "text/latex": [
       "$\\displaystyle \\left[\\begin{matrix}0 & 0 & 0.2 & 0\\\\0 & 0 & -0.3 & -0.1\\\\-0.2 & 0.3 & 0 & 1\\\\0 & 0 & 0 & 0\\end{matrix}\\right]$"
      ],
      "text/plain": [
       "Matrix([\n",
       "[   0,   0,  0.2,    0],\n",
       "[   0,   0, -0.3, -0.1],\n",
       "[-0.2, 0.3,    0,    1],\n",
       "[   0,   0,    0,    0]])"
      ]
     },
     "execution_count": 27,
     "metadata": {},
     "output_type": "execute_result"
    }
   ],
   "source": [
    "delta = rt.hdelta3(.3, .2, 0, 0 ,-.1, 1)\n",
    "delta"
   ]
  },
  {
   "cell_type": "code",
   "execution_count": 29,
   "id": "f0741954-7fd6-4173-b9ae-f25347fa444b",
   "metadata": {},
   "outputs": [
    {
     "data": {
      "text/latex": [
       "$\\displaystyle \\left[\\begin{matrix}0 & 1 & -0.2 & 15\\\\1 & 0 & 0.3 & 4.9\\\\0.3 & -0.2 & -1 & -0.5\\\\0 & 0 & 0 & 1\\end{matrix}\\right]$"
      ],
      "text/plain": [
       "Matrix([\n",
       "[  0,    1, -0.2,   15],\n",
       "[  1,    0,  0.3,  4.9],\n",
       "[0.3, -0.2,   -1, -0.5],\n",
       "[  0,    0,    0,    1]])"
      ]
     },
     "execution_count": 29,
     "metadata": {},
     "output_type": "execute_result"
    }
   ],
   "source": [
    "T_new = T + delta*T\n",
    "T_new"
   ]
  },
  {
   "cell_type": "markdown",
   "id": "27bb7d9b-5888-4c71-9c48-3e073e858c14",
   "metadata": {
    "jp-MarkdownHeadingCollapsed": true
   },
   "source": [
    "# 3.8"
   ]
  },
  {
   "cell_type": "code",
   "execution_count": 31,
   "id": "e13bead5-d882-4137-a5b2-d2b0cb364099",
   "metadata": {},
   "outputs": [
    {
     "data": {
      "text/latex": [
       "$\\displaystyle \\left[\\begin{matrix}\\cos{\\left(\\alpha \\right)} & - \\sin{\\left(\\alpha \\right)} & 0 & r \\cos{\\left(\\alpha \\right)}\\\\\\sin{\\left(\\alpha \\right)} & \\cos{\\left(\\alpha \\right)} & 0 & r \\sin{\\left(\\alpha \\right)}\\\\0 & 0 & 1 & l\\\\0 & 0 & 0 & 1\\end{matrix}\\right]$"
      ],
      "text/plain": [
       "Matrix([\n",
       "[cos(alpha), -sin(alpha), 0, r*cos(alpha)],\n",
       "[sin(alpha),  cos(alpha), 0, r*sin(alpha)],\n",
       "[         0,           0, 1,            l],\n",
       "[         0,           0, 0,            1]])"
      ]
     },
     "execution_count": 31,
     "metadata": {},
     "output_type": "execute_result"
    }
   ],
   "source": [
    "alpha, r, l = sp.symbols('alpha, r, l')\n",
    "\n",
    "T = rt.hrotation3('z', alpha) * rt.htranslation3(x=r,z=l)\n",
    "T"
   ]
  },
  {
   "cell_type": "code",
   "execution_count": 33,
   "id": "785407ce-1879-4dd1-97ea-072a1a9d7c79",
   "metadata": {},
   "outputs": [
    {
     "data": {
      "text/latex": [
       "$\\displaystyle \\left[\\begin{matrix}\\cos{\\left(\\alpha \\right)} & - r \\sin{\\left(\\alpha \\right)} & 0\\\\\\sin{\\left(\\alpha \\right)} & r \\cos{\\left(\\alpha \\right)} & 0\\\\0 & 0 & 1\\end{matrix}\\right]$"
      ],
      "text/plain": [
       "Matrix([\n",
       "[cos(alpha), -r*sin(alpha), 0],\n",
       "[sin(alpha),  r*cos(alpha), 0],\n",
       "[         0,             0, 1]])"
      ]
     },
     "execution_count": 33,
     "metadata": {},
     "output_type": "execute_result"
    }
   ],
   "source": [
    "position = T[:3, 3]\n",
    "linear_jacobian = position.jacobian([r, alpha, l])\n",
    "linear_jacobian"
   ]
  },
  {
   "cell_type": "markdown",
   "id": "a7bad5fa-f563-43ad-b709-0463ed9eebf5",
   "metadata": {
    "jp-MarkdownHeadingCollapsed": true
   },
   "source": [
    "# 3.9"
   ]
  },
  {
   "cell_type": "code",
   "execution_count": 4,
   "id": "2abb90ad-fea4-45a9-8aac-14044e571d30",
   "metadata": {},
   "outputs": [
    {
     "data": {
      "text/latex": [
       "$\\displaystyle \\left[\\begin{matrix}\\cos{\\left(\\beta \\right)} \\cos{\\left(\\gamma \\right)} & - \\sin{\\left(\\gamma \\right)} & \\sin{\\left(\\beta \\right)} \\cos{\\left(\\gamma \\right)} & r \\sin{\\left(\\beta \\right)} \\cos{\\left(\\gamma \\right)}\\\\\\sin{\\left(\\gamma \\right)} \\cos{\\left(\\beta \\right)} & \\cos{\\left(\\gamma \\right)} & \\sin{\\left(\\beta \\right)} \\sin{\\left(\\gamma \\right)} & r \\sin{\\left(\\beta \\right)} \\sin{\\left(\\gamma \\right)}\\\\- \\sin{\\left(\\beta \\right)} & 0 & \\cos{\\left(\\beta \\right)} & r \\cos{\\left(\\beta \\right)}\\\\0 & 0 & 0 & 1\\end{matrix}\\right]$"
      ],
      "text/plain": [
       "Matrix([\n",
       "[cos(beta)*cos(gamma), -sin(gamma), sin(beta)*cos(gamma), r*sin(beta)*cos(gamma)],\n",
       "[sin(gamma)*cos(beta),  cos(gamma), sin(beta)*sin(gamma), r*sin(beta)*sin(gamma)],\n",
       "[          -sin(beta),           0,            cos(beta),            r*cos(beta)],\n",
       "[                   0,           0,                    0,                      1]])"
      ]
     },
     "execution_count": 4,
     "metadata": {},
     "output_type": "execute_result"
    }
   ],
   "source": [
    "r, beta, gamma = sp.symbols('r, beta, gamma')\n",
    "\n",
    "T = rt.hrotation3('z', gamma) * rt.hrotation3('y', beta) * rt.htranslation3(z=r)\n",
    "T"
   ]
  },
  {
   "cell_type": "code",
   "execution_count": 5,
   "id": "c59d6fe0-f4a6-423a-9821-d7ba28a55b42",
   "metadata": {},
   "outputs": [
    {
     "data": {
      "text/latex": [
       "$\\displaystyle \\left[\\begin{matrix}\\sin{\\left(\\beta \\right)} \\cos{\\left(\\gamma \\right)} & r \\cos{\\left(\\beta \\right)} \\cos{\\left(\\gamma \\right)} & - r \\sin{\\left(\\beta \\right)} \\sin{\\left(\\gamma \\right)}\\\\\\sin{\\left(\\beta \\right)} \\sin{\\left(\\gamma \\right)} & r \\sin{\\left(\\gamma \\right)} \\cos{\\left(\\beta \\right)} & r \\sin{\\left(\\beta \\right)} \\cos{\\left(\\gamma \\right)}\\\\\\cos{\\left(\\beta \\right)} & - r \\sin{\\left(\\beta \\right)} & 0\\end{matrix}\\right]$"
      ],
      "text/plain": [
       "Matrix([\n",
       "[sin(beta)*cos(gamma), r*cos(beta)*cos(gamma), -r*sin(beta)*sin(gamma)],\n",
       "[sin(beta)*sin(gamma), r*sin(gamma)*cos(beta),  r*sin(beta)*cos(gamma)],\n",
       "[           cos(beta),           -r*sin(beta),                       0]])"
      ]
     },
     "execution_count": 5,
     "metadata": {},
     "output_type": "execute_result"
    }
   ],
   "source": [
    "position = T[:3, 3]\n",
    "linear_jacobian = position.jacobian([r, beta, gamma])\n",
    "linear_jacobian"
   ]
  },
  {
   "cell_type": "code",
   "execution_count": 6,
   "id": "b0991886-b609-4d66-b41d-918b1a65f9dd",
   "metadata": {},
   "outputs": [
    {
     "data": {
      "text/latex": [
       "$\\displaystyle r^{2} \\sin{\\left(\\beta \\right)}$"
      ],
      "text/plain": [
       "r**2*sin(beta)"
      ]
     },
     "execution_count": 6,
     "metadata": {},
     "output_type": "execute_result"
    }
   ],
   "source": [
    "det_J = sp.det(linear_jacobian).simplify()\n",
    "det_J"
   ]
  },
  {
   "cell_type": "code",
   "execution_count": 7,
   "id": "2832ca4c-6ef9-49c9-a4b7-16ce499d56c0",
   "metadata": {},
   "outputs": [
    {
     "data": {
      "text/latex": [
       "$\\displaystyle r^{2} \\sin{\\left(\\beta \\right)} = 0$"
      ],
      "text/plain": [
       "Eq(r**2*sin(beta), 0)"
      ]
     },
     "execution_count": 7,
     "metadata": {},
     "output_type": "execute_result"
    }
   ],
   "source": [
    "equation = sp.Eq(det_J, 0)\n",
    "equation"
   ]
  },
  {
   "cell_type": "code",
   "execution_count": 8,
   "id": "761d5766-0b8d-4cd8-9eac-c052d64cf429",
   "metadata": {},
   "outputs": [
    {
     "data": {
      "text/latex": [
       "$\\displaystyle \\left\\{2 n \\pi\\; \\middle|\\; n \\in \\mathbb{Z}\\right\\} \\cup \\left\\{2 n \\pi + \\pi\\; \\middle|\\; n \\in \\mathbb{Z}\\right\\}$"
      ],
      "text/plain": [
       "Union(ImageSet(Lambda(_n, 2*_n*pi), Integers), ImageSet(Lambda(_n, 2*_n*pi + pi), Integers))"
      ]
     },
     "execution_count": 8,
     "metadata": {},
     "output_type": "execute_result"
    }
   ],
   "source": [
    "solution = sp.solveset(det_J, beta)\n",
    "solution"
   ]
  },
  {
   "cell_type": "code",
   "execution_count": 9,
   "id": "fd03f739-8cfc-41d6-a7d1-cef34aded724",
   "metadata": {},
   "outputs": [
    {
     "data": {
      "text/latex": [
       "$\\displaystyle \\left(- \\pi, \\pi\\right]$"
      ],
      "text/plain": [
       "Interval.Lopen(-pi, pi)"
      ]
     },
     "execution_count": 9,
     "metadata": {},
     "output_type": "execute_result"
    }
   ],
   "source": [
    "interval = sp.Interval(-sp.pi, sp.pi, left_open = True)\n",
    "interval"
   ]
  },
  {
   "cell_type": "code",
   "execution_count": 10,
   "id": "6e6e1aeb-30a4-4b93-be4a-9f6c824acf6f",
   "metadata": {},
   "outputs": [
    {
     "data": {
      "text/latex": [
       "$\\displaystyle \\left\\{0, \\pi\\right\\}$"
      ],
      "text/plain": [
       "{0, pi}"
      ]
     },
     "execution_count": 10,
     "metadata": {},
     "output_type": "execute_result"
    }
   ],
   "source": [
    "solution = sp.solveset(det_J, beta, interval)\n",
    "solution"
   ]
  },
  {
   "cell_type": "code",
   "execution_count": 11,
   "id": "1ba261b5-07e9-4172-be4e-533fa97ed4bd",
   "metadata": {},
   "outputs": [
    {
     "data": {
      "application/vnd.jupyter.widget-view+json": {
       "model_id": "af4f16011a4b426e84744fd761c9afad",
       "version_major": 2,
       "version_minor": 0
      },
      "text/plain": [
       "VBox(children=(HBox(children=(ToggleButton(value=True, description='Исклучи цртање'), Button(description='Пром…"
      ]
     },
     "execution_count": 11,
     "metadata": {},
     "output_type": "execute_result"
    }
   ],
   "source": [
    "robot = rt.SerialLinkRobot()\n",
    "robot.add_revolute_joint(gamma, 0, 0, -sp.pi/2)\n",
    "robot.add_revolute_joint(beta, 0, 0, sp.pi/2)\n",
    "robot.add_prismatic_joint(0, r, 0, 0)\n",
    "robot.interact()"
   ]
  },
  {
   "cell_type": "code",
   "execution_count": 12,
   "id": "5e54b8f9-0494-44f5-86fd-e7679e0806f0",
   "metadata": {},
   "outputs": [
    {
     "data": {
      "text/latex": [
       "$\\displaystyle \\left[\\begin{matrix}\\cos{\\left(\\beta \\right)} \\cos{\\left(\\gamma \\right)} & - \\sin{\\left(\\gamma \\right)} & \\sin{\\left(\\beta \\right)} \\cos{\\left(\\gamma \\right)} & r \\sin{\\left(\\beta \\right)} \\cos{\\left(\\gamma \\right)}\\\\\\sin{\\left(\\gamma \\right)} \\cos{\\left(\\beta \\right)} & \\cos{\\left(\\gamma \\right)} & \\sin{\\left(\\beta \\right)} \\sin{\\left(\\gamma \\right)} & r \\sin{\\left(\\beta \\right)} \\sin{\\left(\\gamma \\right)}\\\\- \\sin{\\left(\\beta \\right)} & 0 & \\cos{\\left(\\beta \\right)} & r \\cos{\\left(\\beta \\right)}\\\\0 & 0 & 0 & 1\\end{matrix}\\right]$"
      ],
      "text/plain": [
       "Matrix([\n",
       "[cos(beta)*cos(gamma), -sin(gamma), sin(beta)*cos(gamma), r*sin(beta)*cos(gamma)],\n",
       "[sin(gamma)*cos(beta),  cos(gamma), sin(beta)*sin(gamma), r*sin(beta)*sin(gamma)],\n",
       "[          -sin(beta),           0,            cos(beta),            r*cos(beta)],\n",
       "[                   0,           0,                    0,                      1]])"
      ]
     },
     "execution_count": 12,
     "metadata": {},
     "output_type": "execute_result"
    }
   ],
   "source": [
    "robot.get_dh_matrix()"
   ]
  },
  {
   "cell_type": "code",
   "execution_count": 12,
   "id": "0f11b7e6-87d7-433b-a138-a41f95a547e5",
   "metadata": {},
   "outputs": [
    {
     "data": {
      "text/latex": [
       "$\\displaystyle \\left[\\begin{matrix}0 & 0 & 0 & 0\\\\0 & 0 & 0 & 0\\\\0 & 0 & 0 & 0\\\\0 & 0 & 0 & 0\\end{matrix}\\right]$"
      ],
      "text/plain": [
       "Matrix([\n",
       "[0, 0, 0, 0],\n",
       "[0, 0, 0, 0],\n",
       "[0, 0, 0, 0],\n",
       "[0, 0, 0, 0]])"
      ]
     },
     "execution_count": 12,
     "metadata": {},
     "output_type": "execute_result"
    }
   ],
   "source": [
    "robot.get_dh_matrix() - T # Ако е целото 0 значи дека двата модели се исти"
   ]
  },
  {
   "cell_type": "markdown",
   "id": "89c2af54-ed83-4874-bf57-28fe85400ec9",
   "metadata": {
    "jp-MarkdownHeadingCollapsed": true
   },
   "source": [
    "# 3.10"
   ]
  },
  {
   "cell_type": "code",
   "execution_count": 15,
   "id": "dc0fcc38-c680-493f-861c-9a2f6c20e5b1",
   "metadata": {},
   "outputs": [
    {
     "data": {
      "application/vnd.jupyter.widget-view+json": {
       "model_id": "0b115aed43014727adb11dd2fb20bed8",
       "version_major": 2,
       "version_minor": 0
      },
      "text/plain": [
       "VBox(children=(HBox(children=(ToggleButton(value=True, description='Исклучи цртање'), Button(description='Пром…"
      ]
     },
     "execution_count": 15,
     "metadata": {},
     "output_type": "execute_result"
    }
   ],
   "source": [
    "d1, d2, theta3, a3 = sp.symbols('d1, d2, theta3, a3')\n",
    "robot = rt.SerialLinkRobot()\n",
    "robot.add_prismatic_joint(0, d1, 0, -sp.pi/2)\n",
    "robot.add_prismatic_joint(0, d2, 0, sp.pi/2)\n",
    "robot.add_revolute_joint(theta3, 0, a3, 0)\n",
    "robot.add_subs([(a3, 1)])\n",
    "robot.interact()"
   ]
  },
  {
   "cell_type": "code",
   "execution_count": 16,
   "id": "c45612c8-84bf-47d6-825b-89e5a83c667c",
   "metadata": {},
   "outputs": [
    {
     "data": {
      "text/latex": [
       "$\\displaystyle \\left[\\begin{matrix}\\cos{\\left(\\theta_{3} \\right)} & - \\sin{\\left(\\theta_{3} \\right)} & 0 & a_{3} \\cos{\\left(\\theta_{3} \\right)}\\\\\\sin{\\left(\\theta_{3} \\right)} & \\cos{\\left(\\theta_{3} \\right)} & 0 & a_{3} \\sin{\\left(\\theta_{3} \\right)} + d_{2}\\\\0 & 0 & 1 & d_{1}\\\\0 & 0 & 0 & 1\\end{matrix}\\right]$"
      ],
      "text/plain": [
       "Matrix([\n",
       "[cos(theta3), -sin(theta3), 0,      a3*cos(theta3)],\n",
       "[sin(theta3),  cos(theta3), 0, a3*sin(theta3) + d2],\n",
       "[          0,            0, 1,                  d1],\n",
       "[          0,            0, 0,                   1]])"
      ]
     },
     "execution_count": 16,
     "metadata": {},
     "output_type": "execute_result"
    }
   ],
   "source": [
    "robot.get_dh_matrix()"
   ]
  },
  {
   "cell_type": "code",
   "execution_count": 17,
   "id": "56dcbc86-c7f8-4c55-b57c-4fb2c50b75ae",
   "metadata": {},
   "outputs": [
    {
     "data": {
      "text/latex": [
       "$\\displaystyle \\left[\\begin{matrix}0 & 0 & - a_{3} \\sin{\\left(\\theta_{3} \\right)}\\\\0 & 1 & a_{3} \\cos{\\left(\\theta_{3} \\right)}\\\\1 & 0 & 0\\end{matrix}\\right]$"
      ],
      "text/plain": [
       "Matrix([\n",
       "[0, 0, -a3*sin(theta3)],\n",
       "[0, 1,  a3*cos(theta3)],\n",
       "[1, 0,               0]])"
      ]
     },
     "execution_count": 17,
     "metadata": {},
     "output_type": "execute_result"
    }
   ],
   "source": [
    "robot.linear_jacobian() # јакобијан на линиски брзини"
   ]
  },
  {
   "cell_type": "code",
   "execution_count": 18,
   "id": "9735c306-7e8c-48b4-8768-9e0f0ba8bc25",
   "metadata": {},
   "outputs": [
    {
     "data": {
      "text/latex": [
       "$\\displaystyle \\left[\\begin{matrix}0 & 0 & 0\\\\0 & 0 & 0\\\\0 & 0 & 1\\end{matrix}\\right]$"
      ],
      "text/plain": [
       "Matrix([\n",
       "[0, 0, 0],\n",
       "[0, 0, 0],\n",
       "[0, 0, 1]])"
      ]
     },
     "execution_count": 18,
     "metadata": {},
     "output_type": "execute_result"
    }
   ],
   "source": [
    "robot.angular_jacobian() # јакобијан на аголни брзини"
   ]
  },
  {
   "cell_type": "code",
   "execution_count": 19,
   "id": "3bab67b3-e3e0-489d-90fa-8f60a86940f6",
   "metadata": {},
   "outputs": [
    {
     "data": {
      "text/latex": [
       "$\\displaystyle \\left[\\begin{matrix}0 & 0 & - a_{3} \\sin{\\left(\\theta_{3} \\right)}\\\\0 & 1 & a_{3} \\cos{\\left(\\theta_{3} \\right)}\\\\1 & 0 & 0\\\\0 & 0 & 0\\\\0 & 0 & 0\\\\0 & 0 & 1\\end{matrix}\\right]$"
      ],
      "text/plain": [
       "Matrix([\n",
       "[0, 0, -a3*sin(theta3)],\n",
       "[0, 1,  a3*cos(theta3)],\n",
       "[1, 0,               0],\n",
       "[0, 0,               0],\n",
       "[0, 0,               0],\n",
       "[0, 0,               1]])"
      ]
     },
     "execution_count": 19,
     "metadata": {},
     "output_type": "execute_result"
    }
   ],
   "source": [
    "robot.jacobian()"
   ]
  },
  {
   "cell_type": "markdown",
   "id": "3fd8dd27-70b9-45d4-9aa0-599985886531",
   "metadata": {
    "jp-MarkdownHeadingCollapsed": true
   },
   "source": [
    "# 3.12"
   ]
  },
  {
   "cell_type": "code",
   "execution_count": 22,
   "id": "a52702f2-712f-4f52-9c9e-043b87bd3ee7",
   "metadata": {},
   "outputs": [
    {
     "data": {
      "application/vnd.jupyter.widget-view+json": {
       "model_id": "f35ffa25fe38422fb2378708f9c73656",
       "version_major": 2,
       "version_minor": 0
      },
      "text/plain": [
       "VBox(children=(HBox(children=(ToggleButton(value=True, description='Исклучи цртање'), Button(description='Пром…"
      ]
     },
     "execution_count": 22,
     "metadata": {},
     "output_type": "execute_result"
    }
   ],
   "source": [
    "theta1, l1, theta2, l2 = sp.symbols('theta1,l1, theta2, l2')\n",
    "robot = rt.SerialLinkRobot()\n",
    "robot.add_revolute_joint(theta1, 0, l1, 0)\n",
    "robot.add_revolute_joint(theta2,0, l2, 0)\n",
    "robot.add_subs([(l1, 1), (l2, 1)])\n",
    "robot.interact()"
   ]
  },
  {
   "cell_type": "code",
   "execution_count": 28,
   "id": "4bc383ac-d0e5-4487-8190-25743f8e48ff",
   "metadata": {},
   "outputs": [
    {
     "data": {
      "text/latex": [
       "$\\displaystyle \\left[\\begin{matrix}- l_{1} \\sin{\\left(\\theta_{1} \\right)} - l_{2} \\sin{\\left(\\theta_{1} + \\theta_{2} \\right)} & - l_{2} \\sin{\\left(\\theta_{1} + \\theta_{2} \\right)}\\\\l_{1} \\cos{\\left(\\theta_{1} \\right)} + l_{2} \\cos{\\left(\\theta_{1} + \\theta_{2} \\right)} & l_{2} \\cos{\\left(\\theta_{1} + \\theta_{2} \\right)}\\\\0 & 0\\\\0 & 0\\\\0 & 0\\\\1 & 1\\end{matrix}\\right]$"
      ],
      "text/plain": [
       "Matrix([\n",
       "[-l1*sin(theta1) - l2*sin(theta1 + theta2), -l2*sin(theta1 + theta2)],\n",
       "[ l1*cos(theta1) + l2*cos(theta1 + theta2),  l2*cos(theta1 + theta2)],\n",
       "[                                        0,                        0],\n",
       "[                                        0,                        0],\n",
       "[                                        0,                        0],\n",
       "[                                        1,                        1]])"
      ]
     },
     "execution_count": 28,
     "metadata": {},
     "output_type": "execute_result"
    }
   ],
   "source": [
    "J = robot.jacobian()\n",
    "J"
   ]
  },
  {
   "cell_type": "code",
   "execution_count": 29,
   "id": "9c7843a4-e9dc-4882-9a45-0e998725f41d",
   "metadata": {},
   "outputs": [
    {
     "data": {
      "text/latex": [
       "$\\displaystyle \\left[\\begin{matrix}- l_{1} \\sin{\\left(\\theta_{1} \\right)} - l_{2} \\sin{\\left(\\theta_{1} + \\theta_{2} \\right)} & - l_{2} \\sin{\\left(\\theta_{1} + \\theta_{2} \\right)}\\\\l_{1} \\cos{\\left(\\theta_{1} \\right)} + l_{2} \\cos{\\left(\\theta_{1} + \\theta_{2} \\right)} & l_{2} \\cos{\\left(\\theta_{1} + \\theta_{2} \\right)}\\end{matrix}\\right]$"
      ],
      "text/plain": [
       "Matrix([\n",
       "[-l1*sin(theta1) - l2*sin(theta1 + theta2), -l2*sin(theta1 + theta2)],\n",
       "[ l1*cos(theta1) + l2*cos(theta1 + theta2),  l2*cos(theta1 + theta2)]])"
      ]
     },
     "execution_count": 29,
     "metadata": {},
     "output_type": "execute_result"
    }
   ],
   "source": [
    "Jv2 = J[:2, :]\n",
    "Jv2"
   ]
  },
  {
   "cell_type": "code",
   "execution_count": 30,
   "id": "c8db760f-be1d-4b2f-8112-69efce16ed4c",
   "metadata": {},
   "outputs": [
    {
     "data": {
      "text/latex": [
       "$\\displaystyle l_{1} l_{2} \\sin{\\left(\\theta_{2} \\right)}$"
      ],
      "text/plain": [
       "l1*l2*sin(theta2)"
      ]
     },
     "execution_count": 30,
     "metadata": {},
     "output_type": "execute_result"
    }
   ],
   "source": [
    "det_J = sp.det(Jv2).simplify()\n",
    "det_J"
   ]
  },
  {
   "cell_type": "markdown",
   "id": "3a490092-a905-41c3-9193-65c10ff7140c",
   "metadata": {
    "jp-MarkdownHeadingCollapsed": true
   },
   "source": [
    "# 3.13"
   ]
  },
  {
   "cell_type": "code",
   "execution_count": 3,
   "id": "5d064b2a-f121-4f65-9e9e-112a3783c128",
   "metadata": {},
   "outputs": [
    {
     "data": {
      "application/vnd.jupyter.widget-view+json": {
       "model_id": "5bd7f6b0e4e14411a7d1ff182210beba",
       "version_major": 2,
       "version_minor": 0
      },
      "text/plain": [
       "VBox(children=(HBox(children=(ToggleButton(value=True, description='Исклучи цртање'), Button(description='Пром…"
      ]
     },
     "execution_count": 3,
     "metadata": {},
     "output_type": "execute_result"
    }
   ],
   "source": [
    "d1, theta2, theta3, a1, a2, a3 = sp.symbols('d1, theta2, theta3, a1, a2, a3')\n",
    "robot = rt.SerialLinkRobot()\n",
    "robot.add_prismatic_joint(0, d1, 0, sp.pi/2)\n",
    "robot.add_revolute_joint(theta2, 0, a2, -sp.pi/2)\n",
    "robot.add_revolute_joint(theta3, 0, a3, 0)\n",
    "robot.add_subs([(a2, 1), (a3, 2)])\n",
    "robot.interact()"
   ]
  },
  {
   "cell_type": "code",
   "execution_count": 4,
   "id": "2666cf01-85ef-4ab3-9bd7-be21c25e257d",
   "metadata": {},
   "outputs": [
    {
     "data": {
      "text/latex": [
       "$\\displaystyle \\left[\\begin{matrix}0 & - \\left(a_{2} + a_{3} \\cos{\\left(\\theta_{3} \\right)}\\right) \\sin{\\left(\\theta_{2} \\right)} & - a_{3} \\sin{\\left(\\theta_{3} \\right)} \\cos{\\left(\\theta_{2} \\right)}\\\\0 & 0 & a_{3} \\cos{\\left(\\theta_{3} \\right)}\\\\1 & \\left(a_{2} + a_{3} \\cos{\\left(\\theta_{3} \\right)}\\right) \\cos{\\left(\\theta_{2} \\right)} & - a_{3} \\sin{\\left(\\theta_{2} \\right)} \\sin{\\left(\\theta_{3} \\right)}\\\\0 & 0 & - \\sin{\\left(\\theta_{2} \\right)}\\\\0 & -1 & 0\\\\0 & 0 & \\cos{\\left(\\theta_{2} \\right)}\\end{matrix}\\right]$"
      ],
      "text/plain": [
       "Matrix([\n",
       "[0, -(a2 + a3*cos(theta3))*sin(theta2), -a3*sin(theta3)*cos(theta2)],\n",
       "[0,                                  0,              a3*cos(theta3)],\n",
       "[1,  (a2 + a3*cos(theta3))*cos(theta2), -a3*sin(theta2)*sin(theta3)],\n",
       "[0,                                  0,                -sin(theta2)],\n",
       "[0,                                 -1,                           0],\n",
       "[0,                                  0,                 cos(theta2)]])"
      ]
     },
     "execution_count": 4,
     "metadata": {},
     "output_type": "execute_result"
    }
   ],
   "source": [
    "J = robot.jacobian()\n",
    "J"
   ]
  },
  {
   "cell_type": "code",
   "execution_count": 5,
   "id": "06b4e044-c6c5-4484-be6b-95628e398885",
   "metadata": {},
   "outputs": [
    {
     "data": {
      "text/latex": [
       "$\\displaystyle \\left[\\begin{matrix}0 & - \\left(a_{2} + a_{3} \\cos{\\left(\\theta_{3} \\right)}\\right) \\sin{\\left(\\theta_{2} \\right)} & - a_{3} \\sin{\\left(\\theta_{3} \\right)} \\cos{\\left(\\theta_{2} \\right)}\\\\0 & 0 & a_{3} \\cos{\\left(\\theta_{3} \\right)}\\\\1 & \\left(a_{2} + a_{3} \\cos{\\left(\\theta_{3} \\right)}\\right) \\cos{\\left(\\theta_{2} \\right)} & - a_{3} \\sin{\\left(\\theta_{2} \\right)} \\sin{\\left(\\theta_{3} \\right)}\\end{matrix}\\right]$"
      ],
      "text/plain": [
       "Matrix([\n",
       "[0, -(a2 + a3*cos(theta3))*sin(theta2), -a3*sin(theta3)*cos(theta2)],\n",
       "[0,                                  0,              a3*cos(theta3)],\n",
       "[1,  (a2 + a3*cos(theta3))*cos(theta2), -a3*sin(theta2)*sin(theta3)]])"
      ]
     },
     "execution_count": 5,
     "metadata": {},
     "output_type": "execute_result"
    }
   ],
   "source": [
    "Jv = robot.linear_jacobian()\n",
    "Jv"
   ]
  },
  {
   "cell_type": "code",
   "execution_count": 14,
   "id": "c97da551-1cb5-436c-ac4a-129d95c1296a",
   "metadata": {},
   "outputs": [
    {
     "data": {
      "text/latex": [
       "$\\displaystyle \\left[\\begin{matrix}0 & 0 & - a_{3} \\sin{\\left(\\theta_{3} \\right)} \\cos{\\left(\\theta_{2} \\right)}\\\\0 & 0 & a_{3} \\cos{\\left(\\theta_{3} \\right)}\\\\1 & 0 & - a_{3} \\sin{\\left(\\theta_{2} \\right)} \\sin{\\left(\\theta_{3} \\right)}\\end{matrix}\\right]$"
      ],
      "text/plain": [
       "Matrix([\n",
       "[0, 0, -a3*sin(theta3)*cos(theta2)],\n",
       "[0, 0,              a3*cos(theta3)],\n",
       "[1, 0, -a3*sin(theta2)*sin(theta3)]])"
      ]
     },
     "execution_count": 14,
     "metadata": {},
     "output_type": "execute_result"
    }
   ],
   "source": [
    "Jv.subs(a2+a3*sp.cos(theta3), 0)"
   ]
  },
  {
   "cell_type": "code",
   "execution_count": 15,
   "id": "864d8fdc-4c88-4d77-b6e4-82376369b760",
   "metadata": {},
   "outputs": [
    {
     "data": {
      "text/latex": [
       "$\\displaystyle - a_{3} \\left(a_{2} + a_{3} \\cos{\\left(\\theta_{3} \\right)}\\right) \\sin{\\left(\\theta_{2} \\right)} \\cos{\\left(\\theta_{3} \\right)}$"
      ],
      "text/plain": [
       "-a3*(a2 + a3*cos(theta3))*sin(theta2)*cos(theta3)"
      ]
     },
     "execution_count": 15,
     "metadata": {},
     "output_type": "execute_result"
    }
   ],
   "source": [
    "det_J = sp.det(Jv).simplify()\n",
    "det_J"
   ]
  },
  {
   "cell_type": "markdown",
   "id": "78601d1f-c543-4a78-ac08-756e413de23c",
   "metadata": {
    "jp-MarkdownHeadingCollapsed": true
   },
   "source": [
    "# 3.21"
   ]
  },
  {
   "cell_type": "code",
   "execution_count": 16,
   "id": "04d8c406-8e93-437f-99b2-a694ae772f1d",
   "metadata": {},
   "outputs": [
    {
     "data": {
      "application/vnd.jupyter.widget-view+json": {
       "model_id": "5ed5804c165e4462b54c78a6f9729d77",
       "version_major": 2,
       "version_minor": 0
      },
      "text/plain": [
       "VBox(children=(HBox(children=(ToggleButton(value=True, description='Исклучи цртање'), Button(description='Пром…"
      ]
     },
     "execution_count": 16,
     "metadata": {},
     "output_type": "execute_result"
    }
   ],
   "source": [
    "theta1, theta2, l1, l2 = sp.symbols('theta1, theta2, l1, l2')\n",
    "robot = rt.SerialLinkRobot()\n",
    "robot.add_revolute_joint(theta1, 0, l1, 0)\n",
    "robot.add_revolute_joint(theta2, 0, l2, 0)\n",
    "robot.add_subs([(l1, 1), (l2, 1)])\n",
    "robot.interact()"
   ]
  },
  {
   "cell_type": "code",
   "execution_count": 17,
   "id": "eedddf9a-bfc9-4e55-9aca-047efff7e4a0",
   "metadata": {},
   "outputs": [
    {
     "data": {
      "text/latex": [
       "$\\displaystyle \\left[\\begin{matrix}- l_{1} \\sin{\\left(\\theta_{1} \\right)} - l_{2} \\sin{\\left(\\theta_{1} + \\theta_{2} \\right)} & - l_{2} \\sin{\\left(\\theta_{1} + \\theta_{2} \\right)}\\\\l_{1} \\cos{\\left(\\theta_{1} \\right)} + l_{2} \\cos{\\left(\\theta_{1} + \\theta_{2} \\right)} & l_{2} \\cos{\\left(\\theta_{1} + \\theta_{2} \\right)}\\\\0 & 0\\end{matrix}\\right]$"
      ],
      "text/plain": [
       "Matrix([\n",
       "[-l1*sin(theta1) - l2*sin(theta1 + theta2), -l2*sin(theta1 + theta2)],\n",
       "[ l1*cos(theta1) + l2*cos(theta1 + theta2),  l2*cos(theta1 + theta2)],\n",
       "[                                        0,                        0]])"
      ]
     },
     "execution_count": 17,
     "metadata": {},
     "output_type": "execute_result"
    }
   ],
   "source": [
    "Jv = robot.linear_jacobian()\n",
    "Jv"
   ]
  },
  {
   "cell_type": "code",
   "execution_count": 18,
   "id": "d7512316-641e-47d1-8c19-eebba8cead56",
   "metadata": {},
   "outputs": [
    {
     "data": {
      "text/latex": [
       "$\\displaystyle \\left[\\begin{matrix}- l_{1} \\sin{\\left(\\theta_{1} \\right)} - l_{2} \\sin{\\left(\\theta_{1} + \\theta_{2} \\right)} & - l_{2} \\sin{\\left(\\theta_{1} + \\theta_{2} \\right)}\\\\l_{1} \\cos{\\left(\\theta_{1} \\right)} + l_{2} \\cos{\\left(\\theta_{1} + \\theta_{2} \\right)} & l_{2} \\cos{\\left(\\theta_{1} + \\theta_{2} \\right)}\\end{matrix}\\right]$"
      ],
      "text/plain": [
       "Matrix([\n",
       "[-l1*sin(theta1) - l2*sin(theta1 + theta2), -l2*sin(theta1 + theta2)],\n",
       "[ l1*cos(theta1) + l2*cos(theta1 + theta2),  l2*cos(theta1 + theta2)]])"
      ]
     },
     "execution_count": 18,
     "metadata": {},
     "output_type": "execute_result"
    }
   ],
   "source": [
    "Jv2 = Jv[:2, :]\n",
    "Jv2"
   ]
  },
  {
   "cell_type": "code",
   "execution_count": 20,
   "id": "923e4ccf-c428-424f-b3f3-407a2dc0e26b",
   "metadata": {},
   "outputs": [
    {
     "data": {
      "text/latex": [
       "$\\displaystyle \\left[\\begin{matrix}\\frac{\\cos{\\left(\\theta_{1} + \\theta_{2} \\right)}}{l_{1} \\sin{\\left(\\theta_{2} \\right)}} & \\frac{\\sin{\\left(\\theta_{1} + \\theta_{2} \\right)}}{l_{1} \\sin{\\left(\\theta_{2} \\right)}}\\\\- \\frac{l_{1} \\cos{\\left(\\theta_{1} \\right)} + l_{2} \\cos{\\left(\\theta_{1} + \\theta_{2} \\right)}}{l_{1} l_{2} \\sin{\\left(\\theta_{2} \\right)}} & - \\frac{l_{1} \\sin{\\left(\\theta_{1} \\right)} + l_{2} \\sin{\\left(\\theta_{1} + \\theta_{2} \\right)}}{l_{1} l_{2} \\sin{\\left(\\theta_{2} \\right)}}\\end{matrix}\\right]$"
      ],
      "text/plain": [
       "Matrix([\n",
       "[                          cos(theta1 + theta2)/(l1*sin(theta2)),                           sin(theta1 + theta2)/(l1*sin(theta2))],\n",
       "[-(l1*cos(theta1) + l2*cos(theta1 + theta2))/(l1*l2*sin(theta2)), -(l1*sin(theta1) + l2*sin(theta1 + theta2))/(l1*l2*sin(theta2))]])"
      ]
     },
     "execution_count": 20,
     "metadata": {},
     "output_type": "execute_result"
    }
   ],
   "source": [
    "Jv2_inv = Jv2.inv()\n",
    "Jv2_inv.simplify()\n",
    "Jv2_inv"
   ]
  },
  {
   "cell_type": "code",
   "execution_count": 24,
   "id": "485198a9-2619-4f19-83e5-670a5ee03067",
   "metadata": {},
   "outputs": [
    {
     "data": {
      "text/latex": [
       "$\\displaystyle l_{1} l_{2} \\sin{\\left(\\theta_{2} \\right)}$"
      ],
      "text/plain": [
       "l1*l2*sin(theta2)"
      ]
     },
     "execution_count": 24,
     "metadata": {},
     "output_type": "execute_result"
    }
   ],
   "source": [
    "det_Jv2 = sp.det(Jv2)\n",
    "det_Jv2 = sp.simplify(det_Jv2)\n",
    "det_Jv2"
   ]
  },
  {
   "cell_type": "code",
   "execution_count": 38,
   "id": "131c3955-f058-413d-a0da-9831f2db3715",
   "metadata": {},
   "outputs": [
    {
     "data": {
      "text/latex": [
       "$\\displaystyle \\left\\{0, \\pi\\right\\}$"
      ],
      "text/plain": [
       "{0, pi}"
      ]
     },
     "execution_count": 38,
     "metadata": {},
     "output_type": "execute_result"
    }
   ],
   "source": [
    "interval = sp.Interval(-sp.pi, sp.pi, left_open=True)\n",
    "solution = sp.solveset(det_Jv2, theta2, interval)\n",
    "solution"
   ]
  },
  {
   "cell_type": "code",
   "execution_count": 25,
   "id": "9e21cad9-7e85-4ee8-afc5-9765c978bb73",
   "metadata": {},
   "outputs": [
    {
     "data": {
      "text/latex": [
       "$\\displaystyle \\left[\\begin{matrix}l_{1} \\cos{\\left(\\theta_{1} \\right)} + l_{2} \\cos{\\left(\\theta_{1} + \\theta_{2} \\right)}\\\\l_{1} \\sin{\\left(\\theta_{1} \\right)} + l_{2} \\sin{\\left(\\theta_{1} + \\theta_{2} \\right)}\\\\0\\end{matrix}\\right]$"
      ],
      "text/plain": [
       "Matrix([\n",
       "[l1*cos(theta1) + l2*cos(theta1 + theta2)],\n",
       "[l1*sin(theta1) + l2*sin(theta1 + theta2)],\n",
       "[                                       0]])"
      ]
     },
     "execution_count": 25,
     "metadata": {},
     "output_type": "execute_result"
    }
   ],
   "source": [
    "position = robot.get_dh_matrix()[:3, 3]\n",
    "position"
   ]
  },
  {
   "cell_type": "code",
   "execution_count": 26,
   "id": "370c51b3-4c81-40c5-a8ff-4456b7e8f94e",
   "metadata": {},
   "outputs": [
    {
     "data": {
      "text/latex": [
       "$\\displaystyle \\left[\\begin{matrix}- l_{1} \\sin{\\left(\\theta_{1} \\right)} - l_{2} \\sin{\\left(\\theta_{1} + \\theta_{2} \\right)} & - l_{2} \\sin{\\left(\\theta_{1} + \\theta_{2} \\right)}\\\\l_{1} \\cos{\\left(\\theta_{1} \\right)} + l_{2} \\cos{\\left(\\theta_{1} + \\theta_{2} \\right)} & l_{2} \\cos{\\left(\\theta_{1} + \\theta_{2} \\right)}\\\\0 & 0\\end{matrix}\\right]$"
      ],
      "text/plain": [
       "Matrix([\n",
       "[-l1*sin(theta1) - l2*sin(theta1 + theta2), -l2*sin(theta1 + theta2)],\n",
       "[ l1*cos(theta1) + l2*cos(theta1 + theta2),  l2*cos(theta1 + theta2)],\n",
       "[                                        0,                        0]])"
      ]
     },
     "execution_count": 26,
     "metadata": {},
     "output_type": "execute_result"
    }
   ],
   "source": [
    "position.jacobian([theta1, theta2])"
   ]
  },
  {
   "cell_type": "code",
   "execution_count": 29,
   "id": "8cb861bc-359f-44d1-8869-fb2c92a9808a",
   "metadata": {},
   "outputs": [
    {
     "data": {
      "text/latex": [
       "$\\displaystyle \\left[\\begin{matrix}\\sqrt{l_{1}^{2} + 2 l_{1} l_{2} \\cos{\\left(\\theta_{2} \\right)} + l_{2}^{2}}\\\\\\theta_{1} + \\theta_{2}\\end{matrix}\\right]$"
      ],
      "text/plain": [
       "Matrix([\n",
       "[sqrt(l1**2 + 2*l1*l2*cos(theta2) + l2**2)],\n",
       "[                          theta1 + theta2]])"
      ]
     },
     "execution_count": 29,
     "metadata": {},
     "output_type": "execute_result"
    }
   ],
   "source": [
    "l = sp.sqrt(l1**2 + l2**2 + 2*l1*l2*sp.cos(theta2))\n",
    "theta = theta1 + theta2\n",
    "alternative_positon = sp.Matrix([l, theta])\n",
    "alternative_positon"
   ]
  },
  {
   "cell_type": "code",
   "execution_count": 31,
   "id": "cc4f27db-344d-4191-9896-b6ebc4c50fd5",
   "metadata": {},
   "outputs": [
    {
     "data": {
      "text/latex": [
       "$\\displaystyle \\left[\\begin{matrix}0 & - \\frac{l_{1} l_{2} \\sin{\\left(\\theta_{2} \\right)}}{\\sqrt{l_{1}^{2} + 2 l_{1} l_{2} \\cos{\\left(\\theta_{2} \\right)} + l_{2}^{2}}}\\\\1 & 1\\end{matrix}\\right]$"
      ],
      "text/plain": [
       "Matrix([\n",
       "[0, -l1*l2*sin(theta2)/sqrt(l1**2 + 2*l1*l2*cos(theta2) + l2**2)],\n",
       "[1,                                                            1]])"
      ]
     },
     "execution_count": 31,
     "metadata": {},
     "output_type": "execute_result"
    }
   ],
   "source": [
    "alternative_jacobian = alternative_positon.jacobian([theta1, theta2])\n",
    "alternative_jacobian = sp.simplify(alternative_jacobian)\n",
    "alternative_jacobian"
   ]
  },
  {
   "cell_type": "code",
   "execution_count": 32,
   "id": "5678c34e-3e1d-4938-a807-ab3aae0eb5f1",
   "metadata": {},
   "outputs": [
    {
     "data": {
      "text/latex": [
       "$\\displaystyle \\left[\\begin{matrix}\\frac{\\sqrt{l_{1}^{2} + 2 l_{1} l_{2} \\cos{\\left(\\theta_{2} \\right)} + l_{2}^{2}}}{l_{1} l_{2} \\sin{\\left(\\theta_{2} \\right)}} & 1\\\\- \\frac{\\sqrt{l_{1}^{2} + 2 l_{1} l_{2} \\cos{\\left(\\theta_{2} \\right)} + l_{2}^{2}}}{l_{1} l_{2} \\sin{\\left(\\theta_{2} \\right)}} & 0\\end{matrix}\\right]$"
      ],
      "text/plain": [
       "Matrix([\n",
       "[ sqrt(l1**2 + 2*l1*l2*cos(theta2) + l2**2)/(l1*l2*sin(theta2)), 1],\n",
       "[-sqrt(l1**2 + 2*l1*l2*cos(theta2) + l2**2)/(l1*l2*sin(theta2)), 0]])"
      ]
     },
     "execution_count": 32,
     "metadata": {},
     "output_type": "execute_result"
    }
   ],
   "source": [
    "alternative_jacobian_inv = alternative_jacobian.inv()\n",
    "alternative_jacobian_inv"
   ]
  },
  {
   "cell_type": "code",
   "execution_count": 33,
   "id": "9f2afa4b-31b4-4ec6-aba1-d4ae02742d7c",
   "metadata": {},
   "outputs": [
    {
     "data": {
      "text/latex": [
       "$\\displaystyle \\frac{l_{1} l_{2} \\sin{\\left(\\theta_{2} \\right)}}{\\sqrt{l_{1}^{2} + 2 l_{1} l_{2} \\cos{\\left(\\theta_{2} \\right)} + l_{2}^{2}}}$"
      ],
      "text/plain": [
       "l1*l2*sin(theta2)/sqrt(l1**2 + 2*l1*l2*cos(theta2) + l2**2)"
      ]
     },
     "execution_count": 33,
     "metadata": {},
     "output_type": "execute_result"
    }
   ],
   "source": [
    "det_alternative_jacobian = sp.det(alternative_jacobian)\n",
    "det_alternative_jacobian = sp.simplify(det_alternative_jacobian)\n",
    "det_alternative_jacobian"
   ]
  },
  {
   "cell_type": "code",
   "execution_count": 37,
   "id": "88874b7f-fad2-4fe1-bb5c-c891bbb9f208",
   "metadata": {},
   "outputs": [
    {
     "data": {
      "text/latex": [
       "$\\displaystyle \\left\\{\\pi\\right\\} \\cup \\left(\\left\\{0\\right\\} \\setminus \\left\\{\\theta_{2}\\; \\middle|\\; \\theta_{2} \\in \\left(\\left\\{0\\right\\} \\cap \\left\\{2 n \\pi + \\operatorname{acos}{\\left(\\frac{- l_{1}^{2} - l_{2}^{2}}{2 l_{1} l_{2}} \\right)}\\; \\middle|\\; n \\in \\left(- \\pi, \\pi\\right]\\right\\}\\right) \\cup \\left(\\left\\{0\\right\\} \\cap \\left\\{2 n \\pi - \\operatorname{acos}{\\left(\\frac{- l_{1}^{2} - l_{2}^{2}}{2 l_{1} l_{2}} \\right)}\\; \\middle|\\; n \\in \\left(- \\pi, \\pi\\right]\\right\\}\\right) \\wedge -1 \\leq \\frac{- l_{1}^{2} - l_{2}^{2}}{2 l_{1} l_{2}} \\wedge \\frac{- l_{1}^{2} - l_{2}^{2}}{2 l_{1} l_{2}} \\leq 1 \\right\\}\\right)$"
      ],
      "text/plain": [
       "Union(Complement({0}, ConditionSet(theta2, (-1 <= (-l1**2 - l2**2)/(2*l1*l2)) & ((-l1**2 - l2**2)/(2*l1*l2) <= 1), Union(Intersection({0}, ImageSet(Lambda(_n, 2*_n*pi - acos((-l1**2 - l2**2)/(2*l1*l2))), Interval.Lopen(-pi, pi))), Intersection({0}, ImageSet(Lambda(_n, 2*_n*pi + acos((-l1**2 - l2**2)/(2*l1*l2))), Interval.Lopen(-pi, pi)))))), {pi})"
      ]
     },
     "execution_count": 37,
     "metadata": {},
     "output_type": "execute_result"
    }
   ],
   "source": [
    "interval = sp.Interval(-sp.pi, sp.pi, left_open=True)\n",
    "solution = sp.solveset(det_alternative_jacobian, theta2, interval)\n",
    "solution"
   ]
  },
  {
   "cell_type": "markdown",
   "id": "ad445818-a5ec-4604-b4e9-e7cf6df2fbd3",
   "metadata": {
    "jp-MarkdownHeadingCollapsed": true
   },
   "source": [
    "# 3.22"
   ]
  },
  {
   "cell_type": "code",
   "execution_count": 44,
   "id": "fe544ddf-25ca-4248-95c4-00eb95a05c2d",
   "metadata": {},
   "outputs": [
    {
     "data": {
      "application/vnd.jupyter.widget-view+json": {
       "model_id": "4d04114f9b53435693eefd763ee46fc4",
       "version_major": 2,
       "version_minor": 0
      },
      "text/plain": [
       "VBox(children=(HBox(children=(ToggleButton(value=True, description='Исклучи цртање'), Button(description='Пром…"
      ]
     },
     "execution_count": 44,
     "metadata": {},
     "output_type": "execute_result"
    }
   ],
   "source": [
    "theta1, theta2, theta3, l1, l2, l3 = sp.symbols('theta1, theta2, theta3, l1, l2, l3')\n",
    "robot = rt.SerialLinkRobot()\n",
    "robot.add_revolute_joint(theta1, l1, 0, sp.pi/2)\n",
    "robot.add_revolute_joint(theta2, 0, l2, 0)\n",
    "robot.add_revolute_joint(theta3, 0, l3, 0)\n",
    "robot.add_subs([(l1, 1), (l2, 1), (l3, 1)])\n",
    "robot.interact()"
   ]
  },
  {
   "cell_type": "code",
   "execution_count": 45,
   "id": "7ceb325d-ac52-4e24-9c07-6ad89d752c45",
   "metadata": {},
   "outputs": [
    {
     "data": {
      "text/latex": [
       "$\\displaystyle \\left[\\begin{matrix}\\cos{\\left(\\theta_{1} \\right)} \\cos{\\left(\\theta_{2} + \\theta_{3} \\right)} & - \\sin{\\left(\\theta_{2} + \\theta_{3} \\right)} \\cos{\\left(\\theta_{1} \\right)} & \\sin{\\left(\\theta_{1} \\right)} & \\left(l_{2} \\cos{\\left(\\theta_{2} \\right)} + l_{3} \\cos{\\left(\\theta_{2} + \\theta_{3} \\right)}\\right) \\cos{\\left(\\theta_{1} \\right)}\\\\\\sin{\\left(\\theta_{1} \\right)} \\cos{\\left(\\theta_{2} + \\theta_{3} \\right)} & - \\sin{\\left(\\theta_{1} \\right)} \\sin{\\left(\\theta_{2} + \\theta_{3} \\right)} & - \\cos{\\left(\\theta_{1} \\right)} & \\left(l_{2} \\cos{\\left(\\theta_{2} \\right)} + l_{3} \\cos{\\left(\\theta_{2} + \\theta_{3} \\right)}\\right) \\sin{\\left(\\theta_{1} \\right)}\\\\\\sin{\\left(\\theta_{2} + \\theta_{3} \\right)} & \\cos{\\left(\\theta_{2} + \\theta_{3} \\right)} & 0 & l_{1} + l_{2} \\sin{\\left(\\theta_{2} \\right)} + l_{3} \\sin{\\left(\\theta_{2} + \\theta_{3} \\right)}\\\\0 & 0 & 0 & 1\\end{matrix}\\right]$"
      ],
      "text/plain": [
       "Matrix([\n",
       "[cos(theta1)*cos(theta2 + theta3), -sin(theta2 + theta3)*cos(theta1),  sin(theta1), (l2*cos(theta2) + l3*cos(theta2 + theta3))*cos(theta1)],\n",
       "[sin(theta1)*cos(theta2 + theta3), -sin(theta1)*sin(theta2 + theta3), -cos(theta1), (l2*cos(theta2) + l3*cos(theta2 + theta3))*sin(theta1)],\n",
       "[            sin(theta2 + theta3),              cos(theta2 + theta3),            0,          l1 + l2*sin(theta2) + l3*sin(theta2 + theta3)],\n",
       "[                               0,                                 0,            0,                                                      1]])"
      ]
     },
     "execution_count": 45,
     "metadata": {},
     "output_type": "execute_result"
    }
   ],
   "source": [
    "T03 = robot.get_dh_matrix()\n",
    "T03"
   ]
  },
  {
   "cell_type": "code",
   "execution_count": 48,
   "id": "41ac379b-7feb-4e24-a079-fe35f0a1a4b0",
   "metadata": {},
   "outputs": [
    {
     "data": {
      "text/latex": [
       "$\\displaystyle \\left[\\begin{matrix}- \\left(l_{2} \\cos{\\left(\\theta_{2} \\right)} + l_{3} \\cos{\\left(\\theta_{2} + \\theta_{3} \\right)}\\right) \\sin{\\left(\\theta_{1} \\right)} & - \\left(l_{2} \\sin{\\left(\\theta_{2} \\right)} + l_{3} \\sin{\\left(\\theta_{2} + \\theta_{3} \\right)}\\right) \\cos{\\left(\\theta_{1} \\right)} & - l_{3} \\sin{\\left(\\theta_{2} + \\theta_{3} \\right)} \\cos{\\left(\\theta_{1} \\right)}\\\\\\left(l_{2} \\cos{\\left(\\theta_{2} \\right)} + l_{3} \\cos{\\left(\\theta_{2} + \\theta_{3} \\right)}\\right) \\cos{\\left(\\theta_{1} \\right)} & - \\left(l_{2} \\sin{\\left(\\theta_{2} \\right)} + l_{3} \\sin{\\left(\\theta_{2} + \\theta_{3} \\right)}\\right) \\sin{\\left(\\theta_{1} \\right)} & - l_{3} \\sin{\\left(\\theta_{1} \\right)} \\sin{\\left(\\theta_{2} + \\theta_{3} \\right)}\\\\0 & l_{2} \\cos{\\left(\\theta_{2} \\right)} + l_{3} \\cos{\\left(\\theta_{2} + \\theta_{3} \\right)} & l_{3} \\cos{\\left(\\theta_{2} + \\theta_{3} \\right)}\\end{matrix}\\right]$"
      ],
      "text/plain": [
       "Matrix([\n",
       "[-(l2*cos(theta2) + l3*cos(theta2 + theta3))*sin(theta1), -(l2*sin(theta2) + l3*sin(theta2 + theta3))*cos(theta1), -l3*sin(theta2 + theta3)*cos(theta1)],\n",
       "[ (l2*cos(theta2) + l3*cos(theta2 + theta3))*cos(theta1), -(l2*sin(theta2) + l3*sin(theta2 + theta3))*sin(theta1), -l3*sin(theta1)*sin(theta2 + theta3)],\n",
       "[                                                      0,                l2*cos(theta2) + l3*cos(theta2 + theta3),              l3*cos(theta2 + theta3)]])"
      ]
     },
     "execution_count": 48,
     "metadata": {},
     "output_type": "execute_result"
    }
   ],
   "source": [
    "Jv = robot.linear_jacobian() # Јакобијан во однос на координатен почеток\n",
    "Jv"
   ]
  },
  {
   "cell_type": "code",
   "execution_count": 58,
   "id": "ea62dd37-b0c1-4c25-a9af-a323d6690858",
   "metadata": {},
   "outputs": [
    {
     "data": {
      "text/latex": [
       "$\\displaystyle \\left[\\begin{matrix}\\cos{\\left(\\theta_{1} \\right)} \\cos{\\left(\\theta_{2} \\right)} & - \\sin{\\left(\\theta_{2} \\right)} \\cos{\\left(\\theta_{1} \\right)} & \\sin{\\left(\\theta_{1} \\right)}\\\\\\sin{\\left(\\theta_{1} \\right)} \\cos{\\left(\\theta_{2} \\right)} & - \\sin{\\left(\\theta_{1} \\right)} \\sin{\\left(\\theta_{2} \\right)} & - \\cos{\\left(\\theta_{1} \\right)}\\\\\\sin{\\left(\\theta_{2} \\right)} & \\cos{\\left(\\theta_{2} \\right)} & 0\\end{matrix}\\right]$"
      ],
      "text/plain": [
       "Matrix([\n",
       "[cos(theta1)*cos(theta2), -sin(theta2)*cos(theta1),  sin(theta1)],\n",
       "[sin(theta1)*cos(theta2), -sin(theta1)*sin(theta2), -cos(theta1)],\n",
       "[            sin(theta2),              cos(theta2),            0]])"
      ]
     },
     "execution_count": 58,
     "metadata": {},
     "output_type": "execute_result"
    }
   ],
   "source": [
    "R02 = robot.get_dh_joint_to_joint(0, 2)[:3, :3]\n",
    "R02"
   ]
  },
  {
   "cell_type": "code",
   "execution_count": 59,
   "id": "55c55dd2-b884-4844-ad5a-a3917db33c47",
   "metadata": {},
   "outputs": [
    {
     "data": {
      "text/latex": [
       "$\\displaystyle \\left[\\begin{matrix}0 & - l_{3} \\sin{\\left(\\theta_{3} \\right)} & - l_{3} \\sin{\\left(\\theta_{3} \\right)}\\\\0 & l_{2} + l_{3} \\cos{\\left(\\theta_{3} \\right)} & l_{3} \\cos{\\left(\\theta_{3} \\right)}\\\\- l_{2} \\cos{\\left(\\theta_{2} \\right)} - l_{3} \\cos{\\left(\\theta_{2} + \\theta_{3} \\right)} & 0 & 0\\end{matrix}\\right]$"
      ],
      "text/plain": [
       "Matrix([\n",
       "[                                        0,     -l3*sin(theta3), -l3*sin(theta3)],\n",
       "[                                        0, l2 + l3*cos(theta3),  l3*cos(theta3)],\n",
       "[-l2*cos(theta2) - l3*cos(theta2 + theta3),                   0,               0]])"
      ]
     },
     "execution_count": 59,
     "metadata": {},
     "output_type": "execute_result"
    }
   ],
   "source": [
    "Jv_wrt_2 = R02.inv() * Jv\n",
    "Jv_wrt_2.simplify()\n",
    "Jv_wrt_2"
   ]
  },
  {
   "cell_type": "code",
   "execution_count": 60,
   "id": "299d5928-ebd3-40dd-a087-a25a9285f24e",
   "metadata": {},
   "outputs": [
    {
     "data": {
      "text/latex": [
       "$\\displaystyle - l_{2} l_{3} \\left(l_{2} \\cos{\\left(\\theta_{2} \\right)} + l_{3} \\cos{\\left(\\theta_{2} + \\theta_{3} \\right)}\\right) \\sin{\\left(\\theta_{3} \\right)}$"
      ],
      "text/plain": [
       "-l2*l3*(l2*cos(theta2) + l3*cos(theta2 + theta3))*sin(theta3)"
      ]
     },
     "execution_count": 60,
     "metadata": {},
     "output_type": "execute_result"
    }
   ],
   "source": [
    "det_Jv_wrt_2 = sp.det(Jv_wrt_2)\n",
    "det_Jv_wrt_2 = det_Jv_wrt_2.simplify()\n",
    "det_Jv_wrt_2"
   ]
  },
  {
   "cell_type": "code",
   "execution_count": 61,
   "id": "5040aa21-03df-476e-829a-f05c6c78cca2",
   "metadata": {},
   "outputs": [
    {
     "data": {
      "text/latex": [
       "$\\displaystyle \\left\\{\\theta_{2}\\; \\middle|\\; \\theta_{2} \\in \\mathbb{R} \\wedge l_{2} \\cos{\\left(\\theta_{2} \\right)} + l_{3} \\cos{\\left(\\theta_{2} + \\theta_{3} \\right)} = 0 \\right\\}$"
      ],
      "text/plain": [
       "ConditionSet(theta2, Eq(l2*cos(theta2) + l3*cos(theta2 + theta3), 0), Reals)"
      ]
     },
     "execution_count": 61,
     "metadata": {},
     "output_type": "execute_result"
    }
   ],
   "source": [
    "interval = sp.Interval(-sp.pi, sp.pi, left_open=True)\n",
    "solution = sp.solveset(det_Jv_wrt_2, theta2, interval)\n",
    "solution"
   ]
  },
  {
   "cell_type": "code",
   "execution_count": 62,
   "id": "de22d98a-3268-47ad-86b9-53fbbfa0bf83",
   "metadata": {},
   "outputs": [
    {
     "data": {
      "text/latex": [
       "$\\displaystyle \\left\\{0, \\pi\\right\\} \\cup \\left\\{\\theta_{3}\\; \\middle|\\; \\theta_{3} \\in \\left(\\left\\{0\\right\\} \\cap \\left\\{2 n \\pi - \\theta_{2} + \\operatorname{acos}{\\left(- \\frac{l_{2} \\cos{\\left(\\theta_{2} \\right)}}{l_{3}} \\right)}\\; \\middle|\\; n \\in \\left(- \\pi, \\pi\\right]\\right\\}\\right) \\cup \\left(\\left\\{0\\right\\} \\cap \\left\\{2 n \\pi - \\theta_{2} - \\operatorname{acos}{\\left(- \\frac{l_{2} \\cos{\\left(\\theta_{2} \\right)}}{l_{3}} \\right)}\\; \\middle|\\; n \\in \\left(- \\pi, \\pi\\right]\\right\\}\\right) \\wedge -1 \\leq - \\frac{l_{2} \\cos{\\left(\\theta_{2} \\right)}}{l_{3}} \\wedge - \\frac{l_{2} \\cos{\\left(\\theta_{2} \\right)}}{l_{3}} \\leq 1 \\right\\}$"
      ],
      "text/plain": [
       "Union(ConditionSet(theta3, (-1 <= -l2*cos(theta2)/l3) & (-l2*cos(theta2)/l3 <= 1), Union(Intersection({0}, ImageSet(Lambda(_n, 2*_n*pi - theta2 - acos(-l2*cos(theta2)/l3)), Interval.Lopen(-pi, pi))), Intersection({0}, ImageSet(Lambda(_n, 2*_n*pi - theta2 + acos(-l2*cos(theta2)/l3)), Interval.Lopen(-pi, pi))))), {0, pi})"
      ]
     },
     "execution_count": 62,
     "metadata": {},
     "output_type": "execute_result"
    }
   ],
   "source": [
    "interval = sp.Interval(-sp.pi, sp.pi, left_open=True)\n",
    "solution = sp.solveset(det_Jv_wrt_2, theta3, interval)\n",
    "solution"
   ]
  },
  {
   "cell_type": "code",
   "execution_count": null,
   "id": "580fbd95-e7c7-4ce0-84fe-6bf0f48d014d",
   "metadata": {},
   "outputs": [],
   "source": []
  },
  {
   "cell_type": "code",
   "execution_count": null,
   "id": "d6b64ce2-c41d-4e4e-9ab9-2eb98c204224",
   "metadata": {},
   "outputs": [],
   "source": []
  }
 ],
 "metadata": {
  "kernelspec": {
   "display_name": "Python 3 (ipykernel)",
   "language": "python",
   "name": "python3"
  },
  "language_info": {
   "codemirror_mode": {
    "name": "ipython",
    "version": 3
   },
   "file_extension": ".py",
   "mimetype": "text/x-python",
   "name": "python",
   "nbconvert_exporter": "python",
   "pygments_lexer": "ipython3",
   "version": "3.12.5"
  }
 },
 "nbformat": 4,
 "nbformat_minor": 5
}
