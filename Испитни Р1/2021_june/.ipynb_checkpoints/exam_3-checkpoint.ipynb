{
 "cells": [
  {
   "cell_type": "markdown",
   "metadata": {},
   "source": [
    "# Испит по Роботика 1\n",
    "\n",
    "Датум: 25.06.2021"
   ]
  },
  {
   "cell_type": "markdown",
   "metadata": {},
   "source": [
    "## Задача 3"
   ]
  },
  {
   "cell_type": "markdown",
   "metadata": {},
   "source": [
    "**(25 поени)** Дадена е подвижната роботска рака од типот RRRR, која е опишана со следната трансформациска матрица:\n",
    "\n",
    "$$ {}^0\\bf{T}_4 = \\begin{bmatrix}\n",
    "c_{12}c_{34} - \\frac{1}{\\sqrt 2}s_{12}s_{34} & -c_{12}s_{34} - \\frac{1}{\\sqrt 2}s_{12}c_{34} & \\frac{1}{\\sqrt 2}s_{12} & \\sqrt{2}c_{12}c_3 - s{12}(s_3-1) + c_1 \\\\\n",
    "s_{12}c_{34} + \\frac{1}{\\sqrt 2}c_{12}s_{34} & -s_{12}s_{34} + \\frac{1}{\\sqrt 2}c_{12}c_{34} & \\frac{1}{\\sqrt 2}c_{12} & \\sqrt{2}s_{12}c_3 + c{12}(s_3-1) + s_1 \\\\\n",
    "\\frac{1}{\\sqrt 2}S_{34} & \\frac{1}{\\sqrt 2}c_{34} & \\frac{1}{\\sqrt 2} & s_3 + 1 \\\\\n",
    "0 & 0 & 0 & 1\n",
    "\\end{bmatrix} $$\n",
    "\n",
    "и Јакобијанот:\n",
    "\n",
    "$$ {}^0\\bf{J}_\\omega = \\begin{bmatrix}\n",
    "0 & 0 & \\frac{1}{\\sqrt 2} & \\frac{1}{\\sqrt 2} \\\\\n",
    "0 & 0 & 0 & 0 \\\\\n",
    "1 & 1 & \\frac{1}{\\sqrt 2} & \\frac{1}{\\sqrt 2}\n",
    "\\end{bmatrix} $$\n",
    "\n",
    "кој ја одредува врската помеѓу ротационата брзина на извршниот елемент и брзините на зглобовите на дадената роботска рака.\n",
    "\n",
    "а) Да се определи Јакобијанот кој ја дефинира врската помеѓу линеарната брзина на извршниот елемент од раката и брзината на зглобовите на раката за\n",
    "$$ \\begin{bmatrix} \\theta_1 & \\theta_2 & \\theta_3 & \\theta_4 \\end{bmatrix}^\\top = \\begin{bmatrix} 0 & 90° & -90° & 0 \\end{bmatrix}^\\top $$.\n",
    "\n",
    "б) Да се определи општиот Јакобијан за дадената роботска рака во однос на референтниот координатен систем, кој ја дефинира врската помеѓу линеарната и ротационата брзина на извршниот елемент од раката и брзината на зглобовите на раката за дадените вредности на променливите на зглобовите под а).\n",
    "\n",
    "в) Да се определат вртливите моменти во зглобовите на роботската рака, ако врз координатниот почеток од координатниот систем $\\{4\\}$ , придружен со извршниот елемент од раката, дејствува следниот вектор на сили: ${}^4 F = \\begin{bmatrix} 0 & 6 & 0 & 7 & 0 & 8 \\end{bmatrix}^\\top$."
   ]
  },
  {
   "cell_type": "markdown",
   "metadata": {},
   "source": [
    "## Решение"
   ]
  },
  {
   "cell_type": "code",
   "execution_count": null,
   "metadata": {},
   "outputs": [],
   "source": []
  },
  {
   "cell_type": "code",
   "execution_count": null,
   "metadata": {},
   "outputs": [],
   "source": []
  },
  {
   "cell_type": "code",
   "execution_count": null,
   "metadata": {},
   "outputs": [],
   "source": []
  }
 ],
 "metadata": {
  "kernelspec": {
   "display_name": "Python 3",
   "language": "python",
   "name": "python3"
  },
  "language_info": {
   "codemirror_mode": {
    "name": "ipython",
    "version": 3
   },
   "file_extension": ".py",
   "mimetype": "text/x-python",
   "name": "python",
   "nbconvert_exporter": "python",
   "pygments_lexer": "ipython3",
   "version": "3.9.5"
  }
 },
 "nbformat": 4,
 "nbformat_minor": 4
}
