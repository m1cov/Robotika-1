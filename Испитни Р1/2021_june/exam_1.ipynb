{
 "cells": [
  {
   "cell_type": "markdown",
   "metadata": {},
   "source": [
    "# Испит по Роботика 1\n",
    "\n",
    "Датум: 25.06.2021"
   ]
  },
  {
   "cell_type": "markdown",
   "metadata": {},
   "source": [
    "## Задача 1"
   ]
  },
  {
   "cell_type": "markdown",
   "metadata": {},
   "source": [
    "**(25 поени)** Нека точката $\\bf p$ e придружена со подвижен координатен систем $\\bf{F}$ $(n_0, o_0, a_0)$ кој во почетокот се поклопува со референтниот координатен систем\n",
    "$\\bf{U}$ $(x, y, z)$. Подвижниот координатен систем $\\bf{F}$ $(n_0, o_0, a_0)$ ги извршува следните последователни трансформации:\n",
    "- Ротација околу оската $y$ на фиксниот координатен систем за агол $\\pi / 2$.\n",
    "- Транслација долж оската $z$ на подвижниот координатен систем за 3 единици.\n",
    "- Транслација долж оската $x$ на фиксниот координатен систем за 5 единици.\n",
    "\n",
    "Новите координати на координатниот $\\bf{F}$ $(n_0, o_0, a_0) =$ $\\bf{F_0}$ по првата трансформација се $\\bf{F}$ $(n_1, o_1, a_1) =$ $\\bf{F_1}$, по втората се $\\bf{F}$ $(n_2, o_2, a_2) =$ $\\bf{F_2}$ и по третата се $\\bf{F}$ $(n_3, o_3, a_3) =$ $\\bf{F_3}$. Нека точката $\\bf p$ има координати ${}^2 \\bf{p}_2$ $= \\begin{bmatrix} 1 & 2 & -1 \\end{bmatrix}^\\top $ во однос на координатниот систем $\\bf F_2$. Да се определат нејзините координати ${}^0 \\bf{p}_2$ во однос на референтниот координатен систем по извршените трансформации на подвижниот координатен систем кон кој е придружена точката, опишани со трансформациската матрица ${}^0 \\bf{T}_2$. Потоа да се определат координатите ${}^3 \\bf{p}_2$ на точката $\\bf{p}$ во однос на координатниот систем $\\bf{F}_3$."
   ]
  },
  {
   "cell_type": "markdown",
   "metadata": {},
   "source": [
    "## Решение"
   ]
  },
  {
   "cell_type": "code",
   "execution_count": null,
   "metadata": {},
   "outputs": [],
   "source": []
  },
  {
   "cell_type": "code",
   "execution_count": null,
   "metadata": {},
   "outputs": [],
   "source": []
  },
  {
   "cell_type": "code",
   "execution_count": null,
   "metadata": {},
   "outputs": [],
   "source": []
  }
 ],
 "metadata": {
  "kernelspec": {
   "display_name": "Python 3 (ipykernel)",
   "language": "python",
   "name": "python3"
  },
  "language_info": {
   "codemirror_mode": {
    "name": "ipython",
    "version": 3
   },
   "file_extension": ".py",
   "mimetype": "text/x-python",
   "name": "python",
   "nbconvert_exporter": "python",
   "pygments_lexer": "ipython3",
   "version": "3.13.2"
  }
 },
 "nbformat": 4,
 "nbformat_minor": 4
}
