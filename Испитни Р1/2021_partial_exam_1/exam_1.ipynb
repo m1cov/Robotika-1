{
 "cells": [
  {
   "cell_type": "markdown",
   "metadata": {},
   "source": [
    "# Прв парцијален испит по Роботика 1\n",
    "\n",
    "Датум: 14.04.2021"
   ]
  },
  {
   "cell_type": "markdown",
   "metadata": {},
   "source": [
    "## Задача 1"
   ]
  },
  {
   "cell_type": "markdown",
   "metadata": {},
   "source": [
    "**(25 поени)** Дадена е саканата положба на извршниот елемент на една цилиндрична роботска рака:"
   ]
  },
  {
   "cell_type": "code",
   "execution_count": 3,
   "metadata": {},
   "outputs": [],
   "source": [
    "import sympy as sp"
   ]
  },
  {
   "cell_type": "code",
   "execution_count": 4,
   "metadata": {},
   "outputs": [
    {
     "data": {
      "text/latex": [
       "$\\displaystyle \\left[\\begin{matrix}0.233 & 0.255 & 0.939 & 4.24\\\\0.113 & 0.951 & -0.287 & 2.65\\\\-0.966 & 0.173 & 0.192 & 6\\\\0 & 0 & 0 & 1\\end{matrix}\\right]$"
      ],
      "text/plain": [
       "Matrix([\n",
       "[ 0.233, 0.255,  0.939, 4.24],\n",
       "[ 0.113, 0.951, -0.287, 2.65],\n",
       "[-0.966, 0.173,  0.192,    6],\n",
       "[     0,     0,      0,    1]])"
      ]
     },
     "execution_count": 4,
     "metadata": {},
     "output_type": "execute_result"
    }
   ],
   "source": [
    "T = sp.Matrix([\n",
    "    [0.233, 0.255, 0.939, 4.24],\n",
    "    [0.113, 0.951, -0.287, 2.65],\n",
    "    [-0.966, 0.173, 0.192, 6],\n",
    "    [0, 0, 0, 1],\n",
    "])\n",
    "T"
   ]
  },
  {
   "cell_type": "markdown",
   "metadata": {},
   "source": [
    "Ориентацијата на извршниот елемент е претставена со ојлеровите ZXY агли: $\\theta_1$, $\\theta_2$ и $\\theta_3$. Притоа $\\theta_1$ претставува агол на ротација околу z-оската, $\\theta_2$ претставува агол на ротација околу x−оската и $\\theta_3$ претставува агол на ротација околу y−оската на подвижниот координатен систем. Да се пресметаат вредностите на променливите на зглобовите од роботската рака, со помош на кои ќе се оствари нејзината сакана положба во просторот. Што ќе се случи ако $\\cos \\theta_2 = 0$?"
   ]
  },
  {
   "cell_type": "markdown",
   "metadata": {},
   "source": [
    "## Решение"
   ]
  },
  {
   "cell_type": "code",
   "execution_count": 20,
   "metadata": {},
   "outputs": [
    {
     "data": {
      "text/latex": [
       "$\\displaystyle \\left[\\begin{matrix}0.233 & 0.255 & 0.939\\\\0.113 & 0.951 & -0.287\\\\-0.966 & 0.173 & 0.192\\end{matrix}\\right]$"
      ],
      "text/plain": [
       "Matrix([\n",
       "[ 0.233, 0.255,  0.939],\n",
       "[ 0.113, 0.951, -0.287],\n",
       "[-0.966, 0.173,  0.192]])"
      ]
     },
     "execution_count": 20,
     "metadata": {},
     "output_type": "execute_result"
    }
   ],
   "source": [
    "R = T[:3, :3]\n",
    "R"
   ]
  },
  {
   "cell_type": "code",
   "execution_count": 22,
   "metadata": {},
   "outputs": [],
   "source": [
    "theta2 = sp.asin(R[0, 2])  # theta2 = arcsin(r13)\n",
    "theta1 = sp.atan2(-R[1, 2], R[2, 2])  # theta1 = atan2(-r23, r33)\n",
    "theta3 = sp.atan2(-R[0, 1], R[0, 0])  # theta3 = atan2(-r12, r11)"
   ]
  },
  {
   "cell_type": "code",
   "execution_count": 24,
   "metadata": {},
   "outputs": [
    {
     "name": "stdout",
     "output_type": "stream",
     "text": [
      "0.981187298926365 1.21971098987400 -0.830449626513423\n"
     ]
    }
   ],
   "source": [
    "\n",
    "print(theta1, theta2, theta3)"
   ]
  },
  {
   "cell_type": "markdown",
   "metadata": {},
   "source": [
    "Доколку $\\cos \\theta_2 = 0$, тоа значи дека $\\theta_2 = ^+_-90^0$ и настанало gimbal lock, при што губиме еден степен на слобода"
   ]
  },
  {
   "cell_type": "code",
   "execution_count": 31,
   "metadata": {},
   "outputs": [],
   "source": []
  },
  {
   "cell_type": "code",
   "execution_count": null,
   "metadata": {},
   "outputs": [],
   "source": []
  }
 ],
 "metadata": {
  "kernelspec": {
   "display_name": "Python 3 (ipykernel)",
   "language": "python",
   "name": "python3"
  },
  "language_info": {
   "codemirror_mode": {
    "name": "ipython",
    "version": 3
   },
   "file_extension": ".py",
   "mimetype": "text/x-python",
   "name": "python",
   "nbconvert_exporter": "python",
   "pygments_lexer": "ipython3",
   "version": "3.13.2"
  }
 },
 "nbformat": 4,
 "nbformat_minor": 4
}
