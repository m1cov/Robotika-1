{
 "cells": [
  {
   "cell_type": "markdown",
   "metadata": {},
   "source": [
    "# Прв парцијален испит по Роботика 1\n",
    "\n",
    "Датум: 14.04.2021"
   ]
  },
  {
   "cell_type": "markdown",
   "metadata": {},
   "source": [
    "## Задача 1"
   ]
  },
  {
   "cell_type": "markdown",
   "metadata": {},
   "source": [
    "**(25 поени)** Дадена е саканата положба на извршниот елемент на една цилиндрична роботска рака:"
   ]
  },
  {
   "cell_type": "code",
   "execution_count": 1,
   "metadata": {},
   "outputs": [],
   "source": [
    "import sympy as sp"
   ]
  },
  {
   "cell_type": "code",
   "execution_count": 2,
   "metadata": {},
   "outputs": [
    {
     "data": {
      "text/latex": [
       "$\\displaystyle \\left[\\begin{matrix}0.233 & 0.255 & 0.939 & 4.24\\\\0.113 & 0.951 & -0.287 & 2.65\\\\-0.966 & 0.173 & 0.192 & 6\\\\0 & 0 & 0 & 1\\end{matrix}\\right]$"
      ],
      "text/plain": [
       "Matrix([\n",
       "[ 0.233, 0.255,  0.939, 4.24],\n",
       "[ 0.113, 0.951, -0.287, 2.65],\n",
       "[-0.966, 0.173,  0.192,    6],\n",
       "[     0,     0,      0,    1]])"
      ]
     },
     "execution_count": 2,
     "metadata": {},
     "output_type": "execute_result"
    }
   ],
   "source": [
    "T = sp.Matrix([\n",
    "    [0.233, 0.255, 0.939, 4.24],\n",
    "    [0.113, 0.951, -0.287, 2.65],\n",
    "    [-0.966, 0.173, 0.192, 6],\n",
    "    [0, 0, 0, 1],\n",
    "])\n",
    "T"
   ]
  },
  {
   "cell_type": "markdown",
   "metadata": {},
   "source": [
    "Ориентацијата на извршниот елемент е претставена со ојлеровите ZXY агли: $\\theta_1$, $\\theta_2$ и $\\theta_3$. Притоа $\\theta_1$ претставува агол на ротација околу z-оската, $\\theta_2$ претставува агол на ротација околу x−оската и $\\theta_3$ претставува агол на ротација околу y−оската на подвижниот координатен систем. Да се пресметаат вредностите на променливите на зглобовите од роботската рака, со помош на кои ќе се оствари нејзината сакана положба во просторот. Што ќе се случи ако $\\cos \\theta_2 = 0$?"
   ]
  },
  {
   "cell_type": "markdown",
   "metadata": {},
   "source": [
    "## Решение"
   ]
  },
  {
   "cell_type": "code",
   "execution_count": null,
   "metadata": {},
   "outputs": [],
   "source": []
  },
  {
   "cell_type": "code",
   "execution_count": null,
   "metadata": {},
   "outputs": [],
   "source": []
  },
  {
   "cell_type": "code",
   "execution_count": null,
   "metadata": {},
   "outputs": [],
   "source": []
  }
 ],
 "metadata": {
  "kernelspec": {
   "display_name": "Python 3",
   "language": "python",
   "name": "python3"
  },
  "language_info": {
   "codemirror_mode": {
    "name": "ipython",
    "version": 3
   },
   "file_extension": ".py",
   "mimetype": "text/x-python",
   "name": "python",
   "nbconvert_exporter": "python",
   "pygments_lexer": "ipython3",
   "version": "3.7.9"
  }
 },
 "nbformat": 4,
 "nbformat_minor": 4
}
