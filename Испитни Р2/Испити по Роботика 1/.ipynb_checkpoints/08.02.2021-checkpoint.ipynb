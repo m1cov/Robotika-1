{
 "cells": [
  {
   "cell_type": "markdown",
   "id": "tender-cache",
   "metadata": {},
   "source": [
    "# Ипсит по Роботика 2\n",
    "08.02.2021"
   ]
  },
  {
   "cell_type": "markdown",
   "id": "restricted-prototype",
   "metadata": {},
   "source": [
    "Во прилог ви се дадени материјалите од предавања и вежби."
   ]
  },
  {
   "cell_type": "markdown",
   "id": "vital-carbon",
   "metadata": {},
   "source": [
    "1. Кај тетратката со Калманов филтер, на нов график исцртајте ја брзината од состојбениот вектор на вториот филтер.\n",
    "2. Кај тетратката со Нечуствителен Калманов филтер, продолжете го дадениот пример така што ќе поставите повеќе ориентири така што ќе се локализирате по нив.\n",
    "3. Кај задачата со филтерот со честичките, симулирајте робот кој се движи по произволна патека во рамнина.\n",
    "    - Поставете обележје во околината и дизајнирајте и имплементирајте филтер со честички за да можете да го локализирате роботот.\n",
    "    - Исцртајте ја неодреденоста за позицијата на работот."
   ]
  },
  {
   "cell_type": "code",
   "execution_count": null,
   "id": "forced-suicide",
   "metadata": {},
   "outputs": [],
   "source": []
  },
  {
   "cell_type": "code",
   "execution_count": null,
   "id": "bulgarian-briefing",
   "metadata": {},
   "outputs": [],
   "source": []
  },
  {
   "cell_type": "code",
   "execution_count": null,
   "id": "australian-pressure",
   "metadata": {},
   "outputs": [],
   "source": []
  },
  {
   "cell_type": "code",
   "execution_count": null,
   "id": "heavy-import",
   "metadata": {},
   "outputs": [],
   "source": []
  }
 ],
 "metadata": {
  "kernelspec": {
   "display_name": "Python 3",
   "language": "python",
   "name": "python3"
  },
  "language_info": {
   "codemirror_mode": {
    "name": "ipython",
    "version": 3
   },
   "file_extension": ".py",
   "mimetype": "text/x-python",
   "name": "python",
   "nbconvert_exporter": "python",
   "pygments_lexer": "ipython3",
   "version": "3.9.1"
  }
 },
 "nbformat": 4,
 "nbformat_minor": 5
}
