{
 "cells": [
  {
   "cell_type": "markdown",
   "id": "aware-fifteen",
   "metadata": {},
   "source": [
    "# Ипсит по Роботика 2\n",
    "17.06.2021"
   ]
  },
  {
   "cell_type": "markdown",
   "id": "assigned-enterprise",
   "metadata": {},
   "source": [
    "Во прилог ви се дадени материјалите од предавања и вежби."
   ]
  },
  {
   "cell_type": "markdown",
   "id": "short-meter",
   "metadata": {},
   "source": [
    "1. Кај тетратката со Калманов филтер, на нов график исцртајте ја неодреденоста (вредноста на секој член) од матрицата Σ на верувањето.\n",
    "2. Кај тетратката со Нечуствителен Калманов филтер, симулирајте робот кој се движи по произволна патека во рамнина.\n",
    "    - Роботот има радар кој функционира на ист начин како примерот со авионот.\n",
    "    - Поставете ориентир во околината и дизајнирајте и имплементирајте нечуствителен Калманов филтер за да можете да го локализирате роботот.\n",
    "    - Исцратајте ја неодреденоста за позицијата на работот.\n",
    "3. Кај задачата со филтерот со честичките, продолжете го дадениот пример така што ќе поставите повеќе обележја и ќе се локализирате по нив.\n"
   ]
  },
  {
   "cell_type": "code",
   "execution_count": null,
   "id": "contrary-institute",
   "metadata": {},
   "outputs": [],
   "source": []
  },
  {
   "cell_type": "code",
   "execution_count": null,
   "id": "responsible-baltimore",
   "metadata": {},
   "outputs": [],
   "source": []
  },
  {
   "cell_type": "code",
   "execution_count": null,
   "id": "graduate-liability",
   "metadata": {},
   "outputs": [],
   "source": []
  },
  {
   "cell_type": "code",
   "execution_count": null,
   "id": "labeled-cathedral",
   "metadata": {},
   "outputs": [],
   "source": []
  }
 ],
 "metadata": {
  "kernelspec": {
   "display_name": "Python 3",
   "language": "python",
   "name": "python3"
  },
  "language_info": {
   "codemirror_mode": {
    "name": "ipython",
    "version": 3
   },
   "file_extension": ".py",
   "mimetype": "text/x-python",
   "name": "python",
   "nbconvert_exporter": "python",
   "pygments_lexer": "ipython3",
   "version": "3.9.1"
  }
 },
 "nbformat": 4,
 "nbformat_minor": 5
}
