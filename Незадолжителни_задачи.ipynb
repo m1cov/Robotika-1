{
 "cells": [
  {
   "cell_type": "markdown",
   "id": "located-argentina",
   "metadata": {},
   "source": [
    "# Незадолжителни задачи"
   ]
  },
  {
   "cell_type": "markdown",
   "id": "vulnerable-press",
   "metadata": {},
   "source": [
    "## Задача 1\n",
    "\n",
    "- Направете анимација во која роботската рака ќе се придвижи од едно место до друго и притоа ќе ја исцрта патеката. \n",
    "- Исцртаната патека нека биде буква по ваш избор.\n",
    "- Роботската рака нека биде во SCARA конфигурација. Доволни ви се само првите два зглобови. Слободно пробајте и со друга конфигурација."
   ]
  },
  {
   "cell_type": "markdown",
   "id": "developed-retreat",
   "metadata": {},
   "source": [
    "![](images/SCARA_right.gif)"
   ]
  },
  {
   "cell_type": "code",
   "execution_count": null,
   "id": "significant-extension",
   "metadata": {},
   "outputs": [],
   "source": []
  },
  {
   "cell_type": "code",
   "execution_count": null,
   "id": "pressing-corpus",
   "metadata": {},
   "outputs": [],
   "source": []
  },
  {
   "cell_type": "code",
   "execution_count": null,
   "id": "worst-iraqi",
   "metadata": {},
   "outputs": [],
   "source": []
  }
 ],
 "metadata": {
  "kernelspec": {
   "display_name": "Python 3",
   "language": "python",
   "name": "python3"
  },
  "language_info": {
   "codemirror_mode": {
    "name": "ipython",
    "version": 3
   },
   "file_extension": ".py",
   "mimetype": "text/x-python",
   "name": "python",
   "nbconvert_exporter": "python",
   "pygments_lexer": "ipython3",
   "version": "3.7.9"
  }
 },
 "nbformat": 4,
 "nbformat_minor": 5
}
