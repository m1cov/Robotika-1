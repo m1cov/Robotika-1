{
 "cells": [
  {
   "cell_type": "code",
   "execution_count": 2,
   "id": "cubic-kitty",
   "metadata": {},
   "outputs": [],
   "source": [
    "import sympy as sp\n",
    "import script as rt\n",
    "\n",
    "from IPython.lib.display import IFrame"
   ]
  },
  {
   "cell_type": "markdown",
   "id": "coordinated-alpha",
   "metadata": {},
   "source": [
    "### Задача 1.28"
   ]
  },
  {
   "cell_type": "code",
   "execution_count": 3,
   "id": "linear-silicon",
   "metadata": {},
   "outputs": [],
   "source": [
    "def is_right_hand_coordinate_system3(pose):\n",
    "    \"\"\"Checks whether the given pose follows the right-hand rule.\"\"\"\n",
    "    R = pose[:3, :3]\n",
    "    return sp.simplify(R * R.T) == sp.eye(3) and sp.simplify(sp.det(R)) == 1"
   ]
  },
  {
   "cell_type": "code",
   "execution_count": 4,
   "id": "turned-vocabulary",
   "metadata": {},
   "outputs": [
    {
     "data": {
      "text/latex": [
       "$\\displaystyle \\left[\\begin{matrix}0 & 1 & 0 & 0\\\\-1 & 0 & 0 & 0\\\\0 & 0 & 1 & 0\\\\0 & 0 & 0 & 1\\end{matrix}\\right]$"
      ],
      "text/plain": [
       "Matrix([\n",
       "[ 0, 1, 0, 0],\n",
       "[-1, 0, 0, 0],\n",
       "[ 0, 0, 1, 0],\n",
       "[ 0, 0, 0, 1]])"
      ]
     },
     "execution_count": 4,
     "metadata": {},
     "output_type": "execute_result"
    }
   ],
   "source": [
    "T1 = sp.Matrix([[0, 1, 0, 0],\n",
    "               [-1, 0, 0, 0],\n",
    "               [0, 0, 1, 0],\n",
    "               [0, 0, 0, 1]])\n",
    "T1"
   ]
  },
  {
   "cell_type": "code",
   "execution_count": 5,
   "id": "dried-adrian",
   "metadata": {},
   "outputs": [
    {
     "data": {
      "text/plain": [
       "(True, True)"
      ]
     },
     "execution_count": 5,
     "metadata": {},
     "output_type": "execute_result"
    }
   ],
   "source": [
    "rt.is_right_hand_coordinate_system3(T1), is_right_hand_coordinate_system3(T1)"
   ]
  },
  {
   "cell_type": "code",
   "execution_count": 6,
   "id": "going-grammar",
   "metadata": {},
   "outputs": [
    {
     "data": {
      "text/latex": [
       "$\\displaystyle \\theta_{1}$"
      ],
      "text/plain": [
       "theta_1"
      ]
     },
     "execution_count": 6,
     "metadata": {},
     "output_type": "execute_result"
    }
   ],
   "source": [
    "theta1, theta2 = sp.symbols('theta_1, theta_2')\n",
    "theta1"
   ]
  },
  {
   "cell_type": "code",
   "execution_count": 7,
   "id": "interesting-weather",
   "metadata": {},
   "outputs": [
    {
     "data": {
      "text/latex": [
       "$\\displaystyle \\left[\\begin{matrix}\\cos{\\left(\\theta_{1} \\right)} \\cos{\\left(\\theta_{2} \\right)} & - \\sin{\\left(\\theta_{1} \\right)} & \\sin{\\left(\\theta_{2} \\right)} \\cos{\\left(\\theta_{1} \\right)} & 0\\\\\\sin{\\left(\\theta_{1} \\right)} \\cos{\\left(\\theta_{2} \\right)} & \\cos{\\left(\\theta_{1} \\right)} & \\sin{\\left(\\theta_{1} \\right)} \\sin{\\left(\\theta_{2} \\right)} & 0\\\\- \\sin{\\left(\\theta_{2} \\right)} & 0 & \\cos{\\left(\\theta_{2} \\right)} & 0\\\\0 & 0 & 0 & 1\\end{matrix}\\right]$"
      ],
      "text/plain": [
       "Matrix([\n",
       "[cos(theta_1)*cos(theta_2), -sin(theta_1), sin(theta_2)*cos(theta_1), 0],\n",
       "[sin(theta_1)*cos(theta_2),  cos(theta_1), sin(theta_1)*sin(theta_2), 0],\n",
       "[            -sin(theta_2),             0,              cos(theta_2), 0],\n",
       "[                        0,             0,                         0, 1]])"
      ]
     },
     "execution_count": 7,
     "metadata": {},
     "output_type": "execute_result"
    }
   ],
   "source": [
    "s1 = sp.sin(theta1)\n",
    "s2 = sp.sin(theta2)\n",
    "c1 = sp.cos(theta1)\n",
    "c2 = sp.cos(theta2)\n",
    "\n",
    "T3 = sp.Matrix([\n",
    "    [c1*c2, -s1, c1*s2, 0],\n",
    "    [s1*c2, c1, s1*s2, 0],\n",
    "    [-s2, 0, c2, 0],\n",
    "    [0, 0, 0, 1]])\n",
    "T3"
   ]
  },
  {
   "cell_type": "code",
   "execution_count": 8,
   "id": "egyptian-finland",
   "metadata": {},
   "outputs": [
    {
     "data": {
      "text/latex": [
       "$\\displaystyle \\left[\\begin{matrix}\\cos{\\left(\\theta_{1} \\right)} \\cos{\\left(\\theta_{2} \\right)} & - \\sin{\\left(\\theta_{1} \\right)} & \\sin{\\left(\\theta_{2} \\right)} \\cos{\\left(\\theta_{1} \\right)}\\\\\\sin{\\left(\\theta_{1} \\right)} \\cos{\\left(\\theta_{2} \\right)} & \\cos{\\left(\\theta_{1} \\right)} & \\sin{\\left(\\theta_{1} \\right)} \\sin{\\left(\\theta_{2} \\right)}\\\\- \\sin{\\left(\\theta_{2} \\right)} & 0 & \\cos{\\left(\\theta_{2} \\right)}\\end{matrix}\\right]$"
      ],
      "text/plain": [
       "Matrix([\n",
       "[cos(theta_1)*cos(theta_2), -sin(theta_1), sin(theta_2)*cos(theta_1)],\n",
       "[sin(theta_1)*cos(theta_2),  cos(theta_1), sin(theta_1)*sin(theta_2)],\n",
       "[            -sin(theta_2),             0,              cos(theta_2)]])"
      ]
     },
     "execution_count": 8,
     "metadata": {},
     "output_type": "execute_result"
    }
   ],
   "source": [
    "T3[:3, :3][:3, :3]"
   ]
  },
  {
   "cell_type": "code",
   "execution_count": 9,
   "id": "noticed-clothing",
   "metadata": {},
   "outputs": [
    {
     "data": {
      "text/latex": [
       "$\\displaystyle \\left[\\begin{matrix}\\cos{\\left(\\theta_{1} \\right)} \\cos{\\left(\\theta_{2} \\right)} & \\sin{\\left(\\theta_{1} \\right)} \\cos{\\left(\\theta_{2} \\right)} & - \\sin{\\left(\\theta_{2} \\right)} & 0\\\\- \\sin{\\left(\\theta_{1} \\right)} & \\cos{\\left(\\theta_{1} \\right)} & 0 & 0\\\\\\sin{\\left(\\theta_{2} \\right)} \\cos{\\left(\\theta_{1} \\right)} & \\sin{\\left(\\theta_{1} \\right)} \\sin{\\left(\\theta_{2} \\right)} & \\cos{\\left(\\theta_{2} \\right)} & 0\\\\0 & 0 & 0 & 1\\end{matrix}\\right]$"
      ],
      "text/plain": [
       "Matrix([\n",
       "[cos(theta_1)*cos(theta_2), sin(theta_1)*cos(theta_2), -sin(theta_2), 0],\n",
       "[            -sin(theta_1),              cos(theta_1),             0, 0],\n",
       "[sin(theta_2)*cos(theta_1), sin(theta_1)*sin(theta_2),  cos(theta_2), 0],\n",
       "[                        0,                         0,             0, 1]])"
      ]
     },
     "execution_count": 9,
     "metadata": {},
     "output_type": "execute_result"
    }
   ],
   "source": [
    "T3.T"
   ]
  },
  {
   "cell_type": "code",
   "execution_count": 10,
   "id": "improving-secondary",
   "metadata": {},
   "outputs": [
    {
     "data": {
      "text/plain": [
       "(True, True)"
      ]
     },
     "execution_count": 10,
     "metadata": {},
     "output_type": "execute_result"
    }
   ],
   "source": [
    "rt.is_right_hand_coordinate_system3(T3), is_right_hand_coordinate_system3(T3)"
   ]
  },
  {
   "cell_type": "markdown",
   "id": "documentary-retailer",
   "metadata": {},
   "source": [
    "### Услови 1"
   ]
  },
  {
   "cell_type": "markdown",
   "id": "chicken-customs",
   "metadata": {},
   "source": [
    "$ R R^\\top = I $"
   ]
  },
  {
   "cell_type": "markdown",
   "id": "musical-effect",
   "metadata": {},
   "source": [
    "$ \\det R = 1 $"
   ]
  },
  {
   "cell_type": "markdown",
   "id": "acceptable-silver",
   "metadata": {},
   "source": [
    "### Услови 2"
   ]
  },
  {
   "cell_type": "markdown",
   "id": "promising-works",
   "metadata": {},
   "source": [
    "$ ||n|| = 1 $"
   ]
  },
  {
   "cell_type": "markdown",
   "id": "clear-practice",
   "metadata": {},
   "source": [
    "$ ||o|| = 1 $"
   ]
  },
  {
   "cell_type": "markdown",
   "id": "incoming-blond",
   "metadata": {},
   "source": [
    "$ || a || = 1 $"
   ]
  },
  {
   "cell_type": "markdown",
   "id": "employed-island",
   "metadata": {},
   "source": [
    "$ dot(n, o) = 0$"
   ]
  },
  {
   "cell_type": "markdown",
   "id": "dominant-league",
   "metadata": {},
   "source": [
    "$ dot(n, a) = 0$"
   ]
  },
  {
   "cell_type": "markdown",
   "id": "understood-introduction",
   "metadata": {},
   "source": [
    "$ dot(o, a) = 0$"
   ]
  },
  {
   "cell_type": "markdown",
   "id": "monthly-model",
   "metadata": {},
   "source": [
    "### Услови 3"
   ]
  },
  {
   "cell_type": "markdown",
   "id": "dimensional-reunion",
   "metadata": {},
   "source": [
    "$ ||n|| = 1 $"
   ]
  },
  {
   "cell_type": "markdown",
   "id": "shaped-indonesia",
   "metadata": {},
   "source": [
    "$ ||o|| = 1 $"
   ]
  },
  {
   "cell_type": "markdown",
   "id": "international-arthritis",
   "metadata": {},
   "source": [
    "$ || a || = 1 $"
   ]
  },
  {
   "cell_type": "markdown",
   "id": "bottom-cookie",
   "metadata": {},
   "source": [
    "$ vectorproduct(n, o) = a $"
   ]
  },
  {
   "cell_type": "markdown",
   "id": "vocational-surge",
   "metadata": {},
   "source": [
    "### Задача 1.29"
   ]
  },
  {
   "cell_type": "markdown",
   "id": "auburn-consent",
   "metadata": {},
   "source": [
    "Се решава на рака."
   ]
  },
  {
   "cell_type": "markdown",
   "id": "saving-correlation",
   "metadata": {},
   "source": [
    "### Задача 1.30"
   ]
  },
  {
   "cell_type": "code",
   "execution_count": 11,
   "id": "tight-borough",
   "metadata": {},
   "outputs": [
    {
     "data": {
      "text/latex": [
       "$\\displaystyle \\left[\\begin{matrix}\\frac{\\sqrt{2}}{2} & 0 & \\frac{\\sqrt{2}}{2}\\\\0 & 2 & 0\\\\- \\frac{\\sqrt{2}}{2} & 0 & \\frac{\\sqrt{2}}{2}\\end{matrix}\\right]$"
      ],
      "text/plain": [
       "Matrix([\n",
       "[ sqrt(2)/2, 0, sqrt(2)/2],\n",
       "[         0, 2,         0],\n",
       "[-sqrt(2)/2, 0, sqrt(2)/2]])"
      ]
     },
     "execution_count": 11,
     "metadata": {},
     "output_type": "execute_result"
    }
   ],
   "source": [
    "R12 = sp.Matrix([\n",
    "    [sp.sqrt(2)/2, 0, sp.sqrt(2)/2],\n",
    "    [0, 2, 0],\n",
    "    [-sp.sqrt(2)/2, 0, sp.sqrt(2)/2]\n",
    "])\n",
    "R12"
   ]
  },
  {
   "cell_type": "code",
   "execution_count": 12,
   "id": "historical-radius",
   "metadata": {},
   "outputs": [
    {
     "data": {
      "text/latex": [
       "$\\displaystyle \\left[\\begin{matrix}0 & 0 & 1\\\\0 & 1 & 0\\\\-1 & 0 & 0\\end{matrix}\\right]$"
      ],
      "text/plain": [
       "Matrix([\n",
       "[ 0, 0, 1],\n",
       "[ 0, 1, 0],\n",
       "[-1, 0, 0]])"
      ]
     },
     "execution_count": 12,
     "metadata": {},
     "output_type": "execute_result"
    }
   ],
   "source": [
    "R13 = sp.Matrix([\n",
    "    [0, 0, 1],\n",
    "    [0, 1, 0],\n",
    "    [-1, 0, 0]\n",
    "])\n",
    "R13"
   ]
  },
  {
   "cell_type": "code",
   "execution_count": 13,
   "id": "continental-eagle",
   "metadata": {},
   "outputs": [
    {
     "data": {
      "text/latex": [
       "$\\displaystyle \\left[\\begin{matrix}\\frac{\\sqrt{2}}{2} & 0 & \\frac{\\sqrt{2}}{2}\\\\0 & \\frac{1}{2} & 0\\\\- \\frac{\\sqrt{2}}{2} & 0 & \\frac{\\sqrt{2}}{2}\\end{matrix}\\right]$"
      ],
      "text/plain": [
       "Matrix([\n",
       "[ sqrt(2)/2,   0, sqrt(2)/2],\n",
       "[         0, 1/2,         0],\n",
       "[-sqrt(2)/2,   0, sqrt(2)/2]])"
      ]
     },
     "execution_count": 13,
     "metadata": {},
     "output_type": "execute_result"
    }
   ],
   "source": [
    "R23 = R12.inv() * R13\n",
    "R23"
   ]
  },
  {
   "cell_type": "markdown",
   "id": "transsexual-traffic",
   "metadata": {},
   "source": [
    "### Задача 1.31"
   ]
  },
  {
   "cell_type": "markdown",
   "id": "fewer-alias",
   "metadata": {},
   "source": [
    "Се решава на рака."
   ]
  },
  {
   "cell_type": "markdown",
   "id": "seven-wagon",
   "metadata": {},
   "source": [
    "### Задача 1.32"
   ]
  },
  {
   "cell_type": "markdown",
   "id": "incorrect-software",
   "metadata": {},
   "source": [
    "Се решава на рака."
   ]
  },
  {
   "cell_type": "markdown",
   "id": "continental-presence",
   "metadata": {},
   "source": [
    "### Задача 1.33"
   ]
  },
  {
   "cell_type": "markdown",
   "id": "editorial-representation",
   "metadata": {},
   "source": [
    "Се решава на рака."
   ]
  },
  {
   "cell_type": "markdown",
   "id": "expensive-election",
   "metadata": {},
   "source": [
    "### Задача 1.34"
   ]
  },
  {
   "cell_type": "markdown",
   "id": "nonprofit-transcript",
   "metadata": {},
   "source": [
    "Се решава на рака."
   ]
  },
  {
   "cell_type": "markdown",
   "id": "offensive-sheet",
   "metadata": {},
   "source": [
    "### Задача 1.35"
   ]
  },
  {
   "cell_type": "code",
   "execution_count": 14,
   "id": "average-component",
   "metadata": {},
   "outputs": [
    {
     "data": {
      "text/latex": [
       "$\\displaystyle \\left[\\begin{matrix}\\cos{\\left(\\theta \\right)} & - \\sin{\\left(\\theta \\right)} & 0 & b\\\\\\sin{\\left(\\theta \\right)} \\cos{\\left(\\alpha \\right)} & \\cos{\\left(\\alpha \\right)} \\cos{\\left(\\theta \\right)} & - \\sin{\\left(\\alpha \\right)} & - d \\sin{\\left(\\alpha \\right)}\\\\\\sin{\\left(\\alpha \\right)} \\sin{\\left(\\theta \\right)} & \\sin{\\left(\\alpha \\right)} \\cos{\\left(\\theta \\right)} & \\cos{\\left(\\alpha \\right)} & d \\cos{\\left(\\alpha \\right)}\\\\0 & 0 & 0 & 1\\end{matrix}\\right]$"
      ],
      "text/plain": [
       "Matrix([\n",
       "[           cos(theta),           -sin(theta),           0,             b],\n",
       "[sin(theta)*cos(alpha), cos(alpha)*cos(theta), -sin(alpha), -d*sin(alpha)],\n",
       "[sin(alpha)*sin(theta), sin(alpha)*cos(theta),  cos(alpha),  d*cos(alpha)],\n",
       "[                    0,                     0,           0,             1]])"
      ]
     },
     "execution_count": 14,
     "metadata": {},
     "output_type": "execute_result"
    }
   ],
   "source": [
    "alpha, b, d, theta = sp.symbols('alpha, b, d, theta')\n",
    "T1 = rt.hrotation3('n', alpha)\n",
    "T2 = rt.htranslation3(x=b)\n",
    "T3 = rt.htranslation3(z=d)\n",
    "T4 = rt.hrotation3('a', theta)\n",
    "T1 * T2 * T3 * T4"
   ]
  },
  {
   "cell_type": "markdown",
   "id": "forced-jersey",
   "metadata": {},
   "source": [
    "### Задача 1.36"
   ]
  },
  {
   "cell_type": "markdown",
   "id": "minus-dollar",
   "metadata": {},
   "source": [
    "Се решава усно."
   ]
  },
  {
   "cell_type": "markdown",
   "id": "beneficial-latvia",
   "metadata": {},
   "source": [
    "### Задача 1.37"
   ]
  },
  {
   "cell_type": "markdown",
   "id": "welcome-fantasy",
   "metadata": {},
   "source": [
    "Најдобро е да се скокне. Вакви задачи има во втората тема."
   ]
  },
  {
   "cell_type": "markdown",
   "id": "global-driver",
   "metadata": {},
   "source": [
    "### Задача 1.38"
   ]
  },
  {
   "cell_type": "markdown",
   "id": "governing-pathology",
   "metadata": {},
   "source": [
    "Се решава усно."
   ]
  },
  {
   "cell_type": "markdown",
   "id": "maritime-shadow",
   "metadata": {},
   "source": [
    "### Задача 1.38"
   ]
  },
  {
   "cell_type": "markdown",
   "id": "exceptional-campus",
   "metadata": {},
   "source": [
    "Се решава усно."
   ]
  },
  {
   "cell_type": "markdown",
   "id": "incorporate-stack",
   "metadata": {},
   "source": [
    "### Задача 1.39"
   ]
  },
  {
   "cell_type": "markdown",
   "id": "decent-holocaust",
   "metadata": {},
   "source": [
    "Се решава усно."
   ]
  },
  {
   "cell_type": "markdown",
   "id": "spiritual-motivation",
   "metadata": {},
   "source": [
    "### Задача 1.40"
   ]
  },
  {
   "cell_type": "code",
   "execution_count": 15,
   "id": "stylish-office",
   "metadata": {},
   "outputs": [
    {
     "data": {
      "text/latex": [
       "$\\displaystyle \\left[\\begin{matrix}\\cos{\\left(\\psi \\right)} \\cos{\\left(\\theta \\right)} & - \\sin{\\left(\\psi \\right)} \\cos{\\left(\\theta \\right)} & \\sin{\\left(\\theta \\right)}\\\\\\sin{\\left(\\phi \\right)} \\sin{\\left(\\theta \\right)} \\cos{\\left(\\psi \\right)} + \\sin{\\left(\\psi \\right)} \\cos{\\left(\\phi \\right)} & - \\sin{\\left(\\phi \\right)} \\sin{\\left(\\psi \\right)} \\sin{\\left(\\theta \\right)} + \\cos{\\left(\\phi \\right)} \\cos{\\left(\\psi \\right)} & - \\sin{\\left(\\phi \\right)} \\cos{\\left(\\theta \\right)}\\\\\\sin{\\left(\\phi \\right)} \\sin{\\left(\\psi \\right)} - \\sin{\\left(\\theta \\right)} \\cos{\\left(\\phi \\right)} \\cos{\\left(\\psi \\right)} & \\sin{\\left(\\phi \\right)} \\cos{\\left(\\psi \\right)} + \\sin{\\left(\\psi \\right)} \\sin{\\left(\\theta \\right)} \\cos{\\left(\\phi \\right)} & \\cos{\\left(\\phi \\right)} \\cos{\\left(\\theta \\right)}\\end{matrix}\\right]$"
      ],
      "text/plain": [
       "Matrix([\n",
       "[                             cos(psi)*cos(theta),                              -sin(psi)*cos(theta),           sin(theta)],\n",
       "[sin(phi)*sin(theta)*cos(psi) + sin(psi)*cos(phi), -sin(phi)*sin(psi)*sin(theta) + cos(phi)*cos(psi), -sin(phi)*cos(theta)],\n",
       "[sin(phi)*sin(psi) - sin(theta)*cos(phi)*cos(psi),  sin(phi)*cos(psi) + sin(psi)*sin(theta)*cos(phi),  cos(phi)*cos(theta)]])"
      ]
     },
     "execution_count": 15,
     "metadata": {},
     "output_type": "execute_result"
    }
   ],
   "source": [
    "phi, theta, psi = sp.symbols('phi, theta, psi')\n",
    "R1 = rt.rotation3('n', phi)\n",
    "R2 = rt.rotation3('o', theta)\n",
    "R3 = rt.rotation3('a', psi)\n",
    "R1 * R2 * R3"
   ]
  },
  {
   "cell_type": "markdown",
   "id": "distinct-investor",
   "metadata": {},
   "source": [
    "### Задача 1.41"
   ]
  },
  {
   "cell_type": "code",
   "execution_count": 16,
   "id": "chinese-haven",
   "metadata": {},
   "outputs": [
    {
     "data": {
      "text/latex": [
       "$\\displaystyle \\left[\\begin{matrix}\\cos{\\left(\\psi \\right)} \\cos{\\left(\\theta \\right)} & - \\sin{\\left(\\theta \\right)} & \\sin{\\left(\\psi \\right)} \\cos{\\left(\\theta \\right)}\\\\\\sin{\\left(\\phi \\right)} \\sin{\\left(\\psi \\right)} + \\sin{\\left(\\theta \\right)} \\cos{\\left(\\phi \\right)} \\cos{\\left(\\psi \\right)} & \\cos{\\left(\\phi \\right)} \\cos{\\left(\\theta \\right)} & - \\sin{\\left(\\phi \\right)} \\cos{\\left(\\psi \\right)} + \\sin{\\left(\\psi \\right)} \\sin{\\left(\\theta \\right)} \\cos{\\left(\\phi \\right)}\\\\\\sin{\\left(\\phi \\right)} \\sin{\\left(\\theta \\right)} \\cos{\\left(\\psi \\right)} - \\sin{\\left(\\psi \\right)} \\cos{\\left(\\phi \\right)} & \\sin{\\left(\\phi \\right)} \\cos{\\left(\\theta \\right)} & \\sin{\\left(\\phi \\right)} \\sin{\\left(\\psi \\right)} \\sin{\\left(\\theta \\right)} + \\cos{\\left(\\phi \\right)} \\cos{\\left(\\psi \\right)}\\end{matrix}\\right]$"
      ],
      "text/plain": [
       "Matrix([\n",
       "[                             cos(psi)*cos(theta),         -sin(theta),                               sin(psi)*cos(theta)],\n",
       "[sin(phi)*sin(psi) + sin(theta)*cos(phi)*cos(psi), cos(phi)*cos(theta), -sin(phi)*cos(psi) + sin(psi)*sin(theta)*cos(phi)],\n",
       "[sin(phi)*sin(theta)*cos(psi) - sin(psi)*cos(phi), sin(phi)*cos(theta),  sin(phi)*sin(psi)*sin(theta) + cos(phi)*cos(psi)]])"
      ]
     },
     "execution_count": 16,
     "metadata": {},
     "output_type": "execute_result"
    }
   ],
   "source": [
    "phi, theta, psi = sp.symbols('phi, theta, psi')\n",
    "R1 = rt.rotation3('n', phi)\n",
    "R2 = rt.rotation3('a', theta)\n",
    "R3 = rt.rotation3('o', psi)\n",
    "R1 * R2 * R3"
   ]
  },
  {
   "cell_type": "markdown",
   "id": "extended-fossil",
   "metadata": {},
   "source": [
    "### Задача 1.42"
   ]
  },
  {
   "cell_type": "code",
   "execution_count": 17,
   "id": "varying-pickup",
   "metadata": {},
   "outputs": [
    {
     "data": {
      "text/latex": [
       "$\\displaystyle \\left[\\begin{matrix}\\cos{\\left(\\phi \\right)} \\cos{\\left(\\theta \\right)} & - \\sin{\\left(\\phi \\right)} \\cos{\\left(\\psi \\right)} + \\sin{\\left(\\psi \\right)} \\sin{\\left(\\theta \\right)} \\cos{\\left(\\phi \\right)} & \\sin{\\left(\\phi \\right)} \\sin{\\left(\\psi \\right)} + \\sin{\\left(\\theta \\right)} \\cos{\\left(\\phi \\right)} \\cos{\\left(\\psi \\right)}\\\\\\sin{\\left(\\phi \\right)} \\cos{\\left(\\theta \\right)} & \\sin{\\left(\\phi \\right)} \\sin{\\left(\\psi \\right)} \\sin{\\left(\\theta \\right)} + \\cos{\\left(\\phi \\right)} \\cos{\\left(\\psi \\right)} & \\sin{\\left(\\phi \\right)} \\sin{\\left(\\theta \\right)} \\cos{\\left(\\psi \\right)} - \\sin{\\left(\\psi \\right)} \\cos{\\left(\\phi \\right)}\\\\- \\sin{\\left(\\theta \\right)} & \\sin{\\left(\\psi \\right)} \\cos{\\left(\\theta \\right)} & \\cos{\\left(\\psi \\right)} \\cos{\\left(\\theta \\right)}\\end{matrix}\\right]$"
      ],
      "text/plain": [
       "Matrix([\n",
       "[cos(phi)*cos(theta), -sin(phi)*cos(psi) + sin(psi)*sin(theta)*cos(phi), sin(phi)*sin(psi) + sin(theta)*cos(phi)*cos(psi)],\n",
       "[sin(phi)*cos(theta),  sin(phi)*sin(psi)*sin(theta) + cos(phi)*cos(psi), sin(phi)*sin(theta)*cos(psi) - sin(psi)*cos(phi)],\n",
       "[        -sin(theta),                               sin(psi)*cos(theta),                              cos(psi)*cos(theta)]])"
      ]
     },
     "execution_count": 17,
     "metadata": {},
     "output_type": "execute_result"
    }
   ],
   "source": [
    "phi, theta, psi = sp.symbols('phi, theta, psi')\n",
    "R1 = rt.rotation3('a', phi)\n",
    "R2 = rt.rotation3('o', theta)\n",
    "R3 = rt.rotation3('n', psi)\n",
    "R1 * R2 * R3"
   ]
  },
  {
   "cell_type": "markdown",
   "id": "careful-reception",
   "metadata": {},
   "source": [
    "### Задача 1.43"
   ]
  },
  {
   "cell_type": "code",
   "execution_count": 18,
   "id": "indirect-shock",
   "metadata": {},
   "outputs": [],
   "source": [
    "T1 = rt.htranslation3(x=4)\n",
    "T2 = rt.hrotation3('z', sp.pi/4)\n",
    "T3 = rt.htranslation3(y=2)"
   ]
  },
  {
   "cell_type": "code",
   "execution_count": 19,
   "id": "secret-scheme",
   "metadata": {},
   "outputs": [
    {
     "data": {
      "text/latex": [
       "$\\displaystyle \\left[\\begin{matrix}\\frac{\\sqrt{2}}{2} & - \\frac{\\sqrt{2}}{2} & 0 & 4 - \\sqrt{2}\\\\\\frac{\\sqrt{2}}{2} & \\frac{\\sqrt{2}}{2} & 0 & \\sqrt{2}\\\\0 & 0 & 1 & 0\\\\0 & 0 & 0 & 1\\end{matrix}\\right]$"
      ],
      "text/plain": [
       "Matrix([\n",
       "[sqrt(2)/2, -sqrt(2)/2, 0, 4 - sqrt(2)],\n",
       "[sqrt(2)/2,  sqrt(2)/2, 0,     sqrt(2)],\n",
       "[        0,          0, 1,           0],\n",
       "[        0,          0, 0,           1]])"
      ]
     },
     "execution_count": 19,
     "metadata": {},
     "output_type": "execute_result"
    }
   ],
   "source": [
    "Ta = T1 * T2 * T3\n",
    "Ta"
   ]
  },
  {
   "cell_type": "code",
   "execution_count": 20,
   "id": "mineral-structure",
   "metadata": {},
   "outputs": [
    {
     "data": {
      "text/latex": [
       "$\\displaystyle \\left[\\begin{matrix}\\frac{\\sqrt{2}}{2} & - \\frac{\\sqrt{2}}{2} & 0 & 2 \\sqrt{2}\\\\\\frac{\\sqrt{2}}{2} & \\frac{\\sqrt{2}}{2} & 0 & 2 + 2 \\sqrt{2}\\\\0 & 0 & 1 & 0\\\\0 & 0 & 0 & 1\\end{matrix}\\right]$"
      ],
      "text/plain": [
       "Matrix([\n",
       "[sqrt(2)/2, -sqrt(2)/2, 0,     2*sqrt(2)],\n",
       "[sqrt(2)/2,  sqrt(2)/2, 0, 2 + 2*sqrt(2)],\n",
       "[        0,          0, 1,             0],\n",
       "[        0,          0, 0,             1]])"
      ]
     },
     "execution_count": 20,
     "metadata": {},
     "output_type": "execute_result"
    }
   ],
   "source": [
    "Tb = T3 * T2 * T1\n",
    "Tb"
   ]
  },
  {
   "cell_type": "code",
   "execution_count": 21,
   "id": "social-registrar",
   "metadata": {},
   "outputs": [
    {
     "data": {
      "application/vnd.jupyter.widget-view+json": {
       "model_id": "b1231793814045f2b41f4819e61dde55",
       "version_major": 2,
       "version_minor": 0
      },
      "text/plain": [
       "VBox(children=(HBox(children=(ToggleButtons(options=('Ротирај', 'Придвижи се'), value='Ротирај'), BoundedFloat…"
      ]
     },
     "execution_count": 21,
     "metadata": {},
     "output_type": "execute_result"
    }
   ],
   "source": [
    "playground = rt.AnimationPlayground()\n",
    "playground.play(checkpoint_pose=Ta)"
   ]
  },
  {
   "cell_type": "code",
   "execution_count": 22,
   "id": "popular-limitation",
   "metadata": {},
   "outputs": [
    {
     "data": {
      "application/vnd.jupyter.widget-view+json": {
       "model_id": "f8db8c91aa0d43b8a4dd77d242d635de",
       "version_major": 2,
       "version_minor": 0
      },
      "text/plain": [
       "VBox(children=(HBox(children=(ToggleButtons(options=('Ротирај', 'Придвижи се'), value='Ротирај'), BoundedFloat…"
      ]
     },
     "execution_count": 22,
     "metadata": {},
     "output_type": "execute_result"
    }
   ],
   "source": [
    "playground = rt.AnimationPlayground()\n",
    "playground.play(checkpoint_pose=Tb)"
   ]
  }
 ],
 "metadata": {
  "kernelspec": {
   "display_name": "Python 3 (ipykernel)",
   "language": "python",
   "name": "python3"
  },
  "language_info": {
   "codemirror_mode": {
    "name": "ipython",
    "version": 3
   },
   "file_extension": ".py",
   "mimetype": "text/x-python",
   "name": "python",
   "nbconvert_exporter": "python",
   "pygments_lexer": "ipython3",
   "version": "3.13.2"
  }
 },
 "nbformat": 4,
 "nbformat_minor": 5
}
