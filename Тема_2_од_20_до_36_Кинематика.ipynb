{
 "cells": [
  {
   "cell_type": "code",
   "execution_count": 2,
   "metadata": {},
   "outputs": [],
   "source": [
    "import sympy as sp\n",
    "import script as rt\n",
    "\n",
    "from IPython.lib.display import IFrame"
   ]
  },
  {
   "cell_type": "markdown",
   "metadata": {},
   "source": [
    "### Задача 2.20"
   ]
  },
  {
   "cell_type": "code",
   "execution_count": 2,
   "metadata": {},
   "outputs": [
    {
     "data": {
      "text/html": [
       "\n",
       "        <iframe\n",
       "            width=\"400\"\n",
       "            height=\"300\"\n",
       "            src=\"https://drive.google.com/file/d/1rzCPA7JWwpqOH-Z5-tun-dHCp5YKZ5vB/preview\"\n",
       "            frameborder=\"0\"\n",
       "            allowfullscreen\n",
       "        ></iframe>\n",
       "        "
      ],
      "text/plain": [
       "<IPython.lib.display.IFrame at 0x7fabc61b10a0>"
      ]
     },
     "execution_count": 2,
     "metadata": {},
     "output_type": "execute_result"
    }
   ],
   "source": [
    "IFrame(src='https://drive.google.com/file/d/1rzCPA7JWwpqOH-Z5-tun-dHCp5YKZ5vB/preview', width='400', height='300')"
   ]
  },
  {
   "cell_type": "markdown",
   "metadata": {},
   "source": [
    "Оваа задача ќе ја пресметаме според формулите од книгата.\n",
    "$$ \\theta = \\arccos(\\frac{trace(R) - 1}{2}) $$\n",
    "$$ \\mathbf{l} = \\frac{1}{2\\sin{\\theta}}  \\begin{bmatrix} r_{32} - r_{23} \\\\ r_{13} - r_{31} \\\\ r_{21} - r_{12} \\end{bmatrix}$$\n",
    "\n",
    "На ова треба да се дододе објаснување за два специјални случаи. \n",
    "1. Првиот специјален случај е кога ќе се добие $\\theta = 0$. Тогаш нема потреба да го бараме векторот $\\mathbf{l}$ бидејќи ќе ротираме за $0$ степени околу тој вектор. \n",
    "2. Вториот специјален случај е кога матрицата $R$ е симетрична. Следува дека $\\mathbf{l}$ е вектор сочинет од нули и дадената равенка нема да важи. Затоа векторот $\\mathbf{l}$ ќе го пресметаме како сопствениот вектор на $R$ за кој имаме сопствена вредност $1$. Повеќе прочитајте [тука](https://en.wikipedia.org/wiki/Rotation_matrix#Conversion_from_and_to_axis%E2%80%93angle)."
   ]
  },
  {
   "cell_type": "markdown",
   "metadata": {},
   "source": [
    "Да ја погледнеме задачата. Дадена ни е матрицата $R$."
   ]
  },
  {
   "cell_type": "code",
   "execution_count": 3,
   "metadata": {},
   "outputs": [
    {
     "data": {
      "text/latex": [
       "$\\displaystyle \\left[\\begin{matrix}\\frac{1}{9} & - \\frac{8}{9} & - \\frac{4}{9}\\\\\\frac{4}{9} & \\frac{4}{9} & \\frac{7}{9}\\\\\\frac{8}{9} & - \\frac{1}{9} & \\frac{4}{9}\\end{matrix}\\right]$"
      ],
      "text/plain": [
       "Matrix([\n",
       "[1/9, -8/9, -4/9],\n",
       "[4/9,  4/9,  7/9],\n",
       "[8/9, -1/9,  4/9]])"
      ]
     },
     "execution_count": 3,
     "metadata": {},
     "output_type": "execute_result"
    }
   ],
   "source": [
    "R = sp.Matrix([\n",
    "    [1, -8, -4],\n",
    "    [4, 4, 7],\n",
    "    [8, -1, 4],\n",
    "]) / 9\n",
    "R"
   ]
  },
  {
   "cell_type": "markdown",
   "metadata": {},
   "source": [
    "Ја пресметуваме $\\theta$."
   ]
  },
  {
   "cell_type": "code",
   "execution_count": 4,
   "metadata": {},
   "outputs": [
    {
     "data": {
      "text/latex": [
       "$\\displaystyle \\frac{\\pi}{2}$"
      ],
      "text/plain": [
       "pi/2"
      ]
     },
     "execution_count": 4,
     "metadata": {},
     "output_type": "execute_result"
    }
   ],
   "source": [
    "theta = sp.acos((sp.trace(R) - 1) / 2)\n",
    "theta"
   ]
  },
  {
   "cell_type": "markdown",
   "metadata": {},
   "source": [
    "Решението кое го добиваме за $\\theta$ е $\\pi/2$. Според теоријата за ротација околу произволна оска, оваа вредност на $\\theta$ заедно со соодветната вредност на $\\mathbf{l}$."
   ]
  },
  {
   "cell_type": "code",
   "execution_count": 5,
   "metadata": {},
   "outputs": [
    {
     "data": {
      "text/latex": [
       "$\\displaystyle \\left[\\begin{matrix}- \\frac{4}{9}\\\\- \\frac{2}{3}\\\\\\frac{2}{3}\\end{matrix}\\right]$"
      ],
      "text/plain": [
       "Matrix([\n",
       "[-4/9],\n",
       "[-2/3],\n",
       "[ 2/3]])"
      ]
     },
     "execution_count": 5,
     "metadata": {},
     "output_type": "execute_result"
    }
   ],
   "source": [
    "l = sp.Matrix([\n",
    "    R[2, 1] - R[1, 2], \n",
    "    R[0, 2] - R[2, 0], \n",
    "    R[1, 0] - R[0, 1]\n",
    "]) / (2 * sp.sin(theta))\n",
    "l"
   ]
  },
  {
   "cell_type": "markdown",
   "metadata": {},
   "source": [
    " Постои и друго решение, а тоа е $-\\theta$ со $-\\mathbf{l}$."
   ]
  },
  {
   "cell_type": "code",
   "execution_count": 6,
   "metadata": {},
   "outputs": [
    {
     "data": {
      "text/latex": [
       "$\\displaystyle \\left[\\begin{matrix}\\frac{4}{9}\\\\\\frac{2}{3}\\\\- \\frac{2}{3}\\end{matrix}\\right]$"
      ],
      "text/plain": [
       "Matrix([\n",
       "[ 4/9],\n",
       "[ 2/3],\n",
       "[-2/3]])"
      ]
     },
     "execution_count": 6,
     "metadata": {},
     "output_type": "execute_result"
    }
   ],
   "source": [
    "theta2 = -theta\n",
    "sp.Matrix([\n",
    "    R[2, 1] - R[1, 2], \n",
    "    R[0, 2] - R[2, 0], \n",
    "    R[1, 0] - R[0, 1]\n",
    "]) / (2 * sp.sin(theta2))"
   ]
  },
  {
   "cell_type": "markdown",
   "metadata": {},
   "source": [
    "### Задача 2.21"
   ]
  },
  {
   "cell_type": "markdown",
   "metadata": {},
   "source": [
    "Оваа задача се решава исто како задачата 2.20."
   ]
  },
  {
   "cell_type": "code",
   "execution_count": 7,
   "metadata": {},
   "outputs": [
    {
     "data": {
      "text/latex": [
       "$\\displaystyle \\left[\\begin{matrix}\\frac{1}{2} & \\frac{\\sqrt{6}}{4} & - \\frac{\\sqrt{6}}{4}\\\\- \\frac{\\sqrt{6}}{4} & \\frac{3}{4} & \\frac{1}{4}\\\\\\frac{\\sqrt{6}}{4} & \\frac{1}{4} & \\frac{3}{4}\\end{matrix}\\right]$"
      ],
      "text/plain": [
       "Matrix([\n",
       "[       1/2, sqrt(6)/4, -sqrt(6)/4],\n",
       "[-sqrt(6)/4,       3/4,        1/4],\n",
       "[ sqrt(6)/4,       1/4,        3/4]])"
      ]
     },
     "execution_count": 7,
     "metadata": {},
     "output_type": "execute_result"
    }
   ],
   "source": [
    "R = sp.Matrix([\n",
    "    ['1/2', sp.sqrt(6)/4, -sp.sqrt(6)/4],\n",
    "    [-sp.sqrt(6)/4, '3/4', '1/4'],\n",
    "    [sp.sqrt(6)/4, '1/4', '3/4'],\n",
    "])\n",
    "R"
   ]
  },
  {
   "cell_type": "code",
   "execution_count": 8,
   "metadata": {},
   "outputs": [
    {
     "data": {
      "text/latex": [
       "$\\displaystyle \\frac{\\pi}{3}$"
      ],
      "text/plain": [
       "pi/3"
      ]
     },
     "execution_count": 8,
     "metadata": {},
     "output_type": "execute_result"
    }
   ],
   "source": [
    "theta = sp.acos((sp.trace(R) - 1) / 2)\n",
    "theta"
   ]
  },
  {
   "cell_type": "code",
   "execution_count": 9,
   "metadata": {},
   "outputs": [
    {
     "data": {
      "text/latex": [
       "$\\displaystyle \\left[\\begin{matrix}0\\\\- \\frac{\\sqrt{2}}{2}\\\\- \\frac{\\sqrt{2}}{2}\\end{matrix}\\right]$"
      ],
      "text/plain": [
       "Matrix([\n",
       "[         0],\n",
       "[-sqrt(2)/2],\n",
       "[-sqrt(2)/2]])"
      ]
     },
     "execution_count": 9,
     "metadata": {},
     "output_type": "execute_result"
    }
   ],
   "source": [
    "sp.Matrix([\n",
    "    R[2, 1] - R[1, 2], \n",
    "    R[0, 2] - R[2, 0], \n",
    "    R[1, 0] - R[0, 1]\n",
    "]) / (2 * sp.sin(theta))"
   ]
  },
  {
   "cell_type": "code",
   "execution_count": 10,
   "metadata": {},
   "outputs": [
    {
     "data": {
      "text/latex": [
       "$\\displaystyle \\left[\\begin{matrix}0\\\\\\frac{\\sqrt{2}}{2}\\\\\\frac{\\sqrt{2}}{2}\\end{matrix}\\right]$"
      ],
      "text/plain": [
       "Matrix([\n",
       "[        0],\n",
       "[sqrt(2)/2],\n",
       "[sqrt(2)/2]])"
      ]
     },
     "execution_count": 10,
     "metadata": {},
     "output_type": "execute_result"
    }
   ],
   "source": [
    "theta2 = -theta\n",
    "sp.Matrix([\n",
    "    R[2, 1] - R[1, 2], \n",
    "    R[0, 2] - R[2, 0], \n",
    "    R[1, 0] - R[0, 1]\n",
    "]) / (2 * sp.sin(theta2))"
   ]
  },
  {
   "cell_type": "markdown",
   "metadata": {},
   "source": [
    "### Задача 2.22\n",
    "\n",
    "Се решава рачно."
   ]
  },
  {
   "cell_type": "markdown",
   "metadata": {},
   "source": [
    "### Задача 2.23"
   ]
  },
  {
   "cell_type": "code",
   "execution_count": 11,
   "metadata": {},
   "outputs": [
    {
     "data": {
      "text/html": [
       "\n",
       "        <iframe\n",
       "            width=\"400\"\n",
       "            height=\"300\"\n",
       "            src=\"https://drive.google.com/file/d/17Vwi3FMmedTnaxgldSN-t0LQ6qgHO7Wd/preview\"\n",
       "            frameborder=\"0\"\n",
       "            allowfullscreen\n",
       "        ></iframe>\n",
       "        "
      ],
      "text/plain": [
       "<IPython.lib.display.IFrame at 0x7fabc5e1c040>"
      ]
     },
     "execution_count": 11,
     "metadata": {},
     "output_type": "execute_result"
    }
   ],
   "source": [
    "IFrame(src='https://drive.google.com/file/d/17Vwi3FMmedTnaxgldSN-t0LQ6qgHO7Wd/preview', width='400', height='300')"
   ]
  },
  {
   "cell_type": "code",
   "execution_count": 12,
   "metadata": {},
   "outputs": [
    {
     "data": {
      "application/vnd.jupyter.widget-view+json": {
       "model_id": "2d6ce4a058a4443f8da90e9f79218b92",
       "version_major": 2,
       "version_minor": 0
      },
      "text/plain": [
       "VBox(children=(HBox(children=(ToggleButtons(options=('Ротирај', 'Придвижи се'), value='Ротирај'), BoundedFloat…"
      ]
     },
     "metadata": {},
     "output_type": "display_data"
    }
   ],
   "source": [
    "playground = rt.AnimationPlayground()\n",
    "playground.play(point=rt.hpoint3(3, 4, -5))"
   ]
  },
  {
   "cell_type": "markdown",
   "metadata": {},
   "source": [
    "За да ја определиме новата позиција на точката $P$, прво треба да ја пресметаме новата положба на координатниот систем $B$. Ќе ги следиме постапките кои се дадени во задачата, а потоа ќе ја најдеме новата вредност на $P$.\n",
    "\n",
    "На почетокот $B$ се совпаѓа со референтниот координатен систем $A$, па следува дека $B$ можеме да го претставиме преку трансформационата матрица $T_0$ пред да започнеме со пресметување на наброените трансформации."
   ]
  },
  {
   "cell_type": "code",
   "execution_count": 13,
   "metadata": {},
   "outputs": [
    {
     "data": {
      "text/latex": [
       "$\\displaystyle \\left[\\begin{matrix}1 & 0 & 0 & 0\\\\0 & 1 & 0 & 0\\\\0 & 0 & 1 & 0\\\\0 & 0 & 0 & 1\\end{matrix}\\right]$"
      ],
      "text/plain": [
       "Matrix([\n",
       "[1, 0, 0, 0],\n",
       "[0, 1, 0, 0],\n",
       "[0, 0, 1, 0],\n",
       "[0, 0, 0, 1]])"
      ]
     },
     "execution_count": 13,
     "metadata": {},
     "output_type": "execute_result"
    }
   ],
   "source": [
    "T0 = rt.hpose3()\n",
    "T0"
   ]
  },
  {
   "cell_type": "markdown",
   "metadata": {},
   "source": [
    "Понатаму одиме постапно и секоја наредна матрица ја множиме од лево или од десно на моменталната состојба на $B$.\n",
    "1. Ако наредната матрица означува трансформација по референтните оски, ја множиме од левата страна на дотогашната трансформација. Пример: Ако $T_0$ е моментална трансформација, а $T_1$ е наредната, новата трансформација ја добиваме како $T_1 T_0$.\n",
    "1. Ако наредната матрица означува трансформација по локалните оски, ја множиме од десната страна на дотогашната трансформација. Пример: Ако $T_0$ е моментална трансформација, а $T_1$ е наредната, новата трансформација ја добиваме како $T_0 T_1$.\n",
    "\n",
    "Конечната трансформација ќе ја добиеме откако ќе ги измножиме сите наброени трансформации.\n",
    "\n",
    "Забележете дека првата трансформација $T_0$ во овој случај може да се испушти и директно да започне постапката на можење од $T_1$ бидејќи $T_0$ е единечна матрица и нема да влијае на вредноста на конечната трансформација."
   ]
  },
  {
   "cell_type": "markdown",
   "metadata": {},
   "source": [
    "Да се вратиме на оваа задача.\n",
    "1. Почнуваме од $T_1$.\n",
    "1. $T_2$ е трансформација по референтна оска и ќе ја помножиме од левата страна на дотогашната трансформација.\n",
    "1. $T_3$ е трансформација по локална оска и ќе ја помножиме од десната страна на дотогашната трансформација.\n",
    "1. $T_4$ е трансформација по локална оска и ќе ја помножиме од десната страна на дотогашната трансформација."
   ]
  },
  {
   "cell_type": "code",
   "execution_count": 14,
   "metadata": {},
   "outputs": [
    {
     "data": {
      "text/latex": [
       "$\\displaystyle \\left[\\begin{matrix}\\frac{\\sqrt{2}}{2} & - \\frac{\\sqrt{2}}{2} & 0 & - \\frac{3 \\sqrt{2}}{2}\\\\\\frac{\\sqrt{6}}{4} & \\frac{\\sqrt{6}}{4} & \\frac{1}{2} & 3 + \\frac{15 \\sqrt{6}}{4}\\\\- \\frac{\\sqrt{2}}{4} & - \\frac{\\sqrt{2}}{4} & \\frac{\\sqrt{3}}{2} & - \\frac{15 \\sqrt{2}}{4}\\\\0 & 0 & 0 & 1\\end{matrix}\\right]$"
      ],
      "text/plain": [
       "Matrix([\n",
       "[ sqrt(2)/2, -sqrt(2)/2,         0,     -3*sqrt(2)/2],\n",
       "[ sqrt(6)/4,  sqrt(6)/4,       1/2, 3 + 15*sqrt(6)/4],\n",
       "[-sqrt(2)/4, -sqrt(2)/4, sqrt(3)/2,    -15*sqrt(2)/4],\n",
       "[         0,          0,         0,                1]])"
      ]
     },
     "execution_count": 14,
     "metadata": {},
     "output_type": "execute_result"
    }
   ],
   "source": [
    "T1 = rt.hrotation3('x', -sp.pi/6)\n",
    "T2 = rt.htranslation3(y=3)\n",
    "T3 = rt.hrotation3('a', sp.pi/4)\n",
    "T4 = rt.htranslation3(x=6, y=9)\n",
    "T = T2 * T1 * T3 * T4\n",
    "T"
   ]
  },
  {
   "cell_type": "markdown",
   "metadata": {},
   "source": [
    "На крајот ја добиваме новата вредност на точката $P$."
   ]
  },
  {
   "cell_type": "code",
   "execution_count": 15,
   "metadata": {},
   "outputs": [
    {
     "data": {
      "text/latex": [
       "$\\displaystyle \\left[\\begin{matrix}-2.82842712474619\\\\13.9721935853075\\\\-12.1083016119742\\\\1.0\\end{matrix}\\right]$"
      ],
      "text/plain": [
       "Matrix([\n",
       "[-2.82842712474619],\n",
       "[ 13.9721935853075],\n",
       "[-12.1083016119742],\n",
       "[              1.0]])"
      ]
     },
     "execution_count": 15,
     "metadata": {},
     "output_type": "execute_result"
    }
   ],
   "source": [
    "point = rt.hpoint3(3, 4, -5)\n",
    "r = T * point\n",
    "r.evalf()"
   ]
  },
  {
   "cell_type": "markdown",
   "metadata": {},
   "source": [
    "### Задача 2.24"
   ]
  },
  {
   "cell_type": "markdown",
   "metadata": {},
   "source": [
    "Се решава исто како задачата 2.23."
   ]
  },
  {
   "cell_type": "markdown",
   "metadata": {},
   "source": [
    "За појаснување:\n",
    "1. Почнуваме од $T_1$.\n",
    "1. $T_2$ е трансформација по референтна оска и ќе ја помножиме од левата страна на дотогашната трансформација.\n",
    "1. $T_3$ е трансформација по референтна оска и ќе ја помножиме од левата страна на дотогашната трансформација."
   ]
  },
  {
   "cell_type": "code",
   "execution_count": 16,
   "metadata": {},
   "outputs": [
    {
     "data": {
      "text/latex": [
       "$\\displaystyle \\left[\\begin{matrix}0 & 0 & 1 & -3\\\\1 & 0 & 0 & 5\\\\0 & 1 & 0 & 6\\\\0 & 0 & 0 & 1\\end{matrix}\\right]$"
      ],
      "text/plain": [
       "Matrix([\n",
       "[0, 0, 1, -3],\n",
       "[1, 0, 0,  5],\n",
       "[0, 1, 0,  6],\n",
       "[0, 0, 0,  1]])"
      ]
     },
     "execution_count": 16,
     "metadata": {},
     "output_type": "execute_result"
    }
   ],
   "source": [
    "T1 = rt.hrotation3('x', sp.pi/2)\n",
    "T2 = rt.htranslation3(x=5, y=3, z=6)\n",
    "T3 = rt.hrotation3('z', sp.pi/2)\n",
    "T = T3 * T2 * T1\n",
    "T"
   ]
  },
  {
   "cell_type": "code",
   "execution_count": 17,
   "metadata": {},
   "outputs": [
    {
     "data": {
      "text/latex": [
       "$\\displaystyle \\left[\\begin{matrix}1\\\\10\\\\9\\\\1\\end{matrix}\\right]$"
      ],
      "text/plain": [
       "Matrix([\n",
       "[ 1],\n",
       "[10],\n",
       "[ 9],\n",
       "[ 1]])"
      ]
     },
     "execution_count": 17,
     "metadata": {},
     "output_type": "execute_result"
    }
   ],
   "source": [
    "point = rt.hpoint3(5, 3, 4)\n",
    "T * point"
   ]
  },
  {
   "cell_type": "markdown",
   "metadata": {},
   "source": [
    "### Задача 2.25"
   ]
  },
  {
   "cell_type": "code",
   "execution_count": 18,
   "metadata": {},
   "outputs": [
    {
     "data": {
      "text/html": [
       "\n",
       "        <iframe\n",
       "            width=\"400\"\n",
       "            height=\"300\"\n",
       "            src=\"https://drive.google.com/file/d/1XdIbDiuEUaXPyE1pDTyL3cYHiqOvg7xX/preview\"\n",
       "            frameborder=\"0\"\n",
       "            allowfullscreen\n",
       "        ></iframe>\n",
       "        "
      ],
      "text/plain": [
       "<IPython.lib.display.IFrame at 0x7fabad0cdc70>"
      ]
     },
     "execution_count": 18,
     "metadata": {},
     "output_type": "execute_result"
    }
   ],
   "source": [
    "IFrame(src='https://drive.google.com/file/d/1XdIbDiuEUaXPyE1pDTyL3cYHiqOvg7xX/preview', width='400', height='300')"
   ]
  },
  {
   "cell_type": "markdown",
   "metadata": {},
   "source": [
    "Се решава исто како задачата 2.23."
   ]
  },
  {
   "cell_type": "code",
   "execution_count": 19,
   "metadata": {},
   "outputs": [
    {
     "data": {
      "text/latex": [
       "$\\displaystyle \\left[\\begin{matrix}0 & -1 & 0 & 5\\\\0 & 0 & -1 & 3\\\\1 & 0 & 0 & 6\\\\0 & 0 & 0 & 1\\end{matrix}\\right]$"
      ],
      "text/plain": [
       "Matrix([\n",
       "[0, -1,  0, 5],\n",
       "[0,  0, -1, 3],\n",
       "[1,  0,  0, 6],\n",
       "[0,  0,  0, 1]])"
      ]
     },
     "execution_count": 19,
     "metadata": {},
     "output_type": "execute_result"
    }
   ],
   "source": [
    "T1 = rt.hrotation3('x', sp.pi/2)\n",
    "T2 = rt.hrotation3('a', sp.pi/2)\n",
    "T3 = rt.htranslation3(x=5, y=3, z=6)\n",
    "T = T3 * T1 * T2\n",
    "T"
   ]
  },
  {
   "cell_type": "code",
   "execution_count": 20,
   "metadata": {},
   "outputs": [
    {
     "data": {
      "text/latex": [
       "$\\displaystyle \\left[\\begin{matrix}2\\\\-2\\\\8\\\\1\\end{matrix}\\right]$"
      ],
      "text/plain": [
       "Matrix([\n",
       "[ 2],\n",
       "[-2],\n",
       "[ 8],\n",
       "[ 1]])"
      ]
     },
     "execution_count": 20,
     "metadata": {},
     "output_type": "execute_result"
    }
   ],
   "source": [
    "point = rt.hpoint3(2, 3, 5)\n",
    "T * point"
   ]
  },
  {
   "cell_type": "code",
   "execution_count": 21,
   "metadata": {},
   "outputs": [
    {
     "data": {
      "application/vnd.jupyter.widget-view+json": {
       "model_id": "0d740d9b811645b4976ae083086fb147",
       "version_major": 2,
       "version_minor": 0
      },
      "text/plain": [
       "VBox(children=(HBox(children=(ToggleButtons(options=('Ротирај', 'Придвижи се'), value='Ротирај'), BoundedFloat…"
      ]
     },
     "metadata": {},
     "output_type": "display_data"
    }
   ],
   "source": [
    "playground = rt.AnimationPlayground()\n",
    "playground.play(point=rt.hpoint3(2, 3, 5))"
   ]
  },
  {
   "cell_type": "markdown",
   "metadata": {},
   "source": [
    "### Задача 2.26"
   ]
  },
  {
   "cell_type": "markdown",
   "metadata": {},
   "source": [
    "Се решава исто како задачата 2.23."
   ]
  },
  {
   "cell_type": "markdown",
   "metadata": {},
   "source": [
    "Единствена разлика е запишувањето на аглите како променливи. На крајот тие променливи се заменуваат со зададената вредност $\\pi/2$."
   ]
  },
  {
   "cell_type": "code",
   "execution_count": 22,
   "metadata": {},
   "outputs": [
    {
     "data": {
      "text/latex": [
       "$\\displaystyle \\phi$"
      ],
      "text/plain": [
       "phi"
      ]
     },
     "execution_count": 22,
     "metadata": {},
     "output_type": "execute_result"
    }
   ],
   "source": [
    "theta, phi, alpha, beta, gamma = sp.symbols('theta, phi, alpha, beta, gamma')\n",
    "phi"
   ]
  },
  {
   "cell_type": "code",
   "execution_count": 23,
   "metadata": {},
   "outputs": [
    {
     "data": {
      "text/latex": [
       "$\\displaystyle \\left[\\begin{matrix}\\left(- \\sin{\\left(\\alpha \\right)} \\sin{\\left(\\phi \\right)} \\cos{\\left(\\theta \\right)} + \\cos{\\left(\\alpha \\right)} \\cos{\\left(\\phi \\right)}\\right) \\cos{\\left(\\beta \\right)} - \\sin{\\left(\\alpha \\right)} \\sin{\\left(\\beta \\right)} \\sin{\\left(\\theta \\right)} & - \\sin{\\left(\\alpha \\right)} \\cos{\\left(\\phi \\right)} \\cos{\\left(\\theta \\right)} - \\sin{\\left(\\phi \\right)} \\cos{\\left(\\alpha \\right)} & \\left(- \\sin{\\left(\\alpha \\right)} \\sin{\\left(\\phi \\right)} \\cos{\\left(\\theta \\right)} + \\cos{\\left(\\alpha \\right)} \\cos{\\left(\\phi \\right)}\\right) \\sin{\\left(\\beta \\right)} + \\sin{\\left(\\alpha \\right)} \\sin{\\left(\\theta \\right)} \\cos{\\left(\\beta \\right)} & 0\\\\\\left(\\left(- \\sin{\\left(\\gamma \\right)} \\sin{\\left(\\theta \\right)} + \\cos{\\left(\\alpha \\right)} \\cos{\\left(\\gamma \\right)} \\cos{\\left(\\theta \\right)}\\right) \\sin{\\left(\\phi \\right)} + \\sin{\\left(\\alpha \\right)} \\cos{\\left(\\gamma \\right)} \\cos{\\left(\\phi \\right)}\\right) \\cos{\\left(\\beta \\right)} - \\left(- \\sin{\\left(\\gamma \\right)} \\cos{\\left(\\theta \\right)} - \\sin{\\left(\\theta \\right)} \\cos{\\left(\\alpha \\right)} \\cos{\\left(\\gamma \\right)}\\right) \\sin{\\left(\\beta \\right)} & \\left(- \\sin{\\left(\\gamma \\right)} \\sin{\\left(\\theta \\right)} + \\cos{\\left(\\alpha \\right)} \\cos{\\left(\\gamma \\right)} \\cos{\\left(\\theta \\right)}\\right) \\cos{\\left(\\phi \\right)} - \\sin{\\left(\\alpha \\right)} \\sin{\\left(\\phi \\right)} \\cos{\\left(\\gamma \\right)} & \\left(\\left(- \\sin{\\left(\\gamma \\right)} \\sin{\\left(\\theta \\right)} + \\cos{\\left(\\alpha \\right)} \\cos{\\left(\\gamma \\right)} \\cos{\\left(\\theta \\right)}\\right) \\sin{\\left(\\phi \\right)} + \\sin{\\left(\\alpha \\right)} \\cos{\\left(\\gamma \\right)} \\cos{\\left(\\phi \\right)}\\right) \\sin{\\left(\\beta \\right)} + \\left(- \\sin{\\left(\\gamma \\right)} \\cos{\\left(\\theta \\right)} - \\sin{\\left(\\theta \\right)} \\cos{\\left(\\alpha \\right)} \\cos{\\left(\\gamma \\right)}\\right) \\cos{\\left(\\beta \\right)} & 0\\\\\\left(\\left(\\sin{\\left(\\gamma \\right)} \\cos{\\left(\\alpha \\right)} \\cos{\\left(\\theta \\right)} + \\sin{\\left(\\theta \\right)} \\cos{\\left(\\gamma \\right)}\\right) \\sin{\\left(\\phi \\right)} + \\sin{\\left(\\alpha \\right)} \\sin{\\left(\\gamma \\right)} \\cos{\\left(\\phi \\right)}\\right) \\cos{\\left(\\beta \\right)} - \\left(- \\sin{\\left(\\gamma \\right)} \\sin{\\left(\\theta \\right)} \\cos{\\left(\\alpha \\right)} + \\cos{\\left(\\gamma \\right)} \\cos{\\left(\\theta \\right)}\\right) \\sin{\\left(\\beta \\right)} & \\left(\\sin{\\left(\\gamma \\right)} \\cos{\\left(\\alpha \\right)} \\cos{\\left(\\theta \\right)} + \\sin{\\left(\\theta \\right)} \\cos{\\left(\\gamma \\right)}\\right) \\cos{\\left(\\phi \\right)} - \\sin{\\left(\\alpha \\right)} \\sin{\\left(\\gamma \\right)} \\sin{\\left(\\phi \\right)} & \\left(\\left(\\sin{\\left(\\gamma \\right)} \\cos{\\left(\\alpha \\right)} \\cos{\\left(\\theta \\right)} + \\sin{\\left(\\theta \\right)} \\cos{\\left(\\gamma \\right)}\\right) \\sin{\\left(\\phi \\right)} + \\sin{\\left(\\alpha \\right)} \\sin{\\left(\\gamma \\right)} \\cos{\\left(\\phi \\right)}\\right) \\sin{\\left(\\beta \\right)} + \\left(- \\sin{\\left(\\gamma \\right)} \\sin{\\left(\\theta \\right)} \\cos{\\left(\\alpha \\right)} + \\cos{\\left(\\gamma \\right)} \\cos{\\left(\\theta \\right)}\\right) \\cos{\\left(\\beta \\right)} & 0\\\\0 & 0 & 0 & 1\\end{matrix}\\right]$"
      ],
      "text/plain": [
       "Matrix([\n",
       "[                                                                                      (-sin(alpha)*sin(phi)*cos(theta) + cos(alpha)*cos(phi))*cos(beta) - sin(alpha)*sin(beta)*sin(theta),                                                 -sin(alpha)*cos(phi)*cos(theta) - sin(phi)*cos(alpha),                                                                                       (-sin(alpha)*sin(phi)*cos(theta) + cos(alpha)*cos(phi))*sin(beta) + sin(alpha)*sin(theta)*cos(beta), 0],\n",
       "[((-sin(gamma)*sin(theta) + cos(alpha)*cos(gamma)*cos(theta))*sin(phi) + sin(alpha)*cos(gamma)*cos(phi))*cos(beta) - (-sin(gamma)*cos(theta) - sin(theta)*cos(alpha)*cos(gamma))*sin(beta), (-sin(gamma)*sin(theta) + cos(alpha)*cos(gamma)*cos(theta))*cos(phi) - sin(alpha)*sin(phi)*cos(gamma), ((-sin(gamma)*sin(theta) + cos(alpha)*cos(gamma)*cos(theta))*sin(phi) + sin(alpha)*cos(gamma)*cos(phi))*sin(beta) + (-sin(gamma)*cos(theta) - sin(theta)*cos(alpha)*cos(gamma))*cos(beta), 0],\n",
       "[ ((sin(gamma)*cos(alpha)*cos(theta) + sin(theta)*cos(gamma))*sin(phi) + sin(alpha)*sin(gamma)*cos(phi))*cos(beta) - (-sin(gamma)*sin(theta)*cos(alpha) + cos(gamma)*cos(theta))*sin(beta),  (sin(gamma)*cos(alpha)*cos(theta) + sin(theta)*cos(gamma))*cos(phi) - sin(alpha)*sin(gamma)*sin(phi),  ((sin(gamma)*cos(alpha)*cos(theta) + sin(theta)*cos(gamma))*sin(phi) + sin(alpha)*sin(gamma)*cos(phi))*sin(beta) + (-sin(gamma)*sin(theta)*cos(alpha) + cos(gamma)*cos(theta))*cos(beta), 0],\n",
       "[                                                                                                                                                                                        0,                                                                                                     0,                                                                                                                                                                                         0, 1]])"
      ]
     },
     "execution_count": 23,
     "metadata": {},
     "output_type": "execute_result"
    }
   ],
   "source": [
    "T1 = rt.hrotation3('n', theta)\n",
    "T2 = rt.hrotation3('a', phi)\n",
    "T3 = rt.hrotation3('z', alpha)\n",
    "T4 = rt.hrotation3('o', beta)\n",
    "T5 = rt.hrotation3('x', gamma)\n",
    "\n",
    "T = T5 * T3 * T1 * T2 * T4\n",
    "T"
   ]
  },
  {
   "cell_type": "code",
   "execution_count": 24,
   "metadata": {},
   "outputs": [
    {
     "data": {
      "text/latex": [
       "$\\displaystyle \\left[\\begin{matrix}-1 & 0 & 0 & 0\\\\0 & 0 & -1 & 0\\\\0 & -1 & 0 & 0\\\\0 & 0 & 0 & 1\\end{matrix}\\right]$"
      ],
      "text/plain": [
       "Matrix([\n",
       "[-1,  0,  0, 0],\n",
       "[ 0,  0, -1, 0],\n",
       "[ 0, -1,  0, 0],\n",
       "[ 0,  0,  0, 1]])"
      ]
     },
     "execution_count": 24,
     "metadata": {},
     "output_type": "execute_result"
    }
   ],
   "source": [
    "T = T.subs([(theta, sp.pi/2), (phi, sp.pi/2), (alpha, sp.pi/2), (beta, sp.pi/2), (gamma, sp.pi/2)])\n",
    "T"
   ]
  },
  {
   "cell_type": "code",
   "execution_count": 25,
   "metadata": {},
   "outputs": [
    {
     "data": {
      "text/latex": [
       "$\\displaystyle \\left[\\begin{matrix}-2\\\\0\\\\-1\\\\1\\end{matrix}\\right]$"
      ],
      "text/plain": [
       "Matrix([\n",
       "[-2],\n",
       "[ 0],\n",
       "[-1],\n",
       "[ 1]])"
      ]
     },
     "execution_count": 25,
     "metadata": {},
     "output_type": "execute_result"
    }
   ],
   "source": [
    "point = rt.hpoint3(2, 1, 0)\n",
    "T * point"
   ]
  },
  {
   "cell_type": "markdown",
   "metadata": {},
   "source": [
    "### Задача 2.27"
   ]
  },
  {
   "cell_type": "markdown",
   "metadata": {},
   "source": [
    "Се решава исто како задачата 2.23."
   ]
  },
  {
   "cell_type": "code",
   "execution_count": 26,
   "metadata": {},
   "outputs": [
    {
     "data": {
      "text/latex": [
       "$\\displaystyle \\left[\\begin{matrix}\\frac{\\sqrt{2}}{2} & - \\frac{\\sqrt{2}}{2} & 0 & - \\frac{3 \\sqrt{2}}{2}\\\\\\frac{\\sqrt{6}}{4} & \\frac{\\sqrt{6}}{4} & \\frac{1}{2} & 3 + \\frac{15 \\sqrt{6}}{4}\\\\- \\frac{\\sqrt{2}}{4} & - \\frac{\\sqrt{2}}{4} & \\frac{\\sqrt{3}}{2} & - \\frac{15 \\sqrt{2}}{4}\\\\0 & 0 & 0 & 1\\end{matrix}\\right]$"
      ],
      "text/plain": [
       "Matrix([\n",
       "[ sqrt(2)/2, -sqrt(2)/2,         0,     -3*sqrt(2)/2],\n",
       "[ sqrt(6)/4,  sqrt(6)/4,       1/2, 3 + 15*sqrt(6)/4],\n",
       "[-sqrt(2)/4, -sqrt(2)/4, sqrt(3)/2,    -15*sqrt(2)/4],\n",
       "[         0,          0,         0,                1]])"
      ]
     },
     "execution_count": 26,
     "metadata": {},
     "output_type": "execute_result"
    }
   ],
   "source": [
    "T1 = rt.hrotation3('x', -sp.pi/6)\n",
    "T2 = rt.htranslation3(y=3)\n",
    "T3 = rt.hrotation3('a', sp.pi/4)\n",
    "T4 = rt.htranslation3(x=6, y=9)\n",
    "T = T2 * T1 * T3 * T4\n",
    "T"
   ]
  },
  {
   "cell_type": "code",
   "execution_count": 27,
   "metadata": {},
   "outputs": [
    {
     "data": {
      "text/latex": [
       "$\\displaystyle \\left[\\begin{matrix}- 2 \\sqrt{2}\\\\\\frac{1}{2} + \\frac{11 \\sqrt{6}}{2}\\\\- \\frac{11 \\sqrt{2}}{2} - \\frac{5 \\sqrt{3}}{2}\\\\1\\end{matrix}\\right]$"
      ],
      "text/plain": [
       "Matrix([\n",
       "[                 -2*sqrt(2)],\n",
       "[         1/2 + 11*sqrt(6)/2],\n",
       "[-11*sqrt(2)/2 - 5*sqrt(3)/2],\n",
       "[                          1]])"
      ]
     },
     "execution_count": 27,
     "metadata": {},
     "output_type": "execute_result"
    }
   ],
   "source": [
    "point = rt.hpoint3(3, 4, -5)\n",
    "T * point"
   ]
  },
  {
   "cell_type": "markdown",
   "metadata": {},
   "source": [
    "### Задача 2.28"
   ]
  },
  {
   "cell_type": "markdown",
   "metadata": {},
   "source": [
    "Се решава исто како задачата 2.25."
   ]
  },
  {
   "cell_type": "code",
   "execution_count": 28,
   "metadata": {},
   "outputs": [
    {
     "data": {
      "text/latex": [
       "$\\displaystyle \\left[\\begin{matrix}0 & 1 & 0 & 0\\\\-1 & 0 & 0 & -3\\\\0 & 0 & 1 & 0\\\\0 & 0 & 0 & 1\\end{matrix}\\right]$"
      ],
      "text/plain": [
       "Matrix([\n",
       "[ 0, 1, 0,  0],\n",
       "[-1, 0, 0, -3],\n",
       "[ 0, 0, 1,  0],\n",
       "[ 0, 0, 0,  1]])"
      ]
     },
     "execution_count": 28,
     "metadata": {},
     "output_type": "execute_result"
    }
   ],
   "source": [
    "T1 = rt.hrotation3('a', sp.pi)\n",
    "T2 = rt.htranslation3(x=-1, y=-1)\n",
    "T3 = rt.hrotation3('a', sp.pi/2)\n",
    "T4 = rt.htranslation3(x=2, y=1)\n",
    "T = T2 * T1 * T3 * T4\n",
    "T"
   ]
  },
  {
   "cell_type": "markdown",
   "metadata": {},
   "source": [
    "### Задача 2.29"
   ]
  },
  {
   "cell_type": "markdown",
   "metadata": {},
   "source": [
    "Се решава исто како задачата 2.25."
   ]
  },
  {
   "cell_type": "code",
   "execution_count": 29,
   "metadata": {},
   "outputs": [
    {
     "data": {
      "text/latex": [
       "$\\displaystyle \\left[\\begin{matrix}0 & 1 & 0 & 3\\\\-1 & 0 & 0 & 3\\\\0 & 0 & 1 & 0\\\\0 & 0 & 0 & 1\\end{matrix}\\right]$"
      ],
      "text/plain": [
       "Matrix([\n",
       "[ 0, 1, 0, 3],\n",
       "[-1, 0, 0, 3],\n",
       "[ 0, 0, 1, 0],\n",
       "[ 0, 0, 0, 1]])"
      ]
     },
     "execution_count": 29,
     "metadata": {},
     "output_type": "execute_result"
    }
   ],
   "source": [
    "T1 = rt.htranslation3(x=1, y=1)\n",
    "T2 = rt.hrotation3('a', sp.pi)\n",
    "T3 = rt.htranslation3(x=-2, y=-2)\n",
    "T4 = rt.hrotation3('a', sp.pi/2)\n",
    "T = T1 * T2 * T3 * T4\n",
    "T"
   ]
  },
  {
   "cell_type": "markdown",
   "metadata": {},
   "source": [
    "### Задача 2.30"
   ]
  },
  {
   "cell_type": "markdown",
   "metadata": {},
   "source": [
    "За да пресметаме инверзна матрица ќе ја повикаме функцијата `inv()`."
   ]
  },
  {
   "cell_type": "code",
   "execution_count": 30,
   "metadata": {},
   "outputs": [
    {
     "data": {
      "text/latex": [
       "$\\displaystyle \\left[\\begin{matrix}0.921382073109664 & 0 & -0.390585878818227 & -3.82573860791187\\\\0 & 1 & 0 & -6\\\\0.390585878818227 & 0 & 0.921382073109664 & -3.79569354031047\\\\0 & 0 & 0 & 1\\end{matrix}\\right]$"
      ],
      "text/plain": [
       "Matrix([\n",
       "[0.921382073109664, 0, -0.390585878818227, -3.82573860791187],\n",
       "[                0, 1,                  0,                -6],\n",
       "[0.390585878818227, 0,  0.921382073109664, -3.79569354031047],\n",
       "[                0, 0,                  0,                 1]])"
      ]
     },
     "execution_count": 30,
     "metadata": {},
     "output_type": "execute_result"
    }
   ],
   "source": [
    "T2 = sp.Matrix([\n",
    "    [0.92, 0, 0.39, 5],\n",
    "    [0, 1, 0, 6],\n",
    "    [-0.39, 0, 0.92, 2],\n",
    "    [0, 0, 0, 1],\n",
    "])\n",
    "T2.inv()"
   ]
  },
  {
   "cell_type": "markdown",
   "metadata": {},
   "source": [
    "### Задача 2.31"
   ]
  },
  {
   "cell_type": "code",
   "execution_count": 31,
   "metadata": {},
   "outputs": [
    {
     "data": {
      "text/html": [
       "\n",
       "        <iframe\n",
       "            width=\"400\"\n",
       "            height=\"300\"\n",
       "            src=\"https://drive.google.com/file/d/1J9HmTEqW_V3TlJ_9O4-SPIRcVBSjxy81/preview\"\n",
       "            frameborder=\"0\"\n",
       "            allowfullscreen\n",
       "        ></iframe>\n",
       "        "
      ],
      "text/plain": [
       "<IPython.lib.display.IFrame at 0x7fabacf1b580>"
      ]
     },
     "execution_count": 31,
     "metadata": {},
     "output_type": "execute_result"
    }
   ],
   "source": [
    "IFrame(src='https://drive.google.com/file/d/1J9HmTEqW_V3TlJ_9O4-SPIRcVBSjxy81/preview', width='400', height='300')"
   ]
  },
  {
   "cell_type": "markdown",
   "metadata": {},
   "source": [
    "Ќе ги следиме упатставата од збирката. Тука само ги дефинираме матриците и ги множиме соодветно."
   ]
  },
  {
   "cell_type": "code",
   "execution_count": 32,
   "metadata": {},
   "outputs": [
    {
     "data": {
      "text/latex": [
       "$\\displaystyle \\left[\\begin{matrix}1 & 0 & 0\\\\0 & \\frac{1}{2} & - \\frac{\\sqrt{3}}{2}\\\\0 & \\frac{\\sqrt{3}}{2} & \\frac{1}{2}\\end{matrix}\\right]$"
      ],
      "text/plain": [
       "Matrix([\n",
       "[1,         0,          0],\n",
       "[0,       1/2, -sqrt(3)/2],\n",
       "[0, sqrt(3)/2,        1/2]])"
      ]
     },
     "execution_count": 32,
     "metadata": {},
     "output_type": "execute_result"
    }
   ],
   "source": [
    "F13 = sp.Matrix([\n",
    "    [0, 0, -1],\n",
    "    [0, 1, 0],\n",
    "    [1, 0, 0],\n",
    "])\n",
    "F12 = sp.Matrix([\n",
    "    [1, 0, 0],\n",
    "    [0, '1/2', -sp.sqrt(3)/2],\n",
    "    [0, sp.sqrt(3)/2, '1/2'],\n",
    "])\n",
    "F12"
   ]
  },
  {
   "cell_type": "code",
   "execution_count": 33,
   "metadata": {},
   "outputs": [
    {
     "data": {
      "text/latex": [
       "$\\displaystyle \\left[\\begin{matrix}0 & 0 & -1\\\\\\frac{\\sqrt{3}}{2} & \\frac{1}{2} & 0\\\\\\frac{1}{2} & - \\frac{\\sqrt{3}}{2} & 0\\end{matrix}\\right]$"
      ],
      "text/plain": [
       "Matrix([\n",
       "[        0,          0, -1],\n",
       "[sqrt(3)/2,        1/2,  0],\n",
       "[      1/2, -sqrt(3)/2,  0]])"
      ]
     },
     "execution_count": 33,
     "metadata": {},
     "output_type": "execute_result"
    }
   ],
   "source": [
    "F23 = F12.T * F13\n",
    "F23"
   ]
  },
  {
   "cell_type": "code",
   "execution_count": 34,
   "metadata": {},
   "outputs": [
    {
     "data": {
      "text/latex": [
       "$\\displaystyle \\left[\\begin{matrix}0 & 0 & -1\\\\\\frac{\\sqrt{3}}{2} & \\frac{1}{2} & 0\\\\\\frac{1}{2} & - \\frac{\\sqrt{3}}{2} & 0\\end{matrix}\\right]$"
      ],
      "text/plain": [
       "Matrix([\n",
       "[        0,          0, -1],\n",
       "[sqrt(3)/2,        1/2,  0],\n",
       "[      1/2, -sqrt(3)/2,  0]])"
      ]
     },
     "execution_count": 34,
     "metadata": {},
     "output_type": "execute_result"
    }
   ],
   "source": [
    "F23 = F12.inv() * F13\n",
    "F23"
   ]
  },
  {
   "cell_type": "markdown",
   "metadata": {},
   "source": [
    "### Задача 2.32"
   ]
  },
  {
   "cell_type": "markdown",
   "metadata": {},
   "source": [
    "Ги дефинираме матриците и множиме соодветно."
   ]
  },
  {
   "cell_type": "code",
   "execution_count": 35,
   "metadata": {},
   "outputs": [
    {
     "data": {
      "text/latex": [
       "$\\displaystyle \\left[\\begin{matrix}\\cos{\\left(\\phi \\right)} \\cos{\\left(\\theta \\right)} & - \\sin{\\left(\\phi \\right)} \\cos{\\left(\\theta \\right)} & \\sin{\\left(\\theta \\right)} & 0\\\\\\sin{\\left(\\phi \\right)} & \\cos{\\left(\\phi \\right)} & 0 & 0\\\\- \\sin{\\left(\\theta \\right)} \\cos{\\left(\\phi \\right)} & \\sin{\\left(\\phi \\right)} \\sin{\\left(\\theta \\right)} & \\cos{\\left(\\theta \\right)} & 0\\\\0 & 0 & 0 & 1\\end{matrix}\\right]$"
      ],
      "text/plain": [
       "Matrix([\n",
       "[ cos(phi)*cos(theta), -sin(phi)*cos(theta), sin(theta), 0],\n",
       "[            sin(phi),             cos(phi),          0, 0],\n",
       "[-sin(theta)*cos(phi),  sin(phi)*sin(theta), cos(theta), 0],\n",
       "[                   0,                    0,          0, 1]])"
      ]
     },
     "execution_count": 35,
     "metadata": {},
     "output_type": "execute_result"
    }
   ],
   "source": [
    "theta, phi = sp.symbols('theta, phi')\n",
    "T1 = rt.hrotation3('y', theta)\n",
    "T2 = rt.hrotation3('z', phi)\n",
    "T1 * T2"
   ]
  },
  {
   "cell_type": "markdown",
   "metadata": {},
   "source": [
    "### Задача 2.33"
   ]
  },
  {
   "cell_type": "code",
   "execution_count": 36,
   "metadata": {},
   "outputs": [
    {
     "data": {
      "text/html": [
       "\n",
       "        <iframe\n",
       "            width=\"400\"\n",
       "            height=\"300\"\n",
       "            src=\"https://drive.google.com/file/d/1ey3R8IFWylS3o_THxSR95XMK_2ekTB8b/preview\"\n",
       "            frameborder=\"0\"\n",
       "            allowfullscreen\n",
       "        ></iframe>\n",
       "        "
      ],
      "text/plain": [
       "<IPython.lib.display.IFrame at 0x7fabad0248b0>"
      ]
     },
     "execution_count": 36,
     "metadata": {},
     "output_type": "execute_result"
    }
   ],
   "source": [
    "IFrame(src='https://drive.google.com/file/d/1ey3R8IFWylS3o_THxSR95XMK_2ekTB8b/preview', width='400', height='300')"
   ]
  },
  {
   "cell_type": "markdown",
   "metadata": {},
   "source": [
    "За да ја решиме оваа задача, прво ќе дефинираме сферен координате систем. Потоа ќе одротираме.\n",
    "\n",
    "Сферен координатен систем може да се дефинира како $\\mathbf{R}(z, \\gamma) \\mathbf{R}(y, \\beta) \\mathbf{Trans}(0, 0, r)$."
   ]
  },
  {
   "cell_type": "code",
   "execution_count": 40,
   "metadata": {},
   "outputs": [
    {
     "data": {
      "text/latex": [
       "$\\displaystyle \\left[\\begin{matrix}\\cos{\\left(\\beta \\right)} \\cos{\\left(\\gamma \\right)} & - \\sin{\\left(\\gamma \\right)} & \\sin{\\left(\\beta \\right)} \\cos{\\left(\\gamma \\right)} & r \\sin{\\left(\\beta \\right)} \\cos{\\left(\\gamma \\right)}\\\\\\sin{\\left(\\gamma \\right)} \\cos{\\left(\\beta \\right)} & \\cos{\\left(\\gamma \\right)} & \\sin{\\left(\\beta \\right)} \\sin{\\left(\\gamma \\right)} & r \\sin{\\left(\\beta \\right)} \\sin{\\left(\\gamma \\right)}\\\\- \\sin{\\left(\\beta \\right)} & 0 & \\cos{\\left(\\beta \\right)} & r \\cos{\\left(\\beta \\right)}\\\\0 & 0 & 0 & 1\\end{matrix}\\right]$"
      ],
      "text/plain": [
       "Matrix([\n",
       "[cos(beta)*cos(gamma), -sin(gamma), sin(beta)*cos(gamma), r*sin(beta)*cos(gamma)],\n",
       "[sin(gamma)*cos(beta),  cos(gamma), sin(beta)*sin(gamma), r*sin(beta)*sin(gamma)],\n",
       "[          -sin(beta),           0,            cos(beta),            r*cos(beta)],\n",
       "[                   0,           0,                    0,                      1]])"
      ]
     },
     "execution_count": 40,
     "metadata": {},
     "output_type": "execute_result"
    }
   ],
   "source": [
    "gamma, beta, r = sp.symbols('gamma, beta, r')\n",
    "sphere = rt.hrotation3('z', gamma) * rt.hrotation3('y', beta) * rt.htranslation3(z=r)\n",
    "sphere"
   ]
  },
  {
   "cell_type": "markdown",
   "metadata": {},
   "source": [
    "Горната дефинираност за сферен координатен систем може да се гледа како низа елементари трансформации по референтните координатни оски. А може да се гледа и како низа елементари трансформации по локалните координатни оски. Во вториот случај можеме истиот израз да го запишеме како $\\mathbf{R}(a, \\gamma) \\mathbf{R}(o, \\beta) \\mathbf{Trans}(0, 0, r)$.\n",
    "\n",
    "За да одротираме, ќе помножиме од десно со $\\mathbf{R}(o, -\\beta) \\mathbf{R}(a, -\\gamma)$."
   ]
  },
  {
   "cell_type": "code",
   "execution_count": 41,
   "metadata": {},
   "outputs": [
    {
     "data": {
      "text/latex": [
       "$\\displaystyle \\left[\\begin{matrix}\\left(\\sin^{2}{\\left(\\beta \\right)} \\cos{\\left(\\gamma \\right)} + \\cos^{2}{\\left(\\beta \\right)} \\cos{\\left(\\gamma \\right)}\\right) \\cos{\\left(\\gamma \\right)} + \\sin^{2}{\\left(\\gamma \\right)} & \\left(\\sin^{2}{\\left(\\beta \\right)} \\cos{\\left(\\gamma \\right)} + \\cos^{2}{\\left(\\beta \\right)} \\cos{\\left(\\gamma \\right)}\\right) \\sin{\\left(\\gamma \\right)} - \\sin{\\left(\\gamma \\right)} \\cos{\\left(\\gamma \\right)} & 0 & r \\sin{\\left(\\beta \\right)} \\cos{\\left(\\gamma \\right)}\\\\\\left(\\sin^{2}{\\left(\\beta \\right)} \\sin{\\left(\\gamma \\right)} + \\sin{\\left(\\gamma \\right)} \\cos^{2}{\\left(\\beta \\right)}\\right) \\cos{\\left(\\gamma \\right)} - \\sin{\\left(\\gamma \\right)} \\cos{\\left(\\gamma \\right)} & \\left(\\sin^{2}{\\left(\\beta \\right)} \\sin{\\left(\\gamma \\right)} + \\sin{\\left(\\gamma \\right)} \\cos^{2}{\\left(\\beta \\right)}\\right) \\sin{\\left(\\gamma \\right)} + \\cos^{2}{\\left(\\gamma \\right)} & 0 & r \\sin{\\left(\\beta \\right)} \\sin{\\left(\\gamma \\right)}\\\\0 & 0 & \\sin^{2}{\\left(\\beta \\right)} + \\cos^{2}{\\left(\\beta \\right)} & r \\cos{\\left(\\beta \\right)}\\\\0 & 0 & 0 & 1\\end{matrix}\\right]$"
      ],
      "text/plain": [
       "Matrix([\n",
       "[        (sin(beta)**2*cos(gamma) + cos(beta)**2*cos(gamma))*cos(gamma) + sin(gamma)**2, (sin(beta)**2*cos(gamma) + cos(beta)**2*cos(gamma))*sin(gamma) - sin(gamma)*cos(gamma),                           0, r*sin(beta)*cos(gamma)],\n",
       "[(sin(beta)**2*sin(gamma) + sin(gamma)*cos(beta)**2)*cos(gamma) - sin(gamma)*cos(gamma),         (sin(beta)**2*sin(gamma) + sin(gamma)*cos(beta)**2)*sin(gamma) + cos(gamma)**2,                           0, r*sin(beta)*sin(gamma)],\n",
       "[                                                                                     0,                                                                                      0, sin(beta)**2 + cos(beta)**2,            r*cos(beta)],\n",
       "[                                                                                     0,                                                                                      0,                           0,                      1]])"
      ]
     },
     "execution_count": 41,
     "metadata": {},
     "output_type": "execute_result"
    }
   ],
   "source": [
    "unrotated = sphere * rt.hrotation3('o', -beta) * rt.hrotation3('a', -gamma)\n",
    "unrotated"
   ]
  },
  {
   "cell_type": "markdown",
   "metadata": {},
   "source": [
    "Се добиваат сложени изрази кои можат да бидат упростени."
   ]
  },
  {
   "cell_type": "code",
   "execution_count": 42,
   "metadata": {},
   "outputs": [
    {
     "data": {
      "text/latex": [
       "$\\displaystyle \\left[\\begin{matrix}1 & 0 & 0 & r \\sin{\\left(\\beta \\right)} \\cos{\\left(\\gamma \\right)}\\\\0 & 1 & 0 & r \\sin{\\left(\\beta \\right)} \\sin{\\left(\\gamma \\right)}\\\\0 & 0 & 1 & r \\cos{\\left(\\beta \\right)}\\\\0 & 0 & 0 & 1\\end{matrix}\\right]$"
      ],
      "text/plain": [
       "Matrix([\n",
       "[1, 0, 0, r*sin(beta)*cos(gamma)],\n",
       "[0, 1, 0, r*sin(beta)*sin(gamma)],\n",
       "[0, 0, 1,            r*cos(beta)],\n",
       "[0, 0, 0,                      1]])"
      ]
     },
     "execution_count": 42,
     "metadata": {},
     "output_type": "execute_result"
    }
   ],
   "source": [
    "sp.simplify(unrotated)"
   ]
  },
  {
   "cell_type": "markdown",
   "metadata": {},
   "source": [
    "### Задача 2.34\n",
    "\n",
    "Се решава рачно користејќи го резултатот од 2.33."
   ]
  },
  {
   "cell_type": "code",
   "execution_count": 43,
   "metadata": {},
   "outputs": [
    {
     "data": {
      "text/html": [
       "\n",
       "        <iframe\n",
       "            width=\"400\"\n",
       "            height=\"300\"\n",
       "            src=\"https://drive.google.com/file/d/1ep-LBsJT8Ch7wtu01PQSGoFn6G8teI_2/preview\"\n",
       "            frameborder=\"0\"\n",
       "            allowfullscreen\n",
       "        ></iframe>\n",
       "        "
      ],
      "text/plain": [
       "<IPython.lib.display.IFrame at 0x7fabacebfd00>"
      ]
     },
     "execution_count": 43,
     "metadata": {},
     "output_type": "execute_result"
    }
   ],
   "source": [
    "IFrame(src='https://drive.google.com/file/d/1ep-LBsJT8Ch7wtu01PQSGoFn6G8teI_2/preview', width='400', height='300')"
   ]
  },
  {
   "cell_type": "code",
   "execution_count": 44,
   "metadata": {},
   "outputs": [
    {
     "data": {
      "text/latex": [
       "$\\displaystyle \\left[\\begin{matrix}\\cos{\\left(\\beta \\right)} \\cos{\\left(\\gamma \\right)} & - \\sin{\\left(\\gamma \\right)} & \\sin{\\left(\\beta \\right)} \\cos{\\left(\\gamma \\right)} & r \\sin{\\left(\\beta \\right)} \\cos{\\left(\\gamma \\right)}\\\\\\sin{\\left(\\gamma \\right)} \\cos{\\left(\\beta \\right)} & \\cos{\\left(\\gamma \\right)} & \\sin{\\left(\\beta \\right)} \\sin{\\left(\\gamma \\right)} & r \\sin{\\left(\\beta \\right)} \\sin{\\left(\\gamma \\right)}\\\\- \\sin{\\left(\\beta \\right)} & 0 & \\cos{\\left(\\beta \\right)} & r \\cos{\\left(\\beta \\right)}\\\\0 & 0 & 0 & 1\\end{matrix}\\right]$"
      ],
      "text/plain": [
       "Matrix([\n",
       "[cos(beta)*cos(gamma), -sin(gamma), sin(beta)*cos(gamma), r*sin(beta)*cos(gamma)],\n",
       "[sin(gamma)*cos(beta),  cos(gamma), sin(beta)*sin(gamma), r*sin(beta)*sin(gamma)],\n",
       "[          -sin(beta),           0,            cos(beta),            r*cos(beta)],\n",
       "[                   0,           0,                    0,                      1]])"
      ]
     },
     "execution_count": 44,
     "metadata": {},
     "output_type": "execute_result"
    }
   ],
   "source": [
    "gamma, beta, r = sp.symbols('gamma, beta, r')\n",
    "sphere = rt.hrotation3('z', gamma) * rt.hrotation3('y', beta) * rt.htranslation3(z=r)\n",
    "sphere"
   ]
  },
  {
   "cell_type": "code",
   "execution_count": 45,
   "metadata": {},
   "outputs": [
    {
     "data": {
      "text/latex": [
       "$\\displaystyle r \\sin{\\left(\\beta \\right)} \\cos{\\left(\\gamma \\right)}$"
      ],
      "text/plain": [
       "r*sin(beta)*cos(gamma)"
      ]
     },
     "execution_count": 45,
     "metadata": {},
     "output_type": "execute_result"
    }
   ],
   "source": [
    "x, y, z = sphere[:3, 3]\n",
    "x"
   ]
  },
  {
   "cell_type": "code",
   "execution_count": 46,
   "metadata": {},
   "outputs": [
    {
     "data": {
      "text/latex": [
       "$\\displaystyle \\frac{\\sin{\\left(\\gamma \\right)}}{\\cos{\\left(\\gamma \\right)}}$"
      ],
      "text/plain": [
       "sin(gamma)/cos(gamma)"
      ]
     },
     "execution_count": 46,
     "metadata": {},
     "output_type": "execute_result"
    }
   ],
   "source": [
    "y / x"
   ]
  },
  {
   "cell_type": "code",
   "execution_count": 47,
   "metadata": {},
   "outputs": [
    {
     "data": {
      "text/latex": [
       "$\\displaystyle r^{2} \\sin^{2}{\\left(\\beta \\right)}$"
      ],
      "text/plain": [
       "r**2*sin(beta)**2"
      ]
     },
     "execution_count": 47,
     "metadata": {},
     "output_type": "execute_result"
    }
   ],
   "source": [
    "t = x**2 + y**2\n",
    "t = t.simplify()\n",
    "t"
   ]
  },
  {
   "cell_type": "code",
   "execution_count": 48,
   "metadata": {},
   "outputs": [
    {
     "data": {
      "text/latex": [
       "$\\displaystyle r^{2} \\cos^{2}{\\left(\\beta \\right)}$"
      ],
      "text/plain": [
       "r**2*cos(beta)**2"
      ]
     },
     "execution_count": 48,
     "metadata": {},
     "output_type": "execute_result"
    }
   ],
   "source": [
    "z**2"
   ]
  },
  {
   "cell_type": "code",
   "execution_count": 49,
   "metadata": {},
   "outputs": [
    {
     "data": {
      "text/latex": [
       "$\\displaystyle r^{2}$"
      ],
      "text/plain": [
       "r**2"
      ]
     },
     "execution_count": 49,
     "metadata": {},
     "output_type": "execute_result"
    }
   ],
   "source": [
    "t = x**2 + y**2 + z**2\n",
    "t.simplify()"
   ]
  },
  {
   "cell_type": "code",
   "execution_count": 50,
   "metadata": {},
   "outputs": [
    {
     "data": {
      "text/latex": [
       "$\\displaystyle \\tan^{2}{\\left(\\beta \\right)}$"
      ],
      "text/plain": [
       "tan(beta)**2"
      ]
     },
     "execution_count": 50,
     "metadata": {},
     "output_type": "execute_result"
    }
   ],
   "source": [
    "t = (x**2 + y**2) / z**2\n",
    "t = t.simplify()\n",
    "t"
   ]
  },
  {
   "cell_type": "markdown",
   "metadata": {},
   "source": [
    "### Задача 2.35\n",
    "\n",
    "Се решава рачно користејќи го резултатот од 2.34."
   ]
  },
  {
   "cell_type": "markdown",
   "metadata": {},
   "source": [
    "### Задача 2.36"
   ]
  },
  {
   "cell_type": "code",
   "execution_count": 3,
   "metadata": {},
   "outputs": [
    {
     "data": {
      "text/html": [
       "\n",
       "        <iframe\n",
       "            width=\"400\"\n",
       "            height=\"300\"\n",
       "            src=\"https://drive.google.com/file/d/1JO6h0wba7Q4xo2frodQjrwbFRFnDYis7/preview\"\n",
       "            frameborder=\"0\"\n",
       "            allowfullscreen\n",
       "        ></iframe>\n",
       "        "
      ],
      "text/plain": [
       "<IPython.lib.display.IFrame at 0x7f008c04f820>"
      ]
     },
     "execution_count": 3,
     "metadata": {},
     "output_type": "execute_result"
    }
   ],
   "source": [
    "IFrame(src='https://drive.google.com/file/d/1JO6h0wba7Q4xo2frodQjrwbFRFnDYis7/preview', width='400', height='300')"
   ]
  },
  {
   "cell_type": "markdown",
   "metadata": {},
   "source": [
    "Ги дефинираме матриците и множиме соодветно."
   ]
  },
  {
   "cell_type": "code",
   "execution_count": 51,
   "metadata": {},
   "outputs": [
    {
     "data": {
      "text/latex": [
       "$\\displaystyle \\left[\\begin{matrix}- \\sin{\\left(\\theta_{1} \\right)} \\sin{\\left(\\theta_{3} \\right)} + \\cos{\\left(\\theta_{1} \\right)} \\cos{\\left(\\theta_{2} \\right)} \\cos{\\left(\\theta_{3} \\right)} & - \\sin{\\left(\\theta_{1} \\right)} \\cos{\\left(\\theta_{3} \\right)} - \\sin{\\left(\\theta_{3} \\right)} \\cos{\\left(\\theta_{1} \\right)} \\cos{\\left(\\theta_{2} \\right)} & \\sin{\\left(\\theta_{2} \\right)} \\cos{\\left(\\theta_{1} \\right)} & 0\\\\\\sin{\\left(\\theta_{1} \\right)} \\cos{\\left(\\theta_{2} \\right)} \\cos{\\left(\\theta_{3} \\right)} + \\sin{\\left(\\theta_{3} \\right)} \\cos{\\left(\\theta_{1} \\right)} & - \\sin{\\left(\\theta_{1} \\right)} \\sin{\\left(\\theta_{3} \\right)} \\cos{\\left(\\theta_{2} \\right)} + \\cos{\\left(\\theta_{1} \\right)} \\cos{\\left(\\theta_{3} \\right)} & \\sin{\\left(\\theta_{1} \\right)} \\sin{\\left(\\theta_{2} \\right)} & 0\\\\- \\sin{\\left(\\theta_{2} \\right)} \\cos{\\left(\\theta_{3} \\right)} & \\sin{\\left(\\theta_{2} \\right)} \\sin{\\left(\\theta_{3} \\right)} & \\cos{\\left(\\theta_{2} \\right)} & 0\\\\0 & 0 & 0 & 1\\end{matrix}\\right]$"
      ],
      "text/plain": [
       "Matrix([\n",
       "[-sin(theta_1)*sin(theta_3) + cos(theta_1)*cos(theta_2)*cos(theta_3), -sin(theta_1)*cos(theta_3) - sin(theta_3)*cos(theta_1)*cos(theta_2), sin(theta_2)*cos(theta_1), 0],\n",
       "[ sin(theta_1)*cos(theta_2)*cos(theta_3) + sin(theta_3)*cos(theta_1), -sin(theta_1)*sin(theta_3)*cos(theta_2) + cos(theta_1)*cos(theta_3), sin(theta_1)*sin(theta_2), 0],\n",
       "[                                         -sin(theta_2)*cos(theta_3),                                           sin(theta_2)*sin(theta_3),              cos(theta_2), 0],\n",
       "[                                                                  0,                                                                   0,                         0, 1]])"
      ]
     },
     "execution_count": 51,
     "metadata": {},
     "output_type": "execute_result"
    }
   ],
   "source": [
    "theta_1, theta_2, theta_3 = sp.symbols('theta_1, theta_2, theta_3')\n",
    "T1 = rt.hrotation3('a', theta_1)\n",
    "T2 = rt.hrotation3('o', theta_2)\n",
    "T3 = rt.hrotation3('a', theta_3)\n",
    "T1 * T2 * T3"
   ]
  },
  {
   "cell_type": "code",
   "execution_count": null,
   "metadata": {},
   "outputs": [],
   "source": []
  },
  {
   "cell_type": "code",
   "execution_count": null,
   "metadata": {},
   "outputs": [],
   "source": []
  },
  {
   "cell_type": "code",
   "execution_count": null,
   "metadata": {},
   "outputs": [],
   "source": []
  }
 ],
 "metadata": {
  "kernelspec": {
   "display_name": "Python 3",
   "language": "python",
   "name": "python3"
  },
  "language_info": {
   "codemirror_mode": {
    "name": "ipython",
    "version": 3
   },
   "file_extension": ".py",
   "mimetype": "text/x-python",
   "name": "python",
   "nbconvert_exporter": "python",
   "pygments_lexer": "ipython3",
   "version": "3.9.2"
  }
 },
 "nbformat": 4,
 "nbformat_minor": 4
}
