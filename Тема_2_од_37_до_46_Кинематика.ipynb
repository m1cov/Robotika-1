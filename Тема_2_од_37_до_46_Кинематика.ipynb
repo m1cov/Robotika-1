{
 "cells": [
  {
   "cell_type": "code",
   "execution_count": 1,
   "metadata": {},
   "outputs": [],
   "source": [
    "import sympy as sp\n",
    "import script as rt\n",
    "\n",
    "from IPython.lib.display import IFrame"
   ]
  },
  {
   "cell_type": "markdown",
   "metadata": {},
   "source": [
    "### Задача 2.37"
   ]
  },
  {
   "cell_type": "code",
   "execution_count": 2,
   "metadata": {},
   "outputs": [
    {
     "data": {
      "text/html": [
       "\n",
       "        <iframe\n",
       "            width=\"400\"\n",
       "            height=\"300\"\n",
       "            src=\"https://drive.google.com/file/d/1H7iIZOHnGs6go12jd_8X7xed-Dg7ORoL/preview\"\n",
       "            frameborder=\"0\"\n",
       "            allowfullscreen\n",
       "        ></iframe>\n",
       "        "
      ],
      "text/plain": [
       "<IPython.lib.display.IFrame at 0x7f142c6bc640>"
      ]
     },
     "execution_count": 2,
     "metadata": {},
     "output_type": "execute_result"
    }
   ],
   "source": [
    "IFrame(src='https://drive.google.com/file/d/1H7iIZOHnGs6go12jd_8X7xed-Dg7ORoL/preview', width='400', height='300')"
   ]
  },
  {
   "cell_type": "markdown",
   "metadata": {},
   "source": [
    "Првиот дел од задачата се решава исто како задача 2.25. Вториот дел од задачата, за Ојлеровите агли, не може да се реши бидејќи не е нагласено за која конфигурација на Ојлерови агли се работи. Во продолжение е прикажано решението за ZYZ Ојлеровите агли."
   ]
  },
  {
   "cell_type": "code",
   "execution_count": 3,
   "metadata": {},
   "outputs": [
    {
     "data": {
      "text/latex": [
       "$\\displaystyle \\left[\\begin{matrix}0 & -1 & 0 & 3\\\\-1 & 0 & 0 & 0\\\\0 & 0 & -1 & 0\\\\0 & 0 & 0 & 1\\end{matrix}\\right]$"
      ],
      "text/plain": [
       "Matrix([\n",
       "[ 0, -1,  0, 3],\n",
       "[-1,  0,  0, 0],\n",
       "[ 0,  0, -1, 0],\n",
       "[ 0,  0,  0, 1]])"
      ]
     },
     "execution_count": 3,
     "metadata": {},
     "output_type": "execute_result"
    }
   ],
   "source": [
    "theta_1, theta_2, theta_3 = sp.symbols('theta_1, theta_2, theta_3')\n",
    "T1 = rt.hrotation3('z', -sp.pi/2)\n",
    "T2 = rt.hrotation3('y', sp.pi)\n",
    "T3 = rt.htranslation3(x=3)\n",
    "T = T3 * T2 * T1\n",
    "T"
   ]
  },
  {
   "cell_type": "markdown",
   "metadata": {},
   "source": [
    "Ојлеровите агли ги пресметуваме со функцијата `euler_angles()` од скриптата за Роботика 1. Како аргумент ја праќаме посакуваната конфигурација. Ако ја отворите оваа функција ќе забележите дека не сите конфигурации се имплементирани. Слободно можете да ја дополните функцијата `euler_angles()` за конфигурациите кои недостасуваат. Ако сакате рачно да решавате ваков тип на задачи за Ојлерови агли, одете на овој [линк](https://www.geometrictools.com/Documentation/EulerAngles.pdf) и ќе најдете рачно решение за сите конфигурации на Ојлерови агли. Покрај рачното решение има и код. Според тој код е напишана функцијата `euler_angles()`. "
   ]
  },
  {
   "cell_type": "code",
   "execution_count": 4,
   "metadata": {},
   "outputs": [
    {
     "data": {
      "text/latex": [
       "$\\displaystyle \\left[\\begin{matrix}\\frac{\\pi}{2}\\\\\\pi\\\\0\\end{matrix}\\right]$"
      ],
      "text/plain": [
       "Matrix([\n",
       "[pi/2],\n",
       "[  pi],\n",
       "[   0]])"
      ]
     },
     "execution_count": 4,
     "metadata": {},
     "output_type": "execute_result"
    }
   ],
   "source": [
    "euler_angles = rt.euler_angles(T, 'ZYZ')\n",
    "euler_angles"
   ]
  },
  {
   "cell_type": "markdown",
   "metadata": {},
   "source": [
    "Наредната функција `rotation_matrix_from_euler_angles()` служи за проверка дали добиените Ојлерови агли од функцијата `euler_angles()` се пресметани добро. Во овој случај забележуваме дека матрицата за ротација во оваа трансформациона матрица е иста со матрицата за ротиција која ја добивме од горната пресметка. Ова значи дека Ојлеровите агли се добро пресметани."
   ]
  },
  {
   "cell_type": "code",
   "execution_count": 5,
   "metadata": {},
   "outputs": [
    {
     "data": {
      "text/latex": [
       "$\\displaystyle \\left[\\begin{matrix}0 & -1 & 0 & 0\\\\-1 & 0 & 0 & 0\\\\0 & 0 & -1 & 0\\\\0 & 0 & 0 & 1\\end{matrix}\\right]$"
      ],
      "text/plain": [
       "Matrix([\n",
       "[ 0, -1,  0, 0],\n",
       "[-1,  0,  0, 0],\n",
       "[ 0,  0, -1, 0],\n",
       "[ 0,  0,  0, 1]])"
      ]
     },
     "execution_count": 5,
     "metadata": {},
     "output_type": "execute_result"
    }
   ],
   "source": [
    "rt.rotation_matrix_from_euler_angles(euler_angles, 'ZYZ')"
   ]
  },
  {
   "cell_type": "markdown",
   "metadata": {},
   "source": [
    "### Задача 2.38"
   ]
  },
  {
   "cell_type": "markdown",
   "metadata": {},
   "source": [
    "Оваа задача се решава исто како задачата 2.37."
   ]
  },
  {
   "cell_type": "code",
   "execution_count": 6,
   "metadata": {},
   "outputs": [
    {
     "data": {
      "text/latex": [
       "$\\displaystyle \\left[\\begin{matrix}0 & -1 & 0 & 0\\\\\\frac{\\sqrt{2}}{2} & 0 & - \\frac{\\sqrt{2}}{2} & -1\\\\\\frac{\\sqrt{2}}{2} & 0 & \\frac{\\sqrt{2}}{2} & 6\\\\0 & 0 & 0 & 1\\end{matrix}\\right]$"
      ],
      "text/plain": [
       "Matrix([\n",
       "[        0, -1,          0,  0],\n",
       "[sqrt(2)/2,  0, -sqrt(2)/2, -1],\n",
       "[sqrt(2)/2,  0,  sqrt(2)/2,  6],\n",
       "[        0,  0,          0,  1]])"
      ]
     },
     "execution_count": 6,
     "metadata": {},
     "output_type": "execute_result"
    }
   ],
   "source": [
    "T1 = rt.htranslation3(x=5)\n",
    "T2 = rt.hrotation3('o', sp.pi/4)\n",
    "T3 = rt.hrotation3('z', sp.pi/2)\n",
    "T4 = rt.htranslation3(z=sp.sqrt(2))\n",
    "T5 = rt.hrotation3('x', sp.pi/2)\n",
    "T = T5 * T3 * T1 * T2 * T4\n",
    "T"
   ]
  },
  {
   "cell_type": "code",
   "execution_count": 7,
   "metadata": {},
   "outputs": [
    {
     "data": {
      "text/latex": [
       "$\\displaystyle \\left[\\begin{matrix}- \\frac{\\pi}{2}\\\\\\frac{\\pi}{4}\\\\\\pi\\end{matrix}\\right]$"
      ],
      "text/plain": [
       "Matrix([\n",
       "[-pi/2],\n",
       "[ pi/4],\n",
       "[   pi]])"
      ]
     },
     "execution_count": 7,
     "metadata": {},
     "output_type": "execute_result"
    }
   ],
   "source": [
    "euler_angles = rt.euler_angles(T, 'ZYZ')\n",
    "euler_angles"
   ]
  },
  {
   "cell_type": "code",
   "execution_count": 8,
   "metadata": {},
   "outputs": [
    {
     "data": {
      "text/latex": [
       "$\\displaystyle \\left[\\begin{matrix}0 & -1 & 0 & 0\\\\\\frac{\\sqrt{2}}{2} & 0 & - \\frac{\\sqrt{2}}{2} & 0\\\\\\frac{\\sqrt{2}}{2} & 0 & \\frac{\\sqrt{2}}{2} & 0\\\\0 & 0 & 0 & 1\\end{matrix}\\right]$"
      ],
      "text/plain": [
       "Matrix([\n",
       "[        0, -1,          0, 0],\n",
       "[sqrt(2)/2,  0, -sqrt(2)/2, 0],\n",
       "[sqrt(2)/2,  0,  sqrt(2)/2, 0],\n",
       "[        0,  0,          0, 1]])"
      ]
     },
     "execution_count": 8,
     "metadata": {},
     "output_type": "execute_result"
    }
   ],
   "source": [
    "rt.rotation_matrix_from_euler_angles(euler_angles, 'ZYZ')"
   ]
  },
  {
   "cell_type": "markdown",
   "metadata": {},
   "source": [
    "### Задача 2.39"
   ]
  },
  {
   "cell_type": "markdown",
   "metadata": {},
   "source": [
    "За да решиме оваа задача ќе земеме матрица на ротација исполнета со променливи. Остатокот од задача е ист како задачата 2.37."
   ]
  },
  {
   "cell_type": "code",
   "execution_count": 9,
   "metadata": {},
   "outputs": [
    {
     "data": {
      "text/latex": [
       "$\\displaystyle \\left[\\begin{matrix}r_{11} & r_{12} & r_{13}\\\\r_{21} & r_{22} & r_{23}\\\\r_{31} & r_{32} & r_{33}\\end{matrix}\\right]$"
      ],
      "text/plain": [
       "Matrix([\n",
       "[r11, r12, r13],\n",
       "[r21, r22, r23],\n",
       "[r31, r32, r33]])"
      ]
     },
     "execution_count": 9,
     "metadata": {},
     "output_type": "execute_result"
    }
   ],
   "source": [
    "r11, r12, r13, r21, r22, r23, r31, r32, r33 = sp.symbols('r11, r12, r13, r21, r22, r23, r31, r32, r33')\n",
    "T = sp.Matrix([[r11, r12, r13], [r21, r22, r23], [r31, r32, r33]])\n",
    "T"
   ]
  },
  {
   "cell_type": "code",
   "execution_count": 10,
   "metadata": {},
   "outputs": [
    {
     "data": {
      "text/latex": [
       "$\\displaystyle \\left[\\begin{matrix}\\operatorname{atan_{2}}{\\left(- r_{23},r_{33} \\right)}\\\\\\operatorname{asin}{\\left(r_{13} \\right)}\\\\\\operatorname{atan_{2}}{\\left(- r_{12},r_{11} \\right)}\\end{matrix}\\right]$"
      ],
      "text/plain": [
       "Matrix([\n",
       "[atan2(-r23, r33)],\n",
       "[       asin(r13)],\n",
       "[atan2(-r12, r11)]])"
      ]
     },
     "execution_count": 10,
     "metadata": {},
     "output_type": "execute_result"
    }
   ],
   "source": [
    "euler_angles = rt.euler_angles(T, 'XYZ')\n",
    "euler_angles"
   ]
  },
  {
   "cell_type": "markdown",
   "metadata": {},
   "source": [
    "### Задача 2.40"
   ]
  },
  {
   "cell_type": "markdown",
   "metadata": {},
   "source": [
    "Оваа задача се решава исто како задача 2.39."
   ]
  },
  {
   "cell_type": "code",
   "execution_count": 11,
   "metadata": {},
   "outputs": [
    {
     "data": {
      "text/latex": [
       "$\\displaystyle \\left[\\begin{matrix}r_{11} & r_{12} & r_{13}\\\\r_{21} & r_{22} & r_{23}\\\\r_{31} & r_{32} & r_{33}\\end{matrix}\\right]$"
      ],
      "text/plain": [
       "Matrix([\n",
       "[r11, r12, r13],\n",
       "[r21, r22, r23],\n",
       "[r31, r32, r33]])"
      ]
     },
     "execution_count": 11,
     "metadata": {},
     "output_type": "execute_result"
    }
   ],
   "source": [
    "r11, r12, r13, r21, r22, r23, r31, r32, r33 = sp.symbols('r11, r12, r13, r21, r22, r23, r31, r32, r33')\n",
    "T = sp.Matrix([[r11, r12, r13], [r21, r22, r23], [r31, r32, r33]])\n",
    "T"
   ]
  },
  {
   "cell_type": "code",
   "execution_count": 12,
   "metadata": {},
   "outputs": [
    {
     "data": {
      "text/latex": [
       "$\\displaystyle \\left[\\begin{matrix}\\operatorname{atan_{2}}{\\left(r_{32},r_{22} \\right)}\\\\- \\operatorname{asin}{\\left(r_{12} \\right)}\\\\\\operatorname{atan_{2}}{\\left(r_{13},r_{11} \\right)}\\end{matrix}\\right]$"
      ],
      "text/plain": [
       "Matrix([\n",
       "[atan2(r32, r22)],\n",
       "[     -asin(r12)],\n",
       "[atan2(r13, r11)]])"
      ]
     },
     "execution_count": 12,
     "metadata": {},
     "output_type": "execute_result"
    }
   ],
   "source": [
    "euler_angles = rt.euler_angles(T, 'XZY')\n",
    "euler_angles"
   ]
  },
  {
   "cell_type": "markdown",
   "metadata": {},
   "source": [
    "### Задача 2.41\n",
    "\n",
    "Аглите RPY се всушност Ојлеровите агли ZYX. Остатокот од задачата се решава исто како задача 2.39."
   ]
  },
  {
   "cell_type": "code",
   "execution_count": 13,
   "metadata": {},
   "outputs": [
    {
     "data": {
      "text/latex": [
       "$\\displaystyle \\left[\\begin{matrix}r_{11} & r_{12} & r_{13}\\\\r_{21} & r_{22} & r_{23}\\\\r_{31} & r_{32} & r_{33}\\end{matrix}\\right]$"
      ],
      "text/plain": [
       "Matrix([\n",
       "[r11, r12, r13],\n",
       "[r21, r22, r23],\n",
       "[r31, r32, r33]])"
      ]
     },
     "execution_count": 13,
     "metadata": {},
     "output_type": "execute_result"
    }
   ],
   "source": [
    "r11, r12, r13, r21, r22, r23, r31, r32, r33 = sp.symbols('r11, r12, r13, r21, r22, r23, r31, r32, r33')\n",
    "T = sp.Matrix([[r11, r12, r13], [r21, r22, r23], [r31, r32, r33]])\n",
    "T"
   ]
  },
  {
   "cell_type": "code",
   "execution_count": 14,
   "metadata": {},
   "outputs": [
    {
     "data": {
      "text/latex": [
       "$\\displaystyle \\left[\\begin{matrix}\\operatorname{atan_{2}}{\\left(r_{21},r_{11} \\right)}\\\\- \\operatorname{asin}{\\left(r_{31} \\right)}\\\\\\operatorname{atan_{2}}{\\left(r_{32},r_{33} \\right)}\\end{matrix}\\right]$"
      ],
      "text/plain": [
       "Matrix([\n",
       "[atan2(r21, r11)],\n",
       "[     -asin(r31)],\n",
       "[atan2(r32, r33)]])"
      ]
     },
     "execution_count": 14,
     "metadata": {},
     "output_type": "execute_result"
    }
   ],
   "source": [
    "euler_angles = rt.euler_angles(T, 'ZYX')\n",
    "euler_angles"
   ]
  },
  {
   "cell_type": "markdown",
   "metadata": {},
   "source": [
    "### Задача 2.42"
   ]
  },
  {
   "cell_type": "markdown",
   "metadata": {},
   "source": [
    "Оваа задача се решава исто како задачата 2.37."
   ]
  },
  {
   "cell_type": "code",
   "execution_count": 15,
   "metadata": {},
   "outputs": [
    {
     "data": {
      "text/latex": [
       "$\\displaystyle \\left[\\begin{matrix}\\frac{\\sqrt{3}}{4} & - \\frac{1}{2} & \\frac{3}{4} & \\frac{9}{4} + \\frac{5 \\sqrt{3}}{2}\\\\\\frac{\\sqrt{2}}{8} + \\frac{\\sqrt{6}}{4} & \\frac{\\sqrt{6}}{4} & - \\frac{\\sqrt{2}}{4} + \\frac{\\sqrt{6}}{8} & \\frac{\\sqrt{2}}{2} + \\frac{3 \\sqrt{6}}{8}\\\\- \\frac{\\sqrt{6}}{4} + \\frac{\\sqrt{2}}{8} & \\frac{\\sqrt{6}}{4} & \\frac{\\sqrt{6}}{8} + \\frac{\\sqrt{2}}{4} & \\frac{3 \\sqrt{6}}{8} + 2 \\sqrt{2}\\\\0 & 0 & 0 & 1\\end{matrix}\\right]$"
      ],
      "text/plain": [
       "Matrix([\n",
       "[             sqrt(3)/4,      -1/2,                    3/4,       9/4 + 5*sqrt(3)/2],\n",
       "[ sqrt(2)/8 + sqrt(6)/4, sqrt(6)/4, -sqrt(2)/4 + sqrt(6)/8, sqrt(2)/2 + 3*sqrt(6)/8],\n",
       "[-sqrt(6)/4 + sqrt(2)/8, sqrt(6)/4,  sqrt(6)/8 + sqrt(2)/4, 3*sqrt(6)/8 + 2*sqrt(2)],\n",
       "[                     0,         0,                      0,                       1]])"
      ]
     },
     "execution_count": 15,
     "metadata": {},
     "output_type": "execute_result"
    }
   ],
   "source": [
    "T1 = rt.htranslation3(x=5)\n",
    "T2 = rt.hrotation3('o', sp.pi/3)\n",
    "T3 = rt.hrotation3('z', sp.pi/6)\n",
    "T4 = rt.htranslation3(z=3)\n",
    "T5 = rt.hrotation3('x', sp.pi/4)\n",
    "T = T5 * T3 * T1 * T2 * T4\n",
    "T"
   ]
  },
  {
   "cell_type": "code",
   "execution_count": 16,
   "metadata": {},
   "outputs": [
    {
     "data": {
      "text/latex": [
       "$\\displaystyle \\left[\\begin{matrix}\\operatorname{atan}{\\left(\\frac{4 \\sqrt{3} \\left(\\frac{\\sqrt{2}}{8} + \\frac{\\sqrt{6}}{4}\\right)}{3} \\right)}\\\\- \\operatorname{asin}{\\left(- \\frac{\\sqrt{6}}{4} + \\frac{\\sqrt{2}}{8} \\right)}\\\\\\operatorname{atan}{\\left(\\frac{\\sqrt{6}}{4 \\left(\\frac{\\sqrt{6}}{8} + \\frac{\\sqrt{2}}{4}\\right)} \\right)}\\end{matrix}\\right]$"
      ],
      "text/plain": [
       "Matrix([\n",
       "[atan(4*sqrt(3)*(sqrt(2)/8 + sqrt(6)/4)/3)],\n",
       "[            -asin(-sqrt(6)/4 + sqrt(2)/8)],\n",
       "[atan(sqrt(6)/(4*(sqrt(6)/8 + sqrt(2)/4)))]])"
      ]
     },
     "execution_count": 16,
     "metadata": {},
     "output_type": "execute_result"
    }
   ],
   "source": [
    "euler_angles = rt.euler_angles(T, 'ZYX')\n",
    "euler_angles"
   ]
  },
  {
   "cell_type": "markdown",
   "metadata": {},
   "source": [
    "Англите ќе ги израземе во степени за да направиме споредба со збирката."
   ]
  },
  {
   "cell_type": "code",
   "execution_count": 17,
   "metadata": {},
   "outputs": [
    {
     "data": {
      "text/latex": [
       "$\\displaystyle \\left[\\begin{matrix}61.246056618025\\\\25.8232078223648\\\\42.867573148363\\end{matrix}\\right]$"
      ],
      "text/plain": [
       "Matrix([\n",
       "[ 61.246056618025],\n",
       "[25.8232078223648],\n",
       "[ 42.867573148363]])"
      ]
     },
     "execution_count": 17,
     "metadata": {},
     "output_type": "execute_result"
    }
   ],
   "source": [
    "(euler_angles / sp.pi * 180).evalf()"
   ]
  },
  {
   "cell_type": "code",
   "execution_count": 18,
   "metadata": {},
   "outputs": [
    {
     "data": {
      "text/latex": [
       "$\\displaystyle \\left[\\begin{matrix}\\frac{\\sqrt{3}}{4} & - \\frac{1}{2} & \\frac{3}{4} & 0\\\\\\frac{\\sqrt{2}}{8} + \\frac{\\sqrt{6}}{4} & \\frac{\\sqrt{6}}{4} & - \\frac{\\sqrt{2}}{4} + \\frac{\\sqrt{6}}{8} & 0\\\\- \\frac{\\sqrt{6}}{4} + \\frac{\\sqrt{2}}{8} & \\frac{\\sqrt{6}}{4} & \\frac{\\sqrt{6}}{8} + \\frac{\\sqrt{2}}{4} & 0\\\\0 & 0 & 0 & 1\\end{matrix}\\right]$"
      ],
      "text/plain": [
       "Matrix([\n",
       "[             sqrt(3)/4,      -1/2,                    3/4, 0],\n",
       "[ sqrt(2)/8 + sqrt(6)/4, sqrt(6)/4, -sqrt(2)/4 + sqrt(6)/8, 0],\n",
       "[-sqrt(6)/4 + sqrt(2)/8, sqrt(6)/4,  sqrt(6)/8 + sqrt(2)/4, 0],\n",
       "[                     0,         0,                      0, 1]])"
      ]
     },
     "execution_count": 18,
     "metadata": {},
     "output_type": "execute_result"
    }
   ],
   "source": [
    "solution = rt.rotation_matrix_from_euler_angles(euler_angles, 'ZYX')\n",
    "solution = sp.simplify(solution)\n",
    "solution"
   ]
  },
  {
   "cell_type": "markdown",
   "metadata": {},
   "source": [
    "### Задача 2.43"
   ]
  },
  {
   "cell_type": "code",
   "execution_count": 19,
   "metadata": {},
   "outputs": [
    {
     "data": {
      "text/latex": [
       "$\\displaystyle \\left[\\begin{matrix}0.527 & -0.574 & 0.628 & 4\\\\0.369 & 0.189 & 0.439 & 6\\\\-0.766 & 0 & 0.643 & 9\\\\0 & 0 & 0 & 1\\end{matrix}\\right]$"
      ],
      "text/plain": [
       "Matrix([\n",
       "[ 0.527, -0.574, 0.628, 4],\n",
       "[ 0.369,  0.189, 0.439, 6],\n",
       "[-0.766,      0, 0.643, 9],\n",
       "[     0,      0,     0, 1]])"
      ]
     },
     "execution_count": 19,
     "metadata": {},
     "output_type": "execute_result"
    }
   ],
   "source": [
    "T = sp.Matrix([\n",
    "    [0.527, -0.574, 0.628, 4],\n",
    "    [0.369, 0.189, 0.439, 6],\n",
    "    [-0.766, 0, 0.643, 9],\n",
    "    [0, 0, 0, 1],\n",
    "])\n",
    "T"
   ]
  },
  {
   "cell_type": "code",
   "execution_count": 20,
   "metadata": {},
   "outputs": [
    {
     "data": {
      "text/latex": [
       "$\\displaystyle \\left[\\begin{matrix}0.610853304258634\\\\0.872595487626335\\\\0\\end{matrix}\\right]$"
      ],
      "text/plain": [
       "Matrix([\n",
       "[0.610853304258634],\n",
       "[0.872595487626335],\n",
       "[                0]])"
      ]
     },
     "execution_count": 20,
     "metadata": {},
     "output_type": "execute_result"
    }
   ],
   "source": [
    "euler_angles = rt.euler_angles(T, 'ZYX')\n",
    "euler_angles"
   ]
  },
  {
   "cell_type": "markdown",
   "metadata": {},
   "source": [
    "Англите ќе ги израземе во степени за да направиме споредба со збирката."
   ]
  },
  {
   "cell_type": "code",
   "execution_count": 21,
   "metadata": {},
   "outputs": [
    {
     "data": {
      "text/latex": [
       "$\\displaystyle \\left[\\begin{matrix}34.9993162356405\\\\49.996038663149\\\\0\\end{matrix}\\right]$"
      ],
      "text/plain": [
       "Matrix([\n",
       "[34.9993162356405],\n",
       "[ 49.996038663149],\n",
       "[               0]])"
      ]
     },
     "execution_count": 21,
     "metadata": {},
     "output_type": "execute_result"
    }
   ],
   "source": [
    "(euler_angles / sp.pi * 180).evalf()"
   ]
  },
  {
   "cell_type": "code",
   "execution_count": 22,
   "metadata": {},
   "outputs": [
    {
     "data": {
      "text/latex": [
       "$\\displaystyle \\left[\\begin{matrix}0.52658856828585 & -0.573566660599361 & 0.627475709170925 & 0\\\\0.368711919729561 & 0.819158889257082 & 0.439352062019111 & 0\\\\-0.766 & 0 & 0.642840571214979 & 0\\\\0 & 0 & 0 & 1\\end{matrix}\\right]$"
      ],
      "text/plain": [
       "Matrix([\n",
       "[ 0.52658856828585, -0.573566660599361, 0.627475709170925, 0],\n",
       "[0.368711919729561,  0.819158889257082, 0.439352062019111, 0],\n",
       "[           -0.766,                  0, 0.642840571214979, 0],\n",
       "[                0,                  0,                 0, 1]])"
      ]
     },
     "execution_count": 22,
     "metadata": {},
     "output_type": "execute_result"
    }
   ],
   "source": [
    "solution = rt.rotation_matrix_from_euler_angles(euler_angles, 'ZYX')\n",
    "solution"
   ]
  },
  {
   "cell_type": "markdown",
   "metadata": {},
   "source": [
    "### Задача 2.44\n",
    "\n",
    "Не е наведено за кои Ојлерови агли да се извршат пресметките."
   ]
  },
  {
   "cell_type": "markdown",
   "metadata": {},
   "source": [
    "### Задача 2.45\n",
    "\n",
    "Се решава рачно."
   ]
  },
  {
   "cell_type": "markdown",
   "metadata": {},
   "source": [
    "### Задача 2.46\n",
    "\n",
    "Се решава рачно."
   ]
  },
  {
   "cell_type": "code",
   "execution_count": null,
   "metadata": {},
   "outputs": [],
   "source": []
  },
  {
   "cell_type": "code",
   "execution_count": null,
   "metadata": {},
   "outputs": [],
   "source": []
  },
  {
   "cell_type": "code",
   "execution_count": null,
   "metadata": {},
   "outputs": [],
   "source": []
  }
 ],
 "metadata": {
  "kernelspec": {
   "display_name": "Python 3 (ipykernel)",
   "language": "python",
   "name": "python3"
  },
  "language_info": {
   "codemirror_mode": {
    "name": "ipython",
    "version": 3
   },
   "file_extension": ".py",
   "mimetype": "text/x-python",
   "name": "python",
   "nbconvert_exporter": "python",
   "pygments_lexer": "ipython3",
   "version": "3.13.2"
  }
 },
 "nbformat": 4,
 "nbformat_minor": 4
}
