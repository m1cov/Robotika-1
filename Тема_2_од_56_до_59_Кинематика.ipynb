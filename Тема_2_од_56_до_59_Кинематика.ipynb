{
 "cells": [
  {
   "cell_type": "code",
   "execution_count": 1,
   "metadata": {},
   "outputs": [],
   "source": [
    "import sympy as sp\n",
    "import script as rt\n",
    "\n",
    "from IPython.lib.display import IFrame"
   ]
  },
  {
   "cell_type": "markdown",
   "metadata": {},
   "source": [
    "### Задача 2.56"
   ]
  },
  {
   "cell_type": "code",
   "execution_count": 2,
   "metadata": {},
   "outputs": [
    {
     "data": {
      "text/html": [
       "\n",
       "        <iframe\n",
       "            width=\"400\"\n",
       "            height=\"300\"\n",
       "            src=\"https://drive.google.com/file/d/1nC55_8wvcabj6SFgr436UOcvpjnx-xdj/preview\"\n",
       "            frameborder=\"0\"\n",
       "            allowfullscreen\n",
       "            \n",
       "        ></iframe>\n",
       "        "
      ],
      "text/plain": [
       "<IPython.lib.display.IFrame at 0x7f491d755700>"
      ]
     },
     "execution_count": 2,
     "metadata": {},
     "output_type": "execute_result"
    }
   ],
   "source": [
    "IFrame(src='https://drive.google.com/file/d/1nC55_8wvcabj6SFgr436UOcvpjnx-xdj/preview', width='400', height='300')"
   ]
  },
  {
   "cell_type": "code",
   "execution_count": 3,
   "metadata": {},
   "outputs": [
    {
     "data": {
      "application/vnd.jupyter.widget-view+json": {
       "model_id": "bd73cbf400684bd8a5d88422f99825ec",
       "version_major": 2,
       "version_minor": 0
      },
      "text/plain": [
       "VBox(children=(HBox(children=(ToggleButton(value=True, description='Исклучи цртање'), Button(description='Пром…"
      ]
     },
     "execution_count": 3,
     "metadata": {},
     "output_type": "execute_result"
    }
   ],
   "source": [
    "theta1, theta2, d3, theta4, a1, a2 = sp.symbols('theta1, theta2, d3, theta4, a1, a2')\n",
    "robot = rt.SerialLinkRobot()\n",
    "robot.add_revolute_joint(theta1, 0, a1, 0)\n",
    "robot.add_revolute_joint(theta2, 0, a2, sp.pi)\n",
    "robot.add_prismatic_joint(0, d3, 0, 0)\n",
    "robot.add_revolute_joint(theta4, 0, 0, 0)\n",
    "robot.add_subs([(a1, 1), (a2, 1)])\n",
    "robot.interact()"
   ]
  },
  {
   "cell_type": "code",
   "execution_count": 4,
   "metadata": {},
   "outputs": [
    {
     "data": {
      "text/latex": [
       "$\\displaystyle \\left[\\begin{matrix}\\cos{\\left(\\theta_{1} \\right)} & - \\sin{\\left(\\theta_{1} \\right)} & 0 & a_{1} \\cos{\\left(\\theta_{1} \\right)}\\\\\\sin{\\left(\\theta_{1} \\right)} & \\cos{\\left(\\theta_{1} \\right)} & 0 & a_{1} \\sin{\\left(\\theta_{1} \\right)}\\\\0 & 0 & 1 & 0\\\\0 & 0 & 0 & 1\\end{matrix}\\right]$"
      ],
      "text/plain": [
       "Matrix([\n",
       "[cos(theta1), -sin(theta1), 0, a1*cos(theta1)],\n",
       "[sin(theta1),  cos(theta1), 0, a1*sin(theta1)],\n",
       "[          0,            0, 1,              0],\n",
       "[          0,            0, 0,              1]])"
      ]
     },
     "execution_count": 4,
     "metadata": {},
     "output_type": "execute_result"
    }
   ],
   "source": [
    "A1 = robot.get_dh_joint_to_joint(0, 1)\n",
    "A1"
   ]
  },
  {
   "cell_type": "code",
   "execution_count": 5,
   "metadata": {},
   "outputs": [
    {
     "data": {
      "text/latex": [
       "$\\displaystyle \\left[\\begin{matrix}\\cos{\\left(\\theta_{2} \\right)} & \\sin{\\left(\\theta_{2} \\right)} & 0 & a_{2} \\cos{\\left(\\theta_{2} \\right)}\\\\\\sin{\\left(\\theta_{2} \\right)} & - \\cos{\\left(\\theta_{2} \\right)} & 0 & a_{2} \\sin{\\left(\\theta_{2} \\right)}\\\\0 & 0 & -1 & 0\\\\0 & 0 & 0 & 1\\end{matrix}\\right]$"
      ],
      "text/plain": [
       "Matrix([\n",
       "[cos(theta2),  sin(theta2),  0, a2*cos(theta2)],\n",
       "[sin(theta2), -cos(theta2),  0, a2*sin(theta2)],\n",
       "[          0,            0, -1,              0],\n",
       "[          0,            0,  0,              1]])"
      ]
     },
     "execution_count": 5,
     "metadata": {},
     "output_type": "execute_result"
    }
   ],
   "source": [
    "A2 = robot.get_dh_joint_to_joint(1, 2)\n",
    "A2"
   ]
  },
  {
   "cell_type": "code",
   "execution_count": 6,
   "metadata": {},
   "outputs": [
    {
     "data": {
      "text/latex": [
       "$\\displaystyle \\left[\\begin{matrix}1 & 0 & 0 & 0\\\\0 & 1 & 0 & 0\\\\0 & 0 & 1 & d_{3}\\\\0 & 0 & 0 & 1\\end{matrix}\\right]$"
      ],
      "text/plain": [
       "Matrix([\n",
       "[1, 0, 0,  0],\n",
       "[0, 1, 0,  0],\n",
       "[0, 0, 1, d3],\n",
       "[0, 0, 0,  1]])"
      ]
     },
     "execution_count": 6,
     "metadata": {},
     "output_type": "execute_result"
    }
   ],
   "source": [
    "A3 = robot.get_dh_joint_to_joint(2, 3)\n",
    "A3"
   ]
  },
  {
   "cell_type": "code",
   "execution_count": 7,
   "metadata": {},
   "outputs": [
    {
     "data": {
      "text/latex": [
       "$\\displaystyle \\left[\\begin{matrix}\\cos{\\left(\\theta_{1} + \\theta_{2} \\right)} & \\sin{\\left(\\theta_{1} + \\theta_{2} \\right)} & 0 & a_{1} \\cos{\\left(\\theta_{1} \\right)} + a_{2} \\cos{\\left(\\theta_{1} + \\theta_{2} \\right)}\\\\\\sin{\\left(\\theta_{1} + \\theta_{2} \\right)} & - \\cos{\\left(\\theta_{1} + \\theta_{2} \\right)} & 0 & a_{1} \\sin{\\left(\\theta_{1} \\right)} + a_{2} \\sin{\\left(\\theta_{1} + \\theta_{2} \\right)}\\\\0 & 0 & -1 & - d_{3}\\\\0 & 0 & 0 & 1\\end{matrix}\\right]$"
      ],
      "text/plain": [
       "Matrix([\n",
       "[cos(theta1 + theta2),  sin(theta1 + theta2),  0, a1*cos(theta1) + a2*cos(theta1 + theta2)],\n",
       "[sin(theta1 + theta2), -cos(theta1 + theta2),  0, a1*sin(theta1) + a2*sin(theta1 + theta2)],\n",
       "[                   0,                     0, -1,                                      -d3],\n",
       "[                   0,                     0,  0,                                        1]])"
      ]
     },
     "execution_count": 7,
     "metadata": {},
     "output_type": "execute_result"
    }
   ],
   "source": [
    "T03 = A1 * A2 * A3\n",
    "T03.simplify()\n",
    "T03"
   ]
  },
  {
   "cell_type": "code",
   "execution_count": 8,
   "metadata": {},
   "outputs": [
    {
     "data": {
      "text/latex": [
       "$\\displaystyle \\left[\\begin{matrix}\\cos{\\left(\\theta_{4} \\right)} & - \\sin{\\left(\\theta_{4} \\right)} & 0 & 0\\\\\\sin{\\left(\\theta_{4} \\right)} & \\cos{\\left(\\theta_{4} \\right)} & 0 & 0\\\\0 & 0 & 1 & 0\\\\0 & 0 & 0 & 1\\end{matrix}\\right]$"
      ],
      "text/plain": [
       "Matrix([\n",
       "[cos(theta4), -sin(theta4), 0, 0],\n",
       "[sin(theta4),  cos(theta4), 0, 0],\n",
       "[          0,            0, 1, 0],\n",
       "[          0,            0, 0, 1]])"
      ]
     },
     "execution_count": 8,
     "metadata": {},
     "output_type": "execute_result"
    }
   ],
   "source": [
    "A4 = robot.get_dh_joint_to_joint(3, 4)\n",
    "A4"
   ]
  },
  {
   "cell_type": "code",
   "execution_count": 9,
   "metadata": {},
   "outputs": [
    {
     "data": {
      "text/latex": [
       "$\\displaystyle \\left[\\begin{matrix}\\cos{\\left(\\theta_{1} + \\theta_{2} - \\theta_{4} \\right)} & \\sin{\\left(\\theta_{1} + \\theta_{2} - \\theta_{4} \\right)} & 0 & a_{1} \\cos{\\left(\\theta_{1} \\right)} + a_{2} \\cos{\\left(\\theta_{1} + \\theta_{2} \\right)}\\\\\\sin{\\left(\\theta_{1} + \\theta_{2} - \\theta_{4} \\right)} & - \\cos{\\left(\\theta_{1} + \\theta_{2} - \\theta_{4} \\right)} & 0 & a_{1} \\sin{\\left(\\theta_{1} \\right)} + a_{2} \\sin{\\left(\\theta_{1} + \\theta_{2} \\right)}\\\\0 & 0 & -1 & - d_{3}\\\\0 & 0 & 0 & 1\\end{matrix}\\right]$"
      ],
      "text/plain": [
       "Matrix([\n",
       "[cos(theta1 + theta2 - theta4),  sin(theta1 + theta2 - theta4),  0, a1*cos(theta1) + a2*cos(theta1 + theta2)],\n",
       "[sin(theta1 + theta2 - theta4), -cos(theta1 + theta2 - theta4),  0, a1*sin(theta1) + a2*sin(theta1 + theta2)],\n",
       "[                            0,                              0, -1,                                      -d3],\n",
       "[                            0,                              0,  0,                                        1]])"
      ]
     },
     "execution_count": 9,
     "metadata": {},
     "output_type": "execute_result"
    }
   ],
   "source": [
    "T04 = T03 * A4\n",
    "T04.simplify()\n",
    "T04"
   ]
  },
  {
   "cell_type": "markdown",
   "metadata": {},
   "source": [
    "### Задача 2.57"
   ]
  },
  {
   "cell_type": "code",
   "execution_count": 10,
   "metadata": {},
   "outputs": [
    {
     "data": {
      "text/html": [
       "\n",
       "        <iframe\n",
       "            width=\"400\"\n",
       "            height=\"300\"\n",
       "            src=\"https://drive.google.com/file/d/1i-SyH-LosCmrwhnQDDml47OgqVrAmRRq/preview\"\n",
       "            frameborder=\"0\"\n",
       "            allowfullscreen\n",
       "            \n",
       "        ></iframe>\n",
       "        "
      ],
      "text/plain": [
       "<IPython.lib.display.IFrame at 0x7f48f240ad50>"
      ]
     },
     "execution_count": 10,
     "metadata": {},
     "output_type": "execute_result"
    }
   ],
   "source": [
    "IFrame(src='https://drive.google.com/file/d/1i-SyH-LosCmrwhnQDDml47OgqVrAmRRq/preview', width='400', height='300')"
   ]
  },
  {
   "cell_type": "code",
   "execution_count": 11,
   "metadata": {},
   "outputs": [
    {
     "data": {
      "application/vnd.jupyter.widget-view+json": {
       "model_id": "e74c137356934f7b9ddbe22e2bcb5c46",
       "version_major": 2,
       "version_minor": 0
      },
      "text/plain": [
       "VBox(children=(HBox(children=(ToggleButton(value=True, description='Исклучи цртање'), Button(description='Пром…"
      ]
     },
     "execution_count": 11,
     "metadata": {},
     "output_type": "execute_result"
    }
   ],
   "source": [
    "theta1, theta2, D3, d1, k1, k2, k3, d3 = sp.symbols('theta1, theta2, D3, d1, k1, k2, k3, d3')\n",
    "robot = rt.SerialLinkRobot()\n",
    "robot.add_revolute_joint(theta1, d1, 0, sp.pi/2)\n",
    "robot.add_revolute_joint(theta2, 0, k1, sp.pi/2)\n",
    "robot.add_prismatic_joint(0, D3, 0, 0)\n",
    "robot.add_subs([(d1, 1), (k1, 1)])\n",
    "robot.interact()"
   ]
  },
  {
   "cell_type": "code",
   "execution_count": 12,
   "metadata": {},
   "outputs": [
    {
     "data": {
      "text/latex": [
       "$\\displaystyle \\left[\\begin{matrix}\\cos{\\left(\\theta_{1} \\right)} & 0 & \\sin{\\left(\\theta_{1} \\right)} & 0\\\\\\sin{\\left(\\theta_{1} \\right)} & 0 & - \\cos{\\left(\\theta_{1} \\right)} & 0\\\\0 & 1 & 0 & d_{1}\\\\0 & 0 & 0 & 1\\end{matrix}\\right]$"
      ],
      "text/plain": [
       "Matrix([\n",
       "[cos(theta1), 0,  sin(theta1),  0],\n",
       "[sin(theta1), 0, -cos(theta1),  0],\n",
       "[          0, 1,            0, d1],\n",
       "[          0, 0,            0,  1]])"
      ]
     },
     "execution_count": 12,
     "metadata": {},
     "output_type": "execute_result"
    }
   ],
   "source": [
    "A1 = robot.get_dh_joint_to_joint(0, 1)\n",
    "A1"
   ]
  },
  {
   "cell_type": "code",
   "execution_count": 13,
   "metadata": {},
   "outputs": [
    {
     "data": {
      "text/latex": [
       "$\\displaystyle \\left[\\begin{matrix}\\cos{\\left(\\theta_{2} \\right)} & 0 & \\sin{\\left(\\theta_{2} \\right)} & k_{1} \\cos{\\left(\\theta_{2} \\right)}\\\\\\sin{\\left(\\theta_{2} \\right)} & 0 & - \\cos{\\left(\\theta_{2} \\right)} & k_{1} \\sin{\\left(\\theta_{2} \\right)}\\\\0 & 1 & 0 & 0\\\\0 & 0 & 0 & 1\\end{matrix}\\right]$"
      ],
      "text/plain": [
       "Matrix([\n",
       "[cos(theta2), 0,  sin(theta2), k1*cos(theta2)],\n",
       "[sin(theta2), 0, -cos(theta2), k1*sin(theta2)],\n",
       "[          0, 1,            0,              0],\n",
       "[          0, 0,            0,              1]])"
      ]
     },
     "execution_count": 13,
     "metadata": {},
     "output_type": "execute_result"
    }
   ],
   "source": [
    "A2 = robot.get_dh_joint_to_joint(1, 2)\n",
    "A2"
   ]
  },
  {
   "cell_type": "code",
   "execution_count": 14,
   "metadata": {},
   "outputs": [
    {
     "data": {
      "text/latex": [
       "$\\displaystyle \\left[\\begin{matrix}1 & 0 & 0 & 0\\\\0 & 1 & 0 & 0\\\\0 & 0 & 1 & D_{3}\\\\0 & 0 & 0 & 1\\end{matrix}\\right]$"
      ],
      "text/plain": [
       "Matrix([\n",
       "[1, 0, 0,  0],\n",
       "[0, 1, 0,  0],\n",
       "[0, 0, 1, D3],\n",
       "[0, 0, 0,  1]])"
      ]
     },
     "execution_count": 14,
     "metadata": {},
     "output_type": "execute_result"
    }
   ],
   "source": [
    "A3 = robot.get_dh_joint_to_joint(2, 3)\n",
    "A3"
   ]
  },
  {
   "cell_type": "code",
   "execution_count": 15,
   "metadata": {},
   "outputs": [
    {
     "data": {
      "text/latex": [
       "$\\displaystyle \\left[\\begin{matrix}\\cos{\\left(\\theta_{1} \\right)} \\cos{\\left(\\theta_{2} \\right)} & \\sin{\\left(\\theta_{1} \\right)} & \\sin{\\left(\\theta_{2} \\right)} \\cos{\\left(\\theta_{1} \\right)} & \\left(D_{3} \\sin{\\left(\\theta_{2} \\right)} + k_{1} \\cos{\\left(\\theta_{2} \\right)}\\right) \\cos{\\left(\\theta_{1} \\right)}\\\\\\sin{\\left(\\theta_{1} \\right)} \\cos{\\left(\\theta_{2} \\right)} & - \\cos{\\left(\\theta_{1} \\right)} & \\sin{\\left(\\theta_{1} \\right)} \\sin{\\left(\\theta_{2} \\right)} & \\left(D_{3} \\sin{\\left(\\theta_{2} \\right)} + k_{1} \\cos{\\left(\\theta_{2} \\right)}\\right) \\sin{\\left(\\theta_{1} \\right)}\\\\\\sin{\\left(\\theta_{2} \\right)} & 0 & - \\cos{\\left(\\theta_{2} \\right)} & - D_{3} \\cos{\\left(\\theta_{2} \\right)} + d_{1} + k_{1} \\sin{\\left(\\theta_{2} \\right)}\\\\0 & 0 & 0 & 1\\end{matrix}\\right]$"
      ],
      "text/plain": [
       "Matrix([\n",
       "[cos(theta1)*cos(theta2),  sin(theta1), sin(theta2)*cos(theta1), (D3*sin(theta2) + k1*cos(theta2))*cos(theta1)],\n",
       "[sin(theta1)*cos(theta2), -cos(theta1), sin(theta1)*sin(theta2), (D3*sin(theta2) + k1*cos(theta2))*sin(theta1)],\n",
       "[            sin(theta2),            0,            -cos(theta2),         -D3*cos(theta2) + d1 + k1*sin(theta2)],\n",
       "[                      0,            0,                       0,                                             1]])"
      ]
     },
     "execution_count": 15,
     "metadata": {},
     "output_type": "execute_result"
    }
   ],
   "source": [
    "T03 = A1 * A2 * A3\n",
    "T03.simplify()\n",
    "T03"
   ]
  },
  {
   "cell_type": "code",
   "execution_count": 16,
   "metadata": {},
   "outputs": [
    {
     "data": {
      "text/latex": [
       "$\\displaystyle \\left[\\begin{matrix}\\cos{\\left(\\theta_{1} \\right)} \\cos{\\left(\\theta_{2} \\right)} & \\sin{\\left(\\theta_{1} \\right)} & \\sin{\\left(\\theta_{2} \\right)} \\cos{\\left(\\theta_{1} \\right)} & \\left(k_{1} \\cos{\\left(\\theta_{2} \\right)} + \\left(d_{3} + k_{2} + k_{3}\\right) \\sin{\\left(\\theta_{2} \\right)}\\right) \\cos{\\left(\\theta_{1} \\right)}\\\\\\sin{\\left(\\theta_{1} \\right)} \\cos{\\left(\\theta_{2} \\right)} & - \\cos{\\left(\\theta_{1} \\right)} & \\sin{\\left(\\theta_{1} \\right)} \\sin{\\left(\\theta_{2} \\right)} & \\left(k_{1} \\cos{\\left(\\theta_{2} \\right)} + \\left(d_{3} + k_{2} + k_{3}\\right) \\sin{\\left(\\theta_{2} \\right)}\\right) \\sin{\\left(\\theta_{1} \\right)}\\\\\\sin{\\left(\\theta_{2} \\right)} & 0 & - \\cos{\\left(\\theta_{2} \\right)} & d_{1} + k_{1} \\sin{\\left(\\theta_{2} \\right)} - \\left(d_{3} + k_{2} + k_{3}\\right) \\cos{\\left(\\theta_{2} \\right)}\\\\0 & 0 & 0 & 1\\end{matrix}\\right]$"
      ],
      "text/plain": [
       "Matrix([\n",
       "[cos(theta1)*cos(theta2),  sin(theta1), sin(theta2)*cos(theta1), (k1*cos(theta2) + (d3 + k2 + k3)*sin(theta2))*cos(theta1)],\n",
       "[sin(theta1)*cos(theta2), -cos(theta1), sin(theta1)*sin(theta2), (k1*cos(theta2) + (d3 + k2 + k3)*sin(theta2))*sin(theta1)],\n",
       "[            sin(theta2),            0,            -cos(theta2),          d1 + k1*sin(theta2) - (d3 + k2 + k3)*cos(theta2)],\n",
       "[                      0,            0,                       0,                                                         1]])"
      ]
     },
     "execution_count": 16,
     "metadata": {},
     "output_type": "execute_result"
    }
   ],
   "source": [
    "T03 = T03.subs(D3, k2 + d3 + k3)\n",
    "T03"
   ]
  },
  {
   "cell_type": "markdown",
   "metadata": {},
   "source": [
    "### Задача 2.58 под а) и б)"
   ]
  },
  {
   "cell_type": "markdown",
   "metadata": {},
   "source": [
    "Се решава слично како задача 2.56."
   ]
  },
  {
   "cell_type": "code",
   "execution_count": 17,
   "metadata": {},
   "outputs": [
    {
     "data": {
      "application/vnd.jupyter.widget-view+json": {
       "model_id": "d41c96667b1046579b6531d2049fe905",
       "version_major": 2,
       "version_minor": 0
      },
      "text/plain": [
       "VBox(children=(HBox(children=(ToggleButton(value=True, description='Исклучи цртање'), Button(description='Пром…"
      ]
     },
     "execution_count": 17,
     "metadata": {},
     "output_type": "execute_result"
    }
   ],
   "source": [
    "d1, theta2, theta3, d4, l2, l3 = sp.symbols('d1, theta2, theta3, d4, l2, l3')\n",
    "robot = rt.SerialLinkRobot()\n",
    "robot.add_prismatic_joint(0, d1, 0, 0)\n",
    "robot.add_revolute_joint(theta2, 0, l2, 0)\n",
    "robot.add_revolute_joint(theta3, 0, l3, sp.pi)\n",
    "robot.add_prismatic_joint(0, d4, 0, 0)\n",
    "robot.add_subs([(l2, 2), (l3, 1)])\n",
    "robot.interact()"
   ]
  },
  {
   "cell_type": "code",
   "execution_count": 18,
   "metadata": {},
   "outputs": [
    {
     "data": {
      "text/latex": [
       "$\\displaystyle \\left[\\begin{matrix}1 & 0 & 0 & 0\\\\0 & 1 & 0 & 0\\\\0 & 0 & 1 & d_{1}\\\\0 & 0 & 0 & 1\\end{matrix}\\right]$"
      ],
      "text/plain": [
       "Matrix([\n",
       "[1, 0, 0,  0],\n",
       "[0, 1, 0,  0],\n",
       "[0, 0, 1, d1],\n",
       "[0, 0, 0,  1]])"
      ]
     },
     "execution_count": 18,
     "metadata": {},
     "output_type": "execute_result"
    }
   ],
   "source": [
    "A1 = robot.get_dh_joint_to_joint(0, 1)\n",
    "A1"
   ]
  },
  {
   "cell_type": "code",
   "execution_count": 19,
   "metadata": {},
   "outputs": [
    {
     "data": {
      "text/latex": [
       "$\\displaystyle \\left[\\begin{matrix}\\cos{\\left(\\theta_{2} \\right)} & - \\sin{\\left(\\theta_{2} \\right)} & 0 & l_{2} \\cos{\\left(\\theta_{2} \\right)}\\\\\\sin{\\left(\\theta_{2} \\right)} & \\cos{\\left(\\theta_{2} \\right)} & 0 & l_{2} \\sin{\\left(\\theta_{2} \\right)}\\\\0 & 0 & 1 & 0\\\\0 & 0 & 0 & 1\\end{matrix}\\right]$"
      ],
      "text/plain": [
       "Matrix([\n",
       "[cos(theta2), -sin(theta2), 0, l2*cos(theta2)],\n",
       "[sin(theta2),  cos(theta2), 0, l2*sin(theta2)],\n",
       "[          0,            0, 1,              0],\n",
       "[          0,            0, 0,              1]])"
      ]
     },
     "execution_count": 19,
     "metadata": {},
     "output_type": "execute_result"
    }
   ],
   "source": [
    "A2 = robot.get_dh_joint_to_joint(1, 2)\n",
    "A2"
   ]
  },
  {
   "cell_type": "code",
   "execution_count": 20,
   "metadata": {},
   "outputs": [
    {
     "data": {
      "text/latex": [
       "$\\displaystyle \\left[\\begin{matrix}\\cos{\\left(\\theta_{3} \\right)} & \\sin{\\left(\\theta_{3} \\right)} & 0 & l_{3} \\cos{\\left(\\theta_{3} \\right)}\\\\\\sin{\\left(\\theta_{3} \\right)} & - \\cos{\\left(\\theta_{3} \\right)} & 0 & l_{3} \\sin{\\left(\\theta_{3} \\right)}\\\\0 & 0 & -1 & 0\\\\0 & 0 & 0 & 1\\end{matrix}\\right]$"
      ],
      "text/plain": [
       "Matrix([\n",
       "[cos(theta3),  sin(theta3),  0, l3*cos(theta3)],\n",
       "[sin(theta3), -cos(theta3),  0, l3*sin(theta3)],\n",
       "[          0,            0, -1,              0],\n",
       "[          0,            0,  0,              1]])"
      ]
     },
     "execution_count": 20,
     "metadata": {},
     "output_type": "execute_result"
    }
   ],
   "source": [
    "A3 = robot.get_dh_joint_to_joint(2, 3)\n",
    "A3"
   ]
  },
  {
   "cell_type": "code",
   "execution_count": 21,
   "metadata": {},
   "outputs": [
    {
     "data": {
      "text/latex": [
       "$\\displaystyle \\left[\\begin{matrix}1 & 0 & 0 & 0\\\\0 & 1 & 0 & 0\\\\0 & 0 & 1 & d_{4}\\\\0 & 0 & 0 & 1\\end{matrix}\\right]$"
      ],
      "text/plain": [
       "Matrix([\n",
       "[1, 0, 0,  0],\n",
       "[0, 1, 0,  0],\n",
       "[0, 0, 1, d4],\n",
       "[0, 0, 0,  1]])"
      ]
     },
     "execution_count": 21,
     "metadata": {},
     "output_type": "execute_result"
    }
   ],
   "source": [
    "A4 = robot.get_dh_joint_to_joint(3, 4)\n",
    "A4"
   ]
  },
  {
   "cell_type": "code",
   "execution_count": 22,
   "metadata": {},
   "outputs": [
    {
     "data": {
      "text/latex": [
       "$\\displaystyle \\left[\\begin{matrix}\\cos{\\left(\\theta_{2} + \\theta_{3} \\right)} & \\sin{\\left(\\theta_{2} + \\theta_{3} \\right)} & 0 & l_{2} \\cos{\\left(\\theta_{2} \\right)} + l_{3} \\cos{\\left(\\theta_{2} + \\theta_{3} \\right)}\\\\\\sin{\\left(\\theta_{2} + \\theta_{3} \\right)} & - \\cos{\\left(\\theta_{2} + \\theta_{3} \\right)} & 0 & l_{2} \\sin{\\left(\\theta_{2} \\right)} + l_{3} \\sin{\\left(\\theta_{2} + \\theta_{3} \\right)}\\\\0 & 0 & -1 & d_{1} - d_{4}\\\\0 & 0 & 0 & 1\\end{matrix}\\right]$"
      ],
      "text/plain": [
       "Matrix([\n",
       "[cos(theta2 + theta3),  sin(theta2 + theta3),  0, l2*cos(theta2) + l3*cos(theta2 + theta3)],\n",
       "[sin(theta2 + theta3), -cos(theta2 + theta3),  0, l2*sin(theta2) + l3*sin(theta2 + theta3)],\n",
       "[                   0,                     0, -1,                                  d1 - d4],\n",
       "[                   0,                     0,  0,                                        1]])"
      ]
     },
     "execution_count": 22,
     "metadata": {},
     "output_type": "execute_result"
    }
   ],
   "source": [
    "T04 = A1 * A2 * A3 * A4\n",
    "T04.simplify()\n",
    "T04"
   ]
  },
  {
   "cell_type": "markdown",
   "metadata": {},
   "source": [
    "### Задача 2.58 под в) и г)\n",
    "\n",
    "Во книгата."
   ]
  },
  {
   "cell_type": "markdown",
   "metadata": {},
   "source": [
    "### Задача 2.59"
   ]
  },
  {
   "cell_type": "code",
   "execution_count": 12,
   "metadata": {},
   "outputs": [
    {
     "data": {
      "application/vnd.jupyter.widget-view+json": {
       "model_id": "c0445293521f44839f25379bf09f4d75",
       "version_major": 2,
       "version_minor": 0
      },
      "text/plain": [
       "VBox(children=(ToggleButtons(options=('Зглоб 1', 'Зглоб 2', 'Зглоб 3', 'Зглоб 4', 'Зглоб 5', 'Зглоб 6'), value…"
      ]
     },
     "metadata": {},
     "output_type": "display_data"
    }
   ],
   "source": [
    "theta1, d2, d3, theta4, theta5, theta6, d1, d6 = sp.symbols('theta1, d2, d3, theta4, theta5, theta6, d1, d6')\n",
    "robot = rt.SerialLinkRobot()\n",
    "robot.add_revolute_joint(theta1, d1, 0, 0)\n",
    "robot.add_prismatic_joint(0, d2, 0, -sp.pi/2)\n",
    "robot.add_prismatic_joint(0, d3, 0, 0)\n",
    "robot.add_revolute_joint(theta4, 0, 0, sp.pi/2)\n",
    "robot.add_revolute_joint(theta5, 0, 0, -sp.pi/2)\n",
    "robot.add_revolute_joint(theta6, d6, 0, 0)\n",
    "robot.add_subs([(d1, 1), (d6, 1)])\n",
    "robot.interact()"
   ]
  },
  {
   "cell_type": "code",
   "execution_count": 22,
   "metadata": {},
   "outputs": [
    {
     "data": {
      "text/latex": [
       "$\\displaystyle \\left[\\begin{matrix}\\cos{\\left(\\theta_{1} \\right)} & - \\sin{\\left(\\theta_{1} \\right)} & 0 & 0\\\\\\sin{\\left(\\theta_{1} \\right)} & \\cos{\\left(\\theta_{1} \\right)} & 0 & 0\\\\0 & 0 & 1 & d_{1}\\\\0 & 0 & 0 & 1\\end{matrix}\\right]$"
      ],
      "text/plain": [
       "Matrix([\n",
       "[cos(theta1), -sin(theta1), 0,  0],\n",
       "[sin(theta1),  cos(theta1), 0,  0],\n",
       "[          0,            0, 1, d1],\n",
       "[          0,            0, 0,  1]])"
      ]
     },
     "execution_count": 22,
     "metadata": {},
     "output_type": "execute_result"
    }
   ],
   "source": [
    "A1 = robot.get_dh_joint_to_joint(0, 1)\n",
    "A1"
   ]
  },
  {
   "cell_type": "code",
   "execution_count": 14,
   "metadata": {},
   "outputs": [
    {
     "data": {
      "text/latex": [
       "$\\displaystyle \\left[\\begin{matrix}1 & 0 & 0 & 0\\\\0 & 0 & 1 & 0\\\\0 & -1 & 0 & d_{2}\\\\0 & 0 & 0 & 1\\end{matrix}\\right]$"
      ],
      "text/plain": [
       "Matrix([\n",
       "[1,  0, 0,  0],\n",
       "[0,  0, 1,  0],\n",
       "[0, -1, 0, d2],\n",
       "[0,  0, 0,  1]])"
      ]
     },
     "execution_count": 14,
     "metadata": {},
     "output_type": "execute_result"
    }
   ],
   "source": [
    "A2 = robot.get_dh_joint_to_joint(1, 2)\n",
    "A2"
   ]
  },
  {
   "cell_type": "code",
   "execution_count": 15,
   "metadata": {},
   "outputs": [
    {
     "data": {
      "text/latex": [
       "$\\displaystyle \\left[\\begin{matrix}1 & 0 & 0 & 0\\\\0 & 1 & 0 & 0\\\\0 & 0 & 1 & d_{3}\\\\0 & 0 & 0 & 1\\end{matrix}\\right]$"
      ],
      "text/plain": [
       "Matrix([\n",
       "[1, 0, 0,  0],\n",
       "[0, 1, 0,  0],\n",
       "[0, 0, 1, d3],\n",
       "[0, 0, 0,  1]])"
      ]
     },
     "execution_count": 15,
     "metadata": {},
     "output_type": "execute_result"
    }
   ],
   "source": [
    "A3 = robot.get_dh_joint_to_joint(2, 3)\n",
    "A3"
   ]
  },
  {
   "cell_type": "code",
   "execution_count": 23,
   "metadata": {},
   "outputs": [
    {
     "data": {
      "text/latex": [
       "$\\displaystyle \\left[\\begin{matrix}\\cos{\\left(\\theta_{1} \\right)} & 0 & - \\sin{\\left(\\theta_{1} \\right)} & - d_{3} \\sin{\\left(\\theta_{1} \\right)}\\\\\\sin{\\left(\\theta_{1} \\right)} & 0 & \\cos{\\left(\\theta_{1} \\right)} & d_{3} \\cos{\\left(\\theta_{1} \\right)}\\\\0 & -1 & 0 & d_{1} + d_{2}\\\\0 & 0 & 0 & 1\\end{matrix}\\right]$"
      ],
      "text/plain": [
       "Matrix([\n",
       "[cos(theta1),  0, -sin(theta1), -d3*sin(theta1)],\n",
       "[sin(theta1),  0,  cos(theta1),  d3*cos(theta1)],\n",
       "[          0, -1,            0,         d1 + d2],\n",
       "[          0,  0,            0,               1]])"
      ]
     },
     "execution_count": 23,
     "metadata": {},
     "output_type": "execute_result"
    }
   ],
   "source": [
    "A1 * A2 * A3"
   ]
  },
  {
   "cell_type": "code",
   "execution_count": 24,
   "metadata": {},
   "outputs": [
    {
     "data": {
      "text/latex": [
       "$\\displaystyle \\left[\\begin{matrix}\\cos{\\left(\\theta_{4} \\right)} & 0 & \\sin{\\left(\\theta_{4} \\right)} & 0\\\\\\sin{\\left(\\theta_{4} \\right)} & 0 & - \\cos{\\left(\\theta_{4} \\right)} & 0\\\\0 & 1 & 0 & 0\\\\0 & 0 & 0 & 1\\end{matrix}\\right]$"
      ],
      "text/plain": [
       "Matrix([\n",
       "[cos(theta4), 0,  sin(theta4), 0],\n",
       "[sin(theta4), 0, -cos(theta4), 0],\n",
       "[          0, 1,            0, 0],\n",
       "[          0, 0,            0, 1]])"
      ]
     },
     "execution_count": 24,
     "metadata": {},
     "output_type": "execute_result"
    }
   ],
   "source": [
    "A4 = robot.get_dh_joint_to_joint(3, 4)\n",
    "A4"
   ]
  },
  {
   "cell_type": "code",
   "execution_count": 25,
   "metadata": {},
   "outputs": [
    {
     "data": {
      "text/latex": [
       "$\\displaystyle \\left[\\begin{matrix}\\cos{\\left(\\theta_{5} \\right)} & 0 & - \\sin{\\left(\\theta_{5} \\right)} & 0\\\\\\sin{\\left(\\theta_{5} \\right)} & 0 & \\cos{\\left(\\theta_{5} \\right)} & 0\\\\0 & -1 & 0 & 0\\\\0 & 0 & 0 & 1\\end{matrix}\\right]$"
      ],
      "text/plain": [
       "Matrix([\n",
       "[cos(theta5),  0, -sin(theta5), 0],\n",
       "[sin(theta5),  0,  cos(theta5), 0],\n",
       "[          0, -1,            0, 0],\n",
       "[          0,  0,            0, 1]])"
      ]
     },
     "execution_count": 25,
     "metadata": {},
     "output_type": "execute_result"
    }
   ],
   "source": [
    "A5 = robot.get_dh_joint_to_joint(4, 5)\n",
    "A5"
   ]
  },
  {
   "cell_type": "code",
   "execution_count": 26,
   "metadata": {},
   "outputs": [
    {
     "data": {
      "text/latex": [
       "$\\displaystyle \\left[\\begin{matrix}\\cos{\\left(\\theta_{6} \\right)} & - \\sin{\\left(\\theta_{6} \\right)} & 0 & 0\\\\\\sin{\\left(\\theta_{6} \\right)} & \\cos{\\left(\\theta_{6} \\right)} & 0 & 0\\\\0 & 0 & 1 & d_{6}\\\\0 & 0 & 0 & 1\\end{matrix}\\right]$"
      ],
      "text/plain": [
       "Matrix([\n",
       "[cos(theta6), -sin(theta6), 0,  0],\n",
       "[sin(theta6),  cos(theta6), 0,  0],\n",
       "[          0,            0, 1, d6],\n",
       "[          0,            0, 0,  1]])"
      ]
     },
     "execution_count": 26,
     "metadata": {},
     "output_type": "execute_result"
    }
   ],
   "source": [
    "A6 = robot.get_dh_joint_to_joint(5, 6)\n",
    "A6"
   ]
  },
  {
   "cell_type": "code",
   "execution_count": 28,
   "metadata": {},
   "outputs": [
    {
     "data": {
      "text/latex": [
       "$\\displaystyle \\left[\\begin{matrix}- \\sin{\\left(\\theta_{4} \\right)} \\sin{\\left(\\theta_{6} \\right)} + \\cos{\\left(\\theta_{4} \\right)} \\cos{\\left(\\theta_{5} \\right)} \\cos{\\left(\\theta_{6} \\right)} & - \\sin{\\left(\\theta_{4} \\right)} \\cos{\\left(\\theta_{6} \\right)} - \\sin{\\left(\\theta_{6} \\right)} \\cos{\\left(\\theta_{4} \\right)} \\cos{\\left(\\theta_{5} \\right)} & - \\sin{\\left(\\theta_{5} \\right)} \\cos{\\left(\\theta_{4} \\right)} & - d_{6} \\sin{\\left(\\theta_{5} \\right)} \\cos{\\left(\\theta_{4} \\right)}\\\\\\sin{\\left(\\theta_{4} \\right)} \\cos{\\left(\\theta_{5} \\right)} \\cos{\\left(\\theta_{6} \\right)} + \\sin{\\left(\\theta_{6} \\right)} \\cos{\\left(\\theta_{4} \\right)} & - \\sin{\\left(\\theta_{4} \\right)} \\sin{\\left(\\theta_{6} \\right)} \\cos{\\left(\\theta_{5} \\right)} + \\cos{\\left(\\theta_{4} \\right)} \\cos{\\left(\\theta_{6} \\right)} & - \\sin{\\left(\\theta_{4} \\right)} \\sin{\\left(\\theta_{5} \\right)} & - d_{6} \\sin{\\left(\\theta_{4} \\right)} \\sin{\\left(\\theta_{5} \\right)}\\\\\\sin{\\left(\\theta_{5} \\right)} \\cos{\\left(\\theta_{6} \\right)} & - \\sin{\\left(\\theta_{5} \\right)} \\sin{\\left(\\theta_{6} \\right)} & \\cos{\\left(\\theta_{5} \\right)} & d_{6} \\cos{\\left(\\theta_{5} \\right)}\\\\0 & 0 & 0 & 1\\end{matrix}\\right]$"
      ],
      "text/plain": [
       "Matrix([\n",
       "[-sin(theta4)*sin(theta6) + cos(theta4)*cos(theta5)*cos(theta6), -sin(theta4)*cos(theta6) - sin(theta6)*cos(theta4)*cos(theta5), -sin(theta5)*cos(theta4), -d6*sin(theta5)*cos(theta4)],\n",
       "[ sin(theta4)*cos(theta5)*cos(theta6) + sin(theta6)*cos(theta4), -sin(theta4)*sin(theta6)*cos(theta5) + cos(theta4)*cos(theta6), -sin(theta4)*sin(theta5), -d6*sin(theta4)*sin(theta5)],\n",
       "[                                       sin(theta5)*cos(theta6),                                       -sin(theta5)*sin(theta6),              cos(theta5),              d6*cos(theta5)],\n",
       "[                                                             0,                                                              0,                        0,                           1]])"
      ]
     },
     "execution_count": 28,
     "metadata": {},
     "output_type": "execute_result"
    }
   ],
   "source": [
    "A4 * A5 * A6"
   ]
  },
  {
   "cell_type": "code",
   "execution_count": 38,
   "metadata": {},
   "outputs": [
    {
     "data": {
      "text/latex": [
       "$\\displaystyle \\left[\\begin{matrix}\\left(- \\sin{\\left(\\theta_{1} \\right)} \\sin{\\left(\\theta_{5} \\right)} + \\cos{\\left(\\theta_{1} \\right)} \\cos{\\left(\\theta_{4} \\right)} \\cos{\\left(\\theta_{5} \\right)}\\right) \\cos{\\left(\\theta_{6} \\right)} - \\sin{\\left(\\theta_{4} \\right)} \\sin{\\left(\\theta_{6} \\right)} \\cos{\\left(\\theta_{1} \\right)} & - \\left(- \\sin{\\left(\\theta_{1} \\right)} \\sin{\\left(\\theta_{5} \\right)} + \\cos{\\left(\\theta_{1} \\right)} \\cos{\\left(\\theta_{4} \\right)} \\cos{\\left(\\theta_{5} \\right)}\\right) \\sin{\\left(\\theta_{6} \\right)} - \\sin{\\left(\\theta_{4} \\right)} \\cos{\\left(\\theta_{1} \\right)} \\cos{\\left(\\theta_{6} \\right)} & - \\sin{\\left(\\theta_{1} \\right)} \\cos{\\left(\\theta_{5} \\right)} - \\sin{\\left(\\theta_{5} \\right)} \\cos{\\left(\\theta_{1} \\right)} \\cos{\\left(\\theta_{4} \\right)} & - d_{3} \\sin{\\left(\\theta_{1} \\right)} + d_{6} \\left(- \\sin{\\left(\\theta_{1} \\right)} \\cos{\\left(\\theta_{5} \\right)} - \\sin{\\left(\\theta_{5} \\right)} \\cos{\\left(\\theta_{1} \\right)} \\cos{\\left(\\theta_{4} \\right)}\\right)\\\\\\left(\\sin{\\left(\\theta_{1} \\right)} \\cos{\\left(\\theta_{4} \\right)} \\cos{\\left(\\theta_{5} \\right)} + \\sin{\\left(\\theta_{5} \\right)} \\cos{\\left(\\theta_{1} \\right)}\\right) \\cos{\\left(\\theta_{6} \\right)} - \\sin{\\left(\\theta_{1} \\right)} \\sin{\\left(\\theta_{4} \\right)} \\sin{\\left(\\theta_{6} \\right)} & - \\left(\\sin{\\left(\\theta_{1} \\right)} \\cos{\\left(\\theta_{4} \\right)} \\cos{\\left(\\theta_{5} \\right)} + \\sin{\\left(\\theta_{5} \\right)} \\cos{\\left(\\theta_{1} \\right)}\\right) \\sin{\\left(\\theta_{6} \\right)} - \\sin{\\left(\\theta_{1} \\right)} \\sin{\\left(\\theta_{4} \\right)} \\cos{\\left(\\theta_{6} \\right)} & - \\sin{\\left(\\theta_{1} \\right)} \\sin{\\left(\\theta_{5} \\right)} \\cos{\\left(\\theta_{4} \\right)} + \\cos{\\left(\\theta_{1} \\right)} \\cos{\\left(\\theta_{5} \\right)} & d_{3} \\cos{\\left(\\theta_{1} \\right)} + d_{6} \\left(- \\sin{\\left(\\theta_{1} \\right)} \\sin{\\left(\\theta_{5} \\right)} \\cos{\\left(\\theta_{4} \\right)} + \\cos{\\left(\\theta_{1} \\right)} \\cos{\\left(\\theta_{5} \\right)}\\right)\\\\- \\sin{\\left(\\theta_{4} \\right)} \\cos{\\left(\\theta_{5} \\right)} \\cos{\\left(\\theta_{6} \\right)} - \\sin{\\left(\\theta_{6} \\right)} \\cos{\\left(\\theta_{4} \\right)} & \\sin{\\left(\\theta_{4} \\right)} \\sin{\\left(\\theta_{6} \\right)} \\cos{\\left(\\theta_{5} \\right)} - \\cos{\\left(\\theta_{4} \\right)} \\cos{\\left(\\theta_{6} \\right)} & \\sin{\\left(\\theta_{4} \\right)} \\sin{\\left(\\theta_{5} \\right)} & d_{1} + d_{2} + d_{6} \\sin{\\left(\\theta_{4} \\right)} \\sin{\\left(\\theta_{5} \\right)}\\\\0 & 0 & 0 & 1\\end{matrix}\\right]$"
      ],
      "text/plain": [
       "Matrix([\n",
       "[(-sin(theta1)*sin(theta5) + cos(theta1)*cos(theta4)*cos(theta5))*cos(theta6) - sin(theta4)*sin(theta6)*cos(theta1), -(-sin(theta1)*sin(theta5) + cos(theta1)*cos(theta4)*cos(theta5))*sin(theta6) - sin(theta4)*cos(theta1)*cos(theta6), -sin(theta1)*cos(theta5) - sin(theta5)*cos(theta1)*cos(theta4), -d3*sin(theta1) + d6*(-sin(theta1)*cos(theta5) - sin(theta5)*cos(theta1)*cos(theta4))],\n",
       "[ (sin(theta1)*cos(theta4)*cos(theta5) + sin(theta5)*cos(theta1))*cos(theta6) - sin(theta1)*sin(theta4)*sin(theta6),  -(sin(theta1)*cos(theta4)*cos(theta5) + sin(theta5)*cos(theta1))*sin(theta6) - sin(theta1)*sin(theta4)*cos(theta6), -sin(theta1)*sin(theta5)*cos(theta4) + cos(theta1)*cos(theta5),  d3*cos(theta1) + d6*(-sin(theta1)*sin(theta5)*cos(theta4) + cos(theta1)*cos(theta5))],\n",
       "[                                                    -sin(theta4)*cos(theta5)*cos(theta6) - sin(theta6)*cos(theta4),                                                       sin(theta4)*sin(theta6)*cos(theta5) - cos(theta4)*cos(theta6),                                        sin(theta4)*sin(theta5),                                                  d1 + d2 + d6*sin(theta4)*sin(theta5)],\n",
       "[                                                                                                                 0,                                                                                                                   0,                                                              0,                                                                                     1]])"
      ]
     },
     "execution_count": 38,
     "metadata": {},
     "output_type": "execute_result"
    }
   ],
   "source": [
    "T06 = A1 * A2 * A3 * A4 * A5 * A6\n",
    "T06"
   ]
  },
  {
   "cell_type": "code",
   "execution_count": null,
   "metadata": {},
   "outputs": [],
   "source": []
  },
  {
   "cell_type": "code",
   "execution_count": null,
   "metadata": {},
   "outputs": [],
   "source": []
  },
  {
   "cell_type": "code",
   "execution_count": null,
   "metadata": {},
   "outputs": [],
   "source": []
  }
 ],
 "metadata": {
  "kernelspec": {
   "display_name": "Python 3 (ipykernel)",
   "language": "python",
   "name": "python3"
  },
  "language_info": {
   "codemirror_mode": {
    "name": "ipython",
    "version": 3
   },
   "file_extension": ".py",
   "mimetype": "text/x-python",
   "name": "python",
   "nbconvert_exporter": "python",
   "pygments_lexer": "ipython3",
   "version": "3.12.0"
  }
 },
 "nbformat": 4,
 "nbformat_minor": 4
}
