{
 "cells": [
  {
   "cell_type": "code",
   "execution_count": 1,
   "metadata": {},
   "outputs": [],
   "source": [
    "import sympy as sp\n",
    "import script as rt\n",
    "\n",
    "from IPython.display import display\n",
    "from IPython.lib.display import IFrame"
   ]
  },
  {
   "cell_type": "markdown",
   "metadata": {},
   "source": [
    "## Општо за инверзна кинематика\n",
    "\n",
    "Разгледуваме роботска рака со $N$ зглобови. \n",
    "\n",
    "Ако секој зглоб го поставиме на некоја вредност, извршниот елемент на роботската рака ќе постигне соодветна позиција и ориентација. Ова се нарекува `директна кинематика`. Со други зборови, директната кинематика одговара на прашањето `Која позиција и ориентација ќе ја заземе извршниот елемент на роботската рака ако секој зглоб го поставиме на некоја однапред определена вредност?`.\n",
    "\n",
    "Инверзната кинематика одговара на обратното прашање. `Како да ги поставиме зглобовите на роботската рака за извршниот елемент да ја постигне посакуваната/бараната позиција или ориентација?`. Посакуваната/бараната позиција или ориентација со еден збор можеме да ја нарекуваме `барање`. Ова барање може да биде:\n",
    "* Дадена позиција која треба да се постигне.\n",
    "* Дадена ориентација која треба да се постигне.\n",
    "* Дадена позиција и ориентација кои треба да се постигнат. Со други зборови, позната е трансформационата матрица на извршниот елемент во однос на референтниот координатен систем.\n",
    "* Парцијално барање. Со други зборови, трансформационата матрица на извршниот елемент во однос на референтниот координатен систем не е целосно позната.\n",
    "\n",
    "Следно прашање е дали роботската рака може да одоговори на барањето. Постојат неколку видови одговори на поставеното барање.\n",
    "* Има едно и само едно решение на поставеното барање. Роботската рака може на само еден начин да го постави извршниот елемент според барањето.\n",
    "* Има повеќе решенија, но во конечен број. Роботската рака може на неколку различни начини да го постави извршниот елемент според барањето.\n",
    "* Има бесконечно многу решенија. Роботската рака може на бесконечно многу различни начини да го постави извршниот елемент според барањето.\n",
    "* Нема решение. Роботската рака не може да го постави извршниот елемент според барањето.\n",
    "\n",
    "Постојат повеќе начини како да се пресметаат вредностите на кои треба да се постават зглобовите. За ова повеќе можете да научите од книгата и предавањата. Во збирката решаваме со геометриски приод. Матрицата на директната кинематика ја добиваме од DH моделот на роботската рака. Понатаму, според поставеното барање, ги користиме изразите од DH-матрицата кои соодвествуваат на зададените вредности од барањето. Со трансформација на соодветните изрази од DH матрицата, ги изразуваме вредностите кои треба да ги заземат зглобовите."
   ]
  },
  {
   "cell_type": "markdown",
   "metadata": {},
   "source": [
    "### Задача 2.60"
   ]
  },
  {
   "cell_type": "code",
   "execution_count": 45,
   "metadata": {},
   "outputs": [
    {
     "data": {
      "text/html": [
       "\n",
       "        <iframe\n",
       "            width=\"400\"\n",
       "            height=\"300\"\n",
       "            src=\"https://drive.google.com/file/d/1JxA56APN-z2C6x22gPfAiaf3Vc-2meHk/preview\"\n",
       "            frameborder=\"0\"\n",
       "            allowfullscreen\n",
       "            \n",
       "        ></iframe>\n",
       "        "
      ],
      "text/plain": [
       "<IPython.lib.display.IFrame at 0x7f82b73c4d90>"
      ]
     },
     "execution_count": 45,
     "metadata": {},
     "output_type": "execute_result"
    }
   ],
   "source": [
    "IFrame(src='https://drive.google.com/file/d/1JxA56APN-z2C6x22gPfAiaf3Vc-2meHk/preview', width='400', height='300')"
   ]
  },
  {
   "cell_type": "markdown",
   "metadata": {},
   "source": [
    "Во оваа задача поставено е барање извршниот елемент да биде поставен според прикажаната трансформациона матрица. Прво ќе го пресметаме DH моделот на оваа роботска рака."
   ]
  },
  {
   "cell_type": "code",
   "execution_count": 94,
   "metadata": {},
   "outputs": [
    {
     "data": {
      "application/vnd.jupyter.widget-view+json": {
       "model_id": "1be4eb446186464a9ee9a41b4b10d384",
       "version_major": 2,
       "version_minor": 0
      },
      "text/plain": [
       "VBox(children=(HBox(children=(ToggleButton(value=True, description='Исклучи цртање'), Button(description='Пром…"
      ]
     },
     "metadata": {},
     "output_type": "display_data"
    }
   ],
   "source": [
    "theta1, theta2, l1, l2 = sp.symbols('theta1, theta2, l1, l2')\n",
    "robot = rt.SerialLinkRobot()\n",
    "robot.add_revolute_joint(theta1, 0, l1, 0)\n",
    "robot.add_revolute_joint(theta2, 0, l2, 0)\n",
    "robot.add_subs([(l1, 1), (l2, 1)])\n",
    "robot.interact()"
   ]
  },
  {
   "cell_type": "markdown",
   "metadata": {},
   "source": [
    "Откако го конструиравме роботот, ќе ја извадиме конечната DH матрица."
   ]
  },
  {
   "cell_type": "code",
   "execution_count": 95,
   "metadata": {},
   "outputs": [
    {
     "data": {
      "text/latex": [
       "$\\displaystyle \\left[\\begin{matrix}\\cos{\\left(\\theta_{1} + \\theta_{2} \\right)} & - \\sin{\\left(\\theta_{1} + \\theta_{2} \\right)} & 0 & l_{1} \\cos{\\left(\\theta_{1} \\right)} + l_{2} \\cos{\\left(\\theta_{1} + \\theta_{2} \\right)}\\\\\\sin{\\left(\\theta_{1} + \\theta_{2} \\right)} & \\cos{\\left(\\theta_{1} + \\theta_{2} \\right)} & 0 & l_{1} \\sin{\\left(\\theta_{1} \\right)} + l_{2} \\sin{\\left(\\theta_{1} + \\theta_{2} \\right)}\\\\0 & 0 & 1 & 0\\\\0 & 0 & 0 & 1\\end{matrix}\\right]$"
      ],
      "text/plain": [
       "Matrix([\n",
       "[cos(theta1 + theta2), -sin(theta1 + theta2), 0, l1*cos(theta1) + l2*cos(theta1 + theta2)],\n",
       "[sin(theta1 + theta2),  cos(theta1 + theta2), 0, l1*sin(theta1) + l2*sin(theta1 + theta2)],\n",
       "[                   0,                     0, 1,                                        0],\n",
       "[                   0,                     0, 0,                                        1]])"
      ]
     },
     "execution_count": 95,
     "metadata": {},
     "output_type": "execute_result"
    }
   ],
   "source": [
    "T = robot.get_dh_matrix()\n",
    "T"
   ]
  },
  {
   "cell_type": "markdown",
   "metadata": {},
   "source": [
    "#### Постапка за решавање на проблемот за инверзна кинематика на овој робот, чекор по чекор, користејќи ја sympy.nonlinsolve"
   ]
  },
  {
   "cell_type": "markdown",
   "metadata": {},
   "source": [
    "Прво ги прегледуваме равенките за инверзна кинематика на овој робот."
   ]
  },
  {
   "cell_type": "code",
   "execution_count": 96,
   "metadata": {},
   "outputs": [],
   "source": [
    "xe, ye = T[:2, 3]"
   ]
  },
  {
   "cell_type": "code",
   "execution_count": 97,
   "metadata": {},
   "outputs": [
    {
     "data": {
      "text/latex": [
       "$\\displaystyle l_{1} \\cos{\\left(\\theta_{1} \\right)} + l_{2} \\cos{\\left(\\theta_{1} + \\theta_{2} \\right)}$"
      ],
      "text/plain": [
       "l1*cos(theta1) + l2*cos(theta1 + theta2)"
      ]
     },
     "execution_count": 97,
     "metadata": {},
     "output_type": "execute_result"
    }
   ],
   "source": [
    "xe"
   ]
  },
  {
   "cell_type": "code",
   "execution_count": 98,
   "metadata": {},
   "outputs": [
    {
     "data": {
      "text/latex": [
       "$\\displaystyle l_{1} \\sin{\\left(\\theta_{1} \\right)} + l_{2} \\sin{\\left(\\theta_{1} + \\theta_{2} \\right)}$"
      ],
      "text/plain": [
       "l1*sin(theta1) + l2*sin(theta1 + theta2)"
      ]
     },
     "execution_count": 98,
     "metadata": {},
     "output_type": "execute_result"
    }
   ],
   "source": [
    "ye"
   ]
  },
  {
   "cell_type": "markdown",
   "metadata": {},
   "source": [
    "Потоа ги испишуваме равенките за sympy да го реши овој систем нелинеарни равенки. Бидејќи решението не се добива директно преку аглите, мора да се користат синусите и косинусите од истите агли за да се добие решение со помош на sympy. Покрај двете равенки за директна кинематика, внесуваме уште две општи тригонометриски равенки за sympy да знае како се поврзани синусот и косинусот на даден агол."
   ]
  },
  {
   "cell_type": "code",
   "execution_count": 99,
   "metadata": {},
   "outputs": [
    {
     "data": {
      "text/latex": [
       "$\\displaystyle \\left\\{\\left( \\frac{l_{1}^{2} y - l_{2}^{2} y + x^{2} y - x \\sqrt{- l_{1}^{4} + 2 l_{1}^{2} l_{2}^{2} + 2 l_{1}^{2} x^{2} + 2 l_{1}^{2} y^{2} - l_{2}^{4} + 2 l_{2}^{2} x^{2} + 2 l_{2}^{2} y^{2} - x^{4} - 2 x^{2} y^{2} - y^{4}} + y^{3}}{2 l_{1} \\left(x^{2} + y^{2}\\right)}, \\  \\frac{l_{1}^{2} x - l_{2}^{2} x + x^{3} + x y^{2} + y \\sqrt{- l_{1}^{4} + 2 l_{1}^{2} l_{2}^{2} + 2 l_{1}^{2} x^{2} + 2 l_{1}^{2} y^{2} - l_{2}^{4} + 2 l_{2}^{2} x^{2} + 2 l_{2}^{2} y^{2} - x^{4} - 2 x^{2} y^{2} - y^{4}}}{2 l_{1} \\left(x^{2} + y^{2}\\right)}, \\  \\frac{- l_{1}^{2} y + l_{2}^{2} y + x^{2} y + x \\sqrt{- l_{1}^{4} + 2 l_{1}^{2} l_{2}^{2} + 2 l_{1}^{2} x^{2} + 2 l_{1}^{2} y^{2} - l_{2}^{4} + 2 l_{2}^{2} x^{2} + 2 l_{2}^{2} y^{2} - x^{4} - 2 x^{2} y^{2} - y^{4}} + y^{3}}{2 l_{2} \\left(x^{2} + y^{2}\\right)}, \\  \\frac{x \\left(- l_{1}^{2} + l_{2}^{2} + x^{2} + y^{2}\\right)}{2 l_{2} \\left(x^{2} + y^{2}\\right)} - \\frac{y \\sqrt{- \\left(- l_{1}^{2} - 2 l_{1} l_{2} - l_{2}^{2} + x^{2} + y^{2}\\right) \\left(- l_{1}^{2} + 2 l_{1} l_{2} - l_{2}^{2} + x^{2} + y^{2}\\right)}}{2 l_{2} \\left(x^{2} + y^{2}\\right)}\\right), \\left( \\frac{l_{1}^{2} y - l_{2}^{2} y + x^{2} y + x \\sqrt{- l_{1}^{4} + 2 l_{1}^{2} l_{2}^{2} + 2 l_{1}^{2} x^{2} + 2 l_{1}^{2} y^{2} - l_{2}^{4} + 2 l_{2}^{2} x^{2} + 2 l_{2}^{2} y^{2} - x^{4} - 2 x^{2} y^{2} - y^{4}} + y^{3}}{2 l_{1} \\left(x^{2} + y^{2}\\right)}, \\  \\frac{l_{1}^{2} x - l_{2}^{2} x + x^{3} + x y^{2} - y \\sqrt{- l_{1}^{4} + 2 l_{1}^{2} l_{2}^{2} + 2 l_{1}^{2} x^{2} + 2 l_{1}^{2} y^{2} - l_{2}^{4} + 2 l_{2}^{2} x^{2} + 2 l_{2}^{2} y^{2} - x^{4} - 2 x^{2} y^{2} - y^{4}}}{2 l_{1} \\left(x^{2} + y^{2}\\right)}, \\  \\frac{- l_{1}^{2} y + l_{2}^{2} y + x^{2} y - x \\sqrt{- l_{1}^{4} + 2 l_{1}^{2} l_{2}^{2} + 2 l_{1}^{2} x^{2} + 2 l_{1}^{2} y^{2} - l_{2}^{4} + 2 l_{2}^{2} x^{2} + 2 l_{2}^{2} y^{2} - x^{4} - 2 x^{2} y^{2} - y^{4}} + y^{3}}{2 l_{2} \\left(x^{2} + y^{2}\\right)}, \\  \\frac{x \\left(- l_{1}^{2} + l_{2}^{2} + x^{2} + y^{2}\\right)}{2 l_{2} \\left(x^{2} + y^{2}\\right)} + \\frac{y \\sqrt{- \\left(- l_{1}^{2} - 2 l_{1} l_{2} - l_{2}^{2} + x^{2} + y^{2}\\right) \\left(- l_{1}^{2} + 2 l_{1} l_{2} - l_{2}^{2} + x^{2} + y^{2}\\right)}}{2 l_{2} \\left(x^{2} + y^{2}\\right)}\\right)\\right\\}$"
      ],
      "text/plain": [
       "{((l1**2*y - l2**2*y + x**2*y - x*sqrt(-l1**4 + 2*l1**2*l2**2 + 2*l1**2*x**2 + 2*l1**2*y**2 - l2**4 + 2*l2**2*x**2 + 2*l2**2*y**2 - x**4 - 2*x**2*y**2 - y**4) + y**3)/(2*l1*(x**2 + y**2)), (l1**2*x - l2**2*x + x**3 + x*y**2 + y*sqrt(-l1**4 + 2*l1**2*l2**2 + 2*l1**2*x**2 + 2*l1**2*y**2 - l2**4 + 2*l2**2*x**2 + 2*l2**2*y**2 - x**4 - 2*x**2*y**2 - y**4))/(2*l1*(x**2 + y**2)), (-l1**2*y + l2**2*y + x**2*y + x*sqrt(-l1**4 + 2*l1**2*l2**2 + 2*l1**2*x**2 + 2*l1**2*y**2 - l2**4 + 2*l2**2*x**2 + 2*l2**2*y**2 - x**4 - 2*x**2*y**2 - y**4) + y**3)/(2*l2*(x**2 + y**2)), x*(-l1**2 + l2**2 + x**2 + y**2)/(2*l2*(x**2 + y**2)) - y*sqrt(-(-l1**2 - 2*l1*l2 - l2**2 + x**2 + y**2)*(-l1**2 + 2*l1*l2 - l2**2 + x**2 + y**2))/(2*l2*(x**2 + y**2))), ((l1**2*y - l2**2*y + x**2*y + x*sqrt(-l1**4 + 2*l1**2*l2**2 + 2*l1**2*x**2 + 2*l1**2*y**2 - l2**4 + 2*l2**2*x**2 + 2*l2**2*y**2 - x**4 - 2*x**2*y**2 - y**4) + y**3)/(2*l1*(x**2 + y**2)), (l1**2*x - l2**2*x + x**3 + x*y**2 - y*sqrt(-l1**4 + 2*l1**2*l2**2 + 2*l1**2*x**2 + 2*l1**2*y**2 - l2**4 + 2*l2**2*x**2 + 2*l2**2*y**2 - x**4 - 2*x**2*y**2 - y**4))/(2*l1*(x**2 + y**2)), (-l1**2*y + l2**2*y + x**2*y - x*sqrt(-l1**4 + 2*l1**2*l2**2 + 2*l1**2*x**2 + 2*l1**2*y**2 - l2**4 + 2*l2**2*x**2 + 2*l2**2*y**2 - x**4 - 2*x**2*y**2 - y**4) + y**3)/(2*l2*(x**2 + y**2)), x*(-l1**2 + l2**2 + x**2 + y**2)/(2*l2*(x**2 + y**2)) + y*sqrt(-(-l1**2 - 2*l1*l2 - l2**2 + x**2 + y**2)*(-l1**2 + 2*l1*l2 - l2**2 + x**2 + y**2))/(2*l2*(x**2 + y**2)))}"
      ]
     },
     "execution_count": 99,
     "metadata": {},
     "output_type": "execute_result"
    }
   ],
   "source": [
    "x, y, z = sp.symbols('x, y, z')\n",
    "s1, c1, s12, c12 = sp.symbols('s1, c1, s12, c12')\n",
    "equations = [\n",
    "    l1*c1 + l2*c12 - x,\n",
    "    l1*s1 + l2*s12 - y,\n",
    "    s1**2 + c1**2 - 1,\n",
    "    s12**2 + c12**2 - 1,\n",
    "]\n",
    "solutions = sp.nonlinsolve(equations, [s1, c1, s12, c12])\n",
    "solutions"
   ]
  },
  {
   "cell_type": "markdown",
   "metadata": {},
   "source": [
    "Сега можеме да тестираме дали е точно решението, но прво мора да ги замениме вредностите за бараната позиција и конструкциските параметри."
   ]
  },
  {
   "cell_type": "code",
   "execution_count": 100,
   "metadata": {},
   "outputs": [
    {
     "data": {
      "text/latex": [
       "$\\displaystyle \\left\\{\\left( 0.6 - 0.256306467303007 \\sqrt{2}, \\  0.35 + 0.439382515376583 \\sqrt{2}, \\  0.256306467303007 \\sqrt{2} + 0.6, \\  -0.271380712315168\\right), \\left( 0.256306467303007 \\sqrt{2} + 0.6, \\  0.35 - 0.439382515376583 \\sqrt{2}, \\  0.6 - 0.256306467303007 \\sqrt{2}, \\  0.971380712315168\\right)\\right\\}$"
      ],
      "text/plain": [
       "{(0.6 - 0.256306467303007*sqrt(2), 0.35 + 0.439382515376583*sqrt(2), 0.256306467303007*sqrt(2) + 0.6, -0.271380712315168), (0.256306467303007*sqrt(2) + 0.6, 0.35 - 0.439382515376583*sqrt(2), 0.6 - 0.256306467303007*sqrt(2), 0.971380712315168)}"
      ]
     },
     "execution_count": 100,
     "metadata": {},
     "output_type": "execute_result"
    }
   ],
   "source": [
    "solutions_subbed = solutions.subs([(x, 0.7), (y, 1.2), (l1, 1), (l2, 1)])\n",
    "solutions_subbed"
   ]
  },
  {
   "cell_type": "markdown",
   "metadata": {},
   "source": [
    "Бидејќи аглите ги претставивме преку синуси и косинуси, сега ќе ги добиете самите агли преку функцијата `atan2()`."
   ]
  },
  {
   "cell_type": "code",
   "execution_count": 101,
   "metadata": {
    "tags": []
   },
   "outputs": [
    {
     "name": "stdout",
     "output_type": "stream",
     "text": [
      "Solution 1: (13.7, 92.0)\n",
      "Solution 2: (106., -92.0)\n"
     ]
    }
   ],
   "source": [
    "for i, solution in enumerate(solutions_subbed):\n",
    "    s1n, c1n, s12n, c12n = solution\n",
    "    theta1n = sp.deg(sp.atan2(s1n, c1n)).evalf(3)\n",
    "    theta12n = sp.deg(sp.atan2(s12n, c12n)).evalf(3)\n",
    "    theta2n = theta12n - theta1n\n",
    "    print(f'Solution {i+1}: {(theta1n, theta2n)}')"
   ]
  },
  {
   "cell_type": "markdown",
   "metadata": {},
   "source": [
    "Решението можеме да го прибереме во една функција, за да изгледа компактно."
   ]
  },
  {
   "cell_type": "code",
   "execution_count": 102,
   "metadata": {},
   "outputs": [
    {
     "data": {
      "text/plain": [
       "'Решенија изразени преку симболички променливи:'"
      ]
     },
     "metadata": {},
     "output_type": "display_data"
    },
    {
     "data": {
      "text/latex": [
       "$\\displaystyle \\left\\{\\left( \\frac{l_{1}^{2} y - l_{2}^{2} y + x^{2} y - x \\sqrt{- l_{1}^{4} + 2 l_{1}^{2} l_{2}^{2} + 2 l_{1}^{2} x^{2} + 2 l_{1}^{2} y^{2} - l_{2}^{4} + 2 l_{2}^{2} x^{2} + 2 l_{2}^{2} y^{2} - x^{4} - 2 x^{2} y^{2} - y^{4}} + y^{3}}{2 l_{1} \\left(x^{2} + y^{2}\\right)}, \\  \\frac{l_{1}^{2} x - l_{2}^{2} x + x^{3} + x y^{2} + y \\sqrt{- l_{1}^{4} + 2 l_{1}^{2} l_{2}^{2} + 2 l_{1}^{2} x^{2} + 2 l_{1}^{2} y^{2} - l_{2}^{4} + 2 l_{2}^{2} x^{2} + 2 l_{2}^{2} y^{2} - x^{4} - 2 x^{2} y^{2} - y^{4}}}{2 l_{1} \\left(x^{2} + y^{2}\\right)}, \\  \\frac{- l_{1}^{2} y + l_{2}^{2} y + x^{2} y + x \\sqrt{- l_{1}^{4} + 2 l_{1}^{2} l_{2}^{2} + 2 l_{1}^{2} x^{2} + 2 l_{1}^{2} y^{2} - l_{2}^{4} + 2 l_{2}^{2} x^{2} + 2 l_{2}^{2} y^{2} - x^{4} - 2 x^{2} y^{2} - y^{4}} + y^{3}}{2 l_{2} \\left(x^{2} + y^{2}\\right)}, \\  \\frac{x \\left(- l_{1}^{2} + l_{2}^{2} + x^{2} + y^{2}\\right)}{2 l_{2} \\left(x^{2} + y^{2}\\right)} - \\frac{y \\sqrt{- \\left(- l_{1}^{2} - 2 l_{1} l_{2} - l_{2}^{2} + x^{2} + y^{2}\\right) \\left(- l_{1}^{2} + 2 l_{1} l_{2} - l_{2}^{2} + x^{2} + y^{2}\\right)}}{2 l_{2} \\left(x^{2} + y^{2}\\right)}\\right), \\left( \\frac{l_{1}^{2} y - l_{2}^{2} y + x^{2} y + x \\sqrt{- l_{1}^{4} + 2 l_{1}^{2} l_{2}^{2} + 2 l_{1}^{2} x^{2} + 2 l_{1}^{2} y^{2} - l_{2}^{4} + 2 l_{2}^{2} x^{2} + 2 l_{2}^{2} y^{2} - x^{4} - 2 x^{2} y^{2} - y^{4}} + y^{3}}{2 l_{1} \\left(x^{2} + y^{2}\\right)}, \\  \\frac{l_{1}^{2} x - l_{2}^{2} x + x^{3} + x y^{2} - y \\sqrt{- l_{1}^{4} + 2 l_{1}^{2} l_{2}^{2} + 2 l_{1}^{2} x^{2} + 2 l_{1}^{2} y^{2} - l_{2}^{4} + 2 l_{2}^{2} x^{2} + 2 l_{2}^{2} y^{2} - x^{4} - 2 x^{2} y^{2} - y^{4}}}{2 l_{1} \\left(x^{2} + y^{2}\\right)}, \\  \\frac{- l_{1}^{2} y + l_{2}^{2} y + x^{2} y - x \\sqrt{- l_{1}^{4} + 2 l_{1}^{2} l_{2}^{2} + 2 l_{1}^{2} x^{2} + 2 l_{1}^{2} y^{2} - l_{2}^{4} + 2 l_{2}^{2} x^{2} + 2 l_{2}^{2} y^{2} - x^{4} - 2 x^{2} y^{2} - y^{4}} + y^{3}}{2 l_{2} \\left(x^{2} + y^{2}\\right)}, \\  \\frac{x \\left(- l_{1}^{2} + l_{2}^{2} + x^{2} + y^{2}\\right)}{2 l_{2} \\left(x^{2} + y^{2}\\right)} + \\frac{y \\sqrt{- \\left(- l_{1}^{2} - 2 l_{1} l_{2} - l_{2}^{2} + x^{2} + y^{2}\\right) \\left(- l_{1}^{2} + 2 l_{1} l_{2} - l_{2}^{2} + x^{2} + y^{2}\\right)}}{2 l_{2} \\left(x^{2} + y^{2}\\right)}\\right)\\right\\}$"
      ],
      "text/plain": [
       "{((l1**2*y - l2**2*y + x**2*y - x*sqrt(-l1**4 + 2*l1**2*l2**2 + 2*l1**2*x**2 + 2*l1**2*y**2 - l2**4 + 2*l2**2*x**2 + 2*l2**2*y**2 - x**4 - 2*x**2*y**2 - y**4) + y**3)/(2*l1*(x**2 + y**2)), (l1**2*x - l2**2*x + x**3 + x*y**2 + y*sqrt(-l1**4 + 2*l1**2*l2**2 + 2*l1**2*x**2 + 2*l1**2*y**2 - l2**4 + 2*l2**2*x**2 + 2*l2**2*y**2 - x**4 - 2*x**2*y**2 - y**4))/(2*l1*(x**2 + y**2)), (-l1**2*y + l2**2*y + x**2*y + x*sqrt(-l1**4 + 2*l1**2*l2**2 + 2*l1**2*x**2 + 2*l1**2*y**2 - l2**4 + 2*l2**2*x**2 + 2*l2**2*y**2 - x**4 - 2*x**2*y**2 - y**4) + y**3)/(2*l2*(x**2 + y**2)), x*(-l1**2 + l2**2 + x**2 + y**2)/(2*l2*(x**2 + y**2)) - y*sqrt(-(-l1**2 - 2*l1*l2 - l2**2 + x**2 + y**2)*(-l1**2 + 2*l1*l2 - l2**2 + x**2 + y**2))/(2*l2*(x**2 + y**2))), ((l1**2*y - l2**2*y + x**2*y + x*sqrt(-l1**4 + 2*l1**2*l2**2 + 2*l1**2*x**2 + 2*l1**2*y**2 - l2**4 + 2*l2**2*x**2 + 2*l2**2*y**2 - x**4 - 2*x**2*y**2 - y**4) + y**3)/(2*l1*(x**2 + y**2)), (l1**2*x - l2**2*x + x**3 + x*y**2 - y*sqrt(-l1**4 + 2*l1**2*l2**2 + 2*l1**2*x**2 + 2*l1**2*y**2 - l2**4 + 2*l2**2*x**2 + 2*l2**2*y**2 - x**4 - 2*x**2*y**2 - y**4))/(2*l1*(x**2 + y**2)), (-l1**2*y + l2**2*y + x**2*y - x*sqrt(-l1**4 + 2*l1**2*l2**2 + 2*l1**2*x**2 + 2*l1**2*y**2 - l2**4 + 2*l2**2*x**2 + 2*l2**2*y**2 - x**4 - 2*x**2*y**2 - y**4) + y**3)/(2*l2*(x**2 + y**2)), x*(-l1**2 + l2**2 + x**2 + y**2)/(2*l2*(x**2 + y**2)) + y*sqrt(-(-l1**2 - 2*l1*l2 - l2**2 + x**2 + y**2)*(-l1**2 + 2*l1*l2 - l2**2 + x**2 + y**2))/(2*l2*(x**2 + y**2)))}"
      ]
     },
     "metadata": {},
     "output_type": "display_data"
    },
    {
     "name": "stdout",
     "output_type": "stream",
     "text": [
      "Решенија изразени преку нумерички вредности 1: (46.0, 55.3)\n",
      "Решенија изразени преку нумерички вредности 2: (101., -55.3)\n"
     ]
    }
   ],
   "source": [
    "def inverse_kinematics(xn, yn):\n",
    "    x, y, z = sp.symbols('x, y, z')\n",
    "    s1, c1, s12, c12 = sp.symbols('s1, c1, s12, c12')\n",
    "    equations = [\n",
    "        l1*c1 + l2*c12 - x,\n",
    "        l1*s1 + l2*s12 - y,\n",
    "        s1**2 + c1**2 - 1,\n",
    "        s12**2 + c12**2 - 1]\n",
    "    solutions = sp.nonlinsolve(equations, [s1, c1, s12, c12])\n",
    "    display('Решенија изразени преку симболички променливи:')\n",
    "    display(solutions)\n",
    "    solutions_subbed = solutions.subs([(x, xn), (y, yn), (l1, 1), (l2, 1)])\n",
    "    for i, solution in enumerate(solutions_subbed):\n",
    "        s1n, c1n, s12n, c12n = solution\n",
    "        theta1n = sp.deg(sp.atan2(s1n, c1n)).evalf(3)\n",
    "        theta12n = sp.deg(sp.atan2(s12n, c12n)).evalf(3)\n",
    "        theta2n = theta12n - theta1n\n",
    "        print(f'Решенија изразени преку нумерички вредности {i+1}: {(theta1n, theta2n)}')\n",
    "\n",
    "\n",
    "inverse_kinematics(xn=0.5, yn=1.7)"
   ]
  },
  {
   "cell_type": "markdown",
   "metadata": {},
   "source": [
    "### Задача 2.61"
   ]
  },
  {
   "cell_type": "code",
   "execution_count": 103,
   "metadata": {},
   "outputs": [
    {
     "data": {
      "text/html": [
       "\n",
       "        <iframe\n",
       "            width=\"400\"\n",
       "            height=\"300\"\n",
       "            src=\"https://drive.google.com/file/d/14MN5DozPmAN7WlsDVU8_3OzxF1auEDS0/preview\"\n",
       "            frameborder=\"0\"\n",
       "            allowfullscreen\n",
       "            \n",
       "        ></iframe>\n",
       "        "
      ],
      "text/plain": [
       "<IPython.lib.display.IFrame at 0x7f82b6f14940>"
      ]
     },
     "execution_count": 103,
     "metadata": {},
     "output_type": "execute_result"
    }
   ],
   "source": [
    "IFrame(src='https://drive.google.com/file/d/14MN5DozPmAN7WlsDVU8_3OzxF1auEDS0/preview', width='400', height='300')"
   ]
  },
  {
   "cell_type": "markdown",
   "metadata": {},
   "source": [
    "Во збирката не е наведено дека кое е барањето при инверзната кинематика. Според решението во збирката, се бара одговор на инверзната кинематика за позиција, па на тој начин ќе ја решаваме задача.\n",
    "\n",
    "Овој тип на задачи се решава на рака. Користете го знаењето стекнато по математика, како знаете и умеете, за да ги изразите вредносите на зглобовите. Тригонометриските идентите многу ќе ви помогнат во решавањето. Интерактивната околина нека ви биде помагало за да проверите дали ви се точни вредностите кои сте ги добиле од пресметките. Дополнително, можете да ја искористите библиотеката `sympy` за упростување на математичките изрази со функцијата `simplify()`. `Sympy` знае да работи со тригонометриски идентитети.\n",
    "\n",
    "Прво ќе го конструираме роботот со помош на интерактивната околината. DH табелата е веќе дадена."
   ]
  },
  {
   "cell_type": "code",
   "execution_count": 104,
   "metadata": {},
   "outputs": [
    {
     "data": {
      "application/vnd.jupyter.widget-view+json": {
       "model_id": "0bb8ff03e1004f1fbb24ba72462f8c33",
       "version_major": 2,
       "version_minor": 0
      },
      "text/plain": [
       "VBox(children=(HBox(children=(ToggleButton(value=True, description='Исклучи цртање'), Button(description='Пром…"
      ]
     },
     "metadata": {},
     "output_type": "display_data"
    }
   ],
   "source": [
    "theta1, theta2, d3, d1 = sp.symbols('theta1, theta2, d3, d1')\n",
    "robot = rt.SerialLinkRobot()\n",
    "robot.add_revolute_joint(theta1, d1, 0, -sp.pi/2)\n",
    "robot.add_revolute_joint(theta2, 0, 0, sp.pi/2)\n",
    "robot.add_prismatic_joint(0, d3, 0, 0)\n",
    "robot.add_subs([(d1, 0)])\n",
    "robot.interact()"
   ]
  },
  {
   "cell_type": "markdown",
   "metadata": {},
   "source": [
    "Потоа ја добиваме матрицата на директната кинематика. "
   ]
  },
  {
   "cell_type": "code",
   "execution_count": 105,
   "metadata": {},
   "outputs": [
    {
     "data": {
      "text/latex": [
       "$\\displaystyle \\left[\\begin{matrix}\\cos{\\left(\\theta_{1} \\right)} \\cos{\\left(\\theta_{2} \\right)} & - \\sin{\\left(\\theta_{1} \\right)} & \\sin{\\left(\\theta_{2} \\right)} \\cos{\\left(\\theta_{1} \\right)} & d_{3} \\sin{\\left(\\theta_{2} \\right)} \\cos{\\left(\\theta_{1} \\right)}\\\\\\sin{\\left(\\theta_{1} \\right)} \\cos{\\left(\\theta_{2} \\right)} & \\cos{\\left(\\theta_{1} \\right)} & \\sin{\\left(\\theta_{1} \\right)} \\sin{\\left(\\theta_{2} \\right)} & d_{3} \\sin{\\left(\\theta_{1} \\right)} \\sin{\\left(\\theta_{2} \\right)}\\\\- \\sin{\\left(\\theta_{2} \\right)} & 0 & \\cos{\\left(\\theta_{2} \\right)} & d_{1} + d_{3} \\cos{\\left(\\theta_{2} \\right)}\\\\0 & 0 & 0 & 1\\end{matrix}\\right]$"
      ],
      "text/plain": [
       "Matrix([\n",
       "[cos(theta1)*cos(theta2), -sin(theta1), sin(theta2)*cos(theta1), d3*sin(theta2)*cos(theta1)],\n",
       "[sin(theta1)*cos(theta2),  cos(theta1), sin(theta1)*sin(theta2), d3*sin(theta1)*sin(theta2)],\n",
       "[           -sin(theta2),            0,             cos(theta2),        d1 + d3*cos(theta2)],\n",
       "[                      0,            0,                       0,                          1]])"
      ]
     },
     "execution_count": 105,
     "metadata": {},
     "output_type": "execute_result"
    }
   ],
   "source": [
    "T = robot.get_dh_matrix()\n",
    "T"
   ]
  },
  {
   "cell_type": "markdown",
   "metadata": {},
   "source": [
    "Од тука ќе ги искористиме изразите за векторот на позиција за да ги определиме вредностите на $\\theta_1, \\theta_2$ и $d_3$."
   ]
  },
  {
   "cell_type": "code",
   "execution_count": 106,
   "metadata": {},
   "outputs": [
    {
     "data": {
      "text/latex": [
       "$\\displaystyle d_{3} \\sin{\\left(\\theta_{1} \\right)} \\sin{\\left(\\theta_{2} \\right)}$"
      ],
      "text/plain": [
       "d3*sin(theta1)*sin(theta2)"
      ]
     },
     "execution_count": 106,
     "metadata": {},
     "output_type": "execute_result"
    }
   ],
   "source": [
    "x, y, z = T[:3, 3]\n",
    "y"
   ]
  },
  {
   "cell_type": "markdown",
   "metadata": {},
   "source": [
    "Очигледно е дека $\\cfrac{y}{x} = \\tan(\\theta_1)$,"
   ]
  },
  {
   "cell_type": "code",
   "execution_count": 107,
   "metadata": {},
   "outputs": [
    {
     "data": {
      "text/latex": [
       "$\\displaystyle \\tan{\\left(\\theta_{1} \\right)}$"
      ],
      "text/plain": [
       "tan(theta1)"
      ]
     },
     "execution_count": 107,
     "metadata": {},
     "output_type": "execute_result"
    }
   ],
   "source": [
    "sp.simplify(y / x)"
   ]
  },
  {
   "cell_type": "markdown",
   "metadata": {},
   "source": [
    "па лесно изразуваме $\\theta_1 = \\arctan2(y, x)$."
   ]
  },
  {
   "cell_type": "markdown",
   "metadata": {},
   "source": [
    "Изразот $x^2 + y^2$ се состои од синус, а нема косинус."
   ]
  },
  {
   "cell_type": "code",
   "execution_count": 108,
   "metadata": {},
   "outputs": [
    {
     "data": {
      "text/latex": [
       "$\\displaystyle d_{3}^{2} \\sin^{2}{\\left(\\theta_{2} \\right)}$"
      ],
      "text/plain": [
       "d3**2*sin(theta2)**2"
      ]
     },
     "execution_count": 108,
     "metadata": {},
     "output_type": "execute_result"
    }
   ],
   "source": [
    "sp.simplify(x ** 2 + y ** 2)"
   ]
  },
  {
   "cell_type": "markdown",
   "metadata": {},
   "source": [
    "Изразот $(z - d_1)^2$ се состои од косинус, а нема синус. "
   ]
  },
  {
   "cell_type": "code",
   "execution_count": 109,
   "metadata": {},
   "outputs": [
    {
     "data": {
      "text/latex": [
       "$\\displaystyle d_{3}^{2} \\cos^{2}{\\left(\\theta_{2} \\right)}$"
      ],
      "text/plain": [
       "d3**2*cos(theta2)**2"
      ]
     },
     "execution_count": 109,
     "metadata": {},
     "output_type": "execute_result"
    }
   ],
   "source": [
    "(z - d1) ** 2"
   ]
  },
  {
   "cell_type": "markdown",
   "metadata": {},
   "source": [
    "Заклучуваме дека можеме да ги искористиме изразите $x^2 + y^2$ и $(z - d_1)^2$ за да го добиеме тангенсот на $\\theta_2$."
   ]
  },
  {
   "cell_type": "code",
   "execution_count": 110,
   "metadata": {},
   "outputs": [
    {
     "data": {
      "text/latex": [
       "$\\displaystyle \\tan^{2}{\\left(\\theta_{2} \\right)}$"
      ],
      "text/plain": [
       "tan(theta2)**2"
      ]
     },
     "execution_count": 110,
     "metadata": {},
     "output_type": "execute_result"
    }
   ],
   "source": [
    "sp.simplify((x ** 2 + y ** 2) / (z - d1) ** 2)"
   ]
  },
  {
   "cell_type": "markdown",
   "metadata": {},
   "source": [
    "Од тука натаму е лесно, $\\theta_2 = \\arctan2(\\sqrt{x^2 + y^2}, z - d_\n",
    "1)$"
   ]
  },
  {
   "cell_type": "markdown",
   "metadata": {},
   "source": [
    "Откако ја знаеме вредноста на $\\theta_2$, ќе го изразиме $d_3$ од равенката на $z$."
   ]
  },
  {
   "cell_type": "code",
   "execution_count": 111,
   "metadata": {},
   "outputs": [
    {
     "data": {
      "text/latex": [
       "$\\displaystyle d_{3}$"
      ],
      "text/plain": [
       "d3"
      ]
     },
     "execution_count": 111,
     "metadata": {},
     "output_type": "execute_result"
    }
   ],
   "source": [
    "(z - d1) / sp.cos(theta2)"
   ]
  },
  {
   "cell_type": "markdown",
   "metadata": {},
   "source": [
    "Се добива $d_3 = \\cfrac{z-d_1}{\\cos(\\theta_2)}$"
   ]
  },
  {
   "cell_type": "markdown",
   "metadata": {},
   "source": [
    "За крај останува да ги испитате специјалните случаи. На пример, во изразот за $\\cfrac{y}{x}$ кратиме со $\\sin(\\theta_2)$, па треба соодветно да ги пресметаме и толкуваме вредностите на останатите зглобови кога $\\sin(\\theta_2) = 0$ бидејќи горедобиените равенки не важат во овој специјален случај."
   ]
  },
  {
   "cell_type": "markdown",
   "metadata": {},
   "source": [
    "На друг начин, решението може да се добие преку sympy."
   ]
  },
  {
   "cell_type": "code",
   "execution_count": 119,
   "metadata": {},
   "outputs": [
    {
     "data": {
      "text/plain": [
       "'Решенија изразени преку симболички променливи:'"
      ]
     },
     "metadata": {},
     "output_type": "display_data"
    },
    {
     "data": {
      "text/latex": [
       "$\\displaystyle \\left\\{\\left( - \\frac{y \\sqrt{\\frac{x^{2} + y^{2}}{d_{1}^{2} - 2 d_{1} z + x^{2} + y^{2} + z^{2}}} \\sqrt{d_{1}^{2} - 2 d_{1} z + x^{2} + y^{2} + z^{2}}}{x^{2} + y^{2}}, \\  - \\frac{x \\sqrt{\\frac{x^{2} + y^{2}}{d_{1}^{2} - 2 d_{1} z + x^{2} + y^{2} + z^{2}}} \\sqrt{d_{1}^{2} - 2 d_{1} z + x^{2} + y^{2} + z^{2}}}{x^{2} + y^{2}}, \\  - \\sqrt{\\frac{x^{2} + y^{2}}{d_{1}^{2} - 2 d_{1} z + x^{2} + y^{2} + z^{2}}}, \\  \\frac{- d_{1} + z}{\\sqrt{d_{1}^{2} - 2 d_{1} z + x^{2} + y^{2} + z^{2}}}, \\  \\sqrt{d_{1}^{2} - 2 d_{1} z + x^{2} + y^{2} + z^{2}}\\right), \\left( - \\frac{y \\sqrt{\\frac{x^{2} + y^{2}}{d_{1}^{2} - 2 d_{1} z + x^{2} + y^{2} + z^{2}}} \\sqrt{d_{1}^{2} - 2 d_{1} z + x^{2} + y^{2} + z^{2}}}{x^{2} + y^{2}}, \\  - \\frac{x \\sqrt{\\frac{x^{2} + y^{2}}{d_{1}^{2} - 2 d_{1} z + x^{2} + y^{2} + z^{2}}} \\sqrt{d_{1}^{2} - 2 d_{1} z + x^{2} + y^{2} + z^{2}}}{x^{2} + y^{2}}, \\  \\sqrt{\\frac{x^{2} + y^{2}}{d_{1}^{2} - 2 d_{1} z + x^{2} + y^{2} + z^{2}}}, \\  \\frac{d_{1} - z}{\\sqrt{d_{1}^{2} - 2 d_{1} z + x^{2} + y^{2} + z^{2}}}, \\  - \\sqrt{d_{1}^{2} - 2 d_{1} z + x^{2} + y^{2} + z^{2}}\\right), \\left( \\frac{y \\sqrt{\\frac{x^{2} + y^{2}}{d_{1}^{2} - 2 d_{1} z + x^{2} + y^{2} + z^{2}}} \\sqrt{d_{1}^{2} - 2 d_{1} z + x^{2} + y^{2} + z^{2}}}{x^{2} + y^{2}}, \\  \\frac{x \\sqrt{\\frac{x^{2} + y^{2}}{d_{1}^{2} - 2 d_{1} z + x^{2} + y^{2} + z^{2}}} \\sqrt{d_{1}^{2} - 2 d_{1} z + x^{2} + y^{2} + z^{2}}}{x^{2} + y^{2}}, \\  - \\sqrt{\\frac{x^{2} + y^{2}}{d_{1}^{2} - 2 d_{1} z + x^{2} + y^{2} + z^{2}}}, \\  \\frac{d_{1} - z}{\\sqrt{d_{1}^{2} - 2 d_{1} z + x^{2} + y^{2} + z^{2}}}, \\  - \\sqrt{d_{1}^{2} - 2 d_{1} z + x^{2} + y^{2} + z^{2}}\\right), \\left( \\frac{y \\sqrt{\\frac{x^{2} + y^{2}}{d_{1}^{2} - 2 d_{1} z + x^{2} + y^{2} + z^{2}}} \\sqrt{d_{1}^{2} - 2 d_{1} z + x^{2} + y^{2} + z^{2}}}{x^{2} + y^{2}}, \\  \\frac{x \\sqrt{\\frac{x^{2} + y^{2}}{d_{1}^{2} - 2 d_{1} z + x^{2} + y^{2} + z^{2}}} \\sqrt{d_{1}^{2} - 2 d_{1} z + x^{2} + y^{2} + z^{2}}}{x^{2} + y^{2}}, \\  \\sqrt{\\frac{x^{2} + y^{2}}{d_{1}^{2} - 2 d_{1} z + x^{2} + y^{2} + z^{2}}}, \\  \\frac{- d_{1} + z}{\\sqrt{d_{1}^{2} - 2 d_{1} z + x^{2} + y^{2} + z^{2}}}, \\  \\sqrt{d_{1}^{2} - 2 d_{1} z + x^{2} + y^{2} + z^{2}}\\right)\\right\\}$"
      ],
      "text/plain": [
       "{(-y*sqrt((x**2 + y**2)/(d1**2 - 2*d1*z + x**2 + y**2 + z**2))*sqrt(d1**2 - 2*d1*z + x**2 + y**2 + z**2)/(x**2 + y**2), -x*sqrt((x**2 + y**2)/(d1**2 - 2*d1*z + x**2 + y**2 + z**2))*sqrt(d1**2 - 2*d1*z + x**2 + y**2 + z**2)/(x**2 + y**2), -sqrt((x**2 + y**2)/(d1**2 - 2*d1*z + x**2 + y**2 + z**2)), (-d1 + z)/sqrt(d1**2 - 2*d1*z + x**2 + y**2 + z**2), sqrt(d1**2 - 2*d1*z + x**2 + y**2 + z**2)), (-y*sqrt((x**2 + y**2)/(d1**2 - 2*d1*z + x**2 + y**2 + z**2))*sqrt(d1**2 - 2*d1*z + x**2 + y**2 + z**2)/(x**2 + y**2), -x*sqrt((x**2 + y**2)/(d1**2 - 2*d1*z + x**2 + y**2 + z**2))*sqrt(d1**2 - 2*d1*z + x**2 + y**2 + z**2)/(x**2 + y**2), sqrt((x**2 + y**2)/(d1**2 - 2*d1*z + x**2 + y**2 + z**2)), (d1 - z)/sqrt(d1**2 - 2*d1*z + x**2 + y**2 + z**2), -sqrt(d1**2 - 2*d1*z + x**2 + y**2 + z**2)), (y*sqrt((x**2 + y**2)/(d1**2 - 2*d1*z + x**2 + y**2 + z**2))*sqrt(d1**2 - 2*d1*z + x**2 + y**2 + z**2)/(x**2 + y**2), x*sqrt((x**2 + y**2)/(d1**2 - 2*d1*z + x**2 + y**2 + z**2))*sqrt(d1**2 - 2*d1*z + x**2 + y**2 + z**2)/(x**2 + y**2), -sqrt((x**2 + y**2)/(d1**2 - 2*d1*z + x**2 + y**2 + z**2)), (d1 - z)/sqrt(d1**2 - 2*d1*z + x**2 + y**2 + z**2), -sqrt(d1**2 - 2*d1*z + x**2 + y**2 + z**2)), (y*sqrt((x**2 + y**2)/(d1**2 - 2*d1*z + x**2 + y**2 + z**2))*sqrt(d1**2 - 2*d1*z + x**2 + y**2 + z**2)/(x**2 + y**2), x*sqrt((x**2 + y**2)/(d1**2 - 2*d1*z + x**2 + y**2 + z**2))*sqrt(d1**2 - 2*d1*z + x**2 + y**2 + z**2)/(x**2 + y**2), sqrt((x**2 + y**2)/(d1**2 - 2*d1*z + x**2 + y**2 + z**2)), (-d1 + z)/sqrt(d1**2 - 2*d1*z + x**2 + y**2 + z**2), sqrt(d1**2 - 2*d1*z + x**2 + y**2 + z**2))}"
      ]
     },
     "metadata": {},
     "output_type": "display_data"
    },
    {
     "name": "stdout",
     "output_type": "stream",
     "text": [
      "Решенија изразени преку нумерички вредности 1: (-90.0, -112., -2.69)\n",
      "Решенија изразени преку нумерички вредности 2: (-90.0, 68.2, 2.69)\n",
      "Решенија изразени преку нумерички вредности 3: (90.0, -68.2, 2.69)\n",
      "Решенија изразени преку нумерички вредности 4: (90.0, 112., -2.69)\n"
     ]
    }
   ],
   "source": [
    "def inverse_kinematics(xn, yn, zn):\n",
    "    x, y, z = sp.symbols('x, y, z')\n",
    "    s1, c1, s2, c2 = sp.symbols('s1, c1, s2, c2')\n",
    "    equations = [\n",
    "        d3*s2*c1 - x,\n",
    "        d3*s1*s2 - y,\n",
    "        d1 + d3*c2 - z,\n",
    "        s1**2 + c1**2 - 1,\n",
    "        s2**2 + c2**2 - 1]\n",
    "    solutions = sp.nonlinsolve(equations, [s1, c1, s2, c2, d3])\n",
    "    display('Решенија изразени преку симболички променливи:')\n",
    "    display(solutions)\n",
    "    solutions_subbed = solutions.subs([(x, xn), (y, yn), (z, zn), (d1, 0)])\n",
    "    for i, solution in enumerate(solutions_subbed):\n",
    "        s1n, c1n, s2n, c2n, d3n = solution\n",
    "        theta1n = sp.deg(sp.atan2(s1n, c1n)).evalf(3)\n",
    "        theta2n = sp.deg(sp.atan2(s2n, c2n)).evalf(3)\n",
    "        d3n = d3n.evalf(3)\n",
    "        print(f'Решенија изразени преку нумерички вредности {i+1}: {(theta1n, theta2n, d3n)}')\n",
    "\n",
    "\n",
    "inverse_kinematics(xn=0, yn=-2.5, zn=1)"
   ]
  },
  {
   "cell_type": "markdown",
   "metadata": {},
   "source": [
    "### Задача 2.62"
   ]
  },
  {
   "cell_type": "markdown",
   "metadata": {},
   "source": [
    "Во збирката не е наведено дека кое е барањето при инверзната кинематика. Според решението во збирката, се бара одговор на инверзната кинематика за позиција, па на тој начин ќе ја решаваме задача.\n",
    "\n",
    "Се решава многу слично на 2.61.\n",
    "\n",
    "Прво ќе го конструираме роботот со помош на интерактивната околината. DH табелата е веќе дадена."
   ]
  },
  {
   "cell_type": "code",
   "execution_count": 122,
   "metadata": {},
   "outputs": [
    {
     "data": {
      "application/vnd.jupyter.widget-view+json": {
       "model_id": "e438fb82de7c4a0b9961c302e3676df5",
       "version_major": 2,
       "version_minor": 0
      },
      "text/plain": [
       "VBox(children=(HBox(children=(ToggleButton(value=True, description='Исклучи цртање'), Button(description='Пром…"
      ]
     },
     "metadata": {},
     "output_type": "display_data"
    }
   ],
   "source": [
    "theta1, theta2, d3, d1, d2 = sp.symbols('theta1, theta2, d3, d1, d2')\n",
    "robot = rt.SerialLinkRobot()\n",
    "robot.add_revolute_joint(theta1, d1, 0, -sp.pi/2)\n",
    "robot.add_revolute_joint(theta2, d2, 0, sp.pi/2)\n",
    "robot.add_prismatic_joint(0, d3, 0, 0)\n",
    "robot.add_subs([(d1, 1), (d2, 1)])\n",
    "robot.interact()"
   ]
  },
  {
   "cell_type": "markdown",
   "metadata": {},
   "source": [
    "Потоа ја добиваме матрицата на директната кинематика. "
   ]
  },
  {
   "cell_type": "code",
   "execution_count": 123,
   "metadata": {},
   "outputs": [
    {
     "data": {
      "text/latex": [
       "$\\displaystyle \\left[\\begin{matrix}\\cos{\\left(\\theta_{1} \\right)} \\cos{\\left(\\theta_{2} \\right)} & - \\sin{\\left(\\theta_{1} \\right)} & \\sin{\\left(\\theta_{2} \\right)} \\cos{\\left(\\theta_{1} \\right)} & - d_{2} \\sin{\\left(\\theta_{1} \\right)} + d_{3} \\sin{\\left(\\theta_{2} \\right)} \\cos{\\left(\\theta_{1} \\right)}\\\\\\sin{\\left(\\theta_{1} \\right)} \\cos{\\left(\\theta_{2} \\right)} & \\cos{\\left(\\theta_{1} \\right)} & \\sin{\\left(\\theta_{1} \\right)} \\sin{\\left(\\theta_{2} \\right)} & d_{2} \\cos{\\left(\\theta_{1} \\right)} + d_{3} \\sin{\\left(\\theta_{1} \\right)} \\sin{\\left(\\theta_{2} \\right)}\\\\- \\sin{\\left(\\theta_{2} \\right)} & 0 & \\cos{\\left(\\theta_{2} \\right)} & d_{1} + d_{3} \\cos{\\left(\\theta_{2} \\right)}\\\\0 & 0 & 0 & 1\\end{matrix}\\right]$"
      ],
      "text/plain": [
       "Matrix([\n",
       "[cos(theta1)*cos(theta2), -sin(theta1), sin(theta2)*cos(theta1), -d2*sin(theta1) + d3*sin(theta2)*cos(theta1)],\n",
       "[sin(theta1)*cos(theta2),  cos(theta1), sin(theta1)*sin(theta2),  d2*cos(theta1) + d3*sin(theta1)*sin(theta2)],\n",
       "[           -sin(theta2),            0,             cos(theta2),                          d1 + d3*cos(theta2)],\n",
       "[                      0,            0,                       0,                                            1]])"
      ]
     },
     "execution_count": 123,
     "metadata": {},
     "output_type": "execute_result"
    }
   ],
   "source": [
    "T = robot.get_dh_matrix()\n",
    "T"
   ]
  },
  {
   "cell_type": "markdown",
   "metadata": {},
   "source": [
    "Од тука ќе ги искористиме изразите за векторот на позиција за да ги определиме вредностите на $\\theta_1, \\theta_2$ и $d_3$."
   ]
  },
  {
   "cell_type": "code",
   "execution_count": 16,
   "metadata": {},
   "outputs": [
    {
     "data": {
      "text/latex": [
       "$\\displaystyle d_{2} \\cos{\\left(\\theta_{1} \\right)} + d_{3} \\sin{\\left(\\theta_{1} \\right)} \\sin{\\left(\\theta_{2} \\right)}$"
      ],
      "text/plain": [
       "d2*cos(theta1) + d3*sin(theta1)*sin(theta2)"
      ]
     },
     "execution_count": 16,
     "metadata": {},
     "output_type": "execute_result"
    }
   ],
   "source": [
    "x, y, z = T[:3, 3]\n",
    "y"
   ]
  },
  {
   "cell_type": "markdown",
   "metadata": {},
   "source": [
    "Изразот $x^2 + y^2$ се состои од синус, а нема косинус."
   ]
  },
  {
   "cell_type": "code",
   "execution_count": 17,
   "metadata": {},
   "outputs": [
    {
     "data": {
      "text/latex": [
       "$\\displaystyle d_{3}^{2} \\sin^{2}{\\left(\\theta_{2} \\right)}$"
      ],
      "text/plain": [
       "d3**2*sin(theta2)**2"
      ]
     },
     "execution_count": 17,
     "metadata": {},
     "output_type": "execute_result"
    }
   ],
   "source": [
    "sp.simplify(x**2 + y**2 - d2**2)"
   ]
  },
  {
   "cell_type": "markdown",
   "metadata": {},
   "source": [
    "Изразот $(z - d_1)^2$ се состои од косинус, а нема синус. "
   ]
  },
  {
   "cell_type": "code",
   "execution_count": 18,
   "metadata": {},
   "outputs": [
    {
     "data": {
      "text/latex": [
       "$\\displaystyle d_{3}^{2} \\cos^{2}{\\left(\\theta_{2} \\right)}$"
      ],
      "text/plain": [
       "d3**2*cos(theta2)**2"
      ]
     },
     "execution_count": 18,
     "metadata": {},
     "output_type": "execute_result"
    }
   ],
   "source": [
    "(z - d1) ** 2"
   ]
  },
  {
   "cell_type": "markdown",
   "metadata": {},
   "source": [
    "Заклучуваме дека можеме да ги искористиме изразите $x^2 + y^2$ и $(z - d_1)^2$ за да го добиеме тангенсот на $\\theta_2$."
   ]
  },
  {
   "cell_type": "code",
   "execution_count": 19,
   "metadata": {},
   "outputs": [
    {
     "data": {
      "text/latex": [
       "$\\displaystyle \\tan^{2}{\\left(\\theta_{2} \\right)}$"
      ],
      "text/plain": [
       "tan(theta2)**2"
      ]
     },
     "execution_count": 19,
     "metadata": {},
     "output_type": "execute_result"
    }
   ],
   "source": [
    "sp.simplify((x**2 + y**2 - d2**2) / (z - d1) ** 2)"
   ]
  },
  {
   "cell_type": "markdown",
   "metadata": {},
   "source": [
    "Од тука натаму е лесно, $\\theta_2 = \\arctan2(\\sqrt{x^2 + y^2 -d_2^2}, z - d_1)$."
   ]
  },
  {
   "cell_type": "markdown",
   "metadata": {},
   "source": [
    "Следува изразувањето на $\\theta_1$. Имајќи ги предвид $x$ и $y$, ќе добиеме значително упростени изрази за $x\\cos(\\theta_1) + y\\sin(\\theta_1)$  и $x\\sin(\\theta_1) - y\\cos(\\theta_1)$."
   ]
  },
  {
   "cell_type": "code",
   "execution_count": 20,
   "metadata": {},
   "outputs": [
    {
     "data": {
      "text/latex": [
       "$\\displaystyle d_{3} \\sin{\\left(\\theta_{2} \\right)}$"
      ],
      "text/plain": [
       "d3*sin(theta2)"
      ]
     },
     "execution_count": 20,
     "metadata": {},
     "output_type": "execute_result"
    }
   ],
   "source": [
    "sp.simplify(x * sp.cos(theta1) + y * sp.sin(theta1))"
   ]
  },
  {
   "cell_type": "code",
   "execution_count": 21,
   "metadata": {},
   "outputs": [
    {
     "data": {
      "text/latex": [
       "$\\displaystyle - d_{2}$"
      ],
      "text/plain": [
       "-d2"
      ]
     },
     "execution_count": 21,
     "metadata": {},
     "output_type": "execute_result"
    }
   ],
   "source": [
    "sp.simplify(x * sp.sin(theta1) - y * sp.cos(theta1))"
   ]
  },
  {
   "cell_type": "markdown",
   "metadata": {},
   "source": [
    "Понатаму рачно го изразуваме $\\sin(\\theta_1)$ од едната равенка и го заменуваме во другата за да го изразиме $\\cos(\\theta_1)$ без да зивиси од $\\sin(\\theta_1)$. Истото го правиме и за $\\sin(\\theta_1)$, односно го изразуваме $\\sin(\\theta_1)$ без да зависи од $\\cos(\\theta_1)$. На крајот ќе го искористиме нивниот тангенс за да ја изразиме $\\theta_1$. Се добива $\\theta_1 = \\arctan2(y\\sin(\\theta_2)d_3 - xd_2, x\\sin(\\theta_2)d_3 + yd_2$."
   ]
  },
  {
   "cell_type": "markdown",
   "metadata": {},
   "source": [
    "Откако ја знаеме вредноста на $\\theta_2$, ќе го изразиме $d_3$ од равенката на $z$."
   ]
  },
  {
   "cell_type": "code",
   "execution_count": 22,
   "metadata": {},
   "outputs": [
    {
     "data": {
      "text/latex": [
       "$\\displaystyle d_{3}$"
      ],
      "text/plain": [
       "d3"
      ]
     },
     "execution_count": 22,
     "metadata": {},
     "output_type": "execute_result"
    }
   ],
   "source": [
    "(z - d1) / sp.cos(theta2)"
   ]
  },
  {
   "cell_type": "markdown",
   "metadata": {},
   "source": [
    "Се добива $d_3 = \\cfrac{z-d_1}{\\cos(\\theta_2)}$"
   ]
  },
  {
   "cell_type": "markdown",
   "metadata": {},
   "source": [
    "За крај останува да ги испитате специјалните случаи."
   ]
  },
  {
   "cell_type": "markdown",
   "metadata": {},
   "source": [
    "#### Постапка за решавање на проблемот за инверзна кинематика на овој робот, чекор по чекор, користејќи ја sympy.nonlinsolve"
   ]
  },
  {
   "cell_type": "markdown",
   "metadata": {},
   "source": [
    "Прво ги прегледуваме равенките за инверзна кинематика на овој робот."
   ]
  },
  {
   "cell_type": "code",
   "execution_count": 124,
   "metadata": {},
   "outputs": [],
   "source": [
    "xe, ye, ze = T[:3, 3]"
   ]
  },
  {
   "cell_type": "code",
   "execution_count": 125,
   "metadata": {},
   "outputs": [
    {
     "data": {
      "text/latex": [
       "$\\displaystyle - d_{2} \\sin{\\left(\\theta_{1} \\right)} + d_{3} \\sin{\\left(\\theta_{2} \\right)} \\cos{\\left(\\theta_{1} \\right)}$"
      ],
      "text/plain": [
       "-d2*sin(theta1) + d3*sin(theta2)*cos(theta1)"
      ]
     },
     "execution_count": 125,
     "metadata": {},
     "output_type": "execute_result"
    }
   ],
   "source": [
    "xe"
   ]
  },
  {
   "cell_type": "code",
   "execution_count": 126,
   "metadata": {},
   "outputs": [
    {
     "data": {
      "text/latex": [
       "$\\displaystyle d_{2} \\cos{\\left(\\theta_{1} \\right)} + d_{3} \\sin{\\left(\\theta_{1} \\right)} \\sin{\\left(\\theta_{2} \\right)}$"
      ],
      "text/plain": [
       "d2*cos(theta1) + d3*sin(theta1)*sin(theta2)"
      ]
     },
     "execution_count": 126,
     "metadata": {},
     "output_type": "execute_result"
    }
   ],
   "source": [
    "ye"
   ]
  },
  {
   "cell_type": "code",
   "execution_count": 128,
   "metadata": {},
   "outputs": [
    {
     "data": {
      "text/latex": [
       "$\\displaystyle d_{1} + d_{3} \\cos{\\left(\\theta_{2} \\right)}$"
      ],
      "text/plain": [
       "d1 + d3*cos(theta2)"
      ]
     },
     "execution_count": 128,
     "metadata": {},
     "output_type": "execute_result"
    }
   ],
   "source": [
    "ze"
   ]
  },
  {
   "cell_type": "markdown",
   "metadata": {},
   "source": [
    "Потоа ги испишуваме равенките за sympy да го реши овој систем нелинеарни равенки. Бидејќи решението не се добива директно преку аглите, мора да се користат синусите и косинусите од истите агли за да се добие решение со помош на sympy. Покрај двете равенки за директна кинематика, внесуваме уште две општи тригонометриски равенки за sympy да знае како се поврзани синусот и косинусот на даден агол."
   ]
  },
  {
   "cell_type": "code",
   "execution_count": 137,
   "metadata": {},
   "outputs": [],
   "source": [
    "x, y, z, s1, c1, s2, c2 = sp.symbols('x, y, z, s1, c1, s2, c2')\n",
    "subs = [(sp.sin(theta1), s1), (sp.cos(theta1), c1),\n",
    "        (sp.sin(theta2), s2), (sp.cos(theta2), c2)]\n",
    "xe, ye, ze = [eq.subs(subs) for eq in [xe, ye, ze]]"
   ]
  },
  {
   "cell_type": "code",
   "execution_count": 138,
   "metadata": {},
   "outputs": [
    {
     "data": {
      "text/latex": [
       "$\\displaystyle \\left\\{\\left( \\frac{- d_{2} x - y \\sqrt{\\frac{- d_{2}^{2} + x^{2} + y^{2}}{d_{1}^{2} - 2 d_{1} z - d_{2}^{2} + x^{2} + y^{2} + z^{2}}} \\sqrt{d_{1}^{2} - 2 d_{1} z - d_{2}^{2} + x^{2} + y^{2} + z^{2}}}{x^{2} + y^{2}}, \\  \\frac{d_{2} y - x \\sqrt{\\frac{- d_{2}^{2} + x^{2} + y^{2}}{d_{1}^{2} - 2 d_{1} z - d_{2}^{2} + x^{2} + y^{2} + z^{2}}} \\sqrt{d_{1}^{2} - 2 d_{1} z - d_{2}^{2} + x^{2} + y^{2} + z^{2}}}{x^{2} + y^{2}}, \\  - \\sqrt{\\frac{- d_{2}^{2} + x^{2} + y^{2}}{d_{1}^{2} - 2 d_{1} z - d_{2}^{2} + x^{2} + y^{2} + z^{2}}}, \\  \\frac{- d_{1} + z}{\\sqrt{d_{1}^{2} - 2 d_{1} z - d_{2}^{2} + x^{2} + y^{2} + z^{2}}}, \\  \\sqrt{d_{1}^{2} - 2 d_{1} z - d_{2}^{2} + x^{2} + y^{2} + z^{2}}\\right), \\left( \\frac{- d_{2} x - y \\sqrt{\\frac{- d_{2}^{2} + x^{2} + y^{2}}{d_{1}^{2} - 2 d_{1} z - d_{2}^{2} + x^{2} + y^{2} + z^{2}}} \\sqrt{d_{1}^{2} - 2 d_{1} z - d_{2}^{2} + x^{2} + y^{2} + z^{2}}}{x^{2} + y^{2}}, \\  \\frac{d_{2} y - x \\sqrt{\\frac{- d_{2}^{2} + x^{2} + y^{2}}{d_{1}^{2} - 2 d_{1} z - d_{2}^{2} + x^{2} + y^{2} + z^{2}}} \\sqrt{d_{1}^{2} - 2 d_{1} z - d_{2}^{2} + x^{2} + y^{2} + z^{2}}}{x^{2} + y^{2}}, \\  \\sqrt{\\frac{- d_{2}^{2} + x^{2} + y^{2}}{d_{1}^{2} - 2 d_{1} z - d_{2}^{2} + x^{2} + y^{2} + z^{2}}}, \\  \\frac{d_{1} - z}{\\sqrt{d_{1}^{2} - 2 d_{1} z - d_{2}^{2} + x^{2} + y^{2} + z^{2}}}, \\  - \\sqrt{d_{1}^{2} - 2 d_{1} z - d_{2}^{2} + x^{2} + y^{2} + z^{2}}\\right), \\left( \\frac{- d_{2} x + y \\sqrt{\\frac{- d_{2}^{2} + x^{2} + y^{2}}{d_{1}^{2} - 2 d_{1} z - d_{2}^{2} + x^{2} + y^{2} + z^{2}}} \\sqrt{d_{1}^{2} - 2 d_{1} z - d_{2}^{2} + x^{2} + y^{2} + z^{2}}}{x^{2} + y^{2}}, \\  \\frac{d_{2} y + x \\sqrt{\\frac{- d_{2}^{2} + x^{2} + y^{2}}{d_{1}^{2} - 2 d_{1} z - d_{2}^{2} + x^{2} + y^{2} + z^{2}}} \\sqrt{d_{1}^{2} - 2 d_{1} z - d_{2}^{2} + x^{2} + y^{2} + z^{2}}}{x^{2} + y^{2}}, \\  - \\sqrt{\\frac{- d_{2}^{2} + x^{2} + y^{2}}{d_{1}^{2} - 2 d_{1} z - d_{2}^{2} + x^{2} + y^{2} + z^{2}}}, \\  \\frac{d_{1} - z}{\\sqrt{d_{1}^{2} - 2 d_{1} z - d_{2}^{2} + x^{2} + y^{2} + z^{2}}}, \\  - \\sqrt{d_{1}^{2} - 2 d_{1} z - d_{2}^{2} + x^{2} + y^{2} + z^{2}}\\right), \\left( \\frac{- d_{2} x + y \\sqrt{\\frac{- d_{2}^{2} + x^{2} + y^{2}}{d_{1}^{2} - 2 d_{1} z - d_{2}^{2} + x^{2} + y^{2} + z^{2}}} \\sqrt{d_{1}^{2} - 2 d_{1} z - d_{2}^{2} + x^{2} + y^{2} + z^{2}}}{x^{2} + y^{2}}, \\  \\frac{d_{2} y + x \\sqrt{\\frac{- d_{2}^{2} + x^{2} + y^{2}}{d_{1}^{2} - 2 d_{1} z - d_{2}^{2} + x^{2} + y^{2} + z^{2}}} \\sqrt{d_{1}^{2} - 2 d_{1} z - d_{2}^{2} + x^{2} + y^{2} + z^{2}}}{x^{2} + y^{2}}, \\  \\sqrt{\\frac{- d_{2}^{2} + x^{2} + y^{2}}{d_{1}^{2} - 2 d_{1} z - d_{2}^{2} + x^{2} + y^{2} + z^{2}}}, \\  \\frac{- d_{1} + z}{\\sqrt{d_{1}^{2} - 2 d_{1} z - d_{2}^{2} + x^{2} + y^{2} + z^{2}}}, \\  \\sqrt{d_{1}^{2} - 2 d_{1} z - d_{2}^{2} + x^{2} + y^{2} + z^{2}}\\right)\\right\\}$"
      ],
      "text/plain": [
       "{((-d2*x - y*sqrt((-d2**2 + x**2 + y**2)/(d1**2 - 2*d1*z - d2**2 + x**2 + y**2 + z**2))*sqrt(d1**2 - 2*d1*z - d2**2 + x**2 + y**2 + z**2))/(x**2 + y**2), (d2*y - x*sqrt((-d2**2 + x**2 + y**2)/(d1**2 - 2*d1*z - d2**2 + x**2 + y**2 + z**2))*sqrt(d1**2 - 2*d1*z - d2**2 + x**2 + y**2 + z**2))/(x**2 + y**2), -sqrt((-d2**2 + x**2 + y**2)/(d1**2 - 2*d1*z - d2**2 + x**2 + y**2 + z**2)), (-d1 + z)/sqrt(d1**2 - 2*d1*z - d2**2 + x**2 + y**2 + z**2), sqrt(d1**2 - 2*d1*z - d2**2 + x**2 + y**2 + z**2)), ((-d2*x - y*sqrt((-d2**2 + x**2 + y**2)/(d1**2 - 2*d1*z - d2**2 + x**2 + y**2 + z**2))*sqrt(d1**2 - 2*d1*z - d2**2 + x**2 + y**2 + z**2))/(x**2 + y**2), (d2*y - x*sqrt((-d2**2 + x**2 + y**2)/(d1**2 - 2*d1*z - d2**2 + x**2 + y**2 + z**2))*sqrt(d1**2 - 2*d1*z - d2**2 + x**2 + y**2 + z**2))/(x**2 + y**2), sqrt((-d2**2 + x**2 + y**2)/(d1**2 - 2*d1*z - d2**2 + x**2 + y**2 + z**2)), (d1 - z)/sqrt(d1**2 - 2*d1*z - d2**2 + x**2 + y**2 + z**2), -sqrt(d1**2 - 2*d1*z - d2**2 + x**2 + y**2 + z**2)), ((-d2*x + y*sqrt((-d2**2 + x**2 + y**2)/(d1**2 - 2*d1*z - d2**2 + x**2 + y**2 + z**2))*sqrt(d1**2 - 2*d1*z - d2**2 + x**2 + y**2 + z**2))/(x**2 + y**2), (d2*y + x*sqrt((-d2**2 + x**2 + y**2)/(d1**2 - 2*d1*z - d2**2 + x**2 + y**2 + z**2))*sqrt(d1**2 - 2*d1*z - d2**2 + x**2 + y**2 + z**2))/(x**2 + y**2), -sqrt((-d2**2 + x**2 + y**2)/(d1**2 - 2*d1*z - d2**2 + x**2 + y**2 + z**2)), (d1 - z)/sqrt(d1**2 - 2*d1*z - d2**2 + x**2 + y**2 + z**2), -sqrt(d1**2 - 2*d1*z - d2**2 + x**2 + y**2 + z**2)), ((-d2*x + y*sqrt((-d2**2 + x**2 + y**2)/(d1**2 - 2*d1*z - d2**2 + x**2 + y**2 + z**2))*sqrt(d1**2 - 2*d1*z - d2**2 + x**2 + y**2 + z**2))/(x**2 + y**2), (d2*y + x*sqrt((-d2**2 + x**2 + y**2)/(d1**2 - 2*d1*z - d2**2 + x**2 + y**2 + z**2))*sqrt(d1**2 - 2*d1*z - d2**2 + x**2 + y**2 + z**2))/(x**2 + y**2), sqrt((-d2**2 + x**2 + y**2)/(d1**2 - 2*d1*z - d2**2 + x**2 + y**2 + z**2)), (-d1 + z)/sqrt(d1**2 - 2*d1*z - d2**2 + x**2 + y**2 + z**2), sqrt(d1**2 - 2*d1*z - d2**2 + x**2 + y**2 + z**2))}"
      ]
     },
     "execution_count": 138,
     "metadata": {},
     "output_type": "execute_result"
    }
   ],
   "source": [
    "equations = [\n",
    "    xe - x,\n",
    "    ye - y,\n",
    "    ze - z,\n",
    "    s1**2 + c1**2 - 1,\n",
    "    s2**2 + c2**2 - 1,\n",
    "]\n",
    "solutions = sp.nonlinsolve(equations, [s1, c1, s2, c2, d3])\n",
    "solutions"
   ]
  },
  {
   "cell_type": "markdown",
   "metadata": {},
   "source": [
    "Сега можеме да тестираме дали е точно решението, но прво мора да ги замениме вредностите за бараната позиција и конструкциските параметри."
   ]
  },
  {
   "cell_type": "code",
   "execution_count": 142,
   "metadata": {},
   "outputs": [
    {
     "data": {
      "text/latex": [
       "$\\displaystyle \\left\\{\\left( -0.724137931034483, \\  -0.689655172413793, \\  -0.857492925712544, \\  -0.514495755427527, \\  -2.91547594742265\\right), \\left( -0.724137931034483, \\  -0.689655172413793, \\  0.857492925712544, \\  0.514495755427527, \\  2.91547594742265\\right), \\left( 1.0, \\  0, \\  -0.857492925712544, \\  0.514495755427527, \\  2.91547594742265\\right), \\left( 1.0, \\  0, \\  0.857492925712544, \\  -0.514495755427527, \\  -2.91547594742265\\right)\\right\\}$"
      ],
      "text/plain": [
       "{(-0.724137931034483, -0.689655172413793, -0.857492925712544, -0.514495755427527, -2.91547594742265), (-0.724137931034483, -0.689655172413793, 0.857492925712544, 0.514495755427527, 2.91547594742265), (1.0, 0, -0.857492925712544, 0.514495755427527, 2.91547594742265), (1.0, 0, 0.857492925712544, -0.514495755427527, -2.91547594742265)}"
      ]
     },
     "execution_count": 142,
     "metadata": {},
     "output_type": "execute_result"
    }
   ],
   "source": [
    "xn, yn, zn = -1, -2.5, 2.5\n",
    "solutions_subs = solutions.subs([(d1, 1), (d2, 1), (x, xn), (y, yn), (z, zn)])\n",
    "solutions_subs"
   ]
  },
  {
   "cell_type": "markdown",
   "metadata": {},
   "source": [
    "Бидејќи аглите ги претставивме преку синуси и косинуси, сега ќе ги добиете самите агли преку функцијата `atan2()`."
   ]
  },
  {
   "cell_type": "code",
   "execution_count": 164,
   "metadata": {},
   "outputs": [
    {
     "name": "stdout",
     "output_type": "stream",
     "text": [
      "Решение 1 (-2.3318090810196264, -2.1112158270654806, -2.91547594742265)\n",
      "Решение 2 (-2.3318090810196264, 1.0303768265243125, 2.91547594742265)\n",
      "Решение 3 (1.5707963267948966, -1.0303768265243125, 2.91547594742265)\n",
      "Решение 4 (1.5707963267948966, 2.1112158270654806, -2.91547594742265)\n"
     ]
    }
   ],
   "source": [
    "q_values = []\n",
    "for i, solution in enumerate(solutions_subs):\n",
    "    s1n, c1n, s2n, c2n, d3n = solution\n",
    "    theta1n = sp.atan2(s1n, c1n)\n",
    "    theta2n = sp.atan2(s2n, c2n)\n",
    "    q_value = (\n",
    "        float(theta1n.evalf(30)),\n",
    "        float(theta2n.evalf(30)),\n",
    "        float(d3n.evalf(30)),\n",
    "    )\n",
    "    q_values.append(q_value)\n",
    "    print(f'Решение {i+1} {q_value}')"
   ]
  },
  {
   "cell_type": "markdown",
   "metadata": {},
   "source": [
    "Преку матрицата за директна кинематика можеме да провериме дали решенијата се точни."
   ]
  },
  {
   "cell_type": "code",
   "execution_count": 166,
   "metadata": {},
   "outputs": [
    {
     "data": {
      "text/latex": [
       "$\\displaystyle \\left[\\begin{matrix}0.354824658915535 & 0.724137931034483 & 0.591374431525893 & -1.0\\\\0.372565891861312 & -0.689655172413793 & 0.620943153102187 & -2.5\\\\0.857492925712544 & 0 & -0.514495755427526 & 2.5\\\\0 & 0 & 0 & 1\\end{matrix}\\right]$"
      ],
      "text/plain": [
       "Matrix([\n",
       "[0.354824658915535,  0.724137931034483,  0.591374431525893, -1.0],\n",
       "[0.372565891861312, -0.689655172413793,  0.620943153102187, -2.5],\n",
       "[0.857492925712544,                  0, -0.514495755427526,  2.5],\n",
       "[                0,                  0,                  0,    1]])"
      ]
     },
     "metadata": {},
     "output_type": "display_data"
    },
    {
     "data": {
      "text/latex": [
       "$\\displaystyle \\left[\\begin{matrix}-0.354824658915535 & 0.724137931034483 & -0.591374431525893 & -1.0\\\\-0.372565891861312 & -0.689655172413793 & -0.620943153102187 & -2.5\\\\-0.857492925712544 & 0 & 0.514495755427526 & 2.5\\\\0 & 0 & 0 & 1\\end{matrix}\\right]$"
      ],
      "text/plain": [
       "Matrix([\n",
       "[-0.354824658915535,  0.724137931034483, -0.591374431525893, -1.0],\n",
       "[-0.372565891861312, -0.689655172413793, -0.620943153102187, -2.5],\n",
       "[-0.857492925712544,                  0,  0.514495755427526,  2.5],\n",
       "[                 0,                  0,                  0,    1]])"
      ]
     },
     "metadata": {},
     "output_type": "display_data"
    },
    {
     "data": {
      "text/latex": [
       "$\\displaystyle \\left[\\begin{matrix}3.1503779002961 \\cdot 10^{-17} & -1.0 & -5.25062983382683 \\cdot 10^{-17} & -1.0\\\\0.514495755427526 & 6.12323399573677 \\cdot 10^{-17} & -0.857492925712544 & -2.5\\\\0.857492925712544 & 0 & 0.514495755427526 & 2.5\\\\0 & 0 & 0 & 1\\end{matrix}\\right]$"
      ],
      "text/plain": [
       "Matrix([\n",
       "[3.1503779002961e-17,                 -1.0, -5.25062983382683e-17, -1.0],\n",
       "[  0.514495755427526, 6.12323399573677e-17,    -0.857492925712544, -2.5],\n",
       "[  0.857492925712544,                    0,     0.514495755427526,  2.5],\n",
       "[                  0,                    0,                     0,    1]])"
      ]
     },
     "metadata": {},
     "output_type": "display_data"
    },
    {
     "data": {
      "text/latex": [
       "$\\displaystyle \\left[\\begin{matrix}-3.1503779002961 \\cdot 10^{-17} & -1.0 & 5.25062983382683 \\cdot 10^{-17} & -1.0\\\\-0.514495755427526 & 6.12323399573677 \\cdot 10^{-17} & 0.857492925712544 & -2.5\\\\-0.857492925712544 & 0 & -0.514495755427526 & 2.5\\\\0 & 0 & 0 & 1\\end{matrix}\\right]$"
      ],
      "text/plain": [
       "Matrix([\n",
       "[-3.1503779002961e-17,                 -1.0, 5.25062983382683e-17, -1.0],\n",
       "[  -0.514495755427526, 6.12323399573677e-17,    0.857492925712544, -2.5],\n",
       "[  -0.857492925712544,                    0,   -0.514495755427526,  2.5],\n",
       "[                   0,                    0,                    0,    1]])"
      ]
     },
     "metadata": {},
     "output_type": "display_data"
    }
   ],
   "source": [
    "for q_value in q_values:\n",
    "    display(T.subs([*zip([theta1, theta2, d3], q_value)]).subs([(d1, 1), (d2, 1)]))"
   ]
  },
  {
   "cell_type": "markdown",
   "metadata": {},
   "source": [
    "### Задача 2.63"
   ]
  },
  {
   "cell_type": "code",
   "execution_count": 2,
   "metadata": {},
   "outputs": [
    {
     "data": {
      "text/html": [
       "\n",
       "        <iframe\n",
       "            width=\"400\"\n",
       "            height=\"300\"\n",
       "            src=\"https://drive.google.com/file/d/14Ar9sDQQjnchG2if5GVwD6OH91BLluho/preview\"\n",
       "            frameborder=\"0\"\n",
       "            allowfullscreen\n",
       "        ></iframe>\n",
       "        "
      ],
      "text/plain": [
       "<IPython.lib.display.IFrame at 0x7f8524cfa9d0>"
      ]
     },
     "execution_count": 2,
     "metadata": {},
     "output_type": "execute_result"
    }
   ],
   "source": [
    "IFrame(src='https://drive.google.com/file/d/14Ar9sDQQjnchG2if5GVwD6OH91BLluho/preview', width='400', height='300')"
   ]
  },
  {
   "cell_type": "code",
   "execution_count": 20,
   "metadata": {},
   "outputs": [
    {
     "data": {
      "application/vnd.jupyter.widget-view+json": {
       "model_id": "e85dc14e3db9482db065e733e6a66572",
       "version_major": 2,
       "version_minor": 0
      },
      "text/plain": [
       "VBox(children=(HBox(children=(ToggleButton(value=True, description='Исклучи цртање'), Button(description='Пром…"
      ]
     },
     "execution_count": 20,
     "metadata": {},
     "output_type": "execute_result"
    }
   ],
   "source": [
    "d1, theta2, theta3, a2, a3 = sp.symbols('d1, theta2, theta3, a2, a3')\n",
    "robot = rt.SerialLinkRobot()\n",
    "robot.add_prismatic_joint(0, d1, 0, sp.pi/2)\n",
    "robot.add_revolute_joint(theta2, 0, a2, -sp.pi/2)\n",
    "robot.add_revolute_joint(theta3, 0, a3, 0)\n",
    "robot.add_subs([(a2, 1), (a3, 1)])\n",
    "robot.interact()"
   ]
  },
  {
   "cell_type": "code",
   "execution_count": 5,
   "metadata": {},
   "outputs": [
    {
     "data": {
      "text/latex": [
       "$\\displaystyle \\left[\\begin{matrix}\\cos{\\left(\\theta_{2} \\right)} \\cos{\\left(\\theta_{3} \\right)} & - \\sin{\\left(\\theta_{3} \\right)} \\cos{\\left(\\theta_{2} \\right)} & - \\sin{\\left(\\theta_{2} \\right)} & \\left(a_{2} + a_{3} \\cos{\\left(\\theta_{3} \\right)}\\right) \\cos{\\left(\\theta_{2} \\right)}\\\\\\sin{\\left(\\theta_{3} \\right)} & \\cos{\\left(\\theta_{3} \\right)} & 0 & a_{3} \\sin{\\left(\\theta_{3} \\right)}\\\\\\sin{\\left(\\theta_{2} \\right)} \\cos{\\left(\\theta_{3} \\right)} & - \\sin{\\left(\\theta_{2} \\right)} \\sin{\\left(\\theta_{3} \\right)} & \\cos{\\left(\\theta_{2} \\right)} & a_{2} \\sin{\\left(\\theta_{2} \\right)} + a_{3} \\sin{\\left(\\theta_{2} \\right)} \\cos{\\left(\\theta_{3} \\right)} + d_{1}\\\\0 & 0 & 0 & 1\\end{matrix}\\right]$"
      ],
      "text/plain": [
       "Matrix([\n",
       "[cos(theta2)*cos(theta3), -sin(theta3)*cos(theta2), -sin(theta2),                (a2 + a3*cos(theta3))*cos(theta2)],\n",
       "[            sin(theta3),              cos(theta3),            0,                                   a3*sin(theta3)],\n",
       "[sin(theta2)*cos(theta3), -sin(theta2)*sin(theta3),  cos(theta2), a2*sin(theta2) + a3*sin(theta2)*cos(theta3) + d1],\n",
       "[                      0,                        0,            0,                                                1]])"
      ]
     },
     "execution_count": 5,
     "metadata": {},
     "output_type": "execute_result"
    }
   ],
   "source": [
    "T = robot.get_dh_matrix()\n",
    "T"
   ]
  },
  {
   "cell_type": "markdown",
   "metadata": {},
   "source": [
    "За разлика од збирката, оваа задача ќе ја решиме на малку поразличен начин. За да ја определиме инверзната кинематика, наместо да ја бараме еднозначно вредноста на секој ротирачки зглоб на раката, овде ќе користиме половични постапки за да ја намалиме комплексноста на аналитичките постапки. На пример, наместо да ги изразуваме $\\sin(\\theta_x)$ и $\\cos(\\theta_x)$ сѐ со цел еднозначно да ја определиме $\\theta_x$ користејќи ја функцијата `atan2()`, ние ќе ја пресметаме вредноста на $\\theta_x$ користејќи само еден од изразите $\\sin(\\theta_x)$ и $\\cos(\\theta_x)$, соодветно преку функциите `acos()` и `asin()`. Овие функци не можат еднозначо да ја определат $\\theta_x$, па така преку `acos()` ќе имаме две можни решенија зa $\\theta_x$, тоа се $\\theta_x$ и $-\\theta_x$, а преку `asin()` ќе имаме две можни решенија зa $\\theta_x$, тоа се $\\theta_x$ и $180 - \\theta_x$. Сите овие агли не се решенија на проблемот за инверзна кинематика на дадената рака, па ќе треба да се валидира секоја комбинација од вакви агли.\n",
    "\n",
    "Оваа рака има 3 зглобови, $d_1$, $\\theta_2$, $\\theta_3$. Во продолжение, за оваа рака, прво ќе ги најдеме двете можни вредности за аголот $\\theta_3$, потоа четири можни вредности за $\\theta_2$, па на крајот ќе ги најдеме сите можни вредности за $d_1$.\n",
    "\n",
    "Нека `(xn, yn, zn)` е позицијата која треба да ја постигне роботот. За тест, овде земаме произволни вредносит за xn, yn и zn. Ќе земеме и произволни за константите."
   ]
  },
  {
   "cell_type": "code",
   "execution_count": 12,
   "metadata": {},
   "outputs": [],
   "source": [
    "xn, yn, zn = 0.4, 0.6, 0.5\n",
    "a2n, a3n = 1, 1"
   ]
  },
  {
   "cell_type": "code",
   "execution_count": 13,
   "metadata": {},
   "outputs": [],
   "source": [
    "x, y, z = T[:3, 3]"
   ]
  },
  {
   "cell_type": "code",
   "execution_count": 14,
   "metadata": {},
   "outputs": [
    {
     "data": {
      "text/latex": [
       "$\\displaystyle a_{3} \\sin{\\left(\\theta_{3} \\right)}$"
      ],
      "text/plain": [
       "a3*sin(theta3)"
      ]
     },
     "execution_count": 14,
     "metadata": {},
     "output_type": "execute_result"
    }
   ],
   "source": [
    "y"
   ]
  },
  {
   "cell_type": "markdown",
   "metadata": {},
   "source": [
    "Од равенката за $y$ ќе ја пресметаме $\\theta_3$ користејќи `asin()`, па ќе добиеме едно решение од sympy, ама знаме дека и $\\sin(180-\\theta_3) = \\sin(\\theta_3)$."
   ]
  },
  {
   "cell_type": "code",
   "execution_count": 15,
   "metadata": {},
   "outputs": [
    {
     "data": {
      "text/plain": [
       "(0.643501108793284, -0.643501108793284 + pi)"
      ]
     },
     "execution_count": 15,
     "metadata": {},
     "output_type": "execute_result"
    }
   ],
   "source": [
    "def solve_theta3():\n",
    "    theta3n = sp.asin(yn/a3n)\n",
    "    return theta3n, sp.pi - theta3n\n",
    "\n",
    "theta3n_all = solve_theta3()\n",
    "theta3n_all"
   ]
  },
  {
   "cell_type": "markdown",
   "metadata": {},
   "source": [
    "Од равенката за $x$ ќе добиеме по две вредности за $\\theta_2$ за секоја на $\\theta_3$."
   ]
  },
  {
   "cell_type": "code",
   "execution_count": 16,
   "metadata": {},
   "outputs": [
    {
     "data": {
      "text/latex": [
       "$\\displaystyle \\left(a_{2} + a_{3} \\cos{\\left(\\theta_{3} \\right)}\\right) \\cos{\\left(\\theta_{2} \\right)}$"
      ],
      "text/plain": [
       "(a2 + a3*cos(theta3))*cos(theta2)"
      ]
     },
     "execution_count": 16,
     "metadata": {},
     "output_type": "execute_result"
    }
   ],
   "source": [
    "x"
   ]
  },
  {
   "cell_type": "code",
   "execution_count": 17,
   "metadata": {},
   "outputs": [
    {
     "data": {
      "text/plain": [
       "[1.34670323449353, -1.34670323449353, 1.31695789692482*I, -1.31695789692482*I]"
      ]
     },
     "execution_count": 17,
     "metadata": {},
     "output_type": "execute_result"
    }
   ],
   "source": [
    "def solve_theta2(theta3n):\n",
    "    theta2n = sp.acos(xn / (a2n + a3n*sp.cos(theta3n)))\n",
    "    return theta2n, -theta2n\n",
    "\n",
    "theta2n_all = []\n",
    "for theta3n in solve_theta3():\n",
    "    theta2n_all.extend(solve_theta2(theta3n))\n",
    "\n",
    "theta2n_all"
   ]
  },
  {
   "cell_type": "markdown",
   "metadata": {},
   "source": [
    "Во решенијата за $\\theta_2$ има и имагинарни вредности. Нив можеме да ги отфрлиме веднаш бидејќи тоа се позиции кои раката не може да ги постигне."
   ]
  },
  {
   "cell_type": "markdown",
   "metadata": {},
   "source": [
    "Од равенката за $z$ ќе добиеме по една вредности за секоја комбинација на $\\theta_2$ и $\\theta_3$."
   ]
  },
  {
   "cell_type": "code",
   "execution_count": 18,
   "metadata": {},
   "outputs": [
    {
     "data": {
      "text/plain": [
       "[-1.25499287747842,\n",
       " 2.25499287747842,\n",
       " 0.5 - 0.346410161513776*I,\n",
       " 0.5 + 0.346410161513776*I]"
      ]
     },
     "execution_count": 18,
     "metadata": {},
     "output_type": "execute_result"
    }
   ],
   "source": [
    "def solve_d1(theta3n, theta2n):\n",
    "    d1n = zn - a2n*sp.sin(theta2n) - a3n*sp.sin(theta2n)*sp.cos(theta3n)\n",
    "    return [d1n]\n",
    "\n",
    "d1n_all = []\n",
    "for theta3n in solve_theta3():\n",
    "    for theta2n in solve_theta2(theta3n):\n",
    "        d1n_all.extend(solve_d1(theta3n, theta2n))\n",
    "\n",
    "d1n_all"
   ]
  },
  {
   "cell_type": "markdown",
   "metadata": {},
   "source": [
    "На крај, ќе итерираме низ сите можни комбинации и ќе ги валидираме сите решенија."
   ]
  },
  {
   "cell_type": "code",
   "execution_count": 19,
   "metadata": {},
   "outputs": [
    {
     "name": "stdout",
     "output_type": "stream",
     "text": [
      "Со аглите d1=-1.25, theta2=1.35, theta3=0.64\n",
      "стигаме до точката x=0.40, y=0.60, z=0.50\n",
      "---------------------------------\n",
      "Со аглите d1=2.25, theta2=-1.35, theta3=0.64\n",
      "стигаме до точката x=0.40, y=0.60, z=0.50\n",
      "---------------------------------\n",
      "theta2n=1.31695789692482*I е комплексен број, па нема да го користиме\n",
      "---------------------------------\n",
      "theta2n=-1.31695789692482*I е комплексен број, па нема да го користиме\n",
      "---------------------------------\n"
     ]
    }
   ],
   "source": [
    "for theta3n in solve_theta3():\n",
    "    if sp.im(theta3n) != 0:\n",
    "        print(f'theta3n={theta3n} е комплексен број, па нема да го користиме')\n",
    "        print('---------------------------------')\n",
    "        continue\n",
    "    for theta2n in solve_theta2(theta3n):\n",
    "        if sp.im(theta2n) != 0:\n",
    "            print(f'theta2n={theta2n} е комплексен број, па нема да го користиме')\n",
    "            print('---------------------------------')\n",
    "            continue\n",
    "        for d1n in solve_d1(theta3n, theta2n):\n",
    "            if sp.im(d1n) != 0:\n",
    "                print(f'd1n={d1n} е комплексен број, па нема да го користиме')\n",
    "                print('---------------------------------')\n",
    "                continue\n",
    "            x_calc = x.subs(d1, d1n).subs(theta2, theta2n).subs(theta3, theta3n).subs(a2, a2n).subs(a3, a3n)\n",
    "            y_calc = y.subs(d1, d1n).subs(theta2, theta2n).subs(theta3, theta3n).subs(a2, a2n).subs(a3, a3n)\n",
    "            z_calc = z.subs(d1, d1n).subs(theta2, theta2n).subs(theta3, theta3n).subs(a2, a2n).subs(a3, a3n)\n",
    "            print(f'Со аглите d1={d1n:.2f}, theta2={theta2n:.2f}, theta3={theta3n:.2f}')\n",
    "            print(f'стигаме до точката x={x_calc:.2f}, y={y_calc:.2f}, z={z_calc:.2f}')\n",
    "            print('---------------------------------')"
   ]
  },
  {
   "cell_type": "markdown",
   "metadata": {},
   "source": [
    "Резултатите велат дека имаме две можни решенија од кои првото има вредност има негативна вредност за $d_1$. Ова решение ќе го отфрлиме бидејќи симулацијата моментално не дозолува негативни вредности за призматични зглобови, па испаѓа дека имам само едно решение, $d_1=2.25$, $\\theta_2=-1.35$, $\\theta_3=0.64$. Проверете го решението во симулацијата. Внимавајте, аглите се изразени во радијани. "
   ]
  },
  {
   "cell_type": "markdown",
   "metadata": {},
   "source": [
    "### Задача 2.64"
   ]
  },
  {
   "cell_type": "code",
   "execution_count": 120,
   "metadata": {},
   "outputs": [
    {
     "data": {
      "text/html": [
       "\n",
       "        <iframe\n",
       "            width=\"400\"\n",
       "            height=\"300\"\n",
       "            src=\"https://drive.google.com/file/d/1OAzfLFjUtjIWZM1QHkTh2IhSe4IYv6vS/preview\"\n",
       "            frameborder=\"0\"\n",
       "            allowfullscreen\n",
       "            \n",
       "        ></iframe>\n",
       "        "
      ],
      "text/plain": [
       "<IPython.lib.display.IFrame at 0x7f82b6a9afe0>"
      ]
     },
     "execution_count": 120,
     "metadata": {},
     "output_type": "execute_result"
    }
   ],
   "source": [
    "IFrame(src='https://drive.google.com/file/d/1OAzfLFjUtjIWZM1QHkTh2IhSe4IYv6vS/preview', width='400', height='300')"
   ]
  },
  {
   "cell_type": "markdown",
   "metadata": {},
   "source": [
    "### Задача 2.65"
   ]
  },
  {
   "cell_type": "markdown",
   "metadata": {},
   "source": [
    "Се решава слично како задача 2.64."
   ]
  },
  {
   "cell_type": "code",
   "execution_count": null,
   "metadata": {},
   "outputs": [],
   "source": []
  },
  {
   "cell_type": "code",
   "execution_count": null,
   "metadata": {},
   "outputs": [],
   "source": []
  },
  {
   "cell_type": "code",
   "execution_count": null,
   "metadata": {},
   "outputs": [],
   "source": []
  }
 ],
 "metadata": {
  "kernelspec": {
   "display_name": "Python 3 (ipykernel)",
   "language": "python",
   "name": "python3"
  },
  "language_info": {
   "codemirror_mode": {
    "name": "ipython",
    "version": 3
   },
   "file_extension": ".py",
   "mimetype": "text/x-python",
   "name": "python",
   "nbconvert_exporter": "python",
   "pygments_lexer": "ipython3",
   "version": "3.12.0"
  }
 },
 "nbformat": 4,
 "nbformat_minor": 4
}
