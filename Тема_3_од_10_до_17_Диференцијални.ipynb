{
 "cells": [
  {
   "cell_type": "code",
   "execution_count": 1,
   "metadata": {},
   "outputs": [],
   "source": [
    "import sympy as sp\n",
    "import script as rt\n",
    "\n",
    "from IPython.lib.display import IFrame"
   ]
  },
  {
   "cell_type": "markdown",
   "metadata": {},
   "source": [
    "## Задача 3.10"
   ]
  },
  {
   "cell_type": "code",
   "execution_count": 2,
   "metadata": {},
   "outputs": [
    {
     "data": {
      "text/html": [
       "\n",
       "        <iframe\n",
       "            width=\"400\"\n",
       "            height=\"300\"\n",
       "            src=\"https://drive.google.com/file/d/1SfB1-r5WVFhQVRriF59vNLO9ytNrFLDa/preview\"\n",
       "            frameborder=\"0\"\n",
       "            allowfullscreen\n",
       "        ></iframe>\n",
       "        "
      ],
      "text/plain": [
       "<IPython.lib.display.IFrame at 0x7f5935744a90>"
      ]
     },
     "execution_count": 2,
     "metadata": {},
     "output_type": "execute_result"
    }
   ],
   "source": [
    "IFrame(src='https://drive.google.com/file/d/1SfB1-r5WVFhQVRriF59vNLO9ytNrFLDa/preview', width='400', height='300')"
   ]
  },
  {
   "cell_type": "markdown",
   "metadata": {},
   "source": [
    "Во оваа задача ќе го определиме јакобијанот за роботската дадена со DH табелата. Решението ги користи функциите во `script`, па затоа отворете ја скриптата за да ви се разјасни како се пресметува јакобијанот за роботите во оваа интерактивна околина."
   ]
  },
  {
   "cell_type": "code",
   "execution_count": 3,
   "metadata": {},
   "outputs": [
    {
     "data": {
      "application/vnd.jupyter.widget-view+json": {
       "model_id": "075b874fae414978858c38b746adbca3",
       "version_major": 2,
       "version_minor": 0
      },
      "text/plain": [
       "VBox(children=(HBox(children=(ToggleButton(value=True, description='Исклучи цртање'), Button(description='Пром…"
      ]
     },
     "metadata": {},
     "output_type": "display_data"
    }
   ],
   "source": [
    "d1, d2, theta3, a3 = sp.symbols('d1, d2, theta3, a3')\n",
    "robot = rt.SerialLinkRobot()\n",
    "robot.add_prismatic_joint(0, d1, 0, -sp.pi/2)\n",
    "robot.add_prismatic_joint(0, d2, 0, sp.pi/2)\n",
    "robot.add_revolute_joint(theta3, 0, a3, 0)\n",
    "robot.add_subs([(a3, 1)])\n",
    "robot.interact()"
   ]
  },
  {
   "cell_type": "code",
   "execution_count": 4,
   "metadata": {},
   "outputs": [
    {
     "data": {
      "text/latex": [
       "$\\displaystyle \\left[\\begin{matrix}\\cos{\\left(\\theta_{3} \\right)} & - \\sin{\\left(\\theta_{3} \\right)} & 0 & a_{3} \\cos{\\left(\\theta_{3} \\right)}\\\\\\sin{\\left(\\theta_{3} \\right)} & \\cos{\\left(\\theta_{3} \\right)} & 0 & a_{3} \\sin{\\left(\\theta_{3} \\right)} + d_{2}\\\\0 & 0 & 1 & d_{1}\\\\0 & 0 & 0 & 1\\end{matrix}\\right]$"
      ],
      "text/plain": [
       "Matrix([\n",
       "[cos(theta3), -sin(theta3), 0,      a3*cos(theta3)],\n",
       "[sin(theta3),  cos(theta3), 0, a3*sin(theta3) + d2],\n",
       "[          0,            0, 1,                  d1],\n",
       "[          0,            0, 0,                   1]])"
      ]
     },
     "execution_count": 4,
     "metadata": {},
     "output_type": "execute_result"
    }
   ],
   "source": [
    "robot.get_dh_matrix()"
   ]
  },
  {
   "cell_type": "markdown",
   "metadata": {},
   "source": [
    "Откако ќе го направиме роботот, ќе ја искористиме функцијата `linear_jacobian()` за да го пресметаме јакобијанот на линераните брзини."
   ]
  },
  {
   "cell_type": "code",
   "execution_count": 5,
   "metadata": {},
   "outputs": [
    {
     "data": {
      "text/latex": [
       "$\\displaystyle \\left[\\begin{matrix}0 & 0 & - a_{3} \\sin{\\left(\\theta_{3} \\right)}\\\\0 & 1 & a_{3} \\cos{\\left(\\theta_{3} \\right)}\\\\1 & 0 & 0\\end{matrix}\\right]$"
      ],
      "text/plain": [
       "Matrix([\n",
       "[0, 0, -a3*sin(theta3)],\n",
       "[0, 1,  a3*cos(theta3)],\n",
       "[1, 0,               0]])"
      ]
     },
     "execution_count": 5,
     "metadata": {},
     "output_type": "execute_result"
    }
   ],
   "source": [
    "robot.linear_jacobian()"
   ]
  },
  {
   "cell_type": "markdown",
   "metadata": {},
   "source": [
    "А со функцијата `angular_jacobian()` можеме да го пресметаме јакобијанот на аголните брзини."
   ]
  },
  {
   "cell_type": "code",
   "execution_count": 6,
   "metadata": {},
   "outputs": [
    {
     "data": {
      "text/latex": [
       "$\\displaystyle \\left[\\begin{matrix}0 & 0 & 0\\\\0 & 0 & 0\\\\0 & 0 & 1\\end{matrix}\\right]$"
      ],
      "text/plain": [
       "Matrix([\n",
       "[0, 0, 0],\n",
       "[0, 0, 0],\n",
       "[0, 0, 1]])"
      ]
     },
     "execution_count": 6,
     "metadata": {},
     "output_type": "execute_result"
    }
   ],
   "source": [
    "robot.angular_jacobian()"
   ]
  },
  {
   "cell_type": "markdown",
   "metadata": {},
   "source": [
    "Овие два јакобијани можатда се спојат во една матрица."
   ]
  },
  {
   "cell_type": "code",
   "execution_count": 7,
   "metadata": {},
   "outputs": [
    {
     "data": {
      "text/latex": [
       "$\\displaystyle \\left[\\begin{matrix}0 & 0 & - a_{3} \\sin{\\left(\\theta_{3} \\right)}\\\\0 & 1 & a_{3} \\cos{\\left(\\theta_{3} \\right)}\\\\1 & 0 & 0\\\\0 & 0 & 0\\\\0 & 0 & 0\\\\0 & 0 & 1\\end{matrix}\\right]$"
      ],
      "text/plain": [
       "Matrix([\n",
       "[0, 0, -a3*sin(theta3)],\n",
       "[0, 1,  a3*cos(theta3)],\n",
       "[1, 0,               0],\n",
       "[0, 0,               0],\n",
       "[0, 0,               0],\n",
       "[0, 0,               1]])"
      ]
     },
     "execution_count": 7,
     "metadata": {},
     "output_type": "execute_result"
    }
   ],
   "source": [
    "robot.jacobian()"
   ]
  },
  {
   "cell_type": "markdown",
   "metadata": {},
   "source": [
    "## Задача 3.11"
   ]
  },
  {
   "cell_type": "markdown",
   "metadata": {},
   "source": [
    "Решете ја рачно оваа задача. 😀. Се решава исто како задача 3.10."
   ]
  },
  {
   "cell_type": "markdown",
   "metadata": {},
   "source": [
    "## Задача 3.12"
   ]
  },
  {
   "cell_type": "code",
   "execution_count": 8,
   "metadata": {},
   "outputs": [
    {
     "data": {
      "text/html": [
       "\n",
       "        <iframe\n",
       "            width=\"400\"\n",
       "            height=\"300\"\n",
       "            src=\"https://drive.google.com/file/d/1YpRT_LQCqwlnnOWVW9xdhGt6idWdQ977/preview\"\n",
       "            frameborder=\"0\"\n",
       "            allowfullscreen\n",
       "        ></iframe>\n",
       "        "
      ],
      "text/plain": [
       "<IPython.lib.display.IFrame at 0x7f5861f05050>"
      ]
     },
     "execution_count": 8,
     "metadata": {},
     "output_type": "execute_result"
    }
   ],
   "source": [
    "IFrame(src='https://drive.google.com/file/d/1YpRT_LQCqwlnnOWVW9xdhGt6idWdQ977/preview', width='400', height='300')"
   ]
  },
  {
   "cell_type": "code",
   "execution_count": 9,
   "metadata": {},
   "outputs": [
    {
     "data": {
      "application/vnd.jupyter.widget-view+json": {
       "model_id": "f7fa980600504d699e9cbb142a5b7df1",
       "version_major": 2,
       "version_minor": 0
      },
      "text/plain": [
       "VBox(children=(HBox(children=(ToggleButton(value=True, description='Исклучи цртање'), Button(description='Пром…"
      ]
     },
     "metadata": {},
     "output_type": "display_data"
    }
   ],
   "source": [
    "theta1, theta2, l1, l2 = sp.symbols('theta1, theta2, l1, l2')\n",
    "robot = rt.SerialLinkRobot()\n",
    "robot.add_revolute_joint(theta1, 0, l1, 0)\n",
    "robot.add_revolute_joint(theta2, 0, l2, 0)\n",
    "robot.add_subs([(l1, 1), (l2, 1)])\n",
    "robot.interact()"
   ]
  },
  {
   "cell_type": "code",
   "execution_count": 10,
   "metadata": {},
   "outputs": [
    {
     "data": {
      "text/latex": [
       "$\\displaystyle \\left[\\begin{matrix}- l_{1} \\sin{\\left(\\theta_{1} \\right)} - l_{2} \\sin{\\left(\\theta_{1} + \\theta_{2} \\right)} & - l_{2} \\sin{\\left(\\theta_{1} + \\theta_{2} \\right)}\\\\l_{1} \\cos{\\left(\\theta_{1} \\right)} + l_{2} \\cos{\\left(\\theta_{1} + \\theta_{2} \\right)} & l_{2} \\cos{\\left(\\theta_{1} + \\theta_{2} \\right)}\\\\0 & 0\\\\0 & 0\\\\0 & 0\\\\1 & 1\\end{matrix}\\right]$"
      ],
      "text/plain": [
       "Matrix([\n",
       "[-l1*sin(theta1) - l2*sin(theta1 + theta2), -l2*sin(theta1 + theta2)],\n",
       "[ l1*cos(theta1) + l2*cos(theta1 + theta2),  l2*cos(theta1 + theta2)],\n",
       "[                                        0,                        0],\n",
       "[                                        0,                        0],\n",
       "[                                        0,                        0],\n",
       "[                                        1,                        1]])"
      ]
     },
     "execution_count": 10,
     "metadata": {},
     "output_type": "execute_result"
    }
   ],
   "source": [
    "J = robot.jacobian()\n",
    "J"
   ]
  },
  {
   "cell_type": "code",
   "execution_count": 11,
   "metadata": {},
   "outputs": [
    {
     "data": {
      "text/latex": [
       "$\\displaystyle \\left[\\begin{matrix}- l_{1} \\sin{\\left(\\theta_{1} \\right)} - l_{2} \\sin{\\left(\\theta_{1} + \\theta_{2} \\right)} & - l_{2} \\sin{\\left(\\theta_{1} + \\theta_{2} \\right)}\\\\l_{1} \\cos{\\left(\\theta_{1} \\right)} + l_{2} \\cos{\\left(\\theta_{1} + \\theta_{2} \\right)} & l_{2} \\cos{\\left(\\theta_{1} + \\theta_{2} \\right)}\\end{matrix}\\right]$"
      ],
      "text/plain": [
       "Matrix([\n",
       "[-l1*sin(theta1) - l2*sin(theta1 + theta2), -l2*sin(theta1 + theta2)],\n",
       "[ l1*cos(theta1) + l2*cos(theta1 + theta2),  l2*cos(theta1 + theta2)]])"
      ]
     },
     "execution_count": 11,
     "metadata": {},
     "output_type": "execute_result"
    }
   ],
   "source": [
    "Jv2 = J[:2, :]\n",
    "Jv2"
   ]
  },
  {
   "cell_type": "code",
   "execution_count": 12,
   "metadata": {},
   "outputs": [
    {
     "data": {
      "text/latex": [
       "$\\displaystyle l_{1} l_{2} \\sin{\\left(\\theta_{2} \\right)}$"
      ],
      "text/plain": [
       "l1*l2*sin(theta2)"
      ]
     },
     "execution_count": 12,
     "metadata": {},
     "output_type": "execute_result"
    }
   ],
   "source": [
    "det_J = sp.det(Jv2).simplify()\n",
    "det_J"
   ]
  },
  {
   "cell_type": "markdown",
   "metadata": {},
   "source": [
    "## Задача 3.13"
   ]
  },
  {
   "cell_type": "code",
   "execution_count": 13,
   "metadata": {},
   "outputs": [
    {
     "data": {
      "text/html": [
       "\n",
       "        <iframe\n",
       "            width=\"400\"\n",
       "            height=\"300\"\n",
       "            src=\"https://drive.google.com/file/d/1n-6AU2tnFECOCDVe2N-QOHDg_zVZiA1S/preview\"\n",
       "            frameborder=\"0\"\n",
       "            allowfullscreen\n",
       "        ></iframe>\n",
       "        "
      ],
      "text/plain": [
       "<IPython.lib.display.IFrame at 0x7f5861db6510>"
      ]
     },
     "execution_count": 13,
     "metadata": {},
     "output_type": "execute_result"
    }
   ],
   "source": [
    "IFrame(src='https://drive.google.com/file/d/1n-6AU2tnFECOCDVe2N-QOHDg_zVZiA1S/preview', width='400', height='300')"
   ]
  },
  {
   "cell_type": "code",
   "execution_count": 14,
   "metadata": {},
   "outputs": [
    {
     "data": {
      "application/vnd.jupyter.widget-view+json": {
       "model_id": "665a90a1a364484382a78ee36b8e03a9",
       "version_major": 2,
       "version_minor": 0
      },
      "text/plain": [
       "VBox(children=(HBox(children=(ToggleButton(value=True, description='Исклучи цртање'), Button(description='Пром…"
      ]
     },
     "metadata": {},
     "output_type": "display_data"
    }
   ],
   "source": [
    "d1, theta2, theta3, a1, a2 = sp.symbols('d1, theta2, theta3, a1, a2')\n",
    "robot = rt.SerialLinkRobot()\n",
    "robot.add_prismatic_joint(0, d1, 0, sp.pi/2)\n",
    "robot.add_revolute_joint(theta2, 0, a2, -sp.pi/2)\n",
    "robot.add_revolute_joint(theta3, 0, a3, 0)\n",
    "robot.add_subs([(a2, 1), (a3, 2)])\n",
    "robot.interact()"
   ]
  },
  {
   "cell_type": "code",
   "execution_count": 15,
   "metadata": {},
   "outputs": [
    {
     "data": {
      "text/latex": [
       "$\\displaystyle \\left[\\begin{matrix}0 & - \\left(a_{2} + a_{3} \\cos{\\left(\\theta_{3} \\right)}\\right) \\sin{\\left(\\theta_{2} \\right)} & - a_{3} \\sin{\\left(\\theta_{3} \\right)} \\cos{\\left(\\theta_{2} \\right)}\\\\0 & 0 & a_{3} \\cos{\\left(\\theta_{3} \\right)}\\\\1 & \\left(a_{2} + a_{3} \\cos{\\left(\\theta_{3} \\right)}\\right) \\cos{\\left(\\theta_{2} \\right)} & - a_{3} \\sin{\\left(\\theta_{2} \\right)} \\sin{\\left(\\theta_{3} \\right)}\\\\0 & 0 & - \\sin{\\left(\\theta_{2} \\right)}\\\\0 & -1 & 0\\\\0 & 0 & \\cos{\\left(\\theta_{2} \\right)}\\end{matrix}\\right]$"
      ],
      "text/plain": [
       "Matrix([\n",
       "[0, -(a2 + a3*cos(theta3))*sin(theta2), -a3*sin(theta3)*cos(theta2)],\n",
       "[0,                                  0,              a3*cos(theta3)],\n",
       "[1,  (a2 + a3*cos(theta3))*cos(theta2), -a3*sin(theta2)*sin(theta3)],\n",
       "[0,                                  0,                -sin(theta2)],\n",
       "[0,                                 -1,                           0],\n",
       "[0,                                  0,                 cos(theta2)]])"
      ]
     },
     "execution_count": 15,
     "metadata": {},
     "output_type": "execute_result"
    }
   ],
   "source": [
    "J = robot.jacobian()\n",
    "J"
   ]
  },
  {
   "cell_type": "code",
   "execution_count": 16,
   "metadata": {},
   "outputs": [
    {
     "data": {
      "text/latex": [
       "$\\displaystyle \\left[\\begin{matrix}0 & - \\left(a_{2} + a_{3} \\cos{\\left(\\theta_{3} \\right)}\\right) \\sin{\\left(\\theta_{2} \\right)} & - a_{3} \\sin{\\left(\\theta_{3} \\right)} \\cos{\\left(\\theta_{2} \\right)}\\\\0 & 0 & a_{3} \\cos{\\left(\\theta_{3} \\right)}\\\\1 & \\left(a_{2} + a_{3} \\cos{\\left(\\theta_{3} \\right)}\\right) \\cos{\\left(\\theta_{2} \\right)} & - a_{3} \\sin{\\left(\\theta_{2} \\right)} \\sin{\\left(\\theta_{3} \\right)}\\end{matrix}\\right]$"
      ],
      "text/plain": [
       "Matrix([\n",
       "[0, -(a2 + a3*cos(theta3))*sin(theta2), -a3*sin(theta3)*cos(theta2)],\n",
       "[0,                                  0,              a3*cos(theta3)],\n",
       "[1,  (a2 + a3*cos(theta3))*cos(theta2), -a3*sin(theta2)*sin(theta3)]])"
      ]
     },
     "execution_count": 16,
     "metadata": {},
     "output_type": "execute_result"
    }
   ],
   "source": [
    "Jv = robot.linear_jacobian()\n",
    "Jv"
   ]
  },
  {
   "cell_type": "code",
   "execution_count": 17,
   "metadata": {},
   "outputs": [
    {
     "data": {
      "text/latex": [
       "$\\displaystyle - a_{3} \\left(a_{2} + a_{3} \\cos{\\left(\\theta_{3} \\right)}\\right) \\sin{\\left(\\theta_{2} \\right)} \\cos{\\left(\\theta_{3} \\right)}$"
      ],
      "text/plain": [
       "-a3*(a2 + a3*cos(theta3))*sin(theta2)*cos(theta3)"
      ]
     },
     "execution_count": 17,
     "metadata": {},
     "output_type": "execute_result"
    }
   ],
   "source": [
    "det_J = sp.det(Jv).simplify()\n",
    "det_J"
   ]
  },
  {
   "cell_type": "markdown",
   "metadata": {},
   "source": [
    "## Задача 3.14"
   ]
  },
  {
   "cell_type": "code",
   "execution_count": 18,
   "metadata": {},
   "outputs": [
    {
     "data": {
      "text/html": [
       "\n",
       "        <iframe\n",
       "            width=\"400\"\n",
       "            height=\"300\"\n",
       "            src=\"https://drive.google.com/file/d/10DqBpHZ2wiOxFLvq7Vf7vjO26njb4mYm/preview\"\n",
       "            frameborder=\"0\"\n",
       "            allowfullscreen\n",
       "        ></iframe>\n",
       "        "
      ],
      "text/plain": [
       "<IPython.lib.display.IFrame at 0x7f5861cc0350>"
      ]
     },
     "execution_count": 18,
     "metadata": {},
     "output_type": "execute_result"
    }
   ],
   "source": [
    "IFrame(src='https://drive.google.com/file/d/10DqBpHZ2wiOxFLvq7Vf7vjO26njb4mYm/preview', width='400', height='300')"
   ]
  },
  {
   "cell_type": "code",
   "execution_count": 19,
   "metadata": {},
   "outputs": [
    {
     "data": {
      "application/vnd.jupyter.widget-view+json": {
       "model_id": "6806a2e5d6e644f5b7de9d54a263b4b5",
       "version_major": 2,
       "version_minor": 0
      },
      "text/plain": [
       "VBox(children=(HBox(children=(ToggleButton(value=True, description='Исклучи цртање'), Button(description='Пром…"
      ]
     },
     "metadata": {},
     "output_type": "display_data"
    }
   ],
   "source": [
    "theta1, theta2, theta3, l1, l2, l3 = sp.symbols('theta1, theta2, theta3, l1, l2, l3')\n",
    "robot = rt.SerialLinkRobot()\n",
    "robot.add_revolute_joint(theta1, 0, l1, 0)\n",
    "robot.add_revolute_joint(theta2, 0, l2, 0)\n",
    "robot.add_revolute_joint(theta3, 0, l3, 0)\n",
    "robot.add_subs([(l1, 1), (l2, 1), (l3, 1)])\n",
    "robot.interact()"
   ]
  },
  {
   "cell_type": "code",
   "execution_count": 20,
   "metadata": {},
   "outputs": [
    {
     "data": {
      "text/latex": [
       "$\\displaystyle \\left[\\begin{matrix}- l_{1} \\sin{\\left(\\theta_{1} \\right)} - l_{2} \\sin{\\left(\\theta_{1} + \\theta_{2} \\right)} - l_{3} \\sin{\\left(\\theta_{1} + \\theta_{2} + \\theta_{3} \\right)} & - l_{2} \\sin{\\left(\\theta_{1} + \\theta_{2} \\right)} - l_{3} \\sin{\\left(\\theta_{1} + \\theta_{2} + \\theta_{3} \\right)} & - l_{3} \\sin{\\left(\\theta_{1} + \\theta_{2} + \\theta_{3} \\right)}\\\\l_{1} \\cos{\\left(\\theta_{1} \\right)} + l_{2} \\cos{\\left(\\theta_{1} + \\theta_{2} \\right)} + l_{3} \\cos{\\left(\\theta_{1} + \\theta_{2} + \\theta_{3} \\right)} & l_{2} \\cos{\\left(\\theta_{1} + \\theta_{2} \\right)} + l_{3} \\cos{\\left(\\theta_{1} + \\theta_{2} + \\theta_{3} \\right)} & l_{3} \\cos{\\left(\\theta_{1} + \\theta_{2} + \\theta_{3} \\right)}\\\\0 & 0 & 0\\\\0 & 0 & 0\\\\0 & 0 & 0\\\\1 & 1 & 1\\end{matrix}\\right]$"
      ],
      "text/plain": [
       "Matrix([\n",
       "[-l1*sin(theta1) - l2*sin(theta1 + theta2) - l3*sin(theta1 + theta2 + theta3), -l2*sin(theta1 + theta2) - l3*sin(theta1 + theta2 + theta3), -l3*sin(theta1 + theta2 + theta3)],\n",
       "[ l1*cos(theta1) + l2*cos(theta1 + theta2) + l3*cos(theta1 + theta2 + theta3),  l2*cos(theta1 + theta2) + l3*cos(theta1 + theta2 + theta3),  l3*cos(theta1 + theta2 + theta3)],\n",
       "[                                                                           0,                                                           0,                                 0],\n",
       "[                                                                           0,                                                           0,                                 0],\n",
       "[                                                                           0,                                                           0,                                 0],\n",
       "[                                                                           1,                                                           1,                                 1]])"
      ]
     },
     "execution_count": 20,
     "metadata": {},
     "output_type": "execute_result"
    }
   ],
   "source": [
    "J = robot.jacobian()\n",
    "J"
   ]
  },
  {
   "cell_type": "code",
   "execution_count": 21,
   "metadata": {},
   "outputs": [
    {
     "data": {
      "text/latex": [
       "$\\displaystyle \\left[\\begin{matrix}- l_{1} \\sin{\\left(\\theta_{1} \\right)} - l_{2} \\sin{\\left(\\theta_{1} + \\theta_{2} \\right)} - l_{3} \\sin{\\left(\\theta_{1} + \\theta_{2} + \\theta_{3} \\right)} & - l_{2} \\sin{\\left(\\theta_{1} + \\theta_{2} \\right)} - l_{3} \\sin{\\left(\\theta_{1} + \\theta_{2} + \\theta_{3} \\right)} & - l_{3} \\sin{\\left(\\theta_{1} + \\theta_{2} + \\theta_{3} \\right)}\\\\l_{1} \\cos{\\left(\\theta_{1} \\right)} + l_{2} \\cos{\\left(\\theta_{1} + \\theta_{2} \\right)} + l_{3} \\cos{\\left(\\theta_{1} + \\theta_{2} + \\theta_{3} \\right)} & l_{2} \\cos{\\left(\\theta_{1} + \\theta_{2} \\right)} + l_{3} \\cos{\\left(\\theta_{1} + \\theta_{2} + \\theta_{3} \\right)} & l_{3} \\cos{\\left(\\theta_{1} + \\theta_{2} + \\theta_{3} \\right)}\\\\0 & 0 & 0\\end{matrix}\\right]$"
      ],
      "text/plain": [
       "Matrix([\n",
       "[-l1*sin(theta1) - l2*sin(theta1 + theta2) - l3*sin(theta1 + theta2 + theta3), -l2*sin(theta1 + theta2) - l3*sin(theta1 + theta2 + theta3), -l3*sin(theta1 + theta2 + theta3)],\n",
       "[ l1*cos(theta1) + l2*cos(theta1 + theta2) + l3*cos(theta1 + theta2 + theta3),  l2*cos(theta1 + theta2) + l3*cos(theta1 + theta2 + theta3),  l3*cos(theta1 + theta2 + theta3)],\n",
       "[                                                                           0,                                                           0,                                 0]])"
      ]
     },
     "execution_count": 21,
     "metadata": {},
     "output_type": "execute_result"
    }
   ],
   "source": [
    "Jv = robot.linear_jacobian()\n",
    "Jv"
   ]
  },
  {
   "cell_type": "code",
   "execution_count": 22,
   "metadata": {},
   "outputs": [
    {
     "data": {
      "text/latex": [
       "$\\displaystyle 0$"
      ],
      "text/plain": [
       "0"
      ]
     },
     "execution_count": 22,
     "metadata": {},
     "output_type": "execute_result"
    }
   ],
   "source": [
    "det_J = sp.det(Jv).simplify()\n",
    "det_J"
   ]
  },
  {
   "cell_type": "markdown",
   "metadata": {},
   "source": [
    "## Задача 3.15"
   ]
  },
  {
   "cell_type": "markdown",
   "metadata": {},
   "source": [
    "Се решава исто како задача 3.10."
   ]
  },
  {
   "cell_type": "code",
   "execution_count": 23,
   "metadata": {},
   "outputs": [
    {
     "data": {
      "application/vnd.jupyter.widget-view+json": {
       "model_id": "186f81c620304cd8b78983c3582854d6",
       "version_major": 2,
       "version_minor": 0
      },
      "text/plain": [
       "VBox(children=(HBox(children=(ToggleButton(value=True, description='Исклучи цртање'), Button(description='Пром…"
      ]
     },
     "metadata": {},
     "output_type": "display_data"
    }
   ],
   "source": [
    "theta1, theta2, theta3, d1, d2, d3 = sp.symbols('theta1, theta2, theta3, d1, d2, d3')\n",
    "robot = rt.SerialLinkRobot()\n",
    "robot.add_revolute_joint(theta1, d1, 0, sp.pi/2)\n",
    "robot.add_revolute_joint(theta2, d2, 0, sp.pi/2)\n",
    "robot.add_revolute_joint(theta3, d3, 0, 0)\n",
    "robot.add_subs([(d1, 1), (d2, 1), (d3, 1)])\n",
    "robot.interact()"
   ]
  },
  {
   "cell_type": "code",
   "execution_count": 24,
   "metadata": {},
   "outputs": [
    {
     "data": {
      "text/latex": [
       "$\\displaystyle \\left[\\begin{matrix}d_{2} \\cos{\\left(\\theta_{1} \\right)} - d_{3} \\sin{\\left(\\theta_{1} \\right)} \\sin{\\left(\\theta_{2} \\right)} & d_{3} \\cos{\\left(\\theta_{1} \\right)} \\cos{\\left(\\theta_{2} \\right)} & 0\\\\d_{2} \\sin{\\left(\\theta_{1} \\right)} + d_{3} \\sin{\\left(\\theta_{2} \\right)} \\cos{\\left(\\theta_{1} \\right)} & d_{3} \\sin{\\left(\\theta_{1} \\right)} \\cos{\\left(\\theta_{2} \\right)} & 0\\\\0 & d_{3} \\sin{\\left(\\theta_{2} \\right)} & 0\\\\0 & \\sin{\\left(\\theta_{1} \\right)} & \\sin{\\left(\\theta_{2} \\right)} \\cos{\\left(\\theta_{1} \\right)}\\\\0 & - \\cos{\\left(\\theta_{1} \\right)} & \\sin{\\left(\\theta_{1} \\right)} \\sin{\\left(\\theta_{2} \\right)}\\\\1 & 0 & - \\cos{\\left(\\theta_{2} \\right)}\\end{matrix}\\right]$"
      ],
      "text/plain": [
       "Matrix([\n",
       "[d2*cos(theta1) - d3*sin(theta1)*sin(theta2), d3*cos(theta1)*cos(theta2),                       0],\n",
       "[d2*sin(theta1) + d3*sin(theta2)*cos(theta1), d3*sin(theta1)*cos(theta2),                       0],\n",
       "[                                          0,             d3*sin(theta2),                       0],\n",
       "[                                          0,                sin(theta1), sin(theta2)*cos(theta1)],\n",
       "[                                          0,               -cos(theta1), sin(theta1)*sin(theta2)],\n",
       "[                                          1,                          0,            -cos(theta2)]])"
      ]
     },
     "execution_count": 24,
     "metadata": {},
     "output_type": "execute_result"
    }
   ],
   "source": [
    "robot.jacobian()"
   ]
  },
  {
   "cell_type": "code",
   "execution_count": 25,
   "metadata": {},
   "outputs": [
    {
     "data": {
      "text/latex": [
       "$\\displaystyle \\left[\\begin{matrix}d_{2} \\cos{\\left(\\theta_{1} \\right)} - d_{3} \\sin{\\left(\\theta_{1} \\right)} \\sin{\\left(\\theta_{2} \\right)} & d_{3} \\cos{\\left(\\theta_{1} \\right)} \\cos{\\left(\\theta_{2} \\right)} & 0\\\\d_{2} \\sin{\\left(\\theta_{1} \\right)} + d_{3} \\sin{\\left(\\theta_{2} \\right)} \\cos{\\left(\\theta_{1} \\right)} & d_{3} \\sin{\\left(\\theta_{1} \\right)} \\cos{\\left(\\theta_{2} \\right)} & 0\\\\0 & d_{3} \\sin{\\left(\\theta_{2} \\right)} & 0\\\\0 & \\sin{\\left(\\theta_{1} \\right)} & \\sin{\\left(\\theta_{2} \\right)} \\cos{\\left(\\theta_{1} \\right)}\\\\0 & - \\cos{\\left(\\theta_{1} \\right)} & \\sin{\\left(\\theta_{1} \\right)} \\sin{\\left(\\theta_{2} \\right)}\\\\1 & 0 & - \\cos{\\left(\\theta_{2} \\right)}\\end{matrix}\\right]$"
      ],
      "text/plain": [
       "Matrix([\n",
       "[d2*cos(theta1) - d3*sin(theta1)*sin(theta2), d3*cos(theta1)*cos(theta2),                       0],\n",
       "[d2*sin(theta1) + d3*sin(theta2)*cos(theta1), d3*sin(theta1)*cos(theta2),                       0],\n",
       "[                                          0,             d3*sin(theta2),                       0],\n",
       "[                                          0,                sin(theta1), sin(theta2)*cos(theta1)],\n",
       "[                                          0,               -cos(theta1), sin(theta1)*sin(theta2)],\n",
       "[                                          1,                          0,            -cos(theta2)]])"
      ]
     },
     "execution_count": 25,
     "metadata": {},
     "output_type": "execute_result"
    }
   ],
   "source": [
    "J = robot.jacobian()\n",
    "J"
   ]
  },
  {
   "cell_type": "code",
   "execution_count": 26,
   "metadata": {},
   "outputs": [
    {
     "data": {
      "text/latex": [
       "$\\displaystyle \\left[\\begin{matrix}d_{2} \\cos{\\left(\\theta_{1} \\right)} - d_{3} \\sin{\\left(\\theta_{1} \\right)} \\sin{\\left(\\theta_{2} \\right)} & d_{3} \\cos{\\left(\\theta_{1} \\right)} \\cos{\\left(\\theta_{2} \\right)} & 0\\\\d_{2} \\sin{\\left(\\theta_{1} \\right)} + d_{3} \\sin{\\left(\\theta_{2} \\right)} \\cos{\\left(\\theta_{1} \\right)} & d_{3} \\sin{\\left(\\theta_{1} \\right)} \\cos{\\left(\\theta_{2} \\right)} & 0\\\\0 & d_{3} \\sin{\\left(\\theta_{2} \\right)} & 0\\end{matrix}\\right]$"
      ],
      "text/plain": [
       "Matrix([\n",
       "[d2*cos(theta1) - d3*sin(theta1)*sin(theta2), d3*cos(theta1)*cos(theta2), 0],\n",
       "[d2*sin(theta1) + d3*sin(theta2)*cos(theta1), d3*sin(theta1)*cos(theta2), 0],\n",
       "[                                          0,             d3*sin(theta2), 0]])"
      ]
     },
     "execution_count": 26,
     "metadata": {},
     "output_type": "execute_result"
    }
   ],
   "source": [
    "Jv = robot.linear_jacobian()\n",
    "Jv"
   ]
  },
  {
   "cell_type": "code",
   "execution_count": 27,
   "metadata": {},
   "outputs": [
    {
     "data": {
      "text/latex": [
       "$\\displaystyle - \\frac{d_{3}^{2} \\sin{\\left(2 \\theta_{2} \\right)}}{2}$"
      ],
      "text/plain": [
       "-d3**2*sin(2*theta2)/2"
      ]
     },
     "execution_count": 27,
     "metadata": {},
     "output_type": "execute_result"
    }
   ],
   "source": [
    "det_J = sp.det(Jv[:2, :2]).simplify()\n",
    "det_J"
   ]
  },
  {
   "cell_type": "markdown",
   "metadata": {},
   "source": [
    "## Задача 3.16"
   ]
  },
  {
   "cell_type": "markdown",
   "metadata": {},
   "source": [
    "Решете ја рачно оваа задача. 😀"
   ]
  },
  {
   "cell_type": "code",
   "execution_count": null,
   "metadata": {},
   "outputs": [],
   "source": []
  },
  {
   "cell_type": "code",
   "execution_count": null,
   "metadata": {},
   "outputs": [],
   "source": []
  },
  {
   "cell_type": "code",
   "execution_count": null,
   "metadata": {},
   "outputs": [],
   "source": []
  }
 ],
 "metadata": {
  "kernelspec": {
   "display_name": "Python 3",
   "language": "python",
   "name": "python3"
  },
  "language_info": {
   "codemirror_mode": {
    "name": "ipython",
    "version": 3
   },
   "file_extension": ".py",
   "mimetype": "text/x-python",
   "name": "python",
   "nbconvert_exporter": "python",
   "pygments_lexer": "ipython3",
   "version": "3.7.9"
  }
 },
 "nbformat": 4,
 "nbformat_minor": 4
}
