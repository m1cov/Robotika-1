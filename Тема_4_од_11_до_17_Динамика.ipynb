{
 "cells": [
  {
   "cell_type": "code",
   "execution_count": 1,
   "metadata": {},
   "outputs": [],
   "source": [
    "import sympy as sp\n",
    "from sympy.physics import mechanics\n",
    "import script as rt\n",
    "\n",
    "from IPython.lib.display import IFrame"
   ]
  },
  {
   "cell_type": "code",
   "execution_count": 2,
   "metadata": {},
   "outputs": [],
   "source": [
    "t = sp.symbols('t')\n",
    "mechanics.init_vprinting()  # за да скрати печатењето на (t) кај променливите кои зависат од времето"
   ]
  },
  {
   "cell_type": "markdown",
   "metadata": {},
   "source": [
    "### Задача 4.11"
   ]
  },
  {
   "cell_type": "code",
   "execution_count": 3,
   "metadata": {},
   "outputs": [
    {
     "data": {
      "text/html": [
       "\n",
       "        <iframe\n",
       "            width=\"400\"\n",
       "            height=\"300\"\n",
       "            src=\"https://drive.google.com/file/d/11M4UH5DclEyJUCJ3XE-QFGoXjmXmq_q1/preview\"\n",
       "            frameborder=\"0\"\n",
       "            allowfullscreen\n",
       "        ></iframe>\n",
       "        "
      ],
      "text/plain": [
       "<IPython.lib.display.IFrame at 0x7fea3e6eb220>"
      ]
     },
     "execution_count": 3,
     "metadata": {},
     "output_type": "execute_result"
    }
   ],
   "source": [
    "IFrame(src='https://drive.google.com/file/d/11M4UH5DclEyJUCJ3XE-QFGoXjmXmq_q1/preview', width='400', height='300')"
   ]
  },
  {
   "cell_type": "markdown",
   "metadata": {},
   "source": [
    "Се решава исто како и претходните задачи. Разликата во оваа задача се тежиштата на краците кои се наоѓаат на средината на краците."
   ]
  },
  {
   "cell_type": "code",
   "execution_count": 4,
   "metadata": {},
   "outputs": [
    {
     "data": {
      "text/latex": [
       "$\\displaystyle \\left( l_{c1}, \\  l_{c2}\\right)$"
      ],
      "text/plain": [
       "(l_c1, l_c2)"
      ]
     },
     "execution_count": 4,
     "metadata": {},
     "output_type": "execute_result"
    }
   ],
   "source": [
    "m1, m2, g, l1, l2, lc1, lc2, I1, I2 = sp.symbols('m1, m2, g, l1, l2, l_c1, l_c2, I1, I2')\n",
    "theta1, theta2 = mechanics.dynamicsymbols('theta1, theta2')\n",
    "vtheta1, vtheta2 = theta1.diff(t), theta2.diff(t)\n",
    "lc1, lc2"
   ]
  },
  {
   "cell_type": "code",
   "execution_count": 5,
   "metadata": {},
   "outputs": [
    {
     "data": {
      "text/latex": [
       "$\\displaystyle \\frac{I_{1} \\dot{\\theta}_{1}^{2}}{2} + \\frac{l_{c1}^{2} m_{1} \\dot{\\theta}_{1}^{2}}{2}$"
      ],
      "text/plain": [
       "     2       2      2\n",
       "I₁⋅θ₁̇    l_c1 ⋅m₁⋅θ₁̇ \n",
       "────── + ────────────\n",
       "  2           2      "
      ]
     },
     "execution_count": 5,
     "metadata": {},
     "output_type": "execute_result"
    }
   ],
   "source": [
    "K1 = m1 * lc1**2 * vtheta1**2 / 2 + I1 * vtheta1**2 / 2\n",
    "K1"
   ]
  },
  {
   "cell_type": "code",
   "execution_count": 6,
   "metadata": {},
   "outputs": [
    {
     "data": {
      "text/latex": [
       "$\\displaystyle \\frac{I_{2} \\left(\\dot{\\theta}_{1} + \\dot{\\theta}_{2}\\right)^{2}}{2} + \\frac{m_{2} \\left(l_{1}^{2} \\dot{\\theta}_{1}^{2} + 2 l_{1} l_{c2} \\cos{\\left(\\theta_{2} \\right)} \\dot{\\theta}_{1}^{2} + 2 l_{1} l_{c2} \\cos{\\left(\\theta_{2} \\right)} \\dot{\\theta}_{1} \\dot{\\theta}_{2} + l_{c2}^{2} \\dot{\\theta}_{1}^{2} + 2 l_{c2}^{2} \\dot{\\theta}_{1} \\dot{\\theta}_{2} + l_{c2}^{2} \\dot{\\theta}_{2}^{2}\\right)}{2}$"
      ],
      "text/plain": [
       "            2      ⎛  2   2                       2                           \n",
       "I₂⋅(θ₁̇ + θ₂̇)    m₂⋅⎝l₁ ⋅θ₁̇  + 2⋅l₁⋅l_c2⋅cos(θ₂)⋅θ₁̇  + 2⋅l₁⋅l_c2⋅cos(θ₂)⋅θ₁\n",
       "───────────── + ──────────────────────────────────────────────────────────────\n",
       "      2                                                           2           \n",
       "\n",
       "      2   2         2             2   2⎞\n",
       "̇⋅θ₂̇ + l_c2 ⋅θ₁̇  + 2⋅l_c2 ⋅θ₁̇⋅θ₂̇ + l_c2 ⋅θ₂̇ ⎠\n",
       "────────────────────────────────────────\n",
       "                                        "
      ]
     },
     "execution_count": 6,
     "metadata": {},
     "output_type": "execute_result"
    }
   ],
   "source": [
    "x2 = l1*sp.cos(theta1) + lc2*sp.cos(theta1 + theta2)\n",
    "y2 = l1*sp.sin(theta1) + lc2*sp.sin(theta1 + theta2)\n",
    "v2_squared = x2.diff(t)**2 + y2.diff(t)**2\n",
    "K2 = m2 * v2_squared / 2 + I2 * (vtheta1 + vtheta2)**2 / 2\n",
    "K2 = sp.simplify(K2)\n",
    "K2"
   ]
  },
  {
   "cell_type": "code",
   "execution_count": 7,
   "metadata": {},
   "outputs": [
    {
     "data": {
      "text/latex": [
       "$\\displaystyle \\frac{I_{1} \\dot{\\theta}_{1}^{2}}{2} + \\frac{I_{2} \\left(\\dot{\\theta}_{1} + \\dot{\\theta}_{2}\\right)^{2}}{2} + \\frac{l_{c1}^{2} m_{1} \\dot{\\theta}_{1}^{2}}{2} + \\frac{m_{2} \\left(l_{1}^{2} \\dot{\\theta}_{1}^{2} + 2 l_{1} l_{c2} \\cos{\\left(\\theta_{2} \\right)} \\dot{\\theta}_{1}^{2} + 2 l_{1} l_{c2} \\cos{\\left(\\theta_{2} \\right)} \\dot{\\theta}_{1} \\dot{\\theta}_{2} + l_{c2}^{2} \\dot{\\theta}_{1}^{2} + 2 l_{c2}^{2} \\dot{\\theta}_{1} \\dot{\\theta}_{2} + l_{c2}^{2} \\dot{\\theta}_{2}^{2}\\right)}{2}$"
      ],
      "text/plain": [
       "     2               2       2      2      ⎛  2   2                       2   \n",
       "I₁⋅θ₁̇    I₂⋅(θ₁̇ + θ₂̇)    l_c1 ⋅m₁⋅θ₁̇    m₂⋅⎝l₁ ⋅θ₁̇  + 2⋅l₁⋅l_c2⋅cos(θ₂)⋅θ\n",
       "────── + ───────────── + ──────────── + ──────────────────────────────────────\n",
       "  2            2              2                                               \n",
       "\n",
       "                              2   2         2             2   2⎞\n",
       "₁̇  + 2⋅l₁⋅l_c2⋅cos(θ₂)⋅θ₁̇⋅θ₂̇ + l_c2 ⋅θ₁̇  + 2⋅l_c2 ⋅θ₁̇⋅θ₂̇ + l_c2 ⋅θ₂̇ ⎠\n",
       "────────────────────────────────────────────────────────────────\n",
       "            2                                                   "
      ]
     },
     "execution_count": 7,
     "metadata": {},
     "output_type": "execute_result"
    }
   ],
   "source": [
    "K = K1 + K2\n",
    "K"
   ]
  },
  {
   "cell_type": "code",
   "execution_count": 8,
   "metadata": {},
   "outputs": [
    {
     "data": {
      "text/latex": [
       "$\\displaystyle g l_{c1} m_{1} \\sin{\\left(\\theta_{1} \\right)}$"
      ],
      "text/plain": [
       "g⋅l_c1⋅m₁⋅sin(θ₁)"
      ]
     },
     "execution_count": 8,
     "metadata": {},
     "output_type": "execute_result"
    }
   ],
   "source": [
    "P1 = m1 * g * lc1 * sp.sin(theta1)\n",
    "P1"
   ]
  },
  {
   "cell_type": "code",
   "execution_count": 9,
   "metadata": {},
   "outputs": [
    {
     "data": {
      "text/latex": [
       "$\\displaystyle g l_{1} m_{2} \\sin{\\left(\\theta_{1} \\right)} + g l_{c2} m_{2} \\sin{\\left(\\theta_{1} + \\theta_{2} \\right)}$"
      ],
      "text/plain": [
       "g⋅l₁⋅m₂⋅sin(θ₁) + g⋅l_c2⋅m₂⋅sin(θ₁ + θ₂)"
      ]
     },
     "execution_count": 9,
     "metadata": {},
     "output_type": "execute_result"
    }
   ],
   "source": [
    "P2 = m2 * g * l1 * sp.sin(theta1) + m2 * g * lc2 * sp.sin(theta1 + theta2)\n",
    "P2"
   ]
  },
  {
   "cell_type": "code",
   "execution_count": 10,
   "metadata": {},
   "outputs": [
    {
     "data": {
      "text/latex": [
       "$\\displaystyle g l_{1} m_{2} \\sin{\\left(\\theta_{1} \\right)} + g l_{c1} m_{1} \\sin{\\left(\\theta_{1} \\right)} + g l_{c2} m_{2} \\sin{\\left(\\theta_{1} + \\theta_{2} \\right)}$"
      ],
      "text/plain": [
       "g⋅l₁⋅m₂⋅sin(θ₁) + g⋅l_c1⋅m₁⋅sin(θ₁) + g⋅l_c2⋅m₂⋅sin(θ₁ + θ₂)"
      ]
     },
     "execution_count": 10,
     "metadata": {},
     "output_type": "execute_result"
    }
   ],
   "source": [
    "P = P1 + P2\n",
    "P"
   ]
  },
  {
   "cell_type": "code",
   "execution_count": 11,
   "metadata": {},
   "outputs": [
    {
     "data": {
      "text/latex": [
       "$\\displaystyle \\frac{I_{1} \\dot{\\theta}_{1}^{2}}{2} + \\frac{I_{2} \\left(\\dot{\\theta}_{1} + \\dot{\\theta}_{2}\\right)^{2}}{2} - g l_{1} m_{2} \\sin{\\left(\\theta_{1} \\right)} - g l_{c1} m_{1} \\sin{\\left(\\theta_{1} \\right)} - g l_{c2} m_{2} \\sin{\\left(\\theta_{1} + \\theta_{2} \\right)} + \\frac{l_{c1}^{2} m_{1} \\dot{\\theta}_{1}^{2}}{2} + \\frac{m_{2} \\left(l_{1}^{2} \\dot{\\theta}_{1}^{2} + 2 l_{1} l_{c2} \\cos{\\left(\\theta_{2} \\right)} \\dot{\\theta}_{1}^{2} + 2 l_{1} l_{c2} \\cos{\\left(\\theta_{2} \\right)} \\dot{\\theta}_{1} \\dot{\\theta}_{2} + l_{c2}^{2} \\dot{\\theta}_{1}^{2} + 2 l_{c2}^{2} \\dot{\\theta}_{1} \\dot{\\theta}_{2} + l_{c2}^{2} \\dot{\\theta}_{2}^{2}\\right)}{2}$"
      ],
      "text/plain": [
       "     2               2                                                        \n",
       "I₁⋅θ₁̇    I₂⋅(θ₁̇ + θ₂̇)                                                      \n",
       "────── + ───────────── - g⋅l₁⋅m₂⋅sin(θ₁) - g⋅l_c1⋅m₁⋅sin(θ₁) - g⋅l_c2⋅m₂⋅sin(θ\n",
       "  2            2                                                              \n",
       "\n",
       "              2      2      ⎛  2   2                       2                  \n",
       "             l_c1 ⋅m₁⋅θ₁̇    m₂⋅⎝l₁ ⋅θ₁̇  + 2⋅l₁⋅l_c2⋅cos(θ₂)⋅θ₁̇  + 2⋅l₁⋅l_c2\n",
       "₁ + θ₂) + ──────────── + ─────────────────────────────────────────────────────\n",
       "               2                                                           2  \n",
       "\n",
       "               2   2         2             2   2⎞\n",
       "⋅cos(θ₂)⋅θ₁̇⋅θ₂̇ + l_c2 ⋅θ₁̇  + 2⋅l_c2 ⋅θ₁̇⋅θ₂̇ + l_c2 ⋅θ₂̇ ⎠\n",
       "─────────────────────────────────────────────────\n",
       "                                                 "
      ]
     },
     "execution_count": 11,
     "metadata": {},
     "output_type": "execute_result"
    }
   ],
   "source": [
    "L = K - P\n",
    "L"
   ]
  },
  {
   "cell_type": "code",
   "execution_count": 12,
   "metadata": {},
   "outputs": [
    {
     "data": {
      "text/latex": [
       "$\\displaystyle \\left[\\begin{matrix}I_{1} \\ddot{\\theta}_{1} + I_{2} \\left(\\ddot{\\theta}_{1} + \\ddot{\\theta}_{2}\\right) + g l_{1} m_{2} \\cos{\\left(\\theta_{1} \\right)} + g l_{c1} m_{1} \\cos{\\left(\\theta_{1} \\right)} + g l_{c2} m_{2} \\cos{\\left(\\theta_{1} + \\theta_{2} \\right)} + l_{c1}^{2} m_{1} \\ddot{\\theta}_{1} + m_{2} \\left(l_{1}^{2} \\ddot{\\theta}_{1} - 2 l_{1} l_{c2} \\sin{\\left(\\theta_{2} \\right)} \\dot{\\theta}_{1} \\dot{\\theta}_{2} - l_{1} l_{c2} \\sin{\\left(\\theta_{2} \\right)} \\dot{\\theta}_{2}^{2} + 2 l_{1} l_{c2} \\cos{\\left(\\theta_{2} \\right)} \\ddot{\\theta}_{1} + l_{1} l_{c2} \\cos{\\left(\\theta_{2} \\right)} \\ddot{\\theta}_{2} + l_{c2}^{2} \\ddot{\\theta}_{1} + l_{c2}^{2} \\ddot{\\theta}_{2}\\right)\\\\I_{2} \\ddot{\\theta}_{1} + I_{2} \\ddot{\\theta}_{2} + g l_{c2} m_{2} \\cos{\\left(\\theta_{1} + \\theta_{2} \\right)} + l_{1} l_{c2} m_{2} \\sin{\\left(\\theta_{2} \\right)} \\dot{\\theta}_{1}^{2} + l_{1} l_{c2} m_{2} \\cos{\\left(\\theta_{2} \\right)} \\ddot{\\theta}_{1} + l_{c2}^{2} m_{2} \\ddot{\\theta}_{1} + l_{c2}^{2} m_{2} \\ddot{\\theta}_{2}\\end{matrix}\\right]$"
      ],
      "text/plain": [
       "⎡                                                                             \n",
       "⎢I₁⋅θ₁̈ + I₂⋅(θ₁̈ + θ₂̈) + g⋅l₁⋅m₂⋅cos(θ₁) + g⋅l_c1⋅m₁⋅cos(θ₁) + g⋅l_c2⋅m₂⋅cos\n",
       "⎢                                                                             \n",
       "⎢                                                                             \n",
       "⎣                                                       I₂⋅θ₁̈ + I₂⋅θ₂̈ + g⋅l_\n",
       "\n",
       "             2            ⎛  2                                                \n",
       "(θ₁ + θ₂) + l_c1 ⋅m₁⋅θ₁̈ + m₂⋅⎝l₁ ⋅θ₁̈ - 2⋅l₁⋅l_c2⋅sin(θ₂)⋅θ₁̇⋅θ₂̇ - l₁⋅l_c2⋅s\n",
       "                                                                              \n",
       "                                        2                               2     \n",
       "c2⋅m₂⋅cos(θ₁ + θ₂) + l₁⋅l_c2⋅m₂⋅sin(θ₂)⋅θ₁̇  + l₁⋅l_c2⋅m₂⋅cos(θ₂)⋅θ₁̈ + l_c2 ⋅\n",
       "\n",
       "  2                                                   2          2   ⎞⎤\n",
       "in(θ₂)⋅θ₂̇  + 2⋅l₁⋅l_c2⋅cos(θ₂)⋅θ₁̈ + l₁⋅l_c2⋅cos(θ₂)⋅θ₂̈ + l_c2 ⋅θ₁̈ + l_c2 ⋅\n",
       "                                                                      ⎥\n",
       "        2                                                             ⎥\n",
       "m₂⋅θ₁̈ + l_c2 ⋅m₂⋅θ₂̈                                                       ⎦"
      ]
     },
     "execution_count": 12,
     "metadata": {},
     "output_type": "execute_result"
    }
   ],
   "source": [
    "rt.lagrangian(L, [theta1, theta2])"
   ]
  },
  {
   "cell_type": "code",
   "execution_count": 13,
   "metadata": {},
   "outputs": [
    {
     "data": {
      "text/latex": [
       "$\\displaystyle \\left( \\left[\\begin{matrix}\\left(I_{1} + I_{2} + l_{1}^{2} m_{2} + 2 l_{1} l_{c2} m_{2} \\cos{\\left(\\theta_{2} \\right)} + l_{c1}^{2} m_{1} + l_{c2}^{2} m_{2}\\right) \\ddot{\\theta}_{1} & \\left(I_{2} + l_{1} l_{c2} m_{2} \\cos{\\left(\\theta_{2} \\right)} + l_{c2}^{2} m_{2}\\right) \\ddot{\\theta}_{2}\\\\\\left(I_{2} + l_{1} l_{c2} m_{2} \\cos{\\left(\\theta_{2} \\right)} + l_{c2}^{2} m_{2}\\right) \\ddot{\\theta}_{1} & \\left(I_{2} + l_{c2}^{2} m_{2}\\right) \\ddot{\\theta}_{2}\\end{matrix}\\right], \\  \\left[\\begin{matrix}0 & - 2 l_{1} l_{c2} m_{2} \\sin{\\left(\\theta_{2} \\right)} \\dot{\\theta}_{1} \\dot{\\theta}_{2} & - l_{1} l_{c2} m_{2} \\sin{\\left(\\theta_{2} \\right)} \\dot{\\theta}_{2}^{2}\\\\l_{1} l_{c2} m_{2} \\sin{\\left(\\theta_{2} \\right)} \\dot{\\theta}_{1}^{2} & 0 & 0\\end{matrix}\\right], \\  \\left[\\begin{matrix}g \\left(l_{1} m_{2} \\cos{\\left(\\theta_{1} \\right)} + l_{c1} m_{1} \\cos{\\left(\\theta_{1} \\right)} + l_{c2} m_{2} \\cos{\\left(\\theta_{1} + \\theta_{2} \\right)}\\right)\\\\g l_{c2} m_{2} \\cos{\\left(\\theta_{1} + \\theta_{2} \\right)}\\end{matrix}\\right]\\right)$"
      ],
      "text/plain": [
       "⎛⎡⎛            2                                 2          2   ⎞     ⎛       \n",
       "⎜⎢⎝I₁ + I₂ + l₁ ⋅m₂ + 2⋅l₁⋅l_c2⋅m₂⋅cos(θ₂) + l_c1 ⋅m₁ + l_c2 ⋅m₂⎠⋅θ₁̈  ⎝I₂ + l\n",
       "⎜⎢                                                                            \n",
       "⎜⎢             ⎛                              2   ⎞                           \n",
       "⎝⎣             ⎝I₂ + l₁⋅l_c2⋅m₂⋅cos(θ₂) + l_c2 ⋅m₂⎠⋅θ₁̈                       \n",
       "\n",
       "                       2   ⎞   ⎤  ⎡                                           \n",
       "₁⋅l_c2⋅m₂⋅cos(θ₂) + l_c2 ⋅m₂⎠⋅θ₂̈⎥  ⎢          0             -2⋅l₁⋅l_c2⋅m₂⋅sin\n",
       "                               ⎥, ⎢                                           \n",
       "  ⎛         2   ⎞              ⎥  ⎢                     2                     \n",
       "   ⎝I₂ + l_c2 ⋅m₂⎠⋅θ₂̈           ⎦  ⎣l₁⋅l_c2⋅m₂⋅sin(θ₂)⋅θ₁̇                0  \n",
       "\n",
       "                                2⎤                                            \n",
       "(θ₂)⋅θ₁̇⋅θ₂̇  -l₁⋅l_c2⋅m₂⋅sin(θ₂)⋅θ₂̇ ⎥  ⎡g⋅(l₁⋅m₂⋅cos(θ₁) + l_c1⋅m₁⋅cos(θ₁) +\n",
       "                                 ⎥, ⎢                                         \n",
       "                                 ⎥  ⎣                  g⋅l_c2⋅m₂⋅cos(θ₁ + θ₂) \n",
       "                        0           ⎦                                         \n",
       "\n",
       "                  ⎞\n",
       " l_c2⋅m₂⋅cos(θ₁ + θ₂))⎤⎟\n",
       "                 ⎥⎟\n",
       "                 ⎦⎟\n",
       "                     ⎠"
      ]
     },
     "execution_count": 13,
     "metadata": {},
     "output_type": "execute_result"
    }
   ],
   "source": [
    "rt.dynamic_model_with_3_matrices(L, [theta1, theta2])"
   ]
  },
  {
   "cell_type": "markdown",
   "metadata": {},
   "source": [
    "### Задача 4.12"
   ]
  },
  {
   "cell_type": "code",
   "execution_count": 14,
   "metadata": {},
   "outputs": [
    {
     "data": {
      "text/html": [
       "\n",
       "        <iframe\n",
       "            width=\"400\"\n",
       "            height=\"300\"\n",
       "            src=\"https://drive.google.com/file/d/1TLQ8AgXOrNUC6MY8dIC6oOeIdbh1p9Nw/preview\"\n",
       "            frameborder=\"0\"\n",
       "            allowfullscreen\n",
       "        ></iframe>\n",
       "        "
      ],
      "text/plain": [
       "<IPython.lib.display.IFrame at 0x7fea3e5e2a90>"
      ]
     },
     "execution_count": 14,
     "metadata": {},
     "output_type": "execute_result"
    }
   ],
   "source": [
    "IFrame(src='https://drive.google.com/file/d/1TLQ8AgXOrNUC6MY8dIC6oOeIdbh1p9Nw/preview', width='400', height='300')"
   ]
  },
  {
   "cell_type": "markdown",
   "metadata": {},
   "source": [
    "Се решава исто како и претходната задача. Разликата во оваа задача е распределбата на масата на краците. Масата на краците во сите претходни задачи е сконцентрирана во тежиштето. Во оваа задача таа е распределена низ целиот крак. Технички таа распределба ја опишуваме со инерциската матрица која ни е дадена."
   ]
  },
  {
   "cell_type": "code",
   "execution_count": 15,
   "metadata": {},
   "outputs": [],
   "source": [
    "m1, m2, g, l1, l2, r1, r2 = sp.symbols('m1, m2, g, l1, l2, r1, r2')\n",
    "theta1, theta2 = mechanics.dynamicsymbols('theta1, theta2')\n",
    "vtheta1, vtheta2 = theta1.diff(t), theta2.diff(t)"
   ]
  },
  {
   "cell_type": "code",
   "execution_count": 16,
   "metadata": {},
   "outputs": [
    {
     "data": {
      "text/latex": [
       "$\\displaystyle \\left( \\left[\\begin{matrix}I_{x1} & 0 & 0\\\\0 & I_{y1} & 0\\\\0 & 0 & I_{z1}\\end{matrix}\\right], \\  \\left[\\begin{matrix}I_{x2} & 0 & 0\\\\0 & I_{y2} & 0\\\\0 & 0 & I_{z2}\\end{matrix}\\right]\\right)$"
      ],
      "text/plain": [
       "⎛⎡Iₓ₁   0     0  ⎤  ⎡Iₓ₂   0     0  ⎤⎞\n",
       "⎜⎢               ⎥  ⎢               ⎥⎟\n",
       "⎜⎢ 0   I_y1   0  ⎥, ⎢ 0   I_y2   0  ⎥⎟\n",
       "⎜⎢               ⎥  ⎢               ⎥⎟\n",
       "⎝⎣ 0    0    I_z1⎦  ⎣ 0    0    I_z2⎦⎠"
      ]
     },
     "execution_count": 16,
     "metadata": {},
     "output_type": "execute_result"
    }
   ],
   "source": [
    "Ix1, Iy1, Iz1, Ix2, Iy2, Iz2 = sp.symbols('I_x1, I_y1, I_z1, I_x2, I_y2, I_z2')\n",
    "T1 = sp.Matrix([[Ix1, 0, 0], [0, Iy1, 0], [0, 0, Iz1]])\n",
    "T2 = sp.Matrix([[Ix2, 0, 0], [0, Iy2, 0], [0, 0, Iz2]])\n",
    "T1, T2"
   ]
  },
  {
   "cell_type": "code",
   "execution_count": 17,
   "metadata": {},
   "outputs": [
    {
     "data": {
      "text/latex": [
       "$\\displaystyle \\left[\\begin{matrix}- r_{1} \\sin{\\left(\\theta_{1} \\right)} \\dot{\\theta}_{1}\\\\r_{1} \\cos{\\left(\\theta_{1} \\right)} \\dot{\\theta}_{1}\\\\0\\end{matrix}\\right]$"
      ],
      "text/plain": [
       "⎡-r₁⋅sin(θ₁)⋅θ₁̇⎤\n",
       "⎢              ⎥\n",
       "⎢r₁⋅cos(θ₁)⋅θ₁̇ ⎥\n",
       "⎢              ⎥\n",
       "⎣      0       ⎦"
      ]
     },
     "execution_count": 17,
     "metadata": {},
     "output_type": "execute_result"
    }
   ],
   "source": [
    "x1 = r1 * sp.cos(theta1)\n",
    "y1 = r1 * sp.sin(theta1)\n",
    "v1 = sp.Matrix([x1.diff(t), y1.diff(t), 0])\n",
    "v1"
   ]
  },
  {
   "cell_type": "code",
   "execution_count": 18,
   "metadata": {},
   "outputs": [
    {
     "data": {
      "text/latex": [
       "$\\displaystyle \\left[\\begin{matrix}0\\\\0\\\\\\dot{\\theta}_{1}\\end{matrix}\\right]$"
      ],
      "text/plain": [
       "⎡0 ⎤\n",
       "⎢  ⎥\n",
       "⎢0 ⎥\n",
       "⎢  ⎥\n",
       "⎣θ₁̇⎦"
      ]
     },
     "execution_count": 18,
     "metadata": {},
     "output_type": "execute_result"
    }
   ],
   "source": [
    "w1 = sp.Matrix([0, 0, theta1.diff(t)])\n",
    "w1"
   ]
  },
  {
   "cell_type": "code",
   "execution_count": 19,
   "metadata": {},
   "outputs": [
    {
     "data": {
      "text/latex": [
       "$\\displaystyle \\left[\\begin{matrix}\\frac{I_{z1} \\dot{\\theta}_{1}^{2}}{2} + \\frac{m_{1} r_{1}^{2} \\sin^{2}{\\left(\\theta_{1} \\right)} \\dot{\\theta}_{1}^{2}}{2} + \\frac{m_{1} r_{1}^{2} \\cos^{2}{\\left(\\theta_{1} \\right)} \\dot{\\theta}_{1}^{2}}{2}\\end{matrix}\\right]$"
      ],
      "text/plain": [
       "⎡       2        2    2       2        2    2       2⎤\n",
       "⎢I_z1⋅θ₁̇    m₁⋅r₁ ⋅sin (θ₁)⋅θ₁̇    m₁⋅r₁ ⋅cos (θ₁)⋅θ₁̇ ⎥\n",
       "⎢──────── + ─────────────────── + ───────────────────⎥\n",
       "⎣   2                2                     2         ⎦"
      ]
     },
     "execution_count": 19,
     "metadata": {},
     "output_type": "execute_result"
    }
   ],
   "source": [
    "K1 = m1 * v1.T * v1 / 2  +  w1.T * T1 * w1 / 2\n",
    "K1"
   ]
  },
  {
   "cell_type": "code",
   "execution_count": 20,
   "metadata": {},
   "outputs": [
    {
     "data": {
      "text/latex": [
       "$\\displaystyle \\left[\\begin{matrix}- l_{1} \\sin{\\left(\\theta_{1} \\right)} \\dot{\\theta}_{1} - r_{2} \\left(\\dot{\\theta}_{1} + \\dot{\\theta}_{2}\\right) \\sin{\\left(\\theta_{1} + \\theta_{2} \\right)}\\\\l_{1} \\cos{\\left(\\theta_{1} \\right)} \\dot{\\theta}_{1} + r_{2} \\left(\\dot{\\theta}_{1} + \\dot{\\theta}_{2}\\right) \\cos{\\left(\\theta_{1} + \\theta_{2} \\right)}\\\\0\\end{matrix}\\right]$"
      ],
      "text/plain": [
       "⎡-l₁⋅sin(θ₁)⋅θ₁̇ - r₂⋅(θ₁̇ + θ₂̇)⋅sin(θ₁ + θ₂)⎤\n",
       "⎢                                          ⎥\n",
       "⎢l₁⋅cos(θ₁)⋅θ₁̇ + r₂⋅(θ₁̇ + θ₂̇)⋅cos(θ₁ + θ₂) ⎥\n",
       "⎢                                          ⎥\n",
       "⎣                    0                     ⎦"
      ]
     },
     "execution_count": 20,
     "metadata": {},
     "output_type": "execute_result"
    }
   ],
   "source": [
    "x2 = l1 * sp.cos(theta1) + r2 * sp.cos(theta1 + theta2)\n",
    "y2 = l1 * sp.sin(theta1) + r2 * sp.sin(theta1 + theta2)\n",
    "v2 = sp.Matrix([x2.diff(t), y2.diff(t), 0])\n",
    "v2"
   ]
  },
  {
   "cell_type": "code",
   "execution_count": 21,
   "metadata": {},
   "outputs": [
    {
     "data": {
      "text/latex": [
       "$\\displaystyle \\left[\\begin{matrix}0\\\\0\\\\\\dot{\\theta}_{2}\\end{matrix}\\right]$"
      ],
      "text/plain": [
       "⎡0 ⎤\n",
       "⎢  ⎥\n",
       "⎢0 ⎥\n",
       "⎢  ⎥\n",
       "⎣θ₂̇⎦"
      ]
     },
     "execution_count": 21,
     "metadata": {},
     "output_type": "execute_result"
    }
   ],
   "source": [
    "w2 = sp.Matrix([0, 0, theta2.diff(t)])\n",
    "w2"
   ]
  },
  {
   "cell_type": "code",
   "execution_count": 22,
   "metadata": {},
   "outputs": [
    {
     "data": {
      "text/latex": [
       "$\\displaystyle \\left[\\begin{matrix}\\frac{I_{z2} \\dot{\\theta}_{2}^{2}}{2} + \\frac{m_{2} \\left(- l_{1} \\sin{\\left(\\theta_{1} \\right)} \\dot{\\theta}_{1} - r_{2} \\left(\\dot{\\theta}_{1} + \\dot{\\theta}_{2}\\right) \\sin{\\left(\\theta_{1} + \\theta_{2} \\right)}\\right)^{2}}{2} + \\frac{m_{2} \\left(l_{1} \\cos{\\left(\\theta_{1} \\right)} \\dot{\\theta}_{1} + r_{2} \\left(\\dot{\\theta}_{1} + \\dot{\\theta}_{2}\\right) \\cos{\\left(\\theta_{1} + \\theta_{2} \\right)}\\right)^{2}}{2}\\end{matrix}\\right]$"
      ],
      "text/plain": [
       "⎡       2                                                  2                  \n",
       "⎢I_z2⋅θ₂̇    m₂⋅(-l₁⋅sin(θ₁)⋅θ₁̇ - r₂⋅(θ₁̇ + θ₂̇)⋅sin(θ₁ + θ₂))    m₂⋅(l₁⋅cos(\n",
       "⎢──────── + ──────────────────────────────────────────────── + ───────────────\n",
       "⎣   2                              2                                          \n",
       "\n",
       "                               2⎤\n",
       "θ₁)⋅θ₁̇ + r₂⋅(θ₁̇ + θ₂̇)⋅cos(θ₁ + θ₂)) ⎥\n",
       "────────────────────────────────⎥\n",
       "        2                       ⎦"
      ]
     },
     "execution_count": 22,
     "metadata": {},
     "output_type": "execute_result"
    }
   ],
   "source": [
    "K2 = m2 * v2.T * v2 / 2  +  w2.T * T2 * w2 / 2\n",
    "K2"
   ]
  },
  {
   "cell_type": "code",
   "execution_count": 23,
   "metadata": {},
   "outputs": [
    {
     "data": {
      "text/latex": [
       "$\\displaystyle \\left[\\begin{matrix}\\frac{I_{z1} \\dot{\\theta}_{1}^{2}}{2} + \\frac{I_{z2} \\dot{\\theta}_{2}^{2}}{2} + \\frac{m_{1} r_{1}^{2} \\sin^{2}{\\left(\\theta_{1} \\right)} \\dot{\\theta}_{1}^{2}}{2} + \\frac{m_{1} r_{1}^{2} \\cos^{2}{\\left(\\theta_{1} \\right)} \\dot{\\theta}_{1}^{2}}{2} + \\frac{m_{2} \\left(- l_{1} \\sin{\\left(\\theta_{1} \\right)} \\dot{\\theta}_{1} - r_{2} \\left(\\dot{\\theta}_{1} + \\dot{\\theta}_{2}\\right) \\sin{\\left(\\theta_{1} + \\theta_{2} \\right)}\\right)^{2}}{2} + \\frac{m_{2} \\left(l_{1} \\cos{\\left(\\theta_{1} \\right)} \\dot{\\theta}_{1} + r_{2} \\left(\\dot{\\theta}_{1} + \\dot{\\theta}_{2}\\right) \\cos{\\left(\\theta_{1} + \\theta_{2} \\right)}\\right)^{2}}{2}\\end{matrix}\\right]$"
      ],
      "text/plain": [
       "⎡       2          2        2    2       2        2    2       2              \n",
       "⎢I_z1⋅θ₁̇    I_z2⋅θ₂̇    m₁⋅r₁ ⋅sin (θ₁)⋅θ₁̇    m₁⋅r₁ ⋅cos (θ₁)⋅θ₁̇    m₂⋅(-l₁\n",
       "⎢──────── + ──────── + ─────────────────── + ─────────────────── + ───────────\n",
       "⎣   2          2                2                     2                       \n",
       "\n",
       "                                    2                                         \n",
       "⋅sin(θ₁)⋅θ₁̇ - r₂⋅(θ₁̇ + θ₂̇)⋅sin(θ₁ + θ₂))    m₂⋅(l₁⋅cos(θ₁)⋅θ₁̇ + r₂⋅(θ₁̇ + \n",
       "───────────────────────────────────── + ──────────────────────────────────────\n",
       "            2                                                  2              \n",
       "\n",
       "        2⎤\n",
       "θ₂̇)⋅cos(θ₁ + θ₂)) ⎥\n",
       "─────────⎥\n",
       "         ⎦"
      ]
     },
     "execution_count": 23,
     "metadata": {},
     "output_type": "execute_result"
    }
   ],
   "source": [
    "K = K1 + K2\n",
    "K"
   ]
  },
  {
   "cell_type": "code",
   "execution_count": 24,
   "metadata": {},
   "outputs": [
    {
     "data": {
      "text/latex": [
       "$\\displaystyle g m_{1} r_{1} \\sin{\\left(\\theta_{1} \\right)}$"
      ],
      "text/plain": [
       "g⋅m₁⋅r₁⋅sin(θ₁)"
      ]
     },
     "execution_count": 24,
     "metadata": {},
     "output_type": "execute_result"
    }
   ],
   "source": [
    "P1 = m1 * g * r1 * sp.sin(theta1)\n",
    "P1"
   ]
  },
  {
   "cell_type": "code",
   "execution_count": 25,
   "metadata": {},
   "outputs": [
    {
     "data": {
      "text/latex": [
       "$\\displaystyle g l_{1} m_{2} \\sin{\\left(\\theta_{1} \\right)} + g m_{2} r_{2} \\sin{\\left(\\theta_{1} + \\theta_{2} \\right)}$"
      ],
      "text/plain": [
       "g⋅l₁⋅m₂⋅sin(θ₁) + g⋅m₂⋅r₂⋅sin(θ₁ + θ₂)"
      ]
     },
     "execution_count": 25,
     "metadata": {},
     "output_type": "execute_result"
    }
   ],
   "source": [
    "P2 = m2 * g * l1 * sp.sin(theta1) + m2 * g * r2 * sp.sin(theta1 + theta2)\n",
    "P2"
   ]
  },
  {
   "cell_type": "code",
   "execution_count": 26,
   "metadata": {},
   "outputs": [
    {
     "data": {
      "text/latex": [
       "$\\displaystyle g l_{1} m_{2} \\sin{\\left(\\theta_{1} \\right)} + g m_{1} r_{1} \\sin{\\left(\\theta_{1} \\right)} + g m_{2} r_{2} \\sin{\\left(\\theta_{1} + \\theta_{2} \\right)}$"
      ],
      "text/plain": [
       "g⋅l₁⋅m₂⋅sin(θ₁) + g⋅m₁⋅r₁⋅sin(θ₁) + g⋅m₂⋅r₂⋅sin(θ₁ + θ₂)"
      ]
     },
     "execution_count": 26,
     "metadata": {},
     "output_type": "execute_result"
    }
   ],
   "source": [
    "P = P1 + P2\n",
    "P"
   ]
  },
  {
   "cell_type": "code",
   "execution_count": 27,
   "metadata": {},
   "outputs": [
    {
     "data": {
      "text/latex": [
       "$\\displaystyle \\frac{I_{z1} \\dot{\\theta}_{1}^{2}}{2} + \\frac{I_{z2} \\dot{\\theta}_{2}^{2}}{2} - g l_{1} m_{2} \\sin{\\left(\\theta_{1} \\right)} - g m_{1} r_{1} \\sin{\\left(\\theta_{1} \\right)} - g m_{2} r_{2} \\sin{\\left(\\theta_{1} + \\theta_{2} \\right)} + \\frac{m_{1} r_{1}^{2} \\sin^{2}{\\left(\\theta_{1} \\right)} \\dot{\\theta}_{1}^{2}}{2} + \\frac{m_{1} r_{1}^{2} \\cos^{2}{\\left(\\theta_{1} \\right)} \\dot{\\theta}_{1}^{2}}{2} + \\frac{m_{2} \\left(- l_{1} \\sin{\\left(\\theta_{1} \\right)} \\dot{\\theta}_{1} - r_{2} \\left(\\dot{\\theta}_{1} + \\dot{\\theta}_{2}\\right) \\sin{\\left(\\theta_{1} + \\theta_{2} \\right)}\\right)^{2}}{2} + \\frac{m_{2} \\left(l_{1} \\cos{\\left(\\theta_{1} \\right)} \\dot{\\theta}_{1} + r_{2} \\left(\\dot{\\theta}_{1} + \\dot{\\theta}_{2}\\right) \\cos{\\left(\\theta_{1} + \\theta_{2} \\right)}\\right)^{2}}{2}$"
      ],
      "text/plain": [
       "       2          2                                                           \n",
       "I_z1⋅θ₁̇    I_z2⋅θ₂̇                                                          \n",
       "──────── + ──────── - g⋅l₁⋅m₂⋅sin(θ₁) - g⋅m₁⋅r₁⋅sin(θ₁) - g⋅m₂⋅r₂⋅sin(θ₁ + θ₂)\n",
       "   2          2                                                               \n",
       "\n",
       "        2    2       2        2    2       2                                  \n",
       "     m₁⋅r₁ ⋅sin (θ₁)⋅θ₁̇    m₁⋅r₁ ⋅cos (θ₁)⋅θ₁̇    m₂⋅(-l₁⋅sin(θ₁)⋅θ₁̇ - r₂⋅(θ\n",
       " + ─────────────────── + ─────────────────── + ───────────────────────────────\n",
       "            2                     2                                   2       \n",
       "\n",
       "                2                                                 2\n",
       "₁̇ + θ₂̇)⋅sin(θ₁ + θ₂))    m₂⋅(l₁⋅cos(θ₁)⋅θ₁̇ + r₂⋅(θ₁̇ + θ₂̇)⋅cos(θ₁ + θ₂)) \n",
       "───────────────── + ───────────────────────────────────────────────\n",
       "                                           2                       "
      ]
     },
     "execution_count": 27,
     "metadata": {},
     "output_type": "execute_result"
    }
   ],
   "source": [
    "L = K[0] - P\n",
    "L"
   ]
  },
  {
   "cell_type": "code",
   "execution_count": 28,
   "metadata": {},
   "outputs": [
    {
     "data": {
      "text/latex": [
       "$\\displaystyle \\left[\\begin{matrix}I_{z1} \\ddot{\\theta}_{1} + g l_{1} m_{2} \\cos{\\left(\\theta_{1} \\right)} + g m_{1} r_{1} \\cos{\\left(\\theta_{1} \\right)} + g m_{2} r_{2} \\cos{\\left(\\theta_{1} + \\theta_{2} \\right)} + l_{1}^{2} m_{2} \\ddot{\\theta}_{1} - 2 l_{1} m_{2} r_{2} \\sin{\\left(\\theta_{2} \\right)} \\dot{\\theta}_{1} \\dot{\\theta}_{2} - l_{1} m_{2} r_{2} \\sin{\\left(\\theta_{2} \\right)} \\dot{\\theta}_{2}^{2} + 2 l_{1} m_{2} r_{2} \\cos{\\left(\\theta_{2} \\right)} \\ddot{\\theta}_{1} + l_{1} m_{2} r_{2} \\cos{\\left(\\theta_{2} \\right)} \\ddot{\\theta}_{2} + m_{1} r_{1}^{2} \\ddot{\\theta}_{1} + m_{2} r_{2}^{2} \\ddot{\\theta}_{1} + m_{2} r_{2}^{2} \\ddot{\\theta}_{2}\\\\I_{z2} \\ddot{\\theta}_{2} + g m_{2} r_{2} \\cos{\\left(\\theta_{1} + \\theta_{2} \\right)} + l_{1} m_{2} r_{2} \\sin{\\left(\\theta_{2} \\right)} \\dot{\\theta}_{1}^{2} + l_{1} m_{2} r_{2} \\cos{\\left(\\theta_{2} \\right)} \\ddot{\\theta}_{1} + m_{2} r_{2}^{2} \\ddot{\\theta}_{1} + m_{2} r_{2}^{2} \\ddot{\\theta}_{2}\\end{matrix}\\right]$"
      ],
      "text/plain": [
       "⎡                                                                       2     \n",
       "⎢I_z1⋅θ₁̈ + g⋅l₁⋅m₂⋅cos(θ₁) + g⋅m₁⋅r₁⋅cos(θ₁) + g⋅m₂⋅r₂⋅cos(θ₁ + θ₂) + l₁ ⋅m₂⋅\n",
       "⎢                                                                             \n",
       "⎢                                                                             \n",
       "⎣                                                       I_z2⋅θ₂̈ + g⋅m₂⋅r₂⋅cos\n",
       "\n",
       "                                                  2                           \n",
       "θ₁̈ - 2⋅l₁⋅m₂⋅r₂⋅sin(θ₂)⋅θ₁̇⋅θ₂̇ - l₁⋅m₂⋅r₂⋅sin(θ₂)⋅θ₂̇  + 2⋅l₁⋅m₂⋅r₂⋅cos(θ₂)⋅\n",
       "                                                                              \n",
       "                              2                              2           2    \n",
       "(θ₁ + θ₂) + l₁⋅m₂⋅r₂⋅sin(θ₂)⋅θ₁̇  + l₁⋅m₂⋅r₂⋅cos(θ₂)⋅θ₁̈ + m₂⋅r₂ ⋅θ₁̈ + m₂⋅r₂ \n",
       "\n",
       "                           2           2           2   ⎤\n",
       "θ₁̈ + l₁⋅m₂⋅r₂⋅cos(θ₂)⋅θ₂̈ + m₁⋅r₁ ⋅θ₁̈ + m₂⋅r₂ ⋅θ₁̈ + m₂⋅r₂ ⋅θ₂̈⎥\n",
       "                                                       ⎥\n",
       "                                                       ⎥\n",
       "⋅θ₂̈                                                        ⎦"
      ]
     },
     "execution_count": 28,
     "metadata": {},
     "output_type": "execute_result"
    }
   ],
   "source": [
    "rt.lagrangian(L, [theta1, theta2])"
   ]
  },
  {
   "cell_type": "markdown",
   "metadata": {},
   "source": [
    "### Задача 4.13"
   ]
  },
  {
   "cell_type": "markdown",
   "metadata": {},
   "source": [
    "Се решава исто како и претходните задачи. Разликата во оваа задача е различно поставениот референтен координатен систем. Тоа се зема предвид при добивање на изразите за кинетичката и потенцијалната енергија."
   ]
  },
  {
   "cell_type": "code",
   "execution_count": 29,
   "metadata": {},
   "outputs": [],
   "source": [
    "m1, m2, g, l2 = sp.symbols('m1, m2, g, l2')\n",
    "d1, theta2 = mechanics.dynamicsymbols('d1, theta2')\n",
    "vd1, vtheta2 = d1.diff(t), theta2.diff(t)"
   ]
  },
  {
   "cell_type": "code",
   "execution_count": 30,
   "metadata": {},
   "outputs": [
    {
     "data": {
      "text/latex": [
       "$\\displaystyle \\frac{m_{1} \\dot{d}_{1}^{2}}{2}$"
      ],
      "text/plain": [
       "     2\n",
       "m₁⋅d₁̇ \n",
       "──────\n",
       "  2   "
      ]
     },
     "execution_count": 30,
     "metadata": {},
     "output_type": "execute_result"
    }
   ],
   "source": [
    "x1 = d1\n",
    "v1_squared = x1.diff(t)**2\n",
    "K1 = m1 * v1_squared / 2\n",
    "K1 = sp.simplify(K1)\n",
    "K1"
   ]
  },
  {
   "cell_type": "code",
   "execution_count": 31,
   "metadata": {},
   "outputs": [
    {
     "data": {
      "text/latex": [
       "$\\displaystyle \\frac{m_{2} \\left(l_{2}^{2} \\dot{\\theta}_{2}^{2} - 2 l_{2} \\sin{\\left(\\theta_{2} \\right)} \\dot{d}_{1} \\dot{\\theta}_{2} + \\dot{d}_{1}^{2}\\right)}{2}$"
      ],
      "text/plain": [
       "   ⎛  2   2                          2⎞\n",
       "m₂⋅⎝l₂ ⋅θ₂̇  - 2⋅l₂⋅sin(θ₂)⋅d₁̇⋅θ₂̇ + d₁̇ ⎠\n",
       "───────────────────────────────────────\n",
       "                   2                   "
      ]
     },
     "execution_count": 31,
     "metadata": {},
     "output_type": "execute_result"
    }
   ],
   "source": [
    "x2 = d1 + l2*sp.cos(theta2)\n",
    "y2 = -l2*sp.sin(theta2)\n",
    "v2_squared = x2.diff(t)**2 + y2.diff(t)**2\n",
    "K2 = m2 * v2_squared / 2\n",
    "K2 = sp.simplify(K2)\n",
    "K2"
   ]
  },
  {
   "cell_type": "code",
   "execution_count": 32,
   "metadata": {},
   "outputs": [
    {
     "data": {
      "text/latex": [
       "$\\displaystyle \\frac{m_{1} \\dot{d}_{1}^{2}}{2} + \\frac{m_{2} \\left(l_{2}^{2} \\dot{\\theta}_{2}^{2} - 2 l_{2} \\sin{\\left(\\theta_{2} \\right)} \\dot{d}_{1} \\dot{\\theta}_{2} + \\dot{d}_{1}^{2}\\right)}{2}$"
      ],
      "text/plain": [
       "     2      ⎛  2   2                          2⎞\n",
       "m₁⋅d₁̇    m₂⋅⎝l₂ ⋅θ₂̇  - 2⋅l₂⋅sin(θ₂)⋅d₁̇⋅θ₂̇ + d₁̇ ⎠\n",
       "────── + ───────────────────────────────────────\n",
       "  2                         2                   "
      ]
     },
     "execution_count": 32,
     "metadata": {},
     "output_type": "execute_result"
    }
   ],
   "source": [
    "K = K1 + K2\n",
    "K"
   ]
  },
  {
   "cell_type": "code",
   "execution_count": 33,
   "metadata": {},
   "outputs": [
    {
     "data": {
      "text/latex": [
       "$\\displaystyle - g l_{2} m_{2} \\sin{\\left(\\theta_{2} \\right)}$"
      ],
      "text/plain": [
       "-g⋅l₂⋅m₂⋅sin(θ₂)"
      ]
     },
     "execution_count": 33,
     "metadata": {},
     "output_type": "execute_result"
    }
   ],
   "source": [
    "P1 = 0\n",
    "P2 = -m2 * g * l2 * sp.sin(theta2)\n",
    "P = P1 + P2\n",
    "P"
   ]
  },
  {
   "cell_type": "code",
   "execution_count": 34,
   "metadata": {},
   "outputs": [
    {
     "data": {
      "text/latex": [
       "$\\displaystyle g l_{2} m_{2} \\sin{\\left(\\theta_{2} \\right)} + \\frac{m_{1} \\dot{d}_{1}^{2}}{2} + \\frac{m_{2} \\left(l_{2}^{2} \\dot{\\theta}_{2}^{2} - 2 l_{2} \\sin{\\left(\\theta_{2} \\right)} \\dot{d}_{1} \\dot{\\theta}_{2} + \\dot{d}_{1}^{2}\\right)}{2}$"
      ],
      "text/plain": [
       "                       2      ⎛  2   2                          2⎞\n",
       "                  m₁⋅d₁̇    m₂⋅⎝l₂ ⋅θ₂̇  - 2⋅l₂⋅sin(θ₂)⋅d₁̇⋅θ₂̇ + d₁̇ ⎠\n",
       "g⋅l₂⋅m₂⋅sin(θ₂) + ────── + ───────────────────────────────────────\n",
       "                    2                         2                   "
      ]
     },
     "execution_count": 34,
     "metadata": {},
     "output_type": "execute_result"
    }
   ],
   "source": [
    "L = K - P\n",
    "L"
   ]
  },
  {
   "cell_type": "code",
   "execution_count": 35,
   "metadata": {},
   "outputs": [
    {
     "data": {
      "text/latex": [
       "$\\displaystyle \\left[\\begin{matrix}m_{1} \\ddot{d}_{1} - m_{2} \\left(l_{2} \\sin{\\left(\\theta_{2} \\right)} \\ddot{\\theta}_{2} + l_{2} \\cos{\\left(\\theta_{2} \\right)} \\dot{\\theta}_{2}^{2} - \\ddot{d}_{1}\\right)\\\\l_{2} m_{2} \\left(- g \\cos{\\left(\\theta_{2} \\right)} + l_{2} \\ddot{\\theta}_{2} - \\sin{\\left(\\theta_{2} \\right)} \\ddot{d}_{1}\\right)\\end{matrix}\\right]$"
      ],
      "text/plain": [
       "⎡           ⎛                             2     ⎞⎤\n",
       "⎢m₁⋅d₁̈ - m₂⋅⎝l₂⋅sin(θ₂)⋅θ₂̈ + l₂⋅cos(θ₂)⋅θ₂̇  - d₁̈⎠⎥\n",
       "⎢                                                ⎥\n",
       "⎣    l₂⋅m₂⋅(-g⋅cos(θ₂) + l₂⋅θ₂̈ - sin(θ₂)⋅d₁̈)     ⎦"
      ]
     },
     "execution_count": 35,
     "metadata": {},
     "output_type": "execute_result"
    }
   ],
   "source": [
    "rt.lagrangian(L, [d1, theta2])"
   ]
  },
  {
   "cell_type": "code",
   "execution_count": 36,
   "metadata": {},
   "outputs": [
    {
     "data": {
      "text/latex": [
       "$\\displaystyle \\left( \\left[\\begin{matrix}\\left(m_{1} + m_{2}\\right) \\ddot{d}_{1} & - l_{2} m_{2} \\sin{\\left(\\theta_{2} \\right)} \\ddot{\\theta}_{2}\\\\- l_{2} m_{2} \\sin{\\left(\\theta_{2} \\right)} \\ddot{d}_{1} & l_{2}^{2} m_{2} \\ddot{\\theta}_{2}\\end{matrix}\\right], \\  \\left[\\begin{matrix}0 & 0 & - l_{2} m_{2} \\cos{\\left(\\theta_{2} \\right)} \\dot{\\theta}_{2}^{2}\\\\0 & 0 & 0\\end{matrix}\\right], \\  \\left[\\begin{matrix}0\\\\- g l_{2} m_{2} \\cos{\\left(\\theta_{2} \\right)}\\end{matrix}\\right]\\right)$"
      ],
      "text/plain": [
       "⎛⎡  (m₁ + m₂)⋅d₁̈     -l₂⋅m₂⋅sin(θ₂)⋅θ₂̈⎤  ⎡                       2⎤         \n",
       "⎜⎢                                    ⎥  ⎢0  0  -l₂⋅m₂⋅cos(θ₂)⋅θ₂̇ ⎥  ⎡       \n",
       "⎜⎢                         2          ⎥, ⎢                        ⎥, ⎢        \n",
       "⎝⎣-l₂⋅m₂⋅sin(θ₂)⋅d₁̈      l₂ ⋅m₂⋅θ₂̈    ⎦  ⎣0  0          0         ⎦  ⎣-g⋅l₂⋅\n",
       "\n",
       "           ⎞\n",
       "0        ⎤⎟\n",
       "        ⎥⎟\n",
       "m₂⋅cos(θ₂)⎦⎠"
      ]
     },
     "execution_count": 36,
     "metadata": {},
     "output_type": "execute_result"
    }
   ],
   "source": [
    "rt.dynamic_model_with_3_matrices(L, [d1, theta2])"
   ]
  },
  {
   "cell_type": "markdown",
   "metadata": {},
   "source": [
    "### Задача 4.14"
   ]
  },
  {
   "cell_type": "markdown",
   "metadata": {},
   "source": [
    "#### под в)\n",
    "\n",
    "Се решава исто како и претходната задача. Разликата во оваа задача е што има еден крак повеќе."
   ]
  },
  {
   "cell_type": "code",
   "execution_count": 37,
   "metadata": {},
   "outputs": [],
   "source": [
    "m1, m2, m3, g, l2, l3 = sp.symbols('m1, m2, m3, g, l2, l3')\n",
    "d1, theta2, theta3 = mechanics.dynamicsymbols('d1, theta2, theta3')\n",
    "vd1, vtheta2 = d1.diff(t), theta2.diff(t)"
   ]
  },
  {
   "cell_type": "code",
   "execution_count": 38,
   "metadata": {},
   "outputs": [
    {
     "data": {
      "text/latex": [
       "$\\displaystyle \\frac{l_{1}^{2} m_{1} \\dot{\\theta}_{1}^{2}}{2}$"
      ],
      "text/plain": [
       "  2      2\n",
       "l₁ ⋅m₁⋅θ₁̇ \n",
       "──────────\n",
       "    2     "
      ]
     },
     "execution_count": 38,
     "metadata": {},
     "output_type": "execute_result"
    }
   ],
   "source": [
    "K1 = m1 * l1**2 * vtheta1**2 / 2\n",
    "K1"
   ]
  },
  {
   "cell_type": "code",
   "execution_count": 39,
   "metadata": {},
   "outputs": [
    {
     "data": {
      "text/latex": [
       "$\\displaystyle \\frac{m_{1} \\dot{d}_{1}^{2}}{2}$"
      ],
      "text/plain": [
       "     2\n",
       "m₁⋅d₁̇ \n",
       "──────\n",
       "  2   "
      ]
     },
     "execution_count": 39,
     "metadata": {},
     "output_type": "execute_result"
    }
   ],
   "source": [
    "x1 = d1\n",
    "v1_squared = x1.diff(t)**2\n",
    "K1 = m1 * v1_squared / 2\n",
    "K1 = sp.simplify(K1)\n",
    "K1"
   ]
  },
  {
   "cell_type": "code",
   "execution_count": 40,
   "metadata": {},
   "outputs": [
    {
     "data": {
      "text/latex": [
       "$\\displaystyle \\frac{m_{2} \\left(l_{2}^{2} \\dot{\\theta}_{2}^{2} - 2 l_{2} \\sin{\\left(\\theta_{2} \\right)} \\dot{d}_{1} \\dot{\\theta}_{2} + \\dot{d}_{1}^{2}\\right)}{2}$"
      ],
      "text/plain": [
       "   ⎛  2   2                          2⎞\n",
       "m₂⋅⎝l₂ ⋅θ₂̇  - 2⋅l₂⋅sin(θ₂)⋅d₁̇⋅θ₂̇ + d₁̇ ⎠\n",
       "───────────────────────────────────────\n",
       "                   2                   "
      ]
     },
     "execution_count": 40,
     "metadata": {},
     "output_type": "execute_result"
    }
   ],
   "source": [
    "x2 = d1 + l2*sp.cos(theta2)\n",
    "y2 = -l2*sp.sin(theta2)\n",
    "v2_squared = x2.diff(t)**2 + y2.diff(t)**2\n",
    "K2 = m2 * v2_squared / 2\n",
    "K2 = sp.simplify(K2)\n",
    "K2"
   ]
  },
  {
   "cell_type": "code",
   "execution_count": 41,
   "metadata": {},
   "outputs": [
    {
     "data": {
      "text/latex": [
       "$\\displaystyle \\frac{m_{3} \\left(\\left(l_{2} \\cos{\\left(\\theta_{2} \\right)} \\dot{\\theta}_{2} + l_{3} \\left(\\dot{\\theta}_{2} + \\dot{\\theta}_{3}\\right) \\cos{\\left(\\theta_{2} + \\theta_{3} \\right)}\\right)^{2} + \\left(l_{2} \\sin{\\left(\\theta_{2} \\right)} \\dot{\\theta}_{2} + l_{3} \\left(\\dot{\\theta}_{2} + \\dot{\\theta}_{3}\\right) \\sin{\\left(\\theta_{2} + \\theta_{3} \\right)} - \\dot{d}_{1}\\right)^{2}\\right)}{2}$"
      ],
      "text/plain": [
       "   ⎛                                           2                              \n",
       "m₃⋅⎝(l₂⋅cos(θ₂)⋅θ₂̇ + l₃⋅(θ₂̇ + θ₃̇)⋅cos(θ₂ + θ₃))  + (l₂⋅sin(θ₂)⋅θ₂̇ + l₃⋅(θ₂\n",
       "──────────────────────────────────────────────────────────────────────────────\n",
       "                                                  2                           \n",
       "\n",
       "                     2⎞\n",
       "̇ + θ₃̇)⋅sin(θ₂ + θ₃) - d₁̇) ⎠\n",
       "───────────────────────\n",
       "                       "
      ]
     },
     "execution_count": 41,
     "metadata": {},
     "output_type": "execute_result"
    }
   ],
   "source": [
    "x3 = d1 + l2*sp.cos(theta2) + l3*sp.cos(theta2 + theta3)\n",
    "y3 = -l2*sp.sin(theta2) - l3*sp.sin(theta2 + theta3)\n",
    "v3_squared = x3.diff(t)**2 + y3.diff(t)**2\n",
    "K3 = m3 * v3_squared / 2\n",
    "K3 = sp.simplify(K3)\n",
    "K3"
   ]
  },
  {
   "cell_type": "code",
   "execution_count": 42,
   "metadata": {},
   "outputs": [
    {
     "data": {
      "text/latex": [
       "$\\displaystyle \\frac{m_{1} \\dot{d}_{1}^{2}}{2} + \\frac{m_{2} \\left(l_{2}^{2} \\dot{\\theta}_{2}^{2} - 2 l_{2} \\sin{\\left(\\theta_{2} \\right)} \\dot{d}_{1} \\dot{\\theta}_{2} + \\dot{d}_{1}^{2}\\right)}{2} + \\frac{m_{3} \\left(\\left(l_{2} \\cos{\\left(\\theta_{2} \\right)} \\dot{\\theta}_{2} + l_{3} \\left(\\dot{\\theta}_{2} + \\dot{\\theta}_{3}\\right) \\cos{\\left(\\theta_{2} + \\theta_{3} \\right)}\\right)^{2} + \\left(l_{2} \\sin{\\left(\\theta_{2} \\right)} \\dot{\\theta}_{2} + l_{3} \\left(\\dot{\\theta}_{2} + \\dot{\\theta}_{3}\\right) \\sin{\\left(\\theta_{2} + \\theta_{3} \\right)} - \\dot{d}_{1}\\right)^{2}\\right)}{2}$"
      ],
      "text/plain": [
       "     2      ⎛  2   2                          2⎞      ⎛                       \n",
       "m₁⋅d₁̇    m₂⋅⎝l₂ ⋅θ₂̇  - 2⋅l₂⋅sin(θ₂)⋅d₁̇⋅θ₂̇ + d₁̇ ⎠   m₃⋅⎝(l₂⋅cos(θ₂)⋅θ₂̇ + \n",
       "────── + ─────────────────────────────────────── + ───────────────────────────\n",
       "  2                         2                                                 \n",
       "\n",
       "                    2                                                   2⎞\n",
       "l₃⋅(θ₂̇ + θ₃̇)⋅cos(θ₂ + θ₃))  + (l₂⋅sin(θ₂)⋅θ₂̇ + l₃⋅(θ₂̇ + θ₃̇)⋅sin(θ₂ + θ₃) \n",
       "──────────────────────────────────────────────────────────────────────────\n",
       "                       2                                                  "
      ]
     },
     "execution_count": 42,
     "metadata": {},
     "output_type": "execute_result"
    }
   ],
   "source": [
    "K = K1 + K2 + K3\n",
    "K"
   ]
  },
  {
   "cell_type": "code",
   "execution_count": 43,
   "metadata": {},
   "outputs": [
    {
     "data": {
      "text/latex": [
       "$\\displaystyle - g l_{2} m_{2} \\sin{\\left(\\theta_{2} \\right)} - g m_{3} \\left(l_{2} \\sin{\\left(\\theta_{2} \\right)} + l_{3} \\sin{\\left(\\theta_{2} + \\theta_{3} \\right)}\\right)$"
      ],
      "text/plain": [
       "-g⋅l₂⋅m₂⋅sin(θ₂) - g⋅m₃⋅(l₂⋅sin(θ₂) + l₃⋅sin(θ₂ + θ₃))"
      ]
     },
     "execution_count": 43,
     "metadata": {},
     "output_type": "execute_result"
    }
   ],
   "source": [
    "P1 = 0\n",
    "P2 = -m2 * g * l2 * sp.sin(theta2)\n",
    "P3 = -m3 * g * (l2*sp.sin(theta2) + l3*sp.sin(theta2+theta3))\n",
    "P = P1 + P2 + P3\n",
    "P"
   ]
  },
  {
   "cell_type": "code",
   "execution_count": 44,
   "metadata": {},
   "outputs": [
    {
     "data": {
      "text/latex": [
       "$\\displaystyle g l_{2} m_{2} \\sin{\\left(\\theta_{2} \\right)} + g m_{3} \\left(l_{2} \\sin{\\left(\\theta_{2} \\right)} + l_{3} \\sin{\\left(\\theta_{2} + \\theta_{3} \\right)}\\right) + \\frac{m_{1} \\dot{d}_{1}^{2}}{2} + \\frac{m_{2} \\left(l_{2}^{2} \\dot{\\theta}_{2}^{2} - 2 l_{2} \\sin{\\left(\\theta_{2} \\right)} \\dot{d}_{1} \\dot{\\theta}_{2} + \\dot{d}_{1}^{2}\\right)}{2} + \\frac{m_{3} \\left(\\left(l_{2} \\cos{\\left(\\theta_{2} \\right)} \\dot{\\theta}_{2} + l_{3} \\left(\\dot{\\theta}_{2} + \\dot{\\theta}_{3}\\right) \\cos{\\left(\\theta_{2} + \\theta_{3} \\right)}\\right)^{2} + \\left(l_{2} \\sin{\\left(\\theta_{2} \\right)} \\dot{\\theta}_{2} + l_{3} \\left(\\dot{\\theta}_{2} + \\dot{\\theta}_{3}\\right) \\sin{\\left(\\theta_{2} + \\theta_{3} \\right)} - \\dot{d}_{1}\\right)^{2}\\right)}{2}$"
      ],
      "text/plain": [
       "                                                             2      ⎛  2   2  \n",
       "                                                        m₁⋅d₁̇    m₂⋅⎝l₂ ⋅θ₂̇ \n",
       "g⋅l₂⋅m₂⋅sin(θ₂) + g⋅m₃⋅(l₂⋅sin(θ₂) + l₃⋅sin(θ₂ + θ₃)) + ────── + ─────────────\n",
       "                                                          2                   \n",
       "\n",
       "                        2⎞      ⎛                                           2 \n",
       " - 2⋅l₂⋅sin(θ₂)⋅d₁̇⋅θ₂̇ + d₁̇ ⎠   m₃⋅⎝(l₂⋅cos(θ₂)⋅θ₂̇ + l₃⋅(θ₂̇ + θ₃̇)⋅cos(θ₂ \n",
       "────────────────────────── + ─────────────────────────────────────────────────\n",
       "      2                                                                       \n",
       "\n",
       "                                                  2⎞\n",
       "+ θ₃))  + (l₂⋅sin(θ₂)⋅θ₂̇ + l₃⋅(θ₂̇ + θ₃̇)⋅sin(θ₂ + θ₃) - d₁̇) ⎠\n",
       "────────────────────────────────────────────────────\n",
       " 2                                                  "
      ]
     },
     "execution_count": 44,
     "metadata": {},
     "output_type": "execute_result"
    }
   ],
   "source": [
    "L = K - P\n",
    "L"
   ]
  },
  {
   "cell_type": "code",
   "execution_count": 45,
   "metadata": {},
   "outputs": [
    {
     "data": {
      "text/latex": [
       "$\\displaystyle \\left[\\begin{matrix}m_{1} \\ddot{d}_{1} - m_{2} \\left(l_{2} \\sin{\\left(\\theta_{2} \\right)} \\ddot{\\theta}_{2} + l_{2} \\cos{\\left(\\theta_{2} \\right)} \\dot{\\theta}_{2}^{2} - \\ddot{d}_{1}\\right) - m_{3} \\left(l_{2} \\sin{\\left(\\theta_{2} \\right)} \\ddot{\\theta}_{2} + l_{2} \\cos{\\left(\\theta_{2} \\right)} \\dot{\\theta}_{2}^{2} + l_{3} \\left(\\dot{\\theta}_{2} + \\dot{\\theta}_{3}\\right)^{2} \\cos{\\left(\\theta_{2} + \\theta_{3} \\right)} + l_{3} \\left(\\ddot{\\theta}_{2} + \\ddot{\\theta}_{3}\\right) \\sin{\\left(\\theta_{2} + \\theta_{3} \\right)} - \\ddot{d}_{1}\\right)\\\\- g l_{2} m_{2} \\cos{\\left(\\theta_{2} \\right)} - g l_{2} m_{3} \\cos{\\left(\\theta_{2} \\right)} - g l_{3} m_{3} \\cos{\\left(\\theta_{2} + \\theta_{3} \\right)} + l_{2}^{2} m_{2} \\ddot{\\theta}_{2} + l_{2}^{2} m_{3} \\ddot{\\theta}_{2} - 2 l_{2} l_{3} m_{3} \\sin{\\left(\\theta_{3} \\right)} \\dot{\\theta}_{2} \\dot{\\theta}_{3} - l_{2} l_{3} m_{3} \\sin{\\left(\\theta_{3} \\right)} \\dot{\\theta}_{3}^{2} + 2 l_{2} l_{3} m_{3} \\cos{\\left(\\theta_{3} \\right)} \\ddot{\\theta}_{2} + l_{2} l_{3} m_{3} \\cos{\\left(\\theta_{3} \\right)} \\ddot{\\theta}_{3} - l_{2} m_{2} \\sin{\\left(\\theta_{2} \\right)} \\ddot{d}_{1} - l_{2} m_{3} \\sin{\\left(\\theta_{2} \\right)} \\ddot{d}_{1} + l_{3}^{2} m_{3} \\ddot{\\theta}_{2} + l_{3}^{2} m_{3} \\ddot{\\theta}_{3} - l_{3} m_{3} \\sin{\\left(\\theta_{2} + \\theta_{3} \\right)} \\ddot{d}_{1}\\\\l_{3} m_{3} \\left(- g \\cos{\\left(\\theta_{2} + \\theta_{3} \\right)} + l_{2} \\sin{\\left(\\theta_{3} \\right)} \\dot{\\theta}_{2}^{2} + l_{2} \\cos{\\left(\\theta_{3} \\right)} \\ddot{\\theta}_{2} + l_{3} \\ddot{\\theta}_{2} + l_{3} \\ddot{\\theta}_{3} - \\sin{\\left(\\theta_{2} + \\theta_{3} \\right)} \\ddot{d}_{1}\\right)\\end{matrix}\\right]$"
      ],
      "text/plain": [
       "⎡                                                                    ⎛        \n",
       "⎢                                                         m₁⋅d₁̈ - m₂⋅⎝l₂⋅sin(\n",
       "⎢                                                                             \n",
       "⎢                                                              2           2  \n",
       "⎢-g⋅l₂⋅m₂⋅cos(θ₂) - g⋅l₂⋅m₃⋅cos(θ₂) - g⋅l₃⋅m₃⋅cos(θ₂ + θ₃) + l₂ ⋅m₂⋅θ₂̈ + l₂ ⋅\n",
       "⎢                                                                             \n",
       "⎢                                                                             \n",
       "⎣                                                                             \n",
       "\n",
       "                     2     ⎞      ⎛                             2             \n",
       "θ₂)⋅θ₂̈ + l₂⋅cos(θ₂)⋅θ₂̇  - d₁̈⎠ - m₃⋅⎝l₂⋅sin(θ₂)⋅θ₂̈ + l₂⋅cos(θ₂)⋅θ₂̇  + l₃⋅(\n",
       "                                                                              \n",
       "                                                     2                        \n",
       "m₃⋅θ₂̈ - 2⋅l₂⋅l₃⋅m₃⋅sin(θ₃)⋅θ₂̇⋅θ₃̇ - l₂⋅l₃⋅m₃⋅sin(θ₃)⋅θ₃̇  + 2⋅l₂⋅l₃⋅m₃⋅cos(θ\n",
       "                                                                              \n",
       "               ⎛                               2                              \n",
       "         l₃⋅m₃⋅⎝-g⋅cos(θ₂ + θ₃) + l₂⋅sin(θ₃)⋅θ₂̇  + l₂⋅cos(θ₃)⋅θ₂̈ + l₃⋅θ₂̈ + \n",
       "\n",
       "  2                                              ⎞                            \n",
       "θ₂̇ + θ₃̇) ⋅cos(θ₂ + θ₃) + l₃⋅(θ₂̈ + θ₃̈)⋅sin(θ₂ + θ₃) - d₁̈⎠                 \n",
       "                                                                              \n",
       "                                                                 2           2\n",
       "₃)⋅θ₂̈ + l₂⋅l₃⋅m₃⋅cos(θ₃)⋅θ₃̈ - l₂⋅m₂⋅sin(θ₂)⋅d₁̈ - l₂⋅m₃⋅sin(θ₂)⋅d₁̈ + l₃ ⋅m₃\n",
       "                                                                              \n",
       "                    ⎞                                                         \n",
       "l₃⋅θ₃̈ - sin(θ₂ + θ₃)⋅d₁̈⎠                                                    \n",
       "\n",
       "                              ⎤\n",
       "                                         ⎥\n",
       "                              ⎥\n",
       "                              ⎥\n",
       "⋅θ₂̈ + l₃ ⋅m₃⋅θ₃̈ - l₃⋅m₃⋅sin(θ₂ + θ₃)⋅d₁̈⎥\n",
       "                              ⎥\n",
       "                              ⎥\n",
       "                                   ⎦"
      ]
     },
     "execution_count": 45,
     "metadata": {},
     "output_type": "execute_result"
    }
   ],
   "source": [
    "rt.lagrangian(L, [d1, theta2, theta3])"
   ]
  },
  {
   "cell_type": "code",
   "execution_count": 46,
   "metadata": {},
   "outputs": [
    {
     "data": {
      "text/latex": [
       "$\\displaystyle \\left( \\left[\\begin{matrix}\\left(m_{1} + m_{2} + m_{3}\\right) \\ddot{d}_{1} & - \\left(l_{2} m_{2} \\sin{\\left(\\theta_{2} \\right)} + l_{2} m_{3} \\sin{\\left(\\theta_{2} \\right)} + l_{3} m_{3} \\sin{\\left(\\theta_{2} + \\theta_{3} \\right)}\\right) \\ddot{\\theta}_{2} & - l_{3} m_{3} \\sin{\\left(\\theta_{2} + \\theta_{3} \\right)} \\ddot{\\theta}_{3}\\\\- \\left(l_{2} m_{2} \\sin{\\left(\\theta_{2} \\right)} + l_{2} m_{3} \\sin{\\left(\\theta_{2} \\right)} + l_{3} m_{3} \\sin{\\left(\\theta_{2} + \\theta_{3} \\right)}\\right) \\ddot{d}_{1} & \\left(l_{2}^{2} m_{2} + l_{2}^{2} m_{3} + 2 l_{2} l_{3} m_{3} \\cos{\\left(\\theta_{3} \\right)} + l_{3}^{2} m_{3}\\right) \\ddot{\\theta}_{2} & l_{3} m_{3} \\left(l_{2} \\cos{\\left(\\theta_{3} \\right)} + l_{3}\\right) \\ddot{\\theta}_{3}\\\\- l_{3} m_{3} \\sin{\\left(\\theta_{2} + \\theta_{3} \\right)} \\ddot{d}_{1} & l_{3} m_{3} \\left(l_{2} \\cos{\\left(\\theta_{3} \\right)} + l_{3}\\right) \\ddot{\\theta}_{2} & l_{3}^{2} m_{3} \\ddot{\\theta}_{3}\\end{matrix}\\right], \\  \\left[\\begin{matrix}0 & 0 & 0 & - \\left(l_{2} m_{2} \\cos{\\left(\\theta_{2} \\right)} + l_{2} m_{3} \\cos{\\left(\\theta_{2} \\right)} + l_{3} m_{3} \\cos{\\left(\\theta_{2} + \\theta_{3} \\right)}\\right) \\dot{\\theta}_{2}^{2} & - 2 l_{3} m_{3} \\cos{\\left(\\theta_{2} + \\theta_{3} \\right)} \\dot{\\theta}_{2} \\dot{\\theta}_{3} & - l_{3} m_{3} \\cos{\\left(\\theta_{2} + \\theta_{3} \\right)} \\dot{\\theta}_{3}^{2}\\\\0 & 0 & 0 & 0 & - 2 l_{2} l_{3} m_{3} \\sin{\\left(\\theta_{3} \\right)} \\dot{\\theta}_{2} \\dot{\\theta}_{3} & - l_{2} l_{3} m_{3} \\sin{\\left(\\theta_{3} \\right)} \\dot{\\theta}_{3}^{2}\\\\0 & 0 & 0 & l_{2} l_{3} m_{3} \\sin{\\left(\\theta_{3} \\right)} \\dot{\\theta}_{2}^{2} & 0 & 0\\end{matrix}\\right], \\  \\left[\\begin{matrix}0\\\\- g \\left(l_{2} m_{2} \\cos{\\left(\\theta_{2} \\right)} + l_{2} m_{3} \\cos{\\left(\\theta_{2} \\right)} + l_{3} m_{3} \\cos{\\left(\\theta_{2} + \\theta_{3} \\right)}\\right)\\\\- g l_{3} m_{3} \\cos{\\left(\\theta_{2} + \\theta_{3} \\right)}\\end{matrix}\\right]\\right)$"
      ],
      "text/plain": [
       "⎛                                                                             \n",
       "⎜⎡                   (m₁ + m₂ + m₃)⋅d₁̈                      -(l₂⋅m₂⋅sin(θ₂) +\n",
       "⎜⎢                                                                            \n",
       "⎜⎢                                                             ⎛  2        2  \n",
       "⎜⎢-(l₂⋅m₂⋅sin(θ₂) + l₂⋅m₃⋅sin(θ₂) + l₃⋅m₃⋅sin(θ₂ + θ₃))⋅d₁̈     ⎝l₂ ⋅m₂ + l₂ ⋅\n",
       "⎜⎢                                                                            \n",
       "⎜⎢                                                                            \n",
       "⎝⎣                 -l₃⋅m₃⋅sin(θ₂ + θ₃)⋅d₁̈                                  l₃\n",
       "\n",
       "                                                                     ⎡        \n",
       " l₂⋅m₃⋅sin(θ₂) + l₃⋅m₃⋅sin(θ₂ + θ₃))⋅θ₂̈    -l₃⋅m₃⋅sin(θ₂ + θ₃)⋅θ₃̈  ⎤  ⎢0  0 \n",
       "                                                                  ⎥  ⎢        \n",
       "                           2   ⎞                                  ⎥  ⎢        \n",
       "m₃ + 2⋅l₂⋅l₃⋅m₃⋅cos(θ₃) + l₃ ⋅m₃⎠⋅θ₂̈     l₃⋅m₃⋅(l₂⋅cos(θ₃) + l₃)⋅θ₃̈⎥, ⎢0  0 \n",
       "                                                                  ⎥  ⎢        \n",
       "                                                  2               ⎥  ⎢        \n",
       "⋅m₃⋅(l₂⋅cos(θ₃) + l₃)⋅θ₂̈                         l₃ ⋅m₃⋅θ₃̈         ⎦  ⎣0  0 \n",
       "\n",
       "                                                         2                    \n",
       " 0  -(l₂⋅m₂⋅cos(θ₂) + l₂⋅m₃⋅cos(θ₂) + l₃⋅m₃⋅cos(θ₂ + θ₃))⋅θ₂̇   -2⋅l₃⋅m₃⋅cos(θ\n",
       "                                                                              \n",
       "                                                                              \n",
       " 0                              0                               -2⋅l₂⋅l₃⋅m₃⋅si\n",
       "                                                                              \n",
       "                                      2                                       \n",
       " 0                    l₂⋅l₃⋅m₃⋅sin(θ₃)⋅θ₂̇                                   0\n",
       "\n",
       "                                 2⎤                                           \n",
       "₂ + θ₃)⋅θ₂̇⋅θ₃̇  -l₃⋅m₃⋅cos(θ₂ + θ₃)⋅θ₃̇ ⎥                                    \n",
       "                                  ⎥  ⎡                           0            \n",
       "                                2 ⎥  ⎢                                        \n",
       "n(θ₃)⋅θ₂̇⋅θ₃̇    -l₂⋅l₃⋅m₃⋅sin(θ₃)⋅θ₃̇  ⎥, ⎢-g⋅(l₂⋅m₂⋅cos(θ₂) + l₂⋅m₃⋅cos(θ₂) \n",
       "                                  ⎥  ⎢                                        \n",
       "                                  ⎥  ⎣                 -g⋅l₃⋅m₃⋅cos(θ₂ + θ₃)  \n",
       "                          0           ⎦                                       \n",
       "\n",
       "                ⎞\n",
       "                       ⎟\n",
       "               ⎤⎟\n",
       "               ⎥⎟\n",
       "+ l₃⋅m₃⋅cos(θ₂ + θ₃))⎥⎟\n",
       "               ⎥⎟\n",
       "               ⎦⎟\n",
       "                    ⎠"
      ]
     },
     "execution_count": 46,
     "metadata": {},
     "output_type": "execute_result"
    }
   ],
   "source": [
    "rt.dynamic_model_with_3_matrices(L, [d1, theta2, theta3])"
   ]
  },
  {
   "cell_type": "markdown",
   "metadata": {},
   "source": [
    "#### под а)\n",
    "Изразите за $x$ и $y$ веќе ги пресметавме рачно, па ќе ги искористиме.  "
   ]
  },
  {
   "cell_type": "code",
   "execution_count": 47,
   "metadata": {},
   "outputs": [
    {
     "data": {
      "text/latex": [
       "$\\displaystyle l_{2} \\cos{\\left(\\theta_{2} \\right)} + l_{3} \\cos{\\left(\\theta_{2} + \\theta_{3} \\right)} + d_{1}$"
      ],
      "text/plain": [
       "l₂⋅cos(θ₂) + l₃⋅cos(θ₂ + θ₃) + d₁"
      ]
     },
     "execution_count": 47,
     "metadata": {},
     "output_type": "execute_result"
    }
   ],
   "source": [
    "x = x3\n",
    "x"
   ]
  },
  {
   "cell_type": "code",
   "execution_count": 48,
   "metadata": {},
   "outputs": [
    {
     "data": {
      "text/latex": [
       "$\\displaystyle - l_{2} \\sin{\\left(\\theta_{2} \\right)} - l_{3} \\sin{\\left(\\theta_{2} + \\theta_{3} \\right)}$"
      ],
      "text/plain": [
       "-l₂⋅sin(θ₂) - l₃⋅sin(θ₂ + θ₃)"
      ]
     },
     "execution_count": 48,
     "metadata": {},
     "output_type": "execute_result"
    }
   ],
   "source": [
    "y = y3\n",
    "y"
   ]
  },
  {
   "cell_type": "code",
   "execution_count": 49,
   "metadata": {},
   "outputs": [
    {
     "data": {
      "text/latex": [
       "$\\displaystyle \\theta_{2} + \\theta_{3}$"
      ],
      "text/plain": [
       "θ₂ + θ₃"
      ]
     },
     "execution_count": 49,
     "metadata": {},
     "output_type": "execute_result"
    }
   ],
   "source": [
    "alpha = theta2 + theta3\n",
    "alpha"
   ]
  },
  {
   "cell_type": "code",
   "execution_count": 50,
   "metadata": {},
   "outputs": [
    {
     "data": {
      "text/latex": [
       "$\\displaystyle \\left[\\begin{matrix}1 & - l_{2} \\sin{\\left(\\theta_{2} \\right)} - l_{3} \\sin{\\left(\\theta_{2} + \\theta_{3} \\right)} & - l_{3} \\sin{\\left(\\theta_{2} + \\theta_{3} \\right)}\\\\0 & - l_{2} \\cos{\\left(\\theta_{2} \\right)} - l_{3} \\cos{\\left(\\theta_{2} + \\theta_{3} \\right)} & - l_{3} \\cos{\\left(\\theta_{2} + \\theta_{3} \\right)}\\\\0 & 1 & 1\\end{matrix}\\right]$"
      ],
      "text/plain": [
       "⎡1  -l₂⋅sin(θ₂) - l₃⋅sin(θ₂ + θ₃)  -l₃⋅sin(θ₂ + θ₃)⎤\n",
       "⎢                                                  ⎥\n",
       "⎢0  -l₂⋅cos(θ₂) - l₃⋅cos(θ₂ + θ₃)  -l₃⋅cos(θ₂ + θ₃)⎥\n",
       "⎢                                                  ⎥\n",
       "⎣0                1                       1        ⎦"
      ]
     },
     "execution_count": 50,
     "metadata": {},
     "output_type": "execute_result"
    }
   ],
   "source": [
    "Jv = sp.Matrix([x, y, alpha]).jacobian([d1, theta2, theta3])\n",
    "Jv"
   ]
  },
  {
   "cell_type": "markdown",
   "metadata": {},
   "source": [
    "#### под б)\n",
    "\n",
    "Откако го пресметавме јакобијанот, лесно ќе ги најдеме сингуларитетите."
   ]
  },
  {
   "cell_type": "code",
   "execution_count": 51,
   "metadata": {},
   "outputs": [
    {
     "data": {
      "text/latex": [
       "$\\displaystyle - l_{2} \\cos{\\left(\\theta_{2} \\right)}$"
      ],
      "text/plain": [
       "-l₂⋅cos(θ₂)"
      ]
     },
     "execution_count": 51,
     "metadata": {},
     "output_type": "execute_result"
    }
   ],
   "source": [
    "det_Jv = sp.det(Jv)\n",
    "det_Jv.simplify()\n",
    "det_Jv"
   ]
  },
  {
   "cell_type": "code",
   "execution_count": 52,
   "metadata": {},
   "outputs": [
    {
     "data": {
      "text/latex": [
       "$\\displaystyle \\left\\{- \\frac{\\pi}{2}, \\frac{\\pi}{2}\\right\\}$"
      ],
      "text/plain": [
       "⎧-π   π⎫\n",
       "⎨───, ─⎬\n",
       "⎩ 2   2⎭"
      ]
     },
     "execution_count": 52,
     "metadata": {},
     "output_type": "execute_result"
    }
   ],
   "source": [
    "interval = sp.Interval(-sp.pi, sp.pi, left_open=True)\n",
    "solution = sp.solveset(det_Jv, theta2, interval)\n",
    "solution"
   ]
  },
  {
   "cell_type": "markdown",
   "metadata": {},
   "source": [
    "### Задача 4.15"
   ]
  },
  {
   "cell_type": "markdown",
   "metadata": {},
   "source": [
    "Се решава исто како и претходните задачи. Разликата во оваа задача е тоа што еден зглоб е закочен и не се движи, но тоа не смее да ве збуни."
   ]
  },
  {
   "cell_type": "code",
   "execution_count": 53,
   "metadata": {},
   "outputs": [],
   "source": [
    "m1, m2, g, alpha, l1, l2 = sp.symbols('m1, m2, g, alpha, l1, l2')\n",
    "theta = mechanics.dynamicsymbols('theta')\n",
    "vtheta = theta.diff(t)"
   ]
  },
  {
   "cell_type": "code",
   "execution_count": 54,
   "metadata": {},
   "outputs": [
    {
     "data": {
      "text/latex": [
       "$\\displaystyle \\frac{l_{2}^{2} m_{2} \\cos^{2}{\\left(\\alpha \\right)} \\dot{\\theta}^{2}}{2}$"
      ],
      "text/plain": [
       "  2       2     2\n",
       "l₂ ⋅m₂⋅cos (α)⋅θ̇ \n",
       "─────────────────\n",
       "        2        "
      ]
     },
     "execution_count": 54,
     "metadata": {},
     "output_type": "execute_result"
    }
   ],
   "source": [
    "r = l2 * sp.cos(alpha)\n",
    "K = m2 * r**2 * vtheta**2 / 2\n",
    "K"
   ]
  },
  {
   "cell_type": "code",
   "execution_count": 55,
   "metadata": {},
   "outputs": [
    {
     "data": {
      "text/latex": [
       "$\\displaystyle g l_{1} m_{1} + g m_{2} \\left(l_{1} + l_{2} \\sin{\\left(\\alpha \\right)}\\right)$"
      ],
      "text/plain": [
       "g⋅l₁⋅m₁ + g⋅m₂⋅(l₁ + l₂⋅sin(α))"
      ]
     },
     "execution_count": 55,
     "metadata": {},
     "output_type": "execute_result"
    }
   ],
   "source": [
    "P = m1*g*l1 + m2*g*(l1+l2*sp.sin(alpha)) \n",
    "P"
   ]
  },
  {
   "cell_type": "code",
   "execution_count": 56,
   "metadata": {},
   "outputs": [
    {
     "data": {
      "text/latex": [
       "$\\displaystyle - g l_{1} m_{1} - g m_{2} \\left(l_{1} + l_{2} \\sin{\\left(\\alpha \\right)}\\right) + \\frac{l_{2}^{2} m_{2} \\cos^{2}{\\left(\\alpha \\right)} \\dot{\\theta}^{2}}{2}$"
      ],
      "text/plain": [
       "                                     2       2     2\n",
       "                                   l₂ ⋅m₂⋅cos (α)⋅θ̇ \n",
       "-g⋅l₁⋅m₁ - g⋅m₂⋅(l₁ + l₂⋅sin(α)) + ─────────────────\n",
       "                                           2        "
      ]
     },
     "execution_count": 56,
     "metadata": {},
     "output_type": "execute_result"
    }
   ],
   "source": [
    "L = K - P\n",
    "L"
   ]
  },
  {
   "cell_type": "code",
   "execution_count": 57,
   "metadata": {},
   "outputs": [
    {
     "data": {
      "text/latex": [
       "$\\displaystyle \\left[\\begin{matrix}l_{2}^{2} m_{2} \\cos^{2}{\\left(\\alpha \\right)} \\ddot{\\theta}\\end{matrix}\\right]$"
      ],
      "text/plain": [
       "⎡  2       2     ⎤\n",
       "⎣l₂ ⋅m₂⋅cos (α)⋅θ̈⎦"
      ]
     },
     "execution_count": 57,
     "metadata": {},
     "output_type": "execute_result"
    }
   ],
   "source": [
    "rt.lagrangian(L, [theta])"
   ]
  },
  {
   "cell_type": "markdown",
   "metadata": {},
   "source": [
    "### Задача 4.16"
   ]
  },
  {
   "cell_type": "code",
   "execution_count": 58,
   "metadata": {},
   "outputs": [
    {
     "data": {
      "text/html": [
       "\n",
       "        <iframe\n",
       "            width=\"400\"\n",
       "            height=\"300\"\n",
       "            src=\"https://drive.google.com/file/d/1jFrJQKlVIv8pjdnFqqsE3bOI8SNz0KV0/preview\"\n",
       "            frameborder=\"0\"\n",
       "            allowfullscreen\n",
       "        ></iframe>\n",
       "        "
      ],
      "text/plain": [
       "<IPython.lib.display.IFrame at 0x7fea3e1762e0>"
      ]
     },
     "execution_count": 58,
     "metadata": {},
     "output_type": "execute_result"
    }
   ],
   "source": [
    "IFrame(src='https://drive.google.com/file/d/1jFrJQKlVIv8pjdnFqqsE3bOI8SNz0KV0/preview', width='400', height='300')"
   ]
  },
  {
   "cell_type": "markdown",
   "metadata": {},
   "source": [
    "Се решава исто како и претходните задачи. Разликата во оваа задача е тоа што има две маси, а три зглобови. Првите два зглобови можат да се сметаат како еден зглоб кој може и да ротира и да се издолжува. Како и да е, кога моделираме кинетичка и потенцијална енергија, работиме според положбата и распределбата на масите. Во овој случата на масата $m_1$ влијаат $\\theta$ и $l$, а на масата $m_2$ влијаат сите зглобови. Ако $m_1$ е сконцентрирана во една точка, како што е во оваа задача, ќе нема потреба да моделираме момент на инерција $J$ за првиот крак."
   ]
  },
  {
   "cell_type": "code",
   "execution_count": 59,
   "metadata": {},
   "outputs": [],
   "source": [
    "m1, m2, g = sp.symbols('m1, m2, g')\n",
    "l, r, theta = mechanics.dynamicsymbols('l, r, theta')\n",
    "vl, vr, vtheta = l.diff(t), r.diff(t), theta.diff(t)"
   ]
  },
  {
   "cell_type": "code",
   "execution_count": 60,
   "metadata": {},
   "outputs": [
    {
     "data": {
      "text/latex": [
       "$\\displaystyle \\frac{m_{1} \\dot{l}^{2}}{2}$"
      ],
      "text/plain": [
       "    2\n",
       "m₁⋅l̇ \n",
       "─────\n",
       "  2  "
      ]
     },
     "execution_count": 60,
     "metadata": {},
     "output_type": "execute_result"
    }
   ],
   "source": [
    "K1 = m1 * vl**2 / 2\n",
    "K1"
   ]
  },
  {
   "cell_type": "code",
   "execution_count": 61,
   "metadata": {},
   "outputs": [
    {
     "data": {
      "text/latex": [
       "$\\displaystyle \\frac{m_{2} \\left(\\dot{l}^{2} + \\dot{r}^{2}\\right)}{2} + \\frac{m_{2} r^{2} \\dot{\\theta}^{2}}{2}$"
      ],
      "text/plain": [
       "   ⎛ 2    2⎞       2  2\n",
       "m₂⋅⎝l̇  + ṙ ⎠   m₂⋅r ⋅θ̇ \n",
       "──────────── + ────────\n",
       "     2            2    "
      ]
     },
     "execution_count": 61,
     "metadata": {},
     "output_type": "execute_result"
    }
   ],
   "source": [
    "K2 = m2 * (vl**2 + vr**2) / 2  +  m2 * r**2 * vtheta**2 / 2\n",
    "K2"
   ]
  },
  {
   "cell_type": "code",
   "execution_count": 62,
   "metadata": {},
   "outputs": [
    {
     "data": {
      "text/latex": [
       "$\\displaystyle \\frac{m_{1} \\dot{l}^{2}}{2} + \\frac{m_{2} \\left(\\dot{l}^{2} + \\dot{r}^{2}\\right)}{2} + \\frac{m_{2} r^{2} \\dot{\\theta}^{2}}{2}$"
      ],
      "text/plain": [
       "    2      ⎛ 2    2⎞       2  2\n",
       "m₁⋅l̇    m₂⋅⎝l̇  + ṙ ⎠   m₂⋅r ⋅θ̇ \n",
       "───── + ──────────── + ────────\n",
       "  2          2            2    "
      ]
     },
     "execution_count": 62,
     "metadata": {},
     "output_type": "execute_result"
    }
   ],
   "source": [
    "K = K1 + K2\n",
    "K"
   ]
  },
  {
   "cell_type": "code",
   "execution_count": 63,
   "metadata": {},
   "outputs": [
    {
     "data": {
      "text/latex": [
       "$\\displaystyle g \\left(m_{1} + m_{2}\\right) l$"
      ],
      "text/plain": [
       "g⋅(m₁ + m₂)⋅l"
      ]
     },
     "execution_count": 63,
     "metadata": {},
     "output_type": "execute_result"
    }
   ],
   "source": [
    "P = (m1 + m2) * g * l\n",
    "P"
   ]
  },
  {
   "cell_type": "code",
   "execution_count": 64,
   "metadata": {},
   "outputs": [
    {
     "data": {
      "text/latex": [
       "$\\displaystyle - g \\left(m_{1} + m_{2}\\right) l + \\frac{m_{1} \\dot{l}^{2}}{2} + \\frac{m_{2} \\left(\\dot{l}^{2} + \\dot{r}^{2}\\right)}{2} + \\frac{m_{2} r^{2} \\dot{\\theta}^{2}}{2}$"
      ],
      "text/plain": [
       "                     2      ⎛ 2    2⎞       2  2\n",
       "                 m₁⋅l̇    m₂⋅⎝l̇  + ṙ ⎠   m₂⋅r ⋅θ̇ \n",
       "-g⋅(m₁ + m₂)⋅l + ───── + ──────────── + ────────\n",
       "                   2          2            2    "
      ]
     },
     "execution_count": 64,
     "metadata": {},
     "output_type": "execute_result"
    }
   ],
   "source": [
    "L = K - P\n",
    "L"
   ]
  },
  {
   "cell_type": "code",
   "execution_count": 65,
   "metadata": {},
   "outputs": [
    {
     "data": {
      "text/latex": [
       "$\\displaystyle \\left[\\begin{matrix}m_{2} \\left(r \\ddot{\\theta} + 2 \\dot{r} \\dot{\\theta}\\right) r\\\\g \\left(m_{1} + m_{2}\\right) + m_{1} \\ddot{l} + m_{2} \\ddot{l}\\\\m_{2} \\left(- r \\dot{\\theta}^{2} + \\ddot{r}\\right)\\end{matrix}\\right]$"
      ],
      "text/plain": [
       "⎡   m₂⋅(r⋅θ̈ + 2⋅ṙ⋅θ̇)⋅r    ⎤\n",
       "⎢                         ⎥\n",
       "⎢g⋅(m₁ + m₂) + m₁⋅l̈ + m₂⋅l̈⎥\n",
       "⎢                         ⎥\n",
       "⎢        ⎛     2    ⎞     ⎥\n",
       "⎣     m₂⋅⎝- r⋅θ̇  + r̈⎠     ⎦"
      ]
     },
     "execution_count": 65,
     "metadata": {},
     "output_type": "execute_result"
    }
   ],
   "source": [
    "rt.lagrangian(L, [theta, l, r])"
   ]
  },
  {
   "cell_type": "markdown",
   "metadata": {},
   "source": [
    "### Задача 4.17"
   ]
  },
  {
   "cell_type": "markdown",
   "metadata": {},
   "source": [
    "Се решава исто како и сите претходни задачи. Разликата во оваа задача е тоа што во збирката е решена на еден начин, а тука ќе ја решиме на друг начин, како што решававме до сега. Следејќи ги исцртаните линии заклучуваме дека $m_2$ и $m_3$ имаат исто тежиште, па можеме да ги сметаме како една маса. Втората масата е $m_4$. Поради ова ќе имаме по два изрази за кинетичката и потенцијалната енергија."
   ]
  },
  {
   "cell_type": "code",
   "execution_count": 66,
   "metadata": {},
   "outputs": [
    {
     "data": {
      "application/vnd.jupyter.widget-view+json": {
       "model_id": "735c7ee9530b443bb722b974b3bdf92f",
       "version_major": 2,
       "version_minor": 0
      },
      "text/plain": [
       "VBox(children=(HBox(children=(ToggleButton(value=True, description='Исклучи цртање'), Button(description='Пром…"
      ]
     },
     "metadata": {},
     "output_type": "display_data"
    }
   ],
   "source": [
    "d1, theta2, theta3 = mechanics.dynamicsymbols('d1, theta2, theta3')\n",
    "l3 = sp.symbols('l3')\n",
    "robot = rt.SerialLinkRobot()\n",
    "robot.add_prismatic_joint(0, d1, 0, 0)\n",
    "robot.add_revolute_joint(theta2, 0, 0, sp.pi/2)\n",
    "robot.add_revolute_joint(theta3, 0, l3, 0)\n",
    "robot.add_subs([(l3, 1)])\n",
    "robot.interact()"
   ]
  },
  {
   "cell_type": "code",
   "execution_count": 67,
   "metadata": {},
   "outputs": [],
   "source": [
    "m2, m3, m4, g, l3 = sp.symbols('m2, m3, m4, g, l3')\n",
    "vd1, vtheta2, vtheta3 = d1.diff(t), theta2.diff(t), theta3.diff(t)"
   ]
  },
  {
   "cell_type": "code",
   "execution_count": 68,
   "metadata": {},
   "outputs": [
    {
     "data": {
      "text/latex": [
       "$\\displaystyle \\frac{\\left(m_{2} + m_{3}\\right) \\dot{d}_{1}^{2}}{2}$"
      ],
      "text/plain": [
       "            2\n",
       "(m₂ + m₃)⋅d₁̇ \n",
       "─────────────\n",
       "      2      "
      ]
     },
     "execution_count": 68,
     "metadata": {},
     "output_type": "execute_result"
    }
   ],
   "source": [
    "K1 = (m2 + m3) * vd1**2 / 2\n",
    "K1"
   ]
  },
  {
   "cell_type": "code",
   "execution_count": 69,
   "metadata": {},
   "outputs": [
    {
     "data": {
      "text/latex": [
       "$\\displaystyle \\left[\\begin{matrix}\\cos{\\left(\\theta_{2} \\right)} \\cos{\\left(\\theta_{3} \\right)} & - \\sin{\\left(\\theta_{3} \\right)} \\cos{\\left(\\theta_{2} \\right)} & \\sin{\\left(\\theta_{2} \\right)} & l_{3} \\cos{\\left(\\theta_{2} \\right)} \\cos{\\left(\\theta_{3} \\right)}\\\\\\sin{\\left(\\theta_{2} \\right)} \\cos{\\left(\\theta_{3} \\right)} & - \\sin{\\left(\\theta_{2} \\right)} \\sin{\\left(\\theta_{3} \\right)} & - \\cos{\\left(\\theta_{2} \\right)} & l_{3} \\sin{\\left(\\theta_{2} \\right)} \\cos{\\left(\\theta_{3} \\right)}\\\\\\sin{\\left(\\theta_{3} \\right)} & \\cos{\\left(\\theta_{3} \\right)} & 0 & l_{3} \\sin{\\left(\\theta_{3} \\right)} + d_{1}\\\\0 & 0 & 0 & 1\\end{matrix}\\right]$"
      ],
      "text/plain": [
       "⎡cos(θ₂)⋅cos(θ₃)  -sin(θ₃)⋅cos(θ₂)  sin(θ₂)   l₃⋅cos(θ₂)⋅cos(θ₃)⎤\n",
       "⎢                                                               ⎥\n",
       "⎢sin(θ₂)⋅cos(θ₃)  -sin(θ₂)⋅sin(θ₃)  -cos(θ₂)  l₃⋅sin(θ₂)⋅cos(θ₃)⎥\n",
       "⎢                                                               ⎥\n",
       "⎢    sin(θ₃)          cos(θ₃)          0       l₃⋅sin(θ₃) + d₁  ⎥\n",
       "⎢                                                               ⎥\n",
       "⎣       0                0             0              1         ⎦"
      ]
     },
     "execution_count": 69,
     "metadata": {},
     "output_type": "execute_result"
    }
   ],
   "source": [
    "T3 = robot.get_dh_joint_to_joint(0, 3)\n",
    "T3"
   ]
  },
  {
   "cell_type": "code",
   "execution_count": 70,
   "metadata": {},
   "outputs": [
    {
     "data": {
      "text/latex": [
       "$\\displaystyle \\frac{m_{4} \\left(l_{3}^{2} \\cos^{2}{\\left(\\theta_{3} \\right)} \\dot{\\theta}_{2}^{2} + l_{3}^{2} \\dot{\\theta}_{3}^{2} + 2 l_{3} \\cos{\\left(\\theta_{3} \\right)} \\dot{d}_{1} \\dot{\\theta}_{3} + \\dot{d}_{1}^{2}\\right)}{2}$"
      ],
      "text/plain": [
       "   ⎛  2    2       2     2   2                          2⎞\n",
       "m₄⋅⎝l₃ ⋅cos (θ₃)⋅θ₂̇  + l₃ ⋅θ₃̇  + 2⋅l₃⋅cos(θ₃)⋅d₁̇⋅θ₃̇ + d₁̇ ⎠\n",
       "──────────────────────────────────────────────────────────\n",
       "                            2                             "
      ]
     },
     "execution_count": 70,
     "metadata": {},
     "output_type": "execute_result"
    }
   ],
   "source": [
    "x2, y2, z2 = T3[:3, 3]\n",
    "v2_squared = x2.diff(t)**2 + y2.diff(t)**2 + z2.diff(t)**2\n",
    "K2 = m4 * v2_squared / 2\n",
    "K2 = sp.simplify(K2)\n",
    "K2"
   ]
  },
  {
   "cell_type": "code",
   "execution_count": 71,
   "metadata": {},
   "outputs": [
    {
     "data": {
      "text/latex": [
       "$\\displaystyle \\frac{m_{4} \\left(l_{3}^{2} \\cos^{2}{\\left(\\theta_{3} \\right)} \\dot{\\theta}_{2}^{2} + l_{3}^{2} \\dot{\\theta}_{3}^{2} + 2 l_{3} \\cos{\\left(\\theta_{3} \\right)} \\dot{d}_{1} \\dot{\\theta}_{3} + \\dot{d}_{1}^{2}\\right)}{2} + \\frac{\\left(m_{2} + m_{3}\\right) \\dot{d}_{1}^{2}}{2}$"
      ],
      "text/plain": [
       "   ⎛  2    2       2     2   2                          2⎞               2\n",
       "m₄⋅⎝l₃ ⋅cos (θ₃)⋅θ₂̇  + l₃ ⋅θ₃̇  + 2⋅l₃⋅cos(θ₃)⋅d₁̇⋅θ₃̇ + d₁̇ ⎠   (m₂ + m₃)⋅d₁̇ \n",
       "────────────────────────────────────────────────────────── + ─────────────\n",
       "                            2                                      2      "
      ]
     },
     "execution_count": 71,
     "metadata": {},
     "output_type": "execute_result"
    }
   ],
   "source": [
    "K = K1 + K2\n",
    "K"
   ]
  },
  {
   "cell_type": "code",
   "execution_count": 72,
   "metadata": {},
   "outputs": [
    {
     "data": {
      "text/latex": [
       "$\\displaystyle g \\left(m_{2} + m_{3}\\right) d_{1}$"
      ],
      "text/plain": [
       "g⋅(m₂ + m₃)⋅d₁"
      ]
     },
     "execution_count": 72,
     "metadata": {},
     "output_type": "execute_result"
    }
   ],
   "source": [
    "P1 = (m2 + m3) * g * d1\n",
    "P1"
   ]
  },
  {
   "cell_type": "code",
   "execution_count": 73,
   "metadata": {},
   "outputs": [
    {
     "data": {
      "text/latex": [
       "$\\displaystyle g m_{4} \\left(l_{3} \\sin{\\left(\\theta_{3} \\right)} + d_{1}\\right)$"
      ],
      "text/plain": [
       "g⋅m₄⋅(l₃⋅sin(θ₃) + d₁)"
      ]
     },
     "execution_count": 73,
     "metadata": {},
     "output_type": "execute_result"
    }
   ],
   "source": [
    "P2 = m4 * g * (d1 + l3 * sp.sin(theta3))\n",
    "P2"
   ]
  },
  {
   "cell_type": "code",
   "execution_count": 74,
   "metadata": {},
   "outputs": [
    {
     "data": {
      "text/latex": [
       "$\\displaystyle g m_{4} \\left(l_{3} \\sin{\\left(\\theta_{3} \\right)} + d_{1}\\right) + g \\left(m_{2} + m_{3}\\right) d_{1}$"
      ],
      "text/plain": [
       "g⋅m₄⋅(l₃⋅sin(θ₃) + d₁) + g⋅(m₂ + m₃)⋅d₁"
      ]
     },
     "execution_count": 74,
     "metadata": {},
     "output_type": "execute_result"
    }
   ],
   "source": [
    "P = P1 + P2\n",
    "P"
   ]
  },
  {
   "cell_type": "code",
   "execution_count": 75,
   "metadata": {},
   "outputs": [
    {
     "data": {
      "text/latex": [
       "$\\displaystyle \\left[\\begin{matrix}g m_{4} + g \\left(m_{2} + m_{3}\\right) + m_{4} \\left(- l_{3} \\sin{\\left(\\theta_{3} \\right)} \\dot{\\theta}_{3}^{2} + l_{3} \\cos{\\left(\\theta_{3} \\right)} \\ddot{\\theta}_{3} + \\ddot{d}_{1}\\right) + \\left(m_{2} + m_{3}\\right) \\ddot{d}_{1}\\\\l_{3}^{2} m_{4} \\left(- \\sin{\\left(2 \\theta_{3} \\right)} \\dot{\\theta}_{2} \\dot{\\theta}_{3} + \\frac{\\cos{\\left(2 \\theta_{3} \\right)} \\ddot{\\theta}_{2}}{2} + \\frac{\\ddot{\\theta}_{2}}{2}\\right)\\\\l_{3} m_{4} \\left(g \\cos{\\left(\\theta_{3} \\right)} + \\frac{l_{3} \\sin{\\left(2 \\theta_{3} \\right)} \\dot{\\theta}_{2}^{2}}{2} + l_{3} \\ddot{\\theta}_{3} + \\cos{\\left(\\theta_{3} \\right)} \\ddot{d}_{1}\\right)\\end{matrix}\\right]$"
      ],
      "text/plain": [
       "⎡                        ⎛               2                     ⎞              \n",
       "⎢g⋅m₄ + g⋅(m₂ + m₃) + m₄⋅⎝- l₃⋅sin(θ₃)⋅θ₃̇  + l₃⋅cos(θ₃)⋅θ₃̈ + d₁̈⎠ + (m₂ + m₃\n",
       "⎢                                                                             \n",
       "⎢                  2    ⎛                   cos(2⋅θ₃)⋅θ₂̈   θ₂̈⎞              \n",
       "⎢                l₃ ⋅m₄⋅⎜-sin(2⋅θ₃)⋅θ₂̇⋅θ₃̇ + ──────────── + ──⎟              \n",
       "⎢                       ⎝                        2         2 ⎠                \n",
       "⎢                                                                             \n",
       "⎢                ⎛                           2                     ⎞          \n",
       "⎢                ⎜            l₃⋅sin(2⋅θ₃)⋅θ₂̇                      ⎟         \n",
       "⎢          l₃⋅m₄⋅⎜g⋅cos(θ₃) + ──────────────── + l₃⋅θ₃̈ + cos(θ₃)⋅d₁̈⎟        \n",
       "⎣                ⎝                   2                             ⎠          \n",
       "\n",
       " ⎤\n",
       ")⋅d₁̈⎥\n",
       " ⎥\n",
       "   ⎥\n",
       "   ⎥\n",
       " ⎥\n",
       " ⎥\n",
       " ⎥\n",
       "  ⎥\n",
       "   ⎥\n",
       " ⎦"
      ]
     },
     "execution_count": 75,
     "metadata": {},
     "output_type": "execute_result"
    }
   ],
   "source": [
    "L = K - P\n",
    "rt.lagrangian(L, [d1, theta2, theta3])"
   ]
  },
  {
   "cell_type": "code",
   "execution_count": 76,
   "metadata": {},
   "outputs": [
    {
     "data": {
      "text/latex": [
       "$\\displaystyle \\left( \\left[\\begin{matrix}\\left(m_{2} + m_{3} + m_{4}\\right) \\ddot{d}_{1} & 0 & l_{3} m_{4} \\cos{\\left(\\theta_{3} \\right)} \\ddot{\\theta}_{3}\\\\0 & l_{3}^{2} m_{4} \\cos^{2}{\\left(\\theta_{3} \\right)} \\ddot{\\theta}_{2} & 0\\\\l_{3} m_{4} \\cos{\\left(\\theta_{3} \\right)} \\ddot{d}_{1} & 0 & l_{3}^{2} m_{4} \\ddot{\\theta}_{3}\\end{matrix}\\right], \\  \\left[\\begin{matrix}0 & 0 & 0 & 0 & 0 & - l_{3} m_{4} \\sin{\\left(\\theta_{3} \\right)} \\dot{\\theta}_{3}^{2}\\\\0 & 0 & 0 & 0 & - l_{3}^{2} m_{4} \\sin{\\left(2 \\theta_{3} \\right)} \\dot{\\theta}_{2} \\dot{\\theta}_{3} & 0\\\\0 & 0 & 0 & \\frac{l_{3}^{2} m_{4} \\sin{\\left(2 \\theta_{3} \\right)} \\dot{\\theta}_{2}^{2}}{2} & 0 & 0\\end{matrix}\\right], \\  \\left[\\begin{matrix}g \\left(m_{2} + m_{3} + m_{4}\\right)\\\\0\\\\g l_{3} m_{4} \\cos{\\left(\\theta_{3} \\right)}\\end{matrix}\\right]\\right)$"
      ],
      "text/plain": [
       "⎛                                                           ⎡                 \n",
       "⎜                                                           ⎢0  0  0          \n",
       "⎜⎡(m₂ + m₃ + m₄)⋅d₁̈          0           l₃⋅m₄⋅cos(θ₃)⋅θ₃̈⎤  ⎢               \n",
       "⎜⎢                                                       ⎥  ⎢                 \n",
       "⎜⎢                     2       2                         ⎥  ⎢0  0  0          \n",
       "⎜⎢        0          l₃ ⋅m₄⋅cos (θ₃)⋅θ₂̈         0        ⎥, ⎢                \n",
       "⎜⎢                                                       ⎥  ⎢           2     \n",
       "⎜⎢                                            2          ⎥  ⎢         l₃ ⋅m₄⋅s\n",
       "⎜⎣l₃⋅m₄⋅cos(θ₃)⋅d₁̈           0              l₃ ⋅m₄⋅θ₃̈    ⎦  ⎢0  0  0  ──────\n",
       "⎝                                                           ⎣                 \n",
       "\n",
       "                                                        2⎤                    \n",
       " 0                       0             -l₃⋅m₄⋅sin(θ₃)⋅θ₃̇ ⎥                   \n",
       "                                                           ⎥                  \n",
       "                 2                                       ⎥  ⎡g⋅(m₂ + m₃ + m₄)⎤\n",
       " 0            -l₃ ⋅m₄⋅sin(2⋅θ₃)⋅θ₂̇⋅θ₃̇          0         ⎥  ⎢               \n",
       "                                                          ⎥, ⎢       0        \n",
       "           2                                             ⎥  ⎢                ⎥\n",
       "in(2⋅θ₃)⋅θ₂̇                                              ⎥  ⎣g⋅l₃⋅m₄⋅cos(θ₃) \n",
       "──────────────             0                     0         ⎥                  \n",
       " 2                                                       ⎦                    \n",
       "\n",
       "⎞\n",
       " ⎟\n",
       "  ⎟\n",
       "⎟\n",
       " ⎥⎟\n",
       "⎥⎟\n",
       "⎟\n",
       "⎦⎟\n",
       "  ⎟\n",
       "⎠"
      ]
     },
     "execution_count": 76,
     "metadata": {},
     "output_type": "execute_result"
    }
   ],
   "source": [
    "rt.dynamic_model_with_3_matrices(L, [d1, theta2, theta3])"
   ]
  },
  {
   "cell_type": "code",
   "execution_count": null,
   "metadata": {},
   "outputs": [],
   "source": []
  },
  {
   "cell_type": "code",
   "execution_count": null,
   "metadata": {},
   "outputs": [],
   "source": []
  },
  {
   "cell_type": "code",
   "execution_count": null,
   "metadata": {},
   "outputs": [],
   "source": []
  }
 ],
 "metadata": {
  "kernelspec": {
   "display_name": "Python 3 (ipykernel)",
   "language": "python",
   "name": "python3"
  },
  "language_info": {
   "codemirror_mode": {
    "name": "ipython",
    "version": 3
   },
   "file_extension": ".py",
   "mimetype": "text/x-python",
   "name": "python",
   "nbconvert_exporter": "python",
   "pygments_lexer": "ipython3",
   "version": "3.10.0"
  }
 },
 "nbformat": 4,
 "nbformat_minor": 4
}
