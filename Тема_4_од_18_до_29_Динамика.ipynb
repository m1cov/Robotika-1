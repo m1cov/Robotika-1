{
 "cells": [
  {
   "cell_type": "code",
   "execution_count": 1,
   "metadata": {},
   "outputs": [],
   "source": [
    "import sympy as sp\n",
    "from sympy.physics import mechanics\n",
    "import script as rt\n",
    "\n",
    "from IPython.lib.display import IFrame"
   ]
  },
  {
   "cell_type": "code",
   "execution_count": 2,
   "metadata": {},
   "outputs": [],
   "source": [
    "t = sp.symbols('t')\n",
    "mechanics.init_vprinting()  # за да скрати печатењето на (t) кај променливите кои зависат од времето"
   ]
  },
  {
   "cell_type": "markdown",
   "metadata": {},
   "source": [
    "### Задача 4.18"
   ]
  },
  {
   "cell_type": "markdown",
   "metadata": {},
   "source": [
    "Ја скокаме бидејќи има многу за пишување 😁."
   ]
  },
  {
   "cell_type": "markdown",
   "metadata": {},
   "source": [
    "### Задача 4.19"
   ]
  },
  {
   "cell_type": "code",
   "execution_count": 3,
   "metadata": {},
   "outputs": [
    {
     "data": {
      "text/html": [
       "\n",
       "        <iframe\n",
       "            width=\"400\"\n",
       "            height=\"300\"\n",
       "            src=\"https://drive.google.com/file/d/1SLuQxSKqw6EK1m6lYIQuIyahS0Hdlw6p/preview\"\n",
       "            frameborder=\"0\"\n",
       "            allowfullscreen\n",
       "        ></iframe>\n",
       "        "
      ],
      "text/plain": [
       "<IPython.lib.display.IFrame at 0x7fb893e6fe50>"
      ]
     },
     "execution_count": 3,
     "metadata": {},
     "output_type": "execute_result"
    }
   ],
   "source": [
    "IFrame(src='https://drive.google.com/file/d/1SLuQxSKqw6EK1m6lYIQuIyahS0Hdlw6p/preview', width='400', height='300')"
   ]
  },
  {
   "cell_type": "markdown",
   "metadata": {},
   "source": [
    "#### под а)\n",
    "\n",
    "Прво ќе го пресметаме јакобијанот на линеарните брзини, а потоа ќе ги замениме вредносите за сите променливи."
   ]
  },
  {
   "cell_type": "code",
   "execution_count": 4,
   "metadata": {},
   "outputs": [],
   "source": [
    "l1, l2, l3 = sp.symbols('l1, l2, l3')\n",
    "theta1, theta2, theta3 = mechanics.dynamicsymbols('theta1, theta2, theta3')"
   ]
  },
  {
   "cell_type": "code",
   "execution_count": 5,
   "metadata": {},
   "outputs": [
    {
     "data": {
      "text/latex": [
       "$\\displaystyle l_{1} \\cos{\\left(\\theta_{1} \\right)} + l_{2} \\cos{\\left(\\theta_{1} + \\theta_{2} \\right)} + l_{3} \\cos{\\left(\\theta_{1} + \\theta_{2} + \\theta_{3} \\right)}$"
      ],
      "text/plain": [
       "l₁⋅cos(θ₁) + l₂⋅cos(θ₁ + θ₂) + l₃⋅cos(θ₁ + θ₂ + θ₃)"
      ]
     },
     "execution_count": 5,
     "metadata": {},
     "output_type": "execute_result"
    }
   ],
   "source": [
    "x = l1 * sp.cos(theta1) + l2 * sp.cos(theta1 + theta2) + l3 * sp.cos(theta1 + theta2 + theta3)\n",
    "x"
   ]
  },
  {
   "cell_type": "code",
   "execution_count": 6,
   "metadata": {},
   "outputs": [
    {
     "data": {
      "text/latex": [
       "$\\displaystyle l_{1} \\sin{\\left(\\theta_{1} \\right)} + l_{2} \\sin{\\left(\\theta_{1} + \\theta_{2} \\right)} + l_{3} \\sin{\\left(\\theta_{1} + \\theta_{2} + \\theta_{3} \\right)}$"
      ],
      "text/plain": [
       "l₁⋅sin(θ₁) + l₂⋅sin(θ₁ + θ₂) + l₃⋅sin(θ₁ + θ₂ + θ₃)"
      ]
     },
     "execution_count": 6,
     "metadata": {},
     "output_type": "execute_result"
    }
   ],
   "source": [
    "y = l1 * sp.sin(theta1) + l2 * sp.sin(theta1 + theta2) + l3 * sp.sin(theta1 + theta2 + theta3)\n",
    "y"
   ]
  },
  {
   "cell_type": "code",
   "execution_count": 7,
   "metadata": {},
   "outputs": [
    {
     "data": {
      "text/latex": [
       "$\\displaystyle \\left[\\begin{matrix}- l_{1} \\sin{\\left(\\theta_{1} \\right)} - l_{2} \\sin{\\left(\\theta_{1} + \\theta_{2} \\right)} - l_{3} \\sin{\\left(\\theta_{1} + \\theta_{2} + \\theta_{3} \\right)} & - l_{2} \\sin{\\left(\\theta_{1} + \\theta_{2} \\right)} - l_{3} \\sin{\\left(\\theta_{1} + \\theta_{2} + \\theta_{3} \\right)} & - l_{3} \\sin{\\left(\\theta_{1} + \\theta_{2} + \\theta_{3} \\right)}\\\\l_{1} \\cos{\\left(\\theta_{1} \\right)} + l_{2} \\cos{\\left(\\theta_{1} + \\theta_{2} \\right)} + l_{3} \\cos{\\left(\\theta_{1} + \\theta_{2} + \\theta_{3} \\right)} & l_{2} \\cos{\\left(\\theta_{1} + \\theta_{2} \\right)} + l_{3} \\cos{\\left(\\theta_{1} + \\theta_{2} + \\theta_{3} \\right)} & l_{3} \\cos{\\left(\\theta_{1} + \\theta_{2} + \\theta_{3} \\right)}\\end{matrix}\\right]$"
      ],
      "text/plain": [
       "⎡-l₁⋅sin(θ₁) - l₂⋅sin(θ₁ + θ₂) - l₃⋅sin(θ₁ + θ₂ + θ₃)  -l₂⋅sin(θ₁ + θ₂) - l₃⋅s\n",
       "⎢                                                                             \n",
       "⎣l₁⋅cos(θ₁) + l₂⋅cos(θ₁ + θ₂) + l₃⋅cos(θ₁ + θ₂ + θ₃)   l₂⋅cos(θ₁ + θ₂) + l₃⋅co\n",
       "\n",
       "in(θ₁ + θ₂ + θ₃)  -l₃⋅sin(θ₁ + θ₂ + θ₃)⎤\n",
       "                                       ⎥\n",
       "s(θ₁ + θ₂ + θ₃)   l₃⋅cos(θ₁ + θ₂ + θ₃) ⎦"
      ]
     },
     "execution_count": 7,
     "metadata": {},
     "output_type": "execute_result"
    }
   ],
   "source": [
    "Jv = sp.Matrix([[x, y]]).jacobian([theta1, theta2, theta3])\n",
    "Jv"
   ]
  },
  {
   "cell_type": "markdown",
   "metadata": {},
   "source": [
    "#### под б)\n",
    "\n",
    "Векторот на силата ни е зададан во задачата. Се бараат моментите кои треба да ги произведат зглобовите на роботската рака за да се постигне зададеното барање."
   ]
  },
  {
   "cell_type": "code",
   "execution_count": 8,
   "metadata": {},
   "outputs": [
    {
     "data": {
      "text/latex": [
       "$\\displaystyle \\left[\\begin{matrix}10\\\\-2\\end{matrix}\\right]$"
      ],
      "text/plain": [
       "⎡10⎤\n",
       "⎢  ⎥\n",
       "⎣-2⎦"
      ]
     },
     "execution_count": 8,
     "metadata": {},
     "output_type": "execute_result"
    }
   ],
   "source": [
    "F = sp.Matrix([10, -2])\n",
    "F"
   ]
  },
  {
   "cell_type": "code",
   "execution_count": 9,
   "metadata": {},
   "outputs": [
    {
     "data": {
      "text/latex": [
       "$\\displaystyle \\left[\\begin{matrix}- 2 \\sqrt{2} & - \\frac{\\sqrt{2}}{2} & - \\frac{\\sqrt{2}}{2}\\\\-2 - \\sqrt{2} & -2 + \\frac{\\sqrt{2}}{2} & \\frac{\\sqrt{2}}{2}\\end{matrix}\\right]$"
      ],
      "text/plain": [
       "⎡          -√2     -√2 ⎤\n",
       "⎢ -2⋅√2    ────    ────⎥\n",
       "⎢           2       2  ⎥\n",
       "⎢                      ⎥\n",
       "⎢              √2   √2 ⎥\n",
       "⎢-2 - √2  -2 + ──   ── ⎥\n",
       "⎣              2    2  ⎦"
      ]
     },
     "execution_count": 9,
     "metadata": {},
     "output_type": "execute_result"
    }
   ],
   "source": [
    "Jv_subed = Jv.subs(theta1, 3*sp.pi/4).subs(theta2, sp.pi/4).subs(theta3, 5*sp.pi/4).subs(l1, 3).subs(l2, 2).subs(l3, 1)\n",
    "Jv_subed"
   ]
  },
  {
   "cell_type": "code",
   "execution_count": 10,
   "metadata": {},
   "outputs": [
    {
     "data": {
      "text/latex": [
       "$\\displaystyle \\left[\\begin{matrix}4 - 18 \\sqrt{2}\\\\4 - 6 \\sqrt{2}\\\\- 6 \\sqrt{2}\\end{matrix}\\right]$"
      ],
      "text/plain": [
       "⎡4 - 18⋅√2⎤\n",
       "⎢         ⎥\n",
       "⎢4 - 6⋅√2 ⎥\n",
       "⎢         ⎥\n",
       "⎣  -6⋅√2  ⎦"
      ]
     },
     "execution_count": 10,
     "metadata": {},
     "output_type": "execute_result"
    }
   ],
   "source": [
    "T = Jv_subed.T * F\n",
    "T"
   ]
  },
  {
   "cell_type": "code",
   "execution_count": 11,
   "metadata": {},
   "outputs": [
    {
     "data": {
      "text/latex": [
       "$\\displaystyle \\left[\\begin{matrix}-21.4558441227157\\\\-4.48528137423857\\\\-8.48528137423857\\end{matrix}\\right]$"
      ],
      "text/plain": [
       "⎡-21.4558441227157⎤\n",
       "⎢                 ⎥\n",
       "⎢-4.48528137423857⎥\n",
       "⎢                 ⎥\n",
       "⎣-8.48528137423857⎦"
      ]
     },
     "execution_count": 11,
     "metadata": {},
     "output_type": "execute_result"
    }
   ],
   "source": [
    "T.evalf()"
   ]
  },
  {
   "cell_type": "markdown",
   "metadata": {},
   "source": [
    "### Задача 4.20"
   ]
  },
  {
   "cell_type": "markdown",
   "metadata": {},
   "source": [
    "Се решава исто како и претходните задачи."
   ]
  },
  {
   "cell_type": "code",
   "execution_count": 12,
   "metadata": {},
   "outputs": [],
   "source": [
    "Jm, Jl, M, g, r, l = sp.symbols('J_m, J_l, M, g, r, l')\n",
    "theta_l = mechanics.dynamicsymbols('theta_l')\n",
    "vtheta_l = theta_l.diff(t)"
   ]
  },
  {
   "cell_type": "code",
   "execution_count": 13,
   "metadata": {},
   "outputs": [
    {
     "data": {
      "text/latex": [
       "$\\displaystyle \\frac{\\left(J_{l} + J_{m} r^{2}\\right) \\dot{\\theta}_{l}^{2}}{2}$"
      ],
      "text/plain": [
       "⎛         2⎞   2\n",
       "⎝Jₗ + Jₘ⋅r ⎠⋅θₗ̇ \n",
       "────────────────\n",
       "       2        "
      ]
     },
     "execution_count": 13,
     "metadata": {},
     "output_type": "execute_result"
    }
   ],
   "source": [
    "K = (Jm * r**2 + Jl) * vtheta_l**2 / 2\n",
    "K"
   ]
  },
  {
   "cell_type": "code",
   "execution_count": 14,
   "metadata": {},
   "outputs": [
    {
     "data": {
      "text/latex": [
       "$\\displaystyle M g l \\left(1 - \\cos{\\left(\\theta_{l} \\right)}\\right)$"
      ],
      "text/plain": [
       "M⋅g⋅l⋅(1 - cos(θₗ))"
      ]
     },
     "execution_count": 14,
     "metadata": {},
     "output_type": "execute_result"
    }
   ],
   "source": [
    "P = M * g * l * (1-sp.cos(theta_l))\n",
    "P"
   ]
  },
  {
   "cell_type": "code",
   "execution_count": 15,
   "metadata": {},
   "outputs": [
    {
     "data": {
      "text/latex": [
       "$\\displaystyle \\left[\\begin{matrix}M g l \\sin{\\left(\\theta_{l} \\right)} + \\left(J_{l} + J_{m} r^{2}\\right) \\ddot{\\theta}_{l}\\end{matrix}\\right]$"
      ],
      "text/plain": [
       "⎡                ⎛         2⎞   ⎤\n",
       "⎣M⋅g⋅l⋅sin(θₗ) + ⎝Jₗ + Jₘ⋅r ⎠⋅θₗ̈⎦"
      ]
     },
     "execution_count": 15,
     "metadata": {},
     "output_type": "execute_result"
    }
   ],
   "source": [
    "L = K - P\n",
    "rt.lagrangian(L, [theta_l])"
   ]
  },
  {
   "cell_type": "markdown",
   "metadata": {},
   "source": [
    "### Задача 4.21"
   ]
  },
  {
   "cell_type": "markdown",
   "metadata": {},
   "source": [
    "Се решава исто како и претходните задачи."
   ]
  },
  {
   "cell_type": "code",
   "execution_count": 16,
   "metadata": {},
   "outputs": [],
   "source": [
    "J, Jm, m, g, N, l = sp.symbols('J, J_m, m, g, N, l')\n",
    "theta = mechanics.dynamicsymbols('theta')\n",
    "vtheta = theta.diff(t)"
   ]
  },
  {
   "cell_type": "code",
   "execution_count": 17,
   "metadata": {},
   "outputs": [
    {
     "data": {
      "text/latex": [
       "$\\displaystyle \\frac{J_{m} N^{2} \\dot{\\theta}^{2}}{2} + \\frac{\\left(J + l^{2} m\\right) \\dot{\\theta}^{2}}{2}$"
      ],
      "text/plain": [
       "    2  2   ⎛     2  ⎞  2\n",
       "Jₘ⋅N ⋅θ̇    ⎝J + l ⋅m⎠⋅θ̇ \n",
       "──────── + ─────────────\n",
       "   2             2      "
      ]
     },
     "execution_count": 17,
     "metadata": {},
     "output_type": "execute_result"
    }
   ],
   "source": [
    "K = (m * l**2 + J) * vtheta**2 / 2  +  Jm * N**2 * vtheta**2 / 2\n",
    "K"
   ]
  },
  {
   "cell_type": "code",
   "execution_count": 18,
   "metadata": {},
   "outputs": [
    {
     "data": {
      "text/latex": [
       "$\\displaystyle g l m \\left(1 - \\cos{\\left(\\theta \\right)}\\right)$"
      ],
      "text/plain": [
       "g⋅l⋅m⋅(1 - cos(θ))"
      ]
     },
     "execution_count": 18,
     "metadata": {},
     "output_type": "execute_result"
    }
   ],
   "source": [
    "P = m * g * l * (1-sp.cos(theta))\n",
    "P"
   ]
  },
  {
   "cell_type": "code",
   "execution_count": 19,
   "metadata": {},
   "outputs": [
    {
     "data": {
      "text/latex": [
       "$\\displaystyle \\left[\\begin{matrix}J_{m} N^{2} \\ddot{\\theta} + g l m \\sin{\\left(\\theta \\right)} + \\left(J + l^{2} m\\right) \\ddot{\\theta}\\end{matrix}\\right]$"
      ],
      "text/plain": [
       "⎡    2                    ⎛     2  ⎞  ⎤\n",
       "⎣Jₘ⋅N ⋅θ̈ + g⋅l⋅m⋅sin(θ) + ⎝J + l ⋅m⎠⋅θ̈⎦"
      ]
     },
     "execution_count": 19,
     "metadata": {},
     "output_type": "execute_result"
    }
   ],
   "source": [
    "L = K - P\n",
    "rt.lagrangian(L, [theta])"
   ]
  },
  {
   "cell_type": "markdown",
   "metadata": {},
   "source": [
    "### Задача 4.22"
   ]
  },
  {
   "cell_type": "markdown",
   "metadata": {},
   "source": [
    "Наменета е да се решава рачно, според предавањата."
   ]
  },
  {
   "cell_type": "markdown",
   "metadata": {},
   "source": [
    "### Задача 4.23"
   ]
  },
  {
   "cell_type": "markdown",
   "metadata": {},
   "source": [
    "Во оваа задача е даден јакобијанот на една роботска рака во однос на координатниот систем на извршниот елемент и векторот на сили кој роботската рака треба да го произведе за извршниот елемент."
   ]
  },
  {
   "cell_type": "code",
   "execution_count": 20,
   "metadata": {},
   "outputs": [
    {
     "data": {
      "text/latex": [
       "$\\displaystyle \\left[\\begin{matrix}20 & 0 & 0 & 0 & 0 & 0\\\\-5 & 0 & 1 & 0 & 0 & 0\\\\0 & 20 & 0 & 0 & 0 & 0\\\\0 & 1 & 0 & 0 & 1 & 0\\\\0 & 0 & 0 & 1 & 0 & 0\\\\-1 & 0 & 0 & 0 & 0 & 1\\end{matrix}\\right]$"
      ],
      "text/plain": [
       "⎡20  0   0  0  0  0⎤\n",
       "⎢                  ⎥\n",
       "⎢-5  0   1  0  0  0⎥\n",
       "⎢                  ⎥\n",
       "⎢0   20  0  0  0  0⎥\n",
       "⎢                  ⎥\n",
       "⎢0   1   0  0  1  0⎥\n",
       "⎢                  ⎥\n",
       "⎢0   0   0  1  0  0⎥\n",
       "⎢                  ⎥\n",
       "⎣-1  0   0  0  0  1⎦"
      ]
     },
     "execution_count": 20,
     "metadata": {},
     "output_type": "execute_result"
    }
   ],
   "source": [
    "J_wrt_T6 = sp.Matrix([\n",
    "    [20, 0, 0, 0, 0, 0],\n",
    "    [-5, 0, 1, 0, 0, 0],\n",
    "    [0, 20, 0, 0, 0, 0],\n",
    "    [0, 1, 0, 0, 1, 0],\n",
    "    [0, 0, 0, 1, 0, 0],\n",
    "    [-1, 0, 0, 0, 0, 1],\n",
    "])\n",
    "J_wrt_T6"
   ]
  },
  {
   "cell_type": "code",
   "execution_count": 21,
   "metadata": {},
   "outputs": [
    {
     "data": {
      "text/latex": [
       "$\\displaystyle \\left[\\begin{matrix}0\\\\0\\\\5\\\\0\\\\0\\\\20\\end{matrix}\\right]$"
      ],
      "text/plain": [
       "⎡0 ⎤\n",
       "⎢  ⎥\n",
       "⎢0 ⎥\n",
       "⎢  ⎥\n",
       "⎢5 ⎥\n",
       "⎢  ⎥\n",
       "⎢0 ⎥\n",
       "⎢  ⎥\n",
       "⎢0 ⎥\n",
       "⎢  ⎥\n",
       "⎣20⎦"
      ]
     },
     "execution_count": 21,
     "metadata": {},
     "output_type": "execute_result"
    }
   ],
   "source": [
    "F_wrt_T6 = sp.Matrix([0, 0, 5, 0, 0, 20])\n",
    "F_wrt_T6"
   ]
  },
  {
   "cell_type": "markdown",
   "metadata": {},
   "source": [
    "Бидејќи и $J$ и $F$ се во однос на ист координатен систем, можеме веднаш, без дополнителни трансформации, да ги пресметаме моментите кои треба да ги генерираат зглобовите за да ја добиеме потребната сила при извршиниот елемент."
   ]
  },
  {
   "cell_type": "code",
   "execution_count": 22,
   "metadata": {},
   "outputs": [
    {
     "data": {
      "text/latex": [
       "$\\displaystyle \\left[\\begin{matrix}-20\\\\100\\\\0\\\\0\\\\0\\\\20\\end{matrix}\\right]$"
      ],
      "text/plain": [
       "⎡-20⎤\n",
       "⎢   ⎥\n",
       "⎢100⎥\n",
       "⎢   ⎥\n",
       "⎢ 0 ⎥\n",
       "⎢   ⎥\n",
       "⎢ 0 ⎥\n",
       "⎢   ⎥\n",
       "⎢ 0 ⎥\n",
       "⎢   ⎥\n",
       "⎣20 ⎦"
      ]
     },
     "execution_count": 22,
     "metadata": {},
     "output_type": "execute_result"
    }
   ],
   "source": [
    "M = J_wrt_T6.T * F_wrt_T6\n",
    "M"
   ]
  },
  {
   "cell_type": "markdown",
   "metadata": {},
   "source": [
    "### Задача 4.24"
   ]
  },
  {
   "cell_type": "markdown",
   "metadata": {},
   "source": [
    "Се решава исто како и претходните задачи."
   ]
  },
  {
   "cell_type": "code",
   "execution_count": 23,
   "metadata": {},
   "outputs": [],
   "source": [
    "l1, l2 = sp.symbols('l1, l2')\n",
    "theta1, theta2 = mechanics.dynamicsymbols('theta1, theta2')"
   ]
  },
  {
   "cell_type": "code",
   "execution_count": 24,
   "metadata": {},
   "outputs": [
    {
     "data": {
      "text/latex": [
       "$\\displaystyle l_{1} \\cos{\\left(\\theta_{1} \\right)} + l_{2} \\cos{\\left(\\theta_{1} + \\theta_{2} \\right)}$"
      ],
      "text/plain": [
       "l₁⋅cos(θ₁) + l₂⋅cos(θ₁ + θ₂)"
      ]
     },
     "execution_count": 24,
     "metadata": {},
     "output_type": "execute_result"
    }
   ],
   "source": [
    "x = l1 * sp.cos(theta1) + l2 * sp.cos(theta1 + theta2)\n",
    "x"
   ]
  },
  {
   "cell_type": "code",
   "execution_count": 25,
   "metadata": {},
   "outputs": [
    {
     "data": {
      "text/latex": [
       "$\\displaystyle l_{1} \\sin{\\left(\\theta_{1} \\right)} + l_{2} \\sin{\\left(\\theta_{1} + \\theta_{2} \\right)}$"
      ],
      "text/plain": [
       "l₁⋅sin(θ₁) + l₂⋅sin(θ₁ + θ₂)"
      ]
     },
     "execution_count": 25,
     "metadata": {},
     "output_type": "execute_result"
    }
   ],
   "source": [
    "y = l1 * sp.sin(theta1) + l2 * sp.sin(theta1 + theta2)\n",
    "y"
   ]
  },
  {
   "cell_type": "code",
   "execution_count": 26,
   "metadata": {},
   "outputs": [
    {
     "data": {
      "text/latex": [
       "$\\displaystyle \\left[\\begin{matrix}- l_{1} \\sin{\\left(\\theta_{1} \\right)} - l_{2} \\sin{\\left(\\theta_{1} + \\theta_{2} \\right)} & - l_{2} \\sin{\\left(\\theta_{1} + \\theta_{2} \\right)}\\\\l_{1} \\cos{\\left(\\theta_{1} \\right)} + l_{2} \\cos{\\left(\\theta_{1} + \\theta_{2} \\right)} & l_{2} \\cos{\\left(\\theta_{1} + \\theta_{2} \\right)}\\end{matrix}\\right]$"
      ],
      "text/plain": [
       "⎡-l₁⋅sin(θ₁) - l₂⋅sin(θ₁ + θ₂)  -l₂⋅sin(θ₁ + θ₂)⎤\n",
       "⎢                                               ⎥\n",
       "⎣l₁⋅cos(θ₁) + l₂⋅cos(θ₁ + θ₂)   l₂⋅cos(θ₁ + θ₂) ⎦"
      ]
     },
     "execution_count": 26,
     "metadata": {},
     "output_type": "execute_result"
    }
   ],
   "source": [
    "Jv = sp.Matrix([[x, y]]).jacobian([theta1, theta2])\n",
    "Jv"
   ]
  },
  {
   "cell_type": "markdown",
   "metadata": {},
   "source": [
    "Векторот на силата ни е зададан во задачата. Се бараат моментите кои треба да ги произведат зглобовите на роботската рака за да се постигне зададеното барање."
   ]
  },
  {
   "cell_type": "code",
   "execution_count": 27,
   "metadata": {},
   "outputs": [
    {
     "data": {
      "text/latex": [
       "$\\displaystyle \\left[\\begin{matrix}0\\\\500\\end{matrix}\\right]$"
      ],
      "text/plain": [
       "⎡ 0 ⎤\n",
       "⎢   ⎥\n",
       "⎣500⎦"
      ]
     },
     "execution_count": 27,
     "metadata": {},
     "output_type": "execute_result"
    }
   ],
   "source": [
    "F = sp.Matrix([0, 500])\n",
    "F"
   ]
  },
  {
   "cell_type": "code",
   "execution_count": 28,
   "metadata": {},
   "outputs": [
    {
     "data": {
      "text/latex": [
       "$\\displaystyle \\left[\\begin{matrix}- 0.25 \\sqrt{2} - 0.3 & - 0.25 \\sqrt{2}\\\\0.25 \\sqrt{2} & 0.25 \\sqrt{2}\\end{matrix}\\right]$"
      ],
      "text/plain": [
       "⎡-0.25⋅√2 - 0.3  -0.25⋅√2⎤\n",
       "⎢                        ⎥\n",
       "⎣   0.25⋅√2      0.25⋅√2 ⎦"
      ]
     },
     "execution_count": 28,
     "metadata": {},
     "output_type": "execute_result"
    }
   ],
   "source": [
    "Jv_subed = Jv.subs(theta1, sp.pi/2).subs(theta2, -sp.pi/4).subs(l1, 0.3).subs(l2, 0.5)\n",
    "Jv_subed"
   ]
  },
  {
   "cell_type": "code",
   "execution_count": 29,
   "metadata": {},
   "outputs": [
    {
     "data": {
      "text/latex": [
       "$\\displaystyle \\left[\\begin{matrix}125.0 \\sqrt{2}\\\\125.0 \\sqrt{2}\\end{matrix}\\right]$"
      ],
      "text/plain": [
       "⎡125.0⋅√2⎤\n",
       "⎢        ⎥\n",
       "⎣125.0⋅√2⎦"
      ]
     },
     "execution_count": 29,
     "metadata": {},
     "output_type": "execute_result"
    }
   ],
   "source": [
    "T = Jv_subed.T * F\n",
    "T"
   ]
  },
  {
   "cell_type": "code",
   "execution_count": 30,
   "metadata": {},
   "outputs": [
    {
     "data": {
      "text/latex": [
       "$\\displaystyle \\left[\\begin{matrix}176.776695296637\\\\176.776695296637\\end{matrix}\\right]$"
      ],
      "text/plain": [
       "⎡176.776695296637⎤\n",
       "⎢                ⎥\n",
       "⎣176.776695296637⎦"
      ]
     },
     "execution_count": 30,
     "metadata": {},
     "output_type": "execute_result"
    }
   ],
   "source": [
    "T.evalf()"
   ]
  },
  {
   "cell_type": "markdown",
   "metadata": {},
   "source": [
    "### Задача 4.25"
   ]
  },
  {
   "cell_type": "code",
   "execution_count": 31,
   "metadata": {},
   "outputs": [
    {
     "data": {
      "text/html": [
       "\n",
       "        <iframe\n",
       "            width=\"400\"\n",
       "            height=\"300\"\n",
       "            src=\"https://drive.google.com/file/d/1OSyMAZeRE1tbHJO5HL22KbVHEhyCmrTL/preview\"\n",
       "            frameborder=\"0\"\n",
       "            allowfullscreen\n",
       "        ></iframe>\n",
       "        "
      ],
      "text/plain": [
       "<IPython.lib.display.IFrame at 0x7fb893d39970>"
      ]
     },
     "execution_count": 31,
     "metadata": {},
     "output_type": "execute_result"
    }
   ],
   "source": [
    "IFrame(src='https://drive.google.com/file/d/1OSyMAZeRE1tbHJO5HL22KbVHEhyCmrTL/preview', width='400', height='300')"
   ]
  },
  {
   "cell_type": "code",
   "execution_count": 32,
   "metadata": {},
   "outputs": [
    {
     "data": {
      "text/latex": [
       "$\\displaystyle \\left[\\begin{matrix}0 & 1 & 0 & 2\\\\0 & 0 & 1 & 4\\\\1 & 0 & 0 & 7\\\\0 & 0 & 0 & 1\\end{matrix}\\right]$"
      ],
      "text/plain": [
       "⎡0  1  0  2⎤\n",
       "⎢          ⎥\n",
       "⎢0  0  1  4⎥\n",
       "⎢          ⎥\n",
       "⎢1  0  0  7⎥\n",
       "⎢          ⎥\n",
       "⎣0  0  0  1⎦"
      ]
     },
     "execution_count": 32,
     "metadata": {},
     "output_type": "execute_result"
    }
   ],
   "source": [
    "H = sp.Matrix([\n",
    "    [0, 1, 0, 2],\n",
    "    [0, 0, 1, 4],\n",
    "    [1, 0, 0, 7],\n",
    "    [0, 0, 0, 1],\n",
    "])\n",
    "H"
   ]
  },
  {
   "cell_type": "code",
   "execution_count": 33,
   "metadata": {},
   "outputs": [],
   "source": [
    "R = H[:3, :3]\n",
    "P = H[:3, 3]"
   ]
  },
  {
   "cell_type": "code",
   "execution_count": 34,
   "metadata": {},
   "outputs": [
    {
     "data": {
      "text/latex": [
       "$\\displaystyle \\left[\\begin{matrix}0\\\\45\\\\0\\end{matrix}\\right]$"
      ],
      "text/plain": [
       "⎡0 ⎤\n",
       "⎢  ⎥\n",
       "⎢45⎥\n",
       "⎢  ⎥\n",
       "⎣0 ⎦"
      ]
     },
     "execution_count": 34,
     "metadata": {},
     "output_type": "execute_result"
    }
   ],
   "source": [
    "F_wrt_U = sp.Matrix([0, 45, 0])\n",
    "F_wrt_U"
   ]
  },
  {
   "cell_type": "code",
   "execution_count": 35,
   "metadata": {},
   "outputs": [
    {
     "data": {
      "text/latex": [
       "$\\displaystyle \\left[\\begin{matrix}0\\\\0\\\\35\\end{matrix}\\right]$"
      ],
      "text/plain": [
       "⎡0 ⎤\n",
       "⎢  ⎥\n",
       "⎢0 ⎥\n",
       "⎢  ⎥\n",
       "⎣35⎦"
      ]
     },
     "execution_count": 35,
     "metadata": {},
     "output_type": "execute_result"
    }
   ],
   "source": [
    "M_wrt_U = sp.Matrix([0, 0, 35])\n",
    "M_wrt_U"
   ]
  },
  {
   "cell_type": "code",
   "execution_count": 36,
   "metadata": {},
   "outputs": [
    {
     "data": {
      "text/latex": [
       "$\\displaystyle \\left[\\begin{matrix}0\\\\0\\\\45\\end{matrix}\\right]$"
      ],
      "text/plain": [
       "⎡0 ⎤\n",
       "⎢  ⎥\n",
       "⎢0 ⎥\n",
       "⎢  ⎥\n",
       "⎣45⎦"
      ]
     },
     "execution_count": 36,
     "metadata": {},
     "output_type": "execute_result"
    }
   ],
   "source": [
    "F_wrt_H = R.T * F_wrt_U\n",
    "F_wrt_H"
   ]
  },
  {
   "cell_type": "code",
   "execution_count": 37,
   "metadata": {},
   "outputs": [
    {
     "data": {
      "text/latex": [
       "$\\displaystyle \\left[\\begin{matrix}-55\\\\315\\\\0\\end{matrix}\\right]$"
      ],
      "text/plain": [
       "⎡-55⎤\n",
       "⎢   ⎥\n",
       "⎢315⎥\n",
       "⎢   ⎥\n",
       "⎣ 0 ⎦"
      ]
     },
     "execution_count": 37,
     "metadata": {},
     "output_type": "execute_result"
    }
   ],
   "source": [
    "M_wrt_H = R.T * (F_wrt_U.cross(P) + M_wrt_U)\n",
    "M_wrt_H"
   ]
  },
  {
   "cell_type": "markdown",
   "metadata": {},
   "source": [
    "### Задача 4.26"
   ]
  },
  {
   "cell_type": "markdown",
   "metadata": {},
   "source": [
    "Се решава исто како и претходната задача."
   ]
  },
  {
   "cell_type": "code",
   "execution_count": 38,
   "metadata": {},
   "outputs": [
    {
     "data": {
      "text/latex": [
       "$\\displaystyle \\left[\\begin{matrix}\\frac{\\sqrt{2}}{2} & \\frac{\\sqrt{2}}{2} & 0 & 2\\\\0 & 0 & 1 & 1\\\\\\frac{\\sqrt{2}}{2} & - \\frac{\\sqrt{2}}{2} & 0 & 5\\\\0 & 0 & 0 & 1\\end{matrix}\\right]$"
      ],
      "text/plain": [
       "⎡√2   √2       ⎤\n",
       "⎢──   ──   0  2⎥\n",
       "⎢2    2        ⎥\n",
       "⎢              ⎥\n",
       "⎢0    0    1  1⎥\n",
       "⎢              ⎥\n",
       "⎢√2  -√2       ⎥\n",
       "⎢──  ────  0  5⎥\n",
       "⎢2    2        ⎥\n",
       "⎢              ⎥\n",
       "⎣0    0    0  1⎦"
      ]
     },
     "execution_count": 38,
     "metadata": {},
     "output_type": "execute_result"
    }
   ],
   "source": [
    "H = sp.Matrix([\n",
    "    [sp.sqrt(2)/2, sp.sqrt(2)/2, 0, 2],\n",
    "    [0, 0, 1, 1],\n",
    "    [sp.sqrt(2)/2, -sp.sqrt(2)/2, 0, 5],\n",
    "    [0, 0, 0, 1],\n",
    "])\n",
    "H"
   ]
  },
  {
   "cell_type": "code",
   "execution_count": 39,
   "metadata": {},
   "outputs": [],
   "source": [
    "R = H[:3, :3]\n",
    "P = H[:3, 3]"
   ]
  },
  {
   "cell_type": "code",
   "execution_count": 40,
   "metadata": {},
   "outputs": [
    {
     "data": {
      "text/latex": [
       "$\\displaystyle \\left[\\begin{matrix}10\\\\0\\\\5\\end{matrix}\\right]$"
      ],
      "text/plain": [
       "⎡10⎤\n",
       "⎢  ⎥\n",
       "⎢0 ⎥\n",
       "⎢  ⎥\n",
       "⎣5 ⎦"
      ]
     },
     "execution_count": 40,
     "metadata": {},
     "output_type": "execute_result"
    }
   ],
   "source": [
    "F_wrt_U = sp.Matrix([10, 0, 5])\n",
    "F_wrt_U"
   ]
  },
  {
   "cell_type": "code",
   "execution_count": 41,
   "metadata": {},
   "outputs": [
    {
     "data": {
      "text/latex": [
       "$\\displaystyle \\left[\\begin{matrix}15\\\\20\\\\0\\end{matrix}\\right]$"
      ],
      "text/plain": [
       "⎡15⎤\n",
       "⎢  ⎥\n",
       "⎢20⎥\n",
       "⎢  ⎥\n",
       "⎣0 ⎦"
      ]
     },
     "execution_count": 41,
     "metadata": {},
     "output_type": "execute_result"
    }
   ],
   "source": [
    "M_wrt_U = sp.Matrix([15, 20, 0])\n",
    "M_wrt_U"
   ]
  },
  {
   "cell_type": "code",
   "execution_count": 42,
   "metadata": {},
   "outputs": [
    {
     "data": {
      "text/latex": [
       "$\\displaystyle \\left[\\begin{matrix}\\frac{15 \\sqrt{2}}{2}\\\\\\frac{5 \\sqrt{2}}{2}\\\\0\\end{matrix}\\right]$"
      ],
      "text/plain": [
       "⎡15⋅√2⎤\n",
       "⎢─────⎥\n",
       "⎢  2  ⎥\n",
       "⎢     ⎥\n",
       "⎢5⋅√2 ⎥\n",
       "⎢──── ⎥\n",
       "⎢ 2   ⎥\n",
       "⎢     ⎥\n",
       "⎣  0  ⎦"
      ]
     },
     "execution_count": 42,
     "metadata": {},
     "output_type": "execute_result"
    }
   ],
   "source": [
    "F_wrt_H = R.T * F_wrt_U\n",
    "F_wrt_H"
   ]
  },
  {
   "cell_type": "code",
   "execution_count": 43,
   "metadata": {},
   "outputs": [
    {
     "data": {
      "text/latex": [
       "$\\displaystyle \\left[\\begin{matrix}10.6066017177982\\\\3.53553390593274\\\\0\\end{matrix}\\right]$"
      ],
      "text/plain": [
       "⎡10.6066017177982⎤\n",
       "⎢                ⎥\n",
       "⎢3.53553390593274⎥\n",
       "⎢                ⎥\n",
       "⎣       0        ⎦"
      ]
     },
     "execution_count": 43,
     "metadata": {},
     "output_type": "execute_result"
    }
   ],
   "source": [
    "F_wrt_H.evalf()"
   ]
  },
  {
   "cell_type": "code",
   "execution_count": 44,
   "metadata": {},
   "outputs": [
    {
     "data": {
      "text/latex": [
       "$\\displaystyle \\left[\\begin{matrix}10 \\sqrt{2}\\\\0\\\\-20\\end{matrix}\\right]$"
      ],
      "text/plain": [
       "⎡10⋅√2⎤\n",
       "⎢     ⎥\n",
       "⎢  0  ⎥\n",
       "⎢     ⎥\n",
       "⎣ -20 ⎦"
      ]
     },
     "execution_count": 44,
     "metadata": {},
     "output_type": "execute_result"
    }
   ],
   "source": [
    "M_wrt_H = R.T * (F_wrt_U.cross(P) + M_wrt_U)\n",
    "M_wrt_H"
   ]
  },
  {
   "cell_type": "code",
   "execution_count": 45,
   "metadata": {},
   "outputs": [
    {
     "data": {
      "text/latex": [
       "$\\displaystyle \\left[\\begin{matrix}14.142135623731\\\\0\\\\-20.0\\end{matrix}\\right]$"
      ],
      "text/plain": [
       "⎡14.142135623731⎤\n",
       "⎢               ⎥\n",
       "⎢       0       ⎥\n",
       "⎢               ⎥\n",
       "⎣     -20.0     ⎦"
      ]
     },
     "execution_count": 45,
     "metadata": {},
     "output_type": "execute_result"
    }
   ],
   "source": [
    "M_wrt_H.evalf()"
   ]
  },
  {
   "cell_type": "markdown",
   "metadata": {},
   "source": [
    "### Задача 4.27"
   ]
  },
  {
   "cell_type": "markdown",
   "metadata": {},
   "source": [
    "Тоа што се бара е веќе дадено."
   ]
  },
  {
   "cell_type": "code",
   "execution_count": 46,
   "metadata": {},
   "outputs": [
    {
     "data": {
      "text/latex": [
       "$\\displaystyle \\left[\\begin{matrix}0 & - \\frac{\\sqrt{2}}{2} & \\frac{\\sqrt{2}}{2} & 4\\\\1 & 0 & 0 & 10\\\\0 & \\frac{\\sqrt{2}}{2} & \\frac{\\sqrt{2}}{2} & 5\\\\0 & 0 & 0 & 1\\end{matrix}\\right]$"
      ],
      "text/plain": [
       "⎡   -√2   √2    ⎤\n",
       "⎢0  ────  ──  4 ⎥\n",
       "⎢    2    2     ⎥\n",
       "⎢               ⎥\n",
       "⎢1   0    0   10⎥\n",
       "⎢               ⎥\n",
       "⎢    √2   √2    ⎥\n",
       "⎢0   ──   ──  5 ⎥\n",
       "⎢    2    2     ⎥\n",
       "⎢               ⎥\n",
       "⎣0   0    0   1 ⎦"
      ]
     },
     "execution_count": 46,
     "metadata": {},
     "output_type": "execute_result"
    }
   ],
   "source": [
    "H = sp.Matrix([\n",
    "    [0, -sp.sqrt(2)/2, sp.sqrt(2)/2, 4],\n",
    "    [1, 0, 0, 10],\n",
    "    [0, sp.sqrt(2)/2, sp.sqrt(2)/2, 5],\n",
    "    [0, 0, 0, 1],\n",
    "])\n",
    "H"
   ]
  },
  {
   "cell_type": "code",
   "execution_count": 47,
   "metadata": {},
   "outputs": [],
   "source": [
    "R = H[:3, :3]\n",
    "P = H[:3, 3]"
   ]
  },
  {
   "cell_type": "code",
   "execution_count": 48,
   "metadata": {},
   "outputs": [
    {
     "data": {
      "text/latex": [
       "$\\displaystyle \\left[\\begin{matrix}20\\\\10\\\\0\\end{matrix}\\right]$"
      ],
      "text/plain": [
       "⎡20⎤\n",
       "⎢  ⎥\n",
       "⎢10⎥\n",
       "⎢  ⎥\n",
       "⎣0 ⎦"
      ]
     },
     "execution_count": 48,
     "metadata": {},
     "output_type": "execute_result"
    }
   ],
   "source": [
    "F_wrt_U = sp.Matrix([20, 10, 0])\n",
    "F_wrt_U"
   ]
  },
  {
   "cell_type": "code",
   "execution_count": 49,
   "metadata": {},
   "outputs": [
    {
     "data": {
      "text/latex": [
       "$\\displaystyle \\left[\\begin{matrix}100\\\\0\\\\0\\end{matrix}\\right]$"
      ],
      "text/plain": [
       "⎡100⎤\n",
       "⎢   ⎥\n",
       "⎢ 0 ⎥\n",
       "⎢   ⎥\n",
       "⎣ 0 ⎦"
      ]
     },
     "execution_count": 49,
     "metadata": {},
     "output_type": "execute_result"
    }
   ],
   "source": [
    "M_wrt_U = sp.Matrix([100, 0, 0])\n",
    "M_wrt_U"
   ]
  },
  {
   "cell_type": "code",
   "execution_count": 50,
   "metadata": {},
   "outputs": [
    {
     "data": {
      "text/latex": [
       "$\\displaystyle \\left[\\begin{matrix}10\\\\- 10 \\sqrt{2}\\\\10 \\sqrt{2}\\end{matrix}\\right]$"
      ],
      "text/plain": [
       "⎡  10  ⎤\n",
       "⎢      ⎥\n",
       "⎢-10⋅√2⎥\n",
       "⎢      ⎥\n",
       "⎣10⋅√2 ⎦"
      ]
     },
     "execution_count": 50,
     "metadata": {},
     "output_type": "execute_result"
    }
   ],
   "source": [
    "F_wrt_H = R.T * F_wrt_U\n",
    "F_wrt_H"
   ]
  },
  {
   "cell_type": "code",
   "execution_count": 51,
   "metadata": {},
   "outputs": [
    {
     "data": {
      "text/latex": [
       "$\\displaystyle \\left[\\begin{matrix}10.0\\\\-14.142135623731\\\\14.142135623731\\end{matrix}\\right]$"
      ],
      "text/plain": [
       "⎡      10.0      ⎤\n",
       "⎢                ⎥\n",
       "⎢-14.142135623731⎥\n",
       "⎢                ⎥\n",
       "⎣14.142135623731 ⎦"
      ]
     },
     "execution_count": 51,
     "metadata": {},
     "output_type": "execute_result"
    }
   ],
   "source": [
    "F_wrt_H.evalf()"
   ]
  },
  {
   "cell_type": "code",
   "execution_count": 52,
   "metadata": {},
   "outputs": [
    {
     "data": {
      "text/latex": [
       "$\\displaystyle \\left[\\begin{matrix}-100\\\\5 \\sqrt{2}\\\\155 \\sqrt{2}\\end{matrix}\\right]$"
      ],
      "text/plain": [
       "⎡ -100 ⎤\n",
       "⎢      ⎥\n",
       "⎢ 5⋅√2 ⎥\n",
       "⎢      ⎥\n",
       "⎣155⋅√2⎦"
      ]
     },
     "execution_count": 52,
     "metadata": {},
     "output_type": "execute_result"
    }
   ],
   "source": [
    "M_wrt_H = R.T * (F_wrt_U.cross(P) + M_wrt_U)\n",
    "M_wrt_H"
   ]
  },
  {
   "cell_type": "code",
   "execution_count": 53,
   "metadata": {},
   "outputs": [
    {
     "data": {
      "text/latex": [
       "$\\displaystyle \\left[\\begin{matrix}-100.0\\\\7.07106781186548\\\\219.20310216783\\end{matrix}\\right]$"
      ],
      "text/plain": [
       "⎡     -100.0     ⎤\n",
       "⎢                ⎥\n",
       "⎢7.07106781186548⎥\n",
       "⎢                ⎥\n",
       "⎣219.20310216783 ⎦"
      ]
     },
     "execution_count": 53,
     "metadata": {},
     "output_type": "execute_result"
    }
   ],
   "source": [
    "M_wrt_H.evalf()"
   ]
  },
  {
   "cell_type": "markdown",
   "metadata": {},
   "source": [
    "### Задача 4.28"
   ]
  },
  {
   "cell_type": "code",
   "execution_count": 54,
   "metadata": {},
   "outputs": [
    {
     "data": {
      "application/vnd.jupyter.widget-view+json": {
       "model_id": "2573e9ea7eb0406881fb1ce9b49388fd",
       "version_major": 2,
       "version_minor": 0
      },
      "text/plain": [
       "VBox(children=(HBox(children=(ToggleButton(value=True, description='Исклучи цртање'), Button(description='Пром…"
      ]
     },
     "metadata": {},
     "output_type": "display_data"
    }
   ],
   "source": [
    "theta1, theta2, d3 = mechanics.dynamicsymbols('theta1, theta2, d3')\n",
    "l1, l2 = sp.symbols('l1, l2')\n",
    "robot = rt.SerialLinkRobot()\n",
    "robot.add_revolute_joint(theta1, 0, l1, sp.pi/2)\n",
    "robot.add_revolute_joint(theta2, l2, 0, -sp.pi/2)\n",
    "robot.add_prismatic_joint(0, d3, 0, 0)\n",
    "robot.add_subs([(l1, 1), (l2, 1)])\n",
    "robot.interact()"
   ]
  },
  {
   "cell_type": "markdown",
   "metadata": {},
   "source": [
    "#### под а)\n",
    "\n",
    "Го наоѓаме јакобијанот на линеарните брзини."
   ]
  },
  {
   "cell_type": "code",
   "execution_count": 55,
   "metadata": {},
   "outputs": [
    {
     "data": {
      "text/latex": [
       "$\\displaystyle \\left[\\begin{matrix}- l_{1} \\sin{\\left(\\theta_{1} \\right)} + l_{2} \\cos{\\left(\\theta_{1} \\right)} + d_{3} \\sin{\\left(\\theta_{1} \\right)} \\sin{\\left(\\theta_{2} \\right)} & - d_{3} \\cos{\\left(\\theta_{1} \\right)} \\cos{\\left(\\theta_{2} \\right)} & - \\sin{\\left(\\theta_{2} \\right)} \\cos{\\left(\\theta_{1} \\right)}\\\\l_{1} \\cos{\\left(\\theta_{1} \\right)} + l_{2} \\sin{\\left(\\theta_{1} \\right)} - d_{3} \\sin{\\left(\\theta_{2} \\right)} \\cos{\\left(\\theta_{1} \\right)} & - d_{3} \\sin{\\left(\\theta_{1} \\right)} \\cos{\\left(\\theta_{2} \\right)} & - \\sin{\\left(\\theta_{1} \\right)} \\sin{\\left(\\theta_{2} \\right)}\\\\0 & - d_{3} \\sin{\\left(\\theta_{2} \\right)} & \\cos{\\left(\\theta_{2} \\right)}\\end{matrix}\\right]$"
      ],
      "text/plain": [
       "⎡-l₁⋅sin(θ₁) + l₂⋅cos(θ₁) + d₃⋅sin(θ₁)⋅sin(θ₂)  -d₃⋅cos(θ₁)⋅cos(θ₂)  -sin(θ₂)⋅\n",
       "⎢                                                                             \n",
       "⎢l₁⋅cos(θ₁) + l₂⋅sin(θ₁) - d₃⋅sin(θ₂)⋅cos(θ₁)   -d₃⋅sin(θ₁)⋅cos(θ₂)  -sin(θ₁)⋅\n",
       "⎢                                                                             \n",
       "⎣                      0                            -d₃⋅sin(θ₂)          cos(θ\n",
       "\n",
       "cos(θ₁)⎤\n",
       "       ⎥\n",
       "sin(θ₂)⎥\n",
       "       ⎥\n",
       "₂)     ⎦"
      ]
     },
     "execution_count": 55,
     "metadata": {},
     "output_type": "execute_result"
    }
   ],
   "source": [
    "Jv = robot.linear_jacobian()\n",
    "Jv"
   ]
  },
  {
   "cell_type": "markdown",
   "metadata": {},
   "source": [
    "#### под б)\n",
    "\n",
    "Ќе ја искористиме равенката $ T = \\left({}^0 J\\right)^\\top \\,\\,{}^0 F$, но векторот на сили е даден во однос на друг коррдинатен систем, поточно ${}^3 F$. Затоа ќе го трансформираме соодветно множејќи го со ${}^0 R_3$. За да го пресметаме ${}^0 R_3$, ќе го искористиме DH моделот."
   ]
  },
  {
   "cell_type": "code",
   "execution_count": 56,
   "metadata": {},
   "outputs": [
    {
     "data": {
      "text/latex": [
       "$\\displaystyle \\left[\\begin{matrix}\\cos{\\left(\\theta_{1} \\right)} \\cos{\\left(\\theta_{2} \\right)} & - \\sin{\\left(\\theta_{1} \\right)} & - \\sin{\\left(\\theta_{2} \\right)} \\cos{\\left(\\theta_{1} \\right)}\\\\\\sin{\\left(\\theta_{1} \\right)} \\cos{\\left(\\theta_{2} \\right)} & \\cos{\\left(\\theta_{1} \\right)} & - \\sin{\\left(\\theta_{1} \\right)} \\sin{\\left(\\theta_{2} \\right)}\\\\\\sin{\\left(\\theta_{2} \\right)} & 0 & \\cos{\\left(\\theta_{2} \\right)}\\end{matrix}\\right]$"
      ],
      "text/plain": [
       "⎡cos(θ₁)⋅cos(θ₂)  -sin(θ₁)  -sin(θ₂)⋅cos(θ₁)⎤\n",
       "⎢                                           ⎥\n",
       "⎢sin(θ₁)⋅cos(θ₂)  cos(θ₁)   -sin(θ₁)⋅sin(θ₂)⎥\n",
       "⎢                                           ⎥\n",
       "⎣    sin(θ₂)         0          cos(θ₂)     ⎦"
      ]
     },
     "execution_count": 56,
     "metadata": {},
     "output_type": "execute_result"
    }
   ],
   "source": [
    "R_0_3 = robot.get_dh_matrix()[:3, :3]\n",
    "R_0_3"
   ]
  },
  {
   "cell_type": "code",
   "execution_count": 57,
   "metadata": {},
   "outputs": [
    {
     "data": {
      "text/latex": [
       "$\\displaystyle \\left[\\begin{matrix}1\\\\0\\\\0\\end{matrix}\\right]$"
      ],
      "text/plain": [
       "⎡1⎤\n",
       "⎢ ⎥\n",
       "⎢0⎥\n",
       "⎢ ⎥\n",
       "⎣0⎦"
      ]
     },
     "execution_count": 57,
     "metadata": {},
     "output_type": "execute_result"
    }
   ],
   "source": [
    "F_wrt_3 = sp.Matrix([1, 0, 0])\n",
    "F_wrt_3"
   ]
  },
  {
   "cell_type": "code",
   "execution_count": 58,
   "metadata": {},
   "outputs": [
    {
     "data": {
      "text/latex": [
       "$\\displaystyle \\left[\\begin{matrix}l_{2} \\cos{\\left(\\theta_{2} \\right)}\\\\- d_{3}\\\\0\\end{matrix}\\right]$"
      ],
      "text/plain": [
       "⎡l₂⋅cos(θ₂)⎤\n",
       "⎢          ⎥\n",
       "⎢   -d₃    ⎥\n",
       "⎢          ⎥\n",
       "⎣    0     ⎦"
      ]
     },
     "execution_count": 58,
     "metadata": {},
     "output_type": "execute_result"
    }
   ],
   "source": [
    "T = Jv.T * R_0_3 * F_wrt_3\n",
    "T.simplify()\n",
    "T"
   ]
  },
  {
   "cell_type": "code",
   "execution_count": 59,
   "metadata": {},
   "outputs": [
    {
     "data": {
      "text/latex": [
       "$\\displaystyle \\left[\\begin{matrix}\\frac{\\sqrt{3} l_{2}}{2}\\\\- 2 l_{1}\\\\0\\end{matrix}\\right]$"
      ],
      "text/plain": [
       "⎡√3⋅l₂⎤\n",
       "⎢─────⎥\n",
       "⎢  2  ⎥\n",
       "⎢     ⎥\n",
       "⎢-2⋅l₁⎥\n",
       "⎢     ⎥\n",
       "⎣  0  ⎦"
      ]
     },
     "execution_count": 59,
     "metadata": {},
     "output_type": "execute_result"
    }
   ],
   "source": [
    "T_subed = T.subs(theta1, sp.pi/2).subs(theta2, sp.pi/6).subs(d3, 2*l1)\n",
    "T_subed.simplify()\n",
    "T_subed"
   ]
  },
  {
   "cell_type": "markdown",
   "metadata": {},
   "source": [
    "### Задача 4.29"
   ]
  },
  {
   "cell_type": "code",
   "execution_count": 60,
   "metadata": {},
   "outputs": [
    {
     "data": {
      "text/html": [
       "\n",
       "        <iframe\n",
       "            width=\"400\"\n",
       "            height=\"300\"\n",
       "            src=\"https://drive.google.com/file/d/149g4RU6XirlQmHFqth1gzL2MKTqKMMLE/preview\"\n",
       "            frameborder=\"0\"\n",
       "            allowfullscreen\n",
       "        ></iframe>\n",
       "        "
      ],
      "text/plain": [
       "<IPython.lib.display.IFrame at 0x7fb880e2e7c0>"
      ]
     },
     "execution_count": 60,
     "metadata": {},
     "output_type": "execute_result"
    }
   ],
   "source": [
    "IFrame(src='https://drive.google.com/file/d/149g4RU6XirlQmHFqth1gzL2MKTqKMMLE/preview', width='400', height='300')"
   ]
  },
  {
   "cell_type": "markdown",
   "metadata": {},
   "source": [
    "Оваа задача се решава исто како и претходните задачи."
   ]
  },
  {
   "cell_type": "code",
   "execution_count": 61,
   "metadata": {},
   "outputs": [],
   "source": [
    "l1, l2, l3 = sp.symbols('l1, l2, l3')\n",
    "theta1, d2, theta3 = mechanics.dynamicsymbols('theta1, d2, theta3')"
   ]
  },
  {
   "cell_type": "code",
   "execution_count": 62,
   "metadata": {},
   "outputs": [
    {
     "data": {
      "text/latex": [
       "$\\displaystyle l_{1} \\cos{\\left(\\theta_{1} \\right)} - l_{2} \\sin{\\left(\\theta_{1} \\right)} + l_{3} \\cos{\\left(\\theta_{1} + \\theta_{3} \\right)} + d_{2} \\cos{\\left(\\theta_{1} \\right)}$"
      ],
      "text/plain": [
       "l₁⋅cos(θ₁) - l₂⋅sin(θ₁) + l₃⋅cos(θ₁ + θ₃) + d₂⋅cos(θ₁)"
      ]
     },
     "execution_count": 62,
     "metadata": {},
     "output_type": "execute_result"
    }
   ],
   "source": [
    "x = l1 * sp.cos(theta1) + d2 * sp.cos(theta1) + l2 * sp.cos(theta1 + sp.pi/2) + l3 * sp.cos(theta1 + theta3)\n",
    "x"
   ]
  },
  {
   "cell_type": "code",
   "execution_count": 63,
   "metadata": {},
   "outputs": [
    {
     "data": {
      "text/latex": [
       "$\\displaystyle l_{1} \\sin{\\left(\\theta_{1} \\right)} + l_{2} \\cos{\\left(\\theta_{1} \\right)} + l_{3} \\sin{\\left(\\theta_{1} + \\theta_{3} \\right)} + d_{2} \\sin{\\left(\\theta_{1} \\right)}$"
      ],
      "text/plain": [
       "l₁⋅sin(θ₁) + l₂⋅cos(θ₁) + l₃⋅sin(θ₁ + θ₃) + d₂⋅sin(θ₁)"
      ]
     },
     "execution_count": 63,
     "metadata": {},
     "output_type": "execute_result"
    }
   ],
   "source": [
    "y = l1 * sp.sin(theta1) + d2 * sp.sin(theta1) + l2 * sp.sin(theta1 + sp.pi/2) + l3 * sp.sin(theta1 + theta3)\n",
    "y"
   ]
  },
  {
   "cell_type": "code",
   "execution_count": 64,
   "metadata": {},
   "outputs": [
    {
     "data": {
      "text/latex": [
       "$\\displaystyle \\theta_{2} + \\theta_{3}$"
      ],
      "text/plain": [
       "θ₂ + θ₃"
      ]
     },
     "execution_count": 64,
     "metadata": {},
     "output_type": "execute_result"
    }
   ],
   "source": [
    "phi = theta2 + theta3\n",
    "phi"
   ]
  },
  {
   "cell_type": "code",
   "execution_count": 65,
   "metadata": {},
   "outputs": [
    {
     "data": {
      "text/latex": [
       "$\\displaystyle \\left[\\begin{matrix}- l_{1} \\sin{\\left(\\theta_{1} \\right)} - l_{2} \\cos{\\left(\\theta_{1} \\right)} - l_{3} \\sin{\\left(\\theta_{1} + \\theta_{3} \\right)} - d_{2} \\sin{\\left(\\theta_{1} \\right)} & \\cos{\\left(\\theta_{1} \\right)} & - l_{3} \\sin{\\left(\\theta_{1} + \\theta_{3} \\right)}\\\\l_{1} \\cos{\\left(\\theta_{1} \\right)} - l_{2} \\sin{\\left(\\theta_{1} \\right)} + l_{3} \\cos{\\left(\\theta_{1} + \\theta_{3} \\right)} + d_{2} \\cos{\\left(\\theta_{1} \\right)} & \\sin{\\left(\\theta_{1} \\right)} & l_{3} \\cos{\\left(\\theta_{1} + \\theta_{3} \\right)}\\\\0 & 0 & 1\\end{matrix}\\right]$"
      ],
      "text/plain": [
       "⎡-l₁⋅sin(θ₁) - l₂⋅cos(θ₁) - l₃⋅sin(θ₁ + θ₃) - d₂⋅sin(θ₁)  cos(θ₁)  -l₃⋅sin(θ₁ \n",
       "⎢                                                                             \n",
       "⎢l₁⋅cos(θ₁) - l₂⋅sin(θ₁) + l₃⋅cos(θ₁ + θ₃) + d₂⋅cos(θ₁)   sin(θ₁)  l₃⋅cos(θ₁ +\n",
       "⎢                                                                             \n",
       "⎣                           0                                0            1   \n",
       "\n",
       "+ θ₃)⎤\n",
       "     ⎥\n",
       " θ₃) ⎥\n",
       "     ⎥\n",
       "     ⎦"
      ]
     },
     "execution_count": 65,
     "metadata": {},
     "output_type": "execute_result"
    }
   ],
   "source": [
    "Jv = sp.Matrix([x, y, phi]).jacobian([theta1, d2, theta3])\n",
    "Jv"
   ]
  },
  {
   "cell_type": "markdown",
   "metadata": {},
   "source": [
    "Овој пат јакобијанот и векторот на сили се зададени во однос на ист координатен систем. Затоа само ќе ги помножиме и ќе ги добиеме моментите кои треба да ги генерираат зглобовите."
   ]
  },
  {
   "cell_type": "code",
   "execution_count": 66,
   "metadata": {},
   "outputs": [
    {
     "data": {
      "text/latex": [
       "$\\displaystyle \\left[\\begin{matrix}20\\\\10\\\\5\\end{matrix}\\right]$"
      ],
      "text/plain": [
       "⎡20⎤\n",
       "⎢  ⎥\n",
       "⎢10⎥\n",
       "⎢  ⎥\n",
       "⎣5 ⎦"
      ]
     },
     "execution_count": 66,
     "metadata": {},
     "output_type": "execute_result"
    }
   ],
   "source": [
    "F = sp.Matrix([20, 10, 5])\n",
    "F"
   ]
  },
  {
   "cell_type": "code",
   "execution_count": 67,
   "metadata": {},
   "outputs": [
    {
     "data": {
      "text/latex": [
       "$\\displaystyle \\left[\\begin{matrix}- 20 l_{1} \\sin{\\left(\\theta_{1} \\right)} + 10 l_{1} \\cos{\\left(\\theta_{1} \\right)} - 10 l_{2} \\sin{\\left(\\theta_{1} \\right)} - 20 l_{2} \\cos{\\left(\\theta_{1} \\right)} - 20 l_{3} \\sin{\\left(\\theta_{1} + \\theta_{3} \\right)} + 10 l_{3} \\cos{\\left(\\theta_{1} + \\theta_{3} \\right)} - 20 d_{2} \\sin{\\left(\\theta_{1} \\right)} + 10 d_{2} \\cos{\\left(\\theta_{1} \\right)}\\\\10 \\sin{\\left(\\theta_{1} \\right)} + 20 \\cos{\\left(\\theta_{1} \\right)}\\\\- 20 l_{3} \\sin{\\left(\\theta_{1} + \\theta_{3} \\right)} + 10 l_{3} \\cos{\\left(\\theta_{1} + \\theta_{3} \\right)} + 5\\end{matrix}\\right]$"
      ],
      "text/plain": [
       "⎡-20⋅l₁⋅sin(θ₁) + 10⋅l₁⋅cos(θ₁) - 10⋅l₂⋅sin(θ₁) - 20⋅l₂⋅cos(θ₁) - 20⋅l₃⋅sin(θ₁\n",
       "⎢                                                                             \n",
       "⎢                                                        10⋅sin(θ₁) + 20⋅cos(θ\n",
       "⎢                                                                             \n",
       "⎣                                              -20⋅l₃⋅sin(θ₁ + θ₃) + 10⋅l₃⋅cos\n",
       "\n",
       " + θ₃) + 10⋅l₃⋅cos(θ₁ + θ₃) - 20⋅d₂⋅sin(θ₁) + 10⋅d₂⋅cos(θ₁)⎤\n",
       "                                                           ⎥\n",
       "₁)                                                         ⎥\n",
       "                                                           ⎥\n",
       "(θ₁ + θ₃) + 5                                              ⎦"
      ]
     },
     "execution_count": 67,
     "metadata": {},
     "output_type": "execute_result"
    }
   ],
   "source": [
    "T = Jv.T * F\n",
    "T"
   ]
  },
  {
   "cell_type": "code",
   "execution_count": 68,
   "metadata": {},
   "outputs": [
    {
     "data": {
      "text/latex": [
       "$\\displaystyle \\left[\\begin{matrix}-31.9098179990674\\\\22.3205080756888\\\\-11.7303260747562\\end{matrix}\\right]$"
      ],
      "text/plain": [
       "⎡-31.9098179990674⎤\n",
       "⎢                 ⎥\n",
       "⎢22.3205080756888 ⎥\n",
       "⎢                 ⎥\n",
       "⎣-11.7303260747562⎦"
      ]
     },
     "execution_count": 68,
     "metadata": {},
     "output_type": "execute_result"
    }
   ],
   "source": [
    "T.subs(theta1, sp.pi/6).subs(d2, 2).subs(theta3, sp.pi/4).subs(l1, 1).subs(l2, 0.5).subs(l3, 1).evalf()"
   ]
  },
  {
   "cell_type": "code",
   "execution_count": null,
   "metadata": {},
   "outputs": [],
   "source": []
  },
  {
   "cell_type": "code",
   "execution_count": null,
   "metadata": {},
   "outputs": [],
   "source": []
  },
  {
   "cell_type": "code",
   "execution_count": null,
   "metadata": {},
   "outputs": [],
   "source": []
  }
 ],
 "metadata": {
  "kernelspec": {
   "display_name": "Python 3 (ipykernel)",
   "language": "python",
   "name": "python3"
  },
  "language_info": {
   "codemirror_mode": {
    "name": "ipython",
    "version": 3
   },
   "file_extension": ".py",
   "mimetype": "text/x-python",
   "name": "python",
   "nbconvert_exporter": "python",
   "pygments_lexer": "ipython3",
   "version": "3.10.0"
  }
 },
 "nbformat": 4,
 "nbformat_minor": 4
}
